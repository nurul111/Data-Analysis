{
 "cells": [
  {
   "cell_type": "code",
   "execution_count": 1,
   "id": "9cbec38e",
   "metadata": {},
   "outputs": [],
   "source": [
    "import pandas as pd"
   ]
  },
  {
   "cell_type": "code",
   "execution_count": 2,
   "id": "3586e7cc",
   "metadata": {},
   "outputs": [
    {
     "name": "stderr",
     "output_type": "stream",
     "text": [
      "C:\\Users\\Staff Asia\\anaconda3\\Lib\\site-packages\\paramiko\\transport.py:219: CryptographyDeprecationWarning:\n",
      "\n",
      "Blowfish has been deprecated\n",
      "\n"
     ]
    },
    {
     "data": {
      "text/html": [
       "        <script type=\"text/javascript\">\n",
       "        window.PlotlyConfig = {MathJaxConfig: 'local'};\n",
       "        if (window.MathJax && window.MathJax.Hub && window.MathJax.Hub.Config) {window.MathJax.Hub.Config({SVG: {font: \"STIX-Web\"}});}\n",
       "        if (typeof require !== 'undefined') {\n",
       "        require.undef(\"plotly\");\n",
       "        requirejs.config({\n",
       "            paths: {\n",
       "                'plotly': ['https://cdn.plot.ly/plotly-2.12.1.min']\n",
       "            }\n",
       "        });\n",
       "        require(['plotly'], function(Plotly) {\n",
       "            window._Plotly = Plotly;\n",
       "        });\n",
       "        }\n",
       "        </script>\n",
       "        "
      ]
     },
     "metadata": {},
     "output_type": "display_data"
    },
    {
     "data": {
      "text/html": [
       "        <script type=\"text/javascript\">\n",
       "        window.PlotlyConfig = {MathJaxConfig: 'local'};\n",
       "        if (window.MathJax && window.MathJax.Hub && window.MathJax.Hub.Config) {window.MathJax.Hub.Config({SVG: {font: \"STIX-Web\"}});}\n",
       "        if (typeof require !== 'undefined') {\n",
       "        require.undef(\"plotly\");\n",
       "        requirejs.config({\n",
       "            paths: {\n",
       "                'plotly': ['https://cdn.plot.ly/plotly-2.12.1.min']\n",
       "            }\n",
       "        });\n",
       "        require(['plotly'], function(Plotly) {\n",
       "            window._Plotly = Plotly;\n",
       "        });\n",
       "        }\n",
       "        </script>\n",
       "        "
      ]
     },
     "metadata": {},
     "output_type": "display_data"
    },
    {
     "data": {
      "text/plain": [
       "['ggplot', 'pearl', 'solar', 'space', 'white', 'polar', 'henanigans']"
      ]
     },
     "execution_count": 2,
     "metadata": {},
     "output_type": "execute_result"
    }
   ],
   "source": [
    "import cufflinks as cf\n",
    "from IPython.display import display,HTML\n",
    "cf.set_config_file(sharing='public', theme='ggplot', offline=True)\n",
    "#cf.go_offline()\n",
    "cf.getThemes()"
   ]
  },
  {
   "cell_type": "code",
   "execution_count": 3,
   "id": "0d0d06f0",
   "metadata": {},
   "outputs": [
    {
     "data": {
      "text/html": [
       "<div>\n",
       "<style scoped>\n",
       "    .dataframe tbody tr th:only-of-type {\n",
       "        vertical-align: middle;\n",
       "    }\n",
       "\n",
       "    .dataframe tbody tr th {\n",
       "        vertical-align: top;\n",
       "    }\n",
       "\n",
       "    .dataframe thead th {\n",
       "        text-align: right;\n",
       "    }\n",
       "</style>\n",
       "<table border=\"1\" class=\"dataframe\">\n",
       "  <thead>\n",
       "    <tr style=\"text-align: right;\">\n",
       "      <th></th>\n",
       "      <th>name</th>\n",
       "      <th>Year</th>\n",
       "      <th>Population</th>\n",
       "      <th>world pop</th>\n",
       "    </tr>\n",
       "  </thead>\n",
       "  <tbody>\n",
       "    <tr>\n",
       "      <th>0</th>\n",
       "      <td>India</td>\n",
       "      <td>2023</td>\n",
       "      <td>1,428,627,663</td>\n",
       "      <td>8,045,311,447</td>\n",
       "    </tr>\n",
       "    <tr>\n",
       "      <th>1</th>\n",
       "      <td>India</td>\n",
       "      <td>2022</td>\n",
       "      <td>1,417,173,173</td>\n",
       "      <td>7,975,105,156</td>\n",
       "    </tr>\n",
       "    <tr>\n",
       "      <th>2</th>\n",
       "      <td>India</td>\n",
       "      <td>2020</td>\n",
       "      <td>1,396,387,127</td>\n",
       "      <td>7,840,952,880</td>\n",
       "    </tr>\n",
       "    <tr>\n",
       "      <th>3</th>\n",
       "      <td>India</td>\n",
       "      <td>2015</td>\n",
       "      <td>1,322,866,505</td>\n",
       "      <td>7,426,597,537</td>\n",
       "    </tr>\n",
       "    <tr>\n",
       "      <th>4</th>\n",
       "      <td>India</td>\n",
       "      <td>2010</td>\n",
       "      <td>1,240,613,620</td>\n",
       "      <td>6,985,603,105</td>\n",
       "    </tr>\n",
       "    <tr>\n",
       "      <th>...</th>\n",
       "      <td>...</td>\n",
       "      <td>...</td>\n",
       "      <td>...</td>\n",
       "      <td>...</td>\n",
       "    </tr>\n",
       "    <tr>\n",
       "      <th>3179</th>\n",
       "      <td>United States</td>\n",
       "      <td>1955</td>\n",
       "      <td>161,136,449</td>\n",
       "      <td>2,746,072,141</td>\n",
       "    </tr>\n",
       "    <tr>\n",
       "      <th>3180</th>\n",
       "      <td>China</td>\n",
       "      <td>1965</td>\n",
       "      <td>723,846,349</td>\n",
       "      <td>3,337,111,983</td>\n",
       "    </tr>\n",
       "    <tr>\n",
       "      <th>3181</th>\n",
       "      <td>Bangladesh</td>\n",
       "      <td>1955</td>\n",
       "      <td>44,315,548</td>\n",
       "      <td>2,746,072,141</td>\n",
       "    </tr>\n",
       "    <tr>\n",
       "      <th>3182</th>\n",
       "      <td>China</td>\n",
       "      <td>1960</td>\n",
       "      <td>654,170,692</td>\n",
       "      <td>3,019,233,434</td>\n",
       "    </tr>\n",
       "    <tr>\n",
       "      <th>3183</th>\n",
       "      <td>China</td>\n",
       "      <td>1955</td>\n",
       "      <td>603,320,147</td>\n",
       "      <td>2,746,072,141</td>\n",
       "    </tr>\n",
       "  </tbody>\n",
       "</table>\n",
       "<p>3184 rows × 4 columns</p>\n",
       "</div>"
      ],
      "text/plain": [
       "               name  Year     Population      world pop\n",
       "0             India  2023  1,428,627,663  8,045,311,447\n",
       "1             India  2022  1,417,173,173  7,975,105,156\n",
       "2             India  2020  1,396,387,127  7,840,952,880\n",
       "3             India  2015  1,322,866,505  7,426,597,537\n",
       "4             India  2010  1,240,613,620  6,985,603,105\n",
       "...             ...   ...            ...            ...\n",
       "3179  United States  1955    161,136,449  2,746,072,141\n",
       "3180          China  1965    723,846,349  3,337,111,983\n",
       "3181     Bangladesh  1955     44,315,548  2,746,072,141\n",
       "3182          China  1960    654,170,692  3,019,233,434\n",
       "3183          China  1955    603,320,147  2,746,072,141\n",
       "\n",
       "[3184 rows x 4 columns]"
      ]
     },
     "execution_count": 3,
     "metadata": {},
     "output_type": "execute_result"
    }
   ],
   "source": [
    "#dataset\n",
    "df = pd.read_csv(\"pop_cntr.csv\")\n",
    "df"
   ]
  },
  {
   "cell_type": "code",
   "execution_count": 4,
   "id": "254347f5",
   "metadata": {},
   "outputs": [
    {
     "data": {
      "text/plain": [
       "199"
      ]
     },
     "execution_count": 4,
     "metadata": {},
     "output_type": "execute_result"
    }
   ],
   "source": [
    "df['name'].nunique()"
   ]
  },
  {
   "cell_type": "code",
   "execution_count": 5,
   "id": "7ca137d2",
   "metadata": {},
   "outputs": [
    {
     "data": {
      "text/plain": [
       "array([2023, 2022, 2020, 2015, 2010, 2005, 2000, 1995, 1990, 1985, 1980,\n",
       "       1975, 1970, 1965, 1960, 1955], dtype=int64)"
      ]
     },
     "execution_count": 5,
     "metadata": {},
     "output_type": "execute_result"
    }
   ],
   "source": [
    "df['Year'].unique()"
   ]
  },
  {
   "cell_type": "code",
   "execution_count": 6,
   "id": "176a0092",
   "metadata": {},
   "outputs": [
    {
     "data": {
      "text/html": [
       "<div>\n",
       "<style scoped>\n",
       "    .dataframe tbody tr th:only-of-type {\n",
       "        vertical-align: middle;\n",
       "    }\n",
       "\n",
       "    .dataframe tbody tr th {\n",
       "        vertical-align: top;\n",
       "    }\n",
       "\n",
       "    .dataframe thead th {\n",
       "        text-align: right;\n",
       "    }\n",
       "</style>\n",
       "<table border=\"1\" class=\"dataframe\">\n",
       "  <thead>\n",
       "    <tr style=\"text-align: right;\">\n",
       "      <th></th>\n",
       "      <th></th>\n",
       "      <th>Population</th>\n",
       "      <th>world pop</th>\n",
       "    </tr>\n",
       "    <tr>\n",
       "      <th>Year</th>\n",
       "      <th>name</th>\n",
       "      <th></th>\n",
       "      <th></th>\n",
       "    </tr>\n",
       "  </thead>\n",
       "  <tbody>\n",
       "    <tr>\n",
       "      <th rowspan=\"5\" valign=\"top\">1955</th>\n",
       "      <th>Afghanistan</th>\n",
       "      <td>7,971,931</td>\n",
       "      <td>2,746,072,141</td>\n",
       "    </tr>\n",
       "    <tr>\n",
       "      <th>Albania</th>\n",
       "      <td>1,453,730</td>\n",
       "      <td>2,746,072,141</td>\n",
       "    </tr>\n",
       "    <tr>\n",
       "      <th>Algeria</th>\n",
       "      <td>10,242,288</td>\n",
       "      <td>2,746,072,141</td>\n",
       "    </tr>\n",
       "    <tr>\n",
       "      <th>Angola</th>\n",
       "      <td>4,938,118</td>\n",
       "      <td>2,746,072,141</td>\n",
       "    </tr>\n",
       "    <tr>\n",
       "      <th>Antigua and Barbuda</th>\n",
       "      <td>50,264</td>\n",
       "      <td>2,746,072,141</td>\n",
       "    </tr>\n",
       "    <tr>\n",
       "      <th>...</th>\n",
       "      <th>...</th>\n",
       "      <td>...</td>\n",
       "      <td>...</td>\n",
       "    </tr>\n",
       "    <tr>\n",
       "      <th rowspan=\"5\" valign=\"top\">2023</th>\n",
       "      <th>Vietnam</th>\n",
       "      <td>98,858,950</td>\n",
       "      <td>8,045,311,447</td>\n",
       "    </tr>\n",
       "    <tr>\n",
       "      <th>Western Sahara</th>\n",
       "      <td>587,259</td>\n",
       "      <td>8,045,311,447</td>\n",
       "    </tr>\n",
       "    <tr>\n",
       "      <th>Yemen</th>\n",
       "      <td>34,449,825</td>\n",
       "      <td>8,045,311,447</td>\n",
       "    </tr>\n",
       "    <tr>\n",
       "      <th>Zambia</th>\n",
       "      <td>20,569,737</td>\n",
       "      <td>8,045,311,447</td>\n",
       "    </tr>\n",
       "    <tr>\n",
       "      <th>Zimbabwe</th>\n",
       "      <td>16,665,409</td>\n",
       "      <td>8,045,311,447</td>\n",
       "    </tr>\n",
       "  </tbody>\n",
       "</table>\n",
       "<p>3184 rows × 2 columns</p>\n",
       "</div>"
      ],
      "text/plain": [
       "                          Population      world pop\n",
       "Year name                                          \n",
       "1955 Afghanistan           7,971,931  2,746,072,141\n",
       "     Albania               1,453,730  2,746,072,141\n",
       "     Algeria              10,242,288  2,746,072,141\n",
       "     Angola                4,938,118  2,746,072,141\n",
       "     Antigua and Barbuda      50,264  2,746,072,141\n",
       "...                              ...            ...\n",
       "2023 Vietnam              98,858,950  8,045,311,447\n",
       "     Western Sahara          587,259  8,045,311,447\n",
       "     Yemen                34,449,825  8,045,311,447\n",
       "     Zambia               20,569,737  8,045,311,447\n",
       "     Zimbabwe             16,665,409  8,045,311,447\n",
       "\n",
       "[3184 rows x 2 columns]"
      ]
     },
     "execution_count": 6,
     "metadata": {},
     "output_type": "execute_result"
    }
   ],
   "source": [
    "#Grouping data\n",
    "df2 = df.groupby(['Year','name'])\n",
    "df3 = df2.first()\n",
    "df3"
   ]
  },
  {
   "cell_type": "code",
   "execution_count": 7,
   "id": "a19a661a",
   "metadata": {},
   "outputs": [
    {
     "data": {
      "text/html": [
       "<div>\n",
       "<style scoped>\n",
       "    .dataframe tbody tr th:only-of-type {\n",
       "        vertical-align: middle;\n",
       "    }\n",
       "\n",
       "    .dataframe tbody tr th {\n",
       "        vertical-align: top;\n",
       "    }\n",
       "\n",
       "    .dataframe thead th {\n",
       "        text-align: right;\n",
       "    }\n",
       "</style>\n",
       "<table border=\"1\" class=\"dataframe\">\n",
       "  <thead>\n",
       "    <tr style=\"text-align: right;\">\n",
       "      <th></th>\n",
       "      <th>name</th>\n",
       "      <th>Year</th>\n",
       "      <th>Population</th>\n",
       "      <th>world pop</th>\n",
       "    </tr>\n",
       "  </thead>\n",
       "  <tbody>\n",
       "    <tr>\n",
       "      <th>3183</th>\n",
       "      <td>China</td>\n",
       "      <td>1955</td>\n",
       "      <td>603,320,147</td>\n",
       "      <td>2,746,072,141</td>\n",
       "    </tr>\n",
       "    <tr>\n",
       "      <th>2404</th>\n",
       "      <td>Portugal</td>\n",
       "      <td>1955</td>\n",
       "      <td>8,665,451</td>\n",
       "      <td>2,746,072,141</td>\n",
       "    </tr>\n",
       "    <tr>\n",
       "      <th>2405</th>\n",
       "      <td>Papua New Guinea</td>\n",
       "      <td>1955</td>\n",
       "      <td>1,734,921</td>\n",
       "      <td>2,746,072,141</td>\n",
       "    </tr>\n",
       "    <tr>\n",
       "      <th>2406</th>\n",
       "      <td>Greece</td>\n",
       "      <td>1955</td>\n",
       "      <td>8,146,022</td>\n",
       "      <td>2,746,072,141</td>\n",
       "    </tr>\n",
       "    <tr>\n",
       "      <th>2407</th>\n",
       "      <td>Azerbaijan</td>\n",
       "      <td>1955</td>\n",
       "      <td>3,550,017</td>\n",
       "      <td>2,746,072,141</td>\n",
       "    </tr>\n",
       "    <tr>\n",
       "      <th>...</th>\n",
       "      <td>...</td>\n",
       "      <td>...</td>\n",
       "      <td>...</td>\n",
       "      <td>...</td>\n",
       "    </tr>\n",
       "    <tr>\n",
       "      <th>626</th>\n",
       "      <td>North Macedonia</td>\n",
       "      <td>2023</td>\n",
       "      <td>2,085,679</td>\n",
       "      <td>8,045,311,447</td>\n",
       "    </tr>\n",
       "    <tr>\n",
       "      <th>2399</th>\n",
       "      <td>Germany</td>\n",
       "      <td>2023</td>\n",
       "      <td>83,294,633</td>\n",
       "      <td>8,045,311,447</td>\n",
       "    </tr>\n",
       "    <tr>\n",
       "      <th>2398</th>\n",
       "      <td>Iraq</td>\n",
       "      <td>2023</td>\n",
       "      <td>45,504,560</td>\n",
       "      <td>8,045,311,447</td>\n",
       "    </tr>\n",
       "    <tr>\n",
       "      <th>620</th>\n",
       "      <td>Gabon</td>\n",
       "      <td>2023</td>\n",
       "      <td>2,436,566</td>\n",
       "      <td>8,045,311,447</td>\n",
       "    </tr>\n",
       "    <tr>\n",
       "      <th>0</th>\n",
       "      <td>India</td>\n",
       "      <td>2023</td>\n",
       "      <td>1,428,627,663</td>\n",
       "      <td>8,045,311,447</td>\n",
       "    </tr>\n",
       "  </tbody>\n",
       "</table>\n",
       "<p>3184 rows × 4 columns</p>\n",
       "</div>"
      ],
      "text/plain": [
       "                  name  Year     Population      world pop\n",
       "3183             China  1955    603,320,147  2,746,072,141\n",
       "2404          Portugal  1955      8,665,451  2,746,072,141\n",
       "2405  Papua New Guinea  1955      1,734,921  2,746,072,141\n",
       "2406            Greece  1955      8,146,022  2,746,072,141\n",
       "2407        Azerbaijan  1955      3,550,017  2,746,072,141\n",
       "...                ...   ...            ...            ...\n",
       "626    North Macedonia  2023      2,085,679  8,045,311,447\n",
       "2399           Germany  2023     83,294,633  8,045,311,447\n",
       "2398              Iraq  2023     45,504,560  8,045,311,447\n",
       "620              Gabon  2023      2,436,566  8,045,311,447\n",
       "0                India  2023  1,428,627,663  8,045,311,447\n",
       "\n",
       "[3184 rows x 4 columns]"
      ]
     },
     "execution_count": 7,
     "metadata": {},
     "output_type": "execute_result"
    }
   ],
   "source": [
    "#value sorting by year\n",
    "df = df.sort_values(by=['Year'],ascending=True)\n",
    "df"
   ]
  },
  {
   "cell_type": "code",
   "execution_count": 8,
   "id": "dd698bc0",
   "metadata": {},
   "outputs": [
    {
     "data": {
      "text/html": [
       "<div>\n",
       "<style scoped>\n",
       "    .dataframe tbody tr th:only-of-type {\n",
       "        vertical-align: middle;\n",
       "    }\n",
       "\n",
       "    .dataframe tbody tr th {\n",
       "        vertical-align: top;\n",
       "    }\n",
       "\n",
       "    .dataframe thead th {\n",
       "        text-align: right;\n",
       "    }\n",
       "</style>\n",
       "<table border=\"1\" class=\"dataframe\">\n",
       "  <thead>\n",
       "    <tr style=\"text-align: right;\">\n",
       "      <th>name</th>\n",
       "      <th>Afghanistan</th>\n",
       "      <th>Albania</th>\n",
       "      <th>Algeria</th>\n",
       "      <th>Angola</th>\n",
       "      <th>Antigua and Barbuda</th>\n",
       "      <th>Argentina</th>\n",
       "      <th>Armenia</th>\n",
       "      <th>Aruba</th>\n",
       "      <th>Australia</th>\n",
       "      <th>Austria</th>\n",
       "      <th>...</th>\n",
       "      <th>United States</th>\n",
       "      <th>Uruguay</th>\n",
       "      <th>Uzbekistan</th>\n",
       "      <th>Vanuatu</th>\n",
       "      <th>Venezuela</th>\n",
       "      <th>Vietnam</th>\n",
       "      <th>Western Sahara</th>\n",
       "      <th>Yemen</th>\n",
       "      <th>Zambia</th>\n",
       "      <th>Zimbabwe</th>\n",
       "    </tr>\n",
       "    <tr>\n",
       "      <th>Year</th>\n",
       "      <th></th>\n",
       "      <th></th>\n",
       "      <th></th>\n",
       "      <th></th>\n",
       "      <th></th>\n",
       "      <th></th>\n",
       "      <th></th>\n",
       "      <th></th>\n",
       "      <th></th>\n",
       "      <th></th>\n",
       "      <th></th>\n",
       "      <th></th>\n",
       "      <th></th>\n",
       "      <th></th>\n",
       "      <th></th>\n",
       "      <th></th>\n",
       "      <th></th>\n",
       "      <th></th>\n",
       "      <th></th>\n",
       "      <th></th>\n",
       "      <th></th>\n",
       "    </tr>\n",
       "  </thead>\n",
       "  <tbody>\n",
       "    <tr>\n",
       "      <th>1955</th>\n",
       "      <td>7,971,931</td>\n",
       "      <td>1,453,730</td>\n",
       "      <td>10,242,288</td>\n",
       "      <td>4,938,118</td>\n",
       "      <td>50,264</td>\n",
       "      <td>18,700,686</td>\n",
       "      <td>1,604,376</td>\n",
       "      <td>46,464</td>\n",
       "      <td>9,209,844</td>\n",
       "      <td>6,946,260</td>\n",
       "      <td>...</td>\n",
       "      <td>161,136,449</td>\n",
       "      <td>2,366,209</td>\n",
       "      <td>7,141,923</td>\n",
       "      <td>56,770</td>\n",
       "      <td>6,752,139</td>\n",
       "      <td>28,263,031</td>\n",
       "      <td>20,690</td>\n",
       "      <td>5,091,603</td>\n",
       "      <td>2,677,209</td>\n",
       "      <td>3,263,625</td>\n",
       "    </tr>\n",
       "    <tr>\n",
       "      <th>1960</th>\n",
       "      <td>8,622,466</td>\n",
       "      <td>1,711,189</td>\n",
       "      <td>11,394,307</td>\n",
       "      <td>5,357,195</td>\n",
       "      <td>55,342</td>\n",
       "      <td>20,349,744</td>\n",
       "      <td>1,904,148</td>\n",
       "      <td>54,608</td>\n",
       "      <td>10,286,647</td>\n",
       "      <td>7,046,553</td>\n",
       "      <td>...</td>\n",
       "      <td>176,188,578</td>\n",
       "      <td>2,529,021</td>\n",
       "      <td>8,372,311</td>\n",
       "      <td>64,608</td>\n",
       "      <td>8,156,937</td>\n",
       "      <td>32,718,461</td>\n",
       "      <td>33,023</td>\n",
       "      <td>5,542,459</td>\n",
       "      <td>3,119,430</td>\n",
       "      <td>3,806,310</td>\n",
       "    </tr>\n",
       "    <tr>\n",
       "      <th>1965</th>\n",
       "      <td>9,565,147</td>\n",
       "      <td>2,009,789</td>\n",
       "      <td>12,381,256</td>\n",
       "      <td>5,736,582</td>\n",
       "      <td>59,644</td>\n",
       "      <td>22,053,661</td>\n",
       "      <td>2,234,051</td>\n",
       "      <td>58,782</td>\n",
       "      <td>11,359,442</td>\n",
       "      <td>7,269,888</td>\n",
       "      <td>...</td>\n",
       "      <td>189,703,283</td>\n",
       "      <td>2,680,427</td>\n",
       "      <td>10,130,096</td>\n",
       "      <td>74,677</td>\n",
       "      <td>9,688,138</td>\n",
       "      <td>37,466,077</td>\n",
       "      <td>51,206</td>\n",
       "      <td>6,097,298</td>\n",
       "      <td>3,658,024</td>\n",
       "      <td>4,447,149</td>\n",
       "    </tr>\n",
       "  </tbody>\n",
       "</table>\n",
       "<p>3 rows × 199 columns</p>\n",
       "</div>"
      ],
      "text/plain": [
       "name Afghanistan    Albania     Algeria     Angola Antigua and Barbuda  \\\n",
       "Year                                                                     \n",
       "1955   7,971,931  1,453,730  10,242,288  4,938,118              50,264   \n",
       "1960   8,622,466  1,711,189  11,394,307  5,357,195              55,342   \n",
       "1965   9,565,147  2,009,789  12,381,256  5,736,582              59,644   \n",
       "\n",
       "name   Argentina    Armenia   Aruba   Australia    Austria  ... United States  \\\n",
       "Year                                                        ...                 \n",
       "1955  18,700,686  1,604,376  46,464   9,209,844  6,946,260  ...   161,136,449   \n",
       "1960  20,349,744  1,904,148  54,608  10,286,647  7,046,553  ...   176,188,578   \n",
       "1965  22,053,661  2,234,051  58,782  11,359,442  7,269,888  ...   189,703,283   \n",
       "\n",
       "name    Uruguay  Uzbekistan Vanuatu  Venezuela     Vietnam Western Sahara  \\\n",
       "Year                                                                        \n",
       "1955  2,366,209   7,141,923  56,770  6,752,139  28,263,031         20,690   \n",
       "1960  2,529,021   8,372,311  64,608  8,156,937  32,718,461         33,023   \n",
       "1965  2,680,427  10,130,096  74,677  9,688,138  37,466,077         51,206   \n",
       "\n",
       "name      Yemen     Zambia   Zimbabwe  \n",
       "Year                                   \n",
       "1955  5,091,603  2,677,209  3,263,625  \n",
       "1960  5,542,459  3,119,430  3,806,310  \n",
       "1965  6,097,298  3,658,024  4,447,149  \n",
       "\n",
       "[3 rows x 199 columns]"
      ]
     },
     "execution_count": 8,
     "metadata": {},
     "output_type": "execute_result"
    }
   ],
   "source": [
    "#making pivot for visualization\n",
    "df_pivot = df.pivot(index='Year', columns='name', values='Population')\n",
    "df_pivot.head(3)"
   ]
  },
  {
   "cell_type": "code",
   "execution_count": 9,
   "id": "f0e6b548",
   "metadata": {},
   "outputs": [
    {
     "data": {
      "application/vnd.plotly.v1+json": {
       "config": {
        "linkText": "Export to plot.ly",
        "plotlyServerURL": "https://plot.ly",
        "showLink": true
       },
       "data": [
        {
         "marker": {
          "color": "rgba(226, 74, 51, 0.6)",
          "line": {
           "color": "rgba(226, 74, 51, 1.0)",
           "width": 1
          }
         },
         "name": "State of Palestine",
         "orientation": "v",
         "text": "",
         "type": "bar",
         "x": [
          1955,
          1960,
          1965,
          1970,
          1975,
          1980,
          1985,
          1990,
          1995,
          2000,
          2005,
          2010,
          2015,
          2020,
          2022,
          2023
         ],
         "y": [
          "997,117",
          "1,073,842",
          "1,148,517",
          "1,118,241",
          "1,263,706",
          "1,453,620",
          "1,731,085",
          "2,124,609",
          "2,623,144",
          "3,139,954",
          "3,541,193",
          "3,992,278",
          "4,484,614",
          "5,019,401",
          "5,250,072",
          "5,371,230"
         ]
        },
        {
         "marker": {
          "color": "rgba(62, 111, 176, 0.6)",
          "line": {
           "color": "rgba(62, 111, 176, 1.0)",
           "width": 1
          }
         },
         "name": "Panama",
         "orientation": "v",
         "text": "",
         "type": "bar",
         "x": [
          1955,
          1960,
          1965,
          1970,
          1975,
          1980,
          1985,
          1990,
          1995,
          2000,
          2005,
          2010,
          2015,
          2020,
          2022,
          2023
         ],
         "y": [
          "980,004",
          "1,126,989",
          "1,310,556",
          "1,516,188",
          "1,734,876",
          "1,956,987",
          "2,197,065",
          "2,449,968",
          "2,716,067",
          "3,001,731",
          "3,305,868",
          "3,623,617",
          "3,957,099",
          "4,294,396",
          "4,408,581",
          "4,468,087"
         ]
        },
        {
         "marker": {
          "color": "rgba(132, 118, 202, 0.6)",
          "line": {
           "color": "rgba(132, 118, 202, 1.0)",
           "width": 1
          }
         },
         "name": "Samoa",
         "orientation": "v",
         "text": "",
         "type": "bar",
         "x": [
          1955,
          1960,
          1965,
          1970,
          1975,
          1980,
          1985,
          1990,
          1995,
          2000,
          2005,
          2010,
          2015,
          2020,
          2022,
          2023
         ],
         "y": [
          "98,037",
          "113,335",
          "129,789",
          "142,771",
          "155,263",
          "164,905",
          "166,517",
          "168,186",
          "174,902",
          "184,008",
          "188,626",
          "194,672",
          "203,571",
          "214,929",
          "222,382",
          "225,681"
         ]
        },
        {
         "marker": {
          "color": "rgba(101, 101, 101, 0.6)",
          "line": {
           "color": "rgba(101, 101, 101, 1.0)",
           "width": 1
          }
         },
         "name": "Congo",
         "orientation": "v",
         "text": "",
         "type": "bar",
         "x": [
          1955,
          1960,
          1965,
          1970,
          1975,
          1980,
          1985,
          1990,
          1995,
          2000,
          2005,
          2010,
          2015,
          2020,
          2022,
          2023
         ],
         "y": [
          "933,418",
          "1,055,693",
          "1,207,412",
          "1,396,989",
          "1,624,935",
          "1,829,256",
          "2,062,555",
          "2,385,435",
          "2,742,309",
          "3,134,030",
          "3,672,839",
          "4,437,884",
          "5,064,386",
          "5,702,174",
          "5,970,424",
          "6,106,869"
         ]
        },
        {
         "marker": {
          "color": "rgba(251, 193, 94, 0.6)",
          "line": {
           "color": "rgba(251, 193, 94, 1.0)",
           "width": 1
          }
         },
         "name": "Bahamas",
         "orientation": "v",
         "text": "",
         "type": "bar",
         "x": [
          1955,
          1960,
          1965,
          1970,
          1975,
          1980,
          1985,
          1990,
          1995,
          2000,
          2005,
          2010,
          2015,
          2020,
          2022,
          2023
         ],
         "y": [
          "92,444",
          "114,500",
          "144,849",
          "179,129",
          "201,881",
          "223,752",
          "245,935",
          "270,679",
          "299,554",
          "325,014",
          "347,804",
          "373,272",
          "392,697",
          "406,471",
          "409,984",
          "412,623"
         ]
        },
        {
         "marker": {
          "color": "rgba(142, 186, 66, 0.6)",
          "line": {
           "color": "rgba(142, 186, 66, 1.0)",
           "width": 1
          }
         },
         "name": "Japan",
         "orientation": "v",
         "text": "",
         "type": "bar",
         "x": [
          1955,
          1960,
          1965,
          1970,
          1975,
          1980,
          1985,
          1990,
          1995,
          2000,
          2005,
          2010,
          2015,
          2020,
          2022,
          2023
         ],
         "y": [
          "90,090,281",
          "94,464,839",
          "99,468,746",
          "105,416,839",
          "112,411,640",
          "117,624,196",
          "121,119,031",
          "123,686,321",
          "125,433,969",
          "126,803,861",
          "127,798,373",
          "128,105,431",
          "127,250,933",
          "125,244,761",
          "123,951,692",
          "123,294,513"
         ]
        },
        {
         "marker": {
          "color": "rgba(255, 181, 184, 0.6)",
          "line": {
           "color": "rgba(255, 181, 184, 1.0)",
           "width": 1
          }
         },
         "name": "Hungary",
         "orientation": "v",
         "text": "",
         "type": "bar",
         "x": [
          1955,
          1960,
          1965,
          1970,
          1975,
          1980,
          1985,
          1990,
          1995,
          2000,
          2005,
          2010,
          2015,
          2020,
          2022,
          2023
         ],
         "y": [
          "9,823,331",
          "9,982,610",
          "10,140,853",
          "10,315,366",
          "10,520,237",
          "10,698,679",
          "10,542,754",
          "10,375,989",
          "10,327,169",
          "10,202,055",
          "10,073,525",
          "9,986,825",
          "9,844,246",
          "9,750,573",
          "9,967,308",
          "10,156,239"
         ]
        },
        {
         "marker": {
          "color": "rgba(255, 181, 184, 0.6)",
          "line": {
           "color": "rgba(255, 181, 184, 0.971859296482412)",
           "width": 1
          }
         },
         "name": "Czech Republic (Czechia)",
         "orientation": "v",
         "text": "",
         "type": "bar",
         "x": [
          1955,
          1960,
          1965,
          1970,
          1975,
          1980,
          1985,
          1990,
          1995,
          2000,
          2005,
          2010,
          2015,
          2020,
          2022,
          2023
         ],
         "y": [
          "9,288,972",
          "9,539,362",
          "9,702,730",
          "9,795,744",
          "10,025,715",
          "10,270,060",
          "10,302,326",
          "10,301,192",
          "10,311,702",
          "10,234,710",
          "10,280,113",
          "10,464,749",
          "10,523,798",
          "10,530,953",
          "10,493,986",
          "10,495,295"
         ]
        },
        {
         "marker": {
          "color": "rgba(226, 74, 51, 0.6)",
          "line": {
           "color": "rgba(226, 74, 51, 0.971859296482412)",
           "width": 1
          }
         },
         "name": "Nepal",
         "orientation": "v",
         "text": "",
         "type": "bar",
         "x": [
          1955,
          1960,
          1965,
          1970,
          1975,
          1980,
          1985,
          1990,
          1995,
          2000,
          2005,
          2010,
          2015,
          2020,
          2022,
          2023
         ],
         "y": [
          "9,284,895",
          "10,167,941",
          "11,232,951",
          "12,501,285",
          "13,925,541",
          "15,600,442",
          "17,540,571",
          "19,616,530",
          "22,305,571",
          "24,559,500",
          "26,285,110",
          "27,161,567",
          "27,610,325",
          "29,348,627",
          "30,547,580",
          "30,896,590"
         ]
        },
        {
         "marker": {
          "color": "rgba(62, 111, 176, 0.6)",
          "line": {
           "color": "rgba(62, 111, 176, 0.971859296482412)",
           "width": 1
          }
         },
         "name": "Taiwan",
         "orientation": "v",
         "text": "",
         "type": "bar",
         "x": [
          1955,
          1960,
          1965,
          1970,
          1975,
          1980,
          1985,
          1990,
          1995,
          2000,
          2005,
          2010,
          2015,
          2020,
          2022,
          2023
         ],
         "y": [
          "9,229,462",
          "10,983,147",
          "13,070,708",
          "14,957,870",
          "16,551,774",
          "18,100,281",
          "19,511,876",
          "20,586,174",
          "21,455,813",
          "22,194,731",
          "22,796,306",
          "23,083,083",
          "23,512,136",
          "23,821,464",
          "23,893,394",
          "23,923,276"
         ]
        },
        {
         "marker": {
          "color": "rgba(132, 118, 202, 0.6)",
          "line": {
           "color": "rgba(132, 118, 202, 0.971859296482412)",
           "width": 1
          }
         },
         "name": "Australia",
         "orientation": "v",
         "text": "",
         "type": "bar",
         "x": [
          1955,
          1960,
          1965,
          1970,
          1975,
          1980,
          1985,
          1990,
          1995,
          2000,
          2005,
          2010,
          2015,
          2020,
          2022,
          2023
         ],
         "y": [
          "9,209,844",
          "10,286,647",
          "11,359,442",
          "12,595,034",
          "13,886,854",
          "14,706,322",
          "15,785,682",
          "17,048,003",
          "18,002,999",
          "19,017,963",
          "20,171,731",
          "22,019,168",
          "23,820,236",
          "25,670,051",
          "26,177,413",
          "26,439,111"
         ]
        },
        {
         "marker": {
          "color": "rgba(101, 101, 101, 0.6)",
          "line": {
           "color": "rgba(101, 101, 101, 0.971859296482412)",
           "width": 1
          }
         },
         "name": "Eritrea",
         "orientation": "v",
         "text": "",
         "type": "bar",
         "x": [
          1955,
          1960,
          1965,
          1970,
          1975,
          1980,
          1985,
          1990,
          1995,
          2000,
          2005,
          2010,
          2015,
          2020,
          2022,
          2023
         ],
         "y": [
          "895,009",
          "993,568",
          "1,121,739",
          "1,272,748",
          "1,450,867",
          "1,657,982",
          "1,899,243",
          "2,149,960",
          "2,157,220",
          "2,392,880",
          "2,831,732",
          "3,147,727",
          "3,340,006",
          "3,555,868",
          "3,684,032",
          "3,748,901"
         ]
        },
        {
         "marker": {
          "color": "rgba(251, 193, 94, 0.6)",
          "line": {
           "color": "rgba(251, 193, 94, 0.971859296482412)",
           "width": 1
          }
         },
         "name": "Saint Lucia",
         "orientation": "v",
         "text": "",
         "type": "bar",
         "x": [
          1955,
          1960,
          1965,
          1970,
          1975,
          1980,
          1985,
          1990,
          1995,
          2000,
          2005,
          2010,
          2015,
          2020,
          2022,
          2023
         ],
         "y": [
          "88,463",
          "91,614",
          "97,024",
          "103,090",
          "111,497",
          "121,633",
          "132,751",
          "142,301",
          "152,348",
          "159,500",
          "165,386",
          "170,935",
          "175,623",
          "179,237",
          "179,857",
          "180,251"
         ]
        },
        {
         "marker": {
          "color": "rgba(142, 186, 66, 0.6)",
          "line": {
           "color": "rgba(142, 186, 66, 0.971859296482412)",
           "width": 1
          }
         },
         "name": "Mongolia",
         "orientation": "v",
         "text": "",
         "type": "bar",
         "x": [
          1955,
          1960,
          1965,
          1970,
          1975,
          1980,
          1985,
          1990,
          1995,
          2000,
          2005,
          2010,
          2015,
          2020,
          2022,
          2023
         ],
         "y": [
          "844,997",
          "977,903",
          "1,134,072",
          "1,293,880",
          "1,485,691",
          "1,697,780",
          "1,919,744",
          "2,161,433",
          "2,330,334",
          "2,450,979",
          "2,559,255",
          "2,702,520",
          "2,964,749",
          "3,294,335",
          "3,398,366",
          "3,447,157"
         ]
        },
        {
         "marker": {
          "color": "rgba(142, 186, 66, 0.6)",
          "line": {
           "color": "rgba(142, 186, 66, 0.9437185929648242)",
           "width": 1
          }
         },
         "name": "Grenada",
         "orientation": "v",
         "text": "",
         "type": "bar",
         "x": [
          1955,
          1960,
          1965,
          1970,
          1975,
          1980,
          1985,
          1990,
          1995,
          2000,
          2005,
          2010,
          2015,
          2020,
          2022,
          2023
         ],
         "y": [
          "82,656",
          "93,772",
          "98,226",
          "98,794",
          "97,165",
          "94,838",
          "100,576",
          "99,047",
          "104,060",
          "107,432",
          "110,254",
          "114,039",
          "118,980",
          "123,663",
          "125,438",
          "126,183"
         ]
        },
        {
         "marker": {
          "color": "rgba(255, 181, 184, 0.6)",
          "line": {
           "color": "rgba(255, 181, 184, 0.9437185929648242)",
           "width": 1
          }
         },
         "name": "Maldives",
         "orientation": "v",
         "text": "",
         "type": "bar",
         "x": [
          1955,
          1960,
          1965,
          1970,
          1975,
          1980,
          1985,
          1990,
          1995,
          2000,
          2005,
          2010,
          2015,
          2020,
          2022,
          2023
         ],
         "y": [
          "81,823",
          "91,650",
          "104,566",
          "123,243",
          "143,126",
          "164,887",
          "190,383",
          "224,957",
          "258,208",
          "282,507",
          "307,018",
          "361,575",
          "435,582",
          "514,438",
          "523,787",
          "521,021"
         ]
        },
        {
         "marker": {
          "color": "rgba(226, 74, 51, 0.6)",
          "line": {
           "color": "rgba(226, 74, 51, 0.9437185929648242)",
           "width": 1
          }
         },
         "name": "Belgium",
         "orientation": "v",
         "text": "",
         "type": "bar",
         "x": [
          1955,
          1960,
          1965,
          1970,
          1975,
          1980,
          1985,
          1990,
          1995,
          2000,
          2005,
          2010,
          2015,
          2020,
          2022,
          2023
         ],
         "y": [
          "8,834,526",
          "9,108,724",
          "9,412,087",
          "9,629,376",
          "9,763,430",
          "9,828,986",
          "9,880,534",
          "9,959,560",
          "10,095,198",
          "10,264,343",
          "10,516,978",
          "10,877,947",
          "11,248,303",
          "11,561,717",
          "11,655,930",
          "11,686,140"
         ]
        },
        {
         "marker": {
          "color": "rgba(62, 111, 176, 0.6)",
          "line": {
           "color": "rgba(62, 111, 176, 0.9437185929648242)",
           "width": 1
          }
         },
         "name": "Peru",
         "orientation": "v",
         "text": "",
         "type": "bar",
         "x": [
          1955,
          1960,
          1965,
          1970,
          1975,
          1980,
          1985,
          1990,
          1995,
          2000,
          2005,
          2010,
          2015,
          2020,
          2022,
          2023
         ],
         "y": [
          "8,825,897",
          "10,172,207",
          "11,781,581",
          "13,562,371",
          "15,441,497",
          "17,492,406",
          "19,746,610",
          "22,109,099",
          "24,449,055",
          "26,654,439",
          "28,147,267",
          "29,229,572",
          "30,711,863",
          "33,304,756",
          "34,049,588",
          "34,352,719"
         ]
        },
        {
         "marker": {
          "color": "rgba(132, 118, 202, 0.6)",
          "line": {
           "color": "rgba(132, 118, 202, 0.9437185929648242)",
           "width": 1
          }
         },
         "name": "Sri Lanka",
         "orientation": "v",
         "text": "",
         "type": "bar",
         "x": [
          1955,
          1960,
          1965,
          1970,
          1975,
          1980,
          1985,
          1990,
          1995,
          2000,
          2005,
          2010,
          2015,
          2020,
          2022,
          2023
         ],
         "y": [
          "8,749,627",
          "9,783,871",
          "11,035,224",
          "12,388,769",
          "13,662,873",
          "14,943,645",
          "16,092,338",
          "17,204,094",
          "18,177,572",
          "18,776,371",
          "19,673,866",
          "20,668,557",
          "21,336,697",
          "21,715,079",
          "21,832,143",
          "21,893,579"
         ]
        },
        {
         "marker": {
          "color": "rgba(101, 101, 101, 0.6)",
          "line": {
           "color": "rgba(101, 101, 101, 0.9437185929648242)",
           "width": 1
          }
         },
         "name": "Tanzania",
         "orientation": "v",
         "text": "",
         "type": "bar",
         "x": [
          1955,
          1960,
          1965,
          1970,
          1975,
          1980,
          1985,
          1990,
          1995,
          2000,
          2005,
          2010,
          2015,
          2020,
          2022,
          2023
         ],
         "y": [
          "8,725,576",
          "10,042,458",
          "11,630,603",
          "13,618,192",
          "16,243,826",
          "19,297,659",
          "22,569,625",
          "26,206,012",
          "30,560,071",
          "34,463,704",
          "39,439,505",
          "45,110,527",
          "52,542,823",
          "61,704,518",
          "65,497,748",
          "67,438,106"
         ]
        },
        {
         "marker": {
          "color": "rgba(251, 193, 94, 0.6)",
          "line": {
           "color": "rgba(251, 193, 94, 0.9437185929648242)",
           "width": 1
          }
         },
         "name": "Portugal",
         "orientation": "v",
         "text": "",
         "type": "bar",
         "x": [
          1955,
          1960,
          1965,
          1970,
          1975,
          1980,
          1985,
          1990,
          1995,
          2000,
          2005,
          2010,
          2015,
          2020,
          2022,
          2023
         ],
         "y": [
          "8,665,451",
          "8,882,469",
          "8,899,092",
          "8,683,631",
          "9,202,709",
          "9,785,252",
          "9,996,896",
          "10,007,346",
          "10,051,248",
          "10,300,626",
          "10,523,315",
          "10,588,401",
          "10,365,435",
          "10,298,192",
          "10,270,865",
          "10,247,605"
         ]
        },
        {
         "marker": {
          "color": "rgba(251, 193, 94, 0.6)",
          "line": {
           "color": "rgba(251, 193, 94, 0.9155778894472362)",
           "width": 1
          }
         },
         "name": "Greece",
         "orientation": "v",
         "text": "",
         "type": "bar",
         "x": [
          1955,
          1960,
          1965,
          1970,
          1975,
          1980,
          1985,
          1990,
          1995,
          2000,
          2005,
          2010,
          2015,
          2020,
          2022,
          2023
         ],
         "y": [
          "8,146,022",
          "8,495,415",
          "8,526,254",
          "8,544,873",
          "8,805,415",
          "9,307,148",
          "9,840,141",
          "10,302,255",
          "10,727,927",
          "11,038,109",
          "11,113,448",
          "11,033,783",
          "10,806,641",
          "10,512,232",
          "10,384,971",
          "10,341,277"
         ]
        },
        {
         "marker": {
          "color": "rgba(142, 186, 66, 0.6)",
          "line": {
           "color": "rgba(142, 186, 66, 0.9155778894472362)",
           "width": 1
          }
         },
         "name": "Belize",
         "orientation": "v",
         "text": "",
         "type": "bar",
         "x": [
          1955,
          1960,
          1965,
          1970,
          1975,
          1980,
          1985,
          1990,
          1995,
          2000,
          2005,
          2010,
          2015,
          2020,
          2022,
          2023
         ],
         "y": [
          "79,986",
          "91,403",
          "104,838",
          "120,905",
          "130,801",
          "145,133",
          "163,436",
          "182,589",
          "203,556",
          "240,406",
          "280,375",
          "322,106",
          "359,871",
          "394,921",
          "405,272",
          "410,825"
         ]
        },
        {
         "marker": {
          "color": "rgba(255, 181, 184, 0.6)",
          "line": {
           "color": "rgba(255, 181, 184, 0.9155778894472362)",
           "width": 1
          }
         },
         "name": "Indonesia",
         "orientation": "v",
         "text": "",
         "type": "bar",
         "x": [
          1955,
          1960,
          1965,
          1970,
          1975,
          1980,
          1985,
          1990,
          1995,
          2000,
          2005,
          2010,
          2015,
          2020,
          2022,
          2023
         ],
         "y": [
          "77,741,502",
          "88,382,881",
          "101,157,868",
          "115,228,394",
          "131,213,215",
          "148,177,096",
          "165,791,694",
          "182,159,874",
          "198,140,162",
          "214,072,421",
          "228,805,144",
          "244,016,173",
          "259,091,970",
          "271,857,970",
          "275,501,339",
          "277,534,122"
         ]
        },
        {
         "marker": {
          "color": "rgba(226, 74, 51, 0.6)",
          "line": {
           "color": "rgba(226, 74, 51, 0.9155778894472362)",
           "width": 1
          }
         },
         "name": "Trinidad and Tobago",
         "orientation": "v",
         "text": "",
         "type": "bar",
         "x": [
          1955,
          1960,
          1965,
          1970,
          1975,
          1980,
          1985,
          1990,
          1995,
          2000,
          2005,
          2010,
          2015,
          2020,
          2022,
          2023
         ],
         "y": [
          "742,576",
          "847,063",
          "928,462",
          "988,890",
          "1,054,017",
          "1,127,852",
          "1,199,785",
          "1,266,518",
          "1,307,822",
          "1,332,203",
          "1,369,075",
          "1,410,296",
          "1,460,177",
          "1,518,147",
          "1,531,044",
          "1,534,937"
         ]
        },
        {
         "marker": {
          "color": "rgba(62, 111, 176, 0.6)",
          "line": {
           "color": "rgba(62, 111, 176, 0.9155778894472362)",
           "width": 1
          }
         },
         "name": "French Polynesia",
         "orientation": "v",
         "text": "",
         "type": "bar",
         "x": [
          1955,
          1960,
          1965,
          1970,
          1975,
          1980,
          1985,
          1990,
          1995,
          2000,
          2005,
          2010,
          2015,
          2020,
          2022,
          2023
         ],
         "y": [
          "74,475",
          "84,851",
          "98,674",
          "117,891",
          "139,833",
          "163,591",
          "187,578",
          "211,089",
          "231,446",
          "250,927",
          "271,060",
          "283,788",
          "291,787",
          "301,920",
          "306,279",
          "308,872"
         ]
        },
        {
         "marker": {
          "color": "rgba(132, 118, 202, 0.6)",
          "line": {
           "color": "rgba(132, 118, 202, 0.9155778894472362)",
           "width": 1
          }
         },
         "name": "Mauritania",
         "orientation": "v",
         "text": "",
         "type": "bar",
         "x": [
          1955,
          1960,
          1965,
          1970,
          1975,
          1980,
          1985,
          1990,
          1995,
          2000,
          2005,
          2010,
          2015,
          2020,
          2022,
          2023
         ],
         "y": [
          "738,577",
          "838,478",
          "965,621",
          "1,122,198",
          "1,302,436",
          "1,506,694",
          "1,746,265",
          "2,006,027",
          "2,380,341",
          "2,695,003",
          "3,012,360",
          "3,419,461",
          "3,946,220",
          "4,498,604",
          "4,736,139",
          "4,862,989"
         ]
        },
        {
         "marker": {
          "color": "rgba(101, 101, 101, 0.6)",
          "line": {
           "color": "rgba(101, 101, 101, 0.9155778894472362)",
           "width": 1
          }
         },
         "name": "Djibouti",
         "orientation": "v",
         "text": "",
         "type": "bar",
         "x": [
          1955,
          1960,
          1965,
          1970,
          1975,
          1980,
          1985,
          1990,
          1995,
          2000,
          2005,
          2010,
          2015,
          2020,
          2022,
          2023
         ],
         "y": [
          "72,997",
          "85,940",
          "108,772",
          "144,379",
          "208,582",
          "324,121",
          "400,709",
          "577,173",
          "629,619",
          "742,033",
          "830,861",
          "919,199",
          "1,006,259",
          "1,090,156",
          "1,120,849",
          "1,136,455"
         ]
        },
        {
         "marker": {
          "color": "rgba(101, 101, 101, 0.6)",
          "line": {
           "color": "rgba(101, 101, 101, 0.8874371859296482)",
           "width": 1
          }
         },
         "name": "St. Vincent & Grenadines",
         "orientation": "v",
         "text": "",
         "type": "bar",
         "x": [
          1955,
          1960,
          1965,
          1970,
          1975,
          1980,
          1985,
          1990,
          1995,
          2000,
          2005,
          2010,
          2015,
          2020,
          2022,
          2023
         ],
         "y": [
          "71,822",
          "84,141",
          "91,495",
          "98,459",
          "103,879",
          "107,480",
          "110,906",
          "112,487",
          "114,174",
          "113,813",
          "112,043",
          "109,308",
          "106,482",
          "104,632",
          "103,948",
          "103,698"
         ]
        },
        {
         "marker": {
          "color": "rgba(251, 193, 94, 0.6)",
          "line": {
           "color": "rgba(251, 193, 94, 0.8874371859296482)",
           "width": 1
          }
         },
         "name": "Germany",
         "orientation": "v",
         "text": "",
         "type": "bar",
         "x": [
          1955,
          1960,
          1965,
          1970,
          1975,
          1980,
          1985,
          1990,
          1995,
          2000,
          2005,
          2010,
          2015,
          2020,
          2022,
          2023
         ],
         "y": [
          "71,222,628",
          "73,063,695",
          "76,037,469",
          "78,294,583",
          "78,513,511",
          "77,786,703",
          "77,638,808",
          "79,370,196",
          "81,123,262",
          "81,551,677",
          "81,212,168",
          "81,325,090",
          "82,073,226",
          "83,328,988",
          "83,369,843",
          "83,294,633"
         ]
        },
        {
         "marker": {
          "color": "rgba(142, 186, 66, 0.6)",
          "line": {
           "color": "rgba(142, 186, 66, 0.8874371859296482)",
           "width": 1
          }
         },
         "name": "Belarus",
         "orientation": "v",
         "text": "",
         "type": "bar",
         "x": [
          1955,
          1960,
          1965,
          1970,
          1975,
          1980,
          1985,
          1990,
          1995,
          2000,
          2005,
          2010,
          2015,
          2020,
          2022,
          2023
         ],
         "y": [
          "7,976,356",
          "8,389,183",
          "8,854,528",
          "9,170,786",
          "9,500,738",
          "9,817,257",
          "10,133,211",
          "10,428,525",
          "10,461,696",
          "10,256,483",
          "9,935,163",
          "9,731,427",
          "9,700,609",
          "9,633,740",
          "9,534,954",
          "9,498,238"
         ]
        },
        {
         "marker": {
          "color": "rgba(255, 181, 184, 0.6)",
          "line": {
           "color": "rgba(255, 181, 184, 0.8874371859296482)",
           "width": 1
          }
         },
         "name": "Afghanistan",
         "orientation": "v",
         "text": "",
         "type": "bar",
         "x": [
          1955,
          1960,
          1965,
          1970,
          1975,
          1980,
          1985,
          1990,
          1995,
          2000,
          2005,
          2010,
          2015,
          2020,
          2022,
          2023
         ],
         "y": [
          "7,971,931",
          "8,622,466",
          "9,565,147",
          "10,752,971",
          "12,157,386",
          "12,486,631",
          "10,512,221",
          "10,694,796",
          "16,418,912",
          "19,542,982",
          "24,411,191",
          "28,189,672",
          "33,753,499",
          "38,972,230",
          "41,128,771",
          "42,239,854"
         ]
        },
        {
         "marker": {
          "color": "rgba(226, 74, 51, 0.6)",
          "line": {
           "color": "rgba(226, 74, 51, 0.8874371859296482)",
           "width": 1
          }
         },
         "name": "Kazakhstan",
         "orientation": "v",
         "text": "",
         "type": "bar",
         "x": [
          1955,
          1960,
          1965,
          1970,
          1975,
          1980,
          1985,
          1990,
          1995,
          2000,
          2005,
          2010,
          2015,
          2020,
          2022,
          2023
         ],
         "y": [
          "7,858,733",
          "9,319,283",
          "10,897,644",
          "12,265,305",
          "13,158,942",
          "14,172,710",
          "15,413,315",
          "16,866,563",
          "16,434,324",
          "15,236,253",
          "15,656,248",
          "16,627,837",
          "17,835,909",
          "18,979,243",
          "19,397,998",
          "19,606,633"
         ]
        },
        {
         "marker": {
          "color": "rgba(62, 111, 176, 0.6)",
          "line": {
           "color": "rgba(62, 111, 176, 0.8874371859296482)",
           "width": 1
          }
         },
         "name": "Bulgaria",
         "orientation": "v",
         "text": "",
         "type": "bar",
         "x": [
          1955,
          1960,
          1965,
          1970,
          1975,
          1980,
          1985,
          1990,
          1995,
          2000,
          2005,
          2010,
          2015,
          2020,
          2022,
          2023
         ],
         "y": [
          "7,517,922",
          "7,891,756",
          "8,245,072",
          "8,582,950",
          "8,860,971",
          "8,980,606",
          "8,917,076",
          "8,767,778",
          "8,477,579",
          "8,097,691",
          "7,815,221",
          "7,592,273",
          "7,309,253",
          "6,979,175",
          "6,781,953",
          "6,687,717"
         ]
        },
        {
         "marker": {
          "color": "rgba(132, 118, 202, 0.6)",
          "line": {
           "color": "rgba(132, 118, 202, 0.8874371859296482)",
           "width": 1
          }
         },
         "name": "Chile",
         "orientation": "v",
         "text": "",
         "type": "bar",
         "x": [
          1955,
          1960,
          1965,
          1970,
          1975,
          1980,
          1985,
          1990,
          1995,
          2000,
          2005,
          2010,
          2015,
          2020,
          2022,
          2023
         ],
         "y": [
          "7,323,194",
          "8,141,820",
          "8,994,936",
          "9,820,481",
          "10,639,531",
          "11,469,828",
          "12,326,396",
          "13,342,868",
          "14,416,796",
          "15,351,799",
          "16,175,311",
          "17,004,162",
          "17,870,124",
          "19,300,315",
          "19,603,733",
          "19,629,590"
         ]
        },
        {
         "marker": {
          "color": "rgba(132, 118, 202, 0.6)",
          "line": {
           "color": "rgba(132, 118, 202, 0.8592964824120604)",
           "width": 1
          }
         },
         "name": "Sweden",
         "orientation": "v",
         "text": "",
         "type": "bar",
         "x": [
          1955,
          1960,
          1965,
          1970,
          1975,
          1980,
          1985,
          1990,
          1995,
          2000,
          2005,
          2010,
          2015,
          2020,
          2022,
          2023
         ],
         "y": [
          "7,264,351",
          "7,492,895",
          "7,755,752",
          "8,027,702",
          "8,224,408",
          "8,311,763",
          "8,389,913",
          "8,548,406",
          "8,758,496",
          "8,871,043",
          "9,051,738",
          "9,381,729",
          "9,849,349",
          "10,368,969",
          "10,549,347",
          "10,612,086"
         ]
        },
        {
         "marker": {
          "color": "rgba(101, 101, 101, 0.6)",
          "line": {
           "color": "rgba(101, 101, 101, 0.8592964824120604)",
           "width": 1
          }
         },
         "name": "Sudan",
         "orientation": "v",
         "text": "",
         "type": "bar",
         "x": [
          1955,
          1960,
          1965,
          1970,
          1975,
          1980,
          1985,
          1990,
          1995,
          2000,
          2005,
          2010,
          2015,
          2020,
          2022,
          2023
         ],
         "y": [
          "7,193,065",
          "8,326,462",
          "9,712,785",
          "11,305,206",
          "13,497,543",
          "16,673,586",
          "19,517,196",
          "21,090,886",
          "23,290,602",
          "26,298,773",
          "29,540,577",
          "33,739,933",
          "38,171,178",
          "44,440,486",
          "46,874,204",
          "48,109,006"
         ]
        },
        {
         "marker": {
          "color": "rgba(251, 193, 94, 0.6)",
          "line": {
           "color": "rgba(251, 193, 94, 0.8592964824120604)",
           "width": 1
          }
         },
         "name": "Uzbekistan",
         "orientation": "v",
         "text": "",
         "type": "bar",
         "x": [
          1955,
          1960,
          1965,
          1970,
          1975,
          1980,
          1985,
          1990,
          1995,
          2000,
          2005,
          2010,
          2015,
          2020,
          2022,
          2023
         ],
         "y": [
          "7,141,923",
          "8,372,311",
          "10,130,096",
          "12,011,361",
          "13,894,347",
          "15,947,129",
          "18,063,201",
          "20,579,100",
          "23,026,206",
          "24,925,554",
          "26,573,423",
          "28,614,227",
          "30,949,417",
          "33,526,656",
          "34,627,652",
          "35,163,944"
         ]
        },
        {
         "marker": {
          "color": "rgba(142, 186, 66, 0.6)",
          "line": {
           "color": "rgba(142, 186, 66, 0.8592964824120604)",
           "width": 1
          }
         },
         "name": "New Caledonia",
         "orientation": "v",
         "text": "",
         "type": "bar",
         "x": [
          1955,
          1960,
          1965,
          1970,
          1975,
          1980,
          1985,
          1990,
          1995,
          2000,
          2005,
          2010,
          2015,
          2020,
          2022,
          2023
         ],
         "y": [
          "69,989",
          "81,236",
          "94,803",
          "110,982",
          "136,601",
          "148,599",
          "159,702",
          "177,264",
          "199,701",
          "221,537",
          "242,141",
          "261,426",
          "283,032",
          "286,403",
          "289,950",
          "292,991"
         ]
        },
        {
         "marker": {
          "color": "rgba(255, 181, 184, 0.6)",
          "line": {
           "color": "rgba(255, 181, 184, 0.8592964824120604)",
           "width": 1
          }
         },
         "name": "Guam",
         "orientation": "v",
         "text": "",
         "type": "bar",
         "x": [
          1955,
          1960,
          1965,
          1970,
          1975,
          1980,
          1985,
          1990,
          1995,
          2000,
          2005,
          2010,
          2015,
          2020,
          2022,
          2023
         ],
         "y": [
          "65,977",
          "72,374",
          "80,255",
          "88,300",
          "99,478",
          "110,286",
          "124,675",
          "138,263",
          "150,094",
          "160,188",
          "164,430",
          "164,905",
          "167,978",
          "169,231",
          "171,774",
          "172,952"
         ]
        },
        {
         "marker": {
          "color": "rgba(226, 74, 51, 0.6)",
          "line": {
           "color": "rgba(226, 74, 51, 0.8592964824120604)",
           "width": 1
          }
         },
         "name": "Sao Tome & Principe",
         "orientation": "v",
         "text": "",
         "type": "bar",
         "x": [
          1955,
          1960,
          1965,
          1970,
          1975,
          1980,
          1985,
          1990,
          1995,
          2000,
          2005,
          2010,
          2015,
          2020,
          2022,
          2023
         ],
         "y": [
          "65,300",
          "68,038",
          "71,730",
          "77,583",
          "86,037",
          "97,210",
          "106,607",
          "120,343",
          "133,077",
          "143,714",
          "161,680",
          "182,138",
          "201,124",
          "218,641",
          "227,380",
          "231,856"
         ]
        },
        {
         "marker": {
          "color": "rgba(62, 111, 176, 0.6)",
          "line": {
           "color": "rgba(62, 111, 176, 0.8592964824120604)",
           "width": 1
          }
         },
         "name": "Lesotho",
         "orientation": "v",
         "text": "",
         "type": "bar",
         "x": [
          1955,
          1960,
          1965,
          1970,
          1975,
          1980,
          1985,
          1990,
          1995,
          2000,
          2005,
          2010,
          2015,
          2020,
          2022,
          2023
         ],
         "y": [
          "641,361",
          "737,838",
          "860,220",
          "1,023,481",
          "1,216,180",
          "1,407,672",
          "1,616,697",
          "1,798,997",
          "1,934,079",
          "1,998,630",
          "1,977,424",
          "2,022,747",
          "2,118,521",
          "2,254,100",
          "2,305,825",
          "2,330,318"
         ]
        },
        {
         "marker": {
          "color": "rgba(62, 111, 176, 0.6)",
          "line": {
           "color": "rgba(62, 111, 176, 0.8311557788944723)",
           "width": 1
          }
         },
         "name": "Brunei ",
         "orientation": "v",
         "text": "",
         "type": "bar",
         "x": [
          1955,
          1960,
          1965,
          1970,
          1975,
          1980,
          1985,
          1990,
          1995,
          2000,
          2005,
          2010,
          2015,
          2020,
          2022,
          2023
         ],
         "y": [
          "64,267",
          "85,346",
          "107,686",
          "133,343",
          "159,653",
          "187,921",
          "222,119",
          "261,928",
          "299,097",
          "333,926",
          "366,717",
          "396,053",
          "421,437",
          "441,725",
          "449,002",
          "452,524"
         ]
        },
        {
         "marker": {
          "color": "rgba(132, 118, 202, 0.6)",
          "line": {
           "color": "rgba(132, 118, 202, 0.8311557788944723)",
           "width": 1
          }
         },
         "name": "Jordan",
         "orientation": "v",
         "text": "",
         "type": "bar",
         "x": [
          1955,
          1960,
          1965,
          1970,
          1975,
          1980,
          1985,
          1990,
          1995,
          2000,
          2005,
          2010,
          2015,
          2020,
          2022,
          2023
         ],
         "y": [
          "622,010",
          "847,936",
          "1,093,474",
          "1,557,374",
          "1,886,636",
          "2,216,903",
          "2,751,492",
          "3,480,587",
          "4,458,195",
          "5,056,174",
          "5,678,534",
          "6,931,258",
          "9,494,246",
          "10,928,721",
          "11,285,869",
          "11,337,052"
         ]
        },
        {
         "marker": {
          "color": "rgba(101, 101, 101, 0.6)",
          "line": {
           "color": "rgba(101, 101, 101, 0.8311557788944723)",
           "width": 1
          }
         },
         "name": "Brazil",
         "orientation": "v",
         "text": "",
         "type": "bar",
         "x": [
          1955,
          1960,
          1965,
          1970,
          1975,
          1980,
          1985,
          1990,
          1995,
          2000,
          2005,
          2010,
          2015,
          2020,
          2022,
          2023
         ],
         "y": [
          "62,701,031",
          "73,092,515",
          "84,623,747",
          "96,369,875",
          "108,700,515",
          "122,288,383",
          "136,783,180",
          "150,706,446",
          "163,515,328",
          "175,873,720",
          "186,797,334",
          "196,353,492",
          "205,188,205",
          "213,196,304",
          "215,313,498",
          "216,422,446"
         ]
        },
        {
         "marker": {
          "color": "rgba(251, 193, 94, 0.6)",
          "line": {
           "color": "rgba(251, 193, 94, 0.8311557788944723)",
           "width": 1
          }
         },
         "name": "China",
         "orientation": "v",
         "text": "",
         "type": "bar",
         "x": [
          1955,
          1960,
          1965,
          1970,
          1975,
          1980,
          1985,
          1990,
          1995,
          2000,
          2005,
          2010,
          2015,
          2020,
          2022,
          2023
         ],
         "y": [
          "603,320,147",
          "654,170,692",
          "723,846,349",
          "822,534,450",
          "915,124,661",
          "982,372,466",
          "1,060,239,979",
          "1,153,704,252",
          "1,218,144,426",
          "1,264,099,069",
          "1,304,887,562",
          "1,348,191,368",
          "1,393,715,448",
          "1,424,929,781",
          "1,425,887,337",
          "1,425,671,352"
         ]
        },
        {
         "marker": {
          "color": "rgba(142, 186, 66, 0.6)",
          "line": {
           "color": "rgba(142, 186, 66, 0.8311557788944723)",
           "width": 1
          }
         },
         "name": "Austria",
         "orientation": "v",
         "text": "",
         "type": "bar",
         "x": [
          1955,
          1960,
          1965,
          1970,
          1975,
          1980,
          1985,
          1990,
          1995,
          2000,
          2005,
          2010,
          2015,
          2020,
          2022,
          2023
         ],
         "y": [
          "6,946,260",
          "7,046,553",
          "7,269,888",
          "7,465,301",
          "7,576,926",
          "7,547,561",
          "7,562,114",
          "7,678,729",
          "7,947,296",
          "8,010,428",
          "8,227,034",
          "8,362,829",
          "8,642,421",
          "8,907,777",
          "8,939,617",
          "8,958,960"
         ]
        },
        {
         "marker": {
          "color": "rgba(255, 181, 184, 0.6)",
          "line": {
           "color": "rgba(255, 181, 184, 0.8311557788944723)",
           "width": 1
          }
         },
         "name": "Malaysia",
         "orientation": "v",
         "text": "",
         "type": "bar",
         "x": [
          1955,
          1960,
          1965,
          1970,
          1975,
          1980,
          1985,
          1990,
          1995,
          2000,
          2005,
          2010,
          2015,
          2020,
          2022,
          2023
         ],
         "y": [
          "6,786,077",
          "7,833,782",
          "9,091,016",
          "10,306,508",
          "11,617,947",
          "13,215,707",
          "15,108,135",
          "17,517,054",
          "20,136,888",
          "22,945,150",
          "25,923,536",
          "28,717,731",
          "31,068,833",
          "33,199,993",
          "33,938,221",
          "34,308,525"
         ]
        },
        {
         "marker": {
          "color": "rgba(226, 74, 51, 0.6)",
          "line": {
           "color": "rgba(226, 74, 51, 0.8311557788944723)",
           "width": 1
          }
         },
         "name": "Venezuela",
         "orientation": "v",
         "text": "",
         "type": "bar",
         "x": [
          1955,
          1960,
          1965,
          1970,
          1975,
          1980,
          1985,
          1990,
          1995,
          2000,
          2005,
          2010,
          2015,
          2020,
          2022,
          2023
         ],
         "y": [
          "6,752,139",
          "8,156,937",
          "9,688,138",
          "11,355,475",
          "13,176,387",
          "15,210,443",
          "17,402,304",
          "19,750,579",
          "22,107,286",
          "24,427,729",
          "26,668,785",
          "28,715,022",
          "30,529,716",
          "28,490,453",
          "28,301,696",
          "28,838,499"
         ]
        },
        {
         "marker": {
          "color": "rgba(226, 74, 51, 0.6)",
          "line": {
           "color": "rgba(226, 74, 51, 0.8030150753768845)",
           "width": 1
          }
         },
         "name": "Uganda",
         "orientation": "v",
         "text": "",
         "type": "bar",
         "x": [
          1955,
          1960,
          1965,
          1970,
          1975,
          1980,
          1985,
          1990,
          1995,
          2000,
          2005,
          2010,
          2015,
          2020,
          2022,
          2023
         ],
         "y": [
          "6,601,785",
          "7,617,746",
          "8,829,056",
          "10,317,212",
          "11,730,959",
          "13,284,026",
          "15,038,915",
          "17,586,630",
          "20,680,831",
          "24,020,697",
          "27,946,588",
          "32,341,728",
          "37,477,356",
          "44,404,611",
          "47,249,585",
          "48,582,334"
         ]
        },
        {
         "marker": {
          "color": "rgba(62, 111, 176, 0.6)",
          "line": {
           "color": "rgba(62, 111, 176, 0.8030150753768845)",
           "width": 1
          }
         },
         "name": "Cuba",
         "orientation": "v",
         "text": "",
         "type": "bar",
         "x": [
          1955,
          1960,
          1965,
          1970,
          1975,
          1980,
          1985,
          1990,
          1995,
          2000,
          2005,
          2010,
          2015,
          2020,
          2022,
          2023
         ],
         "y": [
          "6,559,586",
          "7,267,395",
          "8,067,651",
          "8,869,636",
          "9,514,305",
          "9,809,107",
          "10,149,044",
          "10,626,680",
          "10,926,703",
          "11,105,791",
          "11,246,114",
          "11,290,417",
          "11,339,894",
          "11,300,698",
          "11,212,191",
          "11,194,449"
         ]
        },
        {
         "marker": {
          "color": "rgba(132, 118, 202, 0.6)",
          "line": {
           "color": "rgba(132, 118, 202, 0.8030150753768845)",
           "width": 1
          }
         },
         "name": "Kenya",
         "orientation": "v",
         "text": "",
         "type": "bar",
         "x": [
          1955,
          1960,
          1965,
          1970,
          1975,
          1980,
          1985,
          1990,
          1995,
          2000,
          2005,
          2010,
          2015,
          2020,
          2022,
          2023
         ],
         "y": [
          "6,558,870",
          "7,751,435",
          "9,417,207",
          "11,473,087",
          "13,651,908",
          "16,187,124",
          "19,452,161",
          "23,162,269",
          "26,878,347",
          "30,851,606",
          "35,843,010",
          "41,517,895",
          "46,851,488",
          "51,985,780",
          "54,027,487",
          "55,100,586"
         ]
        },
        {
         "marker": {
          "color": "rgba(101, 101, 101, 0.6)",
          "line": {
           "color": "rgba(101, 101, 101, 0.8030150753768845)",
           "width": 1
          }
         },
         "name": "Iraq",
         "orientation": "v",
         "text": "",
         "type": "bar",
         "x": [
          1955,
          1960,
          1965,
          1970,
          1975,
          1980,
          1985,
          1990,
          1995,
          2000,
          2005,
          2010,
          2015,
          2020,
          2022,
          2023
         ],
         "y": [
          "6,405,686",
          "7,084,678",
          "8,270,544",
          "9,811,347",
          "11,617,622",
          "13,653,369",
          "15,753,856",
          "17,658,381",
          "20,948,858",
          "24,628,858",
          "28,698,684",
          "31,264,875",
          "37,757,813",
          "42,556,984",
          "44,496,122",
          "45,504,560"
         ]
        },
        {
         "marker": {
          "color": "rgba(251, 193, 94, 0.6)",
          "line": {
           "color": "rgba(251, 193, 94, 0.8030150753768845)",
           "width": 1
          }
         },
         "name": "Serbia",
         "orientation": "v",
         "text": "",
         "type": "bar",
         "x": [
          1955,
          1960,
          1965,
          1970,
          1975,
          1980,
          1985,
          1990,
          1995,
          2000,
          2005,
          2010,
          2015,
          2020,
          2022,
          2023
         ],
         "y": [
          "6,348,547",
          "6,579,989",
          "6,902,989",
          "7,193,533",
          "7,479,833",
          "7,777,010",
          "7,912,069",
          "7,987,529",
          "7,982,462",
          "7,935,022",
          "7,830,944",
          "7,653,748",
          "7,519,496",
          "7,358,005",
          "7,221,365",
          "7,149,077"
         ]
        },
        {
         "marker": {
          "color": "rgba(142, 186, 66, 0.6)",
          "line": {
           "color": "rgba(142, 186, 66, 0.8030150753768845)",
           "width": 1
          }
         },
         "name": "Mozambique",
         "orientation": "v",
         "text": "",
         "type": "bar",
         "x": [
          1955,
          1960,
          1965,
          1970,
          1975,
          1980,
          1985,
          1990,
          1995,
          2000,
          2005,
          2010,
          2015,
          2020,
          2022,
          2023
         ],
         "y": [
          "6,318,904",
          "6,788,375",
          "7,524,154",
          "8,411,676",
          "9,703,732",
          "11,413,587",
          "12,680,065",
          "13,303,459",
          "15,594,830",
          "17,768,505",
          "20,211,114",
          "23,073,723",
          "26,843,246",
          "31,178,239",
          "32,969,518",
          "33,897,354"
         ]
        },
        {
         "marker": {
          "color": "rgba(255, 181, 184, 0.6)",
          "line": {
           "color": "rgba(255, 181, 184, 0.8030150753768845)",
           "width": 1
          }
         },
         "name": "Mauritius",
         "orientation": "v",
         "text": "",
         "type": "bar",
         "x": [
          1955,
          1960,
          1965,
          1970,
          1975,
          1980,
          1985,
          1990,
          1995,
          2000,
          2005,
          2010,
          2015,
          2020,
          2022,
          2023
         ],
         "y": [
          "596,866",
          "676,683",
          "758,628",
          "830,115",
          "888,292",
          "954,865",
          "1,025,769",
          "1,090,290",
          "1,160,207",
          "1,215,930",
          "1,258,048",
          "1,283,330",
          "1,293,153",
          "1,297,828",
          "1,299,469",
          "1,300,557"
         ]
        },
        {
         "marker": {
          "color": "rgba(255, 181, 184, 0.6)",
          "line": {
           "color": "rgba(255, 181, 184, 0.7748743718592965)",
           "width": 1
          }
         },
         "name": "Tonga",
         "orientation": "v",
         "text": "",
         "type": "bar",
         "x": [
          1955,
          1960,
          1965,
          1970,
          1975,
          1980,
          1985,
          1990,
          1995,
          2000,
          2005,
          2010,
          2015,
          2020,
          2022,
          2023
         ],
         "y": [
          "58,024",
          "67,428",
          "77,686",
          "86,484",
          "93,477",
          "96,708",
          "97,055",
          "98,727",
          "99,977",
          "102,603",
          "105,633",
          "107,383",
          "106,122",
          "105,254",
          "106,858",
          "107,773"
         ]
        },
        {
         "marker": {
          "color": "rgba(226, 74, 51, 0.6)",
          "line": {
           "color": "rgba(226, 74, 51, 0.7748743718592965)",
           "width": 1
          }
         },
         "name": "Guinea-Bissau",
         "orientation": "v",
         "text": "",
         "type": "bar",
         "x": [
          1955,
          1960,
          1965,
          1970,
          1975,
          1980,
          1985,
          1990,
          1995,
          2000,
          2005,
          2010,
          2015,
          2020,
          2022,
          2023
         ],
         "y": [
          "563,713",
          "577,933",
          "577,638",
          "591,663",
          "659,635",
          "831,462",
          "900,088",
          "973,551",
          "1,117,222",
          "1,230,849",
          "1,379,713",
          "1,567,220",
          "1,788,919",
          "2,015,828",
          "2,105,566",
          "2,150,842"
         ]
        },
        {
         "marker": {
          "color": "rgba(62, 111, 176, 0.6)",
          "line": {
           "color": "rgba(62, 111, 176, 0.7748743718592965)",
           "width": 1
          }
         },
         "name": "Vanuatu",
         "orientation": "v",
         "text": "",
         "type": "bar",
         "x": [
          1955,
          1960,
          1965,
          1970,
          1975,
          1980,
          1985,
          1990,
          1995,
          2000,
          2005,
          2010,
          2015,
          2020,
          2022,
          2023
         ],
         "y": [
          "56,770",
          "64,608",
          "74,677",
          "87,019",
          "102,010",
          "118,156",
          "133,119",
          "150,882",
          "170,612",
          "192,074",
          "217,632",
          "245,453",
          "276,438",
          "311,685",
          "326,740",
          "334,506"
         ]
        },
        {
         "marker": {
          "color": "rgba(132, 118, 202, 0.6)",
          "line": {
           "color": "rgba(132, 118, 202, 0.7748743718592965)",
           "width": 1
          }
         },
         "name": "Namibia",
         "orientation": "v",
         "text": "",
         "type": "bar",
         "x": [
          1955,
          1960,
          1965,
          1970,
          1975,
          1980,
          1985,
          1990,
          1995,
          2000,
          2005,
          2010,
          2015,
          2020,
          2022,
          2023
         ],
         "y": [
          "547,430",
          "590,181",
          "657,887",
          "754,467",
          "876,572",
          "975,994",
          "1,093,311",
          "1,369,011",
          "1,605,370",
          "1,819,141",
          "1,962,865",
          "2,099,271",
          "2,282,704",
          "2,489,098",
          "2,567,012",
          "2,604,172"
         ]
        },
        {
         "marker": {
          "color": "rgba(101, 101, 101, 0.6)",
          "line": {
           "color": "rgba(101, 101, 101, 0.7748743718592965)",
           "width": 1
          }
         },
         "name": "Cyprus",
         "orientation": "v",
         "text": "",
         "type": "bar",
         "x": [
          1955,
          1960,
          1965,
          1970,
          1975,
          1980,
          1985,
          1990,
          1995,
          2000,
          2005,
          2010,
          2015,
          2020,
          2022,
          2023
         ],
         "y": [
          "534,125",
          "585,725",
          "617,345",
          "640,804",
          "644,982",
          "679,327",
          "731,664",
          "788,500",
          "862,418",
          "948,237",
          "1,037,062",
          "1,129,686",
          "1,187,280",
          "1,237,537",
          "1,251,488",
          "1,260,138"
         ]
        },
        {
         "marker": {
          "color": "rgba(251, 193, 94, 0.6)",
          "line": {
           "color": "rgba(251, 193, 94, 0.7748743718592965)",
           "width": 1
          }
         },
         "name": "United Kingdom",
         "orientation": "v",
         "text": "",
         "type": "bar",
         "x": [
          1955,
          1960,
          1965,
          1970,
          1975,
          1980,
          1985,
          1990,
          1995,
          2000,
          2005,
          2010,
          2015,
          2020,
          2022,
          2023
         ],
         "y": [
          "51,193,266",
          "52,543,017",
          "54,229,565",
          "55,650,166",
          "56,266,842",
          "56,326,328",
          "56,643,045",
          "57,210,442",
          "57,930,364",
          "58,850,043",
          "60,383,741",
          "62,760,039",
          "65,224,364",
          "67,059,474",
          "67,508,936",
          "67,736,802"
         ]
        },
        {
         "marker": {
          "color": "rgba(142, 186, 66, 0.6)",
          "line": {
           "color": "rgba(142, 186, 66, 0.7748743718592965)",
           "width": 1
          }
         },
         "name": "Antigua and Barbuda",
         "orientation": "v",
         "text": "",
         "type": "bar",
         "x": [
          1955,
          1960,
          1965,
          1970,
          1975,
          1980,
          1985,
          1990,
          1995,
          2000,
          2005,
          2010,
          2015,
          2020,
          2022,
          2023
         ],
         "y": [
          "50,264",
          "55,342",
          "59,644",
          "64,517",
          "64,035",
          "64,889",
          "65,048",
          "63,328",
          "68,398",
          "75,055",
          "79,869",
          "85,695",
          "89,941",
          "92,664",
          "93,763",
          "94,298"
         ]
        },
        {
         "marker": {
          "color": "rgba(142, 186, 66, 0.6)",
          "line": {
           "color": "rgba(142, 186, 66, 0.7467336683417085)",
           "width": 1
          }
         },
         "name": "Ghana",
         "orientation": "v",
         "text": "",
         "type": "bar",
         "x": [
          1955,
          1960,
          1965,
          1970,
          1975,
          1980,
          1985,
          1990,
          1995,
          2000,
          2005,
          2010,
          2015,
          2020,
          2022,
          2023
         ],
         "y": [
          "5,887,163",
          "6,911,510",
          "7,827,726",
          "8,861,895",
          "10,209,848",
          "11,865,246",
          "13,651,443",
          "15,446,982",
          "17,438,874",
          "19,665,502",
          "22,496,951",
          "25,574,719",
          "28,870,939",
          "32,180,401",
          "33,475,870",
          "34,121,985"
         ]
        },
        {
         "marker": {
          "color": "rgba(255, 181, 184, 0.6)",
          "line": {
           "color": "rgba(255, 181, 184, 0.7467336683417085)",
           "width": 1
          }
         },
         "name": "Yemen",
         "orientation": "v",
         "text": "",
         "type": "bar",
         "x": [
          1955,
          1960,
          1965,
          1970,
          1975,
          1980,
          1985,
          1990,
          1995,
          2000,
          2005,
          2010,
          2015,
          2020,
          2022,
          2023
         ],
         "y": [
          "5,091,603",
          "5,542,459",
          "6,097,298",
          "6,843,607",
          "7,855,657",
          "9,204,938",
          "11,036,918",
          "13,375,121",
          "16,103,339",
          "18,628,700",
          "21,320,671",
          "24,743,946",
          "28,516,545",
          "32,284,046",
          "33,696,614",
          "34,449,825"
         ]
        },
        {
         "marker": {
          "color": "rgba(226, 74, 51, 0.6)",
          "line": {
           "color": "rgba(226, 74, 51, 0.7467336683417085)",
           "width": 1
          }
         },
         "name": "Mali",
         "orientation": "v",
         "text": "",
         "type": "bar",
         "x": [
          1955,
          1960,
          1965,
          1970,
          1975,
          1980,
          1985,
          1990,
          1995,
          2000,
          2005,
          2010,
          2015,
          2020,
          2022,
          2023
         ],
         "y": [
          "5,014,680",
          "5,346,792",
          "5,726,382",
          "6,153,587",
          "6,687,293",
          "7,372,581",
          "8,187,651",
          "8,945,026",
          "9,921,094",
          "11,239,101",
          "13,180,551",
          "15,529,181",
          "18,112,907",
          "21,224,040",
          "22,593,590",
          "23,293,698"
         ]
        },
        {
         "marker": {
          "color": "rgba(62, 111, 176, 0.6)",
          "line": {
           "color": "rgba(62, 111, 176, 0.7467336683417085)",
           "width": 1
          }
         },
         "name": "Switzerland",
         "orientation": "v",
         "text": "",
         "type": "bar",
         "x": [
          1955,
          1960,
          1965,
          1970,
          1975,
          1980,
          1985,
          1990,
          1995,
          2000,
          2005,
          2010,
          2015,
          2020,
          2022,
          2023
         ],
         "y": [
          "5,002,410",
          "5,328,273",
          "5,857,047",
          "6,181,227",
          "6,338,267",
          "6,319,113",
          "6,469,824",
          "6,711,693",
          "7,038,297",
          "7,182,059",
          "7,428,435",
          "7,822,435",
          "8,281,732",
          "8,638,613",
          "8,740,472",
          "8,796,669"
         ]
        },
        {
         "marker": {
          "color": "rgba(132, 118, 202, 0.6)",
          "line": {
           "color": "rgba(132, 118, 202, 0.7467336683417085)",
           "width": 1
          }
         },
         "name": "Oman",
         "orientation": "v",
         "text": "",
         "type": "bar",
         "x": [
          1955,
          1960,
          1965,
          1970,
          1975,
          1980,
          1985,
          1990,
          1995,
          2000,
          2005,
          2010,
          2015,
          2020,
          2022,
          2023
         ],
         "y": [
          "492,416",
          "536,553",
          "593,808",
          "670,693",
          "787,194",
          "1,017,462",
          "1,353,289",
          "1,804,524",
          "2,172,672",
          "2,344,253",
          "2,515,192",
          "2,881,914",
          "4,191,776",
          "4,543,399",
          "4,576,298",
          "4,644,384"
         ]
        },
        {
         "marker": {
          "color": "rgba(101, 101, 101, 0.6)",
          "line": {
           "color": "rgba(101, 101, 101, 0.7467336683417085)",
           "width": 1
          }
         },
         "name": "Gabon",
         "orientation": "v",
         "text": "",
         "type": "bar",
         "x": [
          1955,
          1960,
          1965,
          1970,
          1975,
          1980,
          1985,
          1990,
          1995,
          2000,
          2005,
          2010,
          2015,
          2020,
          2022,
          2023
         ],
         "y": [
          "489,459",
          "513,340",
          "547,535",
          "597,192",
          "663,340",
          "749,078",
          "856,482",
          "983,028",
          "1,121,964",
          "1,272,935",
          "1,458,353",
          "1,711,105",
          "2,028,517",
          "2,292,573",
          "2,388,992",
          "2,436,566"
         ]
        },
        {
         "marker": {
          "color": "rgba(251, 193, 94, 0.6)",
          "line": {
           "color": "rgba(251, 193, 94, 0.7467336683417085)",
           "width": 1
          }
         },
         "name": "Guyana",
         "orientation": "v",
         "text": "",
         "type": "bar",
         "x": [
          1955,
          1960,
          1965,
          1970,
          1975,
          1980,
          1985,
          1990,
          1995,
          2000,
          2005,
          2010,
          2015,
          2020,
          2022,
          2023
         ],
         "y": [
          "483,316",
          "571,990",
          "650,207",
          "705,261",
          "745,590",
          "778,176",
          "772,671",
          "747,116",
          "751,689",
          "759,051",
          "759,709",
          "747,932",
          "755,031",
          "797,202",
          "808,726",
          "813,834"
         ]
        },
        {
         "marker": {
          "color": "rgba(251, 193, 94, 0.6)",
          "line": {
           "color": "rgba(251, 193, 94, 0.7185929648241207)",
           "width": 1
          }
         },
         "name": "Italy",
         "orientation": "v",
         "text": "",
         "type": "bar",
         "x": [
          1955,
          1960,
          1965,
          1970,
          1975,
          1980,
          1985,
          1990,
          1995,
          2000,
          2005,
          2010,
          2015,
          2020,
          2022,
          2023
         ],
         "y": [
          "48,130,728",
          "49,517,707",
          "51,452,854",
          "53,324,036",
          "55,093,989",
          "56,329,482",
          "56,636,465",
          "56,756,561",
          "56,885,126",
          "56,966,397",
          "58,199,876",
          "59,822,450",
          "60,232,906",
          "59,500,579",
          "59,037,474",
          "58,870,762"
         ]
        },
        {
         "marker": {
          "color": "rgba(142, 186, 66, 0.6)",
          "line": {
           "color": "rgba(142, 186, 66, 0.7185929648241207)",
           "width": 1
          }
         },
         "name": "Botswana",
         "orientation": "v",
         "text": "",
         "type": "bar",
         "x": [
          1955,
          1960,
          1965,
          1970,
          1975,
          1980,
          1985,
          1990,
          1995,
          2000,
          2005,
          2010,
          2015,
          2020,
          2022,
          2023
         ],
         "y": [
          "461,880",
          "512,865",
          "570,975",
          "592,244",
          "727,930",
          "938,578",
          "1,138,704",
          "1,341,474",
          "1,543,634",
          "1,726,985",
          "1,892,807",
          "2,091,664",
          "2,305,171",
          "2,546,402",
          "2,630,296",
          "2,675,352"
         ]
        },
        {
         "marker": {
          "color": "rgba(255, 181, 184, 0.6)",
          "line": {
           "color": "rgba(255, 181, 184, 0.7185929648241207)",
           "width": 1
          }
         },
         "name": "Aruba",
         "orientation": "v",
         "text": "",
         "type": "bar",
         "x": [
          1955,
          1960,
          1965,
          1970,
          1975,
          1980,
          1985,
          1990,
          1995,
          2000,
          2005,
          2010,
          2015,
          2020,
          2022,
          2023
         ],
         "y": [
          "46,464",
          "54,608",
          "58,782",
          "59,106",
          "60,715",
          "62,267",
          "64,478",
          "65,712",
          "77,050",
          "89,101",
          "94,483",
          "100,341",
          "104,257",
          "106,585",
          "106,445",
          "106,277"
         ]
        },
        {
         "marker": {
          "color": "rgba(226, 74, 51, 0.6)",
          "line": {
           "color": "rgba(226, 74, 51, 0.7185929648241207)",
           "width": 1
          }
         },
         "name": "Montenegro",
         "orientation": "v",
         "text": "",
         "type": "bar",
         "x": [
          1955,
          1960,
          1965,
          1970,
          1975,
          1980,
          1985,
          1990,
          1995,
          2000,
          2005,
          2010,
          2015,
          2020,
          2022,
          2023
         ],
         "y": [
          "441,379",
          "473,046",
          "503,188",
          "530,268",
          "559,279",
          "589,324",
          "604,622",
          "621,442",
          "632,066",
          "633,324",
          "632,875",
          "631,044",
          "633,966",
          "629,048",
          "627,082",
          "626,485"
         ]
        },
        {
         "marker": {
          "color": "rgba(62, 111, 176, 0.6)",
          "line": {
           "color": "rgba(62, 111, 176, 0.7185929648241207)",
           "width": 1
          }
         },
         "name": "Bangladesh",
         "orientation": "v",
         "text": "",
         "type": "bar",
         "x": [
          1955,
          1960,
          1965,
          1970,
          1975,
          1980,
          1985,
          1990,
          1995,
          2000,
          2005,
          2010,
          2015,
          2020,
          2022,
          2023
         ],
         "y": [
          "44,315,548",
          "50,396,429",
          "58,500,159",
          "67,541,860",
          "74,700,345",
          "83,929,765",
          "95,959,099",
          "107,147,651",
          "117,793,338",
          "129,193,327",
          "140,912,590",
          "148,391,139",
          "157,830,000",
          "167,420,951",
          "171,186,372",
          "172,954,319"
         ]
        },
        {
         "marker": {
          "color": "rgba(132, 118, 202, 0.6)",
          "line": {
           "color": "rgba(132, 118, 202, 0.7185929648241207)",
           "width": 1
          }
         },
         "name": "Timor-Leste",
         "orientation": "v",
         "text": "",
         "type": "bar",
         "x": [
          1955,
          1960,
          1965,
          1970,
          1975,
          1980,
          1985,
          1990,
          1995,
          2000,
          2005,
          2010,
          2015,
          2020,
          2022,
          2023
         ],
         "y": [
          "437,426",
          "468,573",
          "507,477",
          "554,021",
          "600,126",
          "642,224",
          "682,109",
          "758,106",
          "819,226",
          "878,360",
          "969,313",
          "1,088,486",
          "1,205,813",
          "1,299,995",
          "1,341,296",
          "1,360,596"
         ]
        },
        {
         "marker": {
          "color": "rgba(101, 101, 101, 0.6)",
          "line": {
           "color": "rgba(101, 101, 101, 0.7185929648241207)",
           "width": 1
          }
         },
         "name": "France",
         "orientation": "v",
         "text": "",
         "type": "bar",
         "x": [
          1955,
          1960,
          1965,
          1970,
          1975,
          1980,
          1985,
          1990,
          1995,
          2000,
          2005,
          2010,
          2015,
          2020,
          2022,
          2023
         ],
         "y": [
          "43,593,851",
          "45,659,575",
          "48,168,804",
          "50,523,586",
          "52,450,030",
          "53,713,830",
          "55,108,106",
          "56,412,897",
          "57,420,354",
          "58,665,453",
          "60,510,079",
          "62,444,567",
          "63,809,769",
          "64,480,053",
          "64,626,628",
          "64,756,584"
         ]
        },
        {
         "marker": {
          "color": "rgba(101, 101, 101, 0.6)",
          "line": {
           "color": "rgba(101, 101, 101, 0.6904522613065327)",
           "width": 1
          }
         },
         "name": "Kiribati",
         "orientation": "v",
         "text": "",
         "type": "bar",
         "x": [
          1955,
          1960,
          1965,
          1970,
          1975,
          1980,
          1985,
          1990,
          1995,
          2000,
          2005,
          2010,
          2015,
          2020,
          2022,
          2023
         ],
         "y": [
          "42,008",
          "47,093",
          "53,444",
          "57,437",
          "60,675",
          "60,813",
          "66,708",
          "75,124",
          "81,481",
          "88,826",
          "98,164",
          "107,995",
          "116,707",
          "126,463",
          "131,232",
          "133,515"
         ]
        },
        {
         "marker": {
          "color": "rgba(251, 193, 94, 0.6)",
          "line": {
           "color": "rgba(251, 193, 94, 0.6904522613065327)",
           "width": 1
          }
         },
         "name": "Pakistan",
         "orientation": "v",
         "text": "",
         "type": "bar",
         "x": [
          1955,
          1960,
          1965,
          1970,
          1975,
          1980,
          1985,
          1990,
          1995,
          2000,
          2005,
          2010,
          2015,
          2020,
          2022,
          2023
         ],
         "y": [
          "41,023,128",
          "45,954,226",
          "51,841,626",
          "59,290,872",
          "68,126,999",
          "80,624,057",
          "97,121,552",
          "115,414,069",
          "133,117,476",
          "154,369,924",
          "174,372,098",
          "194,454,498",
          "210,969,298",
          "227,196,741",
          "235,824,862",
          "240,485,658"
         ]
        },
        {
         "marker": {
          "color": "rgba(142, 186, 66, 0.6)",
          "line": {
           "color": "rgba(142, 186, 66, 0.6904522613065327)",
           "width": 1
          }
         },
         "name": "Nigeria",
         "orientation": "v",
         "text": "",
         "type": "bar",
         "x": [
          1955,
          1960,
          1965,
          1970,
          1975,
          1980,
          1985,
          1990,
          1995,
          2000,
          2005,
          2010,
          2015,
          2020,
          2022,
          2023
         ],
         "y": [
          "40,839,223",
          "44,928,342",
          "49,925,799",
          "55,569,264",
          "62,851,312",
          "72,951,439",
          "83,585,251",
          "95,214,257",
          "108,187,610",
          "122,851,984",
          "140,490,722",
          "160,952,853",
          "183,995,785",
          "208,327,405",
          "218,541,212",
          "223,804,632"
         ]
        },
        {
         "marker": {
          "color": "rgba(255, 181, 184, 0.6)",
          "line": {
           "color": "rgba(255, 181, 184, 0.6904522613065327)",
           "width": 1
          }
         },
         "name": "Angola",
         "orientation": "v",
         "text": "",
         "type": "bar",
         "x": [
          1955,
          1960,
          1965,
          1970,
          1975,
          1980,
          1985,
          1990,
          1995,
          2000,
          2005,
          2010,
          2015,
          2020,
          2022,
          2023
         ],
         "y": [
          "4,938,118",
          "5,357,195",
          "5,736,582",
          "6,029,700",
          "7,032,713",
          "8,330,047",
          "9,970,621",
          "11,828,638",
          "13,912,253",
          "16,394,062",
          "19,450,959",
          "23,364,185",
          "28,127,721",
          "33,428,486",
          "35,588,987",
          "36,684,202"
         ]
        },
        {
         "marker": {
          "color": "rgba(226, 74, 51, 0.6)",
          "line": {
           "color": "rgba(226, 74, 51, 0.6904522613065327)",
           "width": 1
          }
         },
         "name": "Cambodia",
         "orientation": "v",
         "text": "",
         "type": "bar",
         "x": [
          1955,
          1960,
          1965,
          1970,
          1975,
          1980,
          1985,
          1990,
          1995,
          2000,
          2005,
          2010,
          2015,
          2020,
          2022,
          2023
         ],
         "y": [
          "4,931,224",
          "5,541,676",
          "6,170,727",
          "6,708,525",
          "6,727,922",
          "6,198,959",
          "7,376,090",
          "8,910,808",
          "10,919,528",
          "12,118,841",
          "13,246,583",
          "14,363,532",
          "15,417,523",
          "16,396,860",
          "16,767,842",
          "16,944,826"
         ]
        },
        {
         "marker": {
          "color": "rgba(62, 111, 176, 0.6)",
          "line": {
           "color": "rgba(62, 111, 176, 0.6904522613065327)",
           "width": 1
          }
         },
         "name": "Cameroon",
         "orientation": "v",
         "text": "",
         "type": "bar",
         "x": [
          1955,
          1960,
          1965,
          1970,
          1975,
          1980,
          1985,
          1990,
          1995,
          2000,
          2005,
          2010,
          2015,
          2020,
          2022,
          2023
         ],
         "y": [
          "4,670,538",
          "5,117,608",
          "5,690,086",
          "6,452,787",
          "7,397,417",
          "8,519,891",
          "9,804,254",
          "11,430,520",
          "13,211,647",
          "15,091,594",
          "17,275,171",
          "19,878,036",
          "23,012,646",
          "26,491,087",
          "27,914,536",
          "28,647,293"
         ]
        },
        {
         "marker": {
          "color": "rgba(132, 118, 202, 0.6)",
          "line": {
           "color": "rgba(132, 118, 202, 0.6904522613065327)",
           "width": 1
          }
         },
         "name": "Burkina Faso",
         "orientation": "v",
         "text": "",
         "type": "bar",
         "x": [
          1955,
          1960,
          1965,
          1970,
          1975,
          1980,
          1985,
          1990,
          1995,
          2000,
          2005,
          2010,
          2015,
          2020,
          2022,
          2023
         ],
         "y": [
          "4,472,824",
          "4,783,259",
          "5,157,929",
          "5,611,666",
          "6,138,444",
          "6,932,967",
          "7,979,185",
          "9,131,361",
          "10,353,263",
          "11,882,888",
          "13,876,127",
          "16,116,845",
          "18,718,019",
          "21,522,626",
          "22,673,762",
          "23,251,485"
         ]
        },
        {
         "marker": {
          "color": "rgba(132, 118, 202, 0.6)",
          "line": {
           "color": "rgba(132, 118, 202, 0.6623115577889447)",
           "width": 1
          }
         },
         "name": "Madagascar",
         "orientation": "v",
         "text": "",
         "type": "bar",
         "x": [
          1955,
          1960,
          1965,
          1970,
          1975,
          1980,
          1985,
          1990,
          1995,
          2000,
          2005,
          2010,
          2015,
          2020,
          2022,
          2023
         ],
         "y": [
          "4,467,590",
          "5,073,342",
          "5,780,453",
          "6,639,751",
          "7,720,859",
          "8,948,162",
          "10,297,746",
          "11,882,762",
          "13,869,138",
          "16,216,431",
          "18,792,171",
          "21,731,053",
          "24,850,912",
          "28,225,177",
          "29,611,714",
          "30,325,732"
         ]
        },
        {
         "marker": {
          "color": "rgba(101, 101, 101, 0.6)",
          "line": {
           "color": "rgba(101, 101, 101, 0.6623115577889447)",
           "width": 1
          }
         },
         "name": "Denmark",
         "orientation": "v",
         "text": "",
         "type": "bar",
         "x": [
          1955,
          1960,
          1965,
          1970,
          1975,
          1980,
          1985,
          1990,
          1995,
          2000,
          2005,
          2010,
          2015,
          2020,
          2022,
          2023
         ],
         "y": [
          "4,426,508",
          "4,581,727",
          "4,756,337",
          "4,922,963",
          "5,058,203",
          "5,125,392",
          "5,119,452",
          "5,144,623",
          "5,235,197",
          "5,340,655",
          "5,436,313",
          "5,550,849",
          "5,677,796",
          "5,825,641",
          "5,882,261",
          "5,910,913"
         ]
        },
        {
         "marker": {
          "color": "rgba(251, 193, 94, 0.6)",
          "line": {
           "color": "rgba(251, 193, 94, 0.6623115577889447)",
           "width": 1
          }
         },
         "name": "Finland",
         "orientation": "v",
         "text": "",
         "type": "bar",
         "x": [
          1955,
          1960,
          1965,
          1970,
          1975,
          1980,
          1985,
          1990,
          1995,
          2000,
          2005,
          2010,
          2015,
          2020,
          2022,
          2023
         ],
         "y": [
          "4,235,413",
          "4,430,173",
          "4,564,583",
          "4,606,621",
          "4,711,368",
          "4,779,418",
          "4,902,175",
          "4,986,545",
          "5,107,943",
          "5,176,209",
          "5,246,071",
          "5,363,271",
          "5,479,461",
          "5,529,468",
          "5,540,745",
          "5,545,475"
         ]
        },
        {
         "marker": {
          "color": "rgba(142, 186, 66, 0.6)",
          "line": {
           "color": "rgba(142, 186, 66, 0.6623115577889447)",
           "width": 1
          }
         },
         "name": "Croatia",
         "orientation": "v",
         "text": "",
         "type": "bar",
         "x": [
          1955,
          1960,
          1965,
          1970,
          1975,
          1980,
          1985,
          1990,
          1995,
          2000,
          2005,
          2010,
          2015,
          2020,
          2022,
          2023
         ],
         "y": [
          "4,049,659",
          "4,215,324",
          "4,371,381",
          "4,492,638",
          "4,579,428",
          "4,680,144",
          "4,803,325",
          "4,873,707",
          "4,807,100",
          "4,548,434",
          "4,429,681",
          "4,368,682",
          "4,254,815",
          "4,096,869",
          "4,030,358",
          "4,008,617"
         ]
        },
        {
         "marker": {
          "color": "rgba(255, 181, 184, 0.6)",
          "line": {
           "color": "rgba(255, 181, 184, 0.6623115577889447)",
           "width": 1
          }
         },
         "name": "Ecuador",
         "orientation": "v",
         "text": "",
         "type": "bar",
         "x": [
          1955,
          1960,
          1965,
          1970,
          1975,
          1980,
          1985,
          1990,
          1995,
          2000,
          2005,
          2010,
          2015,
          2020,
          2022,
          2023
         ],
         "y": [
          "4,022,378",
          "4,618,158",
          "5,337,351",
          "6,172,215",
          "7,105,786",
          "8,135,845",
          "9,254,311",
          "10,449,837",
          "11,561,683",
          "12,626,507",
          "13,770,012",
          "14,989,585",
          "16,195,902",
          "17,588,595",
          "18,001,000",
          "18,190,484"
         ]
        },
        {
         "marker": {
          "color": "rgba(226, 74, 51, 0.6)",
          "line": {
           "color": "rgba(226, 74, 51, 0.6623115577889447)",
           "width": 1
          }
         },
         "name": "India",
         "orientation": "v",
         "text": "",
         "type": "bar",
         "x": [
          1955,
          1960,
          1965,
          1970,
          1975,
          1980,
          1985,
          1990,
          1995,
          2000,
          2005,
          2010,
          2015,
          2020,
          2022,
          2023
         ],
         "y": [
          "398,577,992",
          "445,954,579",
          "500,114,346",
          "557,501,301",
          "623,524,219",
          "696,828,385",
          "780,242,084",
          "870,452,165",
          "964,279,129",
          "1,059,633,675",
          "1,154,638,713",
          "1,240,613,620",
          "1,322,866,505",
          "1,396,387,127",
          "1,417,173,173",
          "1,428,627,663"
         ]
        },
        {
         "marker": {
          "color": "rgba(62, 111, 176, 0.6)",
          "line": {
           "color": "rgba(62, 111, 176, 0.6623115577889447)",
           "width": 1
          }
         },
         "name": "Ukraine",
         "orientation": "v",
         "text": "",
         "type": "bar",
         "x": [
          1955,
          1960,
          1965,
          1970,
          1975,
          1980,
          1985,
          1990,
          1995,
          2000,
          2005,
          2010,
          2015,
          2020,
          2022,
          2023
         ],
         "y": [
          "39,836,510",
          "42,767,251",
          "45,387,091",
          "47,279,086",
          "48,892,187",
          "49,973,920",
          "50,917,399",
          "51,589,817",
          "51,061,265",
          "48,879,755",
          "46,912,610",
          "45,683,020",
          "44,982,564",
          "43,909,666",
          "39,701,739",
          "36,744,634"
         ]
        },
        {
         "marker": {
          "color": "rgba(62, 111, 176, 0.6)",
          "line": {
           "color": "rgba(62, 111, 176, 0.6341708542713569)",
           "width": 1
          }
         },
         "name": "Seychelles",
         "orientation": "v",
         "text": "",
         "type": "bar",
         "x": [
          1955,
          1960,
          1965,
          1970,
          1975,
          1980,
          1985,
          1990,
          1995,
          2000,
          2005,
          2010,
          2015,
          2020,
          2022,
          2023
         ],
         "y": [
          "39,788",
          "43,167",
          "48,123",
          "54,379",
          "60,943",
          "65,290",
          "67,833",
          "71,057",
          "74,735",
          "80,060",
          "85,883",
          "92,409",
          "99,240",
          "105,530",
          "107,118",
          "107,660"
         ]
        },
        {
         "marker": {
          "color": "rgba(132, 118, 202, 0.6)",
          "line": {
           "color": "rgba(132, 118, 202, 0.6341708542713569)",
           "width": 1
          }
         },
         "name": "Gambia",
         "orientation": "v",
         "text": "",
         "type": "bar",
         "x": [
          1955,
          1960,
          1965,
          1970,
          1975,
          1980,
          1985,
          1990,
          1995,
          2000,
          2005,
          2010,
          2015,
          2020,
          2022,
          2023
         ],
         "y": [
          "349,374",
          "399,649",
          "458,908",
          "528,731",
          "612,909",
          "718,586",
          "855,958",
          "1,040,616",
          "1,242,155",
          "1,437,539",
          "1,660,368",
          "1,937,275",
          "2,253,133",
          "2,573,995",
          "2,705,992",
          "2,773,168"
         ]
        },
        {
         "marker": {
          "color": "rgba(101, 101, 101, 0.6)",
          "line": {
           "color": "rgba(101, 101, 101, 0.6341708542713569)",
           "width": 1
          }
         },
         "name": "Fiji",
         "orientation": "v",
         "text": "",
         "type": "bar",
         "x": [
          1955,
          1960,
          1965,
          1970,
          1975,
          1980,
          1985,
          1990,
          1995,
          2000,
          2005,
          2010,
          2015,
          2020,
          2022,
          2023
         ],
         "y": [
          "343,693",
          "401,841",
          "469,010",
          "527,634",
          "575,804",
          "644,582",
          "727,461",
          "780,430",
          "792,246",
          "832,509",
          "874,923",
          "905,169",
          "917,200",
          "920,422",
          "929,766",
          "936,375"
         ]
        },
        {
         "marker": {
          "color": "rgba(251, 193, 94, 0.6)",
          "line": {
           "color": "rgba(251, 193, 94, 0.6341708542713569)",
           "width": 1
          }
         },
         "name": "Malta",
         "orientation": "v",
         "text": "",
         "type": "bar",
         "x": [
          1955,
          1960,
          1965,
          1970,
          1975,
          1980,
          1985,
          1990,
          1995,
          2000,
          2005,
          2010,
          2015,
          2020,
          2022,
          2023
         ],
         "y": [
          "323,596",
          "337,628",
          "326,401",
          "315,414",
          "319,619",
          "333,587",
          "349,118",
          "365,392",
          "381,849",
          "399,212",
          "410,208",
          "418,755",
          "456,579",
          "515,358",
          "533,286",
          "535,064"
         ]
        },
        {
         "marker": {
          "color": "rgba(142, 186, 66, 0.6)",
          "line": {
           "color": "rgba(142, 186, 66, 0.6341708542713569)",
           "width": 1
          }
         },
         "name": "Mexico",
         "orientation": "v",
         "text": "",
         "type": "bar",
         "x": [
          1955,
          1960,
          1965,
          1970,
          1975,
          1980,
          1985,
          1990,
          1995,
          2000,
          2005,
          2010,
          2015,
          2020,
          2022,
          2023
         ],
         "y": [
          "31,452,141",
          "36,268,055",
          "42,737,991",
          "50,289,306",
          "58,691,882",
          "67,705,186",
          "74,872,006",
          "81,720,428",
          "89,969,572",
          "97,873,442",
          "105,442,402",
          "112,532,401",
          "120,149,897",
          "125,998,302",
          "127,504,125",
          "128,455,567"
         ]
        },
        {
         "marker": {
          "color": "rgba(255, 181, 184, 0.6)",
          "line": {
           "color": "rgba(255, 181, 184, 0.6341708542713569)",
           "width": 1
          }
         },
         "name": "Eswatini",
         "orientation": "v",
         "text": "",
         "type": "bar",
         "x": [
          1955,
          1960,
          1965,
          1970,
          1975,
          1980,
          1985,
          1990,
          1995,
          2000,
          2005,
          2010,
          2015,
          2020,
          2022,
          2023
         ],
         "y": [
          "307,078",
          "345,065",
          "388,317",
          "442,865",
          "509,535",
          "598,564",
          "702,400",
          "854,011",
          "953,573",
          "1,030,496",
          "1,071,886",
          "1,099,920",
          "1,133,936",
          "1,180,655",
          "1,201,670",
          "1,210,822"
         ]
        },
        {
         "marker": {
          "color": "rgba(226, 74, 51, 0.6)",
          "line": {
           "color": "rgba(226, 74, 51, 0.6341708542713569)",
           "width": 1
          }
         },
         "name": "Luxembourg",
         "orientation": "v",
         "text": "",
         "type": "bar",
         "x": [
          1955,
          1960,
          1965,
          1970,
          1975,
          1980,
          1985,
          1990,
          1995,
          2000,
          2005,
          2010,
          2015,
          2020,
          2022,
          2023
         ],
         "y": [
          "305,514",
          "314,168",
          "329,794",
          "339,342",
          "353,666",
          "363,741",
          "366,466",
          "381,267",
          "407,635",
          "435,628",
          "464,860",
          "507,070",
          "569,408",
          "630,399",
          "647,599",
          "654,768"
         ]
        },
        {
         "marker": {
          "color": "rgba(226, 74, 51, 0.6)",
          "line": {
           "color": "rgba(226, 74, 51, 0.6060301507537689)",
           "width": 1
          }
         },
         "name": "Réunion",
         "orientation": "v",
         "text": "",
         "type": "bar",
         "x": [
          1955,
          1960,
          1965,
          1970,
          1975,
          1980,
          1985,
          1990,
          1995,
          2000,
          2005,
          2010,
          2015,
          2020,
          2022,
          2023
         ],
         "y": [
          "301,358",
          "365,994",
          "427,612",
          "473,925",
          "515,586",
          "551,674",
          "599,299",
          "658,992",
          "725,978",
          "785,424",
          "833,656",
          "890,130",
          "922,495",
          "957,822",
          "974,052",
          "981,796"
         ]
        },
        {
         "marker": {
          "color": "rgba(62, 111, 176, 0.6)",
          "line": {
           "color": "rgba(62, 111, 176, 0.6060301507537689)",
           "width": 1
          }
         },
         "name": "Syria",
         "orientation": "v",
         "text": "",
         "type": "bar",
         "x": [
          1955,
          1960,
          1965,
          1970,
          1975,
          1980,
          1985,
          1990,
          1995,
          2000,
          2005,
          2010,
          2015,
          2020,
          2022,
          2023
         ],
         "y": [
          "3,989,101",
          "4,610,712",
          "5,368,451",
          "6,319,199",
          "7,497,126",
          "8,898,954",
          "10,540,926",
          "12,408,996",
          "14,313,450",
          "16,307,654",
          "18,583,557",
          "22,337,563",
          "19,205,178",
          "20,772,595",
          "22,125,249",
          "23,227,014"
         ]
        },
        {
         "marker": {
          "color": "rgba(132, 118, 202, 0.6)",
          "line": {
           "color": "rgba(132, 118, 202, 0.6060301507537689)",
           "width": 1
          }
         },
         "name": "Tunisia",
         "orientation": "v",
         "text": "",
         "type": "bar",
         "x": [
          1955,
          1960,
          1965,
          1970,
          1975,
          1980,
          1985,
          1990,
          1995,
          2000,
          2005,
          2010,
          2015,
          2020,
          2022,
          2023
         ],
         "y": [
          "3,975,544",
          "4,195,467",
          "4,457,282",
          "5,047,404",
          "5,769,074",
          "6,578,156",
          "7,476,092",
          "8,440,023",
          "9,294,102",
          "9,893,316",
          "10,388,344",
          "10,895,063",
          "11,557,779",
          "12,161,723",
          "12,356,117",
          "12,458,223"
         ]
        },
        {
         "marker": {
          "color": "rgba(101, 101, 101, 0.6)",
          "line": {
           "color": "rgba(101, 101, 101, 0.6060301507537689)",
           "width": 1
          }
         },
         "name": "Slovakia",
         "orientation": "v",
         "text": "",
         "type": "bar",
         "x": [
          1955,
          1960,
          1965,
          1970,
          1975,
          1980,
          1985,
          1990,
          1995,
          2000,
          2005,
          2010,
          2015,
          2020,
          2022,
          2023
         ],
         "y": [
          "3,796,626",
          "4,124,239",
          "4,363,511",
          "4,522,867",
          "4,737,059",
          "4,973,883",
          "5,146,571",
          "5,261,305",
          "5,349,997",
          "5,376,690",
          "5,376,242",
          "5,396,424",
          "5,424,444",
          "5,456,681",
          "5,643,453",
          "5,795,199"
         ]
        },
        {
         "marker": {
          "color": "rgba(251, 193, 94, 0.6)",
          "line": {
           "color": "rgba(251, 193, 94, 0.6060301507537689)",
           "width": 1
          }
         },
         "name": "Georgia",
         "orientation": "v",
         "text": "",
         "type": "bar",
         "x": [
          1955,
          1960,
          1965,
          1970,
          1975,
          1980,
          1985,
          1990,
          1995,
          2000,
          2005,
          2010,
          2015,
          2020,
          2022,
          2023
         ],
         "y": [
          "3,738,231",
          "4,051,492",
          "4,418,592",
          "4,800,426",
          "4,970,320",
          "5,145,843",
          "5,338,867",
          "5,391,636",
          "4,877,676",
          "4,265,172",
          "3,961,182",
          "3,836,831",
          "3,771,132",
          "3,765,912",
          "3,744,385",
          "3,728,282"
         ]
        },
        {
         "marker": {
          "color": "rgba(142, 186, 66, 0.6)",
          "line": {
           "color": "rgba(142, 186, 66, 0.6060301507537689)",
           "width": 1
          }
         },
         "name": "Saudi Arabia",
         "orientation": "v",
         "text": "",
         "type": "bar",
         "x": [
          1955,
          1960,
          1965,
          1970,
          1975,
          1980,
          1985,
          1990,
          1995,
          2000,
          2005,
          2010,
          2015,
          2020,
          2022,
          2023
         ],
         "y": [
          "3,581,910",
          "4,165,563",
          "4,978,922",
          "6,106,191",
          "7,897,544",
          "10,171,710",
          "12,890,245",
          "16,004,763",
          "18,888,857",
          "21,547,390",
          "24,397,644",
          "29,411,929",
          "32,749,848",
          "35,997,107",
          "36,408,820",
          "36,947,025"
         ]
        },
        {
         "marker": {
          "color": "rgba(255, 181, 184, 0.6)",
          "line": {
           "color": "rgba(255, 181, 184, 0.6060301507537689)",
           "width": 1
          }
         },
         "name": "Guatemala",
         "orientation": "v",
         "text": "",
         "type": "bar",
         "x": [
          1955,
          1960,
          1965,
          1970,
          1975,
          1980,
          1985,
          1990,
          1995,
          2000,
          2005,
          2010,
          2015,
          2020,
          2022,
          2023
         ],
         "y": [
          "3,560,239",
          "4,098,352",
          "4,744,461",
          "5,453,208",
          "6,201,734",
          "6,987,767",
          "7,932,185",
          "9,084,780",
          "10,363,090",
          "11,735,894",
          "13,132,814",
          "14,543,121",
          "16,001,107",
          "17,362,718",
          "17,843,908",
          "18,092,026"
         ]
        },
        {
         "marker": {
          "color": "rgba(255, 181, 184, 0.6)",
          "line": {
           "color": "rgba(255, 181, 184, 0.5778894472361809)",
           "width": 1
          }
         },
         "name": "Azerbaijan",
         "orientation": "v",
         "text": "",
         "type": "bar",
         "x": [
          1955,
          1960,
          1965,
          1970,
          1975,
          1980,
          1985,
          1990,
          1995,
          2000,
          2005,
          2010,
          2015,
          2020,
          2022,
          2023
         ],
         "y": [
          "3,550,017",
          "4,131,484",
          "4,837,811",
          "5,425,317",
          "5,925,012",
          "6,383,060",
          "6,891,140",
          "7,427,836",
          "7,889,330",
          "8,190,337",
          "8,656,237",
          "9,237,202",
          "9,863,480",
          "10,284,951",
          "10,358,074",
          "10,412,651"
         ]
        },
        {
         "marker": {
          "color": "rgba(226, 74, 51, 0.6)",
          "line": {
           "color": "rgba(226, 74, 51, 0.5778894472361809)",
           "width": 1
          }
         },
         "name": "Haiti",
         "orientation": "v",
         "text": "",
         "type": "bar",
         "x": [
          1955,
          1960,
          1965,
          1970,
          1975,
          1980,
          1985,
          1990,
          1995,
          2000,
          2005,
          2010,
          2015,
          2020,
          2022,
          2023
         ],
         "y": [
          "3,545,999",
          "3,901,139",
          "4,274,348",
          "4,680,812",
          "5,124,560",
          "5,646,676",
          "6,245,539",
          "6,925,331",
          "7,627,316",
          "8,360,225",
          "9,111,900",
          "9,842,880",
          "10,563,757",
          "11,306,801",
          "11,584,996",
          "11,724,763"
         ]
        },
        {
         "marker": {
          "color": "rgba(62, 111, 176, 0.6)",
          "line": {
           "color": "rgba(62, 111, 176, 0.5778894472361809)",
           "width": 1
          }
         },
         "name": "Norway",
         "orientation": "v",
         "text": "",
         "type": "bar",
         "x": [
          1955,
          1960,
          1965,
          1970,
          1975,
          1980,
          1985,
          1990,
          1995,
          2000,
          2005,
          2010,
          2015,
          2020,
          2022,
          2023
         ],
         "y": [
          "3,429,090",
          "3,581,520",
          "3,723,510",
          "3,875,546",
          "4,007,466",
          "4,085,776",
          "4,152,637",
          "4,241,636",
          "4,359,333",
          "4,491,202",
          "4,623,689",
          "4,889,741",
          "5,190,356",
          "5,379,839",
          "5,434,319",
          "5,474,360"
         ]
        },
        {
         "marker": {
          "color": "rgba(132, 118, 202, 0.6)",
          "line": {
           "color": "rgba(132, 118, 202, 0.5778894472361809)",
           "width": 1
          }
         },
         "name": "Bolivia",
         "orientation": "v",
         "text": "",
         "type": "bar",
         "x": [
          1955,
          1960,
          1965,
          1970,
          1975,
          1980,
          1985,
          1990,
          1995,
          2000,
          2005,
          2010,
          2015,
          2020,
          2022,
          2023
         ],
         "y": [
          "3,357,923",
          "3,707,515",
          "4,115,511",
          "4,585,693",
          "5,127,776",
          "5,736,088",
          "6,385,630",
          "7,096,194",
          "7,841,471",
          "8,592,656",
          "9,377,388",
          "10,223,270",
          "11,090,085",
          "11,936,162",
          "12,224,110",
          "12,388,571"
         ]
        },
        {
         "marker": {
          "color": "rgba(101, 101, 101, 0.6)",
          "line": {
           "color": "rgba(101, 101, 101, 0.5778894472361809)",
           "width": 1
          }
         },
         "name": "Zimbabwe",
         "orientation": "v",
         "text": "",
         "type": "bar",
         "x": [
          1955,
          1960,
          1965,
          1970,
          1975,
          1980,
          1985,
          1990,
          1995,
          2000,
          2005,
          2010,
          2015,
          2020,
          2022,
          2023
         ],
         "y": [
          "3,263,625",
          "3,806,310",
          "4,447,149",
          "5,202,918",
          "6,097,083",
          "7,049,926",
          "8,690,515",
          "10,113,893",
          "10,994,041",
          "11,834,676",
          "12,224,753",
          "12,839,771",
          "14,154,937",
          "15,669,666",
          "16,320,537",
          "16,665,409"
         ]
        },
        {
         "marker": {
          "color": "rgba(251, 193, 94, 0.6)",
          "line": {
           "color": "rgba(251, 193, 94, 0.5778894472361809)",
           "width": 1
          }
         },
         "name": "Malawi",
         "orientation": "v",
         "text": "",
         "type": "bar",
         "x": [
          1955,
          1960,
          1965,
          1970,
          1975,
          1980,
          1985,
          1990,
          1995,
          2000,
          2005,
          2010,
          2015,
          2020,
          2022,
          2023
         ],
         "y": [
          "3,240,318",
          "3,621,081",
          "4,089,097",
          "4,625,141",
          "5,280,965",
          "6,267,369",
          "7,625,078",
          "9,539,665",
          "10,112,816",
          "11,229,387",
          "12,755,648",
          "14,718,422",
          "16,938,942",
          "19,377,061",
          "20,405,317",
          "20,931,751"
         ]
        },
        {
         "marker": {
          "color": "rgba(142, 186, 66, 0.6)",
          "line": {
           "color": "rgba(142, 186, 66, 0.5778894472361809)",
           "width": 1
          }
         },
         "name": "Guinea",
         "orientation": "v",
         "text": "",
         "type": "bar",
         "x": [
          1955,
          1960,
          1965,
          1970,
          1975,
          1980,
          1985,
          1990,
          1995,
          2000,
          2005,
          2010,
          2015,
          2020,
          2022,
          2023
         ],
         "y": [
          "3,234,056",
          "3,516,814",
          "3,845,074",
          "4,222,374",
          "4,588,006",
          "4,972,609",
          "5,531,661",
          "6,354,145",
          "7,468,347",
          "8,336,967",
          "9,140,114",
          "10,270,728",
          "11,625,998",
          "13,205,153",
          "13,859,341",
          "14,190,612"
         ]
        },
        {
         "marker": {
          "color": "rgba(142, 186, 66, 0.6)",
          "line": {
           "color": "rgba(142, 186, 66, 0.5497487437185931)",
           "width": 1
          }
         },
         "name": "Côte d'Ivoire",
         "orientation": "v",
         "text": "",
         "type": "bar",
         "x": [
          1955,
          1960,
          1965,
          1970,
          1975,
          1980,
          1985,
          1990,
          1995,
          2000,
          2005,
          2010,
          2015,
          2020,
          2022,
          2023
         ],
         "y": [
          "3,154,282",
          "3,708,661",
          "4,492,890",
          "5,477,086",
          "6,853,981",
          "8,303,810",
          "9,964,075",
          "11,910,540",
          "14,299,727",
          "16,799,670",
          "18,970,215",
          "21,120,042",
          "23,596,741",
          "26,811,790",
          "28,160,542",
          "28,873,034"
         ]
        },
        {
         "marker": {
          "color": "rgba(255, 181, 184, 0.6)",
          "line": {
           "color": "rgba(255, 181, 184, 0.5497487437185931)",
           "width": 1
          }
         },
         "name": "Niger",
         "orientation": "v",
         "text": "",
         "type": "bar",
         "x": [
          1955,
          1960,
          1965,
          1970,
          1975,
          1980,
          1985,
          1990,
          1995,
          2000,
          2005,
          2010,
          2015,
          2020,
          2022,
          2023
         ],
         "y": [
          "3,018,555",
          "3,497,431",
          "4,053,524",
          "4,669,708",
          "5,339,497",
          "6,173,177",
          "7,187,618",
          "8,370,648",
          "9,813,918",
          "11,622,665",
          "13,855,221",
          "16,647,543",
          "20,128,124",
          "24,333,639",
          "26,207,977",
          "27,202,843"
         ]
        },
        {
         "marker": {
          "color": "rgba(226, 74, 51, 0.6)",
          "line": {
           "color": "rgba(226, 74, 51, 0.5497487437185931)",
           "width": 1
          }
         },
         "name": "U.S. Virgin Islands",
         "orientation": "v",
         "text": "",
         "type": "bar",
         "x": [
          1955,
          1960,
          1965,
          1970,
          1975,
          1980,
          1985,
          1990,
          1995,
          2000,
          2005,
          2010,
          2015,
          2020,
          2022,
          2023
         ],
         "y": [
          "29,303",
          "32,861",
          "46,283",
          "63,446",
          "81,368",
          "96,640",
          "101,912",
          "100,685",
          "103,454",
          "108,185",
          "106,481",
          "106,142",
          "102,803",
          "100,442",
          "99,465",
          "98,750"
         ]
        },
        {
         "marker": {
          "color": "rgba(62, 111, 176, 0.6)",
          "line": {
           "color": "rgba(62, 111, 176, 0.5497487437185931)",
           "width": 1
          }
         },
         "name": "Spain",
         "orientation": "v",
         "text": "",
         "type": "bar",
         "x": [
          1955,
          1960,
          1965,
          1970,
          1975,
          1980,
          1985,
          1990,
          1995,
          2000,
          2005,
          2010,
          2015,
          2020,
          2022,
          2023
         ],
         "y": [
          "29,095,374",
          "30,415,591",
          "32,112,015",
          "33,792,617",
          "35,760,431",
          "37,491,666",
          "38,471,920",
          "38,889,889",
          "39,814,573",
          "40,741,651",
          "43,685,374",
          "46,572,772",
          "46,431,342",
          "47,363,807",
          "47,558,630",
          "47,519,628"
         ]
        },
        {
         "marker": {
          "color": "rgba(132, 118, 202, 0.6)",
          "line": {
           "color": "rgba(132, 118, 202, 0.5497487437185931)",
           "width": 1
          }
         },
         "name": "Qatar",
         "orientation": "v",
         "text": "",
         "type": "bar",
         "x": [
          1955,
          1960,
          1965,
          1970,
          1975,
          1980,
          1985,
          1990,
          1995,
          2000,
          2005,
          2010,
          2015,
          2020,
          2022,
          2023
         ],
         "y": [
          "28,668",
          "36,385",
          "64,843",
          "118,007",
          "195,043",
          "277,450",
          "365,868",
          "441,675",
          "515,133",
          "645,937",
          "848,710",
          "1,713,504",
          "2,414,573",
          "2,760,385",
          "2,695,122",
          "2,716,391"
         ]
        },
        {
         "marker": {
          "color": "rgba(101, 101, 101, 0.6)",
          "line": {
           "color": "rgba(101, 101, 101, 0.5497487437185931)",
           "width": 1
          }
         },
         "name": "Vietnam",
         "orientation": "v",
         "text": "",
         "type": "bar",
         "x": [
          1955,
          1960,
          1965,
          1970,
          1975,
          1980,
          1985,
          1990,
          1995,
          2000,
          2005,
          2010,
          2015,
          2020,
          2022,
          2023
         ],
         "y": [
          "28,263,031",
          "32,718,461",
          "37,466,077",
          "41,928,849",
          "46,969,616",
          "52,968,270",
          "59,811,313",
          "66,912,613",
          "73,759,110",
          "79,001,142",
          "83,142,095",
          "87,411,012",
          "92,191,398",
          "96,648,685",
          "98,186,856",
          "98,858,950"
         ]
        },
        {
         "marker": {
          "color": "rgba(251, 193, 94, 0.6)",
          "line": {
           "color": "rgba(251, 193, 94, 0.5497487437185931)",
           "width": 1
          }
         },
         "name": "Poland",
         "orientation": "v",
         "text": "",
         "type": "bar",
         "x": [
          1955,
          1960,
          1965,
          1970,
          1975,
          1980,
          1985,
          1990,
          1995,
          2000,
          2005,
          2010,
          2015,
          2020,
          2022,
          2023
         ],
         "y": [
          "27,099,199",
          "29,509,903",
          "31,224,081",
          "32,482,943",
          "33,899,770",
          "35,521,429",
          "37,179,160",
          "38,064,255",
          "38,401,978",
          "38,504,431",
          "38,575,911",
          "38,597,353",
          "38,553,146",
          "38,428,366",
          "39,857,145",
          "41,026,067"
         ]
        },
        {
         "marker": {
          "color": "rgba(251, 193, 94, 0.6)",
          "line": {
           "color": "rgba(251, 193, 94, 0.521608040201005)",
           "width": 1
          }
         },
         "name": "Martinique",
         "orientation": "v",
         "text": "",
         "type": "bar",
         "x": [
          1955,
          1960,
          1965,
          1970,
          1975,
          1980,
          1985,
          1990,
          1995,
          2000,
          2005,
          2010,
          2015,
          2020,
          2022,
          2023
         ],
         "y": [
          "262,164",
          "290,092",
          "313,791",
          "326,428",
          "328,795",
          "333,786",
          "348,728",
          "374,271",
          "409,942",
          "432,543",
          "400,370",
          "392,181",
          "383,515",
          "370,391",
          "367,507",
          "366,981"
         ]
        },
        {
         "marker": {
          "color": "rgba(142, 186, 66, 0.6)",
          "line": {
           "color": "rgba(142, 186, 66, 0.521608040201005)",
           "width": 1
          }
         },
         "name": "French Guiana",
         "orientation": "v",
         "text": "",
         "type": "bar",
         "x": [
          1955,
          1960,
          1965,
          1970,
          1975,
          1980,
          1985,
          1990,
          1995,
          2000,
          2005,
          2010,
          2015,
          2020,
          2022,
          2023
         ],
         "y": [
          "25,456",
          "31,125",
          "38,946",
          "46,484",
          "54,347",
          "66,825",
          "86,931",
          "113,931",
          "137,183",
          "164,351",
          "201,259",
          "228,453",
          "257,026",
          "290,969",
          "304,557",
          "312,155"
         ]
        },
        {
         "marker": {
          "color": "rgba(255, 181, 184, 0.6)",
          "line": {
           "color": "rgba(255, 181, 184, 0.521608040201005)",
           "width": 1
          }
         },
         "name": "Equatorial Guinea",
         "orientation": "v",
         "text": "",
         "type": "bar",
         "x": [
          1955,
          1960,
          1965,
          1970,
          1975,
          1980,
          1985,
          1990,
          1995,
          2000,
          2005,
          2010,
          2015,
          2020,
          2022,
          2023
         ],
         "y": [
          "245,800",
          "267,351",
          "295,010",
          "316,955",
          "283,262",
          "282,509",
          "378,379",
          "465,549",
          "560,740",
          "684,977",
          "864,726",
          "1,094,524",
          "1,346,973",
          "1,596,049",
          "1,674,908",
          "1,714,671"
         ]
        },
        {
         "marker": {
          "color": "rgba(226, 74, 51, 0.6)",
          "line": {
           "color": "rgba(226, 74, 51, 0.521608040201005)",
           "width": 1
          }
         },
         "name": "Guadeloupe",
         "orientation": "v",
         "text": "",
         "type": "bar",
         "x": [
          1955,
          1960,
          1965,
          1970,
          1975,
          1980,
          1985,
          1990,
          1995,
          2000,
          2005,
          2010,
          2015,
          2020,
          2022,
          2023
         ],
         "y": [
          "242,576",
          "276,976",
          "303,438",
          "318,310",
          "324,878",
          "334,234",
          "357,844",
          "391,951",
          "413,935",
          "424,067",
          "403,233",
          "403,072",
          "399,089",
          "395,642",
          "395,752",
          "395,839"
         ]
        },
        {
         "marker": {
          "color": "rgba(62, 111, 176, 0.6)",
          "line": {
           "color": "rgba(62, 111, 176, 0.521608040201005)",
           "width": 1
          }
         },
         "name": "Egypt",
         "orientation": "v",
         "text": "",
         "type": "bar",
         "x": [
          1955,
          1960,
          1965,
          1970,
          1975,
          1980,
          1985,
          1990,
          1995,
          2000,
          2005,
          2010,
          2015,
          2020,
          2022,
          2023
         ],
         "y": [
          "23,841,701",
          "27,034,499",
          "30,818,469",
          "34,781,986",
          "38,775,584",
          "43,748,556",
          "50,035,843",
          "57,214,630",
          "64,166,908",
          "71,371,371",
          "79,075,310",
          "87,252,413",
          "97,723,799",
          "107,465,134",
          "110,990,103",
          "112,716,598"
         ]
        },
        {
         "marker": {
          "color": "rgba(132, 118, 202, 0.6)",
          "line": {
           "color": "rgba(132, 118, 202, 0.521608040201005)",
           "width": 1
          }
         },
         "name": "Turkey",
         "orientation": "v",
         "text": "",
         "type": "bar",
         "x": [
          1955,
          1960,
          1965,
          1970,
          1975,
          1980,
          1985,
          1990,
          1995,
          2000,
          2005,
          2010,
          2015,
          2020,
          2022,
          2023
         ],
         "y": [
          "23,821,353",
          "27,510,980",
          "31,374,536",
          "35,540,990",
          "39,673,590",
          "44,089,069",
          "49,175,673",
          "54,324,142",
          "59,305,490",
          "64,113,547",
          "68,704,715",
          "73,195,345",
          "79,646,178",
          "84,135,428",
          "85,341,241",
          "85,816,199"
         ]
        },
        {
         "marker": {
          "color": "rgba(101, 101, 101, 0.6)",
          "line": {
           "color": "rgba(101, 101, 101, 0.521608040201005)",
           "width": 1
          }
         },
         "name": "Thailand",
         "orientation": "v",
         "text": "",
         "type": "bar",
         "x": [
          1955,
          1960,
          1965,
          1970,
          1975,
          1980,
          1985,
          1990,
          1995,
          2000,
          2005,
          2010,
          2015,
          2020,
          2022,
          2023
         ],
         "y": [
          "23,173,970",
          "26,596,584",
          "30,940,270",
          "35,791,728",
          "40,908,471",
          "45,737,753",
          "50,594,940",
          "55,228,410",
          "59,424,834",
          "63,066,603",
          "65,821,360",
          "68,270,489",
          "70,294,397",
          "71,475,664",
          "71,697,030",
          "71,801,279"
         ]
        },
        {
         "marker": {
          "color": "rgba(101, 101, 101, 0.6)",
          "line": {
           "color": "rgba(101, 101, 101, 0.4934673366834173)",
           "width": 1
          }
         },
         "name": "Philippines",
         "orientation": "v",
         "text": "",
         "type": "bar",
         "x": [
          1955,
          1960,
          1965,
          1970,
          1975,
          1980,
          1985,
          1990,
          1995,
          2000,
          2005,
          2010,
          2015,
          2020,
          2022,
          2023
         ],
         "y": [
          "23,027,910",
          "28,486,871",
          "32,805,538",
          "37,435,586",
          "42,394,433",
          "48,419,546",
          "54,812,660",
          "61,558,898",
          "69,250,468",
          "77,958,223",
          "86,261,250",
          "94,636,700",
          "103,031,365",
          "112,190,977",
          "115,559,009",
          "117,337,368"
         ]
        },
        {
         "marker": {
          "color": "rgba(251, 193, 94, 0.6)",
          "line": {
           "color": "rgba(251, 193, 94, 0.4934673366834173)",
           "width": 1
          }
         },
         "name": "Barbados",
         "orientation": "v",
         "text": "",
         "type": "bar",
         "x": [
          1955,
          1960,
          1965,
          1970,
          1975,
          1980,
          1985,
          1990,
          1995,
          2000,
          2005,
          2010,
          2015,
          2020,
          2022,
          2023
         ],
         "y": [
          "227,320",
          "232,550",
          "237,694",
          "241,397",
          "247,090",
          "253,575",
          "257,911",
          "258,868",
          "262,303",
          "264,657",
          "269,477",
          "274,711",
          "278,083",
          "280,693",
          "281,635",
          "281,995"
         ]
        },
        {
         "marker": {
          "color": "rgba(142, 186, 66, 0.6)",
          "line": {
           "color": "rgba(142, 186, 66, 0.4934673366834173)",
           "width": 1
          }
         },
         "name": "Suriname",
         "orientation": "v",
         "text": "",
         "type": "bar",
         "x": [
          1955,
          1960,
          1965,
          1970,
          1975,
          1980,
          1985,
          1990,
          1995,
          2000,
          2005,
          2010,
          2015,
          2020,
          2022,
          2023
         ],
         "y": [
          "227,145",
          "268,396",
          "321,069",
          "379,918",
          "392,137",
          "375,112",
          "387,171",
          "412,756",
          "434,490",
          "478,998",
          "516,220",
          "546,080",
          "575,475",
          "607,065",
          "618,040",
          "623,236"
         ]
        },
        {
         "marker": {
          "color": "rgba(255, 181, 184, 0.6)",
          "line": {
           "color": "rgba(255, 181, 184, 0.4934673366834173)",
           "width": 1
          }
         },
         "name": "Mayotte",
         "orientation": "v",
         "text": "",
         "type": "bar",
         "x": [
          1955,
          1960,
          1965,
          1970,
          1975,
          1980,
          1985,
          1990,
          1995,
          2000,
          2005,
          2010,
          2015,
          2020,
          2022,
          2023
         ],
         "y": [
          "22,942",
          "26,165",
          "30,165",
          "35,383",
          "42,097",
          "52,233",
          "68,287",
          "92,659",
          "124,941",
          "159,215",
          "187,142",
          "211,786",
          "249,545",
          "305,587",
          "326,101",
          "335,995"
         ]
        },
        {
         "marker": {
          "color": "rgba(226, 74, 51, 0.6)",
          "line": {
           "color": "rgba(226, 74, 51, 0.4934673366834173)",
           "width": 1
          }
         },
         "name": "South Korea",
         "orientation": "v",
         "text": "",
         "type": "bar",
         "x": [
          1955,
          1960,
          1965,
          1970,
          1975,
          1980,
          1985,
          1990,
          1995,
          2000,
          2005,
          2010,
          2015,
          2020,
          2022,
          2023
         ],
         "y": [
          "22,075,008",
          "25,817,529",
          "29,179,407",
          "32,601,143",
          "35,930,694",
          "38,170,501",
          "41,232,709",
          "44,120,039",
          "45,393,418",
          "46,788,591",
          "47,889,573",
          "48,813,042",
          "50,994,401",
          "51,844,690",
          "51,815,810",
          "51,784,059"
         ]
        },
        {
         "marker": {
          "color": "rgba(62, 111, 176, 0.6)",
          "line": {
           "color": "rgba(62, 111, 176, 0.4934673366834173)",
           "width": 1
          }
         },
         "name": "Western Sahara",
         "orientation": "v",
         "text": "",
         "type": "bar",
         "x": [
          1955,
          1960,
          1965,
          1970,
          1975,
          1980,
          1985,
          1990,
          1995,
          2000,
          2005,
          2010,
          2015,
          2020,
          2022,
          2023
         ],
         "y": [
          "20,690",
          "33,023",
          "51,206",
          "76,371",
          "66,865",
          "116,775",
          "150,190",
          "178,529",
          "208,381",
          "270,375",
          "339,187",
          "413,296",
          "491,824",
          "556,048",
          "575,986",
          "587,259"
         ]
        },
        {
         "marker": {
          "color": "rgba(132, 118, 202, 0.6)",
          "line": {
           "color": "rgba(132, 118, 202, 0.4934673366834173)",
           "width": 1
          }
         },
         "name": "Bosnia and Herzegovina",
         "orientation": "v",
         "text": "",
         "type": "bar",
         "x": [
          1955,
          1960,
          1965,
          1970,
          1975,
          1980,
          1985,
          1990,
          1995,
          2000,
          2005,
          2010,
          2015,
          2020,
          2022,
          2023
         ],
         "y": [
          "2,958,430",
          "3,262,539",
          "3,565,517",
          "3,815,561",
          "4,022,090",
          "4,199,820",
          "4,383,306",
          "4,494,310",
          "3,750,527",
          "4,179,350",
          "4,094,297",
          "3,811,088",
          "3,524,324",
          "3,318,407",
          "3,233,526",
          "3,210,847"
         ]
        },
        {
         "marker": {
          "color": "rgba(132, 118, 202, 0.6)",
          "line": {
           "color": "rgba(132, 118, 202, 0.4653266331658293)",
           "width": 1
          }
         },
         "name": "Ireland",
         "orientation": "v",
         "text": "",
         "type": "bar",
         "x": [
          1955,
          1960,
          1965,
          1970,
          1975,
          1980,
          1985,
          1990,
          1995,
          2000,
          2005,
          2010,
          2015,
          2020,
          2022,
          2023
         ],
         "y": [
          "2,886,368",
          "2,811,067",
          "2,852,401",
          "2,937,637",
          "3,157,919",
          "3,391,387",
          "3,505,769",
          "3,485,374",
          "3,579,482",
          "3,768,950",
          "4,121,216",
          "4,524,585",
          "4,665,760",
          "4,946,119",
          "5,023,109",
          "5,056,935"
         ]
        },
        {
         "marker": {
          "color": "rgba(101, 101, 101, 0.6)",
          "line": {
           "color": "rgba(101, 101, 101, 0.4653266331658293)",
           "width": 1
          }
         },
         "name": "Senegal",
         "orientation": "v",
         "text": "",
         "type": "bar",
         "x": [
          1955,
          1960,
          1965,
          1970,
          1975,
          1980,
          1985,
          1990,
          1995,
          2000,
          2005,
          2010,
          2015,
          2020,
          2022,
          2023
         ],
         "y": [
          "2,847,262",
          "3,273,177",
          "3,770,874",
          "4,367,744",
          "5,047,922",
          "5,703,869",
          "6,520,705",
          "7,536,001",
          "8,632,681",
          "9,704,287",
          "10,974,057",
          "12,530,121",
          "14,356,181",
          "16,436,120",
          "17,316,449",
          "17,763,163"
         ]
        },
        {
         "marker": {
          "color": "rgba(251, 193, 94, 0.6)",
          "line": {
           "color": "rgba(251, 193, 94, 0.4653266331658293)",
           "width": 1
          }
         },
         "name": "Dominican Republic",
         "orientation": "v",
         "text": "",
         "type": "bar",
         "x": [
          1955,
          1960,
          1965,
          1970,
          1975,
          1980,
          1985,
          1990,
          1995,
          2000,
          2005,
          2010,
          2015,
          2020,
          2022,
          2023
         ],
         "y": [
          "2,791,108",
          "3,298,021",
          "3,868,712",
          "4,475,871",
          "5,106,453",
          "5,755,800",
          "6,417,798",
          "7,129,004",
          "7,869,753",
          "8,540,791",
          "9,164,768",
          "9,775,755",
          "10,405,832",
          "10,999,664",
          "11,228,821",
          "11,332,972"
         ]
        },
        {
         "marker": {
          "color": "rgba(142, 186, 66, 0.6)",
          "line": {
           "color": "rgba(142, 186, 66, 0.4653266331658293)",
           "width": 1
          }
         },
         "name": "Chad",
         "orientation": "v",
         "text": "",
         "type": "bar",
         "x": [
          1955,
          1960,
          1965,
          1970,
          1975,
          1980,
          1985,
          1990,
          1995,
          2000,
          2005,
          2010,
          2015,
          2020,
          2022,
          2023
         ],
         "y": [
          "2,756,169",
          "3,028,688",
          "3,336,338",
          "3,667,394",
          "4,084,110",
          "4,408,230",
          "4,967,590",
          "5,827,069",
          "6,888,856",
          "8,259,137",
          "10,005,012",
          "11,894,727",
          "14,140,274",
          "16,644,701",
          "17,723,315",
          "18,278,568"
         ]
        },
        {
         "marker": {
          "color": "rgba(255, 181, 184, 0.6)",
          "line": {
           "color": "rgba(255, 181, 184, 0.4653266331658293)",
           "width": 1
          }
         },
         "name": "Moldova",
         "orientation": "v",
         "text": "",
         "type": "bar",
         "x": [
          1955,
          1960,
          1965,
          1970,
          1975,
          1980,
          1985,
          1990,
          1995,
          2000,
          2005,
          2010,
          2015,
          2020,
          2022,
          2023
         ],
         "y": [
          "2,714,714",
          "3,133,267",
          "3,476,796",
          "3,711,140",
          "3,913,586",
          "4,103,240",
          "4,300,695",
          "4,480,199",
          "4,461,231",
          "4,251,573",
          "4,001,382",
          "3,678,186",
          "3,277,388",
          "3,084,847",
          "3,272,996",
          "3,435,931"
         ]
        },
        {
         "marker": {
          "color": "rgba(226, 74, 51, 0.6)",
          "line": {
           "color": "rgba(226, 74, 51, 0.4653266331658293)",
           "width": 1
          }
         },
         "name": "Lithuania",
         "orientation": "v",
         "text": "",
         "type": "bar",
         "x": [
          1955,
          1960,
          1965,
          1970,
          1975,
          1980,
          1985,
          1990,
          1995,
          2000,
          2005,
          2010,
          2015,
          2020,
          2022,
          2023
         ],
         "y": [
          "2,699,051",
          "2,875,684",
          "3,052,979",
          "3,210,147",
          "3,368,287",
          "3,521,206",
          "3,672,852",
          "3,785,847",
          "3,747,267",
          "3,599,637",
          "3,373,533",
          "3,139,019",
          "2,963,765",
          "2,820,267",
          "2,750,055",
          "2,718,352"
         ]
        },
        {
         "marker": {
          "color": "rgba(62, 111, 176, 0.6)",
          "line": {
           "color": "rgba(62, 111, 176, 0.4653266331658293)",
           "width": 1
          }
         },
         "name": "South Sudan",
         "orientation": "v",
         "text": "",
         "type": "bar",
         "x": [
          1955,
          1960,
          1965,
          1970,
          1975,
          1980,
          1985,
          1990,
          1995,
          2000,
          2005,
          2010,
          2015,
          2020,
          2022,
          2023
         ],
         "y": [
          "2,695,349",
          "2,907,724",
          "3,143,622",
          "3,342,410",
          "3,718,279",
          "4,192,012",
          "4,706,975",
          "4,750,817",
          "5,302,042",
          "6,114,440",
          "7,662,654",
          "9,714,419",
          "11,194,299",
          "10,606,227",
          "10,913,164",
          "11,088,796"
         ]
        },
        {
         "marker": {
          "color": "rgba(62, 111, 176, 0.6)",
          "line": {
           "color": "rgba(62, 111, 176, 0.43718592964824127)",
           "width": 1
          }
         },
         "name": "Zambia",
         "orientation": "v",
         "text": "",
         "type": "bar",
         "x": [
          1955,
          1960,
          1965,
          1970,
          1975,
          1980,
          1985,
          1990,
          1995,
          2000,
          2005,
          2010,
          2015,
          2020,
          2022,
          2023
         ],
         "y": [
          "2,677,209",
          "3,119,430",
          "3,658,024",
          "4,281,671",
          "4,931,249",
          "5,720,438",
          "6,686,449",
          "7,686,401",
          "8,684,135",
          "9,891,136",
          "11,564,870",
          "13,792,086",
          "16,248,230",
          "18,927,715",
          "20,017,675",
          "20,569,737"
         ]
        },
        {
         "marker": {
          "color": "rgba(132, 118, 202, 0.6)",
          "line": {
           "color": "rgba(132, 118, 202, 0.43718592964824127)",
           "width": 1
          }
         },
         "name": "Rwanda",
         "orientation": "v",
         "text": "",
         "type": "bar",
         "x": [
          1955,
          1960,
          1965,
          1970,
          1975,
          1980,
          1985,
          1990,
          1995,
          2000,
          2005,
          2010,
          2015,
          2020,
          2022,
          2023
         ],
         "y": [
          "2,537,919",
          "2,966,162",
          "3,348,631",
          "3,896,367",
          "4,515,756",
          "5,247,532",
          "6,266,752",
          "7,319,962",
          "5,686,897",
          "8,109,989",
          "9,026,299",
          "10,309,031",
          "11,642,959",
          "13,146,362",
          "13,776,698",
          "14,094,683"
         ]
        },
        {
         "marker": {
          "color": "rgba(101, 101, 101, 0.6)",
          "line": {
           "color": "rgba(101, 101, 101, 0.43718592964824127)",
           "width": 1
          }
         },
         "name": "Somalia",
         "orientation": "v",
         "text": "",
         "type": "bar",
         "x": [
          1955,
          1960,
          1965,
          1970,
          1975,
          1980,
          1985,
          1990,
          1995,
          2000,
          2005,
          2010,
          2015,
          2020,
          2022,
          2023
         ],
         "y": [
          "2,529,910",
          "2,870,732",
          "3,267,593",
          "3,720,977",
          "4,228,289",
          "5,892,224",
          "6,630,637",
          "6,999,096",
          "7,210,930",
          "8,721,465",
          "10,467,292",
          "12,026,649",
          "13,763,906",
          "16,537,016",
          "17,597,511",
          "18,143,378"
         ]
        },
        {
         "marker": {
          "color": "rgba(251, 193, 94, 0.6)",
          "line": {
           "color": "rgba(251, 193, 94, 0.43718592964824127)",
           "width": 1
          }
         },
         "name": "Burundi",
         "orientation": "v",
         "text": "",
         "type": "bar",
         "x": [
          1955,
          1960,
          1965,
          1970,
          1975,
          1980,
          1985,
          1990,
          1995,
          2000,
          2005,
          2010,
          2015,
          2020,
          2022,
          2023
         ],
         "y": [
          "2,495,193",
          "2,746,628",
          "3,118,134",
          "3,497,834",
          "3,749,232",
          "4,312,834",
          "4,948,024",
          "5,483,793",
          "5,932,783",
          "6,307,659",
          "7,388,874",
          "9,126,605",
          "10,727,148",
          "12,220,227",
          "12,889,576",
          "13,238,559"
         ]
        },
        {
         "marker": {
          "color": "rgba(142, 186, 66, 0.6)",
          "line": {
           "color": "rgba(142, 186, 66, 0.43718592964824127)",
           "width": 1
          }
         },
         "name": "Hong Kong",
         "orientation": "v",
         "text": "",
         "type": "bar",
         "x": [
          1955,
          1960,
          1965,
          1970,
          1975,
          1980,
          1985,
          1990,
          1995,
          2000,
          2005,
          2010,
          2015,
          2020,
          2022,
          2023
         ],
         "y": [
          "2,490,487",
          "3,114,671",
          "3,602,029",
          "3,955,072",
          "4,451,220",
          "4,978,544",
          "5,411,680",
          "5,838,574",
          "6,243,859",
          "6,731,195",
          "6,936,874",
          "7,132,438",
          "7,399,838",
          "7,500,958",
          "7,488,865",
          "7,491,609"
         ]
        },
        {
         "marker": {
          "color": "rgba(255, 181, 184, 0.6)",
          "line": {
           "color": "rgba(255, 181, 184, 0.43718592964824127)",
           "width": 1
          }
         },
         "name": "El Salvador",
         "orientation": "v",
         "text": "",
         "type": "bar",
         "x": [
          1955,
          1960,
          1965,
          1970,
          1975,
          1980,
          1985,
          1990,
          1995,
          2000,
          2005,
          2010,
          2015,
          2020,
          2022,
          2023
         ],
         "y": [
          "2,448,633",
          "2,779,327",
          "3,179,506",
          "3,619,090",
          "4,076,751",
          "4,508,992",
          "4,876,757",
          "5,367,179",
          "5,748,195",
          "5,958,482",
          "6,037,817",
          "6,114,034",
          "6,231,066",
          "6,292,731",
          "6,336,392",
          "6,364,943"
         ]
        },
        {
         "marker": {
          "color": "rgba(226, 74, 51, 0.6)",
          "line": {
           "color": "rgba(226, 74, 51, 0.43718592964824127)",
           "width": 1
          }
         },
         "name": "Uruguay",
         "orientation": "v",
         "text": "",
         "type": "bar",
         "x": [
          1955,
          1960,
          1965,
          1970,
          1975,
          1980,
          1985,
          1990,
          1995,
          2000,
          2005,
          2010,
          2015,
          2020,
          2022,
          2023
         ],
         "y": [
          "2,366,209",
          "2,529,021",
          "2,680,427",
          "2,790,265",
          "2,871,947",
          "2,953,750",
          "3,024,218",
          "3,117,012",
          "3,208,300",
          "3,292,224",
          "3,317,665",
          "3,352,651",
          "3,402,818",
          "3,429,086",
          "3,422,794",
          "3,423,108"
         ]
        },
        {
         "marker": {
          "color": "rgba(226, 74, 51, 0.6)",
          "line": {
           "color": "rgba(226, 74, 51, 0.40904522613065347)",
           "width": 1
          }
         },
         "name": "Benin",
         "orientation": "v",
         "text": "",
         "type": "bar",
         "x": [
          1955,
          1960,
          1965,
          1970,
          1975,
          1980,
          1985,
          1990,
          1995,
          2000,
          2005,
          2010,
          2015,
          2020,
          2022,
          2023
         ],
         "y": [
          "2,360,081",
          "2,512,284",
          "2,735,843",
          "3,023,443",
          "3,378,703",
          "3,833,939",
          "4,419,552",
          "5,133,419",
          "6,046,511",
          "6,998,023",
          "8,149,419",
          "9,445,710",
          "10,932,783",
          "12,643,123",
          "13,352,864",
          "13,712,828"
         ]
        },
        {
         "marker": {
          "color": "rgba(62, 111, 176, 0.6)",
          "line": {
           "color": "rgba(62, 111, 176, 0.40904522613065347)",
           "width": 1
          }
         },
         "name": "Puerto Rico",
         "orientation": "v",
         "text": "",
         "type": "bar",
         "x": [
          1955,
          1960,
          1965,
          1970,
          1975,
          1980,
          1985,
          1990,
          1995,
          2000,
          2005,
          2010,
          2015,
          2020,
          2022,
          2023
         ],
         "y": [
          "2,309,782",
          "2,365,072",
          "2,564,270",
          "2,737,619",
          "2,972,267",
          "3,214,568",
          "3,406,279",
          "3,543,776",
          "3,704,947",
          "3,827,108",
          "3,805,559",
          "3,717,922",
          "3,497,335",
          "3,271,564",
          "3,252,407",
          "3,260,314"
         ]
        },
        {
         "marker": {
          "color": "rgba(132, 118, 202, 0.6)",
          "line": {
           "color": "rgba(132, 118, 202, 0.40904522613065347)",
           "width": 1
          }
         },
         "name": "New Zealand",
         "orientation": "v",
         "text": "",
         "type": "bar",
         "x": [
          1955,
          1960,
          1965,
          1970,
          1975,
          1980,
          1985,
          1990,
          1995,
          2000,
          2005,
          2010,
          2015,
          2020,
          2022,
          2023
         ],
         "y": [
          "2,140,976",
          "2,381,189",
          "2,638,316",
          "2,824,061",
          "3,095,428",
          "3,147,168",
          "3,268,356",
          "3,397,389",
          "3,673,893",
          "3,855,266",
          "4,132,781",
          "4,346,338",
          "4,590,590",
          "5,061,133",
          "5,185,288",
          "5,228,100"
         ]
        },
        {
         "marker": {
          "color": "rgba(101, 101, 101, 0.6)",
          "line": {
           "color": "rgba(101, 101, 101, 0.40904522613065347)",
           "width": 1
          }
         },
         "name": "Sierra Leone",
         "orientation": "v",
         "text": "",
         "type": "bar",
         "x": [
          1955,
          1960,
          1965,
          1970,
          1975,
          1980,
          1985,
          1990,
          1995,
          2000,
          2005,
          2010,
          2015,
          2020,
          2022,
          2023
         ],
         "y": [
          "2,135,644",
          "2,301,310",
          "2,520,576",
          "2,778,557",
          "3,055,916",
          "3,367,477",
          "3,749,419",
          "4,325,388",
          "4,324,149",
          "4,584,067",
          "5,683,334",
          "6,436,698",
          "7,314,773",
          "8,233,970",
          "8,605,718",
          "8,791,092"
         ]
        },
        {
         "marker": {
          "color": "rgba(251, 193, 94, 0.6)",
          "line": {
           "color": "rgba(251, 193, 94, 0.40904522613065347)",
           "width": 1
          }
         },
         "name": "Latvia",
         "orientation": "v",
         "text": "",
         "type": "bar",
         "x": [
          1955,
          1960,
          1965,
          1970,
          1975,
          1980,
          1985,
          1990,
          1995,
          2000,
          2005,
          2010,
          2015,
          2020,
          2022,
          2023
         ],
         "y": [
          "2,032,505",
          "2,154,251",
          "2,287,805",
          "2,397,414",
          "2,492,528",
          "2,572,037",
          "2,655,104",
          "2,689,391",
          "2,570,151",
          "2,392,530",
          "2,233,157",
          "2,101,530",
          "1,991,955",
          "1,897,052",
          "1,850,651",
          "1,830,211"
         ]
        },
        {
         "marker": {
          "color": "rgba(142, 186, 66, 0.6)",
          "line": {
           "color": "rgba(142, 186, 66, 0.40904522613065347)",
           "width": 1
          }
         },
         "name": "Bhutan",
         "orientation": "v",
         "text": "",
         "type": "bar",
         "x": [
          1955,
          1960,
          1965,
          1970,
          1975,
          1980,
          1985,
          1990,
          1995,
          2000,
          2005,
          2010,
          2015,
          2020,
          2022,
          2023
         ],
         "y": [
          "196,014",
          "221,266",
          "255,010",
          "298,894",
          "352,269",
          "415,257",
          "484,528",
          "558,442",
          "527,536",
          "587,207",
          "663,323",
          "705,516",
          "743,274",
          "772,506",
          "782,455",
          "787,424"
         ]
        },
        {
         "marker": {
          "color": "rgba(255, 181, 184, 0.6)",
          "line": {
           "color": "rgba(255, 181, 184, 0.40904522613065347)",
           "width": 1
          }
         },
         "name": "Macao",
         "orientation": "v",
         "text": "",
         "type": "bar",
         "x": [
          1955,
          1960,
          1965,
          1970,
          1975,
          1980,
          1985,
          1990,
          1995,
          2000,
          2005,
          2010,
          2015,
          2020,
          2022,
          2023
         ],
         "y": [
          "195,757",
          "177,014",
          "209,278",
          "247,284",
          "246,919",
          "245,332",
          "287,700",
          "350,227",
          "396,641",
          "431,896",
          "488,619",
          "557,297",
          "615,239",
          "676,283",
          "695,168",
          "704,149"
         ]
        },
        {
         "marker": {
          "color": "rgba(255, 181, 184, 0.6)",
          "line": {
           "color": "rgba(255, 181, 184, 0.38090452261306545)",
           "width": 1
          }
         },
         "name": "Cabo Verde",
         "orientation": "v",
         "text": "",
         "type": "bar",
         "x": [
          1955,
          1960,
          1965,
          1970,
          1975,
          1980,
          1985,
          1990,
          1995,
          2000,
          2005,
          2010,
          2015,
          2020,
          2022,
          2023
         ],
         "y": [
          "195,389",
          "209,849",
          "244,156",
          "287,262",
          "304,375",
          "317,234",
          "339,874",
          "364,563",
          "411,382",
          "458,251",
          "492,827",
          "521,212",
          "552,166",
          "582,640",
          "593,149",
          "598,682"
         ]
        },
        {
         "marker": {
          "color": "rgba(226, 74, 51, 0.6)",
          "line": {
           "color": "rgba(226, 74, 51, 0.38090452261306545)",
           "width": 1
          }
         },
         "name": "Ethiopia",
         "orientation": "v",
         "text": "",
         "type": "bar",
         "x": [
          1955,
          1960,
          1965,
          1970,
          1975,
          1980,
          1985,
          1990,
          1995,
          2000,
          2005,
          2010,
          2015,
          2020,
          2022,
          2023
         ],
         "y": [
          "19,703,738",
          "21,739,710",
          "24,727,506",
          "28,308,246",
          "32,252,783",
          "34,945,469",
          "40,285,965",
          "47,878,073",
          "57,476,536",
          "67,031,867",
          "77,469,940",
          "89,237,791",
          "102,471,895",
          "117,190,911",
          "123,379,924",
          "126,527,060"
         ]
        },
        {
         "marker": {
          "color": "rgba(62, 111, 176, 0.6)",
          "line": {
           "color": "rgba(62, 111, 176, 0.38090452261306545)",
           "width": 1
          }
         },
         "name": "Myanmar",
         "orientation": "v",
         "text": "",
         "type": "bar",
         "x": [
          1955,
          1960,
          1965,
          1970,
          1975,
          1980,
          1985,
          1990,
          1995,
          2000,
          2005,
          2010,
          2015,
          2020,
          2022,
          2023
         ],
         "y": [
          "19,522,788",
          "21,720,697",
          "24,286,878",
          "27,284,112",
          "30,344,276",
          "33,465,781",
          "36,881,020",
          "40,099,553",
          "42,880,186",
          "45,538,332",
          "47,724,471",
          "49,390,988",
          "51,483,949",
          "53,423,198",
          "54,179,306",
          "54,577,997"
         ]
        },
        {
         "marker": {
          "color": "rgba(132, 118, 202, 0.6)",
          "line": {
           "color": "rgba(132, 118, 202, 0.38090452261306545)",
           "width": 1
          }
         },
         "name": "Kuwait",
         "orientation": "v",
         "text": "",
         "type": "bar",
         "x": [
          1955,
          1960,
          1965,
          1970,
          1975,
          1980,
          1985,
          1990,
          1995,
          2000,
          2005,
          2010,
          2015,
          2020,
          2022,
          2023
         ],
         "y": [
          "183,458",
          "305,415",
          "513,840",
          "802,786",
          "1,095,998",
          "1,493,870",
          "1,888,975",
          "1,674,938",
          "1,655,222",
          "1,934,901",
          "2,235,403",
          "2,943,356",
          "3,908,743",
          "4,360,444",
          "4,268,873",
          "4,310,108"
         ]
        },
        {
         "marker": {
          "color": "rgba(101, 101, 101, 0.6)",
          "line": {
           "color": "rgba(101, 101, 101, 0.38090452261306545)",
           "width": 1
          }
         },
         "name": "Iran",
         "orientation": "v",
         "text": "",
         "type": "bar",
         "x": [
          1955,
          1960,
          1965,
          1970,
          1975,
          1980,
          1985,
          1990,
          1995,
          2000,
          2005,
          2010,
          2015,
          2020,
          2022,
          2023
         ],
         "y": [
          "18,873,864",
          "21,388,806",
          "24,667,026",
          "28,449,705",
          "32,856,976",
          "38,520,664",
          "47,266,160",
          "55,793,629",
          "60,794,809",
          "65,544,383",
          "70,182,594",
          "75,373,855",
          "81,790,841",
          "87,290,193",
          "88,550,570",
          "89,172,767"
         ]
        },
        {
         "marker": {
          "color": "rgba(251, 193, 94, 0.6)",
          "line": {
           "color": "rgba(251, 193, 94, 0.38090452261306545)",
           "width": 1
          }
         },
         "name": "Argentina",
         "orientation": "v",
         "text": "",
         "type": "bar",
         "x": [
          1955,
          1960,
          1965,
          1970,
          1975,
          1980,
          1985,
          1990,
          1995,
          2000,
          2005,
          2010,
          2015,
          2020,
          2022,
          2023
         ],
         "y": [
          "18,700,686",
          "20,349,744",
          "22,053,661",
          "23,842,803",
          "25,875,558",
          "28,024,803",
          "30,287,112",
          "32,637,657",
          "34,946,110",
          "37,070,774",
          "39,070,501",
          "41,100,123",
          "43,257,065",
          "45,036,032",
          "45,510,318",
          "45,773,884"
         ]
        },
        {
         "marker": {
          "color": "rgba(142, 186, 66, 0.6)",
          "line": {
           "color": "rgba(142, 186, 66, 0.38090452261306545)",
           "width": 1
          }
         },
         "name": "Comoros",
         "orientation": "v",
         "text": "",
         "type": "bar",
         "x": [
          1955,
          1960,
          1965,
          1970,
          1975,
          1980,
          1985,
          1990,
          1995,
          2000,
          2005,
          2010,
          2015,
          2020,
          2022,
          2023
         ],
         "y": [
          "177,885",
          "194,852",
          "214,939",
          "242,351",
          "280,036",
          "328,328",
          "375,650",
          "431,119",
          "483,760",
          "536,758",
          "592,683",
          "656,024",
          "730,216",
          "806,166",
          "836,774",
          "852,075"
         ]
        },
        {
         "marker": {
          "color": "rgba(142, 186, 66, 0.6)",
          "line": {
           "color": "rgba(142, 186, 66, 0.35276381909547744)",
           "width": 1
          }
         },
         "name": "Romania",
         "orientation": "v",
         "text": "",
         "type": "bar",
         "x": [
          1955,
          1960,
          1965,
          1970,
          1975,
          1980,
          1985,
          1990,
          1995,
          2000,
          2005,
          2010,
          2015,
          2020,
          2022,
          2023
         ],
         "y": [
          "17,455,291",
          "18,458,008",
          "19,117,072",
          "19,922,618",
          "21,167,265",
          "22,125,224",
          "22,525,363",
          "22,836,234",
          "22,533,134",
          "21,919,876",
          "21,092,264",
          "20,335,211",
          "19,906,079",
          "19,442,038",
          "19,659,267",
          "19,892,812"
         ]
        },
        {
         "marker": {
          "color": "rgba(255, 181, 184, 0.6)",
          "line": {
           "color": "rgba(255, 181, 184, 0.35276381909547744)",
           "width": 1
          }
         },
         "name": "United States",
         "orientation": "v",
         "text": "",
         "type": "bar",
         "x": [
          1955,
          1960,
          1965,
          1970,
          1975,
          1980,
          1985,
          1990,
          1995,
          2000,
          2005,
          2010,
          2015,
          2020,
          2022,
          2023
         ],
         "y": [
          "161,136,449",
          "176,188,578",
          "189,703,283",
          "200,328,340",
          "211,274,535",
          "223,140,018",
          "235,146,182",
          "248,083,732",
          "265,660,556",
          "282,398,554",
          "296,842,670",
          "311,182,845",
          "324,607,776",
          "335,942,003",
          "338,289,857",
          "339,996,563"
         ]
        },
        {
         "marker": {
          "color": "rgba(226, 74, 51, 0.6)",
          "line": {
           "color": "rgba(226, 74, 51, 0.35276381909547744)",
           "width": 1
          }
         },
         "name": "Iceland",
         "orientation": "v",
         "text": "",
         "type": "bar",
         "x": [
          1955,
          1960,
          1965,
          1970,
          1975,
          1980,
          1985,
          1990,
          1995,
          2000,
          2005,
          2010,
          2015,
          2020,
          2022,
          2023
         ],
         "y": [
          "157,735",
          "175,566",
          "192,309",
          "204,468",
          "218,070",
          "228,263",
          "241,577",
          "255,019",
          "267,681",
          "281,462",
          "297,029",
          "318,333",
          "331,060",
          "366,669",
          "372,899",
          "375,318"
         ]
        },
        {
         "marker": {
          "color": "rgba(62, 111, 176, 0.6)",
          "line": {
           "color": "rgba(62, 111, 176, 0.35276381909547744)",
           "width": 1
          }
         },
         "name": "Canada",
         "orientation": "v",
         "text": "",
         "type": "bar",
         "x": [
          1955,
          1960,
          1965,
          1970,
          1975,
          1980,
          1985,
          1990,
          1995,
          2000,
          2005,
          2010,
          2015,
          2020,
          2022,
          2023
         ],
         "y": [
          "15,733,923",
          "17,909,356",
          "19,688,805",
          "21,434,577",
          "23,136,252",
          "24,511,510",
          "25,843,922",
          "27,657,204",
          "29,289,423",
          "30,683,313",
          "32,215,916",
          "33,963,412",
          "35,732,126",
          "37,888,705",
          "38,454,327",
          "38,781,291"
         ]
        },
        {
         "marker": {
          "color": "rgba(132, 118, 202, 0.6)",
          "line": {
           "color": "rgba(132, 118, 202, 0.35276381909547744)",
           "width": 1
          }
         },
         "name": "South Africa",
         "orientation": "v",
         "text": "",
         "type": "bar",
         "x": [
          1955,
          1960,
          1965,
          1970,
          1975,
          1980,
          1985,
          1990,
          1995,
          2000,
          2005,
          2010,
          2015,
          2020,
          2022,
          2023
         ],
         "y": [
          "14,594,129",
          "16,520,441",
          "19,187,194",
          "22,368,306",
          "25,777,964",
          "29,463,549",
          "33,752,964",
          "39,877,570",
          "43,986,084",
          "46,813,266",
          "49,017,147",
          "51,784,921",
          "55,876,504",
          "58,801,927",
          "59,893,885",
          "60,414,495"
         ]
        },
        {
         "marker": {
          "color": "rgba(101, 101, 101, 0.6)",
          "line": {
           "color": "rgba(101, 101, 101, 0.35276381909547744)",
           "width": 1
          }
         },
         "name": "Bahrain",
         "orientation": "v",
         "text": "",
         "type": "bar",
         "x": [
          1955,
          1960,
          1965,
          1970,
          1975,
          1980,
          1985,
          1990,
          1995,
          2000,
          2005,
          2010,
          2015,
          2020,
          2022,
          2023
         ],
         "y": [
          "134,865",
          "160,691",
          "193,012",
          "222,555",
          "285,116",
          "362,595",
          "434,375",
          "517,418",
          "612,934",
          "711,442",
          "901,921",
          "1,213,645",
          "1,362,142",
          "1,477,469",
          "1,472,233",
          "1,485,509"
         ]
        },
        {
         "marker": {
          "color": "rgba(251, 193, 94, 0.6)",
          "line": {
           "color": "rgba(251, 193, 94, 0.35276381909547744)",
           "width": 1
          }
         },
         "name": "DR Congo",
         "orientation": "v",
         "text": "",
         "type": "bar",
         "x": [
          1955,
          1960,
          1965,
          1970,
          1975,
          1980,
          1985,
          1990,
          1995,
          2000,
          2005,
          2010,
          2015,
          2020,
          2022,
          2023
         ],
         "y": [
          "13,638,427",
          "15,276,558",
          "17,438,254",
          "20,151,733",
          "23,052,715",
          "26,708,686",
          "30,800,051",
          "35,987,541",
          "43,285,791",
          "48,616,317",
          "56,550,247",
          "66,391,257",
          "78,656,904",
          "92,853,164",
          "99,010,212",
          "102,262,808"
         ]
        },
        {
         "marker": {
          "color": "rgba(251, 193, 94, 0.6)",
          "line": {
           "color": "rgba(251, 193, 94, 0.32462311557788964)",
           "width": 1
          }
         },
         "name": "Colombia",
         "orientation": "v",
         "text": "",
         "type": "bar",
         "x": [
          1955,
          1960,
          1965,
          1970,
          1975,
          1980,
          1985,
          1990,
          1995,
          2000,
          2005,
          2010,
          2015,
          2020,
          2022,
          2023
         ],
         "y": [
          "13,512,612",
          "15,687,688",
          "18,275,814",
          "20,905,254",
          "23,403,731",
          "26,176,195",
          "29,326,260",
          "32,601,393",
          "35,970,101",
          "39,215,135",
          "42,220,940",
          "44,816,108",
          "47,119,728",
          "50,930,662",
          "51,874,024",
          "52,085,168"
         ]
        },
        {
         "marker": {
          "color": "rgba(142, 186, 66, 0.6)",
          "line": {
           "color": "rgba(142, 186, 66, 0.32462311557788964)",
           "width": 1
          }
         },
         "name": "Solomon Islands",
         "orientation": "v",
         "text": "",
         "type": "bar",
         "x": [
          1955,
          1960,
          1965,
          1970,
          1975,
          1980,
          1985,
          1990,
          1995,
          2000,
          2005,
          2010,
          2015,
          2020,
          2022,
          2023
         ],
         "y": [
          "117,314",
          "133,440",
          "151,495",
          "172,833",
          "197,853",
          "233,668",
          "277,158",
          "324,171",
          "375,189",
          "429,978",
          "482,486",
          "540,394",
          "612,660",
          "691,191",
          "724,273",
          "740,424"
         ]
        },
        {
         "marker": {
          "color": "rgba(255, 181, 184, 0.6)",
          "line": {
           "color": "rgba(255, 181, 184, 0.32462311557788964)",
           "width": 1
          }
         },
         "name": "Curaçao",
         "orientation": "v",
         "text": "",
         "type": "bar",
         "x": [
          1955,
          1960,
          1965,
          1970,
          1975,
          1980,
          1985,
          1990,
          1995,
          2000,
          2005,
          2010,
          2015,
          2020,
          2022,
          2023
         ],
         "y": [
          "114,659",
          "131,274",
          "141,049",
          "150,385",
          "155,151",
          "156,851",
          "156,639",
          "155,446",
          "150,592",
          "141,424",
          "147,263",
          "159,380",
          "169,572",
          "189,288",
          "191,163",
          "192,077"
         ]
        },
        {
         "marker": {
          "color": "rgba(226, 74, 51, 0.6)",
          "line": {
           "color": "rgba(226, 74, 51, 0.32462311557788964)",
           "width": 1
          }
         },
         "name": "Russia",
         "orientation": "v",
         "text": "",
         "type": "bar",
         "x": [
          1955,
          1960,
          1965,
          1970,
          1975,
          1980,
          1985,
          1990,
          1995,
          2000,
          2005,
          2010,
          2015,
          2020,
          2022,
          2023
         ],
         "y": [
          "110,971,852",
          "119,735,095",
          "126,400,607",
          "130,093,010",
          "133,841,842",
          "138,257,420",
          "142,896,392",
          "148,005,704",
          "148,557,451",
          "146,844,839",
          "143,800,049",
          "143,242,599",
          "144,668,389",
          "145,617,329",
          "144,713,314",
          "144,444,359"
         ]
        },
        {
         "marker": {
          "color": "rgba(62, 111, 176, 0.6)",
          "line": {
           "color": "rgba(62, 111, 176, 0.32462311557788964)",
           "width": 1
          }
         },
         "name": "United Arab Emirates",
         "orientation": "v",
         "text": "",
         "type": "bar",
         "x": [
          1955,
          1960,
          1965,
          1970,
          1975,
          1980,
          1985,
          1990,
          1995,
          2000,
          2005,
          2010,
          2015,
          2020,
          2022,
          2023
         ],
         "y": [
          "101,803",
          "133,426",
          "173,797",
          "298,084",
          "543,394",
          "1,014,048",
          "1,379,536",
          "1,900,151",
          "2,433,988",
          "3,275,333",
          "4,280,993",
          "8,481,771",
          "8,916,899",
          "9,287,289",
          "9,441,129",
          "9,516,871"
         ]
        },
        {
         "marker": {
          "color": "rgba(132, 118, 202, 0.6)",
          "line": {
           "color": "rgba(132, 118, 202, 0.32462311557788964)",
           "width": 1
          }
         },
         "name": "Netherlands",
         "orientation": "v",
         "text": "",
         "type": "bar",
         "x": [
          1955,
          1960,
          1965,
          1970,
          1975,
          1980,
          1985,
          1990,
          1995,
          2000,
          2005,
          2010,
          2015,
          2020,
          2022,
          2023
         ],
         "y": [
          "10,767,906",
          "11,493,117",
          "12,275,791",
          "13,037,686",
          "13,663,969",
          "14,130,387",
          "14,515,704",
          "14,944,548",
          "15,446,668",
          "15,899,135",
          "16,261,831",
          "16,617,117",
          "17,041,107",
          "17,434,557",
          "17,564,014",
          "17,618,299"
         ]
        },
        {
         "marker": {
          "color": "rgba(101, 101, 101, 0.6)",
          "line": {
           "color": "rgba(101, 101, 101, 0.32462311557788964)",
           "width": 1
          }
         },
         "name": "North Korea",
         "orientation": "v",
         "text": "",
         "type": "bar",
         "x": [
          1955,
          1960,
          1965,
          1970,
          1975,
          1980,
          1985,
          1990,
          1995,
          2000,
          2005,
          2010,
          2015,
          2020,
          2022,
          2023
         ],
         "y": [
          "10,360,269",
          "11,655,666",
          "13,105,946",
          "14,996,879",
          "16,723,252",
          "17,973,650",
          "19,325,487",
          "20,799,523",
          "22,385,536",
          "23,367,059",
          "24,100,982",
          "24,686,435",
          "25,258,015",
          "25,867,467",
          "26,069,416",
          "26,160,821"
         ]
        },
        {
         "marker": {
          "color": "rgba(101, 101, 101, 0.6)",
          "line": {
           "color": "rgba(101, 101, 101, 0.2964824120603016)",
           "width": 1
          }
         },
         "name": "Algeria",
         "orientation": "v",
         "text": "",
         "type": "bar",
         "x": [
          1955,
          1960,
          1965,
          1970,
          1975,
          1980,
          1985,
          1990,
          1995,
          2000,
          2005,
          2010,
          2015,
          2020,
          2022,
          2023
         ],
         "y": [
          "10,242,288",
          "11,394,307",
          "12,381,256",
          "13,795,915",
          "15,724,692",
          "18,739,378",
          "22,132,905",
          "25,518,074",
          "28,478,022",
          "30,774,621",
          "32,956,690",
          "35,856,344",
          "39,543,154",
          "43,451,666",
          "44,903,225",
          "45,606,480"
         ]
        },
        {
         "marker": {
          "color": "rgba(251, 193, 94, 0.6)",
          "line": {
           "color": "rgba(251, 193, 94, 0.2964824120603016)",
           "width": 1
          }
         },
         "name": "Morocco",
         "orientation": "v",
         "text": "",
         "type": "bar",
         "x": [
          1955,
          1960,
          1965,
          1970,
          1975,
          1980,
          1985,
          1990,
          1995,
          2000,
          2005,
          2010,
          2015,
          2020,
          2022,
          2023
         ],
         "y": [
          "10,242,168",
          "11,769,774",
          "13,381,880",
          "15,274,351",
          "17,325,325",
          "19,678,444",
          "22,335,077",
          "24,570,814",
          "26,599,048",
          "28,554,415",
          "30,431,902",
          "32,464,865",
          "34,680,458",
          "36,688,772",
          "37,457,971",
          "37,840,044"
         ]
        },
        {
         "marker": {
          "color": "rgba(142, 186, 66, 0.6)",
          "line": {
           "color": "rgba(142, 186, 66, 0.2964824120603016)",
           "width": 1
          }
         },
         "name": "Kyrgyzstan",
         "orientation": "v",
         "text": "",
         "type": "bar",
         "x": [
          1955,
          1960,
          1965,
          1970,
          1975,
          1980,
          1985,
          1990,
          1995,
          2000,
          2005,
          2010,
          2015,
          2020,
          2022,
          2023
         ],
         "y": [
          "1,944,992",
          "2,216,530",
          "2,615,167",
          "3,016,384",
          "3,353,850",
          "3,691,209",
          "4,064,852",
          "4,394,734",
          "4,596,456",
          "4,935,182",
          "5,193,114",
          "5,483,774",
          "5,914,980",
          "6,424,874",
          "6,630,623",
          "6,735,347"
         ]
        },
        {
         "marker": {
          "color": "rgba(255, 181, 184, 0.6)",
          "line": {
           "color": "rgba(255, 181, 184, 0.2964824120603016)",
           "width": 1
          }
         },
         "name": "Laos",
         "orientation": "v",
         "text": "",
         "type": "bar",
         "x": [
          1955,
          1960,
          1965,
          1970,
          1975,
          1980,
          1985,
          1990,
          1995,
          2000,
          2005,
          2010,
          2015,
          2020,
          2022,
          2023
         ],
         "y": [
          "1,893,389",
          "2,122,532",
          "2,379,456",
          "2,675,283",
          "3,012,720",
          "3,297,519",
          "3,741,604",
          "4,314,443",
          "4,927,432",
          "5,430,853",
          "5,852,970",
          "6,323,418",
          "6,787,419",
          "7,319,399",
          "7,529,475",
          "7,633,779"
         ]
        },
        {
         "marker": {
          "color": "rgba(226, 74, 51, 0.6)",
          "line": {
           "color": "rgba(226, 74, 51, 0.2964824120603016)",
           "width": 1
          }
         },
         "name": "Tajikistan",
         "orientation": "v",
         "text": "",
         "type": "bar",
         "x": [
          1955,
          1960,
          1965,
          1970,
          1975,
          1980,
          1985,
          1990,
          1995,
          2000,
          2005,
          2010,
          2015,
          2020,
          2022,
          2023
         ],
         "y": [
          "1,805,209",
          "2,131,992",
          "2,538,295",
          "2,993,019",
          "3,482,125",
          "4,045,965",
          "4,660,598",
          "5,417,860",
          "5,916,173",
          "6,272,998",
          "6,929,145",
          "7,621,779",
          "8,524,063",
          "9,543,207",
          "9,952,787",
          "10,143,543"
         ]
        },
        {
         "marker": {
          "color": "rgba(62, 111, 176, 0.6)",
          "line": {
           "color": "rgba(62, 111, 176, 0.2964824120603016)",
           "width": 1
          }
         },
         "name": "Honduras",
         "orientation": "v",
         "text": "",
         "type": "bar",
         "x": [
          1955,
          1960,
          1965,
          1970,
          1975,
          1980,
          1985,
          1990,
          1995,
          2000,
          2005,
          2010,
          2015,
          2020,
          2022,
          2023
         ],
         "y": [
          "1,796,527",
          "2,078,617",
          "2,403,465",
          "2,782,753",
          "3,231,631",
          "3,777,990",
          "4,387,693",
          "5,053,234",
          "5,812,832",
          "6,656,725",
          "7,564,613",
          "8,450,933",
          "9,294,505",
          "10,121,763",
          "10,432,860",
          "10,593,798"
         ]
        },
        {
         "marker": {
          "color": "rgba(132, 118, 202, 0.6)",
          "line": {
           "color": "rgba(132, 118, 202, 0.2964824120603016)",
           "width": 1
          }
         },
         "name": "Papua New Guinea",
         "orientation": "v",
         "text": "",
         "type": "bar",
         "x": [
          1955,
          1960,
          1965,
          1970,
          1975,
          1980,
          1985,
          1990,
          1995,
          2000,
          2005,
          2010,
          2015,
          2020,
          2022,
          2023
         ],
         "y": [
          "1,734,921",
          "1,985,666",
          "2,222,178",
          "2,489,059",
          "2,794,462",
          "3,104,788",
          "3,447,579",
          "3,864,972",
          "4,616,439",
          "5,508,297",
          "6,498,818",
          "7,583,269",
          "8,682,174",
          "9,749,640",
          "10,142,619",
          "10,329,931"
         ]
        },
        {
         "marker": {
          "color": "rgba(132, 118, 202, 0.6)",
          "line": {
           "color": "rgba(132, 118, 202, 0.26834170854271383)",
           "width": 1
          }
         },
         "name": "Paraguay",
         "orientation": "v",
         "text": "",
         "type": "bar",
         "x": [
          1955,
          1960,
          1965,
          1970,
          1975,
          1980,
          1985,
          1990,
          1995,
          2000,
          2005,
          2010,
          2015,
          2020,
          2022,
          2023
         ],
         "y": [
          "1,685,747",
          "1,894,829",
          "2,143,153",
          "2,408,787",
          "2,714,664",
          "3,078,912",
          "3,535,498",
          "4,059,195",
          "4,603,917",
          "5,123,819",
          "5,476,878",
          "5,768,613",
          "6,177,950",
          "6,618,695",
          "6,780,744",
          "6,861,524"
         ]
        },
        {
         "marker": {
          "color": "rgba(101, 101, 101, 0.6)",
          "line": {
           "color": "rgba(101, 101, 101, 0.26834170854271383)",
           "width": 1
          }
         },
         "name": "Armenia",
         "orientation": "v",
         "text": "",
         "type": "bar",
         "x": [
          1955,
          1960,
          1965,
          1970,
          1975,
          1980,
          1985,
          1990,
          1995,
          2000,
          2005,
          2010,
          2015,
          2020,
          2022,
          2023
         ],
         "y": [
          "1,604,376",
          "1,904,148",
          "2,234,051",
          "2,534,377",
          "2,830,798",
          "3,135,123",
          "3,300,896",
          "3,556,539",
          "3,322,782",
          "3,168,523",
          "3,047,246",
          "2,946,293",
          "2,878,595",
          "2,805,608",
          "2,780,469",
          "2,777,970"
         ]
        },
        {
         "marker": {
          "color": "rgba(251, 193, 94, 0.6)",
          "line": {
           "color": "rgba(251, 193, 94, 0.26834170854271383)",
           "width": 1
          }
         },
         "name": "Israel",
         "orientation": "v",
         "text": "",
         "type": "bar",
         "x": [
          1955,
          1960,
          1965,
          1970,
          1975,
          1980,
          1985,
          1990,
          1995,
          2000,
          2005,
          2010,
          2015,
          2020,
          2022,
          2023
         ],
         "y": [
          "1,564,960",
          "1,902,247",
          "2,361,088",
          "2,907,307",
          "3,388,086",
          "3,744,608",
          "4,182,681",
          "4,803,254",
          "5,478,734",
          "6,116,958",
          "6,714,124",
          "7,328,445",
          "8,007,778",
          "8,757,489",
          "9,038,309",
          "9,174,520"
         ]
        },
        {
         "marker": {
          "color": "rgba(142, 186, 66, 0.6)",
          "line": {
           "color": "rgba(142, 186, 66, 0.26834170854271383)",
           "width": 1
          }
         },
         "name": "Lebanon",
         "orientation": "v",
         "text": "",
         "type": "bar",
         "x": [
          1955,
          1960,
          1965,
          1970,
          1975,
          1980,
          1985,
          1990,
          1995,
          2000,
          2005,
          2010,
          2015,
          2020,
          2022,
          2023
         ],
         "y": [
          "1,556,327",
          "1,798,092",
          "2,087,445",
          "2,381,791",
          "2,691,586",
          "2,963,702",
          "3,226,750",
          "3,593,700",
          "3,959,640",
          "4,320,642",
          "4,643,044",
          "4,995,800",
          "6,398,940",
          "5,662,923",
          "5,489,739",
          "5,353,930"
         ]
        },
        {
         "marker": {
          "color": "rgba(255, 181, 184, 0.6)",
          "line": {
           "color": "rgba(255, 181, 184, 0.26834170854271383)",
           "width": 1
          }
         },
         "name": "Jamaica",
         "orientation": "v",
         "text": "",
         "type": "bar",
         "x": [
          1955,
          1960,
          1965,
          1970,
          1975,
          1980,
          1985,
          1990,
          1995,
          2000,
          2005,
          2010,
          2015,
          2020,
          2022,
          2023
         ],
         "y": [
          "1,552,883",
          "1,642,331",
          "1,746,977",
          "1,859,091",
          "2,003,094",
          "2,135,546",
          "2,292,030",
          "2,392,030",
          "2,509,372",
          "2,612,205",
          "2,676,863",
          "2,733,896",
          "2,794,445",
          "2,820,436",
          "2,827,377",
          "2,825,544"
         ]
        },
        {
         "marker": {
          "color": "rgba(226, 74, 51, 0.6)",
          "line": {
           "color": "rgba(226, 74, 51, 0.26834170854271383)",
           "width": 1
          }
         },
         "name": "Central African Republic",
         "orientation": "v",
         "text": "",
         "type": "bar",
         "x": [
          1955,
          1960,
          1965,
          1970,
          1975,
          1980,
          1985,
          1990,
          1995,
          2000,
          2005,
          2010,
          2015,
          2020,
          2022,
          2023
         ],
         "y": [
          "1,545,898",
          "1,679,728",
          "1,849,171",
          "2,067,356",
          "2,283,927",
          "2,415,276",
          "2,553,075",
          "2,809,221",
          "3,276,706",
          "3,759,170",
          "4,208,834",
          "4,660,067",
          "4,819,333",
          "5,343,020",
          "5,579,144",
          "5,742,315"
         ]
        },
        {
         "marker": {
          "color": "rgba(62, 111, 176, 0.6)",
          "line": {
           "color": "rgba(62, 111, 176, 0.26834170854271383)",
           "width": 1
          }
         },
         "name": "Nicaragua",
         "orientation": "v",
         "text": "",
         "type": "bar",
         "x": [
          1955,
          1960,
          1965,
          1970,
          1975,
          1980,
          1985,
          1990,
          1995,
          2000,
          2005,
          2010,
          2015,
          2020,
          2022,
          2023
         ],
         "y": [
          "1,539,551",
          "1,789,684",
          "2,084,097",
          "2,444,767",
          "2,857,461",
          "3,303,309",
          "3,763,034",
          "4,227,820",
          "4,721,929",
          "5,123,222",
          "5,454,678",
          "5,855,734",
          "6,298,598",
          "6,755,895",
          "6,948,392",
          "7,046,310"
         ]
        },
        {
         "marker": {
          "color": "rgba(62, 111, 176, 0.6)",
          "line": {
           "color": "rgba(62, 111, 176, 0.2402010050251258)",
           "width": 1
          }
         },
         "name": "Slovenia",
         "orientation": "v",
         "text": "",
         "type": "bar",
         "x": [
          1955,
          1960,
          1965,
          1970,
          1975,
          1980,
          1985,
          1990,
          1995,
          2000,
          2005,
          2010,
          2015,
          2020,
          2022,
          2023
         ],
         "y": [
          "1,521,772",
          "1,599,571",
          "1,669,453",
          "1,741,286",
          "1,817,044",
          "1,901,570",
          "1,952,518",
          "1,986,024",
          "1,991,106",
          "1,984,339",
          "2,004,778",
          "2,057,287",
          "2,080,862",
          "2,117,641",
          "2,119,844",
          "2,119,675"
         ]
        },
        {
         "marker": {
          "color": "rgba(132, 118, 202, 0.6)",
          "line": {
           "color": "rgba(132, 118, 202, 0.2402010050251258)",
           "width": 1
          }
         },
         "name": "Togo",
         "orientation": "v",
         "text": "",
         "type": "bar",
         "x": [
          1955,
          1960,
          1965,
          1970,
          1975,
          1980,
          1985,
          1990,
          1995,
          2000,
          2005,
          2010,
          2015,
          2020,
          2022,
          2023
         ],
         "y": [
          "1,518,825",
          "1,651,367",
          "1,820,396",
          "2,197,383",
          "2,509,713",
          "2,838,110",
          "3,336,508",
          "3,875,947",
          "4,279,566",
          "5,008,035",
          "5,711,597",
          "6,571,855",
          "7,473,229",
          "8,442,580",
          "8,848,699",
          "9,053,799"
         ]
        },
        {
         "marker": {
          "color": "rgba(101, 101, 101, 0.6)",
          "line": {
           "color": "rgba(101, 101, 101, 0.2402010050251258)",
           "width": 1
          }
         },
         "name": "Albania",
         "orientation": "v",
         "text": "",
         "type": "bar",
         "x": [
          1955,
          1960,
          1965,
          1970,
          1975,
          1980,
          1985,
          1990,
          1995,
          2000,
          2005,
          2010,
          2015,
          2020,
          2022,
          2023
         ],
         "y": [
          "1,453,730",
          "1,711,189",
          "2,009,789",
          "2,324,731",
          "2,650,122",
          "2,941,651",
          "3,171,725",
          "3,295,066",
          "3,284,364",
          "3,182,021",
          "3,032,634",
          "2,913,399",
          "2,882,481",
          "2,866,849",
          "2,842,321",
          "2,832,439"
         ]
        },
        {
         "marker": {
          "color": "rgba(251, 193, 94, 0.6)",
          "line": {
           "color": "rgba(251, 193, 94, 0.2402010050251258)",
           "width": 1
          }
         },
         "name": "North Macedonia",
         "orientation": "v",
         "text": "",
         "type": "bar",
         "x": [
          1955,
          1960,
          1965,
          1970,
          1975,
          1980,
          1985,
          1990,
          1995,
          2000,
          2005,
          2010,
          2015,
          2020,
          2022,
          2023
         ],
         "y": [
          "1,379,140",
          "1,462,368",
          "1,547,982",
          "1,656,783",
          "1,774,013",
          "1,907,023",
          "2,001,504",
          "2,044,174",
          "1,983,964",
          "2,037,936",
          "2,078,662",
          "2,093,828",
          "2,107,962",
          "2,111,072",
          "2,093,599",
          "2,085,679"
         ]
        },
        {
         "marker": {
          "color": "rgba(142, 186, 66, 0.6)",
          "line": {
           "color": "rgba(142, 186, 66, 0.2402010050251258)",
           "width": 1
          }
         },
         "name": "Turkmenistan",
         "orientation": "v",
         "text": "",
         "type": "bar",
         "x": [
          1955,
          1960,
          1965,
          1970,
          1975,
          1980,
          1985,
          1990,
          1995,
          2000,
          2005,
          2010,
          2015,
          2020,
          2022,
          2023
         ],
         "y": [
          "1,363,507",
          "1,602,052",
          "1,897,095",
          "2,201,432",
          "2,525,760",
          "2,862,903",
          "3,246,887",
          "3,720,278",
          "4,226,623",
          "4,569,132",
          "4,885,775",
          "5,267,970",
          "5,766,431",
          "6,250,438",
          "6,430,770",
          "6,516,100"
         ]
        },
        {
         "marker": {
          "color": "rgba(255, 181, 184, 0.6)",
          "line": {
           "color": "rgba(255, 181, 184, 0.2402010050251258)",
           "width": 1
          }
         },
         "name": "Singapore",
         "orientation": "v",
         "text": "",
         "type": "bar",
         "x": [
          1955,
          1960,
          1965,
          1970,
          1975,
          1980,
          1985,
          1990,
          1995,
          2000,
          2005,
          2010,
          2015,
          2020,
          2022,
          2023
         ],
         "y": [
          "1,267,611",
          "1,601,079",
          "1,860,651",
          "2,061,831",
          "2,232,425",
          "2,400,729",
          "2,685,994",
          "3,022,209",
          "3,543,875",
          "4,053,602",
          "4,344,637",
          "5,163,590",
          "5,650,018",
          "5,909,869",
          "5,975,689",
          "6,014,723"
         ]
        },
        {
         "marker": {
          "color": "rgba(226, 74, 51, 0.6)",
          "line": {
           "color": "rgba(226, 74, 51, 0.2402010050251258)",
           "width": 1
          }
         },
         "name": "Libya",
         "orientation": "v",
         "text": "",
         "type": "bar",
         "x": [
          1955,
          1960,
          1965,
          1970,
          1975,
          1980,
          1985,
          1990,
          1995,
          2000,
          2005,
          2010,
          2015,
          2020,
          2022,
          2023
         ],
         "y": [
          "1,225,687",
          "1,426,986",
          "1,700,072",
          "1,909,177",
          "2,291,841",
          "2,962,720",
          "3,684,313",
          "4,236,983",
          "4,733,063",
          "5,154,790",
          "5,837,986",
          "6,491,988",
          "6,192,235",
          "6,653,942",
          "6,812,341",
          "6,888,388"
         ]
        },
        {
         "marker": {
          "color": "rgba(226, 74, 51, 0.6)",
          "line": {
           "color": "rgba(226, 74, 51, 0.2120603015075378)",
           "width": 1
          }
         },
         "name": "Estonia",
         "orientation": "v",
         "text": "",
         "type": "bar",
         "x": [
          1955,
          1960,
          1965,
          1970,
          1975,
          1980,
          1985,
          1990,
          1995,
          2000,
          2005,
          2010,
          2015,
          2020,
          2022,
          2023
         ],
         "y": [
          "1,168,276",
          "1,218,064",
          "1,292,004",
          "1,361,999",
          "1,424,044",
          "1,476,983",
          "1,525,782",
          "1,570,674",
          "1,452,775",
          "1,396,877",
          "1,354,662",
          "1,331,535",
          "1,314,657",
          "1,329,444",
          "1,326,062",
          "1,322,765"
         ]
        },
        {
         "marker": {
          "color": "rgba(62, 111, 176, 0.6)",
          "line": {
           "color": "rgba(62, 111, 176, 0.2120603015075378)",
           "width": 1
          }
         },
         "name": "Costa Rica",
         "orientation": "v",
         "text": "",
         "type": "bar",
         "x": [
          1955,
          1960,
          1965,
          1970,
          1975,
          1980,
          1985,
          1990,
          1995,
          2000,
          2005,
          2010,
          2015,
          2020,
          2022,
          2023
         ],
         "y": [
          "1,123,982",
          "1,346,302",
          "1,602,736",
          "1,855,697",
          "2,111,850",
          "2,414,303",
          "2,771,463",
          "3,158,253",
          "3,572,856",
          "3,979,193",
          "4,315,887",
          "4,622,252",
          "4,895,242",
          "5,123,105",
          "5,180,829",
          "5,212,173"
         ]
        },
        {
         "marker": {
          "color": "rgba(132, 118, 202, 0.6)",
          "line": {
           "color": "rgba(132, 118, 202, 0.2120603015075378)",
           "width": 1
          }
         },
         "name": "Liberia",
         "orientation": "v",
         "text": "",
         "type": "bar",
         "x": [
          1955,
          1960,
          1965,
          1970,
          1975,
          1980,
          1985,
          1990,
          1995,
          2000,
          2005,
          2010,
          2015,
          2020,
          2022,
          2023
         ],
         "y": [
          "1,013,790",
          "1,137,026",
          "1,287,315",
          "1,463,563",
          "1,671,632",
          "1,932,169",
          "2,239,724",
          "2,209,731",
          "2,142,422",
          "2,895,224",
          "3,266,318",
          "4,019,956",
          "4,612,329",
          "5,087,584",
          "5,302,681",
          "5,418,377"
         ]
        }
       ],
       "layout": {
        "legend": {
         "bgcolor": "#FFFFFF",
         "font": {
          "color": "#666666"
         }
        },
        "paper_bgcolor": "#FFFFFF",
        "plot_bgcolor": "#E5E5E5",
        "template": {
         "data": {
          "bar": [
           {
            "error_x": {
             "color": "#2a3f5f"
            },
            "error_y": {
             "color": "#2a3f5f"
            },
            "marker": {
             "line": {
              "color": "#E5ECF6",
              "width": 0.5
             },
             "pattern": {
              "fillmode": "overlay",
              "size": 10,
              "solidity": 0.2
             }
            },
            "type": "bar"
           }
          ],
          "barpolar": [
           {
            "marker": {
             "line": {
              "color": "#E5ECF6",
              "width": 0.5
             },
             "pattern": {
              "fillmode": "overlay",
              "size": 10,
              "solidity": 0.2
             }
            },
            "type": "barpolar"
           }
          ],
          "carpet": [
           {
            "aaxis": {
             "endlinecolor": "#2a3f5f",
             "gridcolor": "white",
             "linecolor": "white",
             "minorgridcolor": "white",
             "startlinecolor": "#2a3f5f"
            },
            "baxis": {
             "endlinecolor": "#2a3f5f",
             "gridcolor": "white",
             "linecolor": "white",
             "minorgridcolor": "white",
             "startlinecolor": "#2a3f5f"
            },
            "type": "carpet"
           }
          ],
          "choropleth": [
           {
            "colorbar": {
             "outlinewidth": 0,
             "ticks": ""
            },
            "type": "choropleth"
           }
          ],
          "contour": [
           {
            "colorbar": {
             "outlinewidth": 0,
             "ticks": ""
            },
            "colorscale": [
             [
              0,
              "#0d0887"
             ],
             [
              0.1111111111111111,
              "#46039f"
             ],
             [
              0.2222222222222222,
              "#7201a8"
             ],
             [
              0.3333333333333333,
              "#9c179e"
             ],
             [
              0.4444444444444444,
              "#bd3786"
             ],
             [
              0.5555555555555556,
              "#d8576b"
             ],
             [
              0.6666666666666666,
              "#ed7953"
             ],
             [
              0.7777777777777778,
              "#fb9f3a"
             ],
             [
              0.8888888888888888,
              "#fdca26"
             ],
             [
              1,
              "#f0f921"
             ]
            ],
            "type": "contour"
           }
          ],
          "contourcarpet": [
           {
            "colorbar": {
             "outlinewidth": 0,
             "ticks": ""
            },
            "type": "contourcarpet"
           }
          ],
          "heatmap": [
           {
            "colorbar": {
             "outlinewidth": 0,
             "ticks": ""
            },
            "colorscale": [
             [
              0,
              "#0d0887"
             ],
             [
              0.1111111111111111,
              "#46039f"
             ],
             [
              0.2222222222222222,
              "#7201a8"
             ],
             [
              0.3333333333333333,
              "#9c179e"
             ],
             [
              0.4444444444444444,
              "#bd3786"
             ],
             [
              0.5555555555555556,
              "#d8576b"
             ],
             [
              0.6666666666666666,
              "#ed7953"
             ],
             [
              0.7777777777777778,
              "#fb9f3a"
             ],
             [
              0.8888888888888888,
              "#fdca26"
             ],
             [
              1,
              "#f0f921"
             ]
            ],
            "type": "heatmap"
           }
          ],
          "heatmapgl": [
           {
            "colorbar": {
             "outlinewidth": 0,
             "ticks": ""
            },
            "colorscale": [
             [
              0,
              "#0d0887"
             ],
             [
              0.1111111111111111,
              "#46039f"
             ],
             [
              0.2222222222222222,
              "#7201a8"
             ],
             [
              0.3333333333333333,
              "#9c179e"
             ],
             [
              0.4444444444444444,
              "#bd3786"
             ],
             [
              0.5555555555555556,
              "#d8576b"
             ],
             [
              0.6666666666666666,
              "#ed7953"
             ],
             [
              0.7777777777777778,
              "#fb9f3a"
             ],
             [
              0.8888888888888888,
              "#fdca26"
             ],
             [
              1,
              "#f0f921"
             ]
            ],
            "type": "heatmapgl"
           }
          ],
          "histogram": [
           {
            "marker": {
             "pattern": {
              "fillmode": "overlay",
              "size": 10,
              "solidity": 0.2
             }
            },
            "type": "histogram"
           }
          ],
          "histogram2d": [
           {
            "colorbar": {
             "outlinewidth": 0,
             "ticks": ""
            },
            "colorscale": [
             [
              0,
              "#0d0887"
             ],
             [
              0.1111111111111111,
              "#46039f"
             ],
             [
              0.2222222222222222,
              "#7201a8"
             ],
             [
              0.3333333333333333,
              "#9c179e"
             ],
             [
              0.4444444444444444,
              "#bd3786"
             ],
             [
              0.5555555555555556,
              "#d8576b"
             ],
             [
              0.6666666666666666,
              "#ed7953"
             ],
             [
              0.7777777777777778,
              "#fb9f3a"
             ],
             [
              0.8888888888888888,
              "#fdca26"
             ],
             [
              1,
              "#f0f921"
             ]
            ],
            "type": "histogram2d"
           }
          ],
          "histogram2dcontour": [
           {
            "colorbar": {
             "outlinewidth": 0,
             "ticks": ""
            },
            "colorscale": [
             [
              0,
              "#0d0887"
             ],
             [
              0.1111111111111111,
              "#46039f"
             ],
             [
              0.2222222222222222,
              "#7201a8"
             ],
             [
              0.3333333333333333,
              "#9c179e"
             ],
             [
              0.4444444444444444,
              "#bd3786"
             ],
             [
              0.5555555555555556,
              "#d8576b"
             ],
             [
              0.6666666666666666,
              "#ed7953"
             ],
             [
              0.7777777777777778,
              "#fb9f3a"
             ],
             [
              0.8888888888888888,
              "#fdca26"
             ],
             [
              1,
              "#f0f921"
             ]
            ],
            "type": "histogram2dcontour"
           }
          ],
          "mesh3d": [
           {
            "colorbar": {
             "outlinewidth": 0,
             "ticks": ""
            },
            "type": "mesh3d"
           }
          ],
          "parcoords": [
           {
            "line": {
             "colorbar": {
              "outlinewidth": 0,
              "ticks": ""
             }
            },
            "type": "parcoords"
           }
          ],
          "pie": [
           {
            "automargin": true,
            "type": "pie"
           }
          ],
          "scatter": [
           {
            "fillpattern": {
             "fillmode": "overlay",
             "size": 10,
             "solidity": 0.2
            },
            "type": "scatter"
           }
          ],
          "scatter3d": [
           {
            "line": {
             "colorbar": {
              "outlinewidth": 0,
              "ticks": ""
             }
            },
            "marker": {
             "colorbar": {
              "outlinewidth": 0,
              "ticks": ""
             }
            },
            "type": "scatter3d"
           }
          ],
          "scattercarpet": [
           {
            "marker": {
             "colorbar": {
              "outlinewidth": 0,
              "ticks": ""
             }
            },
            "type": "scattercarpet"
           }
          ],
          "scattergeo": [
           {
            "marker": {
             "colorbar": {
              "outlinewidth": 0,
              "ticks": ""
             }
            },
            "type": "scattergeo"
           }
          ],
          "scattergl": [
           {
            "marker": {
             "colorbar": {
              "outlinewidth": 0,
              "ticks": ""
             }
            },
            "type": "scattergl"
           }
          ],
          "scattermapbox": [
           {
            "marker": {
             "colorbar": {
              "outlinewidth": 0,
              "ticks": ""
             }
            },
            "type": "scattermapbox"
           }
          ],
          "scatterpolar": [
           {
            "marker": {
             "colorbar": {
              "outlinewidth": 0,
              "ticks": ""
             }
            },
            "type": "scatterpolar"
           }
          ],
          "scatterpolargl": [
           {
            "marker": {
             "colorbar": {
              "outlinewidth": 0,
              "ticks": ""
             }
            },
            "type": "scatterpolargl"
           }
          ],
          "scatterternary": [
           {
            "marker": {
             "colorbar": {
              "outlinewidth": 0,
              "ticks": ""
             }
            },
            "type": "scatterternary"
           }
          ],
          "surface": [
           {
            "colorbar": {
             "outlinewidth": 0,
             "ticks": ""
            },
            "colorscale": [
             [
              0,
              "#0d0887"
             ],
             [
              0.1111111111111111,
              "#46039f"
             ],
             [
              0.2222222222222222,
              "#7201a8"
             ],
             [
              0.3333333333333333,
              "#9c179e"
             ],
             [
              0.4444444444444444,
              "#bd3786"
             ],
             [
              0.5555555555555556,
              "#d8576b"
             ],
             [
              0.6666666666666666,
              "#ed7953"
             ],
             [
              0.7777777777777778,
              "#fb9f3a"
             ],
             [
              0.8888888888888888,
              "#fdca26"
             ],
             [
              1,
              "#f0f921"
             ]
            ],
            "type": "surface"
           }
          ],
          "table": [
           {
            "cells": {
             "fill": {
              "color": "#EBF0F8"
             },
             "line": {
              "color": "white"
             }
            },
            "header": {
             "fill": {
              "color": "#C8D4E3"
             },
             "line": {
              "color": "white"
             }
            },
            "type": "table"
           }
          ]
         },
         "layout": {
          "annotationdefaults": {
           "arrowcolor": "#2a3f5f",
           "arrowhead": 0,
           "arrowwidth": 1
          },
          "autotypenumbers": "strict",
          "coloraxis": {
           "colorbar": {
            "outlinewidth": 0,
            "ticks": ""
           }
          },
          "colorscale": {
           "diverging": [
            [
             0,
             "#8e0152"
            ],
            [
             0.1,
             "#c51b7d"
            ],
            [
             0.2,
             "#de77ae"
            ],
            [
             0.3,
             "#f1b6da"
            ],
            [
             0.4,
             "#fde0ef"
            ],
            [
             0.5,
             "#f7f7f7"
            ],
            [
             0.6,
             "#e6f5d0"
            ],
            [
             0.7,
             "#b8e186"
            ],
            [
             0.8,
             "#7fbc41"
            ],
            [
             0.9,
             "#4d9221"
            ],
            [
             1,
             "#276419"
            ]
           ],
           "sequential": [
            [
             0,
             "#0d0887"
            ],
            [
             0.1111111111111111,
             "#46039f"
            ],
            [
             0.2222222222222222,
             "#7201a8"
            ],
            [
             0.3333333333333333,
             "#9c179e"
            ],
            [
             0.4444444444444444,
             "#bd3786"
            ],
            [
             0.5555555555555556,
             "#d8576b"
            ],
            [
             0.6666666666666666,
             "#ed7953"
            ],
            [
             0.7777777777777778,
             "#fb9f3a"
            ],
            [
             0.8888888888888888,
             "#fdca26"
            ],
            [
             1,
             "#f0f921"
            ]
           ],
           "sequentialminus": [
            [
             0,
             "#0d0887"
            ],
            [
             0.1111111111111111,
             "#46039f"
            ],
            [
             0.2222222222222222,
             "#7201a8"
            ],
            [
             0.3333333333333333,
             "#9c179e"
            ],
            [
             0.4444444444444444,
             "#bd3786"
            ],
            [
             0.5555555555555556,
             "#d8576b"
            ],
            [
             0.6666666666666666,
             "#ed7953"
            ],
            [
             0.7777777777777778,
             "#fb9f3a"
            ],
            [
             0.8888888888888888,
             "#fdca26"
            ],
            [
             1,
             "#f0f921"
            ]
           ]
          },
          "colorway": [
           "#636efa",
           "#EF553B",
           "#00cc96",
           "#ab63fa",
           "#FFA15A",
           "#19d3f3",
           "#FF6692",
           "#B6E880",
           "#FF97FF",
           "#FECB52"
          ],
          "font": {
           "color": "#2a3f5f"
          },
          "geo": {
           "bgcolor": "white",
           "lakecolor": "white",
           "landcolor": "#E5ECF6",
           "showlakes": true,
           "showland": true,
           "subunitcolor": "white"
          },
          "hoverlabel": {
           "align": "left"
          },
          "hovermode": "closest",
          "mapbox": {
           "style": "light"
          },
          "paper_bgcolor": "white",
          "plot_bgcolor": "#E5ECF6",
          "polar": {
           "angularaxis": {
            "gridcolor": "white",
            "linecolor": "white",
            "ticks": ""
           },
           "bgcolor": "#E5ECF6",
           "radialaxis": {
            "gridcolor": "white",
            "linecolor": "white",
            "ticks": ""
           }
          },
          "scene": {
           "xaxis": {
            "backgroundcolor": "#E5ECF6",
            "gridcolor": "white",
            "gridwidth": 2,
            "linecolor": "white",
            "showbackground": true,
            "ticks": "",
            "zerolinecolor": "white"
           },
           "yaxis": {
            "backgroundcolor": "#E5ECF6",
            "gridcolor": "white",
            "gridwidth": 2,
            "linecolor": "white",
            "showbackground": true,
            "ticks": "",
            "zerolinecolor": "white"
           },
           "zaxis": {
            "backgroundcolor": "#E5ECF6",
            "gridcolor": "white",
            "gridwidth": 2,
            "linecolor": "white",
            "showbackground": true,
            "ticks": "",
            "zerolinecolor": "white"
           }
          },
          "shapedefaults": {
           "line": {
            "color": "#2a3f5f"
           }
          },
          "ternary": {
           "aaxis": {
            "gridcolor": "white",
            "linecolor": "white",
            "ticks": ""
           },
           "baxis": {
            "gridcolor": "white",
            "linecolor": "white",
            "ticks": ""
           },
           "bgcolor": "#E5ECF6",
           "caxis": {
            "gridcolor": "white",
            "linecolor": "white",
            "ticks": ""
           }
          },
          "title": {
           "x": 0.05
          },
          "xaxis": {
           "automargin": true,
           "gridcolor": "white",
           "linecolor": "white",
           "ticks": "",
           "title": {
            "standoff": 15
           },
           "zerolinecolor": "white",
           "zerolinewidth": 2
          },
          "yaxis": {
           "automargin": true,
           "gridcolor": "white",
           "linecolor": "white",
           "ticks": "",
           "title": {
            "standoff": 15
           },
           "zerolinecolor": "white",
           "zerolinewidth": 2
          }
         }
        },
        "title": {
         "font": {
          "color": "#151516"
         },
         "text": "Population (1995-2023)"
        },
        "xaxis": {
         "gridcolor": "#F6F6F6",
         "showgrid": true,
         "tickfont": {
          "color": "#666666"
         },
         "title": {
          "font": {
           "color": "#666666"
          },
          "text": "Years"
         },
         "zerolinecolor": "#F6F6F6"
        },
        "yaxis": {
         "gridcolor": "#F6F6F6",
         "showgrid": true,
         "tickfont": {
          "color": "#666666"
         },
         "title": {
          "font": {
           "color": "#666666"
          },
          "text": "Population"
         },
         "zerolinecolor": "#F6F6F6"
        }
       }
      },
      "text/html": [
       "<div>                            <div id=\"15588a9a-38c7-41a8-b3db-8326454252fe\" class=\"plotly-graph-div\" style=\"height:525px; width:100%;\"></div>            <script type=\"text/javascript\">                require([\"plotly\"], function(Plotly) {                    window.PLOTLYENV=window.PLOTLYENV || {};\n",
       "                    window.PLOTLYENV.BASE_URL='https://plot.ly';                                    if (document.getElementById(\"15588a9a-38c7-41a8-b3db-8326454252fe\")) {                    Plotly.newPlot(                        \"15588a9a-38c7-41a8-b3db-8326454252fe\",                        [{\"marker\":{\"color\":\"rgba(226, 74, 51, 0.6)\",\"line\":{\"color\":\"rgba(226, 74, 51, 1.0)\",\"width\":1}},\"name\":\"State of Palestine\",\"orientation\":\"v\",\"text\":\"\",\"x\":[1955,1960,1965,1970,1975,1980,1985,1990,1995,2000,2005,2010,2015,2020,2022,2023],\"y\":[\"997,117\",\"1,073,842\",\"1,148,517\",\"1,118,241\",\"1,263,706\",\"1,453,620\",\"1,731,085\",\"2,124,609\",\"2,623,144\",\"3,139,954\",\"3,541,193\",\"3,992,278\",\"4,484,614\",\"5,019,401\",\"5,250,072\",\"5,371,230\"],\"type\":\"bar\"},{\"marker\":{\"color\":\"rgba(62, 111, 176, 0.6)\",\"line\":{\"color\":\"rgba(62, 111, 176, 1.0)\",\"width\":1}},\"name\":\"Panama\",\"orientation\":\"v\",\"text\":\"\",\"x\":[1955,1960,1965,1970,1975,1980,1985,1990,1995,2000,2005,2010,2015,2020,2022,2023],\"y\":[\"980,004\",\"1,126,989\",\"1,310,556\",\"1,516,188\",\"1,734,876\",\"1,956,987\",\"2,197,065\",\"2,449,968\",\"2,716,067\",\"3,001,731\",\"3,305,868\",\"3,623,617\",\"3,957,099\",\"4,294,396\",\"4,408,581\",\"4,468,087\"],\"type\":\"bar\"},{\"marker\":{\"color\":\"rgba(132, 118, 202, 0.6)\",\"line\":{\"color\":\"rgba(132, 118, 202, 1.0)\",\"width\":1}},\"name\":\"Samoa\",\"orientation\":\"v\",\"text\":\"\",\"x\":[1955,1960,1965,1970,1975,1980,1985,1990,1995,2000,2005,2010,2015,2020,2022,2023],\"y\":[\"98,037\",\"113,335\",\"129,789\",\"142,771\",\"155,263\",\"164,905\",\"166,517\",\"168,186\",\"174,902\",\"184,008\",\"188,626\",\"194,672\",\"203,571\",\"214,929\",\"222,382\",\"225,681\"],\"type\":\"bar\"},{\"marker\":{\"color\":\"rgba(101, 101, 101, 0.6)\",\"line\":{\"color\":\"rgba(101, 101, 101, 1.0)\",\"width\":1}},\"name\":\"Congo\",\"orientation\":\"v\",\"text\":\"\",\"x\":[1955,1960,1965,1970,1975,1980,1985,1990,1995,2000,2005,2010,2015,2020,2022,2023],\"y\":[\"933,418\",\"1,055,693\",\"1,207,412\",\"1,396,989\",\"1,624,935\",\"1,829,256\",\"2,062,555\",\"2,385,435\",\"2,742,309\",\"3,134,030\",\"3,672,839\",\"4,437,884\",\"5,064,386\",\"5,702,174\",\"5,970,424\",\"6,106,869\"],\"type\":\"bar\"},{\"marker\":{\"color\":\"rgba(251, 193, 94, 0.6)\",\"line\":{\"color\":\"rgba(251, 193, 94, 1.0)\",\"width\":1}},\"name\":\"Bahamas\",\"orientation\":\"v\",\"text\":\"\",\"x\":[1955,1960,1965,1970,1975,1980,1985,1990,1995,2000,2005,2010,2015,2020,2022,2023],\"y\":[\"92,444\",\"114,500\",\"144,849\",\"179,129\",\"201,881\",\"223,752\",\"245,935\",\"270,679\",\"299,554\",\"325,014\",\"347,804\",\"373,272\",\"392,697\",\"406,471\",\"409,984\",\"412,623\"],\"type\":\"bar\"},{\"marker\":{\"color\":\"rgba(142, 186, 66, 0.6)\",\"line\":{\"color\":\"rgba(142, 186, 66, 1.0)\",\"width\":1}},\"name\":\"Japan\",\"orientation\":\"v\",\"text\":\"\",\"x\":[1955,1960,1965,1970,1975,1980,1985,1990,1995,2000,2005,2010,2015,2020,2022,2023],\"y\":[\"90,090,281\",\"94,464,839\",\"99,468,746\",\"105,416,839\",\"112,411,640\",\"117,624,196\",\"121,119,031\",\"123,686,321\",\"125,433,969\",\"126,803,861\",\"127,798,373\",\"128,105,431\",\"127,250,933\",\"125,244,761\",\"123,951,692\",\"123,294,513\"],\"type\":\"bar\"},{\"marker\":{\"color\":\"rgba(255, 181, 184, 0.6)\",\"line\":{\"color\":\"rgba(255, 181, 184, 1.0)\",\"width\":1}},\"name\":\"Hungary\",\"orientation\":\"v\",\"text\":\"\",\"x\":[1955,1960,1965,1970,1975,1980,1985,1990,1995,2000,2005,2010,2015,2020,2022,2023],\"y\":[\"9,823,331\",\"9,982,610\",\"10,140,853\",\"10,315,366\",\"10,520,237\",\"10,698,679\",\"10,542,754\",\"10,375,989\",\"10,327,169\",\"10,202,055\",\"10,073,525\",\"9,986,825\",\"9,844,246\",\"9,750,573\",\"9,967,308\",\"10,156,239\"],\"type\":\"bar\"},{\"marker\":{\"color\":\"rgba(255, 181, 184, 0.6)\",\"line\":{\"color\":\"rgba(255, 181, 184, 0.971859296482412)\",\"width\":1}},\"name\":\"Czech Republic (Czechia)\",\"orientation\":\"v\",\"text\":\"\",\"x\":[1955,1960,1965,1970,1975,1980,1985,1990,1995,2000,2005,2010,2015,2020,2022,2023],\"y\":[\"9,288,972\",\"9,539,362\",\"9,702,730\",\"9,795,744\",\"10,025,715\",\"10,270,060\",\"10,302,326\",\"10,301,192\",\"10,311,702\",\"10,234,710\",\"10,280,113\",\"10,464,749\",\"10,523,798\",\"10,530,953\",\"10,493,986\",\"10,495,295\"],\"type\":\"bar\"},{\"marker\":{\"color\":\"rgba(226, 74, 51, 0.6)\",\"line\":{\"color\":\"rgba(226, 74, 51, 0.971859296482412)\",\"width\":1}},\"name\":\"Nepal\",\"orientation\":\"v\",\"text\":\"\",\"x\":[1955,1960,1965,1970,1975,1980,1985,1990,1995,2000,2005,2010,2015,2020,2022,2023],\"y\":[\"9,284,895\",\"10,167,941\",\"11,232,951\",\"12,501,285\",\"13,925,541\",\"15,600,442\",\"17,540,571\",\"19,616,530\",\"22,305,571\",\"24,559,500\",\"26,285,110\",\"27,161,567\",\"27,610,325\",\"29,348,627\",\"30,547,580\",\"30,896,590\"],\"type\":\"bar\"},{\"marker\":{\"color\":\"rgba(62, 111, 176, 0.6)\",\"line\":{\"color\":\"rgba(62, 111, 176, 0.971859296482412)\",\"width\":1}},\"name\":\"Taiwan\",\"orientation\":\"v\",\"text\":\"\",\"x\":[1955,1960,1965,1970,1975,1980,1985,1990,1995,2000,2005,2010,2015,2020,2022,2023],\"y\":[\"9,229,462\",\"10,983,147\",\"13,070,708\",\"14,957,870\",\"16,551,774\",\"18,100,281\",\"19,511,876\",\"20,586,174\",\"21,455,813\",\"22,194,731\",\"22,796,306\",\"23,083,083\",\"23,512,136\",\"23,821,464\",\"23,893,394\",\"23,923,276\"],\"type\":\"bar\"},{\"marker\":{\"color\":\"rgba(132, 118, 202, 0.6)\",\"line\":{\"color\":\"rgba(132, 118, 202, 0.971859296482412)\",\"width\":1}},\"name\":\"Australia\",\"orientation\":\"v\",\"text\":\"\",\"x\":[1955,1960,1965,1970,1975,1980,1985,1990,1995,2000,2005,2010,2015,2020,2022,2023],\"y\":[\"9,209,844\",\"10,286,647\",\"11,359,442\",\"12,595,034\",\"13,886,854\",\"14,706,322\",\"15,785,682\",\"17,048,003\",\"18,002,999\",\"19,017,963\",\"20,171,731\",\"22,019,168\",\"23,820,236\",\"25,670,051\",\"26,177,413\",\"26,439,111\"],\"type\":\"bar\"},{\"marker\":{\"color\":\"rgba(101, 101, 101, 0.6)\",\"line\":{\"color\":\"rgba(101, 101, 101, 0.971859296482412)\",\"width\":1}},\"name\":\"Eritrea\",\"orientation\":\"v\",\"text\":\"\",\"x\":[1955,1960,1965,1970,1975,1980,1985,1990,1995,2000,2005,2010,2015,2020,2022,2023],\"y\":[\"895,009\",\"993,568\",\"1,121,739\",\"1,272,748\",\"1,450,867\",\"1,657,982\",\"1,899,243\",\"2,149,960\",\"2,157,220\",\"2,392,880\",\"2,831,732\",\"3,147,727\",\"3,340,006\",\"3,555,868\",\"3,684,032\",\"3,748,901\"],\"type\":\"bar\"},{\"marker\":{\"color\":\"rgba(251, 193, 94, 0.6)\",\"line\":{\"color\":\"rgba(251, 193, 94, 0.971859296482412)\",\"width\":1}},\"name\":\"Saint Lucia\",\"orientation\":\"v\",\"text\":\"\",\"x\":[1955,1960,1965,1970,1975,1980,1985,1990,1995,2000,2005,2010,2015,2020,2022,2023],\"y\":[\"88,463\",\"91,614\",\"97,024\",\"103,090\",\"111,497\",\"121,633\",\"132,751\",\"142,301\",\"152,348\",\"159,500\",\"165,386\",\"170,935\",\"175,623\",\"179,237\",\"179,857\",\"180,251\"],\"type\":\"bar\"},{\"marker\":{\"color\":\"rgba(142, 186, 66, 0.6)\",\"line\":{\"color\":\"rgba(142, 186, 66, 0.971859296482412)\",\"width\":1}},\"name\":\"Mongolia\",\"orientation\":\"v\",\"text\":\"\",\"x\":[1955,1960,1965,1970,1975,1980,1985,1990,1995,2000,2005,2010,2015,2020,2022,2023],\"y\":[\"844,997\",\"977,903\",\"1,134,072\",\"1,293,880\",\"1,485,691\",\"1,697,780\",\"1,919,744\",\"2,161,433\",\"2,330,334\",\"2,450,979\",\"2,559,255\",\"2,702,520\",\"2,964,749\",\"3,294,335\",\"3,398,366\",\"3,447,157\"],\"type\":\"bar\"},{\"marker\":{\"color\":\"rgba(142, 186, 66, 0.6)\",\"line\":{\"color\":\"rgba(142, 186, 66, 0.9437185929648242)\",\"width\":1}},\"name\":\"Grenada\",\"orientation\":\"v\",\"text\":\"\",\"x\":[1955,1960,1965,1970,1975,1980,1985,1990,1995,2000,2005,2010,2015,2020,2022,2023],\"y\":[\"82,656\",\"93,772\",\"98,226\",\"98,794\",\"97,165\",\"94,838\",\"100,576\",\"99,047\",\"104,060\",\"107,432\",\"110,254\",\"114,039\",\"118,980\",\"123,663\",\"125,438\",\"126,183\"],\"type\":\"bar\"},{\"marker\":{\"color\":\"rgba(255, 181, 184, 0.6)\",\"line\":{\"color\":\"rgba(255, 181, 184, 0.9437185929648242)\",\"width\":1}},\"name\":\"Maldives\",\"orientation\":\"v\",\"text\":\"\",\"x\":[1955,1960,1965,1970,1975,1980,1985,1990,1995,2000,2005,2010,2015,2020,2022,2023],\"y\":[\"81,823\",\"91,650\",\"104,566\",\"123,243\",\"143,126\",\"164,887\",\"190,383\",\"224,957\",\"258,208\",\"282,507\",\"307,018\",\"361,575\",\"435,582\",\"514,438\",\"523,787\",\"521,021\"],\"type\":\"bar\"},{\"marker\":{\"color\":\"rgba(226, 74, 51, 0.6)\",\"line\":{\"color\":\"rgba(226, 74, 51, 0.9437185929648242)\",\"width\":1}},\"name\":\"Belgium\",\"orientation\":\"v\",\"text\":\"\",\"x\":[1955,1960,1965,1970,1975,1980,1985,1990,1995,2000,2005,2010,2015,2020,2022,2023],\"y\":[\"8,834,526\",\"9,108,724\",\"9,412,087\",\"9,629,376\",\"9,763,430\",\"9,828,986\",\"9,880,534\",\"9,959,560\",\"10,095,198\",\"10,264,343\",\"10,516,978\",\"10,877,947\",\"11,248,303\",\"11,561,717\",\"11,655,930\",\"11,686,140\"],\"type\":\"bar\"},{\"marker\":{\"color\":\"rgba(62, 111, 176, 0.6)\",\"line\":{\"color\":\"rgba(62, 111, 176, 0.9437185929648242)\",\"width\":1}},\"name\":\"Peru\",\"orientation\":\"v\",\"text\":\"\",\"x\":[1955,1960,1965,1970,1975,1980,1985,1990,1995,2000,2005,2010,2015,2020,2022,2023],\"y\":[\"8,825,897\",\"10,172,207\",\"11,781,581\",\"13,562,371\",\"15,441,497\",\"17,492,406\",\"19,746,610\",\"22,109,099\",\"24,449,055\",\"26,654,439\",\"28,147,267\",\"29,229,572\",\"30,711,863\",\"33,304,756\",\"34,049,588\",\"34,352,719\"],\"type\":\"bar\"},{\"marker\":{\"color\":\"rgba(132, 118, 202, 0.6)\",\"line\":{\"color\":\"rgba(132, 118, 202, 0.9437185929648242)\",\"width\":1}},\"name\":\"Sri Lanka\",\"orientation\":\"v\",\"text\":\"\",\"x\":[1955,1960,1965,1970,1975,1980,1985,1990,1995,2000,2005,2010,2015,2020,2022,2023],\"y\":[\"8,749,627\",\"9,783,871\",\"11,035,224\",\"12,388,769\",\"13,662,873\",\"14,943,645\",\"16,092,338\",\"17,204,094\",\"18,177,572\",\"18,776,371\",\"19,673,866\",\"20,668,557\",\"21,336,697\",\"21,715,079\",\"21,832,143\",\"21,893,579\"],\"type\":\"bar\"},{\"marker\":{\"color\":\"rgba(101, 101, 101, 0.6)\",\"line\":{\"color\":\"rgba(101, 101, 101, 0.9437185929648242)\",\"width\":1}},\"name\":\"Tanzania\",\"orientation\":\"v\",\"text\":\"\",\"x\":[1955,1960,1965,1970,1975,1980,1985,1990,1995,2000,2005,2010,2015,2020,2022,2023],\"y\":[\"8,725,576\",\"10,042,458\",\"11,630,603\",\"13,618,192\",\"16,243,826\",\"19,297,659\",\"22,569,625\",\"26,206,012\",\"30,560,071\",\"34,463,704\",\"39,439,505\",\"45,110,527\",\"52,542,823\",\"61,704,518\",\"65,497,748\",\"67,438,106\"],\"type\":\"bar\"},{\"marker\":{\"color\":\"rgba(251, 193, 94, 0.6)\",\"line\":{\"color\":\"rgba(251, 193, 94, 0.9437185929648242)\",\"width\":1}},\"name\":\"Portugal\",\"orientation\":\"v\",\"text\":\"\",\"x\":[1955,1960,1965,1970,1975,1980,1985,1990,1995,2000,2005,2010,2015,2020,2022,2023],\"y\":[\"8,665,451\",\"8,882,469\",\"8,899,092\",\"8,683,631\",\"9,202,709\",\"9,785,252\",\"9,996,896\",\"10,007,346\",\"10,051,248\",\"10,300,626\",\"10,523,315\",\"10,588,401\",\"10,365,435\",\"10,298,192\",\"10,270,865\",\"10,247,605\"],\"type\":\"bar\"},{\"marker\":{\"color\":\"rgba(251, 193, 94, 0.6)\",\"line\":{\"color\":\"rgba(251, 193, 94, 0.9155778894472362)\",\"width\":1}},\"name\":\"Greece\",\"orientation\":\"v\",\"text\":\"\",\"x\":[1955,1960,1965,1970,1975,1980,1985,1990,1995,2000,2005,2010,2015,2020,2022,2023],\"y\":[\"8,146,022\",\"8,495,415\",\"8,526,254\",\"8,544,873\",\"8,805,415\",\"9,307,148\",\"9,840,141\",\"10,302,255\",\"10,727,927\",\"11,038,109\",\"11,113,448\",\"11,033,783\",\"10,806,641\",\"10,512,232\",\"10,384,971\",\"10,341,277\"],\"type\":\"bar\"},{\"marker\":{\"color\":\"rgba(142, 186, 66, 0.6)\",\"line\":{\"color\":\"rgba(142, 186, 66, 0.9155778894472362)\",\"width\":1}},\"name\":\"Belize\",\"orientation\":\"v\",\"text\":\"\",\"x\":[1955,1960,1965,1970,1975,1980,1985,1990,1995,2000,2005,2010,2015,2020,2022,2023],\"y\":[\"79,986\",\"91,403\",\"104,838\",\"120,905\",\"130,801\",\"145,133\",\"163,436\",\"182,589\",\"203,556\",\"240,406\",\"280,375\",\"322,106\",\"359,871\",\"394,921\",\"405,272\",\"410,825\"],\"type\":\"bar\"},{\"marker\":{\"color\":\"rgba(255, 181, 184, 0.6)\",\"line\":{\"color\":\"rgba(255, 181, 184, 0.9155778894472362)\",\"width\":1}},\"name\":\"Indonesia\",\"orientation\":\"v\",\"text\":\"\",\"x\":[1955,1960,1965,1970,1975,1980,1985,1990,1995,2000,2005,2010,2015,2020,2022,2023],\"y\":[\"77,741,502\",\"88,382,881\",\"101,157,868\",\"115,228,394\",\"131,213,215\",\"148,177,096\",\"165,791,694\",\"182,159,874\",\"198,140,162\",\"214,072,421\",\"228,805,144\",\"244,016,173\",\"259,091,970\",\"271,857,970\",\"275,501,339\",\"277,534,122\"],\"type\":\"bar\"},{\"marker\":{\"color\":\"rgba(226, 74, 51, 0.6)\",\"line\":{\"color\":\"rgba(226, 74, 51, 0.9155778894472362)\",\"width\":1}},\"name\":\"Trinidad and Tobago\",\"orientation\":\"v\",\"text\":\"\",\"x\":[1955,1960,1965,1970,1975,1980,1985,1990,1995,2000,2005,2010,2015,2020,2022,2023],\"y\":[\"742,576\",\"847,063\",\"928,462\",\"988,890\",\"1,054,017\",\"1,127,852\",\"1,199,785\",\"1,266,518\",\"1,307,822\",\"1,332,203\",\"1,369,075\",\"1,410,296\",\"1,460,177\",\"1,518,147\",\"1,531,044\",\"1,534,937\"],\"type\":\"bar\"},{\"marker\":{\"color\":\"rgba(62, 111, 176, 0.6)\",\"line\":{\"color\":\"rgba(62, 111, 176, 0.9155778894472362)\",\"width\":1}},\"name\":\"French Polynesia\",\"orientation\":\"v\",\"text\":\"\",\"x\":[1955,1960,1965,1970,1975,1980,1985,1990,1995,2000,2005,2010,2015,2020,2022,2023],\"y\":[\"74,475\",\"84,851\",\"98,674\",\"117,891\",\"139,833\",\"163,591\",\"187,578\",\"211,089\",\"231,446\",\"250,927\",\"271,060\",\"283,788\",\"291,787\",\"301,920\",\"306,279\",\"308,872\"],\"type\":\"bar\"},{\"marker\":{\"color\":\"rgba(132, 118, 202, 0.6)\",\"line\":{\"color\":\"rgba(132, 118, 202, 0.9155778894472362)\",\"width\":1}},\"name\":\"Mauritania\",\"orientation\":\"v\",\"text\":\"\",\"x\":[1955,1960,1965,1970,1975,1980,1985,1990,1995,2000,2005,2010,2015,2020,2022,2023],\"y\":[\"738,577\",\"838,478\",\"965,621\",\"1,122,198\",\"1,302,436\",\"1,506,694\",\"1,746,265\",\"2,006,027\",\"2,380,341\",\"2,695,003\",\"3,012,360\",\"3,419,461\",\"3,946,220\",\"4,498,604\",\"4,736,139\",\"4,862,989\"],\"type\":\"bar\"},{\"marker\":{\"color\":\"rgba(101, 101, 101, 0.6)\",\"line\":{\"color\":\"rgba(101, 101, 101, 0.9155778894472362)\",\"width\":1}},\"name\":\"Djibouti\",\"orientation\":\"v\",\"text\":\"\",\"x\":[1955,1960,1965,1970,1975,1980,1985,1990,1995,2000,2005,2010,2015,2020,2022,2023],\"y\":[\"72,997\",\"85,940\",\"108,772\",\"144,379\",\"208,582\",\"324,121\",\"400,709\",\"577,173\",\"629,619\",\"742,033\",\"830,861\",\"919,199\",\"1,006,259\",\"1,090,156\",\"1,120,849\",\"1,136,455\"],\"type\":\"bar\"},{\"marker\":{\"color\":\"rgba(101, 101, 101, 0.6)\",\"line\":{\"color\":\"rgba(101, 101, 101, 0.8874371859296482)\",\"width\":1}},\"name\":\"St. Vincent & Grenadines\",\"orientation\":\"v\",\"text\":\"\",\"x\":[1955,1960,1965,1970,1975,1980,1985,1990,1995,2000,2005,2010,2015,2020,2022,2023],\"y\":[\"71,822\",\"84,141\",\"91,495\",\"98,459\",\"103,879\",\"107,480\",\"110,906\",\"112,487\",\"114,174\",\"113,813\",\"112,043\",\"109,308\",\"106,482\",\"104,632\",\"103,948\",\"103,698\"],\"type\":\"bar\"},{\"marker\":{\"color\":\"rgba(251, 193, 94, 0.6)\",\"line\":{\"color\":\"rgba(251, 193, 94, 0.8874371859296482)\",\"width\":1}},\"name\":\"Germany\",\"orientation\":\"v\",\"text\":\"\",\"x\":[1955,1960,1965,1970,1975,1980,1985,1990,1995,2000,2005,2010,2015,2020,2022,2023],\"y\":[\"71,222,628\",\"73,063,695\",\"76,037,469\",\"78,294,583\",\"78,513,511\",\"77,786,703\",\"77,638,808\",\"79,370,196\",\"81,123,262\",\"81,551,677\",\"81,212,168\",\"81,325,090\",\"82,073,226\",\"83,328,988\",\"83,369,843\",\"83,294,633\"],\"type\":\"bar\"},{\"marker\":{\"color\":\"rgba(142, 186, 66, 0.6)\",\"line\":{\"color\":\"rgba(142, 186, 66, 0.8874371859296482)\",\"width\":1}},\"name\":\"Belarus\",\"orientation\":\"v\",\"text\":\"\",\"x\":[1955,1960,1965,1970,1975,1980,1985,1990,1995,2000,2005,2010,2015,2020,2022,2023],\"y\":[\"7,976,356\",\"8,389,183\",\"8,854,528\",\"9,170,786\",\"9,500,738\",\"9,817,257\",\"10,133,211\",\"10,428,525\",\"10,461,696\",\"10,256,483\",\"9,935,163\",\"9,731,427\",\"9,700,609\",\"9,633,740\",\"9,534,954\",\"9,498,238\"],\"type\":\"bar\"},{\"marker\":{\"color\":\"rgba(255, 181, 184, 0.6)\",\"line\":{\"color\":\"rgba(255, 181, 184, 0.8874371859296482)\",\"width\":1}},\"name\":\"Afghanistan\",\"orientation\":\"v\",\"text\":\"\",\"x\":[1955,1960,1965,1970,1975,1980,1985,1990,1995,2000,2005,2010,2015,2020,2022,2023],\"y\":[\"7,971,931\",\"8,622,466\",\"9,565,147\",\"10,752,971\",\"12,157,386\",\"12,486,631\",\"10,512,221\",\"10,694,796\",\"16,418,912\",\"19,542,982\",\"24,411,191\",\"28,189,672\",\"33,753,499\",\"38,972,230\",\"41,128,771\",\"42,239,854\"],\"type\":\"bar\"},{\"marker\":{\"color\":\"rgba(226, 74, 51, 0.6)\",\"line\":{\"color\":\"rgba(226, 74, 51, 0.8874371859296482)\",\"width\":1}},\"name\":\"Kazakhstan\",\"orientation\":\"v\",\"text\":\"\",\"x\":[1955,1960,1965,1970,1975,1980,1985,1990,1995,2000,2005,2010,2015,2020,2022,2023],\"y\":[\"7,858,733\",\"9,319,283\",\"10,897,644\",\"12,265,305\",\"13,158,942\",\"14,172,710\",\"15,413,315\",\"16,866,563\",\"16,434,324\",\"15,236,253\",\"15,656,248\",\"16,627,837\",\"17,835,909\",\"18,979,243\",\"19,397,998\",\"19,606,633\"],\"type\":\"bar\"},{\"marker\":{\"color\":\"rgba(62, 111, 176, 0.6)\",\"line\":{\"color\":\"rgba(62, 111, 176, 0.8874371859296482)\",\"width\":1}},\"name\":\"Bulgaria\",\"orientation\":\"v\",\"text\":\"\",\"x\":[1955,1960,1965,1970,1975,1980,1985,1990,1995,2000,2005,2010,2015,2020,2022,2023],\"y\":[\"7,517,922\",\"7,891,756\",\"8,245,072\",\"8,582,950\",\"8,860,971\",\"8,980,606\",\"8,917,076\",\"8,767,778\",\"8,477,579\",\"8,097,691\",\"7,815,221\",\"7,592,273\",\"7,309,253\",\"6,979,175\",\"6,781,953\",\"6,687,717\"],\"type\":\"bar\"},{\"marker\":{\"color\":\"rgba(132, 118, 202, 0.6)\",\"line\":{\"color\":\"rgba(132, 118, 202, 0.8874371859296482)\",\"width\":1}},\"name\":\"Chile\",\"orientation\":\"v\",\"text\":\"\",\"x\":[1955,1960,1965,1970,1975,1980,1985,1990,1995,2000,2005,2010,2015,2020,2022,2023],\"y\":[\"7,323,194\",\"8,141,820\",\"8,994,936\",\"9,820,481\",\"10,639,531\",\"11,469,828\",\"12,326,396\",\"13,342,868\",\"14,416,796\",\"15,351,799\",\"16,175,311\",\"17,004,162\",\"17,870,124\",\"19,300,315\",\"19,603,733\",\"19,629,590\"],\"type\":\"bar\"},{\"marker\":{\"color\":\"rgba(132, 118, 202, 0.6)\",\"line\":{\"color\":\"rgba(132, 118, 202, 0.8592964824120604)\",\"width\":1}},\"name\":\"Sweden\",\"orientation\":\"v\",\"text\":\"\",\"x\":[1955,1960,1965,1970,1975,1980,1985,1990,1995,2000,2005,2010,2015,2020,2022,2023],\"y\":[\"7,264,351\",\"7,492,895\",\"7,755,752\",\"8,027,702\",\"8,224,408\",\"8,311,763\",\"8,389,913\",\"8,548,406\",\"8,758,496\",\"8,871,043\",\"9,051,738\",\"9,381,729\",\"9,849,349\",\"10,368,969\",\"10,549,347\",\"10,612,086\"],\"type\":\"bar\"},{\"marker\":{\"color\":\"rgba(101, 101, 101, 0.6)\",\"line\":{\"color\":\"rgba(101, 101, 101, 0.8592964824120604)\",\"width\":1}},\"name\":\"Sudan\",\"orientation\":\"v\",\"text\":\"\",\"x\":[1955,1960,1965,1970,1975,1980,1985,1990,1995,2000,2005,2010,2015,2020,2022,2023],\"y\":[\"7,193,065\",\"8,326,462\",\"9,712,785\",\"11,305,206\",\"13,497,543\",\"16,673,586\",\"19,517,196\",\"21,090,886\",\"23,290,602\",\"26,298,773\",\"29,540,577\",\"33,739,933\",\"38,171,178\",\"44,440,486\",\"46,874,204\",\"48,109,006\"],\"type\":\"bar\"},{\"marker\":{\"color\":\"rgba(251, 193, 94, 0.6)\",\"line\":{\"color\":\"rgba(251, 193, 94, 0.8592964824120604)\",\"width\":1}},\"name\":\"Uzbekistan\",\"orientation\":\"v\",\"text\":\"\",\"x\":[1955,1960,1965,1970,1975,1980,1985,1990,1995,2000,2005,2010,2015,2020,2022,2023],\"y\":[\"7,141,923\",\"8,372,311\",\"10,130,096\",\"12,011,361\",\"13,894,347\",\"15,947,129\",\"18,063,201\",\"20,579,100\",\"23,026,206\",\"24,925,554\",\"26,573,423\",\"28,614,227\",\"30,949,417\",\"33,526,656\",\"34,627,652\",\"35,163,944\"],\"type\":\"bar\"},{\"marker\":{\"color\":\"rgba(142, 186, 66, 0.6)\",\"line\":{\"color\":\"rgba(142, 186, 66, 0.8592964824120604)\",\"width\":1}},\"name\":\"New Caledonia\",\"orientation\":\"v\",\"text\":\"\",\"x\":[1955,1960,1965,1970,1975,1980,1985,1990,1995,2000,2005,2010,2015,2020,2022,2023],\"y\":[\"69,989\",\"81,236\",\"94,803\",\"110,982\",\"136,601\",\"148,599\",\"159,702\",\"177,264\",\"199,701\",\"221,537\",\"242,141\",\"261,426\",\"283,032\",\"286,403\",\"289,950\",\"292,991\"],\"type\":\"bar\"},{\"marker\":{\"color\":\"rgba(255, 181, 184, 0.6)\",\"line\":{\"color\":\"rgba(255, 181, 184, 0.8592964824120604)\",\"width\":1}},\"name\":\"Guam\",\"orientation\":\"v\",\"text\":\"\",\"x\":[1955,1960,1965,1970,1975,1980,1985,1990,1995,2000,2005,2010,2015,2020,2022,2023],\"y\":[\"65,977\",\"72,374\",\"80,255\",\"88,300\",\"99,478\",\"110,286\",\"124,675\",\"138,263\",\"150,094\",\"160,188\",\"164,430\",\"164,905\",\"167,978\",\"169,231\",\"171,774\",\"172,952\"],\"type\":\"bar\"},{\"marker\":{\"color\":\"rgba(226, 74, 51, 0.6)\",\"line\":{\"color\":\"rgba(226, 74, 51, 0.8592964824120604)\",\"width\":1}},\"name\":\"Sao Tome & Principe\",\"orientation\":\"v\",\"text\":\"\",\"x\":[1955,1960,1965,1970,1975,1980,1985,1990,1995,2000,2005,2010,2015,2020,2022,2023],\"y\":[\"65,300\",\"68,038\",\"71,730\",\"77,583\",\"86,037\",\"97,210\",\"106,607\",\"120,343\",\"133,077\",\"143,714\",\"161,680\",\"182,138\",\"201,124\",\"218,641\",\"227,380\",\"231,856\"],\"type\":\"bar\"},{\"marker\":{\"color\":\"rgba(62, 111, 176, 0.6)\",\"line\":{\"color\":\"rgba(62, 111, 176, 0.8592964824120604)\",\"width\":1}},\"name\":\"Lesotho\",\"orientation\":\"v\",\"text\":\"\",\"x\":[1955,1960,1965,1970,1975,1980,1985,1990,1995,2000,2005,2010,2015,2020,2022,2023],\"y\":[\"641,361\",\"737,838\",\"860,220\",\"1,023,481\",\"1,216,180\",\"1,407,672\",\"1,616,697\",\"1,798,997\",\"1,934,079\",\"1,998,630\",\"1,977,424\",\"2,022,747\",\"2,118,521\",\"2,254,100\",\"2,305,825\",\"2,330,318\"],\"type\":\"bar\"},{\"marker\":{\"color\":\"rgba(62, 111, 176, 0.6)\",\"line\":{\"color\":\"rgba(62, 111, 176, 0.8311557788944723)\",\"width\":1}},\"name\":\"Brunei \",\"orientation\":\"v\",\"text\":\"\",\"x\":[1955,1960,1965,1970,1975,1980,1985,1990,1995,2000,2005,2010,2015,2020,2022,2023],\"y\":[\"64,267\",\"85,346\",\"107,686\",\"133,343\",\"159,653\",\"187,921\",\"222,119\",\"261,928\",\"299,097\",\"333,926\",\"366,717\",\"396,053\",\"421,437\",\"441,725\",\"449,002\",\"452,524\"],\"type\":\"bar\"},{\"marker\":{\"color\":\"rgba(132, 118, 202, 0.6)\",\"line\":{\"color\":\"rgba(132, 118, 202, 0.8311557788944723)\",\"width\":1}},\"name\":\"Jordan\",\"orientation\":\"v\",\"text\":\"\",\"x\":[1955,1960,1965,1970,1975,1980,1985,1990,1995,2000,2005,2010,2015,2020,2022,2023],\"y\":[\"622,010\",\"847,936\",\"1,093,474\",\"1,557,374\",\"1,886,636\",\"2,216,903\",\"2,751,492\",\"3,480,587\",\"4,458,195\",\"5,056,174\",\"5,678,534\",\"6,931,258\",\"9,494,246\",\"10,928,721\",\"11,285,869\",\"11,337,052\"],\"type\":\"bar\"},{\"marker\":{\"color\":\"rgba(101, 101, 101, 0.6)\",\"line\":{\"color\":\"rgba(101, 101, 101, 0.8311557788944723)\",\"width\":1}},\"name\":\"Brazil\",\"orientation\":\"v\",\"text\":\"\",\"x\":[1955,1960,1965,1970,1975,1980,1985,1990,1995,2000,2005,2010,2015,2020,2022,2023],\"y\":[\"62,701,031\",\"73,092,515\",\"84,623,747\",\"96,369,875\",\"108,700,515\",\"122,288,383\",\"136,783,180\",\"150,706,446\",\"163,515,328\",\"175,873,720\",\"186,797,334\",\"196,353,492\",\"205,188,205\",\"213,196,304\",\"215,313,498\",\"216,422,446\"],\"type\":\"bar\"},{\"marker\":{\"color\":\"rgba(251, 193, 94, 0.6)\",\"line\":{\"color\":\"rgba(251, 193, 94, 0.8311557788944723)\",\"width\":1}},\"name\":\"China\",\"orientation\":\"v\",\"text\":\"\",\"x\":[1955,1960,1965,1970,1975,1980,1985,1990,1995,2000,2005,2010,2015,2020,2022,2023],\"y\":[\"603,320,147\",\"654,170,692\",\"723,846,349\",\"822,534,450\",\"915,124,661\",\"982,372,466\",\"1,060,239,979\",\"1,153,704,252\",\"1,218,144,426\",\"1,264,099,069\",\"1,304,887,562\",\"1,348,191,368\",\"1,393,715,448\",\"1,424,929,781\",\"1,425,887,337\",\"1,425,671,352\"],\"type\":\"bar\"},{\"marker\":{\"color\":\"rgba(142, 186, 66, 0.6)\",\"line\":{\"color\":\"rgba(142, 186, 66, 0.8311557788944723)\",\"width\":1}},\"name\":\"Austria\",\"orientation\":\"v\",\"text\":\"\",\"x\":[1955,1960,1965,1970,1975,1980,1985,1990,1995,2000,2005,2010,2015,2020,2022,2023],\"y\":[\"6,946,260\",\"7,046,553\",\"7,269,888\",\"7,465,301\",\"7,576,926\",\"7,547,561\",\"7,562,114\",\"7,678,729\",\"7,947,296\",\"8,010,428\",\"8,227,034\",\"8,362,829\",\"8,642,421\",\"8,907,777\",\"8,939,617\",\"8,958,960\"],\"type\":\"bar\"},{\"marker\":{\"color\":\"rgba(255, 181, 184, 0.6)\",\"line\":{\"color\":\"rgba(255, 181, 184, 0.8311557788944723)\",\"width\":1}},\"name\":\"Malaysia\",\"orientation\":\"v\",\"text\":\"\",\"x\":[1955,1960,1965,1970,1975,1980,1985,1990,1995,2000,2005,2010,2015,2020,2022,2023],\"y\":[\"6,786,077\",\"7,833,782\",\"9,091,016\",\"10,306,508\",\"11,617,947\",\"13,215,707\",\"15,108,135\",\"17,517,054\",\"20,136,888\",\"22,945,150\",\"25,923,536\",\"28,717,731\",\"31,068,833\",\"33,199,993\",\"33,938,221\",\"34,308,525\"],\"type\":\"bar\"},{\"marker\":{\"color\":\"rgba(226, 74, 51, 0.6)\",\"line\":{\"color\":\"rgba(226, 74, 51, 0.8311557788944723)\",\"width\":1}},\"name\":\"Venezuela\",\"orientation\":\"v\",\"text\":\"\",\"x\":[1955,1960,1965,1970,1975,1980,1985,1990,1995,2000,2005,2010,2015,2020,2022,2023],\"y\":[\"6,752,139\",\"8,156,937\",\"9,688,138\",\"11,355,475\",\"13,176,387\",\"15,210,443\",\"17,402,304\",\"19,750,579\",\"22,107,286\",\"24,427,729\",\"26,668,785\",\"28,715,022\",\"30,529,716\",\"28,490,453\",\"28,301,696\",\"28,838,499\"],\"type\":\"bar\"},{\"marker\":{\"color\":\"rgba(226, 74, 51, 0.6)\",\"line\":{\"color\":\"rgba(226, 74, 51, 0.8030150753768845)\",\"width\":1}},\"name\":\"Uganda\",\"orientation\":\"v\",\"text\":\"\",\"x\":[1955,1960,1965,1970,1975,1980,1985,1990,1995,2000,2005,2010,2015,2020,2022,2023],\"y\":[\"6,601,785\",\"7,617,746\",\"8,829,056\",\"10,317,212\",\"11,730,959\",\"13,284,026\",\"15,038,915\",\"17,586,630\",\"20,680,831\",\"24,020,697\",\"27,946,588\",\"32,341,728\",\"37,477,356\",\"44,404,611\",\"47,249,585\",\"48,582,334\"],\"type\":\"bar\"},{\"marker\":{\"color\":\"rgba(62, 111, 176, 0.6)\",\"line\":{\"color\":\"rgba(62, 111, 176, 0.8030150753768845)\",\"width\":1}},\"name\":\"Cuba\",\"orientation\":\"v\",\"text\":\"\",\"x\":[1955,1960,1965,1970,1975,1980,1985,1990,1995,2000,2005,2010,2015,2020,2022,2023],\"y\":[\"6,559,586\",\"7,267,395\",\"8,067,651\",\"8,869,636\",\"9,514,305\",\"9,809,107\",\"10,149,044\",\"10,626,680\",\"10,926,703\",\"11,105,791\",\"11,246,114\",\"11,290,417\",\"11,339,894\",\"11,300,698\",\"11,212,191\",\"11,194,449\"],\"type\":\"bar\"},{\"marker\":{\"color\":\"rgba(132, 118, 202, 0.6)\",\"line\":{\"color\":\"rgba(132, 118, 202, 0.8030150753768845)\",\"width\":1}},\"name\":\"Kenya\",\"orientation\":\"v\",\"text\":\"\",\"x\":[1955,1960,1965,1970,1975,1980,1985,1990,1995,2000,2005,2010,2015,2020,2022,2023],\"y\":[\"6,558,870\",\"7,751,435\",\"9,417,207\",\"11,473,087\",\"13,651,908\",\"16,187,124\",\"19,452,161\",\"23,162,269\",\"26,878,347\",\"30,851,606\",\"35,843,010\",\"41,517,895\",\"46,851,488\",\"51,985,780\",\"54,027,487\",\"55,100,586\"],\"type\":\"bar\"},{\"marker\":{\"color\":\"rgba(101, 101, 101, 0.6)\",\"line\":{\"color\":\"rgba(101, 101, 101, 0.8030150753768845)\",\"width\":1}},\"name\":\"Iraq\",\"orientation\":\"v\",\"text\":\"\",\"x\":[1955,1960,1965,1970,1975,1980,1985,1990,1995,2000,2005,2010,2015,2020,2022,2023],\"y\":[\"6,405,686\",\"7,084,678\",\"8,270,544\",\"9,811,347\",\"11,617,622\",\"13,653,369\",\"15,753,856\",\"17,658,381\",\"20,948,858\",\"24,628,858\",\"28,698,684\",\"31,264,875\",\"37,757,813\",\"42,556,984\",\"44,496,122\",\"45,504,560\"],\"type\":\"bar\"},{\"marker\":{\"color\":\"rgba(251, 193, 94, 0.6)\",\"line\":{\"color\":\"rgba(251, 193, 94, 0.8030150753768845)\",\"width\":1}},\"name\":\"Serbia\",\"orientation\":\"v\",\"text\":\"\",\"x\":[1955,1960,1965,1970,1975,1980,1985,1990,1995,2000,2005,2010,2015,2020,2022,2023],\"y\":[\"6,348,547\",\"6,579,989\",\"6,902,989\",\"7,193,533\",\"7,479,833\",\"7,777,010\",\"7,912,069\",\"7,987,529\",\"7,982,462\",\"7,935,022\",\"7,830,944\",\"7,653,748\",\"7,519,496\",\"7,358,005\",\"7,221,365\",\"7,149,077\"],\"type\":\"bar\"},{\"marker\":{\"color\":\"rgba(142, 186, 66, 0.6)\",\"line\":{\"color\":\"rgba(142, 186, 66, 0.8030150753768845)\",\"width\":1}},\"name\":\"Mozambique\",\"orientation\":\"v\",\"text\":\"\",\"x\":[1955,1960,1965,1970,1975,1980,1985,1990,1995,2000,2005,2010,2015,2020,2022,2023],\"y\":[\"6,318,904\",\"6,788,375\",\"7,524,154\",\"8,411,676\",\"9,703,732\",\"11,413,587\",\"12,680,065\",\"13,303,459\",\"15,594,830\",\"17,768,505\",\"20,211,114\",\"23,073,723\",\"26,843,246\",\"31,178,239\",\"32,969,518\",\"33,897,354\"],\"type\":\"bar\"},{\"marker\":{\"color\":\"rgba(255, 181, 184, 0.6)\",\"line\":{\"color\":\"rgba(255, 181, 184, 0.8030150753768845)\",\"width\":1}},\"name\":\"Mauritius\",\"orientation\":\"v\",\"text\":\"\",\"x\":[1955,1960,1965,1970,1975,1980,1985,1990,1995,2000,2005,2010,2015,2020,2022,2023],\"y\":[\"596,866\",\"676,683\",\"758,628\",\"830,115\",\"888,292\",\"954,865\",\"1,025,769\",\"1,090,290\",\"1,160,207\",\"1,215,930\",\"1,258,048\",\"1,283,330\",\"1,293,153\",\"1,297,828\",\"1,299,469\",\"1,300,557\"],\"type\":\"bar\"},{\"marker\":{\"color\":\"rgba(255, 181, 184, 0.6)\",\"line\":{\"color\":\"rgba(255, 181, 184, 0.7748743718592965)\",\"width\":1}},\"name\":\"Tonga\",\"orientation\":\"v\",\"text\":\"\",\"x\":[1955,1960,1965,1970,1975,1980,1985,1990,1995,2000,2005,2010,2015,2020,2022,2023],\"y\":[\"58,024\",\"67,428\",\"77,686\",\"86,484\",\"93,477\",\"96,708\",\"97,055\",\"98,727\",\"99,977\",\"102,603\",\"105,633\",\"107,383\",\"106,122\",\"105,254\",\"106,858\",\"107,773\"],\"type\":\"bar\"},{\"marker\":{\"color\":\"rgba(226, 74, 51, 0.6)\",\"line\":{\"color\":\"rgba(226, 74, 51, 0.7748743718592965)\",\"width\":1}},\"name\":\"Guinea-Bissau\",\"orientation\":\"v\",\"text\":\"\",\"x\":[1955,1960,1965,1970,1975,1980,1985,1990,1995,2000,2005,2010,2015,2020,2022,2023],\"y\":[\"563,713\",\"577,933\",\"577,638\",\"591,663\",\"659,635\",\"831,462\",\"900,088\",\"973,551\",\"1,117,222\",\"1,230,849\",\"1,379,713\",\"1,567,220\",\"1,788,919\",\"2,015,828\",\"2,105,566\",\"2,150,842\"],\"type\":\"bar\"},{\"marker\":{\"color\":\"rgba(62, 111, 176, 0.6)\",\"line\":{\"color\":\"rgba(62, 111, 176, 0.7748743718592965)\",\"width\":1}},\"name\":\"Vanuatu\",\"orientation\":\"v\",\"text\":\"\",\"x\":[1955,1960,1965,1970,1975,1980,1985,1990,1995,2000,2005,2010,2015,2020,2022,2023],\"y\":[\"56,770\",\"64,608\",\"74,677\",\"87,019\",\"102,010\",\"118,156\",\"133,119\",\"150,882\",\"170,612\",\"192,074\",\"217,632\",\"245,453\",\"276,438\",\"311,685\",\"326,740\",\"334,506\"],\"type\":\"bar\"},{\"marker\":{\"color\":\"rgba(132, 118, 202, 0.6)\",\"line\":{\"color\":\"rgba(132, 118, 202, 0.7748743718592965)\",\"width\":1}},\"name\":\"Namibia\",\"orientation\":\"v\",\"text\":\"\",\"x\":[1955,1960,1965,1970,1975,1980,1985,1990,1995,2000,2005,2010,2015,2020,2022,2023],\"y\":[\"547,430\",\"590,181\",\"657,887\",\"754,467\",\"876,572\",\"975,994\",\"1,093,311\",\"1,369,011\",\"1,605,370\",\"1,819,141\",\"1,962,865\",\"2,099,271\",\"2,282,704\",\"2,489,098\",\"2,567,012\",\"2,604,172\"],\"type\":\"bar\"},{\"marker\":{\"color\":\"rgba(101, 101, 101, 0.6)\",\"line\":{\"color\":\"rgba(101, 101, 101, 0.7748743718592965)\",\"width\":1}},\"name\":\"Cyprus\",\"orientation\":\"v\",\"text\":\"\",\"x\":[1955,1960,1965,1970,1975,1980,1985,1990,1995,2000,2005,2010,2015,2020,2022,2023],\"y\":[\"534,125\",\"585,725\",\"617,345\",\"640,804\",\"644,982\",\"679,327\",\"731,664\",\"788,500\",\"862,418\",\"948,237\",\"1,037,062\",\"1,129,686\",\"1,187,280\",\"1,237,537\",\"1,251,488\",\"1,260,138\"],\"type\":\"bar\"},{\"marker\":{\"color\":\"rgba(251, 193, 94, 0.6)\",\"line\":{\"color\":\"rgba(251, 193, 94, 0.7748743718592965)\",\"width\":1}},\"name\":\"United Kingdom\",\"orientation\":\"v\",\"text\":\"\",\"x\":[1955,1960,1965,1970,1975,1980,1985,1990,1995,2000,2005,2010,2015,2020,2022,2023],\"y\":[\"51,193,266\",\"52,543,017\",\"54,229,565\",\"55,650,166\",\"56,266,842\",\"56,326,328\",\"56,643,045\",\"57,210,442\",\"57,930,364\",\"58,850,043\",\"60,383,741\",\"62,760,039\",\"65,224,364\",\"67,059,474\",\"67,508,936\",\"67,736,802\"],\"type\":\"bar\"},{\"marker\":{\"color\":\"rgba(142, 186, 66, 0.6)\",\"line\":{\"color\":\"rgba(142, 186, 66, 0.7748743718592965)\",\"width\":1}},\"name\":\"Antigua and Barbuda\",\"orientation\":\"v\",\"text\":\"\",\"x\":[1955,1960,1965,1970,1975,1980,1985,1990,1995,2000,2005,2010,2015,2020,2022,2023],\"y\":[\"50,264\",\"55,342\",\"59,644\",\"64,517\",\"64,035\",\"64,889\",\"65,048\",\"63,328\",\"68,398\",\"75,055\",\"79,869\",\"85,695\",\"89,941\",\"92,664\",\"93,763\",\"94,298\"],\"type\":\"bar\"},{\"marker\":{\"color\":\"rgba(142, 186, 66, 0.6)\",\"line\":{\"color\":\"rgba(142, 186, 66, 0.7467336683417085)\",\"width\":1}},\"name\":\"Ghana\",\"orientation\":\"v\",\"text\":\"\",\"x\":[1955,1960,1965,1970,1975,1980,1985,1990,1995,2000,2005,2010,2015,2020,2022,2023],\"y\":[\"5,887,163\",\"6,911,510\",\"7,827,726\",\"8,861,895\",\"10,209,848\",\"11,865,246\",\"13,651,443\",\"15,446,982\",\"17,438,874\",\"19,665,502\",\"22,496,951\",\"25,574,719\",\"28,870,939\",\"32,180,401\",\"33,475,870\",\"34,121,985\"],\"type\":\"bar\"},{\"marker\":{\"color\":\"rgba(255, 181, 184, 0.6)\",\"line\":{\"color\":\"rgba(255, 181, 184, 0.7467336683417085)\",\"width\":1}},\"name\":\"Yemen\",\"orientation\":\"v\",\"text\":\"\",\"x\":[1955,1960,1965,1970,1975,1980,1985,1990,1995,2000,2005,2010,2015,2020,2022,2023],\"y\":[\"5,091,603\",\"5,542,459\",\"6,097,298\",\"6,843,607\",\"7,855,657\",\"9,204,938\",\"11,036,918\",\"13,375,121\",\"16,103,339\",\"18,628,700\",\"21,320,671\",\"24,743,946\",\"28,516,545\",\"32,284,046\",\"33,696,614\",\"34,449,825\"],\"type\":\"bar\"},{\"marker\":{\"color\":\"rgba(226, 74, 51, 0.6)\",\"line\":{\"color\":\"rgba(226, 74, 51, 0.7467336683417085)\",\"width\":1}},\"name\":\"Mali\",\"orientation\":\"v\",\"text\":\"\",\"x\":[1955,1960,1965,1970,1975,1980,1985,1990,1995,2000,2005,2010,2015,2020,2022,2023],\"y\":[\"5,014,680\",\"5,346,792\",\"5,726,382\",\"6,153,587\",\"6,687,293\",\"7,372,581\",\"8,187,651\",\"8,945,026\",\"9,921,094\",\"11,239,101\",\"13,180,551\",\"15,529,181\",\"18,112,907\",\"21,224,040\",\"22,593,590\",\"23,293,698\"],\"type\":\"bar\"},{\"marker\":{\"color\":\"rgba(62, 111, 176, 0.6)\",\"line\":{\"color\":\"rgba(62, 111, 176, 0.7467336683417085)\",\"width\":1}},\"name\":\"Switzerland\",\"orientation\":\"v\",\"text\":\"\",\"x\":[1955,1960,1965,1970,1975,1980,1985,1990,1995,2000,2005,2010,2015,2020,2022,2023],\"y\":[\"5,002,410\",\"5,328,273\",\"5,857,047\",\"6,181,227\",\"6,338,267\",\"6,319,113\",\"6,469,824\",\"6,711,693\",\"7,038,297\",\"7,182,059\",\"7,428,435\",\"7,822,435\",\"8,281,732\",\"8,638,613\",\"8,740,472\",\"8,796,669\"],\"type\":\"bar\"},{\"marker\":{\"color\":\"rgba(132, 118, 202, 0.6)\",\"line\":{\"color\":\"rgba(132, 118, 202, 0.7467336683417085)\",\"width\":1}},\"name\":\"Oman\",\"orientation\":\"v\",\"text\":\"\",\"x\":[1955,1960,1965,1970,1975,1980,1985,1990,1995,2000,2005,2010,2015,2020,2022,2023],\"y\":[\"492,416\",\"536,553\",\"593,808\",\"670,693\",\"787,194\",\"1,017,462\",\"1,353,289\",\"1,804,524\",\"2,172,672\",\"2,344,253\",\"2,515,192\",\"2,881,914\",\"4,191,776\",\"4,543,399\",\"4,576,298\",\"4,644,384\"],\"type\":\"bar\"},{\"marker\":{\"color\":\"rgba(101, 101, 101, 0.6)\",\"line\":{\"color\":\"rgba(101, 101, 101, 0.7467336683417085)\",\"width\":1}},\"name\":\"Gabon\",\"orientation\":\"v\",\"text\":\"\",\"x\":[1955,1960,1965,1970,1975,1980,1985,1990,1995,2000,2005,2010,2015,2020,2022,2023],\"y\":[\"489,459\",\"513,340\",\"547,535\",\"597,192\",\"663,340\",\"749,078\",\"856,482\",\"983,028\",\"1,121,964\",\"1,272,935\",\"1,458,353\",\"1,711,105\",\"2,028,517\",\"2,292,573\",\"2,388,992\",\"2,436,566\"],\"type\":\"bar\"},{\"marker\":{\"color\":\"rgba(251, 193, 94, 0.6)\",\"line\":{\"color\":\"rgba(251, 193, 94, 0.7467336683417085)\",\"width\":1}},\"name\":\"Guyana\",\"orientation\":\"v\",\"text\":\"\",\"x\":[1955,1960,1965,1970,1975,1980,1985,1990,1995,2000,2005,2010,2015,2020,2022,2023],\"y\":[\"483,316\",\"571,990\",\"650,207\",\"705,261\",\"745,590\",\"778,176\",\"772,671\",\"747,116\",\"751,689\",\"759,051\",\"759,709\",\"747,932\",\"755,031\",\"797,202\",\"808,726\",\"813,834\"],\"type\":\"bar\"},{\"marker\":{\"color\":\"rgba(251, 193, 94, 0.6)\",\"line\":{\"color\":\"rgba(251, 193, 94, 0.7185929648241207)\",\"width\":1}},\"name\":\"Italy\",\"orientation\":\"v\",\"text\":\"\",\"x\":[1955,1960,1965,1970,1975,1980,1985,1990,1995,2000,2005,2010,2015,2020,2022,2023],\"y\":[\"48,130,728\",\"49,517,707\",\"51,452,854\",\"53,324,036\",\"55,093,989\",\"56,329,482\",\"56,636,465\",\"56,756,561\",\"56,885,126\",\"56,966,397\",\"58,199,876\",\"59,822,450\",\"60,232,906\",\"59,500,579\",\"59,037,474\",\"58,870,762\"],\"type\":\"bar\"},{\"marker\":{\"color\":\"rgba(142, 186, 66, 0.6)\",\"line\":{\"color\":\"rgba(142, 186, 66, 0.7185929648241207)\",\"width\":1}},\"name\":\"Botswana\",\"orientation\":\"v\",\"text\":\"\",\"x\":[1955,1960,1965,1970,1975,1980,1985,1990,1995,2000,2005,2010,2015,2020,2022,2023],\"y\":[\"461,880\",\"512,865\",\"570,975\",\"592,244\",\"727,930\",\"938,578\",\"1,138,704\",\"1,341,474\",\"1,543,634\",\"1,726,985\",\"1,892,807\",\"2,091,664\",\"2,305,171\",\"2,546,402\",\"2,630,296\",\"2,675,352\"],\"type\":\"bar\"},{\"marker\":{\"color\":\"rgba(255, 181, 184, 0.6)\",\"line\":{\"color\":\"rgba(255, 181, 184, 0.7185929648241207)\",\"width\":1}},\"name\":\"Aruba\",\"orientation\":\"v\",\"text\":\"\",\"x\":[1955,1960,1965,1970,1975,1980,1985,1990,1995,2000,2005,2010,2015,2020,2022,2023],\"y\":[\"46,464\",\"54,608\",\"58,782\",\"59,106\",\"60,715\",\"62,267\",\"64,478\",\"65,712\",\"77,050\",\"89,101\",\"94,483\",\"100,341\",\"104,257\",\"106,585\",\"106,445\",\"106,277\"],\"type\":\"bar\"},{\"marker\":{\"color\":\"rgba(226, 74, 51, 0.6)\",\"line\":{\"color\":\"rgba(226, 74, 51, 0.7185929648241207)\",\"width\":1}},\"name\":\"Montenegro\",\"orientation\":\"v\",\"text\":\"\",\"x\":[1955,1960,1965,1970,1975,1980,1985,1990,1995,2000,2005,2010,2015,2020,2022,2023],\"y\":[\"441,379\",\"473,046\",\"503,188\",\"530,268\",\"559,279\",\"589,324\",\"604,622\",\"621,442\",\"632,066\",\"633,324\",\"632,875\",\"631,044\",\"633,966\",\"629,048\",\"627,082\",\"626,485\"],\"type\":\"bar\"},{\"marker\":{\"color\":\"rgba(62, 111, 176, 0.6)\",\"line\":{\"color\":\"rgba(62, 111, 176, 0.7185929648241207)\",\"width\":1}},\"name\":\"Bangladesh\",\"orientation\":\"v\",\"text\":\"\",\"x\":[1955,1960,1965,1970,1975,1980,1985,1990,1995,2000,2005,2010,2015,2020,2022,2023],\"y\":[\"44,315,548\",\"50,396,429\",\"58,500,159\",\"67,541,860\",\"74,700,345\",\"83,929,765\",\"95,959,099\",\"107,147,651\",\"117,793,338\",\"129,193,327\",\"140,912,590\",\"148,391,139\",\"157,830,000\",\"167,420,951\",\"171,186,372\",\"172,954,319\"],\"type\":\"bar\"},{\"marker\":{\"color\":\"rgba(132, 118, 202, 0.6)\",\"line\":{\"color\":\"rgba(132, 118, 202, 0.7185929648241207)\",\"width\":1}},\"name\":\"Timor-Leste\",\"orientation\":\"v\",\"text\":\"\",\"x\":[1955,1960,1965,1970,1975,1980,1985,1990,1995,2000,2005,2010,2015,2020,2022,2023],\"y\":[\"437,426\",\"468,573\",\"507,477\",\"554,021\",\"600,126\",\"642,224\",\"682,109\",\"758,106\",\"819,226\",\"878,360\",\"969,313\",\"1,088,486\",\"1,205,813\",\"1,299,995\",\"1,341,296\",\"1,360,596\"],\"type\":\"bar\"},{\"marker\":{\"color\":\"rgba(101, 101, 101, 0.6)\",\"line\":{\"color\":\"rgba(101, 101, 101, 0.7185929648241207)\",\"width\":1}},\"name\":\"France\",\"orientation\":\"v\",\"text\":\"\",\"x\":[1955,1960,1965,1970,1975,1980,1985,1990,1995,2000,2005,2010,2015,2020,2022,2023],\"y\":[\"43,593,851\",\"45,659,575\",\"48,168,804\",\"50,523,586\",\"52,450,030\",\"53,713,830\",\"55,108,106\",\"56,412,897\",\"57,420,354\",\"58,665,453\",\"60,510,079\",\"62,444,567\",\"63,809,769\",\"64,480,053\",\"64,626,628\",\"64,756,584\"],\"type\":\"bar\"},{\"marker\":{\"color\":\"rgba(101, 101, 101, 0.6)\",\"line\":{\"color\":\"rgba(101, 101, 101, 0.6904522613065327)\",\"width\":1}},\"name\":\"Kiribati\",\"orientation\":\"v\",\"text\":\"\",\"x\":[1955,1960,1965,1970,1975,1980,1985,1990,1995,2000,2005,2010,2015,2020,2022,2023],\"y\":[\"42,008\",\"47,093\",\"53,444\",\"57,437\",\"60,675\",\"60,813\",\"66,708\",\"75,124\",\"81,481\",\"88,826\",\"98,164\",\"107,995\",\"116,707\",\"126,463\",\"131,232\",\"133,515\"],\"type\":\"bar\"},{\"marker\":{\"color\":\"rgba(251, 193, 94, 0.6)\",\"line\":{\"color\":\"rgba(251, 193, 94, 0.6904522613065327)\",\"width\":1}},\"name\":\"Pakistan\",\"orientation\":\"v\",\"text\":\"\",\"x\":[1955,1960,1965,1970,1975,1980,1985,1990,1995,2000,2005,2010,2015,2020,2022,2023],\"y\":[\"41,023,128\",\"45,954,226\",\"51,841,626\",\"59,290,872\",\"68,126,999\",\"80,624,057\",\"97,121,552\",\"115,414,069\",\"133,117,476\",\"154,369,924\",\"174,372,098\",\"194,454,498\",\"210,969,298\",\"227,196,741\",\"235,824,862\",\"240,485,658\"],\"type\":\"bar\"},{\"marker\":{\"color\":\"rgba(142, 186, 66, 0.6)\",\"line\":{\"color\":\"rgba(142, 186, 66, 0.6904522613065327)\",\"width\":1}},\"name\":\"Nigeria\",\"orientation\":\"v\",\"text\":\"\",\"x\":[1955,1960,1965,1970,1975,1980,1985,1990,1995,2000,2005,2010,2015,2020,2022,2023],\"y\":[\"40,839,223\",\"44,928,342\",\"49,925,799\",\"55,569,264\",\"62,851,312\",\"72,951,439\",\"83,585,251\",\"95,214,257\",\"108,187,610\",\"122,851,984\",\"140,490,722\",\"160,952,853\",\"183,995,785\",\"208,327,405\",\"218,541,212\",\"223,804,632\"],\"type\":\"bar\"},{\"marker\":{\"color\":\"rgba(255, 181, 184, 0.6)\",\"line\":{\"color\":\"rgba(255, 181, 184, 0.6904522613065327)\",\"width\":1}},\"name\":\"Angola\",\"orientation\":\"v\",\"text\":\"\",\"x\":[1955,1960,1965,1970,1975,1980,1985,1990,1995,2000,2005,2010,2015,2020,2022,2023],\"y\":[\"4,938,118\",\"5,357,195\",\"5,736,582\",\"6,029,700\",\"7,032,713\",\"8,330,047\",\"9,970,621\",\"11,828,638\",\"13,912,253\",\"16,394,062\",\"19,450,959\",\"23,364,185\",\"28,127,721\",\"33,428,486\",\"35,588,987\",\"36,684,202\"],\"type\":\"bar\"},{\"marker\":{\"color\":\"rgba(226, 74, 51, 0.6)\",\"line\":{\"color\":\"rgba(226, 74, 51, 0.6904522613065327)\",\"width\":1}},\"name\":\"Cambodia\",\"orientation\":\"v\",\"text\":\"\",\"x\":[1955,1960,1965,1970,1975,1980,1985,1990,1995,2000,2005,2010,2015,2020,2022,2023],\"y\":[\"4,931,224\",\"5,541,676\",\"6,170,727\",\"6,708,525\",\"6,727,922\",\"6,198,959\",\"7,376,090\",\"8,910,808\",\"10,919,528\",\"12,118,841\",\"13,246,583\",\"14,363,532\",\"15,417,523\",\"16,396,860\",\"16,767,842\",\"16,944,826\"],\"type\":\"bar\"},{\"marker\":{\"color\":\"rgba(62, 111, 176, 0.6)\",\"line\":{\"color\":\"rgba(62, 111, 176, 0.6904522613065327)\",\"width\":1}},\"name\":\"Cameroon\",\"orientation\":\"v\",\"text\":\"\",\"x\":[1955,1960,1965,1970,1975,1980,1985,1990,1995,2000,2005,2010,2015,2020,2022,2023],\"y\":[\"4,670,538\",\"5,117,608\",\"5,690,086\",\"6,452,787\",\"7,397,417\",\"8,519,891\",\"9,804,254\",\"11,430,520\",\"13,211,647\",\"15,091,594\",\"17,275,171\",\"19,878,036\",\"23,012,646\",\"26,491,087\",\"27,914,536\",\"28,647,293\"],\"type\":\"bar\"},{\"marker\":{\"color\":\"rgba(132, 118, 202, 0.6)\",\"line\":{\"color\":\"rgba(132, 118, 202, 0.6904522613065327)\",\"width\":1}},\"name\":\"Burkina Faso\",\"orientation\":\"v\",\"text\":\"\",\"x\":[1955,1960,1965,1970,1975,1980,1985,1990,1995,2000,2005,2010,2015,2020,2022,2023],\"y\":[\"4,472,824\",\"4,783,259\",\"5,157,929\",\"5,611,666\",\"6,138,444\",\"6,932,967\",\"7,979,185\",\"9,131,361\",\"10,353,263\",\"11,882,888\",\"13,876,127\",\"16,116,845\",\"18,718,019\",\"21,522,626\",\"22,673,762\",\"23,251,485\"],\"type\":\"bar\"},{\"marker\":{\"color\":\"rgba(132, 118, 202, 0.6)\",\"line\":{\"color\":\"rgba(132, 118, 202, 0.6623115577889447)\",\"width\":1}},\"name\":\"Madagascar\",\"orientation\":\"v\",\"text\":\"\",\"x\":[1955,1960,1965,1970,1975,1980,1985,1990,1995,2000,2005,2010,2015,2020,2022,2023],\"y\":[\"4,467,590\",\"5,073,342\",\"5,780,453\",\"6,639,751\",\"7,720,859\",\"8,948,162\",\"10,297,746\",\"11,882,762\",\"13,869,138\",\"16,216,431\",\"18,792,171\",\"21,731,053\",\"24,850,912\",\"28,225,177\",\"29,611,714\",\"30,325,732\"],\"type\":\"bar\"},{\"marker\":{\"color\":\"rgba(101, 101, 101, 0.6)\",\"line\":{\"color\":\"rgba(101, 101, 101, 0.6623115577889447)\",\"width\":1}},\"name\":\"Denmark\",\"orientation\":\"v\",\"text\":\"\",\"x\":[1955,1960,1965,1970,1975,1980,1985,1990,1995,2000,2005,2010,2015,2020,2022,2023],\"y\":[\"4,426,508\",\"4,581,727\",\"4,756,337\",\"4,922,963\",\"5,058,203\",\"5,125,392\",\"5,119,452\",\"5,144,623\",\"5,235,197\",\"5,340,655\",\"5,436,313\",\"5,550,849\",\"5,677,796\",\"5,825,641\",\"5,882,261\",\"5,910,913\"],\"type\":\"bar\"},{\"marker\":{\"color\":\"rgba(251, 193, 94, 0.6)\",\"line\":{\"color\":\"rgba(251, 193, 94, 0.6623115577889447)\",\"width\":1}},\"name\":\"Finland\",\"orientation\":\"v\",\"text\":\"\",\"x\":[1955,1960,1965,1970,1975,1980,1985,1990,1995,2000,2005,2010,2015,2020,2022,2023],\"y\":[\"4,235,413\",\"4,430,173\",\"4,564,583\",\"4,606,621\",\"4,711,368\",\"4,779,418\",\"4,902,175\",\"4,986,545\",\"5,107,943\",\"5,176,209\",\"5,246,071\",\"5,363,271\",\"5,479,461\",\"5,529,468\",\"5,540,745\",\"5,545,475\"],\"type\":\"bar\"},{\"marker\":{\"color\":\"rgba(142, 186, 66, 0.6)\",\"line\":{\"color\":\"rgba(142, 186, 66, 0.6623115577889447)\",\"width\":1}},\"name\":\"Croatia\",\"orientation\":\"v\",\"text\":\"\",\"x\":[1955,1960,1965,1970,1975,1980,1985,1990,1995,2000,2005,2010,2015,2020,2022,2023],\"y\":[\"4,049,659\",\"4,215,324\",\"4,371,381\",\"4,492,638\",\"4,579,428\",\"4,680,144\",\"4,803,325\",\"4,873,707\",\"4,807,100\",\"4,548,434\",\"4,429,681\",\"4,368,682\",\"4,254,815\",\"4,096,869\",\"4,030,358\",\"4,008,617\"],\"type\":\"bar\"},{\"marker\":{\"color\":\"rgba(255, 181, 184, 0.6)\",\"line\":{\"color\":\"rgba(255, 181, 184, 0.6623115577889447)\",\"width\":1}},\"name\":\"Ecuador\",\"orientation\":\"v\",\"text\":\"\",\"x\":[1955,1960,1965,1970,1975,1980,1985,1990,1995,2000,2005,2010,2015,2020,2022,2023],\"y\":[\"4,022,378\",\"4,618,158\",\"5,337,351\",\"6,172,215\",\"7,105,786\",\"8,135,845\",\"9,254,311\",\"10,449,837\",\"11,561,683\",\"12,626,507\",\"13,770,012\",\"14,989,585\",\"16,195,902\",\"17,588,595\",\"18,001,000\",\"18,190,484\"],\"type\":\"bar\"},{\"marker\":{\"color\":\"rgba(226, 74, 51, 0.6)\",\"line\":{\"color\":\"rgba(226, 74, 51, 0.6623115577889447)\",\"width\":1}},\"name\":\"India\",\"orientation\":\"v\",\"text\":\"\",\"x\":[1955,1960,1965,1970,1975,1980,1985,1990,1995,2000,2005,2010,2015,2020,2022,2023],\"y\":[\"398,577,992\",\"445,954,579\",\"500,114,346\",\"557,501,301\",\"623,524,219\",\"696,828,385\",\"780,242,084\",\"870,452,165\",\"964,279,129\",\"1,059,633,675\",\"1,154,638,713\",\"1,240,613,620\",\"1,322,866,505\",\"1,396,387,127\",\"1,417,173,173\",\"1,428,627,663\"],\"type\":\"bar\"},{\"marker\":{\"color\":\"rgba(62, 111, 176, 0.6)\",\"line\":{\"color\":\"rgba(62, 111, 176, 0.6623115577889447)\",\"width\":1}},\"name\":\"Ukraine\",\"orientation\":\"v\",\"text\":\"\",\"x\":[1955,1960,1965,1970,1975,1980,1985,1990,1995,2000,2005,2010,2015,2020,2022,2023],\"y\":[\"39,836,510\",\"42,767,251\",\"45,387,091\",\"47,279,086\",\"48,892,187\",\"49,973,920\",\"50,917,399\",\"51,589,817\",\"51,061,265\",\"48,879,755\",\"46,912,610\",\"45,683,020\",\"44,982,564\",\"43,909,666\",\"39,701,739\",\"36,744,634\"],\"type\":\"bar\"},{\"marker\":{\"color\":\"rgba(62, 111, 176, 0.6)\",\"line\":{\"color\":\"rgba(62, 111, 176, 0.6341708542713569)\",\"width\":1}},\"name\":\"Seychelles\",\"orientation\":\"v\",\"text\":\"\",\"x\":[1955,1960,1965,1970,1975,1980,1985,1990,1995,2000,2005,2010,2015,2020,2022,2023],\"y\":[\"39,788\",\"43,167\",\"48,123\",\"54,379\",\"60,943\",\"65,290\",\"67,833\",\"71,057\",\"74,735\",\"80,060\",\"85,883\",\"92,409\",\"99,240\",\"105,530\",\"107,118\",\"107,660\"],\"type\":\"bar\"},{\"marker\":{\"color\":\"rgba(132, 118, 202, 0.6)\",\"line\":{\"color\":\"rgba(132, 118, 202, 0.6341708542713569)\",\"width\":1}},\"name\":\"Gambia\",\"orientation\":\"v\",\"text\":\"\",\"x\":[1955,1960,1965,1970,1975,1980,1985,1990,1995,2000,2005,2010,2015,2020,2022,2023],\"y\":[\"349,374\",\"399,649\",\"458,908\",\"528,731\",\"612,909\",\"718,586\",\"855,958\",\"1,040,616\",\"1,242,155\",\"1,437,539\",\"1,660,368\",\"1,937,275\",\"2,253,133\",\"2,573,995\",\"2,705,992\",\"2,773,168\"],\"type\":\"bar\"},{\"marker\":{\"color\":\"rgba(101, 101, 101, 0.6)\",\"line\":{\"color\":\"rgba(101, 101, 101, 0.6341708542713569)\",\"width\":1}},\"name\":\"Fiji\",\"orientation\":\"v\",\"text\":\"\",\"x\":[1955,1960,1965,1970,1975,1980,1985,1990,1995,2000,2005,2010,2015,2020,2022,2023],\"y\":[\"343,693\",\"401,841\",\"469,010\",\"527,634\",\"575,804\",\"644,582\",\"727,461\",\"780,430\",\"792,246\",\"832,509\",\"874,923\",\"905,169\",\"917,200\",\"920,422\",\"929,766\",\"936,375\"],\"type\":\"bar\"},{\"marker\":{\"color\":\"rgba(251, 193, 94, 0.6)\",\"line\":{\"color\":\"rgba(251, 193, 94, 0.6341708542713569)\",\"width\":1}},\"name\":\"Malta\",\"orientation\":\"v\",\"text\":\"\",\"x\":[1955,1960,1965,1970,1975,1980,1985,1990,1995,2000,2005,2010,2015,2020,2022,2023],\"y\":[\"323,596\",\"337,628\",\"326,401\",\"315,414\",\"319,619\",\"333,587\",\"349,118\",\"365,392\",\"381,849\",\"399,212\",\"410,208\",\"418,755\",\"456,579\",\"515,358\",\"533,286\",\"535,064\"],\"type\":\"bar\"},{\"marker\":{\"color\":\"rgba(142, 186, 66, 0.6)\",\"line\":{\"color\":\"rgba(142, 186, 66, 0.6341708542713569)\",\"width\":1}},\"name\":\"Mexico\",\"orientation\":\"v\",\"text\":\"\",\"x\":[1955,1960,1965,1970,1975,1980,1985,1990,1995,2000,2005,2010,2015,2020,2022,2023],\"y\":[\"31,452,141\",\"36,268,055\",\"42,737,991\",\"50,289,306\",\"58,691,882\",\"67,705,186\",\"74,872,006\",\"81,720,428\",\"89,969,572\",\"97,873,442\",\"105,442,402\",\"112,532,401\",\"120,149,897\",\"125,998,302\",\"127,504,125\",\"128,455,567\"],\"type\":\"bar\"},{\"marker\":{\"color\":\"rgba(255, 181, 184, 0.6)\",\"line\":{\"color\":\"rgba(255, 181, 184, 0.6341708542713569)\",\"width\":1}},\"name\":\"Eswatini\",\"orientation\":\"v\",\"text\":\"\",\"x\":[1955,1960,1965,1970,1975,1980,1985,1990,1995,2000,2005,2010,2015,2020,2022,2023],\"y\":[\"307,078\",\"345,065\",\"388,317\",\"442,865\",\"509,535\",\"598,564\",\"702,400\",\"854,011\",\"953,573\",\"1,030,496\",\"1,071,886\",\"1,099,920\",\"1,133,936\",\"1,180,655\",\"1,201,670\",\"1,210,822\"],\"type\":\"bar\"},{\"marker\":{\"color\":\"rgba(226, 74, 51, 0.6)\",\"line\":{\"color\":\"rgba(226, 74, 51, 0.6341708542713569)\",\"width\":1}},\"name\":\"Luxembourg\",\"orientation\":\"v\",\"text\":\"\",\"x\":[1955,1960,1965,1970,1975,1980,1985,1990,1995,2000,2005,2010,2015,2020,2022,2023],\"y\":[\"305,514\",\"314,168\",\"329,794\",\"339,342\",\"353,666\",\"363,741\",\"366,466\",\"381,267\",\"407,635\",\"435,628\",\"464,860\",\"507,070\",\"569,408\",\"630,399\",\"647,599\",\"654,768\"],\"type\":\"bar\"},{\"marker\":{\"color\":\"rgba(226, 74, 51, 0.6)\",\"line\":{\"color\":\"rgba(226, 74, 51, 0.6060301507537689)\",\"width\":1}},\"name\":\"R\\u00e9union\",\"orientation\":\"v\",\"text\":\"\",\"x\":[1955,1960,1965,1970,1975,1980,1985,1990,1995,2000,2005,2010,2015,2020,2022,2023],\"y\":[\"301,358\",\"365,994\",\"427,612\",\"473,925\",\"515,586\",\"551,674\",\"599,299\",\"658,992\",\"725,978\",\"785,424\",\"833,656\",\"890,130\",\"922,495\",\"957,822\",\"974,052\",\"981,796\"],\"type\":\"bar\"},{\"marker\":{\"color\":\"rgba(62, 111, 176, 0.6)\",\"line\":{\"color\":\"rgba(62, 111, 176, 0.6060301507537689)\",\"width\":1}},\"name\":\"Syria\",\"orientation\":\"v\",\"text\":\"\",\"x\":[1955,1960,1965,1970,1975,1980,1985,1990,1995,2000,2005,2010,2015,2020,2022,2023],\"y\":[\"3,989,101\",\"4,610,712\",\"5,368,451\",\"6,319,199\",\"7,497,126\",\"8,898,954\",\"10,540,926\",\"12,408,996\",\"14,313,450\",\"16,307,654\",\"18,583,557\",\"22,337,563\",\"19,205,178\",\"20,772,595\",\"22,125,249\",\"23,227,014\"],\"type\":\"bar\"},{\"marker\":{\"color\":\"rgba(132, 118, 202, 0.6)\",\"line\":{\"color\":\"rgba(132, 118, 202, 0.6060301507537689)\",\"width\":1}},\"name\":\"Tunisia\",\"orientation\":\"v\",\"text\":\"\",\"x\":[1955,1960,1965,1970,1975,1980,1985,1990,1995,2000,2005,2010,2015,2020,2022,2023],\"y\":[\"3,975,544\",\"4,195,467\",\"4,457,282\",\"5,047,404\",\"5,769,074\",\"6,578,156\",\"7,476,092\",\"8,440,023\",\"9,294,102\",\"9,893,316\",\"10,388,344\",\"10,895,063\",\"11,557,779\",\"12,161,723\",\"12,356,117\",\"12,458,223\"],\"type\":\"bar\"},{\"marker\":{\"color\":\"rgba(101, 101, 101, 0.6)\",\"line\":{\"color\":\"rgba(101, 101, 101, 0.6060301507537689)\",\"width\":1}},\"name\":\"Slovakia\",\"orientation\":\"v\",\"text\":\"\",\"x\":[1955,1960,1965,1970,1975,1980,1985,1990,1995,2000,2005,2010,2015,2020,2022,2023],\"y\":[\"3,796,626\",\"4,124,239\",\"4,363,511\",\"4,522,867\",\"4,737,059\",\"4,973,883\",\"5,146,571\",\"5,261,305\",\"5,349,997\",\"5,376,690\",\"5,376,242\",\"5,396,424\",\"5,424,444\",\"5,456,681\",\"5,643,453\",\"5,795,199\"],\"type\":\"bar\"},{\"marker\":{\"color\":\"rgba(251, 193, 94, 0.6)\",\"line\":{\"color\":\"rgba(251, 193, 94, 0.6060301507537689)\",\"width\":1}},\"name\":\"Georgia\",\"orientation\":\"v\",\"text\":\"\",\"x\":[1955,1960,1965,1970,1975,1980,1985,1990,1995,2000,2005,2010,2015,2020,2022,2023],\"y\":[\"3,738,231\",\"4,051,492\",\"4,418,592\",\"4,800,426\",\"4,970,320\",\"5,145,843\",\"5,338,867\",\"5,391,636\",\"4,877,676\",\"4,265,172\",\"3,961,182\",\"3,836,831\",\"3,771,132\",\"3,765,912\",\"3,744,385\",\"3,728,282\"],\"type\":\"bar\"},{\"marker\":{\"color\":\"rgba(142, 186, 66, 0.6)\",\"line\":{\"color\":\"rgba(142, 186, 66, 0.6060301507537689)\",\"width\":1}},\"name\":\"Saudi Arabia\",\"orientation\":\"v\",\"text\":\"\",\"x\":[1955,1960,1965,1970,1975,1980,1985,1990,1995,2000,2005,2010,2015,2020,2022,2023],\"y\":[\"3,581,910\",\"4,165,563\",\"4,978,922\",\"6,106,191\",\"7,897,544\",\"10,171,710\",\"12,890,245\",\"16,004,763\",\"18,888,857\",\"21,547,390\",\"24,397,644\",\"29,411,929\",\"32,749,848\",\"35,997,107\",\"36,408,820\",\"36,947,025\"],\"type\":\"bar\"},{\"marker\":{\"color\":\"rgba(255, 181, 184, 0.6)\",\"line\":{\"color\":\"rgba(255, 181, 184, 0.6060301507537689)\",\"width\":1}},\"name\":\"Guatemala\",\"orientation\":\"v\",\"text\":\"\",\"x\":[1955,1960,1965,1970,1975,1980,1985,1990,1995,2000,2005,2010,2015,2020,2022,2023],\"y\":[\"3,560,239\",\"4,098,352\",\"4,744,461\",\"5,453,208\",\"6,201,734\",\"6,987,767\",\"7,932,185\",\"9,084,780\",\"10,363,090\",\"11,735,894\",\"13,132,814\",\"14,543,121\",\"16,001,107\",\"17,362,718\",\"17,843,908\",\"18,092,026\"],\"type\":\"bar\"},{\"marker\":{\"color\":\"rgba(255, 181, 184, 0.6)\",\"line\":{\"color\":\"rgba(255, 181, 184, 0.5778894472361809)\",\"width\":1}},\"name\":\"Azerbaijan\",\"orientation\":\"v\",\"text\":\"\",\"x\":[1955,1960,1965,1970,1975,1980,1985,1990,1995,2000,2005,2010,2015,2020,2022,2023],\"y\":[\"3,550,017\",\"4,131,484\",\"4,837,811\",\"5,425,317\",\"5,925,012\",\"6,383,060\",\"6,891,140\",\"7,427,836\",\"7,889,330\",\"8,190,337\",\"8,656,237\",\"9,237,202\",\"9,863,480\",\"10,284,951\",\"10,358,074\",\"10,412,651\"],\"type\":\"bar\"},{\"marker\":{\"color\":\"rgba(226, 74, 51, 0.6)\",\"line\":{\"color\":\"rgba(226, 74, 51, 0.5778894472361809)\",\"width\":1}},\"name\":\"Haiti\",\"orientation\":\"v\",\"text\":\"\",\"x\":[1955,1960,1965,1970,1975,1980,1985,1990,1995,2000,2005,2010,2015,2020,2022,2023],\"y\":[\"3,545,999\",\"3,901,139\",\"4,274,348\",\"4,680,812\",\"5,124,560\",\"5,646,676\",\"6,245,539\",\"6,925,331\",\"7,627,316\",\"8,360,225\",\"9,111,900\",\"9,842,880\",\"10,563,757\",\"11,306,801\",\"11,584,996\",\"11,724,763\"],\"type\":\"bar\"},{\"marker\":{\"color\":\"rgba(62, 111, 176, 0.6)\",\"line\":{\"color\":\"rgba(62, 111, 176, 0.5778894472361809)\",\"width\":1}},\"name\":\"Norway\",\"orientation\":\"v\",\"text\":\"\",\"x\":[1955,1960,1965,1970,1975,1980,1985,1990,1995,2000,2005,2010,2015,2020,2022,2023],\"y\":[\"3,429,090\",\"3,581,520\",\"3,723,510\",\"3,875,546\",\"4,007,466\",\"4,085,776\",\"4,152,637\",\"4,241,636\",\"4,359,333\",\"4,491,202\",\"4,623,689\",\"4,889,741\",\"5,190,356\",\"5,379,839\",\"5,434,319\",\"5,474,360\"],\"type\":\"bar\"},{\"marker\":{\"color\":\"rgba(132, 118, 202, 0.6)\",\"line\":{\"color\":\"rgba(132, 118, 202, 0.5778894472361809)\",\"width\":1}},\"name\":\"Bolivia\",\"orientation\":\"v\",\"text\":\"\",\"x\":[1955,1960,1965,1970,1975,1980,1985,1990,1995,2000,2005,2010,2015,2020,2022,2023],\"y\":[\"3,357,923\",\"3,707,515\",\"4,115,511\",\"4,585,693\",\"5,127,776\",\"5,736,088\",\"6,385,630\",\"7,096,194\",\"7,841,471\",\"8,592,656\",\"9,377,388\",\"10,223,270\",\"11,090,085\",\"11,936,162\",\"12,224,110\",\"12,388,571\"],\"type\":\"bar\"},{\"marker\":{\"color\":\"rgba(101, 101, 101, 0.6)\",\"line\":{\"color\":\"rgba(101, 101, 101, 0.5778894472361809)\",\"width\":1}},\"name\":\"Zimbabwe\",\"orientation\":\"v\",\"text\":\"\",\"x\":[1955,1960,1965,1970,1975,1980,1985,1990,1995,2000,2005,2010,2015,2020,2022,2023],\"y\":[\"3,263,625\",\"3,806,310\",\"4,447,149\",\"5,202,918\",\"6,097,083\",\"7,049,926\",\"8,690,515\",\"10,113,893\",\"10,994,041\",\"11,834,676\",\"12,224,753\",\"12,839,771\",\"14,154,937\",\"15,669,666\",\"16,320,537\",\"16,665,409\"],\"type\":\"bar\"},{\"marker\":{\"color\":\"rgba(251, 193, 94, 0.6)\",\"line\":{\"color\":\"rgba(251, 193, 94, 0.5778894472361809)\",\"width\":1}},\"name\":\"Malawi\",\"orientation\":\"v\",\"text\":\"\",\"x\":[1955,1960,1965,1970,1975,1980,1985,1990,1995,2000,2005,2010,2015,2020,2022,2023],\"y\":[\"3,240,318\",\"3,621,081\",\"4,089,097\",\"4,625,141\",\"5,280,965\",\"6,267,369\",\"7,625,078\",\"9,539,665\",\"10,112,816\",\"11,229,387\",\"12,755,648\",\"14,718,422\",\"16,938,942\",\"19,377,061\",\"20,405,317\",\"20,931,751\"],\"type\":\"bar\"},{\"marker\":{\"color\":\"rgba(142, 186, 66, 0.6)\",\"line\":{\"color\":\"rgba(142, 186, 66, 0.5778894472361809)\",\"width\":1}},\"name\":\"Guinea\",\"orientation\":\"v\",\"text\":\"\",\"x\":[1955,1960,1965,1970,1975,1980,1985,1990,1995,2000,2005,2010,2015,2020,2022,2023],\"y\":[\"3,234,056\",\"3,516,814\",\"3,845,074\",\"4,222,374\",\"4,588,006\",\"4,972,609\",\"5,531,661\",\"6,354,145\",\"7,468,347\",\"8,336,967\",\"9,140,114\",\"10,270,728\",\"11,625,998\",\"13,205,153\",\"13,859,341\",\"14,190,612\"],\"type\":\"bar\"},{\"marker\":{\"color\":\"rgba(142, 186, 66, 0.6)\",\"line\":{\"color\":\"rgba(142, 186, 66, 0.5497487437185931)\",\"width\":1}},\"name\":\"C\\u00f4te d'Ivoire\",\"orientation\":\"v\",\"text\":\"\",\"x\":[1955,1960,1965,1970,1975,1980,1985,1990,1995,2000,2005,2010,2015,2020,2022,2023],\"y\":[\"3,154,282\",\"3,708,661\",\"4,492,890\",\"5,477,086\",\"6,853,981\",\"8,303,810\",\"9,964,075\",\"11,910,540\",\"14,299,727\",\"16,799,670\",\"18,970,215\",\"21,120,042\",\"23,596,741\",\"26,811,790\",\"28,160,542\",\"28,873,034\"],\"type\":\"bar\"},{\"marker\":{\"color\":\"rgba(255, 181, 184, 0.6)\",\"line\":{\"color\":\"rgba(255, 181, 184, 0.5497487437185931)\",\"width\":1}},\"name\":\"Niger\",\"orientation\":\"v\",\"text\":\"\",\"x\":[1955,1960,1965,1970,1975,1980,1985,1990,1995,2000,2005,2010,2015,2020,2022,2023],\"y\":[\"3,018,555\",\"3,497,431\",\"4,053,524\",\"4,669,708\",\"5,339,497\",\"6,173,177\",\"7,187,618\",\"8,370,648\",\"9,813,918\",\"11,622,665\",\"13,855,221\",\"16,647,543\",\"20,128,124\",\"24,333,639\",\"26,207,977\",\"27,202,843\"],\"type\":\"bar\"},{\"marker\":{\"color\":\"rgba(226, 74, 51, 0.6)\",\"line\":{\"color\":\"rgba(226, 74, 51, 0.5497487437185931)\",\"width\":1}},\"name\":\"U.S. Virgin Islands\",\"orientation\":\"v\",\"text\":\"\",\"x\":[1955,1960,1965,1970,1975,1980,1985,1990,1995,2000,2005,2010,2015,2020,2022,2023],\"y\":[\"29,303\",\"32,861\",\"46,283\",\"63,446\",\"81,368\",\"96,640\",\"101,912\",\"100,685\",\"103,454\",\"108,185\",\"106,481\",\"106,142\",\"102,803\",\"100,442\",\"99,465\",\"98,750\"],\"type\":\"bar\"},{\"marker\":{\"color\":\"rgba(62, 111, 176, 0.6)\",\"line\":{\"color\":\"rgba(62, 111, 176, 0.5497487437185931)\",\"width\":1}},\"name\":\"Spain\",\"orientation\":\"v\",\"text\":\"\",\"x\":[1955,1960,1965,1970,1975,1980,1985,1990,1995,2000,2005,2010,2015,2020,2022,2023],\"y\":[\"29,095,374\",\"30,415,591\",\"32,112,015\",\"33,792,617\",\"35,760,431\",\"37,491,666\",\"38,471,920\",\"38,889,889\",\"39,814,573\",\"40,741,651\",\"43,685,374\",\"46,572,772\",\"46,431,342\",\"47,363,807\",\"47,558,630\",\"47,519,628\"],\"type\":\"bar\"},{\"marker\":{\"color\":\"rgba(132, 118, 202, 0.6)\",\"line\":{\"color\":\"rgba(132, 118, 202, 0.5497487437185931)\",\"width\":1}},\"name\":\"Qatar\",\"orientation\":\"v\",\"text\":\"\",\"x\":[1955,1960,1965,1970,1975,1980,1985,1990,1995,2000,2005,2010,2015,2020,2022,2023],\"y\":[\"28,668\",\"36,385\",\"64,843\",\"118,007\",\"195,043\",\"277,450\",\"365,868\",\"441,675\",\"515,133\",\"645,937\",\"848,710\",\"1,713,504\",\"2,414,573\",\"2,760,385\",\"2,695,122\",\"2,716,391\"],\"type\":\"bar\"},{\"marker\":{\"color\":\"rgba(101, 101, 101, 0.6)\",\"line\":{\"color\":\"rgba(101, 101, 101, 0.5497487437185931)\",\"width\":1}},\"name\":\"Vietnam\",\"orientation\":\"v\",\"text\":\"\",\"x\":[1955,1960,1965,1970,1975,1980,1985,1990,1995,2000,2005,2010,2015,2020,2022,2023],\"y\":[\"28,263,031\",\"32,718,461\",\"37,466,077\",\"41,928,849\",\"46,969,616\",\"52,968,270\",\"59,811,313\",\"66,912,613\",\"73,759,110\",\"79,001,142\",\"83,142,095\",\"87,411,012\",\"92,191,398\",\"96,648,685\",\"98,186,856\",\"98,858,950\"],\"type\":\"bar\"},{\"marker\":{\"color\":\"rgba(251, 193, 94, 0.6)\",\"line\":{\"color\":\"rgba(251, 193, 94, 0.5497487437185931)\",\"width\":1}},\"name\":\"Poland\",\"orientation\":\"v\",\"text\":\"\",\"x\":[1955,1960,1965,1970,1975,1980,1985,1990,1995,2000,2005,2010,2015,2020,2022,2023],\"y\":[\"27,099,199\",\"29,509,903\",\"31,224,081\",\"32,482,943\",\"33,899,770\",\"35,521,429\",\"37,179,160\",\"38,064,255\",\"38,401,978\",\"38,504,431\",\"38,575,911\",\"38,597,353\",\"38,553,146\",\"38,428,366\",\"39,857,145\",\"41,026,067\"],\"type\":\"bar\"},{\"marker\":{\"color\":\"rgba(251, 193, 94, 0.6)\",\"line\":{\"color\":\"rgba(251, 193, 94, 0.521608040201005)\",\"width\":1}},\"name\":\"Martinique\",\"orientation\":\"v\",\"text\":\"\",\"x\":[1955,1960,1965,1970,1975,1980,1985,1990,1995,2000,2005,2010,2015,2020,2022,2023],\"y\":[\"262,164\",\"290,092\",\"313,791\",\"326,428\",\"328,795\",\"333,786\",\"348,728\",\"374,271\",\"409,942\",\"432,543\",\"400,370\",\"392,181\",\"383,515\",\"370,391\",\"367,507\",\"366,981\"],\"type\":\"bar\"},{\"marker\":{\"color\":\"rgba(142, 186, 66, 0.6)\",\"line\":{\"color\":\"rgba(142, 186, 66, 0.521608040201005)\",\"width\":1}},\"name\":\"French Guiana\",\"orientation\":\"v\",\"text\":\"\",\"x\":[1955,1960,1965,1970,1975,1980,1985,1990,1995,2000,2005,2010,2015,2020,2022,2023],\"y\":[\"25,456\",\"31,125\",\"38,946\",\"46,484\",\"54,347\",\"66,825\",\"86,931\",\"113,931\",\"137,183\",\"164,351\",\"201,259\",\"228,453\",\"257,026\",\"290,969\",\"304,557\",\"312,155\"],\"type\":\"bar\"},{\"marker\":{\"color\":\"rgba(255, 181, 184, 0.6)\",\"line\":{\"color\":\"rgba(255, 181, 184, 0.521608040201005)\",\"width\":1}},\"name\":\"Equatorial Guinea\",\"orientation\":\"v\",\"text\":\"\",\"x\":[1955,1960,1965,1970,1975,1980,1985,1990,1995,2000,2005,2010,2015,2020,2022,2023],\"y\":[\"245,800\",\"267,351\",\"295,010\",\"316,955\",\"283,262\",\"282,509\",\"378,379\",\"465,549\",\"560,740\",\"684,977\",\"864,726\",\"1,094,524\",\"1,346,973\",\"1,596,049\",\"1,674,908\",\"1,714,671\"],\"type\":\"bar\"},{\"marker\":{\"color\":\"rgba(226, 74, 51, 0.6)\",\"line\":{\"color\":\"rgba(226, 74, 51, 0.521608040201005)\",\"width\":1}},\"name\":\"Guadeloupe\",\"orientation\":\"v\",\"text\":\"\",\"x\":[1955,1960,1965,1970,1975,1980,1985,1990,1995,2000,2005,2010,2015,2020,2022,2023],\"y\":[\"242,576\",\"276,976\",\"303,438\",\"318,310\",\"324,878\",\"334,234\",\"357,844\",\"391,951\",\"413,935\",\"424,067\",\"403,233\",\"403,072\",\"399,089\",\"395,642\",\"395,752\",\"395,839\"],\"type\":\"bar\"},{\"marker\":{\"color\":\"rgba(62, 111, 176, 0.6)\",\"line\":{\"color\":\"rgba(62, 111, 176, 0.521608040201005)\",\"width\":1}},\"name\":\"Egypt\",\"orientation\":\"v\",\"text\":\"\",\"x\":[1955,1960,1965,1970,1975,1980,1985,1990,1995,2000,2005,2010,2015,2020,2022,2023],\"y\":[\"23,841,701\",\"27,034,499\",\"30,818,469\",\"34,781,986\",\"38,775,584\",\"43,748,556\",\"50,035,843\",\"57,214,630\",\"64,166,908\",\"71,371,371\",\"79,075,310\",\"87,252,413\",\"97,723,799\",\"107,465,134\",\"110,990,103\",\"112,716,598\"],\"type\":\"bar\"},{\"marker\":{\"color\":\"rgba(132, 118, 202, 0.6)\",\"line\":{\"color\":\"rgba(132, 118, 202, 0.521608040201005)\",\"width\":1}},\"name\":\"Turkey\",\"orientation\":\"v\",\"text\":\"\",\"x\":[1955,1960,1965,1970,1975,1980,1985,1990,1995,2000,2005,2010,2015,2020,2022,2023],\"y\":[\"23,821,353\",\"27,510,980\",\"31,374,536\",\"35,540,990\",\"39,673,590\",\"44,089,069\",\"49,175,673\",\"54,324,142\",\"59,305,490\",\"64,113,547\",\"68,704,715\",\"73,195,345\",\"79,646,178\",\"84,135,428\",\"85,341,241\",\"85,816,199\"],\"type\":\"bar\"},{\"marker\":{\"color\":\"rgba(101, 101, 101, 0.6)\",\"line\":{\"color\":\"rgba(101, 101, 101, 0.521608040201005)\",\"width\":1}},\"name\":\"Thailand\",\"orientation\":\"v\",\"text\":\"\",\"x\":[1955,1960,1965,1970,1975,1980,1985,1990,1995,2000,2005,2010,2015,2020,2022,2023],\"y\":[\"23,173,970\",\"26,596,584\",\"30,940,270\",\"35,791,728\",\"40,908,471\",\"45,737,753\",\"50,594,940\",\"55,228,410\",\"59,424,834\",\"63,066,603\",\"65,821,360\",\"68,270,489\",\"70,294,397\",\"71,475,664\",\"71,697,030\",\"71,801,279\"],\"type\":\"bar\"},{\"marker\":{\"color\":\"rgba(101, 101, 101, 0.6)\",\"line\":{\"color\":\"rgba(101, 101, 101, 0.4934673366834173)\",\"width\":1}},\"name\":\"Philippines\",\"orientation\":\"v\",\"text\":\"\",\"x\":[1955,1960,1965,1970,1975,1980,1985,1990,1995,2000,2005,2010,2015,2020,2022,2023],\"y\":[\"23,027,910\",\"28,486,871\",\"32,805,538\",\"37,435,586\",\"42,394,433\",\"48,419,546\",\"54,812,660\",\"61,558,898\",\"69,250,468\",\"77,958,223\",\"86,261,250\",\"94,636,700\",\"103,031,365\",\"112,190,977\",\"115,559,009\",\"117,337,368\"],\"type\":\"bar\"},{\"marker\":{\"color\":\"rgba(251, 193, 94, 0.6)\",\"line\":{\"color\":\"rgba(251, 193, 94, 0.4934673366834173)\",\"width\":1}},\"name\":\"Barbados\",\"orientation\":\"v\",\"text\":\"\",\"x\":[1955,1960,1965,1970,1975,1980,1985,1990,1995,2000,2005,2010,2015,2020,2022,2023],\"y\":[\"227,320\",\"232,550\",\"237,694\",\"241,397\",\"247,090\",\"253,575\",\"257,911\",\"258,868\",\"262,303\",\"264,657\",\"269,477\",\"274,711\",\"278,083\",\"280,693\",\"281,635\",\"281,995\"],\"type\":\"bar\"},{\"marker\":{\"color\":\"rgba(142, 186, 66, 0.6)\",\"line\":{\"color\":\"rgba(142, 186, 66, 0.4934673366834173)\",\"width\":1}},\"name\":\"Suriname\",\"orientation\":\"v\",\"text\":\"\",\"x\":[1955,1960,1965,1970,1975,1980,1985,1990,1995,2000,2005,2010,2015,2020,2022,2023],\"y\":[\"227,145\",\"268,396\",\"321,069\",\"379,918\",\"392,137\",\"375,112\",\"387,171\",\"412,756\",\"434,490\",\"478,998\",\"516,220\",\"546,080\",\"575,475\",\"607,065\",\"618,040\",\"623,236\"],\"type\":\"bar\"},{\"marker\":{\"color\":\"rgba(255, 181, 184, 0.6)\",\"line\":{\"color\":\"rgba(255, 181, 184, 0.4934673366834173)\",\"width\":1}},\"name\":\"Mayotte\",\"orientation\":\"v\",\"text\":\"\",\"x\":[1955,1960,1965,1970,1975,1980,1985,1990,1995,2000,2005,2010,2015,2020,2022,2023],\"y\":[\"22,942\",\"26,165\",\"30,165\",\"35,383\",\"42,097\",\"52,233\",\"68,287\",\"92,659\",\"124,941\",\"159,215\",\"187,142\",\"211,786\",\"249,545\",\"305,587\",\"326,101\",\"335,995\"],\"type\":\"bar\"},{\"marker\":{\"color\":\"rgba(226, 74, 51, 0.6)\",\"line\":{\"color\":\"rgba(226, 74, 51, 0.4934673366834173)\",\"width\":1}},\"name\":\"South Korea\",\"orientation\":\"v\",\"text\":\"\",\"x\":[1955,1960,1965,1970,1975,1980,1985,1990,1995,2000,2005,2010,2015,2020,2022,2023],\"y\":[\"22,075,008\",\"25,817,529\",\"29,179,407\",\"32,601,143\",\"35,930,694\",\"38,170,501\",\"41,232,709\",\"44,120,039\",\"45,393,418\",\"46,788,591\",\"47,889,573\",\"48,813,042\",\"50,994,401\",\"51,844,690\",\"51,815,810\",\"51,784,059\"],\"type\":\"bar\"},{\"marker\":{\"color\":\"rgba(62, 111, 176, 0.6)\",\"line\":{\"color\":\"rgba(62, 111, 176, 0.4934673366834173)\",\"width\":1}},\"name\":\"Western Sahara\",\"orientation\":\"v\",\"text\":\"\",\"x\":[1955,1960,1965,1970,1975,1980,1985,1990,1995,2000,2005,2010,2015,2020,2022,2023],\"y\":[\"20,690\",\"33,023\",\"51,206\",\"76,371\",\"66,865\",\"116,775\",\"150,190\",\"178,529\",\"208,381\",\"270,375\",\"339,187\",\"413,296\",\"491,824\",\"556,048\",\"575,986\",\"587,259\"],\"type\":\"bar\"},{\"marker\":{\"color\":\"rgba(132, 118, 202, 0.6)\",\"line\":{\"color\":\"rgba(132, 118, 202, 0.4934673366834173)\",\"width\":1}},\"name\":\"Bosnia and Herzegovina\",\"orientation\":\"v\",\"text\":\"\",\"x\":[1955,1960,1965,1970,1975,1980,1985,1990,1995,2000,2005,2010,2015,2020,2022,2023],\"y\":[\"2,958,430\",\"3,262,539\",\"3,565,517\",\"3,815,561\",\"4,022,090\",\"4,199,820\",\"4,383,306\",\"4,494,310\",\"3,750,527\",\"4,179,350\",\"4,094,297\",\"3,811,088\",\"3,524,324\",\"3,318,407\",\"3,233,526\",\"3,210,847\"],\"type\":\"bar\"},{\"marker\":{\"color\":\"rgba(132, 118, 202, 0.6)\",\"line\":{\"color\":\"rgba(132, 118, 202, 0.4653266331658293)\",\"width\":1}},\"name\":\"Ireland\",\"orientation\":\"v\",\"text\":\"\",\"x\":[1955,1960,1965,1970,1975,1980,1985,1990,1995,2000,2005,2010,2015,2020,2022,2023],\"y\":[\"2,886,368\",\"2,811,067\",\"2,852,401\",\"2,937,637\",\"3,157,919\",\"3,391,387\",\"3,505,769\",\"3,485,374\",\"3,579,482\",\"3,768,950\",\"4,121,216\",\"4,524,585\",\"4,665,760\",\"4,946,119\",\"5,023,109\",\"5,056,935\"],\"type\":\"bar\"},{\"marker\":{\"color\":\"rgba(101, 101, 101, 0.6)\",\"line\":{\"color\":\"rgba(101, 101, 101, 0.4653266331658293)\",\"width\":1}},\"name\":\"Senegal\",\"orientation\":\"v\",\"text\":\"\",\"x\":[1955,1960,1965,1970,1975,1980,1985,1990,1995,2000,2005,2010,2015,2020,2022,2023],\"y\":[\"2,847,262\",\"3,273,177\",\"3,770,874\",\"4,367,744\",\"5,047,922\",\"5,703,869\",\"6,520,705\",\"7,536,001\",\"8,632,681\",\"9,704,287\",\"10,974,057\",\"12,530,121\",\"14,356,181\",\"16,436,120\",\"17,316,449\",\"17,763,163\"],\"type\":\"bar\"},{\"marker\":{\"color\":\"rgba(251, 193, 94, 0.6)\",\"line\":{\"color\":\"rgba(251, 193, 94, 0.4653266331658293)\",\"width\":1}},\"name\":\"Dominican Republic\",\"orientation\":\"v\",\"text\":\"\",\"x\":[1955,1960,1965,1970,1975,1980,1985,1990,1995,2000,2005,2010,2015,2020,2022,2023],\"y\":[\"2,791,108\",\"3,298,021\",\"3,868,712\",\"4,475,871\",\"5,106,453\",\"5,755,800\",\"6,417,798\",\"7,129,004\",\"7,869,753\",\"8,540,791\",\"9,164,768\",\"9,775,755\",\"10,405,832\",\"10,999,664\",\"11,228,821\",\"11,332,972\"],\"type\":\"bar\"},{\"marker\":{\"color\":\"rgba(142, 186, 66, 0.6)\",\"line\":{\"color\":\"rgba(142, 186, 66, 0.4653266331658293)\",\"width\":1}},\"name\":\"Chad\",\"orientation\":\"v\",\"text\":\"\",\"x\":[1955,1960,1965,1970,1975,1980,1985,1990,1995,2000,2005,2010,2015,2020,2022,2023],\"y\":[\"2,756,169\",\"3,028,688\",\"3,336,338\",\"3,667,394\",\"4,084,110\",\"4,408,230\",\"4,967,590\",\"5,827,069\",\"6,888,856\",\"8,259,137\",\"10,005,012\",\"11,894,727\",\"14,140,274\",\"16,644,701\",\"17,723,315\",\"18,278,568\"],\"type\":\"bar\"},{\"marker\":{\"color\":\"rgba(255, 181, 184, 0.6)\",\"line\":{\"color\":\"rgba(255, 181, 184, 0.4653266331658293)\",\"width\":1}},\"name\":\"Moldova\",\"orientation\":\"v\",\"text\":\"\",\"x\":[1955,1960,1965,1970,1975,1980,1985,1990,1995,2000,2005,2010,2015,2020,2022,2023],\"y\":[\"2,714,714\",\"3,133,267\",\"3,476,796\",\"3,711,140\",\"3,913,586\",\"4,103,240\",\"4,300,695\",\"4,480,199\",\"4,461,231\",\"4,251,573\",\"4,001,382\",\"3,678,186\",\"3,277,388\",\"3,084,847\",\"3,272,996\",\"3,435,931\"],\"type\":\"bar\"},{\"marker\":{\"color\":\"rgba(226, 74, 51, 0.6)\",\"line\":{\"color\":\"rgba(226, 74, 51, 0.4653266331658293)\",\"width\":1}},\"name\":\"Lithuania\",\"orientation\":\"v\",\"text\":\"\",\"x\":[1955,1960,1965,1970,1975,1980,1985,1990,1995,2000,2005,2010,2015,2020,2022,2023],\"y\":[\"2,699,051\",\"2,875,684\",\"3,052,979\",\"3,210,147\",\"3,368,287\",\"3,521,206\",\"3,672,852\",\"3,785,847\",\"3,747,267\",\"3,599,637\",\"3,373,533\",\"3,139,019\",\"2,963,765\",\"2,820,267\",\"2,750,055\",\"2,718,352\"],\"type\":\"bar\"},{\"marker\":{\"color\":\"rgba(62, 111, 176, 0.6)\",\"line\":{\"color\":\"rgba(62, 111, 176, 0.4653266331658293)\",\"width\":1}},\"name\":\"South Sudan\",\"orientation\":\"v\",\"text\":\"\",\"x\":[1955,1960,1965,1970,1975,1980,1985,1990,1995,2000,2005,2010,2015,2020,2022,2023],\"y\":[\"2,695,349\",\"2,907,724\",\"3,143,622\",\"3,342,410\",\"3,718,279\",\"4,192,012\",\"4,706,975\",\"4,750,817\",\"5,302,042\",\"6,114,440\",\"7,662,654\",\"9,714,419\",\"11,194,299\",\"10,606,227\",\"10,913,164\",\"11,088,796\"],\"type\":\"bar\"},{\"marker\":{\"color\":\"rgba(62, 111, 176, 0.6)\",\"line\":{\"color\":\"rgba(62, 111, 176, 0.43718592964824127)\",\"width\":1}},\"name\":\"Zambia\",\"orientation\":\"v\",\"text\":\"\",\"x\":[1955,1960,1965,1970,1975,1980,1985,1990,1995,2000,2005,2010,2015,2020,2022,2023],\"y\":[\"2,677,209\",\"3,119,430\",\"3,658,024\",\"4,281,671\",\"4,931,249\",\"5,720,438\",\"6,686,449\",\"7,686,401\",\"8,684,135\",\"9,891,136\",\"11,564,870\",\"13,792,086\",\"16,248,230\",\"18,927,715\",\"20,017,675\",\"20,569,737\"],\"type\":\"bar\"},{\"marker\":{\"color\":\"rgba(132, 118, 202, 0.6)\",\"line\":{\"color\":\"rgba(132, 118, 202, 0.43718592964824127)\",\"width\":1}},\"name\":\"Rwanda\",\"orientation\":\"v\",\"text\":\"\",\"x\":[1955,1960,1965,1970,1975,1980,1985,1990,1995,2000,2005,2010,2015,2020,2022,2023],\"y\":[\"2,537,919\",\"2,966,162\",\"3,348,631\",\"3,896,367\",\"4,515,756\",\"5,247,532\",\"6,266,752\",\"7,319,962\",\"5,686,897\",\"8,109,989\",\"9,026,299\",\"10,309,031\",\"11,642,959\",\"13,146,362\",\"13,776,698\",\"14,094,683\"],\"type\":\"bar\"},{\"marker\":{\"color\":\"rgba(101, 101, 101, 0.6)\",\"line\":{\"color\":\"rgba(101, 101, 101, 0.43718592964824127)\",\"width\":1}},\"name\":\"Somalia\",\"orientation\":\"v\",\"text\":\"\",\"x\":[1955,1960,1965,1970,1975,1980,1985,1990,1995,2000,2005,2010,2015,2020,2022,2023],\"y\":[\"2,529,910\",\"2,870,732\",\"3,267,593\",\"3,720,977\",\"4,228,289\",\"5,892,224\",\"6,630,637\",\"6,999,096\",\"7,210,930\",\"8,721,465\",\"10,467,292\",\"12,026,649\",\"13,763,906\",\"16,537,016\",\"17,597,511\",\"18,143,378\"],\"type\":\"bar\"},{\"marker\":{\"color\":\"rgba(251, 193, 94, 0.6)\",\"line\":{\"color\":\"rgba(251, 193, 94, 0.43718592964824127)\",\"width\":1}},\"name\":\"Burundi\",\"orientation\":\"v\",\"text\":\"\",\"x\":[1955,1960,1965,1970,1975,1980,1985,1990,1995,2000,2005,2010,2015,2020,2022,2023],\"y\":[\"2,495,193\",\"2,746,628\",\"3,118,134\",\"3,497,834\",\"3,749,232\",\"4,312,834\",\"4,948,024\",\"5,483,793\",\"5,932,783\",\"6,307,659\",\"7,388,874\",\"9,126,605\",\"10,727,148\",\"12,220,227\",\"12,889,576\",\"13,238,559\"],\"type\":\"bar\"},{\"marker\":{\"color\":\"rgba(142, 186, 66, 0.6)\",\"line\":{\"color\":\"rgba(142, 186, 66, 0.43718592964824127)\",\"width\":1}},\"name\":\"Hong Kong\",\"orientation\":\"v\",\"text\":\"\",\"x\":[1955,1960,1965,1970,1975,1980,1985,1990,1995,2000,2005,2010,2015,2020,2022,2023],\"y\":[\"2,490,487\",\"3,114,671\",\"3,602,029\",\"3,955,072\",\"4,451,220\",\"4,978,544\",\"5,411,680\",\"5,838,574\",\"6,243,859\",\"6,731,195\",\"6,936,874\",\"7,132,438\",\"7,399,838\",\"7,500,958\",\"7,488,865\",\"7,491,609\"],\"type\":\"bar\"},{\"marker\":{\"color\":\"rgba(255, 181, 184, 0.6)\",\"line\":{\"color\":\"rgba(255, 181, 184, 0.43718592964824127)\",\"width\":1}},\"name\":\"El Salvador\",\"orientation\":\"v\",\"text\":\"\",\"x\":[1955,1960,1965,1970,1975,1980,1985,1990,1995,2000,2005,2010,2015,2020,2022,2023],\"y\":[\"2,448,633\",\"2,779,327\",\"3,179,506\",\"3,619,090\",\"4,076,751\",\"4,508,992\",\"4,876,757\",\"5,367,179\",\"5,748,195\",\"5,958,482\",\"6,037,817\",\"6,114,034\",\"6,231,066\",\"6,292,731\",\"6,336,392\",\"6,364,943\"],\"type\":\"bar\"},{\"marker\":{\"color\":\"rgba(226, 74, 51, 0.6)\",\"line\":{\"color\":\"rgba(226, 74, 51, 0.43718592964824127)\",\"width\":1}},\"name\":\"Uruguay\",\"orientation\":\"v\",\"text\":\"\",\"x\":[1955,1960,1965,1970,1975,1980,1985,1990,1995,2000,2005,2010,2015,2020,2022,2023],\"y\":[\"2,366,209\",\"2,529,021\",\"2,680,427\",\"2,790,265\",\"2,871,947\",\"2,953,750\",\"3,024,218\",\"3,117,012\",\"3,208,300\",\"3,292,224\",\"3,317,665\",\"3,352,651\",\"3,402,818\",\"3,429,086\",\"3,422,794\",\"3,423,108\"],\"type\":\"bar\"},{\"marker\":{\"color\":\"rgba(226, 74, 51, 0.6)\",\"line\":{\"color\":\"rgba(226, 74, 51, 0.40904522613065347)\",\"width\":1}},\"name\":\"Benin\",\"orientation\":\"v\",\"text\":\"\",\"x\":[1955,1960,1965,1970,1975,1980,1985,1990,1995,2000,2005,2010,2015,2020,2022,2023],\"y\":[\"2,360,081\",\"2,512,284\",\"2,735,843\",\"3,023,443\",\"3,378,703\",\"3,833,939\",\"4,419,552\",\"5,133,419\",\"6,046,511\",\"6,998,023\",\"8,149,419\",\"9,445,710\",\"10,932,783\",\"12,643,123\",\"13,352,864\",\"13,712,828\"],\"type\":\"bar\"},{\"marker\":{\"color\":\"rgba(62, 111, 176, 0.6)\",\"line\":{\"color\":\"rgba(62, 111, 176, 0.40904522613065347)\",\"width\":1}},\"name\":\"Puerto Rico\",\"orientation\":\"v\",\"text\":\"\",\"x\":[1955,1960,1965,1970,1975,1980,1985,1990,1995,2000,2005,2010,2015,2020,2022,2023],\"y\":[\"2,309,782\",\"2,365,072\",\"2,564,270\",\"2,737,619\",\"2,972,267\",\"3,214,568\",\"3,406,279\",\"3,543,776\",\"3,704,947\",\"3,827,108\",\"3,805,559\",\"3,717,922\",\"3,497,335\",\"3,271,564\",\"3,252,407\",\"3,260,314\"],\"type\":\"bar\"},{\"marker\":{\"color\":\"rgba(132, 118, 202, 0.6)\",\"line\":{\"color\":\"rgba(132, 118, 202, 0.40904522613065347)\",\"width\":1}},\"name\":\"New Zealand\",\"orientation\":\"v\",\"text\":\"\",\"x\":[1955,1960,1965,1970,1975,1980,1985,1990,1995,2000,2005,2010,2015,2020,2022,2023],\"y\":[\"2,140,976\",\"2,381,189\",\"2,638,316\",\"2,824,061\",\"3,095,428\",\"3,147,168\",\"3,268,356\",\"3,397,389\",\"3,673,893\",\"3,855,266\",\"4,132,781\",\"4,346,338\",\"4,590,590\",\"5,061,133\",\"5,185,288\",\"5,228,100\"],\"type\":\"bar\"},{\"marker\":{\"color\":\"rgba(101, 101, 101, 0.6)\",\"line\":{\"color\":\"rgba(101, 101, 101, 0.40904522613065347)\",\"width\":1}},\"name\":\"Sierra Leone\",\"orientation\":\"v\",\"text\":\"\",\"x\":[1955,1960,1965,1970,1975,1980,1985,1990,1995,2000,2005,2010,2015,2020,2022,2023],\"y\":[\"2,135,644\",\"2,301,310\",\"2,520,576\",\"2,778,557\",\"3,055,916\",\"3,367,477\",\"3,749,419\",\"4,325,388\",\"4,324,149\",\"4,584,067\",\"5,683,334\",\"6,436,698\",\"7,314,773\",\"8,233,970\",\"8,605,718\",\"8,791,092\"],\"type\":\"bar\"},{\"marker\":{\"color\":\"rgba(251, 193, 94, 0.6)\",\"line\":{\"color\":\"rgba(251, 193, 94, 0.40904522613065347)\",\"width\":1}},\"name\":\"Latvia\",\"orientation\":\"v\",\"text\":\"\",\"x\":[1955,1960,1965,1970,1975,1980,1985,1990,1995,2000,2005,2010,2015,2020,2022,2023],\"y\":[\"2,032,505\",\"2,154,251\",\"2,287,805\",\"2,397,414\",\"2,492,528\",\"2,572,037\",\"2,655,104\",\"2,689,391\",\"2,570,151\",\"2,392,530\",\"2,233,157\",\"2,101,530\",\"1,991,955\",\"1,897,052\",\"1,850,651\",\"1,830,211\"],\"type\":\"bar\"},{\"marker\":{\"color\":\"rgba(142, 186, 66, 0.6)\",\"line\":{\"color\":\"rgba(142, 186, 66, 0.40904522613065347)\",\"width\":1}},\"name\":\"Bhutan\",\"orientation\":\"v\",\"text\":\"\",\"x\":[1955,1960,1965,1970,1975,1980,1985,1990,1995,2000,2005,2010,2015,2020,2022,2023],\"y\":[\"196,014\",\"221,266\",\"255,010\",\"298,894\",\"352,269\",\"415,257\",\"484,528\",\"558,442\",\"527,536\",\"587,207\",\"663,323\",\"705,516\",\"743,274\",\"772,506\",\"782,455\",\"787,424\"],\"type\":\"bar\"},{\"marker\":{\"color\":\"rgba(255, 181, 184, 0.6)\",\"line\":{\"color\":\"rgba(255, 181, 184, 0.40904522613065347)\",\"width\":1}},\"name\":\"Macao\",\"orientation\":\"v\",\"text\":\"\",\"x\":[1955,1960,1965,1970,1975,1980,1985,1990,1995,2000,2005,2010,2015,2020,2022,2023],\"y\":[\"195,757\",\"177,014\",\"209,278\",\"247,284\",\"246,919\",\"245,332\",\"287,700\",\"350,227\",\"396,641\",\"431,896\",\"488,619\",\"557,297\",\"615,239\",\"676,283\",\"695,168\",\"704,149\"],\"type\":\"bar\"},{\"marker\":{\"color\":\"rgba(255, 181, 184, 0.6)\",\"line\":{\"color\":\"rgba(255, 181, 184, 0.38090452261306545)\",\"width\":1}},\"name\":\"Cabo Verde\",\"orientation\":\"v\",\"text\":\"\",\"x\":[1955,1960,1965,1970,1975,1980,1985,1990,1995,2000,2005,2010,2015,2020,2022,2023],\"y\":[\"195,389\",\"209,849\",\"244,156\",\"287,262\",\"304,375\",\"317,234\",\"339,874\",\"364,563\",\"411,382\",\"458,251\",\"492,827\",\"521,212\",\"552,166\",\"582,640\",\"593,149\",\"598,682\"],\"type\":\"bar\"},{\"marker\":{\"color\":\"rgba(226, 74, 51, 0.6)\",\"line\":{\"color\":\"rgba(226, 74, 51, 0.38090452261306545)\",\"width\":1}},\"name\":\"Ethiopia\",\"orientation\":\"v\",\"text\":\"\",\"x\":[1955,1960,1965,1970,1975,1980,1985,1990,1995,2000,2005,2010,2015,2020,2022,2023],\"y\":[\"19,703,738\",\"21,739,710\",\"24,727,506\",\"28,308,246\",\"32,252,783\",\"34,945,469\",\"40,285,965\",\"47,878,073\",\"57,476,536\",\"67,031,867\",\"77,469,940\",\"89,237,791\",\"102,471,895\",\"117,190,911\",\"123,379,924\",\"126,527,060\"],\"type\":\"bar\"},{\"marker\":{\"color\":\"rgba(62, 111, 176, 0.6)\",\"line\":{\"color\":\"rgba(62, 111, 176, 0.38090452261306545)\",\"width\":1}},\"name\":\"Myanmar\",\"orientation\":\"v\",\"text\":\"\",\"x\":[1955,1960,1965,1970,1975,1980,1985,1990,1995,2000,2005,2010,2015,2020,2022,2023],\"y\":[\"19,522,788\",\"21,720,697\",\"24,286,878\",\"27,284,112\",\"30,344,276\",\"33,465,781\",\"36,881,020\",\"40,099,553\",\"42,880,186\",\"45,538,332\",\"47,724,471\",\"49,390,988\",\"51,483,949\",\"53,423,198\",\"54,179,306\",\"54,577,997\"],\"type\":\"bar\"},{\"marker\":{\"color\":\"rgba(132, 118, 202, 0.6)\",\"line\":{\"color\":\"rgba(132, 118, 202, 0.38090452261306545)\",\"width\":1}},\"name\":\"Kuwait\",\"orientation\":\"v\",\"text\":\"\",\"x\":[1955,1960,1965,1970,1975,1980,1985,1990,1995,2000,2005,2010,2015,2020,2022,2023],\"y\":[\"183,458\",\"305,415\",\"513,840\",\"802,786\",\"1,095,998\",\"1,493,870\",\"1,888,975\",\"1,674,938\",\"1,655,222\",\"1,934,901\",\"2,235,403\",\"2,943,356\",\"3,908,743\",\"4,360,444\",\"4,268,873\",\"4,310,108\"],\"type\":\"bar\"},{\"marker\":{\"color\":\"rgba(101, 101, 101, 0.6)\",\"line\":{\"color\":\"rgba(101, 101, 101, 0.38090452261306545)\",\"width\":1}},\"name\":\"Iran\",\"orientation\":\"v\",\"text\":\"\",\"x\":[1955,1960,1965,1970,1975,1980,1985,1990,1995,2000,2005,2010,2015,2020,2022,2023],\"y\":[\"18,873,864\",\"21,388,806\",\"24,667,026\",\"28,449,705\",\"32,856,976\",\"38,520,664\",\"47,266,160\",\"55,793,629\",\"60,794,809\",\"65,544,383\",\"70,182,594\",\"75,373,855\",\"81,790,841\",\"87,290,193\",\"88,550,570\",\"89,172,767\"],\"type\":\"bar\"},{\"marker\":{\"color\":\"rgba(251, 193, 94, 0.6)\",\"line\":{\"color\":\"rgba(251, 193, 94, 0.38090452261306545)\",\"width\":1}},\"name\":\"Argentina\",\"orientation\":\"v\",\"text\":\"\",\"x\":[1955,1960,1965,1970,1975,1980,1985,1990,1995,2000,2005,2010,2015,2020,2022,2023],\"y\":[\"18,700,686\",\"20,349,744\",\"22,053,661\",\"23,842,803\",\"25,875,558\",\"28,024,803\",\"30,287,112\",\"32,637,657\",\"34,946,110\",\"37,070,774\",\"39,070,501\",\"41,100,123\",\"43,257,065\",\"45,036,032\",\"45,510,318\",\"45,773,884\"],\"type\":\"bar\"},{\"marker\":{\"color\":\"rgba(142, 186, 66, 0.6)\",\"line\":{\"color\":\"rgba(142, 186, 66, 0.38090452261306545)\",\"width\":1}},\"name\":\"Comoros\",\"orientation\":\"v\",\"text\":\"\",\"x\":[1955,1960,1965,1970,1975,1980,1985,1990,1995,2000,2005,2010,2015,2020,2022,2023],\"y\":[\"177,885\",\"194,852\",\"214,939\",\"242,351\",\"280,036\",\"328,328\",\"375,650\",\"431,119\",\"483,760\",\"536,758\",\"592,683\",\"656,024\",\"730,216\",\"806,166\",\"836,774\",\"852,075\"],\"type\":\"bar\"},{\"marker\":{\"color\":\"rgba(142, 186, 66, 0.6)\",\"line\":{\"color\":\"rgba(142, 186, 66, 0.35276381909547744)\",\"width\":1}},\"name\":\"Romania\",\"orientation\":\"v\",\"text\":\"\",\"x\":[1955,1960,1965,1970,1975,1980,1985,1990,1995,2000,2005,2010,2015,2020,2022,2023],\"y\":[\"17,455,291\",\"18,458,008\",\"19,117,072\",\"19,922,618\",\"21,167,265\",\"22,125,224\",\"22,525,363\",\"22,836,234\",\"22,533,134\",\"21,919,876\",\"21,092,264\",\"20,335,211\",\"19,906,079\",\"19,442,038\",\"19,659,267\",\"19,892,812\"],\"type\":\"bar\"},{\"marker\":{\"color\":\"rgba(255, 181, 184, 0.6)\",\"line\":{\"color\":\"rgba(255, 181, 184, 0.35276381909547744)\",\"width\":1}},\"name\":\"United States\",\"orientation\":\"v\",\"text\":\"\",\"x\":[1955,1960,1965,1970,1975,1980,1985,1990,1995,2000,2005,2010,2015,2020,2022,2023],\"y\":[\"161,136,449\",\"176,188,578\",\"189,703,283\",\"200,328,340\",\"211,274,535\",\"223,140,018\",\"235,146,182\",\"248,083,732\",\"265,660,556\",\"282,398,554\",\"296,842,670\",\"311,182,845\",\"324,607,776\",\"335,942,003\",\"338,289,857\",\"339,996,563\"],\"type\":\"bar\"},{\"marker\":{\"color\":\"rgba(226, 74, 51, 0.6)\",\"line\":{\"color\":\"rgba(226, 74, 51, 0.35276381909547744)\",\"width\":1}},\"name\":\"Iceland\",\"orientation\":\"v\",\"text\":\"\",\"x\":[1955,1960,1965,1970,1975,1980,1985,1990,1995,2000,2005,2010,2015,2020,2022,2023],\"y\":[\"157,735\",\"175,566\",\"192,309\",\"204,468\",\"218,070\",\"228,263\",\"241,577\",\"255,019\",\"267,681\",\"281,462\",\"297,029\",\"318,333\",\"331,060\",\"366,669\",\"372,899\",\"375,318\"],\"type\":\"bar\"},{\"marker\":{\"color\":\"rgba(62, 111, 176, 0.6)\",\"line\":{\"color\":\"rgba(62, 111, 176, 0.35276381909547744)\",\"width\":1}},\"name\":\"Canada\",\"orientation\":\"v\",\"text\":\"\",\"x\":[1955,1960,1965,1970,1975,1980,1985,1990,1995,2000,2005,2010,2015,2020,2022,2023],\"y\":[\"15,733,923\",\"17,909,356\",\"19,688,805\",\"21,434,577\",\"23,136,252\",\"24,511,510\",\"25,843,922\",\"27,657,204\",\"29,289,423\",\"30,683,313\",\"32,215,916\",\"33,963,412\",\"35,732,126\",\"37,888,705\",\"38,454,327\",\"38,781,291\"],\"type\":\"bar\"},{\"marker\":{\"color\":\"rgba(132, 118, 202, 0.6)\",\"line\":{\"color\":\"rgba(132, 118, 202, 0.35276381909547744)\",\"width\":1}},\"name\":\"South Africa\",\"orientation\":\"v\",\"text\":\"\",\"x\":[1955,1960,1965,1970,1975,1980,1985,1990,1995,2000,2005,2010,2015,2020,2022,2023],\"y\":[\"14,594,129\",\"16,520,441\",\"19,187,194\",\"22,368,306\",\"25,777,964\",\"29,463,549\",\"33,752,964\",\"39,877,570\",\"43,986,084\",\"46,813,266\",\"49,017,147\",\"51,784,921\",\"55,876,504\",\"58,801,927\",\"59,893,885\",\"60,414,495\"],\"type\":\"bar\"},{\"marker\":{\"color\":\"rgba(101, 101, 101, 0.6)\",\"line\":{\"color\":\"rgba(101, 101, 101, 0.35276381909547744)\",\"width\":1}},\"name\":\"Bahrain\",\"orientation\":\"v\",\"text\":\"\",\"x\":[1955,1960,1965,1970,1975,1980,1985,1990,1995,2000,2005,2010,2015,2020,2022,2023],\"y\":[\"134,865\",\"160,691\",\"193,012\",\"222,555\",\"285,116\",\"362,595\",\"434,375\",\"517,418\",\"612,934\",\"711,442\",\"901,921\",\"1,213,645\",\"1,362,142\",\"1,477,469\",\"1,472,233\",\"1,485,509\"],\"type\":\"bar\"},{\"marker\":{\"color\":\"rgba(251, 193, 94, 0.6)\",\"line\":{\"color\":\"rgba(251, 193, 94, 0.35276381909547744)\",\"width\":1}},\"name\":\"DR Congo\",\"orientation\":\"v\",\"text\":\"\",\"x\":[1955,1960,1965,1970,1975,1980,1985,1990,1995,2000,2005,2010,2015,2020,2022,2023],\"y\":[\"13,638,427\",\"15,276,558\",\"17,438,254\",\"20,151,733\",\"23,052,715\",\"26,708,686\",\"30,800,051\",\"35,987,541\",\"43,285,791\",\"48,616,317\",\"56,550,247\",\"66,391,257\",\"78,656,904\",\"92,853,164\",\"99,010,212\",\"102,262,808\"],\"type\":\"bar\"},{\"marker\":{\"color\":\"rgba(251, 193, 94, 0.6)\",\"line\":{\"color\":\"rgba(251, 193, 94, 0.32462311557788964)\",\"width\":1}},\"name\":\"Colombia\",\"orientation\":\"v\",\"text\":\"\",\"x\":[1955,1960,1965,1970,1975,1980,1985,1990,1995,2000,2005,2010,2015,2020,2022,2023],\"y\":[\"13,512,612\",\"15,687,688\",\"18,275,814\",\"20,905,254\",\"23,403,731\",\"26,176,195\",\"29,326,260\",\"32,601,393\",\"35,970,101\",\"39,215,135\",\"42,220,940\",\"44,816,108\",\"47,119,728\",\"50,930,662\",\"51,874,024\",\"52,085,168\"],\"type\":\"bar\"},{\"marker\":{\"color\":\"rgba(142, 186, 66, 0.6)\",\"line\":{\"color\":\"rgba(142, 186, 66, 0.32462311557788964)\",\"width\":1}},\"name\":\"Solomon Islands\",\"orientation\":\"v\",\"text\":\"\",\"x\":[1955,1960,1965,1970,1975,1980,1985,1990,1995,2000,2005,2010,2015,2020,2022,2023],\"y\":[\"117,314\",\"133,440\",\"151,495\",\"172,833\",\"197,853\",\"233,668\",\"277,158\",\"324,171\",\"375,189\",\"429,978\",\"482,486\",\"540,394\",\"612,660\",\"691,191\",\"724,273\",\"740,424\"],\"type\":\"bar\"},{\"marker\":{\"color\":\"rgba(255, 181, 184, 0.6)\",\"line\":{\"color\":\"rgba(255, 181, 184, 0.32462311557788964)\",\"width\":1}},\"name\":\"Cura\\u00e7ao\",\"orientation\":\"v\",\"text\":\"\",\"x\":[1955,1960,1965,1970,1975,1980,1985,1990,1995,2000,2005,2010,2015,2020,2022,2023],\"y\":[\"114,659\",\"131,274\",\"141,049\",\"150,385\",\"155,151\",\"156,851\",\"156,639\",\"155,446\",\"150,592\",\"141,424\",\"147,263\",\"159,380\",\"169,572\",\"189,288\",\"191,163\",\"192,077\"],\"type\":\"bar\"},{\"marker\":{\"color\":\"rgba(226, 74, 51, 0.6)\",\"line\":{\"color\":\"rgba(226, 74, 51, 0.32462311557788964)\",\"width\":1}},\"name\":\"Russia\",\"orientation\":\"v\",\"text\":\"\",\"x\":[1955,1960,1965,1970,1975,1980,1985,1990,1995,2000,2005,2010,2015,2020,2022,2023],\"y\":[\"110,971,852\",\"119,735,095\",\"126,400,607\",\"130,093,010\",\"133,841,842\",\"138,257,420\",\"142,896,392\",\"148,005,704\",\"148,557,451\",\"146,844,839\",\"143,800,049\",\"143,242,599\",\"144,668,389\",\"145,617,329\",\"144,713,314\",\"144,444,359\"],\"type\":\"bar\"},{\"marker\":{\"color\":\"rgba(62, 111, 176, 0.6)\",\"line\":{\"color\":\"rgba(62, 111, 176, 0.32462311557788964)\",\"width\":1}},\"name\":\"United Arab Emirates\",\"orientation\":\"v\",\"text\":\"\",\"x\":[1955,1960,1965,1970,1975,1980,1985,1990,1995,2000,2005,2010,2015,2020,2022,2023],\"y\":[\"101,803\",\"133,426\",\"173,797\",\"298,084\",\"543,394\",\"1,014,048\",\"1,379,536\",\"1,900,151\",\"2,433,988\",\"3,275,333\",\"4,280,993\",\"8,481,771\",\"8,916,899\",\"9,287,289\",\"9,441,129\",\"9,516,871\"],\"type\":\"bar\"},{\"marker\":{\"color\":\"rgba(132, 118, 202, 0.6)\",\"line\":{\"color\":\"rgba(132, 118, 202, 0.32462311557788964)\",\"width\":1}},\"name\":\"Netherlands\",\"orientation\":\"v\",\"text\":\"\",\"x\":[1955,1960,1965,1970,1975,1980,1985,1990,1995,2000,2005,2010,2015,2020,2022,2023],\"y\":[\"10,767,906\",\"11,493,117\",\"12,275,791\",\"13,037,686\",\"13,663,969\",\"14,130,387\",\"14,515,704\",\"14,944,548\",\"15,446,668\",\"15,899,135\",\"16,261,831\",\"16,617,117\",\"17,041,107\",\"17,434,557\",\"17,564,014\",\"17,618,299\"],\"type\":\"bar\"},{\"marker\":{\"color\":\"rgba(101, 101, 101, 0.6)\",\"line\":{\"color\":\"rgba(101, 101, 101, 0.32462311557788964)\",\"width\":1}},\"name\":\"North Korea\",\"orientation\":\"v\",\"text\":\"\",\"x\":[1955,1960,1965,1970,1975,1980,1985,1990,1995,2000,2005,2010,2015,2020,2022,2023],\"y\":[\"10,360,269\",\"11,655,666\",\"13,105,946\",\"14,996,879\",\"16,723,252\",\"17,973,650\",\"19,325,487\",\"20,799,523\",\"22,385,536\",\"23,367,059\",\"24,100,982\",\"24,686,435\",\"25,258,015\",\"25,867,467\",\"26,069,416\",\"26,160,821\"],\"type\":\"bar\"},{\"marker\":{\"color\":\"rgba(101, 101, 101, 0.6)\",\"line\":{\"color\":\"rgba(101, 101, 101, 0.2964824120603016)\",\"width\":1}},\"name\":\"Algeria\",\"orientation\":\"v\",\"text\":\"\",\"x\":[1955,1960,1965,1970,1975,1980,1985,1990,1995,2000,2005,2010,2015,2020,2022,2023],\"y\":[\"10,242,288\",\"11,394,307\",\"12,381,256\",\"13,795,915\",\"15,724,692\",\"18,739,378\",\"22,132,905\",\"25,518,074\",\"28,478,022\",\"30,774,621\",\"32,956,690\",\"35,856,344\",\"39,543,154\",\"43,451,666\",\"44,903,225\",\"45,606,480\"],\"type\":\"bar\"},{\"marker\":{\"color\":\"rgba(251, 193, 94, 0.6)\",\"line\":{\"color\":\"rgba(251, 193, 94, 0.2964824120603016)\",\"width\":1}},\"name\":\"Morocco\",\"orientation\":\"v\",\"text\":\"\",\"x\":[1955,1960,1965,1970,1975,1980,1985,1990,1995,2000,2005,2010,2015,2020,2022,2023],\"y\":[\"10,242,168\",\"11,769,774\",\"13,381,880\",\"15,274,351\",\"17,325,325\",\"19,678,444\",\"22,335,077\",\"24,570,814\",\"26,599,048\",\"28,554,415\",\"30,431,902\",\"32,464,865\",\"34,680,458\",\"36,688,772\",\"37,457,971\",\"37,840,044\"],\"type\":\"bar\"},{\"marker\":{\"color\":\"rgba(142, 186, 66, 0.6)\",\"line\":{\"color\":\"rgba(142, 186, 66, 0.2964824120603016)\",\"width\":1}},\"name\":\"Kyrgyzstan\",\"orientation\":\"v\",\"text\":\"\",\"x\":[1955,1960,1965,1970,1975,1980,1985,1990,1995,2000,2005,2010,2015,2020,2022,2023],\"y\":[\"1,944,992\",\"2,216,530\",\"2,615,167\",\"3,016,384\",\"3,353,850\",\"3,691,209\",\"4,064,852\",\"4,394,734\",\"4,596,456\",\"4,935,182\",\"5,193,114\",\"5,483,774\",\"5,914,980\",\"6,424,874\",\"6,630,623\",\"6,735,347\"],\"type\":\"bar\"},{\"marker\":{\"color\":\"rgba(255, 181, 184, 0.6)\",\"line\":{\"color\":\"rgba(255, 181, 184, 0.2964824120603016)\",\"width\":1}},\"name\":\"Laos\",\"orientation\":\"v\",\"text\":\"\",\"x\":[1955,1960,1965,1970,1975,1980,1985,1990,1995,2000,2005,2010,2015,2020,2022,2023],\"y\":[\"1,893,389\",\"2,122,532\",\"2,379,456\",\"2,675,283\",\"3,012,720\",\"3,297,519\",\"3,741,604\",\"4,314,443\",\"4,927,432\",\"5,430,853\",\"5,852,970\",\"6,323,418\",\"6,787,419\",\"7,319,399\",\"7,529,475\",\"7,633,779\"],\"type\":\"bar\"},{\"marker\":{\"color\":\"rgba(226, 74, 51, 0.6)\",\"line\":{\"color\":\"rgba(226, 74, 51, 0.2964824120603016)\",\"width\":1}},\"name\":\"Tajikistan\",\"orientation\":\"v\",\"text\":\"\",\"x\":[1955,1960,1965,1970,1975,1980,1985,1990,1995,2000,2005,2010,2015,2020,2022,2023],\"y\":[\"1,805,209\",\"2,131,992\",\"2,538,295\",\"2,993,019\",\"3,482,125\",\"4,045,965\",\"4,660,598\",\"5,417,860\",\"5,916,173\",\"6,272,998\",\"6,929,145\",\"7,621,779\",\"8,524,063\",\"9,543,207\",\"9,952,787\",\"10,143,543\"],\"type\":\"bar\"},{\"marker\":{\"color\":\"rgba(62, 111, 176, 0.6)\",\"line\":{\"color\":\"rgba(62, 111, 176, 0.2964824120603016)\",\"width\":1}},\"name\":\"Honduras\",\"orientation\":\"v\",\"text\":\"\",\"x\":[1955,1960,1965,1970,1975,1980,1985,1990,1995,2000,2005,2010,2015,2020,2022,2023],\"y\":[\"1,796,527\",\"2,078,617\",\"2,403,465\",\"2,782,753\",\"3,231,631\",\"3,777,990\",\"4,387,693\",\"5,053,234\",\"5,812,832\",\"6,656,725\",\"7,564,613\",\"8,450,933\",\"9,294,505\",\"10,121,763\",\"10,432,860\",\"10,593,798\"],\"type\":\"bar\"},{\"marker\":{\"color\":\"rgba(132, 118, 202, 0.6)\",\"line\":{\"color\":\"rgba(132, 118, 202, 0.2964824120603016)\",\"width\":1}},\"name\":\"Papua New Guinea\",\"orientation\":\"v\",\"text\":\"\",\"x\":[1955,1960,1965,1970,1975,1980,1985,1990,1995,2000,2005,2010,2015,2020,2022,2023],\"y\":[\"1,734,921\",\"1,985,666\",\"2,222,178\",\"2,489,059\",\"2,794,462\",\"3,104,788\",\"3,447,579\",\"3,864,972\",\"4,616,439\",\"5,508,297\",\"6,498,818\",\"7,583,269\",\"8,682,174\",\"9,749,640\",\"10,142,619\",\"10,329,931\"],\"type\":\"bar\"},{\"marker\":{\"color\":\"rgba(132, 118, 202, 0.6)\",\"line\":{\"color\":\"rgba(132, 118, 202, 0.26834170854271383)\",\"width\":1}},\"name\":\"Paraguay\",\"orientation\":\"v\",\"text\":\"\",\"x\":[1955,1960,1965,1970,1975,1980,1985,1990,1995,2000,2005,2010,2015,2020,2022,2023],\"y\":[\"1,685,747\",\"1,894,829\",\"2,143,153\",\"2,408,787\",\"2,714,664\",\"3,078,912\",\"3,535,498\",\"4,059,195\",\"4,603,917\",\"5,123,819\",\"5,476,878\",\"5,768,613\",\"6,177,950\",\"6,618,695\",\"6,780,744\",\"6,861,524\"],\"type\":\"bar\"},{\"marker\":{\"color\":\"rgba(101, 101, 101, 0.6)\",\"line\":{\"color\":\"rgba(101, 101, 101, 0.26834170854271383)\",\"width\":1}},\"name\":\"Armenia\",\"orientation\":\"v\",\"text\":\"\",\"x\":[1955,1960,1965,1970,1975,1980,1985,1990,1995,2000,2005,2010,2015,2020,2022,2023],\"y\":[\"1,604,376\",\"1,904,148\",\"2,234,051\",\"2,534,377\",\"2,830,798\",\"3,135,123\",\"3,300,896\",\"3,556,539\",\"3,322,782\",\"3,168,523\",\"3,047,246\",\"2,946,293\",\"2,878,595\",\"2,805,608\",\"2,780,469\",\"2,777,970\"],\"type\":\"bar\"},{\"marker\":{\"color\":\"rgba(251, 193, 94, 0.6)\",\"line\":{\"color\":\"rgba(251, 193, 94, 0.26834170854271383)\",\"width\":1}},\"name\":\"Israel\",\"orientation\":\"v\",\"text\":\"\",\"x\":[1955,1960,1965,1970,1975,1980,1985,1990,1995,2000,2005,2010,2015,2020,2022,2023],\"y\":[\"1,564,960\",\"1,902,247\",\"2,361,088\",\"2,907,307\",\"3,388,086\",\"3,744,608\",\"4,182,681\",\"4,803,254\",\"5,478,734\",\"6,116,958\",\"6,714,124\",\"7,328,445\",\"8,007,778\",\"8,757,489\",\"9,038,309\",\"9,174,520\"],\"type\":\"bar\"},{\"marker\":{\"color\":\"rgba(142, 186, 66, 0.6)\",\"line\":{\"color\":\"rgba(142, 186, 66, 0.26834170854271383)\",\"width\":1}},\"name\":\"Lebanon\",\"orientation\":\"v\",\"text\":\"\",\"x\":[1955,1960,1965,1970,1975,1980,1985,1990,1995,2000,2005,2010,2015,2020,2022,2023],\"y\":[\"1,556,327\",\"1,798,092\",\"2,087,445\",\"2,381,791\",\"2,691,586\",\"2,963,702\",\"3,226,750\",\"3,593,700\",\"3,959,640\",\"4,320,642\",\"4,643,044\",\"4,995,800\",\"6,398,940\",\"5,662,923\",\"5,489,739\",\"5,353,930\"],\"type\":\"bar\"},{\"marker\":{\"color\":\"rgba(255, 181, 184, 0.6)\",\"line\":{\"color\":\"rgba(255, 181, 184, 0.26834170854271383)\",\"width\":1}},\"name\":\"Jamaica\",\"orientation\":\"v\",\"text\":\"\",\"x\":[1955,1960,1965,1970,1975,1980,1985,1990,1995,2000,2005,2010,2015,2020,2022,2023],\"y\":[\"1,552,883\",\"1,642,331\",\"1,746,977\",\"1,859,091\",\"2,003,094\",\"2,135,546\",\"2,292,030\",\"2,392,030\",\"2,509,372\",\"2,612,205\",\"2,676,863\",\"2,733,896\",\"2,794,445\",\"2,820,436\",\"2,827,377\",\"2,825,544\"],\"type\":\"bar\"},{\"marker\":{\"color\":\"rgba(226, 74, 51, 0.6)\",\"line\":{\"color\":\"rgba(226, 74, 51, 0.26834170854271383)\",\"width\":1}},\"name\":\"Central African Republic\",\"orientation\":\"v\",\"text\":\"\",\"x\":[1955,1960,1965,1970,1975,1980,1985,1990,1995,2000,2005,2010,2015,2020,2022,2023],\"y\":[\"1,545,898\",\"1,679,728\",\"1,849,171\",\"2,067,356\",\"2,283,927\",\"2,415,276\",\"2,553,075\",\"2,809,221\",\"3,276,706\",\"3,759,170\",\"4,208,834\",\"4,660,067\",\"4,819,333\",\"5,343,020\",\"5,579,144\",\"5,742,315\"],\"type\":\"bar\"},{\"marker\":{\"color\":\"rgba(62, 111, 176, 0.6)\",\"line\":{\"color\":\"rgba(62, 111, 176, 0.26834170854271383)\",\"width\":1}},\"name\":\"Nicaragua\",\"orientation\":\"v\",\"text\":\"\",\"x\":[1955,1960,1965,1970,1975,1980,1985,1990,1995,2000,2005,2010,2015,2020,2022,2023],\"y\":[\"1,539,551\",\"1,789,684\",\"2,084,097\",\"2,444,767\",\"2,857,461\",\"3,303,309\",\"3,763,034\",\"4,227,820\",\"4,721,929\",\"5,123,222\",\"5,454,678\",\"5,855,734\",\"6,298,598\",\"6,755,895\",\"6,948,392\",\"7,046,310\"],\"type\":\"bar\"},{\"marker\":{\"color\":\"rgba(62, 111, 176, 0.6)\",\"line\":{\"color\":\"rgba(62, 111, 176, 0.2402010050251258)\",\"width\":1}},\"name\":\"Slovenia\",\"orientation\":\"v\",\"text\":\"\",\"x\":[1955,1960,1965,1970,1975,1980,1985,1990,1995,2000,2005,2010,2015,2020,2022,2023],\"y\":[\"1,521,772\",\"1,599,571\",\"1,669,453\",\"1,741,286\",\"1,817,044\",\"1,901,570\",\"1,952,518\",\"1,986,024\",\"1,991,106\",\"1,984,339\",\"2,004,778\",\"2,057,287\",\"2,080,862\",\"2,117,641\",\"2,119,844\",\"2,119,675\"],\"type\":\"bar\"},{\"marker\":{\"color\":\"rgba(132, 118, 202, 0.6)\",\"line\":{\"color\":\"rgba(132, 118, 202, 0.2402010050251258)\",\"width\":1}},\"name\":\"Togo\",\"orientation\":\"v\",\"text\":\"\",\"x\":[1955,1960,1965,1970,1975,1980,1985,1990,1995,2000,2005,2010,2015,2020,2022,2023],\"y\":[\"1,518,825\",\"1,651,367\",\"1,820,396\",\"2,197,383\",\"2,509,713\",\"2,838,110\",\"3,336,508\",\"3,875,947\",\"4,279,566\",\"5,008,035\",\"5,711,597\",\"6,571,855\",\"7,473,229\",\"8,442,580\",\"8,848,699\",\"9,053,799\"],\"type\":\"bar\"},{\"marker\":{\"color\":\"rgba(101, 101, 101, 0.6)\",\"line\":{\"color\":\"rgba(101, 101, 101, 0.2402010050251258)\",\"width\":1}},\"name\":\"Albania\",\"orientation\":\"v\",\"text\":\"\",\"x\":[1955,1960,1965,1970,1975,1980,1985,1990,1995,2000,2005,2010,2015,2020,2022,2023],\"y\":[\"1,453,730\",\"1,711,189\",\"2,009,789\",\"2,324,731\",\"2,650,122\",\"2,941,651\",\"3,171,725\",\"3,295,066\",\"3,284,364\",\"3,182,021\",\"3,032,634\",\"2,913,399\",\"2,882,481\",\"2,866,849\",\"2,842,321\",\"2,832,439\"],\"type\":\"bar\"},{\"marker\":{\"color\":\"rgba(251, 193, 94, 0.6)\",\"line\":{\"color\":\"rgba(251, 193, 94, 0.2402010050251258)\",\"width\":1}},\"name\":\"North Macedonia\",\"orientation\":\"v\",\"text\":\"\",\"x\":[1955,1960,1965,1970,1975,1980,1985,1990,1995,2000,2005,2010,2015,2020,2022,2023],\"y\":[\"1,379,140\",\"1,462,368\",\"1,547,982\",\"1,656,783\",\"1,774,013\",\"1,907,023\",\"2,001,504\",\"2,044,174\",\"1,983,964\",\"2,037,936\",\"2,078,662\",\"2,093,828\",\"2,107,962\",\"2,111,072\",\"2,093,599\",\"2,085,679\"],\"type\":\"bar\"},{\"marker\":{\"color\":\"rgba(142, 186, 66, 0.6)\",\"line\":{\"color\":\"rgba(142, 186, 66, 0.2402010050251258)\",\"width\":1}},\"name\":\"Turkmenistan\",\"orientation\":\"v\",\"text\":\"\",\"x\":[1955,1960,1965,1970,1975,1980,1985,1990,1995,2000,2005,2010,2015,2020,2022,2023],\"y\":[\"1,363,507\",\"1,602,052\",\"1,897,095\",\"2,201,432\",\"2,525,760\",\"2,862,903\",\"3,246,887\",\"3,720,278\",\"4,226,623\",\"4,569,132\",\"4,885,775\",\"5,267,970\",\"5,766,431\",\"6,250,438\",\"6,430,770\",\"6,516,100\"],\"type\":\"bar\"},{\"marker\":{\"color\":\"rgba(255, 181, 184, 0.6)\",\"line\":{\"color\":\"rgba(255, 181, 184, 0.2402010050251258)\",\"width\":1}},\"name\":\"Singapore\",\"orientation\":\"v\",\"text\":\"\",\"x\":[1955,1960,1965,1970,1975,1980,1985,1990,1995,2000,2005,2010,2015,2020,2022,2023],\"y\":[\"1,267,611\",\"1,601,079\",\"1,860,651\",\"2,061,831\",\"2,232,425\",\"2,400,729\",\"2,685,994\",\"3,022,209\",\"3,543,875\",\"4,053,602\",\"4,344,637\",\"5,163,590\",\"5,650,018\",\"5,909,869\",\"5,975,689\",\"6,014,723\"],\"type\":\"bar\"},{\"marker\":{\"color\":\"rgba(226, 74, 51, 0.6)\",\"line\":{\"color\":\"rgba(226, 74, 51, 0.2402010050251258)\",\"width\":1}},\"name\":\"Libya\",\"orientation\":\"v\",\"text\":\"\",\"x\":[1955,1960,1965,1970,1975,1980,1985,1990,1995,2000,2005,2010,2015,2020,2022,2023],\"y\":[\"1,225,687\",\"1,426,986\",\"1,700,072\",\"1,909,177\",\"2,291,841\",\"2,962,720\",\"3,684,313\",\"4,236,983\",\"4,733,063\",\"5,154,790\",\"5,837,986\",\"6,491,988\",\"6,192,235\",\"6,653,942\",\"6,812,341\",\"6,888,388\"],\"type\":\"bar\"},{\"marker\":{\"color\":\"rgba(226, 74, 51, 0.6)\",\"line\":{\"color\":\"rgba(226, 74, 51, 0.2120603015075378)\",\"width\":1}},\"name\":\"Estonia\",\"orientation\":\"v\",\"text\":\"\",\"x\":[1955,1960,1965,1970,1975,1980,1985,1990,1995,2000,2005,2010,2015,2020,2022,2023],\"y\":[\"1,168,276\",\"1,218,064\",\"1,292,004\",\"1,361,999\",\"1,424,044\",\"1,476,983\",\"1,525,782\",\"1,570,674\",\"1,452,775\",\"1,396,877\",\"1,354,662\",\"1,331,535\",\"1,314,657\",\"1,329,444\",\"1,326,062\",\"1,322,765\"],\"type\":\"bar\"},{\"marker\":{\"color\":\"rgba(62, 111, 176, 0.6)\",\"line\":{\"color\":\"rgba(62, 111, 176, 0.2120603015075378)\",\"width\":1}},\"name\":\"Costa Rica\",\"orientation\":\"v\",\"text\":\"\",\"x\":[1955,1960,1965,1970,1975,1980,1985,1990,1995,2000,2005,2010,2015,2020,2022,2023],\"y\":[\"1,123,982\",\"1,346,302\",\"1,602,736\",\"1,855,697\",\"2,111,850\",\"2,414,303\",\"2,771,463\",\"3,158,253\",\"3,572,856\",\"3,979,193\",\"4,315,887\",\"4,622,252\",\"4,895,242\",\"5,123,105\",\"5,180,829\",\"5,212,173\"],\"type\":\"bar\"},{\"marker\":{\"color\":\"rgba(132, 118, 202, 0.6)\",\"line\":{\"color\":\"rgba(132, 118, 202, 0.2120603015075378)\",\"width\":1}},\"name\":\"Liberia\",\"orientation\":\"v\",\"text\":\"\",\"x\":[1955,1960,1965,1970,1975,1980,1985,1990,1995,2000,2005,2010,2015,2020,2022,2023],\"y\":[\"1,013,790\",\"1,137,026\",\"1,287,315\",\"1,463,563\",\"1,671,632\",\"1,932,169\",\"2,239,724\",\"2,209,731\",\"2,142,422\",\"2,895,224\",\"3,266,318\",\"4,019,956\",\"4,612,329\",\"5,087,584\",\"5,302,681\",\"5,418,377\"],\"type\":\"bar\"}],                        {\"legend\":{\"bgcolor\":\"#FFFFFF\",\"font\":{\"color\":\"#666666\"}},\"paper_bgcolor\":\"#FFFFFF\",\"plot_bgcolor\":\"#E5E5E5\",\"template\":{\"data\":{\"barpolar\":[{\"marker\":{\"line\":{\"color\":\"#E5ECF6\",\"width\":0.5},\"pattern\":{\"fillmode\":\"overlay\",\"size\":10,\"solidity\":0.2}},\"type\":\"barpolar\"}],\"bar\":[{\"error_x\":{\"color\":\"#2a3f5f\"},\"error_y\":{\"color\":\"#2a3f5f\"},\"marker\":{\"line\":{\"color\":\"#E5ECF6\",\"width\":0.5},\"pattern\":{\"fillmode\":\"overlay\",\"size\":10,\"solidity\":0.2}},\"type\":\"bar\"}],\"carpet\":[{\"aaxis\":{\"endlinecolor\":\"#2a3f5f\",\"gridcolor\":\"white\",\"linecolor\":\"white\",\"minorgridcolor\":\"white\",\"startlinecolor\":\"#2a3f5f\"},\"baxis\":{\"endlinecolor\":\"#2a3f5f\",\"gridcolor\":\"white\",\"linecolor\":\"white\",\"minorgridcolor\":\"white\",\"startlinecolor\":\"#2a3f5f\"},\"type\":\"carpet\"}],\"choropleth\":[{\"colorbar\":{\"outlinewidth\":0,\"ticks\":\"\"},\"type\":\"choropleth\"}],\"contourcarpet\":[{\"colorbar\":{\"outlinewidth\":0,\"ticks\":\"\"},\"type\":\"contourcarpet\"}],\"contour\":[{\"colorbar\":{\"outlinewidth\":0,\"ticks\":\"\"},\"colorscale\":[[0.0,\"#0d0887\"],[0.1111111111111111,\"#46039f\"],[0.2222222222222222,\"#7201a8\"],[0.3333333333333333,\"#9c179e\"],[0.4444444444444444,\"#bd3786\"],[0.5555555555555556,\"#d8576b\"],[0.6666666666666666,\"#ed7953\"],[0.7777777777777778,\"#fb9f3a\"],[0.8888888888888888,\"#fdca26\"],[1.0,\"#f0f921\"]],\"type\":\"contour\"}],\"heatmapgl\":[{\"colorbar\":{\"outlinewidth\":0,\"ticks\":\"\"},\"colorscale\":[[0.0,\"#0d0887\"],[0.1111111111111111,\"#46039f\"],[0.2222222222222222,\"#7201a8\"],[0.3333333333333333,\"#9c179e\"],[0.4444444444444444,\"#bd3786\"],[0.5555555555555556,\"#d8576b\"],[0.6666666666666666,\"#ed7953\"],[0.7777777777777778,\"#fb9f3a\"],[0.8888888888888888,\"#fdca26\"],[1.0,\"#f0f921\"]],\"type\":\"heatmapgl\"}],\"heatmap\":[{\"colorbar\":{\"outlinewidth\":0,\"ticks\":\"\"},\"colorscale\":[[0.0,\"#0d0887\"],[0.1111111111111111,\"#46039f\"],[0.2222222222222222,\"#7201a8\"],[0.3333333333333333,\"#9c179e\"],[0.4444444444444444,\"#bd3786\"],[0.5555555555555556,\"#d8576b\"],[0.6666666666666666,\"#ed7953\"],[0.7777777777777778,\"#fb9f3a\"],[0.8888888888888888,\"#fdca26\"],[1.0,\"#f0f921\"]],\"type\":\"heatmap\"}],\"histogram2dcontour\":[{\"colorbar\":{\"outlinewidth\":0,\"ticks\":\"\"},\"colorscale\":[[0.0,\"#0d0887\"],[0.1111111111111111,\"#46039f\"],[0.2222222222222222,\"#7201a8\"],[0.3333333333333333,\"#9c179e\"],[0.4444444444444444,\"#bd3786\"],[0.5555555555555556,\"#d8576b\"],[0.6666666666666666,\"#ed7953\"],[0.7777777777777778,\"#fb9f3a\"],[0.8888888888888888,\"#fdca26\"],[1.0,\"#f0f921\"]],\"type\":\"histogram2dcontour\"}],\"histogram2d\":[{\"colorbar\":{\"outlinewidth\":0,\"ticks\":\"\"},\"colorscale\":[[0.0,\"#0d0887\"],[0.1111111111111111,\"#46039f\"],[0.2222222222222222,\"#7201a8\"],[0.3333333333333333,\"#9c179e\"],[0.4444444444444444,\"#bd3786\"],[0.5555555555555556,\"#d8576b\"],[0.6666666666666666,\"#ed7953\"],[0.7777777777777778,\"#fb9f3a\"],[0.8888888888888888,\"#fdca26\"],[1.0,\"#f0f921\"]],\"type\":\"histogram2d\"}],\"histogram\":[{\"marker\":{\"pattern\":{\"fillmode\":\"overlay\",\"size\":10,\"solidity\":0.2}},\"type\":\"histogram\"}],\"mesh3d\":[{\"colorbar\":{\"outlinewidth\":0,\"ticks\":\"\"},\"type\":\"mesh3d\"}],\"parcoords\":[{\"line\":{\"colorbar\":{\"outlinewidth\":0,\"ticks\":\"\"}},\"type\":\"parcoords\"}],\"pie\":[{\"automargin\":true,\"type\":\"pie\"}],\"scatter3d\":[{\"line\":{\"colorbar\":{\"outlinewidth\":0,\"ticks\":\"\"}},\"marker\":{\"colorbar\":{\"outlinewidth\":0,\"ticks\":\"\"}},\"type\":\"scatter3d\"}],\"scattercarpet\":[{\"marker\":{\"colorbar\":{\"outlinewidth\":0,\"ticks\":\"\"}},\"type\":\"scattercarpet\"}],\"scattergeo\":[{\"marker\":{\"colorbar\":{\"outlinewidth\":0,\"ticks\":\"\"}},\"type\":\"scattergeo\"}],\"scattergl\":[{\"marker\":{\"colorbar\":{\"outlinewidth\":0,\"ticks\":\"\"}},\"type\":\"scattergl\"}],\"scattermapbox\":[{\"marker\":{\"colorbar\":{\"outlinewidth\":0,\"ticks\":\"\"}},\"type\":\"scattermapbox\"}],\"scatterpolargl\":[{\"marker\":{\"colorbar\":{\"outlinewidth\":0,\"ticks\":\"\"}},\"type\":\"scatterpolargl\"}],\"scatterpolar\":[{\"marker\":{\"colorbar\":{\"outlinewidth\":0,\"ticks\":\"\"}},\"type\":\"scatterpolar\"}],\"scatter\":[{\"fillpattern\":{\"fillmode\":\"overlay\",\"size\":10,\"solidity\":0.2},\"type\":\"scatter\"}],\"scatterternary\":[{\"marker\":{\"colorbar\":{\"outlinewidth\":0,\"ticks\":\"\"}},\"type\":\"scatterternary\"}],\"surface\":[{\"colorbar\":{\"outlinewidth\":0,\"ticks\":\"\"},\"colorscale\":[[0.0,\"#0d0887\"],[0.1111111111111111,\"#46039f\"],[0.2222222222222222,\"#7201a8\"],[0.3333333333333333,\"#9c179e\"],[0.4444444444444444,\"#bd3786\"],[0.5555555555555556,\"#d8576b\"],[0.6666666666666666,\"#ed7953\"],[0.7777777777777778,\"#fb9f3a\"],[0.8888888888888888,\"#fdca26\"],[1.0,\"#f0f921\"]],\"type\":\"surface\"}],\"table\":[{\"cells\":{\"fill\":{\"color\":\"#EBF0F8\"},\"line\":{\"color\":\"white\"}},\"header\":{\"fill\":{\"color\":\"#C8D4E3\"},\"line\":{\"color\":\"white\"}},\"type\":\"table\"}]},\"layout\":{\"annotationdefaults\":{\"arrowcolor\":\"#2a3f5f\",\"arrowhead\":0,\"arrowwidth\":1},\"autotypenumbers\":\"strict\",\"coloraxis\":{\"colorbar\":{\"outlinewidth\":0,\"ticks\":\"\"}},\"colorscale\":{\"diverging\":[[0,\"#8e0152\"],[0.1,\"#c51b7d\"],[0.2,\"#de77ae\"],[0.3,\"#f1b6da\"],[0.4,\"#fde0ef\"],[0.5,\"#f7f7f7\"],[0.6,\"#e6f5d0\"],[0.7,\"#b8e186\"],[0.8,\"#7fbc41\"],[0.9,\"#4d9221\"],[1,\"#276419\"]],\"sequential\":[[0.0,\"#0d0887\"],[0.1111111111111111,\"#46039f\"],[0.2222222222222222,\"#7201a8\"],[0.3333333333333333,\"#9c179e\"],[0.4444444444444444,\"#bd3786\"],[0.5555555555555556,\"#d8576b\"],[0.6666666666666666,\"#ed7953\"],[0.7777777777777778,\"#fb9f3a\"],[0.8888888888888888,\"#fdca26\"],[1.0,\"#f0f921\"]],\"sequentialminus\":[[0.0,\"#0d0887\"],[0.1111111111111111,\"#46039f\"],[0.2222222222222222,\"#7201a8\"],[0.3333333333333333,\"#9c179e\"],[0.4444444444444444,\"#bd3786\"],[0.5555555555555556,\"#d8576b\"],[0.6666666666666666,\"#ed7953\"],[0.7777777777777778,\"#fb9f3a\"],[0.8888888888888888,\"#fdca26\"],[1.0,\"#f0f921\"]]},\"colorway\":[\"#636efa\",\"#EF553B\",\"#00cc96\",\"#ab63fa\",\"#FFA15A\",\"#19d3f3\",\"#FF6692\",\"#B6E880\",\"#FF97FF\",\"#FECB52\"],\"font\":{\"color\":\"#2a3f5f\"},\"geo\":{\"bgcolor\":\"white\",\"lakecolor\":\"white\",\"landcolor\":\"#E5ECF6\",\"showlakes\":true,\"showland\":true,\"subunitcolor\":\"white\"},\"hoverlabel\":{\"align\":\"left\"},\"hovermode\":\"closest\",\"mapbox\":{\"style\":\"light\"},\"paper_bgcolor\":\"white\",\"plot_bgcolor\":\"#E5ECF6\",\"polar\":{\"angularaxis\":{\"gridcolor\":\"white\",\"linecolor\":\"white\",\"ticks\":\"\"},\"bgcolor\":\"#E5ECF6\",\"radialaxis\":{\"gridcolor\":\"white\",\"linecolor\":\"white\",\"ticks\":\"\"}},\"scene\":{\"xaxis\":{\"backgroundcolor\":\"#E5ECF6\",\"gridcolor\":\"white\",\"gridwidth\":2,\"linecolor\":\"white\",\"showbackground\":true,\"ticks\":\"\",\"zerolinecolor\":\"white\"},\"yaxis\":{\"backgroundcolor\":\"#E5ECF6\",\"gridcolor\":\"white\",\"gridwidth\":2,\"linecolor\":\"white\",\"showbackground\":true,\"ticks\":\"\",\"zerolinecolor\":\"white\"},\"zaxis\":{\"backgroundcolor\":\"#E5ECF6\",\"gridcolor\":\"white\",\"gridwidth\":2,\"linecolor\":\"white\",\"showbackground\":true,\"ticks\":\"\",\"zerolinecolor\":\"white\"}},\"shapedefaults\":{\"line\":{\"color\":\"#2a3f5f\"}},\"ternary\":{\"aaxis\":{\"gridcolor\":\"white\",\"linecolor\":\"white\",\"ticks\":\"\"},\"baxis\":{\"gridcolor\":\"white\",\"linecolor\":\"white\",\"ticks\":\"\"},\"bgcolor\":\"#E5ECF6\",\"caxis\":{\"gridcolor\":\"white\",\"linecolor\":\"white\",\"ticks\":\"\"}},\"title\":{\"x\":0.05},\"xaxis\":{\"automargin\":true,\"gridcolor\":\"white\",\"linecolor\":\"white\",\"ticks\":\"\",\"title\":{\"standoff\":15},\"zerolinecolor\":\"white\",\"zerolinewidth\":2},\"yaxis\":{\"automargin\":true,\"gridcolor\":\"white\",\"linecolor\":\"white\",\"ticks\":\"\",\"title\":{\"standoff\":15},\"zerolinecolor\":\"white\",\"zerolinewidth\":2}}},\"title\":{\"font\":{\"color\":\"#151516\"},\"text\":\"Population (1995-2023)\"},\"xaxis\":{\"gridcolor\":\"#F6F6F6\",\"showgrid\":true,\"tickfont\":{\"color\":\"#666666\"},\"title\":{\"font\":{\"color\":\"#666666\"},\"text\":\"Years\"},\"zerolinecolor\":\"#F6F6F6\"},\"yaxis\":{\"gridcolor\":\"#F6F6F6\",\"showgrid\":true,\"tickfont\":{\"color\":\"#666666\"},\"title\":{\"font\":{\"color\":\"#666666\"},\"text\":\"Population\"},\"zerolinecolor\":\"#F6F6F6\"}},                        {\"showLink\": true, \"linkText\": \"Export to plot.ly\", \"plotlyServerURL\": \"https://plot.ly\", \"responsive\": true}                    ).then(function(){\n",
       "                            \n",
       "var gd = document.getElementById('15588a9a-38c7-41a8-b3db-8326454252fe');\n",
       "var x = new MutationObserver(function (mutations, observer) {{\n",
       "        var display = window.getComputedStyle(gd).display;\n",
       "        if (!display || display === 'none') {{\n",
       "            console.log([gd, 'removed!']);\n",
       "            Plotly.purge(gd);\n",
       "            observer.disconnect();\n",
       "        }}\n",
       "}});\n",
       "\n",
       "// Listen for the removal of the full notebook cells\n",
       "var notebookContainer = gd.closest('#notebook-container');\n",
       "if (notebookContainer) {{\n",
       "    x.observe(notebookContainer, {childList: true});\n",
       "}}\n",
       "\n",
       "// Listen for the clearing of the current output cell\n",
       "var outputEl = gd.closest('.output');\n",
       "if (outputEl) {{\n",
       "    x.observe(outputEl, {childList: true});\n",
       "}}\n",
       "\n",
       "                        })                };                });            </script>        </div>"
      ]
     },
     "metadata": {},
     "output_type": "display_data"
    }
   ],
   "source": [
    "# 199 country's population bar chart by year\n",
    "df_pivot.iplot(kind='bar', sortbars=True,theme='ggplot',xTitle='Years',yTitle='Population',title='Population (1995-2023)')"
   ]
  },
  {
   "cell_type": "code",
   "execution_count": 10,
   "id": "4434ab47",
   "metadata": {},
   "outputs": [
    {
     "data": {
      "application/vnd.plotly.v1+json": {
       "config": {
        "linkText": "Export to plot.ly",
        "plotlyServerURL": "https://plot.ly",
        "showLink": true
       },
       "data": [
        {
         "marker": {
          "color": "rgba(226, 74, 51, 0.6)",
          "line": {
           "color": "rgba(226, 74, 51, 1.0)",
           "width": 1
          }
         },
         "name": "Afghanistan",
         "orientation": "v",
         "text": "",
         "type": "bar",
         "x": [
          1955,
          1960,
          1965,
          1970,
          1975,
          1980,
          1985,
          1990,
          1995,
          2000,
          2005,
          2010,
          2015,
          2020,
          2022,
          2023
         ],
         "y": [
          "7,971,931",
          "8,622,466",
          "9,565,147",
          "10,752,971",
          "12,157,386",
          "12,486,631",
          "10,512,221",
          "10,694,796",
          "16,418,912",
          "19,542,982",
          "24,411,191",
          "28,189,672",
          "33,753,499",
          "38,972,230",
          "41,128,771",
          "42,239,854"
         ]
        },
        {
         "marker": {
          "color": "rgba(62, 111, 176, 0.6)",
          "line": {
           "color": "rgba(62, 111, 176, 1.0)",
           "width": 1
          }
         },
         "name": "Angola",
         "orientation": "v",
         "text": "",
         "type": "bar",
         "x": [
          1955,
          1960,
          1965,
          1970,
          1975,
          1980,
          1985,
          1990,
          1995,
          2000,
          2005,
          2010,
          2015,
          2020,
          2022,
          2023
         ],
         "y": [
          "4,938,118",
          "5,357,195",
          "5,736,582",
          "6,029,700",
          "7,032,713",
          "8,330,047",
          "9,970,621",
          "11,828,638",
          "13,912,253",
          "16,394,062",
          "19,450,959",
          "23,364,185",
          "28,127,721",
          "33,428,486",
          "35,588,987",
          "36,684,202"
         ]
        },
        {
         "marker": {
          "color": "rgba(132, 118, 202, 0.6)",
          "line": {
           "color": "rgba(132, 118, 202, 1.0)",
           "width": 1
          }
         },
         "name": "Algeria",
         "orientation": "v",
         "text": "",
         "type": "bar",
         "x": [
          1955,
          1960,
          1965,
          1970,
          1975,
          1980,
          1985,
          1990,
          1995,
          2000,
          2005,
          2010,
          2015,
          2020,
          2022,
          2023
         ],
         "y": [
          "10,242,288",
          "11,394,307",
          "12,381,256",
          "13,795,915",
          "15,724,692",
          "18,739,378",
          "22,132,905",
          "25,518,074",
          "28,478,022",
          "30,774,621",
          "32,956,690",
          "35,856,344",
          "39,543,154",
          "43,451,666",
          "44,903,225",
          "45,606,480"
         ]
        },
        {
         "marker": {
          "color": "rgba(101, 101, 101, 0.6)",
          "line": {
           "color": "rgba(101, 101, 101, 1.0)",
           "width": 1
          }
         },
         "name": "Albania",
         "orientation": "v",
         "text": "",
         "type": "bar",
         "x": [
          1955,
          1960,
          1965,
          1970,
          1975,
          1980,
          1985,
          1990,
          1995,
          2000,
          2005,
          2010,
          2015,
          2020,
          2022,
          2023
         ],
         "y": [
          "1,453,730",
          "1,711,189",
          "2,009,789",
          "2,324,731",
          "2,650,122",
          "2,941,651",
          "3,171,725",
          "3,295,066",
          "3,284,364",
          "3,182,021",
          "3,032,634",
          "2,913,399",
          "2,882,481",
          "2,866,849",
          "2,842,321",
          "2,832,439"
         ]
        }
       ],
       "layout": {
        "legend": {
         "bgcolor": "#FFFFFF",
         "font": {
          "color": "#666666"
         }
        },
        "paper_bgcolor": "#FFFFFF",
        "plot_bgcolor": "#E5E5E5",
        "template": {
         "data": {
          "bar": [
           {
            "error_x": {
             "color": "#2a3f5f"
            },
            "error_y": {
             "color": "#2a3f5f"
            },
            "marker": {
             "line": {
              "color": "#E5ECF6",
              "width": 0.5
             },
             "pattern": {
              "fillmode": "overlay",
              "size": 10,
              "solidity": 0.2
             }
            },
            "type": "bar"
           }
          ],
          "barpolar": [
           {
            "marker": {
             "line": {
              "color": "#E5ECF6",
              "width": 0.5
             },
             "pattern": {
              "fillmode": "overlay",
              "size": 10,
              "solidity": 0.2
             }
            },
            "type": "barpolar"
           }
          ],
          "carpet": [
           {
            "aaxis": {
             "endlinecolor": "#2a3f5f",
             "gridcolor": "white",
             "linecolor": "white",
             "minorgridcolor": "white",
             "startlinecolor": "#2a3f5f"
            },
            "baxis": {
             "endlinecolor": "#2a3f5f",
             "gridcolor": "white",
             "linecolor": "white",
             "minorgridcolor": "white",
             "startlinecolor": "#2a3f5f"
            },
            "type": "carpet"
           }
          ],
          "choropleth": [
           {
            "colorbar": {
             "outlinewidth": 0,
             "ticks": ""
            },
            "type": "choropleth"
           }
          ],
          "contour": [
           {
            "colorbar": {
             "outlinewidth": 0,
             "ticks": ""
            },
            "colorscale": [
             [
              0,
              "#0d0887"
             ],
             [
              0.1111111111111111,
              "#46039f"
             ],
             [
              0.2222222222222222,
              "#7201a8"
             ],
             [
              0.3333333333333333,
              "#9c179e"
             ],
             [
              0.4444444444444444,
              "#bd3786"
             ],
             [
              0.5555555555555556,
              "#d8576b"
             ],
             [
              0.6666666666666666,
              "#ed7953"
             ],
             [
              0.7777777777777778,
              "#fb9f3a"
             ],
             [
              0.8888888888888888,
              "#fdca26"
             ],
             [
              1,
              "#f0f921"
             ]
            ],
            "type": "contour"
           }
          ],
          "contourcarpet": [
           {
            "colorbar": {
             "outlinewidth": 0,
             "ticks": ""
            },
            "type": "contourcarpet"
           }
          ],
          "heatmap": [
           {
            "colorbar": {
             "outlinewidth": 0,
             "ticks": ""
            },
            "colorscale": [
             [
              0,
              "#0d0887"
             ],
             [
              0.1111111111111111,
              "#46039f"
             ],
             [
              0.2222222222222222,
              "#7201a8"
             ],
             [
              0.3333333333333333,
              "#9c179e"
             ],
             [
              0.4444444444444444,
              "#bd3786"
             ],
             [
              0.5555555555555556,
              "#d8576b"
             ],
             [
              0.6666666666666666,
              "#ed7953"
             ],
             [
              0.7777777777777778,
              "#fb9f3a"
             ],
             [
              0.8888888888888888,
              "#fdca26"
             ],
             [
              1,
              "#f0f921"
             ]
            ],
            "type": "heatmap"
           }
          ],
          "heatmapgl": [
           {
            "colorbar": {
             "outlinewidth": 0,
             "ticks": ""
            },
            "colorscale": [
             [
              0,
              "#0d0887"
             ],
             [
              0.1111111111111111,
              "#46039f"
             ],
             [
              0.2222222222222222,
              "#7201a8"
             ],
             [
              0.3333333333333333,
              "#9c179e"
             ],
             [
              0.4444444444444444,
              "#bd3786"
             ],
             [
              0.5555555555555556,
              "#d8576b"
             ],
             [
              0.6666666666666666,
              "#ed7953"
             ],
             [
              0.7777777777777778,
              "#fb9f3a"
             ],
             [
              0.8888888888888888,
              "#fdca26"
             ],
             [
              1,
              "#f0f921"
             ]
            ],
            "type": "heatmapgl"
           }
          ],
          "histogram": [
           {
            "marker": {
             "pattern": {
              "fillmode": "overlay",
              "size": 10,
              "solidity": 0.2
             }
            },
            "type": "histogram"
           }
          ],
          "histogram2d": [
           {
            "colorbar": {
             "outlinewidth": 0,
             "ticks": ""
            },
            "colorscale": [
             [
              0,
              "#0d0887"
             ],
             [
              0.1111111111111111,
              "#46039f"
             ],
             [
              0.2222222222222222,
              "#7201a8"
             ],
             [
              0.3333333333333333,
              "#9c179e"
             ],
             [
              0.4444444444444444,
              "#bd3786"
             ],
             [
              0.5555555555555556,
              "#d8576b"
             ],
             [
              0.6666666666666666,
              "#ed7953"
             ],
             [
              0.7777777777777778,
              "#fb9f3a"
             ],
             [
              0.8888888888888888,
              "#fdca26"
             ],
             [
              1,
              "#f0f921"
             ]
            ],
            "type": "histogram2d"
           }
          ],
          "histogram2dcontour": [
           {
            "colorbar": {
             "outlinewidth": 0,
             "ticks": ""
            },
            "colorscale": [
             [
              0,
              "#0d0887"
             ],
             [
              0.1111111111111111,
              "#46039f"
             ],
             [
              0.2222222222222222,
              "#7201a8"
             ],
             [
              0.3333333333333333,
              "#9c179e"
             ],
             [
              0.4444444444444444,
              "#bd3786"
             ],
             [
              0.5555555555555556,
              "#d8576b"
             ],
             [
              0.6666666666666666,
              "#ed7953"
             ],
             [
              0.7777777777777778,
              "#fb9f3a"
             ],
             [
              0.8888888888888888,
              "#fdca26"
             ],
             [
              1,
              "#f0f921"
             ]
            ],
            "type": "histogram2dcontour"
           }
          ],
          "mesh3d": [
           {
            "colorbar": {
             "outlinewidth": 0,
             "ticks": ""
            },
            "type": "mesh3d"
           }
          ],
          "parcoords": [
           {
            "line": {
             "colorbar": {
              "outlinewidth": 0,
              "ticks": ""
             }
            },
            "type": "parcoords"
           }
          ],
          "pie": [
           {
            "automargin": true,
            "type": "pie"
           }
          ],
          "scatter": [
           {
            "fillpattern": {
             "fillmode": "overlay",
             "size": 10,
             "solidity": 0.2
            },
            "type": "scatter"
           }
          ],
          "scatter3d": [
           {
            "line": {
             "colorbar": {
              "outlinewidth": 0,
              "ticks": ""
             }
            },
            "marker": {
             "colorbar": {
              "outlinewidth": 0,
              "ticks": ""
             }
            },
            "type": "scatter3d"
           }
          ],
          "scattercarpet": [
           {
            "marker": {
             "colorbar": {
              "outlinewidth": 0,
              "ticks": ""
             }
            },
            "type": "scattercarpet"
           }
          ],
          "scattergeo": [
           {
            "marker": {
             "colorbar": {
              "outlinewidth": 0,
              "ticks": ""
             }
            },
            "type": "scattergeo"
           }
          ],
          "scattergl": [
           {
            "marker": {
             "colorbar": {
              "outlinewidth": 0,
              "ticks": ""
             }
            },
            "type": "scattergl"
           }
          ],
          "scattermapbox": [
           {
            "marker": {
             "colorbar": {
              "outlinewidth": 0,
              "ticks": ""
             }
            },
            "type": "scattermapbox"
           }
          ],
          "scatterpolar": [
           {
            "marker": {
             "colorbar": {
              "outlinewidth": 0,
              "ticks": ""
             }
            },
            "type": "scatterpolar"
           }
          ],
          "scatterpolargl": [
           {
            "marker": {
             "colorbar": {
              "outlinewidth": 0,
              "ticks": ""
             }
            },
            "type": "scatterpolargl"
           }
          ],
          "scatterternary": [
           {
            "marker": {
             "colorbar": {
              "outlinewidth": 0,
              "ticks": ""
             }
            },
            "type": "scatterternary"
           }
          ],
          "surface": [
           {
            "colorbar": {
             "outlinewidth": 0,
             "ticks": ""
            },
            "colorscale": [
             [
              0,
              "#0d0887"
             ],
             [
              0.1111111111111111,
              "#46039f"
             ],
             [
              0.2222222222222222,
              "#7201a8"
             ],
             [
              0.3333333333333333,
              "#9c179e"
             ],
             [
              0.4444444444444444,
              "#bd3786"
             ],
             [
              0.5555555555555556,
              "#d8576b"
             ],
             [
              0.6666666666666666,
              "#ed7953"
             ],
             [
              0.7777777777777778,
              "#fb9f3a"
             ],
             [
              0.8888888888888888,
              "#fdca26"
             ],
             [
              1,
              "#f0f921"
             ]
            ],
            "type": "surface"
           }
          ],
          "table": [
           {
            "cells": {
             "fill": {
              "color": "#EBF0F8"
             },
             "line": {
              "color": "white"
             }
            },
            "header": {
             "fill": {
              "color": "#C8D4E3"
             },
             "line": {
              "color": "white"
             }
            },
            "type": "table"
           }
          ]
         },
         "layout": {
          "annotationdefaults": {
           "arrowcolor": "#2a3f5f",
           "arrowhead": 0,
           "arrowwidth": 1
          },
          "autotypenumbers": "strict",
          "coloraxis": {
           "colorbar": {
            "outlinewidth": 0,
            "ticks": ""
           }
          },
          "colorscale": {
           "diverging": [
            [
             0,
             "#8e0152"
            ],
            [
             0.1,
             "#c51b7d"
            ],
            [
             0.2,
             "#de77ae"
            ],
            [
             0.3,
             "#f1b6da"
            ],
            [
             0.4,
             "#fde0ef"
            ],
            [
             0.5,
             "#f7f7f7"
            ],
            [
             0.6,
             "#e6f5d0"
            ],
            [
             0.7,
             "#b8e186"
            ],
            [
             0.8,
             "#7fbc41"
            ],
            [
             0.9,
             "#4d9221"
            ],
            [
             1,
             "#276419"
            ]
           ],
           "sequential": [
            [
             0,
             "#0d0887"
            ],
            [
             0.1111111111111111,
             "#46039f"
            ],
            [
             0.2222222222222222,
             "#7201a8"
            ],
            [
             0.3333333333333333,
             "#9c179e"
            ],
            [
             0.4444444444444444,
             "#bd3786"
            ],
            [
             0.5555555555555556,
             "#d8576b"
            ],
            [
             0.6666666666666666,
             "#ed7953"
            ],
            [
             0.7777777777777778,
             "#fb9f3a"
            ],
            [
             0.8888888888888888,
             "#fdca26"
            ],
            [
             1,
             "#f0f921"
            ]
           ],
           "sequentialminus": [
            [
             0,
             "#0d0887"
            ],
            [
             0.1111111111111111,
             "#46039f"
            ],
            [
             0.2222222222222222,
             "#7201a8"
            ],
            [
             0.3333333333333333,
             "#9c179e"
            ],
            [
             0.4444444444444444,
             "#bd3786"
            ],
            [
             0.5555555555555556,
             "#d8576b"
            ],
            [
             0.6666666666666666,
             "#ed7953"
            ],
            [
             0.7777777777777778,
             "#fb9f3a"
            ],
            [
             0.8888888888888888,
             "#fdca26"
            ],
            [
             1,
             "#f0f921"
            ]
           ]
          },
          "colorway": [
           "#636efa",
           "#EF553B",
           "#00cc96",
           "#ab63fa",
           "#FFA15A",
           "#19d3f3",
           "#FF6692",
           "#B6E880",
           "#FF97FF",
           "#FECB52"
          ],
          "font": {
           "color": "#2a3f5f"
          },
          "geo": {
           "bgcolor": "white",
           "lakecolor": "white",
           "landcolor": "#E5ECF6",
           "showlakes": true,
           "showland": true,
           "subunitcolor": "white"
          },
          "hoverlabel": {
           "align": "left"
          },
          "hovermode": "closest",
          "mapbox": {
           "style": "light"
          },
          "paper_bgcolor": "white",
          "plot_bgcolor": "#E5ECF6",
          "polar": {
           "angularaxis": {
            "gridcolor": "white",
            "linecolor": "white",
            "ticks": ""
           },
           "bgcolor": "#E5ECF6",
           "radialaxis": {
            "gridcolor": "white",
            "linecolor": "white",
            "ticks": ""
           }
          },
          "scene": {
           "xaxis": {
            "backgroundcolor": "#E5ECF6",
            "gridcolor": "white",
            "gridwidth": 2,
            "linecolor": "white",
            "showbackground": true,
            "ticks": "",
            "zerolinecolor": "white"
           },
           "yaxis": {
            "backgroundcolor": "#E5ECF6",
            "gridcolor": "white",
            "gridwidth": 2,
            "linecolor": "white",
            "showbackground": true,
            "ticks": "",
            "zerolinecolor": "white"
           },
           "zaxis": {
            "backgroundcolor": "#E5ECF6",
            "gridcolor": "white",
            "gridwidth": 2,
            "linecolor": "white",
            "showbackground": true,
            "ticks": "",
            "zerolinecolor": "white"
           }
          },
          "shapedefaults": {
           "line": {
            "color": "#2a3f5f"
           }
          },
          "ternary": {
           "aaxis": {
            "gridcolor": "white",
            "linecolor": "white",
            "ticks": ""
           },
           "baxis": {
            "gridcolor": "white",
            "linecolor": "white",
            "ticks": ""
           },
           "bgcolor": "#E5ECF6",
           "caxis": {
            "gridcolor": "white",
            "linecolor": "white",
            "ticks": ""
           }
          },
          "title": {
           "x": 0.05
          },
          "xaxis": {
           "automargin": true,
           "gridcolor": "white",
           "linecolor": "white",
           "ticks": "",
           "title": {
            "standoff": 15
           },
           "zerolinecolor": "white",
           "zerolinewidth": 2
          },
          "yaxis": {
           "automargin": true,
           "gridcolor": "white",
           "linecolor": "white",
           "ticks": "",
           "title": {
            "standoff": 15
           },
           "zerolinecolor": "white",
           "zerolinewidth": 2
          }
         }
        },
        "title": {
         "font": {
          "color": "#151516"
         },
         "text": "Population (1995-2023)"
        },
        "xaxis": {
         "gridcolor": "#F6F6F6",
         "showgrid": true,
         "tickfont": {
          "color": "#666666"
         },
         "title": {
          "font": {
           "color": "#666666"
          },
          "text": "Years"
         },
         "zerolinecolor": "#F6F6F6"
        },
        "yaxis": {
         "gridcolor": "#F6F6F6",
         "showgrid": true,
         "tickfont": {
          "color": "#666666"
         },
         "title": {
          "font": {
           "color": "#666666"
          },
          "text": "Population"
         },
         "zerolinecolor": "#F6F6F6"
        }
       }
      },
      "text/html": [
       "<div>                            <div id=\"a6edfac3-d85b-4d61-8b03-ad4afa1570ec\" class=\"plotly-graph-div\" style=\"height:525px; width:100%;\"></div>            <script type=\"text/javascript\">                require([\"plotly\"], function(Plotly) {                    window.PLOTLYENV=window.PLOTLYENV || {};\n",
       "                    window.PLOTLYENV.BASE_URL='https://plot.ly';                                    if (document.getElementById(\"a6edfac3-d85b-4d61-8b03-ad4afa1570ec\")) {                    Plotly.newPlot(                        \"a6edfac3-d85b-4d61-8b03-ad4afa1570ec\",                        [{\"marker\":{\"color\":\"rgba(226, 74, 51, 0.6)\",\"line\":{\"color\":\"rgba(226, 74, 51, 1.0)\",\"width\":1}},\"name\":\"Afghanistan\",\"orientation\":\"v\",\"text\":\"\",\"x\":[1955,1960,1965,1970,1975,1980,1985,1990,1995,2000,2005,2010,2015,2020,2022,2023],\"y\":[\"7,971,931\",\"8,622,466\",\"9,565,147\",\"10,752,971\",\"12,157,386\",\"12,486,631\",\"10,512,221\",\"10,694,796\",\"16,418,912\",\"19,542,982\",\"24,411,191\",\"28,189,672\",\"33,753,499\",\"38,972,230\",\"41,128,771\",\"42,239,854\"],\"type\":\"bar\"},{\"marker\":{\"color\":\"rgba(62, 111, 176, 0.6)\",\"line\":{\"color\":\"rgba(62, 111, 176, 1.0)\",\"width\":1}},\"name\":\"Angola\",\"orientation\":\"v\",\"text\":\"\",\"x\":[1955,1960,1965,1970,1975,1980,1985,1990,1995,2000,2005,2010,2015,2020,2022,2023],\"y\":[\"4,938,118\",\"5,357,195\",\"5,736,582\",\"6,029,700\",\"7,032,713\",\"8,330,047\",\"9,970,621\",\"11,828,638\",\"13,912,253\",\"16,394,062\",\"19,450,959\",\"23,364,185\",\"28,127,721\",\"33,428,486\",\"35,588,987\",\"36,684,202\"],\"type\":\"bar\"},{\"marker\":{\"color\":\"rgba(132, 118, 202, 0.6)\",\"line\":{\"color\":\"rgba(132, 118, 202, 1.0)\",\"width\":1}},\"name\":\"Algeria\",\"orientation\":\"v\",\"text\":\"\",\"x\":[1955,1960,1965,1970,1975,1980,1985,1990,1995,2000,2005,2010,2015,2020,2022,2023],\"y\":[\"10,242,288\",\"11,394,307\",\"12,381,256\",\"13,795,915\",\"15,724,692\",\"18,739,378\",\"22,132,905\",\"25,518,074\",\"28,478,022\",\"30,774,621\",\"32,956,690\",\"35,856,344\",\"39,543,154\",\"43,451,666\",\"44,903,225\",\"45,606,480\"],\"type\":\"bar\"},{\"marker\":{\"color\":\"rgba(101, 101, 101, 0.6)\",\"line\":{\"color\":\"rgba(101, 101, 101, 1.0)\",\"width\":1}},\"name\":\"Albania\",\"orientation\":\"v\",\"text\":\"\",\"x\":[1955,1960,1965,1970,1975,1980,1985,1990,1995,2000,2005,2010,2015,2020,2022,2023],\"y\":[\"1,453,730\",\"1,711,189\",\"2,009,789\",\"2,324,731\",\"2,650,122\",\"2,941,651\",\"3,171,725\",\"3,295,066\",\"3,284,364\",\"3,182,021\",\"3,032,634\",\"2,913,399\",\"2,882,481\",\"2,866,849\",\"2,842,321\",\"2,832,439\"],\"type\":\"bar\"}],                        {\"legend\":{\"bgcolor\":\"#FFFFFF\",\"font\":{\"color\":\"#666666\"}},\"paper_bgcolor\":\"#FFFFFF\",\"plot_bgcolor\":\"#E5E5E5\",\"template\":{\"data\":{\"barpolar\":[{\"marker\":{\"line\":{\"color\":\"#E5ECF6\",\"width\":0.5},\"pattern\":{\"fillmode\":\"overlay\",\"size\":10,\"solidity\":0.2}},\"type\":\"barpolar\"}],\"bar\":[{\"error_x\":{\"color\":\"#2a3f5f\"},\"error_y\":{\"color\":\"#2a3f5f\"},\"marker\":{\"line\":{\"color\":\"#E5ECF6\",\"width\":0.5},\"pattern\":{\"fillmode\":\"overlay\",\"size\":10,\"solidity\":0.2}},\"type\":\"bar\"}],\"carpet\":[{\"aaxis\":{\"endlinecolor\":\"#2a3f5f\",\"gridcolor\":\"white\",\"linecolor\":\"white\",\"minorgridcolor\":\"white\",\"startlinecolor\":\"#2a3f5f\"},\"baxis\":{\"endlinecolor\":\"#2a3f5f\",\"gridcolor\":\"white\",\"linecolor\":\"white\",\"minorgridcolor\":\"white\",\"startlinecolor\":\"#2a3f5f\"},\"type\":\"carpet\"}],\"choropleth\":[{\"colorbar\":{\"outlinewidth\":0,\"ticks\":\"\"},\"type\":\"choropleth\"}],\"contourcarpet\":[{\"colorbar\":{\"outlinewidth\":0,\"ticks\":\"\"},\"type\":\"contourcarpet\"}],\"contour\":[{\"colorbar\":{\"outlinewidth\":0,\"ticks\":\"\"},\"colorscale\":[[0.0,\"#0d0887\"],[0.1111111111111111,\"#46039f\"],[0.2222222222222222,\"#7201a8\"],[0.3333333333333333,\"#9c179e\"],[0.4444444444444444,\"#bd3786\"],[0.5555555555555556,\"#d8576b\"],[0.6666666666666666,\"#ed7953\"],[0.7777777777777778,\"#fb9f3a\"],[0.8888888888888888,\"#fdca26\"],[1.0,\"#f0f921\"]],\"type\":\"contour\"}],\"heatmapgl\":[{\"colorbar\":{\"outlinewidth\":0,\"ticks\":\"\"},\"colorscale\":[[0.0,\"#0d0887\"],[0.1111111111111111,\"#46039f\"],[0.2222222222222222,\"#7201a8\"],[0.3333333333333333,\"#9c179e\"],[0.4444444444444444,\"#bd3786\"],[0.5555555555555556,\"#d8576b\"],[0.6666666666666666,\"#ed7953\"],[0.7777777777777778,\"#fb9f3a\"],[0.8888888888888888,\"#fdca26\"],[1.0,\"#f0f921\"]],\"type\":\"heatmapgl\"}],\"heatmap\":[{\"colorbar\":{\"outlinewidth\":0,\"ticks\":\"\"},\"colorscale\":[[0.0,\"#0d0887\"],[0.1111111111111111,\"#46039f\"],[0.2222222222222222,\"#7201a8\"],[0.3333333333333333,\"#9c179e\"],[0.4444444444444444,\"#bd3786\"],[0.5555555555555556,\"#d8576b\"],[0.6666666666666666,\"#ed7953\"],[0.7777777777777778,\"#fb9f3a\"],[0.8888888888888888,\"#fdca26\"],[1.0,\"#f0f921\"]],\"type\":\"heatmap\"}],\"histogram2dcontour\":[{\"colorbar\":{\"outlinewidth\":0,\"ticks\":\"\"},\"colorscale\":[[0.0,\"#0d0887\"],[0.1111111111111111,\"#46039f\"],[0.2222222222222222,\"#7201a8\"],[0.3333333333333333,\"#9c179e\"],[0.4444444444444444,\"#bd3786\"],[0.5555555555555556,\"#d8576b\"],[0.6666666666666666,\"#ed7953\"],[0.7777777777777778,\"#fb9f3a\"],[0.8888888888888888,\"#fdca26\"],[1.0,\"#f0f921\"]],\"type\":\"histogram2dcontour\"}],\"histogram2d\":[{\"colorbar\":{\"outlinewidth\":0,\"ticks\":\"\"},\"colorscale\":[[0.0,\"#0d0887\"],[0.1111111111111111,\"#46039f\"],[0.2222222222222222,\"#7201a8\"],[0.3333333333333333,\"#9c179e\"],[0.4444444444444444,\"#bd3786\"],[0.5555555555555556,\"#d8576b\"],[0.6666666666666666,\"#ed7953\"],[0.7777777777777778,\"#fb9f3a\"],[0.8888888888888888,\"#fdca26\"],[1.0,\"#f0f921\"]],\"type\":\"histogram2d\"}],\"histogram\":[{\"marker\":{\"pattern\":{\"fillmode\":\"overlay\",\"size\":10,\"solidity\":0.2}},\"type\":\"histogram\"}],\"mesh3d\":[{\"colorbar\":{\"outlinewidth\":0,\"ticks\":\"\"},\"type\":\"mesh3d\"}],\"parcoords\":[{\"line\":{\"colorbar\":{\"outlinewidth\":0,\"ticks\":\"\"}},\"type\":\"parcoords\"}],\"pie\":[{\"automargin\":true,\"type\":\"pie\"}],\"scatter3d\":[{\"line\":{\"colorbar\":{\"outlinewidth\":0,\"ticks\":\"\"}},\"marker\":{\"colorbar\":{\"outlinewidth\":0,\"ticks\":\"\"}},\"type\":\"scatter3d\"}],\"scattercarpet\":[{\"marker\":{\"colorbar\":{\"outlinewidth\":0,\"ticks\":\"\"}},\"type\":\"scattercarpet\"}],\"scattergeo\":[{\"marker\":{\"colorbar\":{\"outlinewidth\":0,\"ticks\":\"\"}},\"type\":\"scattergeo\"}],\"scattergl\":[{\"marker\":{\"colorbar\":{\"outlinewidth\":0,\"ticks\":\"\"}},\"type\":\"scattergl\"}],\"scattermapbox\":[{\"marker\":{\"colorbar\":{\"outlinewidth\":0,\"ticks\":\"\"}},\"type\":\"scattermapbox\"}],\"scatterpolargl\":[{\"marker\":{\"colorbar\":{\"outlinewidth\":0,\"ticks\":\"\"}},\"type\":\"scatterpolargl\"}],\"scatterpolar\":[{\"marker\":{\"colorbar\":{\"outlinewidth\":0,\"ticks\":\"\"}},\"type\":\"scatterpolar\"}],\"scatter\":[{\"fillpattern\":{\"fillmode\":\"overlay\",\"size\":10,\"solidity\":0.2},\"type\":\"scatter\"}],\"scatterternary\":[{\"marker\":{\"colorbar\":{\"outlinewidth\":0,\"ticks\":\"\"}},\"type\":\"scatterternary\"}],\"surface\":[{\"colorbar\":{\"outlinewidth\":0,\"ticks\":\"\"},\"colorscale\":[[0.0,\"#0d0887\"],[0.1111111111111111,\"#46039f\"],[0.2222222222222222,\"#7201a8\"],[0.3333333333333333,\"#9c179e\"],[0.4444444444444444,\"#bd3786\"],[0.5555555555555556,\"#d8576b\"],[0.6666666666666666,\"#ed7953\"],[0.7777777777777778,\"#fb9f3a\"],[0.8888888888888888,\"#fdca26\"],[1.0,\"#f0f921\"]],\"type\":\"surface\"}],\"table\":[{\"cells\":{\"fill\":{\"color\":\"#EBF0F8\"},\"line\":{\"color\":\"white\"}},\"header\":{\"fill\":{\"color\":\"#C8D4E3\"},\"line\":{\"color\":\"white\"}},\"type\":\"table\"}]},\"layout\":{\"annotationdefaults\":{\"arrowcolor\":\"#2a3f5f\",\"arrowhead\":0,\"arrowwidth\":1},\"autotypenumbers\":\"strict\",\"coloraxis\":{\"colorbar\":{\"outlinewidth\":0,\"ticks\":\"\"}},\"colorscale\":{\"diverging\":[[0,\"#8e0152\"],[0.1,\"#c51b7d\"],[0.2,\"#de77ae\"],[0.3,\"#f1b6da\"],[0.4,\"#fde0ef\"],[0.5,\"#f7f7f7\"],[0.6,\"#e6f5d0\"],[0.7,\"#b8e186\"],[0.8,\"#7fbc41\"],[0.9,\"#4d9221\"],[1,\"#276419\"]],\"sequential\":[[0.0,\"#0d0887\"],[0.1111111111111111,\"#46039f\"],[0.2222222222222222,\"#7201a8\"],[0.3333333333333333,\"#9c179e\"],[0.4444444444444444,\"#bd3786\"],[0.5555555555555556,\"#d8576b\"],[0.6666666666666666,\"#ed7953\"],[0.7777777777777778,\"#fb9f3a\"],[0.8888888888888888,\"#fdca26\"],[1.0,\"#f0f921\"]],\"sequentialminus\":[[0.0,\"#0d0887\"],[0.1111111111111111,\"#46039f\"],[0.2222222222222222,\"#7201a8\"],[0.3333333333333333,\"#9c179e\"],[0.4444444444444444,\"#bd3786\"],[0.5555555555555556,\"#d8576b\"],[0.6666666666666666,\"#ed7953\"],[0.7777777777777778,\"#fb9f3a\"],[0.8888888888888888,\"#fdca26\"],[1.0,\"#f0f921\"]]},\"colorway\":[\"#636efa\",\"#EF553B\",\"#00cc96\",\"#ab63fa\",\"#FFA15A\",\"#19d3f3\",\"#FF6692\",\"#B6E880\",\"#FF97FF\",\"#FECB52\"],\"font\":{\"color\":\"#2a3f5f\"},\"geo\":{\"bgcolor\":\"white\",\"lakecolor\":\"white\",\"landcolor\":\"#E5ECF6\",\"showlakes\":true,\"showland\":true,\"subunitcolor\":\"white\"},\"hoverlabel\":{\"align\":\"left\"},\"hovermode\":\"closest\",\"mapbox\":{\"style\":\"light\"},\"paper_bgcolor\":\"white\",\"plot_bgcolor\":\"#E5ECF6\",\"polar\":{\"angularaxis\":{\"gridcolor\":\"white\",\"linecolor\":\"white\",\"ticks\":\"\"},\"bgcolor\":\"#E5ECF6\",\"radialaxis\":{\"gridcolor\":\"white\",\"linecolor\":\"white\",\"ticks\":\"\"}},\"scene\":{\"xaxis\":{\"backgroundcolor\":\"#E5ECF6\",\"gridcolor\":\"white\",\"gridwidth\":2,\"linecolor\":\"white\",\"showbackground\":true,\"ticks\":\"\",\"zerolinecolor\":\"white\"},\"yaxis\":{\"backgroundcolor\":\"#E5ECF6\",\"gridcolor\":\"white\",\"gridwidth\":2,\"linecolor\":\"white\",\"showbackground\":true,\"ticks\":\"\",\"zerolinecolor\":\"white\"},\"zaxis\":{\"backgroundcolor\":\"#E5ECF6\",\"gridcolor\":\"white\",\"gridwidth\":2,\"linecolor\":\"white\",\"showbackground\":true,\"ticks\":\"\",\"zerolinecolor\":\"white\"}},\"shapedefaults\":{\"line\":{\"color\":\"#2a3f5f\"}},\"ternary\":{\"aaxis\":{\"gridcolor\":\"white\",\"linecolor\":\"white\",\"ticks\":\"\"},\"baxis\":{\"gridcolor\":\"white\",\"linecolor\":\"white\",\"ticks\":\"\"},\"bgcolor\":\"#E5ECF6\",\"caxis\":{\"gridcolor\":\"white\",\"linecolor\":\"white\",\"ticks\":\"\"}},\"title\":{\"x\":0.05},\"xaxis\":{\"automargin\":true,\"gridcolor\":\"white\",\"linecolor\":\"white\",\"ticks\":\"\",\"title\":{\"standoff\":15},\"zerolinecolor\":\"white\",\"zerolinewidth\":2},\"yaxis\":{\"automargin\":true,\"gridcolor\":\"white\",\"linecolor\":\"white\",\"ticks\":\"\",\"title\":{\"standoff\":15},\"zerolinecolor\":\"white\",\"zerolinewidth\":2}}},\"title\":{\"font\":{\"color\":\"#151516\"},\"text\":\"Population (1995-2023)\"},\"xaxis\":{\"gridcolor\":\"#F6F6F6\",\"showgrid\":true,\"tickfont\":{\"color\":\"#666666\"},\"title\":{\"font\":{\"color\":\"#666666\"},\"text\":\"Years\"},\"zerolinecolor\":\"#F6F6F6\"},\"yaxis\":{\"gridcolor\":\"#F6F6F6\",\"showgrid\":true,\"tickfont\":{\"color\":\"#666666\"},\"title\":{\"font\":{\"color\":\"#666666\"},\"text\":\"Population\"},\"zerolinecolor\":\"#F6F6F6\"}},                        {\"showLink\": true, \"linkText\": \"Export to plot.ly\", \"plotlyServerURL\": \"https://plot.ly\", \"responsive\": true}                    ).then(function(){\n",
       "                            \n",
       "var gd = document.getElementById('a6edfac3-d85b-4d61-8b03-ad4afa1570ec');\n",
       "var x = new MutationObserver(function (mutations, observer) {{\n",
       "        var display = window.getComputedStyle(gd).display;\n",
       "        if (!display || display === 'none') {{\n",
       "            console.log([gd, 'removed!']);\n",
       "            Plotly.purge(gd);\n",
       "            observer.disconnect();\n",
       "        }}\n",
       "}});\n",
       "\n",
       "// Listen for the removal of the full notebook cells\n",
       "var notebookContainer = gd.closest('#notebook-container');\n",
       "if (notebookContainer) {{\n",
       "    x.observe(notebookContainer, {childList: true});\n",
       "}}\n",
       "\n",
       "// Listen for the clearing of the current output cell\n",
       "var outputEl = gd.closest('.output');\n",
       "if (outputEl) {{\n",
       "    x.observe(outputEl, {childList: true});\n",
       "}}\n",
       "\n",
       "                        })                };                });            </script>        </div>"
      ]
     },
     "metadata": {},
     "output_type": "display_data"
    }
   ],
   "source": [
    "#Four country's population comparison by year\n",
    "df_pivot2 = df_pivot[['Afghanistan','Albania','Algeria','Angola']]\n",
    "df_pivot2.iplot(kind='bar', sortbars=True,theme='ggplot',xTitle='Years',yTitle='Population',title='Population (1995-2023)')\n"
   ]
  },
  {
   "cell_type": "code",
   "execution_count": 11,
   "id": "5cdb5818",
   "metadata": {},
   "outputs": [
    {
     "data": {
      "text/html": [
       "<div>\n",
       "<style scoped>\n",
       "    .dataframe tbody tr th:only-of-type {\n",
       "        vertical-align: middle;\n",
       "    }\n",
       "\n",
       "    .dataframe tbody tr th {\n",
       "        vertical-align: top;\n",
       "    }\n",
       "\n",
       "    .dataframe thead th {\n",
       "        text-align: right;\n",
       "    }\n",
       "</style>\n",
       "<table border=\"1\" class=\"dataframe\">\n",
       "  <thead>\n",
       "    <tr style=\"text-align: right;\">\n",
       "      <th>name</th>\n",
       "      <th>Afghanistan</th>\n",
       "      <th>Albania</th>\n",
       "      <th>Algeria</th>\n",
       "      <th>Angola</th>\n",
       "    </tr>\n",
       "    <tr>\n",
       "      <th>Year</th>\n",
       "      <th></th>\n",
       "      <th></th>\n",
       "      <th></th>\n",
       "      <th></th>\n",
       "    </tr>\n",
       "  </thead>\n",
       "  <tbody>\n",
       "    <tr>\n",
       "      <th>1955</th>\n",
       "      <td>7,971,931</td>\n",
       "      <td>1,453,730</td>\n",
       "      <td>10,242,288</td>\n",
       "      <td>4,938,118</td>\n",
       "    </tr>\n",
       "    <tr>\n",
       "      <th>1960</th>\n",
       "      <td>8,622,466</td>\n",
       "      <td>1,711,189</td>\n",
       "      <td>11,394,307</td>\n",
       "      <td>5,357,195</td>\n",
       "    </tr>\n",
       "  </tbody>\n",
       "</table>\n",
       "</div>"
      ],
      "text/plain": [
       "name Afghanistan    Albania     Algeria     Angola\n",
       "Year                                              \n",
       "1955   7,971,931  1,453,730  10,242,288  4,938,118\n",
       "1960   8,622,466  1,711,189  11,394,307  5,357,195"
      ]
     },
     "execution_count": 11,
     "metadata": {},
     "output_type": "execute_result"
    }
   ],
   "source": [
    "# data specified for visualization\n",
    "df_pivot3 = df_pivot2.iloc[:2, 0:5]\n",
    "df_pivot3"
   ]
  },
  {
   "cell_type": "code",
   "execution_count": 12,
   "id": "c7e1bbf8",
   "metadata": {},
   "outputs": [
    {
     "data": {
      "application/vnd.plotly.v1+json": {
       "config": {
        "linkText": "Export to plot.ly",
        "plotlyServerURL": "https://plot.ly",
        "showLink": true
       },
       "data": [
        {
         "marker": {
          "color": "rgba(226, 74, 51, 0.6)",
          "line": {
           "color": "rgba(226, 74, 51, 1.0)",
           "width": 1
          }
         },
         "name": "Afghanistan",
         "orientation": "v",
         "text": "",
         "type": "bar",
         "x": [
          1955,
          1960
         ],
         "y": [
          "7,971,931",
          "8,622,466"
         ]
        },
        {
         "marker": {
          "color": "rgba(62, 111, 176, 0.6)",
          "line": {
           "color": "rgba(62, 111, 176, 1.0)",
           "width": 1
          }
         },
         "name": "Angola",
         "orientation": "v",
         "text": "",
         "type": "bar",
         "x": [
          1955,
          1960
         ],
         "y": [
          "4,938,118",
          "5,357,195"
         ]
        },
        {
         "marker": {
          "color": "rgba(132, 118, 202, 0.6)",
          "line": {
           "color": "rgba(132, 118, 202, 1.0)",
           "width": 1
          }
         },
         "name": "Algeria",
         "orientation": "v",
         "text": "",
         "type": "bar",
         "x": [
          1955,
          1960
         ],
         "y": [
          "10,242,288",
          "11,394,307"
         ]
        },
        {
         "marker": {
          "color": "rgba(101, 101, 101, 0.6)",
          "line": {
           "color": "rgba(101, 101, 101, 1.0)",
           "width": 1
          }
         },
         "name": "Albania",
         "orientation": "v",
         "text": "",
         "type": "bar",
         "x": [
          1955,
          1960
         ],
         "y": [
          "1,453,730",
          "1,711,189"
         ]
        }
       ],
       "layout": {
        "legend": {
         "bgcolor": "#FFFFFF",
         "font": {
          "color": "#666666"
         }
        },
        "paper_bgcolor": "#FFFFFF",
        "plot_bgcolor": "#E5E5E5",
        "template": {
         "data": {
          "bar": [
           {
            "error_x": {
             "color": "#2a3f5f"
            },
            "error_y": {
             "color": "#2a3f5f"
            },
            "marker": {
             "line": {
              "color": "#E5ECF6",
              "width": 0.5
             },
             "pattern": {
              "fillmode": "overlay",
              "size": 10,
              "solidity": 0.2
             }
            },
            "type": "bar"
           }
          ],
          "barpolar": [
           {
            "marker": {
             "line": {
              "color": "#E5ECF6",
              "width": 0.5
             },
             "pattern": {
              "fillmode": "overlay",
              "size": 10,
              "solidity": 0.2
             }
            },
            "type": "barpolar"
           }
          ],
          "carpet": [
           {
            "aaxis": {
             "endlinecolor": "#2a3f5f",
             "gridcolor": "white",
             "linecolor": "white",
             "minorgridcolor": "white",
             "startlinecolor": "#2a3f5f"
            },
            "baxis": {
             "endlinecolor": "#2a3f5f",
             "gridcolor": "white",
             "linecolor": "white",
             "minorgridcolor": "white",
             "startlinecolor": "#2a3f5f"
            },
            "type": "carpet"
           }
          ],
          "choropleth": [
           {
            "colorbar": {
             "outlinewidth": 0,
             "ticks": ""
            },
            "type": "choropleth"
           }
          ],
          "contour": [
           {
            "colorbar": {
             "outlinewidth": 0,
             "ticks": ""
            },
            "colorscale": [
             [
              0,
              "#0d0887"
             ],
             [
              0.1111111111111111,
              "#46039f"
             ],
             [
              0.2222222222222222,
              "#7201a8"
             ],
             [
              0.3333333333333333,
              "#9c179e"
             ],
             [
              0.4444444444444444,
              "#bd3786"
             ],
             [
              0.5555555555555556,
              "#d8576b"
             ],
             [
              0.6666666666666666,
              "#ed7953"
             ],
             [
              0.7777777777777778,
              "#fb9f3a"
             ],
             [
              0.8888888888888888,
              "#fdca26"
             ],
             [
              1,
              "#f0f921"
             ]
            ],
            "type": "contour"
           }
          ],
          "contourcarpet": [
           {
            "colorbar": {
             "outlinewidth": 0,
             "ticks": ""
            },
            "type": "contourcarpet"
           }
          ],
          "heatmap": [
           {
            "colorbar": {
             "outlinewidth": 0,
             "ticks": ""
            },
            "colorscale": [
             [
              0,
              "#0d0887"
             ],
             [
              0.1111111111111111,
              "#46039f"
             ],
             [
              0.2222222222222222,
              "#7201a8"
             ],
             [
              0.3333333333333333,
              "#9c179e"
             ],
             [
              0.4444444444444444,
              "#bd3786"
             ],
             [
              0.5555555555555556,
              "#d8576b"
             ],
             [
              0.6666666666666666,
              "#ed7953"
             ],
             [
              0.7777777777777778,
              "#fb9f3a"
             ],
             [
              0.8888888888888888,
              "#fdca26"
             ],
             [
              1,
              "#f0f921"
             ]
            ],
            "type": "heatmap"
           }
          ],
          "heatmapgl": [
           {
            "colorbar": {
             "outlinewidth": 0,
             "ticks": ""
            },
            "colorscale": [
             [
              0,
              "#0d0887"
             ],
             [
              0.1111111111111111,
              "#46039f"
             ],
             [
              0.2222222222222222,
              "#7201a8"
             ],
             [
              0.3333333333333333,
              "#9c179e"
             ],
             [
              0.4444444444444444,
              "#bd3786"
             ],
             [
              0.5555555555555556,
              "#d8576b"
             ],
             [
              0.6666666666666666,
              "#ed7953"
             ],
             [
              0.7777777777777778,
              "#fb9f3a"
             ],
             [
              0.8888888888888888,
              "#fdca26"
             ],
             [
              1,
              "#f0f921"
             ]
            ],
            "type": "heatmapgl"
           }
          ],
          "histogram": [
           {
            "marker": {
             "pattern": {
              "fillmode": "overlay",
              "size": 10,
              "solidity": 0.2
             }
            },
            "type": "histogram"
           }
          ],
          "histogram2d": [
           {
            "colorbar": {
             "outlinewidth": 0,
             "ticks": ""
            },
            "colorscale": [
             [
              0,
              "#0d0887"
             ],
             [
              0.1111111111111111,
              "#46039f"
             ],
             [
              0.2222222222222222,
              "#7201a8"
             ],
             [
              0.3333333333333333,
              "#9c179e"
             ],
             [
              0.4444444444444444,
              "#bd3786"
             ],
             [
              0.5555555555555556,
              "#d8576b"
             ],
             [
              0.6666666666666666,
              "#ed7953"
             ],
             [
              0.7777777777777778,
              "#fb9f3a"
             ],
             [
              0.8888888888888888,
              "#fdca26"
             ],
             [
              1,
              "#f0f921"
             ]
            ],
            "type": "histogram2d"
           }
          ],
          "histogram2dcontour": [
           {
            "colorbar": {
             "outlinewidth": 0,
             "ticks": ""
            },
            "colorscale": [
             [
              0,
              "#0d0887"
             ],
             [
              0.1111111111111111,
              "#46039f"
             ],
             [
              0.2222222222222222,
              "#7201a8"
             ],
             [
              0.3333333333333333,
              "#9c179e"
             ],
             [
              0.4444444444444444,
              "#bd3786"
             ],
             [
              0.5555555555555556,
              "#d8576b"
             ],
             [
              0.6666666666666666,
              "#ed7953"
             ],
             [
              0.7777777777777778,
              "#fb9f3a"
             ],
             [
              0.8888888888888888,
              "#fdca26"
             ],
             [
              1,
              "#f0f921"
             ]
            ],
            "type": "histogram2dcontour"
           }
          ],
          "mesh3d": [
           {
            "colorbar": {
             "outlinewidth": 0,
             "ticks": ""
            },
            "type": "mesh3d"
           }
          ],
          "parcoords": [
           {
            "line": {
             "colorbar": {
              "outlinewidth": 0,
              "ticks": ""
             }
            },
            "type": "parcoords"
           }
          ],
          "pie": [
           {
            "automargin": true,
            "type": "pie"
           }
          ],
          "scatter": [
           {
            "fillpattern": {
             "fillmode": "overlay",
             "size": 10,
             "solidity": 0.2
            },
            "type": "scatter"
           }
          ],
          "scatter3d": [
           {
            "line": {
             "colorbar": {
              "outlinewidth": 0,
              "ticks": ""
             }
            },
            "marker": {
             "colorbar": {
              "outlinewidth": 0,
              "ticks": ""
             }
            },
            "type": "scatter3d"
           }
          ],
          "scattercarpet": [
           {
            "marker": {
             "colorbar": {
              "outlinewidth": 0,
              "ticks": ""
             }
            },
            "type": "scattercarpet"
           }
          ],
          "scattergeo": [
           {
            "marker": {
             "colorbar": {
              "outlinewidth": 0,
              "ticks": ""
             }
            },
            "type": "scattergeo"
           }
          ],
          "scattergl": [
           {
            "marker": {
             "colorbar": {
              "outlinewidth": 0,
              "ticks": ""
             }
            },
            "type": "scattergl"
           }
          ],
          "scattermapbox": [
           {
            "marker": {
             "colorbar": {
              "outlinewidth": 0,
              "ticks": ""
             }
            },
            "type": "scattermapbox"
           }
          ],
          "scatterpolar": [
           {
            "marker": {
             "colorbar": {
              "outlinewidth": 0,
              "ticks": ""
             }
            },
            "type": "scatterpolar"
           }
          ],
          "scatterpolargl": [
           {
            "marker": {
             "colorbar": {
              "outlinewidth": 0,
              "ticks": ""
             }
            },
            "type": "scatterpolargl"
           }
          ],
          "scatterternary": [
           {
            "marker": {
             "colorbar": {
              "outlinewidth": 0,
              "ticks": ""
             }
            },
            "type": "scatterternary"
           }
          ],
          "surface": [
           {
            "colorbar": {
             "outlinewidth": 0,
             "ticks": ""
            },
            "colorscale": [
             [
              0,
              "#0d0887"
             ],
             [
              0.1111111111111111,
              "#46039f"
             ],
             [
              0.2222222222222222,
              "#7201a8"
             ],
             [
              0.3333333333333333,
              "#9c179e"
             ],
             [
              0.4444444444444444,
              "#bd3786"
             ],
             [
              0.5555555555555556,
              "#d8576b"
             ],
             [
              0.6666666666666666,
              "#ed7953"
             ],
             [
              0.7777777777777778,
              "#fb9f3a"
             ],
             [
              0.8888888888888888,
              "#fdca26"
             ],
             [
              1,
              "#f0f921"
             ]
            ],
            "type": "surface"
           }
          ],
          "table": [
           {
            "cells": {
             "fill": {
              "color": "#EBF0F8"
             },
             "line": {
              "color": "white"
             }
            },
            "header": {
             "fill": {
              "color": "#C8D4E3"
             },
             "line": {
              "color": "white"
             }
            },
            "type": "table"
           }
          ]
         },
         "layout": {
          "annotationdefaults": {
           "arrowcolor": "#2a3f5f",
           "arrowhead": 0,
           "arrowwidth": 1
          },
          "autotypenumbers": "strict",
          "coloraxis": {
           "colorbar": {
            "outlinewidth": 0,
            "ticks": ""
           }
          },
          "colorscale": {
           "diverging": [
            [
             0,
             "#8e0152"
            ],
            [
             0.1,
             "#c51b7d"
            ],
            [
             0.2,
             "#de77ae"
            ],
            [
             0.3,
             "#f1b6da"
            ],
            [
             0.4,
             "#fde0ef"
            ],
            [
             0.5,
             "#f7f7f7"
            ],
            [
             0.6,
             "#e6f5d0"
            ],
            [
             0.7,
             "#b8e186"
            ],
            [
             0.8,
             "#7fbc41"
            ],
            [
             0.9,
             "#4d9221"
            ],
            [
             1,
             "#276419"
            ]
           ],
           "sequential": [
            [
             0,
             "#0d0887"
            ],
            [
             0.1111111111111111,
             "#46039f"
            ],
            [
             0.2222222222222222,
             "#7201a8"
            ],
            [
             0.3333333333333333,
             "#9c179e"
            ],
            [
             0.4444444444444444,
             "#bd3786"
            ],
            [
             0.5555555555555556,
             "#d8576b"
            ],
            [
             0.6666666666666666,
             "#ed7953"
            ],
            [
             0.7777777777777778,
             "#fb9f3a"
            ],
            [
             0.8888888888888888,
             "#fdca26"
            ],
            [
             1,
             "#f0f921"
            ]
           ],
           "sequentialminus": [
            [
             0,
             "#0d0887"
            ],
            [
             0.1111111111111111,
             "#46039f"
            ],
            [
             0.2222222222222222,
             "#7201a8"
            ],
            [
             0.3333333333333333,
             "#9c179e"
            ],
            [
             0.4444444444444444,
             "#bd3786"
            ],
            [
             0.5555555555555556,
             "#d8576b"
            ],
            [
             0.6666666666666666,
             "#ed7953"
            ],
            [
             0.7777777777777778,
             "#fb9f3a"
            ],
            [
             0.8888888888888888,
             "#fdca26"
            ],
            [
             1,
             "#f0f921"
            ]
           ]
          },
          "colorway": [
           "#636efa",
           "#EF553B",
           "#00cc96",
           "#ab63fa",
           "#FFA15A",
           "#19d3f3",
           "#FF6692",
           "#B6E880",
           "#FF97FF",
           "#FECB52"
          ],
          "font": {
           "color": "#2a3f5f"
          },
          "geo": {
           "bgcolor": "white",
           "lakecolor": "white",
           "landcolor": "#E5ECF6",
           "showlakes": true,
           "showland": true,
           "subunitcolor": "white"
          },
          "hoverlabel": {
           "align": "left"
          },
          "hovermode": "closest",
          "mapbox": {
           "style": "light"
          },
          "paper_bgcolor": "white",
          "plot_bgcolor": "#E5ECF6",
          "polar": {
           "angularaxis": {
            "gridcolor": "white",
            "linecolor": "white",
            "ticks": ""
           },
           "bgcolor": "#E5ECF6",
           "radialaxis": {
            "gridcolor": "white",
            "linecolor": "white",
            "ticks": ""
           }
          },
          "scene": {
           "xaxis": {
            "backgroundcolor": "#E5ECF6",
            "gridcolor": "white",
            "gridwidth": 2,
            "linecolor": "white",
            "showbackground": true,
            "ticks": "",
            "zerolinecolor": "white"
           },
           "yaxis": {
            "backgroundcolor": "#E5ECF6",
            "gridcolor": "white",
            "gridwidth": 2,
            "linecolor": "white",
            "showbackground": true,
            "ticks": "",
            "zerolinecolor": "white"
           },
           "zaxis": {
            "backgroundcolor": "#E5ECF6",
            "gridcolor": "white",
            "gridwidth": 2,
            "linecolor": "white",
            "showbackground": true,
            "ticks": "",
            "zerolinecolor": "white"
           }
          },
          "shapedefaults": {
           "line": {
            "color": "#2a3f5f"
           }
          },
          "ternary": {
           "aaxis": {
            "gridcolor": "white",
            "linecolor": "white",
            "ticks": ""
           },
           "baxis": {
            "gridcolor": "white",
            "linecolor": "white",
            "ticks": ""
           },
           "bgcolor": "#E5ECF6",
           "caxis": {
            "gridcolor": "white",
            "linecolor": "white",
            "ticks": ""
           }
          },
          "title": {
           "x": 0.05
          },
          "xaxis": {
           "automargin": true,
           "gridcolor": "white",
           "linecolor": "white",
           "ticks": "",
           "title": {
            "standoff": 15
           },
           "zerolinecolor": "white",
           "zerolinewidth": 2
          },
          "yaxis": {
           "automargin": true,
           "gridcolor": "white",
           "linecolor": "white",
           "ticks": "",
           "title": {
            "standoff": 15
           },
           "zerolinecolor": "white",
           "zerolinewidth": 2
          }
         }
        },
        "title": {
         "font": {
          "color": "#151516"
         },
         "text": "Population (1995-1960)"
        },
        "xaxis": {
         "gridcolor": "#F6F6F6",
         "showgrid": true,
         "tickfont": {
          "color": "#666666"
         },
         "title": {
          "font": {
           "color": "#666666"
          },
          "text": "Years"
         },
         "zerolinecolor": "#F6F6F6"
        },
        "yaxis": {
         "gridcolor": "#F6F6F6",
         "showgrid": true,
         "tickfont": {
          "color": "#666666"
         },
         "title": {
          "font": {
           "color": "#666666"
          },
          "text": "Population"
         },
         "zerolinecolor": "#F6F6F6"
        }
       }
      },
      "text/html": [
       "<div>                            <div id=\"9f5fe82f-fc5e-4727-b650-89c8ac482db6\" class=\"plotly-graph-div\" style=\"height:525px; width:100%;\"></div>            <script type=\"text/javascript\">                require([\"plotly\"], function(Plotly) {                    window.PLOTLYENV=window.PLOTLYENV || {};\n",
       "                    window.PLOTLYENV.BASE_URL='https://plot.ly';                                    if (document.getElementById(\"9f5fe82f-fc5e-4727-b650-89c8ac482db6\")) {                    Plotly.newPlot(                        \"9f5fe82f-fc5e-4727-b650-89c8ac482db6\",                        [{\"marker\":{\"color\":\"rgba(226, 74, 51, 0.6)\",\"line\":{\"color\":\"rgba(226, 74, 51, 1.0)\",\"width\":1}},\"name\":\"Afghanistan\",\"orientation\":\"v\",\"text\":\"\",\"x\":[1955,1960],\"y\":[\"7,971,931\",\"8,622,466\"],\"type\":\"bar\"},{\"marker\":{\"color\":\"rgba(62, 111, 176, 0.6)\",\"line\":{\"color\":\"rgba(62, 111, 176, 1.0)\",\"width\":1}},\"name\":\"Angola\",\"orientation\":\"v\",\"text\":\"\",\"x\":[1955,1960],\"y\":[\"4,938,118\",\"5,357,195\"],\"type\":\"bar\"},{\"marker\":{\"color\":\"rgba(132, 118, 202, 0.6)\",\"line\":{\"color\":\"rgba(132, 118, 202, 1.0)\",\"width\":1}},\"name\":\"Algeria\",\"orientation\":\"v\",\"text\":\"\",\"x\":[1955,1960],\"y\":[\"10,242,288\",\"11,394,307\"],\"type\":\"bar\"},{\"marker\":{\"color\":\"rgba(101, 101, 101, 0.6)\",\"line\":{\"color\":\"rgba(101, 101, 101, 1.0)\",\"width\":1}},\"name\":\"Albania\",\"orientation\":\"v\",\"text\":\"\",\"x\":[1955,1960],\"y\":[\"1,453,730\",\"1,711,189\"],\"type\":\"bar\"}],                        {\"legend\":{\"bgcolor\":\"#FFFFFF\",\"font\":{\"color\":\"#666666\"}},\"paper_bgcolor\":\"#FFFFFF\",\"plot_bgcolor\":\"#E5E5E5\",\"template\":{\"data\":{\"barpolar\":[{\"marker\":{\"line\":{\"color\":\"#E5ECF6\",\"width\":0.5},\"pattern\":{\"fillmode\":\"overlay\",\"size\":10,\"solidity\":0.2}},\"type\":\"barpolar\"}],\"bar\":[{\"error_x\":{\"color\":\"#2a3f5f\"},\"error_y\":{\"color\":\"#2a3f5f\"},\"marker\":{\"line\":{\"color\":\"#E5ECF6\",\"width\":0.5},\"pattern\":{\"fillmode\":\"overlay\",\"size\":10,\"solidity\":0.2}},\"type\":\"bar\"}],\"carpet\":[{\"aaxis\":{\"endlinecolor\":\"#2a3f5f\",\"gridcolor\":\"white\",\"linecolor\":\"white\",\"minorgridcolor\":\"white\",\"startlinecolor\":\"#2a3f5f\"},\"baxis\":{\"endlinecolor\":\"#2a3f5f\",\"gridcolor\":\"white\",\"linecolor\":\"white\",\"minorgridcolor\":\"white\",\"startlinecolor\":\"#2a3f5f\"},\"type\":\"carpet\"}],\"choropleth\":[{\"colorbar\":{\"outlinewidth\":0,\"ticks\":\"\"},\"type\":\"choropleth\"}],\"contourcarpet\":[{\"colorbar\":{\"outlinewidth\":0,\"ticks\":\"\"},\"type\":\"contourcarpet\"}],\"contour\":[{\"colorbar\":{\"outlinewidth\":0,\"ticks\":\"\"},\"colorscale\":[[0.0,\"#0d0887\"],[0.1111111111111111,\"#46039f\"],[0.2222222222222222,\"#7201a8\"],[0.3333333333333333,\"#9c179e\"],[0.4444444444444444,\"#bd3786\"],[0.5555555555555556,\"#d8576b\"],[0.6666666666666666,\"#ed7953\"],[0.7777777777777778,\"#fb9f3a\"],[0.8888888888888888,\"#fdca26\"],[1.0,\"#f0f921\"]],\"type\":\"contour\"}],\"heatmapgl\":[{\"colorbar\":{\"outlinewidth\":0,\"ticks\":\"\"},\"colorscale\":[[0.0,\"#0d0887\"],[0.1111111111111111,\"#46039f\"],[0.2222222222222222,\"#7201a8\"],[0.3333333333333333,\"#9c179e\"],[0.4444444444444444,\"#bd3786\"],[0.5555555555555556,\"#d8576b\"],[0.6666666666666666,\"#ed7953\"],[0.7777777777777778,\"#fb9f3a\"],[0.8888888888888888,\"#fdca26\"],[1.0,\"#f0f921\"]],\"type\":\"heatmapgl\"}],\"heatmap\":[{\"colorbar\":{\"outlinewidth\":0,\"ticks\":\"\"},\"colorscale\":[[0.0,\"#0d0887\"],[0.1111111111111111,\"#46039f\"],[0.2222222222222222,\"#7201a8\"],[0.3333333333333333,\"#9c179e\"],[0.4444444444444444,\"#bd3786\"],[0.5555555555555556,\"#d8576b\"],[0.6666666666666666,\"#ed7953\"],[0.7777777777777778,\"#fb9f3a\"],[0.8888888888888888,\"#fdca26\"],[1.0,\"#f0f921\"]],\"type\":\"heatmap\"}],\"histogram2dcontour\":[{\"colorbar\":{\"outlinewidth\":0,\"ticks\":\"\"},\"colorscale\":[[0.0,\"#0d0887\"],[0.1111111111111111,\"#46039f\"],[0.2222222222222222,\"#7201a8\"],[0.3333333333333333,\"#9c179e\"],[0.4444444444444444,\"#bd3786\"],[0.5555555555555556,\"#d8576b\"],[0.6666666666666666,\"#ed7953\"],[0.7777777777777778,\"#fb9f3a\"],[0.8888888888888888,\"#fdca26\"],[1.0,\"#f0f921\"]],\"type\":\"histogram2dcontour\"}],\"histogram2d\":[{\"colorbar\":{\"outlinewidth\":0,\"ticks\":\"\"},\"colorscale\":[[0.0,\"#0d0887\"],[0.1111111111111111,\"#46039f\"],[0.2222222222222222,\"#7201a8\"],[0.3333333333333333,\"#9c179e\"],[0.4444444444444444,\"#bd3786\"],[0.5555555555555556,\"#d8576b\"],[0.6666666666666666,\"#ed7953\"],[0.7777777777777778,\"#fb9f3a\"],[0.8888888888888888,\"#fdca26\"],[1.0,\"#f0f921\"]],\"type\":\"histogram2d\"}],\"histogram\":[{\"marker\":{\"pattern\":{\"fillmode\":\"overlay\",\"size\":10,\"solidity\":0.2}},\"type\":\"histogram\"}],\"mesh3d\":[{\"colorbar\":{\"outlinewidth\":0,\"ticks\":\"\"},\"type\":\"mesh3d\"}],\"parcoords\":[{\"line\":{\"colorbar\":{\"outlinewidth\":0,\"ticks\":\"\"}},\"type\":\"parcoords\"}],\"pie\":[{\"automargin\":true,\"type\":\"pie\"}],\"scatter3d\":[{\"line\":{\"colorbar\":{\"outlinewidth\":0,\"ticks\":\"\"}},\"marker\":{\"colorbar\":{\"outlinewidth\":0,\"ticks\":\"\"}},\"type\":\"scatter3d\"}],\"scattercarpet\":[{\"marker\":{\"colorbar\":{\"outlinewidth\":0,\"ticks\":\"\"}},\"type\":\"scattercarpet\"}],\"scattergeo\":[{\"marker\":{\"colorbar\":{\"outlinewidth\":0,\"ticks\":\"\"}},\"type\":\"scattergeo\"}],\"scattergl\":[{\"marker\":{\"colorbar\":{\"outlinewidth\":0,\"ticks\":\"\"}},\"type\":\"scattergl\"}],\"scattermapbox\":[{\"marker\":{\"colorbar\":{\"outlinewidth\":0,\"ticks\":\"\"}},\"type\":\"scattermapbox\"}],\"scatterpolargl\":[{\"marker\":{\"colorbar\":{\"outlinewidth\":0,\"ticks\":\"\"}},\"type\":\"scatterpolargl\"}],\"scatterpolar\":[{\"marker\":{\"colorbar\":{\"outlinewidth\":0,\"ticks\":\"\"}},\"type\":\"scatterpolar\"}],\"scatter\":[{\"fillpattern\":{\"fillmode\":\"overlay\",\"size\":10,\"solidity\":0.2},\"type\":\"scatter\"}],\"scatterternary\":[{\"marker\":{\"colorbar\":{\"outlinewidth\":0,\"ticks\":\"\"}},\"type\":\"scatterternary\"}],\"surface\":[{\"colorbar\":{\"outlinewidth\":0,\"ticks\":\"\"},\"colorscale\":[[0.0,\"#0d0887\"],[0.1111111111111111,\"#46039f\"],[0.2222222222222222,\"#7201a8\"],[0.3333333333333333,\"#9c179e\"],[0.4444444444444444,\"#bd3786\"],[0.5555555555555556,\"#d8576b\"],[0.6666666666666666,\"#ed7953\"],[0.7777777777777778,\"#fb9f3a\"],[0.8888888888888888,\"#fdca26\"],[1.0,\"#f0f921\"]],\"type\":\"surface\"}],\"table\":[{\"cells\":{\"fill\":{\"color\":\"#EBF0F8\"},\"line\":{\"color\":\"white\"}},\"header\":{\"fill\":{\"color\":\"#C8D4E3\"},\"line\":{\"color\":\"white\"}},\"type\":\"table\"}]},\"layout\":{\"annotationdefaults\":{\"arrowcolor\":\"#2a3f5f\",\"arrowhead\":0,\"arrowwidth\":1},\"autotypenumbers\":\"strict\",\"coloraxis\":{\"colorbar\":{\"outlinewidth\":0,\"ticks\":\"\"}},\"colorscale\":{\"diverging\":[[0,\"#8e0152\"],[0.1,\"#c51b7d\"],[0.2,\"#de77ae\"],[0.3,\"#f1b6da\"],[0.4,\"#fde0ef\"],[0.5,\"#f7f7f7\"],[0.6,\"#e6f5d0\"],[0.7,\"#b8e186\"],[0.8,\"#7fbc41\"],[0.9,\"#4d9221\"],[1,\"#276419\"]],\"sequential\":[[0.0,\"#0d0887\"],[0.1111111111111111,\"#46039f\"],[0.2222222222222222,\"#7201a8\"],[0.3333333333333333,\"#9c179e\"],[0.4444444444444444,\"#bd3786\"],[0.5555555555555556,\"#d8576b\"],[0.6666666666666666,\"#ed7953\"],[0.7777777777777778,\"#fb9f3a\"],[0.8888888888888888,\"#fdca26\"],[1.0,\"#f0f921\"]],\"sequentialminus\":[[0.0,\"#0d0887\"],[0.1111111111111111,\"#46039f\"],[0.2222222222222222,\"#7201a8\"],[0.3333333333333333,\"#9c179e\"],[0.4444444444444444,\"#bd3786\"],[0.5555555555555556,\"#d8576b\"],[0.6666666666666666,\"#ed7953\"],[0.7777777777777778,\"#fb9f3a\"],[0.8888888888888888,\"#fdca26\"],[1.0,\"#f0f921\"]]},\"colorway\":[\"#636efa\",\"#EF553B\",\"#00cc96\",\"#ab63fa\",\"#FFA15A\",\"#19d3f3\",\"#FF6692\",\"#B6E880\",\"#FF97FF\",\"#FECB52\"],\"font\":{\"color\":\"#2a3f5f\"},\"geo\":{\"bgcolor\":\"white\",\"lakecolor\":\"white\",\"landcolor\":\"#E5ECF6\",\"showlakes\":true,\"showland\":true,\"subunitcolor\":\"white\"},\"hoverlabel\":{\"align\":\"left\"},\"hovermode\":\"closest\",\"mapbox\":{\"style\":\"light\"},\"paper_bgcolor\":\"white\",\"plot_bgcolor\":\"#E5ECF6\",\"polar\":{\"angularaxis\":{\"gridcolor\":\"white\",\"linecolor\":\"white\",\"ticks\":\"\"},\"bgcolor\":\"#E5ECF6\",\"radialaxis\":{\"gridcolor\":\"white\",\"linecolor\":\"white\",\"ticks\":\"\"}},\"scene\":{\"xaxis\":{\"backgroundcolor\":\"#E5ECF6\",\"gridcolor\":\"white\",\"gridwidth\":2,\"linecolor\":\"white\",\"showbackground\":true,\"ticks\":\"\",\"zerolinecolor\":\"white\"},\"yaxis\":{\"backgroundcolor\":\"#E5ECF6\",\"gridcolor\":\"white\",\"gridwidth\":2,\"linecolor\":\"white\",\"showbackground\":true,\"ticks\":\"\",\"zerolinecolor\":\"white\"},\"zaxis\":{\"backgroundcolor\":\"#E5ECF6\",\"gridcolor\":\"white\",\"gridwidth\":2,\"linecolor\":\"white\",\"showbackground\":true,\"ticks\":\"\",\"zerolinecolor\":\"white\"}},\"shapedefaults\":{\"line\":{\"color\":\"#2a3f5f\"}},\"ternary\":{\"aaxis\":{\"gridcolor\":\"white\",\"linecolor\":\"white\",\"ticks\":\"\"},\"baxis\":{\"gridcolor\":\"white\",\"linecolor\":\"white\",\"ticks\":\"\"},\"bgcolor\":\"#E5ECF6\",\"caxis\":{\"gridcolor\":\"white\",\"linecolor\":\"white\",\"ticks\":\"\"}},\"title\":{\"x\":0.05},\"xaxis\":{\"automargin\":true,\"gridcolor\":\"white\",\"linecolor\":\"white\",\"ticks\":\"\",\"title\":{\"standoff\":15},\"zerolinecolor\":\"white\",\"zerolinewidth\":2},\"yaxis\":{\"automargin\":true,\"gridcolor\":\"white\",\"linecolor\":\"white\",\"ticks\":\"\",\"title\":{\"standoff\":15},\"zerolinecolor\":\"white\",\"zerolinewidth\":2}}},\"title\":{\"font\":{\"color\":\"#151516\"},\"text\":\"Population (1995-1960)\"},\"xaxis\":{\"gridcolor\":\"#F6F6F6\",\"showgrid\":true,\"tickfont\":{\"color\":\"#666666\"},\"title\":{\"font\":{\"color\":\"#666666\"},\"text\":\"Years\"},\"zerolinecolor\":\"#F6F6F6\"},\"yaxis\":{\"gridcolor\":\"#F6F6F6\",\"showgrid\":true,\"tickfont\":{\"color\":\"#666666\"},\"title\":{\"font\":{\"color\":\"#666666\"},\"text\":\"Population\"},\"zerolinecolor\":\"#F6F6F6\"}},                        {\"showLink\": true, \"linkText\": \"Export to plot.ly\", \"plotlyServerURL\": \"https://plot.ly\", \"responsive\": true}                    ).then(function(){\n",
       "                            \n",
       "var gd = document.getElementById('9f5fe82f-fc5e-4727-b650-89c8ac482db6');\n",
       "var x = new MutationObserver(function (mutations, observer) {{\n",
       "        var display = window.getComputedStyle(gd).display;\n",
       "        if (!display || display === 'none') {{\n",
       "            console.log([gd, 'removed!']);\n",
       "            Plotly.purge(gd);\n",
       "            observer.disconnect();\n",
       "        }}\n",
       "}});\n",
       "\n",
       "// Listen for the removal of the full notebook cells\n",
       "var notebookContainer = gd.closest('#notebook-container');\n",
       "if (notebookContainer) {{\n",
       "    x.observe(notebookContainer, {childList: true});\n",
       "}}\n",
       "\n",
       "// Listen for the clearing of the current output cell\n",
       "var outputEl = gd.closest('.output');\n",
       "if (outputEl) {{\n",
       "    x.observe(outputEl, {childList: true});\n",
       "}}\n",
       "\n",
       "                        })                };                });            </script>        </div>"
      ]
     },
     "metadata": {},
     "output_type": "display_data"
    }
   ],
   "source": [
    "#barchart shows the comparison between four countries over two years\n",
    "df_pivot3.iplot(kind='bar', sortbars=True,theme='ggplot',xTitle='Years',yTitle='Population',title='Population (1995-1960)')"
   ]
  },
  {
   "cell_type": "code",
   "execution_count": 13,
   "id": "78f72ca3",
   "metadata": {},
   "outputs": [
    {
     "data": {
      "application/vnd.plotly.v1+json": {
       "config": {
        "linkText": "Export to plot.ly",
        "plotlyServerURL": "https://plot.ly",
        "showLink": true
       },
       "data": [
        {
         "marker": {
          "color": "rgba(255, 153, 51, 0.6)",
          "line": {
           "color": "rgba(255, 153, 51, 1.0)",
           "width": 1
          }
         },
         "name": "Population",
         "orientation": "v",
         "text": "",
         "type": "bar",
         "x": [
          "(1955,Afghanistan)",
          "(1955,Albania)",
          "(1955,Algeria)",
          "(1955,Angola)",
          "(1955,Antigua and Barbuda)",
          "(1955,Argentina)",
          "(1955,Armenia)",
          "(1955,Aruba)",
          "(1955,Australia)",
          "(1955,Austria)",
          "(1955,Azerbaijan)",
          "(1955,Bahamas)",
          "(1955,Bahrain)",
          "(1955,Bangladesh)",
          "(1955,Barbados)",
          "(1955,Belarus)",
          "(1955,Belgium)",
          "(1955,Belize)",
          "(1955,Benin)",
          "(1955,Bhutan)",
          "(1955,Bolivia)",
          "(1955,Bosnia and Herzegovina)",
          "(1955,Botswana)",
          "(1955,Brazil)",
          "(1955,Brunei )",
          "(1955,Bulgaria)",
          "(1955,Burkina Faso)",
          "(1955,Burundi)",
          "(1955,Cabo Verde)",
          "(1955,Cambodia)",
          "(1955,Cameroon)",
          "(1955,Canada)",
          "(1955,Central African Republic)",
          "(1955,Chad)",
          "(1955,Chile)",
          "(1955,China)",
          "(1955,Colombia)",
          "(1955,Comoros)",
          "(1955,Congo)",
          "(1955,Costa Rica)",
          "(1955,Croatia)",
          "(1955,Cuba)",
          "(1955,Curaçao)",
          "(1955,Cyprus)",
          "(1955,Czech Republic (Czechia))",
          "(1955,Côte d'Ivoire)",
          "(1955,DR Congo)",
          "(1955,Denmark)",
          "(1955,Djibouti)",
          "(1955,Dominican Republic)",
          "(1955,Ecuador)",
          "(1955,Egypt)",
          "(1955,El Salvador)",
          "(1955,Equatorial Guinea)",
          "(1955,Eritrea)",
          "(1955,Estonia)",
          "(1955,Eswatini)",
          "(1955,Ethiopia)",
          "(1955,Fiji)",
          "(1955,Finland)",
          "(1955,France)",
          "(1955,French Guiana)",
          "(1955,French Polynesia)",
          "(1955,Gabon)",
          "(1955,Gambia)",
          "(1955,Georgia)",
          "(1955,Germany)",
          "(1955,Ghana)",
          "(1955,Greece)",
          "(1955,Grenada)",
          "(1955,Guadeloupe)",
          "(1955,Guam)",
          "(1955,Guatemala)",
          "(1955,Guinea)",
          "(1955,Guinea-Bissau)",
          "(1955,Guyana)",
          "(1955,Haiti)",
          "(1955,Honduras)",
          "(1955,Hong Kong)",
          "(1955,Hungary)",
          "(1955,Iceland)",
          "(1955,India)",
          "(1955,Indonesia)",
          "(1955,Iran)",
          "(1955,Iraq)",
          "(1955,Ireland)",
          "(1955,Israel)",
          "(1955,Italy)",
          "(1955,Jamaica)",
          "(1955,Japan)",
          "(1955,Jordan)",
          "(1955,Kazakhstan)",
          "(1955,Kenya)",
          "(1955,Kiribati)",
          "(1955,Kuwait)",
          "(1955,Kyrgyzstan)",
          "(1955,Laos)",
          "(1955,Latvia)",
          "(1955,Lebanon)",
          "(1955,Lesotho)",
          "(1955,Liberia)",
          "(1955,Libya)",
          "(1955,Lithuania)",
          "(1955,Luxembourg)",
          "(1955,Macao)",
          "(1955,Madagascar)",
          "(1955,Malawi)",
          "(1955,Malaysia)",
          "(1955,Maldives)",
          "(1955,Mali)",
          "(1955,Malta)",
          "(1955,Martinique)",
          "(1955,Mauritania)",
          "(1955,Mauritius)",
          "(1955,Mayotte)",
          "(1955,Mexico)",
          "(1955,Moldova)",
          "(1955,Mongolia)",
          "(1955,Montenegro)",
          "(1955,Morocco)",
          "(1955,Mozambique)",
          "(1955,Myanmar)",
          "(1955,Namibia)",
          "(1955,Nepal)",
          "(1955,Netherlands)",
          "(1955,New Caledonia)",
          "(1955,New Zealand)",
          "(1955,Nicaragua)",
          "(1955,Niger)",
          "(1955,Nigeria)",
          "(1955,North Korea)",
          "(1955,North Macedonia)",
          "(1955,Norway)",
          "(1955,Oman)",
          "(1955,Pakistan)",
          "(1955,Panama)",
          "(1955,Papua New Guinea)",
          "(1955,Paraguay)",
          "(1955,Peru)",
          "(1955,Philippines)",
          "(1955,Poland)",
          "(1955,Portugal)",
          "(1955,Puerto Rico)",
          "(1955,Qatar)",
          "(1955,Romania)",
          "(1955,Russia)",
          "(1955,Rwanda)",
          "(1955,Réunion)",
          "(1955,Saint Lucia)",
          "(1955,Samoa)",
          "(1955,Sao Tome & Principe)",
          "(1955,Saudi Arabia)",
          "(1955,Senegal)",
          "(1955,Serbia)",
          "(1955,Seychelles)",
          "(1955,Sierra Leone)",
          "(1955,Singapore)",
          "(1955,Slovakia)",
          "(1955,Slovenia)",
          "(1955,Solomon Islands)",
          "(1955,Somalia)",
          "(1955,South Africa)",
          "(1955,South Korea)",
          "(1955,South Sudan)",
          "(1955,Spain)",
          "(1955,Sri Lanka)",
          "(1955,St. Vincent & Grenadines)",
          "(1955,State of Palestine)",
          "(1955,Sudan)",
          "(1955,Suriname)",
          "(1955,Sweden)",
          "(1955,Switzerland)",
          "(1955,Syria)",
          "(1955,Taiwan)",
          "(1955,Tajikistan)",
          "(1955,Tanzania)",
          "(1955,Thailand)",
          "(1955,Timor-Leste)",
          "(1955,Togo)",
          "(1955,Tonga)",
          "(1955,Trinidad and Tobago)",
          "(1955,Tunisia)",
          "(1955,Turkey)",
          "(1955,Turkmenistan)",
          "(1955,U.S. Virgin Islands)",
          "(1955,Uganda)",
          "(1955,Ukraine)",
          "(1955,United Arab Emirates)",
          "(1955,United Kingdom)",
          "(1955,United States)",
          "(1955,Uruguay)",
          "(1955,Uzbekistan)",
          "(1955,Vanuatu)",
          "(1955,Venezuela)",
          "(1955,Vietnam)",
          "(1955,Western Sahara)",
          "(1955,Yemen)",
          "(1955,Zambia)",
          "(1955,Zimbabwe)",
          "(1960,Afghanistan)",
          "(1960,Albania)",
          "(1960,Algeria)",
          "(1960,Angola)",
          "(1960,Antigua and Barbuda)",
          "(1960,Argentina)",
          "(1960,Armenia)",
          "(1960,Aruba)",
          "(1960,Australia)",
          "(1960,Austria)",
          "(1960,Azerbaijan)",
          "(1960,Bahamas)",
          "(1960,Bahrain)",
          "(1960,Bangladesh)",
          "(1960,Barbados)",
          "(1960,Belarus)",
          "(1960,Belgium)",
          "(1960,Belize)",
          "(1960,Benin)",
          "(1960,Bhutan)",
          "(1960,Bolivia)",
          "(1960,Bosnia and Herzegovina)",
          "(1960,Botswana)",
          "(1960,Brazil)",
          "(1960,Brunei )",
          "(1960,Bulgaria)",
          "(1960,Burkina Faso)",
          "(1960,Burundi)",
          "(1960,Cabo Verde)",
          "(1960,Cambodia)",
          "(1960,Cameroon)",
          "(1960,Canada)",
          "(1960,Central African Republic)",
          "(1960,Chad)",
          "(1960,Chile)",
          "(1960,China)",
          "(1960,Colombia)",
          "(1960,Comoros)",
          "(1960,Congo)",
          "(1960,Costa Rica)",
          "(1960,Croatia)",
          "(1960,Cuba)",
          "(1960,Curaçao)",
          "(1960,Cyprus)",
          "(1960,Czech Republic (Czechia))",
          "(1960,Côte d'Ivoire)",
          "(1960,DR Congo)",
          "(1960,Denmark)",
          "(1960,Djibouti)",
          "(1960,Dominican Republic)",
          "(1960,Ecuador)",
          "(1960,Egypt)",
          "(1960,El Salvador)",
          "(1960,Equatorial Guinea)",
          "(1960,Eritrea)",
          "(1960,Estonia)",
          "(1960,Eswatini)",
          "(1960,Ethiopia)",
          "(1960,Fiji)",
          "(1960,Finland)",
          "(1960,France)",
          "(1960,French Guiana)",
          "(1960,French Polynesia)",
          "(1960,Gabon)",
          "(1960,Gambia)",
          "(1960,Georgia)",
          "(1960,Germany)",
          "(1960,Ghana)",
          "(1960,Greece)",
          "(1960,Grenada)",
          "(1960,Guadeloupe)",
          "(1960,Guam)",
          "(1960,Guatemala)",
          "(1960,Guinea)",
          "(1960,Guinea-Bissau)",
          "(1960,Guyana)",
          "(1960,Haiti)",
          "(1960,Honduras)",
          "(1960,Hong Kong)",
          "(1960,Hungary)",
          "(1960,Iceland)",
          "(1960,India)",
          "(1960,Indonesia)",
          "(1960,Iran)",
          "(1960,Iraq)",
          "(1960,Ireland)",
          "(1960,Israel)",
          "(1960,Italy)",
          "(1960,Jamaica)",
          "(1960,Japan)",
          "(1960,Jordan)",
          "(1960,Kazakhstan)",
          "(1960,Kenya)",
          "(1960,Kiribati)",
          "(1960,Kuwait)",
          "(1960,Kyrgyzstan)",
          "(1960,Laos)",
          "(1960,Latvia)",
          "(1960,Lebanon)",
          "(1960,Lesotho)",
          "(1960,Liberia)",
          "(1960,Libya)",
          "(1960,Lithuania)",
          "(1960,Luxembourg)",
          "(1960,Macao)",
          "(1960,Madagascar)",
          "(1960,Malawi)",
          "(1960,Malaysia)",
          "(1960,Maldives)",
          "(1960,Mali)",
          "(1960,Malta)",
          "(1960,Martinique)",
          "(1960,Mauritania)",
          "(1960,Mauritius)",
          "(1960,Mayotte)",
          "(1960,Mexico)",
          "(1960,Moldova)",
          "(1960,Mongolia)",
          "(1960,Montenegro)",
          "(1960,Morocco)",
          "(1960,Mozambique)",
          "(1960,Myanmar)",
          "(1960,Namibia)",
          "(1960,Nepal)",
          "(1960,Netherlands)",
          "(1960,New Caledonia)",
          "(1960,New Zealand)",
          "(1960,Nicaragua)",
          "(1960,Niger)",
          "(1960,Nigeria)",
          "(1960,North Korea)",
          "(1960,North Macedonia)",
          "(1960,Norway)",
          "(1960,Oman)",
          "(1960,Pakistan)",
          "(1960,Panama)",
          "(1960,Papua New Guinea)",
          "(1960,Paraguay)",
          "(1960,Peru)",
          "(1960,Philippines)",
          "(1960,Poland)",
          "(1960,Portugal)",
          "(1960,Puerto Rico)",
          "(1960,Qatar)",
          "(1960,Romania)",
          "(1960,Russia)",
          "(1960,Rwanda)",
          "(1960,Réunion)",
          "(1960,Saint Lucia)",
          "(1960,Samoa)",
          "(1960,Sao Tome & Principe)",
          "(1960,Saudi Arabia)",
          "(1960,Senegal)",
          "(1960,Serbia)",
          "(1960,Seychelles)",
          "(1960,Sierra Leone)",
          "(1960,Singapore)",
          "(1960,Slovakia)",
          "(1960,Slovenia)",
          "(1960,Solomon Islands)",
          "(1960,Somalia)",
          "(1960,South Africa)",
          "(1960,South Korea)",
          "(1960,South Sudan)",
          "(1960,Spain)",
          "(1960,Sri Lanka)",
          "(1960,St. Vincent & Grenadines)",
          "(1960,State of Palestine)",
          "(1960,Sudan)",
          "(1960,Suriname)",
          "(1960,Sweden)",
          "(1960,Switzerland)",
          "(1960,Syria)",
          "(1960,Taiwan)",
          "(1960,Tajikistan)",
          "(1960,Tanzania)",
          "(1960,Thailand)",
          "(1960,Timor-Leste)",
          "(1960,Togo)",
          "(1960,Tonga)",
          "(1960,Trinidad and Tobago)",
          "(1960,Tunisia)",
          "(1960,Turkey)",
          "(1960,Turkmenistan)",
          "(1960,U.S. Virgin Islands)",
          "(1960,Uganda)",
          "(1960,Ukraine)",
          "(1960,United Arab Emirates)",
          "(1960,United Kingdom)",
          "(1960,United States)",
          "(1960,Uruguay)",
          "(1960,Uzbekistan)",
          "(1960,Vanuatu)",
          "(1960,Venezuela)",
          "(1960,Vietnam)",
          "(1960,Western Sahara)",
          "(1960,Yemen)",
          "(1960,Zambia)",
          "(1960,Zimbabwe)",
          "(1965,Afghanistan)",
          "(1965,Albania)",
          "(1965,Algeria)",
          "(1965,Angola)",
          "(1965,Antigua and Barbuda)",
          "(1965,Argentina)",
          "(1965,Armenia)",
          "(1965,Aruba)",
          "(1965,Australia)",
          "(1965,Austria)",
          "(1965,Azerbaijan)",
          "(1965,Bahamas)",
          "(1965,Bahrain)",
          "(1965,Bangladesh)",
          "(1965,Barbados)",
          "(1965,Belarus)",
          "(1965,Belgium)",
          "(1965,Belize)",
          "(1965,Benin)",
          "(1965,Bhutan)",
          "(1965,Bolivia)",
          "(1965,Bosnia and Herzegovina)",
          "(1965,Botswana)",
          "(1965,Brazil)",
          "(1965,Brunei )",
          "(1965,Bulgaria)",
          "(1965,Burkina Faso)",
          "(1965,Burundi)",
          "(1965,Cabo Verde)",
          "(1965,Cambodia)",
          "(1965,Cameroon)",
          "(1965,Canada)",
          "(1965,Central African Republic)",
          "(1965,Chad)",
          "(1965,Chile)",
          "(1965,China)",
          "(1965,Colombia)",
          "(1965,Comoros)",
          "(1965,Congo)",
          "(1965,Costa Rica)",
          "(1965,Croatia)",
          "(1965,Cuba)",
          "(1965,Curaçao)",
          "(1965,Cyprus)",
          "(1965,Czech Republic (Czechia))",
          "(1965,Côte d'Ivoire)",
          "(1965,DR Congo)",
          "(1965,Denmark)",
          "(1965,Djibouti)",
          "(1965,Dominican Republic)",
          "(1965,Ecuador)",
          "(1965,Egypt)",
          "(1965,El Salvador)",
          "(1965,Equatorial Guinea)",
          "(1965,Eritrea)",
          "(1965,Estonia)",
          "(1965,Eswatini)",
          "(1965,Ethiopia)",
          "(1965,Fiji)",
          "(1965,Finland)",
          "(1965,France)",
          "(1965,French Guiana)",
          "(1965,French Polynesia)",
          "(1965,Gabon)",
          "(1965,Gambia)",
          "(1965,Georgia)",
          "(1965,Germany)",
          "(1965,Ghana)",
          "(1965,Greece)",
          "(1965,Grenada)",
          "(1965,Guadeloupe)",
          "(1965,Guam)",
          "(1965,Guatemala)",
          "(1965,Guinea)",
          "(1965,Guinea-Bissau)",
          "(1965,Guyana)",
          "(1965,Haiti)",
          "(1965,Honduras)",
          "(1965,Hong Kong)",
          "(1965,Hungary)",
          "(1965,Iceland)",
          "(1965,India)",
          "(1965,Indonesia)",
          "(1965,Iran)",
          "(1965,Iraq)",
          "(1965,Ireland)",
          "(1965,Israel)",
          "(1965,Italy)",
          "(1965,Jamaica)",
          "(1965,Japan)",
          "(1965,Jordan)",
          "(1965,Kazakhstan)",
          "(1965,Kenya)",
          "(1965,Kiribati)",
          "(1965,Kuwait)",
          "(1965,Kyrgyzstan)",
          "(1965,Laos)",
          "(1965,Latvia)",
          "(1965,Lebanon)",
          "(1965,Lesotho)",
          "(1965,Liberia)",
          "(1965,Libya)",
          "(1965,Lithuania)",
          "(1965,Luxembourg)",
          "(1965,Macao)",
          "(1965,Madagascar)",
          "(1965,Malawi)",
          "(1965,Malaysia)",
          "(1965,Maldives)",
          "(1965,Mali)",
          "(1965,Malta)",
          "(1965,Martinique)",
          "(1965,Mauritania)",
          "(1965,Mauritius)",
          "(1965,Mayotte)",
          "(1965,Mexico)",
          "(1965,Moldova)",
          "(1965,Mongolia)",
          "(1965,Montenegro)",
          "(1965,Morocco)",
          "(1965,Mozambique)",
          "(1965,Myanmar)",
          "(1965,Namibia)",
          "(1965,Nepal)",
          "(1965,Netherlands)",
          "(1965,New Caledonia)",
          "(1965,New Zealand)",
          "(1965,Nicaragua)",
          "(1965,Niger)",
          "(1965,Nigeria)",
          "(1965,North Korea)",
          "(1965,North Macedonia)",
          "(1965,Norway)",
          "(1965,Oman)",
          "(1965,Pakistan)",
          "(1965,Panama)",
          "(1965,Papua New Guinea)",
          "(1965,Paraguay)",
          "(1965,Peru)",
          "(1965,Philippines)",
          "(1965,Poland)",
          "(1965,Portugal)",
          "(1965,Puerto Rico)",
          "(1965,Qatar)",
          "(1965,Romania)",
          "(1965,Russia)",
          "(1965,Rwanda)",
          "(1965,Réunion)",
          "(1965,Saint Lucia)",
          "(1965,Samoa)",
          "(1965,Sao Tome & Principe)",
          "(1965,Saudi Arabia)",
          "(1965,Senegal)",
          "(1965,Serbia)",
          "(1965,Seychelles)",
          "(1965,Sierra Leone)",
          "(1965,Singapore)",
          "(1965,Slovakia)",
          "(1965,Slovenia)",
          "(1965,Solomon Islands)",
          "(1965,Somalia)",
          "(1965,South Africa)",
          "(1965,South Korea)",
          "(1965,South Sudan)",
          "(1965,Spain)",
          "(1965,Sri Lanka)",
          "(1965,St. Vincent & Grenadines)",
          "(1965,State of Palestine)",
          "(1965,Sudan)",
          "(1965,Suriname)",
          "(1965,Sweden)",
          "(1965,Switzerland)",
          "(1965,Syria)",
          "(1965,Taiwan)",
          "(1965,Tajikistan)",
          "(1965,Tanzania)",
          "(1965,Thailand)",
          "(1965,Timor-Leste)",
          "(1965,Togo)",
          "(1965,Tonga)",
          "(1965,Trinidad and Tobago)",
          "(1965,Tunisia)",
          "(1965,Turkey)",
          "(1965,Turkmenistan)",
          "(1965,U.S. Virgin Islands)",
          "(1965,Uganda)",
          "(1965,Ukraine)",
          "(1965,United Arab Emirates)",
          "(1965,United Kingdom)",
          "(1965,United States)",
          "(1965,Uruguay)",
          "(1965,Uzbekistan)",
          "(1965,Vanuatu)",
          "(1965,Venezuela)",
          "(1965,Vietnam)",
          "(1965,Western Sahara)",
          "(1965,Yemen)",
          "(1965,Zambia)",
          "(1965,Zimbabwe)",
          "(1970,Afghanistan)",
          "(1970,Albania)",
          "(1970,Algeria)",
          "(1970,Angola)",
          "(1970,Antigua and Barbuda)",
          "(1970,Argentina)",
          "(1970,Armenia)",
          "(1970,Aruba)",
          "(1970,Australia)",
          "(1970,Austria)",
          "(1970,Azerbaijan)",
          "(1970,Bahamas)",
          "(1970,Bahrain)",
          "(1970,Bangladesh)",
          "(1970,Barbados)",
          "(1970,Belarus)",
          "(1970,Belgium)",
          "(1970,Belize)",
          "(1970,Benin)",
          "(1970,Bhutan)",
          "(1970,Bolivia)",
          "(1970,Bosnia and Herzegovina)",
          "(1970,Botswana)",
          "(1970,Brazil)",
          "(1970,Brunei )",
          "(1970,Bulgaria)",
          "(1970,Burkina Faso)",
          "(1970,Burundi)",
          "(1970,Cabo Verde)",
          "(1970,Cambodia)",
          "(1970,Cameroon)",
          "(1970,Canada)",
          "(1970,Central African Republic)",
          "(1970,Chad)",
          "(1970,Chile)",
          "(1970,China)",
          "(1970,Colombia)",
          "(1970,Comoros)",
          "(1970,Congo)",
          "(1970,Costa Rica)",
          "(1970,Croatia)",
          "(1970,Cuba)",
          "(1970,Curaçao)",
          "(1970,Cyprus)",
          "(1970,Czech Republic (Czechia))",
          "(1970,Côte d'Ivoire)",
          "(1970,DR Congo)",
          "(1970,Denmark)",
          "(1970,Djibouti)",
          "(1970,Dominican Republic)",
          "(1970,Ecuador)",
          "(1970,Egypt)",
          "(1970,El Salvador)",
          "(1970,Equatorial Guinea)",
          "(1970,Eritrea)",
          "(1970,Estonia)",
          "(1970,Eswatini)",
          "(1970,Ethiopia)",
          "(1970,Fiji)",
          "(1970,Finland)",
          "(1970,France)",
          "(1970,French Guiana)",
          "(1970,French Polynesia)",
          "(1970,Gabon)",
          "(1970,Gambia)",
          "(1970,Georgia)",
          "(1970,Germany)",
          "(1970,Ghana)",
          "(1970,Greece)",
          "(1970,Grenada)",
          "(1970,Guadeloupe)",
          "(1970,Guam)",
          "(1970,Guatemala)",
          "(1970,Guinea)",
          "(1970,Guinea-Bissau)",
          "(1970,Guyana)",
          "(1970,Haiti)",
          "(1970,Honduras)",
          "(1970,Hong Kong)",
          "(1970,Hungary)",
          "(1970,Iceland)",
          "(1970,India)",
          "(1970,Indonesia)",
          "(1970,Iran)",
          "(1970,Iraq)",
          "(1970,Ireland)",
          "(1970,Israel)",
          "(1970,Italy)",
          "(1970,Jamaica)",
          "(1970,Japan)",
          "(1970,Jordan)",
          "(1970,Kazakhstan)",
          "(1970,Kenya)",
          "(1970,Kiribati)",
          "(1970,Kuwait)",
          "(1970,Kyrgyzstan)",
          "(1970,Laos)",
          "(1970,Latvia)",
          "(1970,Lebanon)",
          "(1970,Lesotho)",
          "(1970,Liberia)",
          "(1970,Libya)",
          "(1970,Lithuania)",
          "(1970,Luxembourg)",
          "(1970,Macao)",
          "(1970,Madagascar)",
          "(1970,Malawi)",
          "(1970,Malaysia)",
          "(1970,Maldives)",
          "(1970,Mali)",
          "(1970,Malta)",
          "(1970,Martinique)",
          "(1970,Mauritania)",
          "(1970,Mauritius)",
          "(1970,Mayotte)",
          "(1970,Mexico)",
          "(1970,Moldova)",
          "(1970,Mongolia)",
          "(1970,Montenegro)",
          "(1970,Morocco)",
          "(1970,Mozambique)",
          "(1970,Myanmar)",
          "(1970,Namibia)",
          "(1970,Nepal)",
          "(1970,Netherlands)",
          "(1970,New Caledonia)",
          "(1970,New Zealand)",
          "(1970,Nicaragua)",
          "(1970,Niger)",
          "(1970,Nigeria)",
          "(1970,North Korea)",
          "(1970,North Macedonia)",
          "(1970,Norway)",
          "(1970,Oman)",
          "(1970,Pakistan)",
          "(1970,Panama)",
          "(1970,Papua New Guinea)",
          "(1970,Paraguay)",
          "(1970,Peru)",
          "(1970,Philippines)",
          "(1970,Poland)",
          "(1970,Portugal)",
          "(1970,Puerto Rico)",
          "(1970,Qatar)",
          "(1970,Romania)",
          "(1970,Russia)",
          "(1970,Rwanda)",
          "(1970,Réunion)",
          "(1970,Saint Lucia)",
          "(1970,Samoa)",
          "(1970,Sao Tome & Principe)",
          "(1970,Saudi Arabia)",
          "(1970,Senegal)",
          "(1970,Serbia)",
          "(1970,Seychelles)",
          "(1970,Sierra Leone)",
          "(1970,Singapore)",
          "(1970,Slovakia)",
          "(1970,Slovenia)",
          "(1970,Solomon Islands)",
          "(1970,Somalia)",
          "(1970,South Africa)",
          "(1970,South Korea)",
          "(1970,South Sudan)",
          "(1970,Spain)",
          "(1970,Sri Lanka)",
          "(1970,St. Vincent & Grenadines)",
          "(1970,State of Palestine)",
          "(1970,Sudan)",
          "(1970,Suriname)",
          "(1970,Sweden)",
          "(1970,Switzerland)",
          "(1970,Syria)",
          "(1970,Taiwan)",
          "(1970,Tajikistan)",
          "(1970,Tanzania)",
          "(1970,Thailand)",
          "(1970,Timor-Leste)",
          "(1970,Togo)",
          "(1970,Tonga)",
          "(1970,Trinidad and Tobago)",
          "(1970,Tunisia)",
          "(1970,Turkey)",
          "(1970,Turkmenistan)",
          "(1970,U.S. Virgin Islands)",
          "(1970,Uganda)",
          "(1970,Ukraine)",
          "(1970,United Arab Emirates)",
          "(1970,United Kingdom)",
          "(1970,United States)",
          "(1970,Uruguay)",
          "(1970,Uzbekistan)",
          "(1970,Vanuatu)",
          "(1970,Venezuela)",
          "(1970,Vietnam)",
          "(1970,Western Sahara)",
          "(1970,Yemen)",
          "(1970,Zambia)",
          "(1970,Zimbabwe)",
          "(1975,Afghanistan)",
          "(1975,Albania)",
          "(1975,Algeria)",
          "(1975,Angola)",
          "(1975,Antigua and Barbuda)",
          "(1975,Argentina)",
          "(1975,Armenia)",
          "(1975,Aruba)",
          "(1975,Australia)",
          "(1975,Austria)",
          "(1975,Azerbaijan)",
          "(1975,Bahamas)",
          "(1975,Bahrain)",
          "(1975,Bangladesh)",
          "(1975,Barbados)",
          "(1975,Belarus)",
          "(1975,Belgium)",
          "(1975,Belize)",
          "(1975,Benin)",
          "(1975,Bhutan)",
          "(1975,Bolivia)",
          "(1975,Bosnia and Herzegovina)",
          "(1975,Botswana)",
          "(1975,Brazil)",
          "(1975,Brunei )",
          "(1975,Bulgaria)",
          "(1975,Burkina Faso)",
          "(1975,Burundi)",
          "(1975,Cabo Verde)",
          "(1975,Cambodia)",
          "(1975,Cameroon)",
          "(1975,Canada)",
          "(1975,Central African Republic)",
          "(1975,Chad)",
          "(1975,Chile)",
          "(1975,China)",
          "(1975,Colombia)",
          "(1975,Comoros)",
          "(1975,Congo)",
          "(1975,Costa Rica)",
          "(1975,Croatia)",
          "(1975,Cuba)",
          "(1975,Curaçao)",
          "(1975,Cyprus)",
          "(1975,Czech Republic (Czechia))",
          "(1975,Côte d'Ivoire)",
          "(1975,DR Congo)",
          "(1975,Denmark)",
          "(1975,Djibouti)",
          "(1975,Dominican Republic)",
          "(1975,Ecuador)",
          "(1975,Egypt)",
          "(1975,El Salvador)",
          "(1975,Equatorial Guinea)",
          "(1975,Eritrea)",
          "(1975,Estonia)",
          "(1975,Eswatini)",
          "(1975,Ethiopia)",
          "(1975,Fiji)",
          "(1975,Finland)",
          "(1975,France)",
          "(1975,French Guiana)",
          "(1975,French Polynesia)",
          "(1975,Gabon)",
          "(1975,Gambia)",
          "(1975,Georgia)",
          "(1975,Germany)",
          "(1975,Ghana)",
          "(1975,Greece)",
          "(1975,Grenada)",
          "(1975,Guadeloupe)",
          "(1975,Guam)",
          "(1975,Guatemala)",
          "(1975,Guinea)",
          "(1975,Guinea-Bissau)",
          "(1975,Guyana)",
          "(1975,Haiti)",
          "(1975,Honduras)",
          "(1975,Hong Kong)",
          "(1975,Hungary)",
          "(1975,Iceland)",
          "(1975,India)",
          "(1975,Indonesia)",
          "(1975,Iran)",
          "(1975,Iraq)",
          "(1975,Ireland)",
          "(1975,Israel)",
          "(1975,Italy)",
          "(1975,Jamaica)",
          "(1975,Japan)",
          "(1975,Jordan)",
          "(1975,Kazakhstan)",
          "(1975,Kenya)",
          "(1975,Kiribati)",
          "(1975,Kuwait)",
          "(1975,Kyrgyzstan)",
          "(1975,Laos)",
          "(1975,Latvia)",
          "(1975,Lebanon)",
          "(1975,Lesotho)",
          "(1975,Liberia)",
          "(1975,Libya)",
          "(1975,Lithuania)",
          "(1975,Luxembourg)",
          "(1975,Macao)",
          "(1975,Madagascar)",
          "(1975,Malawi)",
          "(1975,Malaysia)",
          "(1975,Maldives)",
          "(1975,Mali)",
          "(1975,Malta)",
          "(1975,Martinique)",
          "(1975,Mauritania)",
          "(1975,Mauritius)",
          "(1975,Mayotte)",
          "(1975,Mexico)",
          "(1975,Moldova)",
          "(1975,Mongolia)",
          "(1975,Montenegro)",
          "(1975,Morocco)",
          "(1975,Mozambique)",
          "(1975,Myanmar)",
          "(1975,Namibia)",
          "(1975,Nepal)",
          "(1975,Netherlands)",
          "(1975,New Caledonia)",
          "(1975,New Zealand)",
          "(1975,Nicaragua)",
          "(1975,Niger)",
          "(1975,Nigeria)",
          "(1975,North Korea)",
          "(1975,North Macedonia)",
          "(1975,Norway)",
          "(1975,Oman)",
          "(1975,Pakistan)",
          "(1975,Panama)",
          "(1975,Papua New Guinea)",
          "(1975,Paraguay)",
          "(1975,Peru)",
          "(1975,Philippines)",
          "(1975,Poland)",
          "(1975,Portugal)",
          "(1975,Puerto Rico)",
          "(1975,Qatar)",
          "(1975,Romania)",
          "(1975,Russia)",
          "(1975,Rwanda)",
          "(1975,Réunion)",
          "(1975,Saint Lucia)",
          "(1975,Samoa)",
          "(1975,Sao Tome & Principe)",
          "(1975,Saudi Arabia)",
          "(1975,Senegal)",
          "(1975,Serbia)",
          "(1975,Seychelles)",
          "(1975,Sierra Leone)",
          "(1975,Singapore)",
          "(1975,Slovakia)",
          "(1975,Slovenia)",
          "(1975,Solomon Islands)",
          "(1975,Somalia)",
          "(1975,South Africa)",
          "(1975,South Korea)",
          "(1975,South Sudan)",
          "(1975,Spain)",
          "(1975,Sri Lanka)",
          "(1975,St. Vincent & Grenadines)",
          "(1975,State of Palestine)",
          "(1975,Sudan)",
          "(1975,Suriname)",
          "(1975,Sweden)",
          "(1975,Switzerland)",
          "(1975,Syria)",
          "(1975,Taiwan)",
          "(1975,Tajikistan)",
          "(1975,Tanzania)",
          "(1975,Thailand)",
          "(1975,Timor-Leste)",
          "(1975,Togo)",
          "(1975,Tonga)",
          "(1975,Trinidad and Tobago)",
          "(1975,Tunisia)",
          "(1975,Turkey)",
          "(1975,Turkmenistan)",
          "(1975,U.S. Virgin Islands)",
          "(1975,Uganda)",
          "(1975,Ukraine)",
          "(1975,United Arab Emirates)",
          "(1975,United Kingdom)",
          "(1975,United States)",
          "(1975,Uruguay)",
          "(1975,Uzbekistan)",
          "(1975,Vanuatu)",
          "(1975,Venezuela)",
          "(1975,Vietnam)",
          "(1975,Western Sahara)",
          "(1975,Yemen)",
          "(1975,Zambia)",
          "(1975,Zimbabwe)",
          "(1980,Afghanistan)",
          "(1980,Albania)",
          "(1980,Algeria)",
          "(1980,Angola)",
          "(1980,Antigua and Barbuda)",
          "(1980,Argentina)",
          "(1980,Armenia)",
          "(1980,Aruba)",
          "(1980,Australia)",
          "(1980,Austria)",
          "(1980,Azerbaijan)",
          "(1980,Bahamas)",
          "(1980,Bahrain)",
          "(1980,Bangladesh)",
          "(1980,Barbados)",
          "(1980,Belarus)",
          "(1980,Belgium)",
          "(1980,Belize)",
          "(1980,Benin)",
          "(1980,Bhutan)",
          "(1980,Bolivia)",
          "(1980,Bosnia and Herzegovina)",
          "(1980,Botswana)",
          "(1980,Brazil)",
          "(1980,Brunei )",
          "(1980,Bulgaria)",
          "(1980,Burkina Faso)",
          "(1980,Burundi)",
          "(1980,Cabo Verde)",
          "(1980,Cambodia)",
          "(1980,Cameroon)",
          "(1980,Canada)",
          "(1980,Central African Republic)",
          "(1980,Chad)",
          "(1980,Chile)",
          "(1980,China)",
          "(1980,Colombia)",
          "(1980,Comoros)",
          "(1980,Congo)",
          "(1980,Costa Rica)",
          "(1980,Croatia)",
          "(1980,Cuba)",
          "(1980,Curaçao)",
          "(1980,Cyprus)",
          "(1980,Czech Republic (Czechia))",
          "(1980,Côte d'Ivoire)",
          "(1980,DR Congo)",
          "(1980,Denmark)",
          "(1980,Djibouti)",
          "(1980,Dominican Republic)",
          "(1980,Ecuador)",
          "(1980,Egypt)",
          "(1980,El Salvador)",
          "(1980,Equatorial Guinea)",
          "(1980,Eritrea)",
          "(1980,Estonia)",
          "(1980,Eswatini)",
          "(1980,Ethiopia)",
          "(1980,Fiji)",
          "(1980,Finland)",
          "(1980,France)",
          "(1980,French Guiana)",
          "(1980,French Polynesia)",
          "(1980,Gabon)",
          "(1980,Gambia)",
          "(1980,Georgia)",
          "(1980,Germany)",
          "(1980,Ghana)",
          "(1980,Greece)",
          "(1980,Grenada)",
          "(1980,Guadeloupe)",
          "(1980,Guam)",
          "(1980,Guatemala)",
          "(1980,Guinea)",
          "(1980,Guinea-Bissau)",
          "(1980,Guyana)",
          "(1980,Haiti)",
          "(1980,Honduras)",
          "(1980,Hong Kong)",
          "(1980,Hungary)",
          "(1980,Iceland)",
          "(1980,India)",
          "(1980,Indonesia)",
          "(1980,Iran)",
          "(1980,Iraq)",
          "(1980,Ireland)",
          "(1980,Israel)",
          "(1980,Italy)",
          "(1980,Jamaica)",
          "(1980,Japan)",
          "(1980,Jordan)",
          "(1980,Kazakhstan)",
          "(1980,Kenya)",
          "(1980,Kiribati)",
          "(1980,Kuwait)",
          "(1980,Kyrgyzstan)",
          "(1980,Laos)",
          "(1980,Latvia)",
          "(1980,Lebanon)",
          "(1980,Lesotho)",
          "(1980,Liberia)",
          "(1980,Libya)",
          "(1980,Lithuania)",
          "(1980,Luxembourg)",
          "(1980,Macao)",
          "(1980,Madagascar)",
          "(1980,Malawi)",
          "(1980,Malaysia)",
          "(1980,Maldives)",
          "(1980,Mali)",
          "(1980,Malta)",
          "(1980,Martinique)",
          "(1980,Mauritania)",
          "(1980,Mauritius)",
          "(1980,Mayotte)",
          "(1980,Mexico)",
          "(1980,Moldova)",
          "(1980,Mongolia)",
          "(1980,Montenegro)",
          "(1980,Morocco)",
          "(1980,Mozambique)",
          "(1980,Myanmar)",
          "(1980,Namibia)",
          "(1980,Nepal)",
          "(1980,Netherlands)",
          "(1980,New Caledonia)",
          "(1980,New Zealand)",
          "(1980,Nicaragua)",
          "(1980,Niger)",
          "(1980,Nigeria)",
          "(1980,North Korea)",
          "(1980,North Macedonia)",
          "(1980,Norway)",
          "(1980,Oman)",
          "(1980,Pakistan)",
          "(1980,Panama)",
          "(1980,Papua New Guinea)",
          "(1980,Paraguay)",
          "(1980,Peru)",
          "(1980,Philippines)",
          "(1980,Poland)",
          "(1980,Portugal)",
          "(1980,Puerto Rico)",
          "(1980,Qatar)",
          "(1980,Romania)",
          "(1980,Russia)",
          "(1980,Rwanda)",
          "(1980,Réunion)",
          "(1980,Saint Lucia)",
          "(1980,Samoa)",
          "(1980,Sao Tome & Principe)",
          "(1980,Saudi Arabia)",
          "(1980,Senegal)",
          "(1980,Serbia)",
          "(1980,Seychelles)",
          "(1980,Sierra Leone)",
          "(1980,Singapore)",
          "(1980,Slovakia)",
          "(1980,Slovenia)",
          "(1980,Solomon Islands)",
          "(1980,Somalia)",
          "(1980,South Africa)",
          "(1980,South Korea)",
          "(1980,South Sudan)",
          "(1980,Spain)",
          "(1980,Sri Lanka)",
          "(1980,St. Vincent & Grenadines)",
          "(1980,State of Palestine)",
          "(1980,Sudan)",
          "(1980,Suriname)",
          "(1980,Sweden)",
          "(1980,Switzerland)",
          "(1980,Syria)",
          "(1980,Taiwan)",
          "(1980,Tajikistan)",
          "(1980,Tanzania)",
          "(1980,Thailand)",
          "(1980,Timor-Leste)",
          "(1980,Togo)",
          "(1980,Tonga)",
          "(1980,Trinidad and Tobago)",
          "(1980,Tunisia)",
          "(1980,Turkey)",
          "(1980,Turkmenistan)",
          "(1980,U.S. Virgin Islands)",
          "(1980,Uganda)",
          "(1980,Ukraine)",
          "(1980,United Arab Emirates)",
          "(1980,United Kingdom)",
          "(1980,United States)",
          "(1980,Uruguay)",
          "(1980,Uzbekistan)",
          "(1980,Vanuatu)",
          "(1980,Venezuela)",
          "(1980,Vietnam)",
          "(1980,Western Sahara)",
          "(1980,Yemen)",
          "(1980,Zambia)",
          "(1980,Zimbabwe)",
          "(1985,Afghanistan)",
          "(1985,Albania)",
          "(1985,Algeria)",
          "(1985,Angola)",
          "(1985,Antigua and Barbuda)",
          "(1985,Argentina)",
          "(1985,Armenia)",
          "(1985,Aruba)",
          "(1985,Australia)",
          "(1985,Austria)",
          "(1985,Azerbaijan)",
          "(1985,Bahamas)",
          "(1985,Bahrain)",
          "(1985,Bangladesh)",
          "(1985,Barbados)",
          "(1985,Belarus)",
          "(1985,Belgium)",
          "(1985,Belize)",
          "(1985,Benin)",
          "(1985,Bhutan)",
          "(1985,Bolivia)",
          "(1985,Bosnia and Herzegovina)",
          "(1985,Botswana)",
          "(1985,Brazil)",
          "(1985,Brunei )",
          "(1985,Bulgaria)",
          "(1985,Burkina Faso)",
          "(1985,Burundi)",
          "(1985,Cabo Verde)",
          "(1985,Cambodia)",
          "(1985,Cameroon)",
          "(1985,Canada)",
          "(1985,Central African Republic)",
          "(1985,Chad)",
          "(1985,Chile)",
          "(1985,China)",
          "(1985,Colombia)",
          "(1985,Comoros)",
          "(1985,Congo)",
          "(1985,Costa Rica)",
          "(1985,Croatia)",
          "(1985,Cuba)",
          "(1985,Curaçao)",
          "(1985,Cyprus)",
          "(1985,Czech Republic (Czechia))",
          "(1985,Côte d'Ivoire)",
          "(1985,DR Congo)",
          "(1985,Denmark)",
          "(1985,Djibouti)",
          "(1985,Dominican Republic)",
          "(1985,Ecuador)",
          "(1985,Egypt)",
          "(1985,El Salvador)",
          "(1985,Equatorial Guinea)",
          "(1985,Eritrea)",
          "(1985,Estonia)",
          "(1985,Eswatini)",
          "(1985,Ethiopia)",
          "(1985,Fiji)",
          "(1985,Finland)",
          "(1985,France)",
          "(1985,French Guiana)",
          "(1985,French Polynesia)",
          "(1985,Gabon)",
          "(1985,Gambia)",
          "(1985,Georgia)",
          "(1985,Germany)",
          "(1985,Ghana)",
          "(1985,Greece)",
          "(1985,Grenada)",
          "(1985,Guadeloupe)",
          "(1985,Guam)",
          "(1985,Guatemala)",
          "(1985,Guinea)",
          "(1985,Guinea-Bissau)",
          "(1985,Guyana)",
          "(1985,Haiti)",
          "(1985,Honduras)",
          "(1985,Hong Kong)",
          "(1985,Hungary)",
          "(1985,Iceland)",
          "(1985,India)",
          "(1985,Indonesia)",
          "(1985,Iran)",
          "(1985,Iraq)",
          "(1985,Ireland)",
          "(1985,Israel)",
          "(1985,Italy)",
          "(1985,Jamaica)",
          "(1985,Japan)",
          "(1985,Jordan)",
          "(1985,Kazakhstan)",
          "(1985,Kenya)",
          "(1985,Kiribati)",
          "(1985,Kuwait)",
          "(1985,Kyrgyzstan)",
          "(1985,Laos)",
          "(1985,Latvia)",
          "(1985,Lebanon)",
          "(1985,Lesotho)",
          "(1985,Liberia)",
          "(1985,Libya)",
          "(1985,Lithuania)",
          "(1985,Luxembourg)",
          "(1985,Macao)",
          "(1985,Madagascar)",
          "(1985,Malawi)",
          "(1985,Malaysia)",
          "(1985,Maldives)",
          "(1985,Mali)",
          "(1985,Malta)",
          "(1985,Martinique)",
          "(1985,Mauritania)",
          "(1985,Mauritius)",
          "(1985,Mayotte)",
          "(1985,Mexico)",
          "(1985,Moldova)",
          "(1985,Mongolia)",
          "(1985,Montenegro)",
          "(1985,Morocco)",
          "(1985,Mozambique)",
          "(1985,Myanmar)",
          "(1985,Namibia)",
          "(1985,Nepal)",
          "(1985,Netherlands)",
          "(1985,New Caledonia)",
          "(1985,New Zealand)",
          "(1985,Nicaragua)",
          "(1985,Niger)",
          "(1985,Nigeria)",
          "(1985,North Korea)",
          "(1985,North Macedonia)",
          "(1985,Norway)",
          "(1985,Oman)",
          "(1985,Pakistan)",
          "(1985,Panama)",
          "(1985,Papua New Guinea)",
          "(1985,Paraguay)",
          "(1985,Peru)",
          "(1985,Philippines)",
          "(1985,Poland)",
          "(1985,Portugal)",
          "(1985,Puerto Rico)",
          "(1985,Qatar)",
          "(1985,Romania)",
          "(1985,Russia)",
          "(1985,Rwanda)",
          "(1985,Réunion)",
          "(1985,Saint Lucia)",
          "(1985,Samoa)",
          "(1985,Sao Tome & Principe)",
          "(1985,Saudi Arabia)",
          "(1985,Senegal)",
          "(1985,Serbia)",
          "(1985,Seychelles)",
          "(1985,Sierra Leone)",
          "(1985,Singapore)",
          "(1985,Slovakia)",
          "(1985,Slovenia)",
          "(1985,Solomon Islands)",
          "(1985,Somalia)",
          "(1985,South Africa)",
          "(1985,South Korea)",
          "(1985,South Sudan)",
          "(1985,Spain)",
          "(1985,Sri Lanka)",
          "(1985,St. Vincent & Grenadines)",
          "(1985,State of Palestine)",
          "(1985,Sudan)",
          "(1985,Suriname)",
          "(1985,Sweden)",
          "(1985,Switzerland)",
          "(1985,Syria)",
          "(1985,Taiwan)",
          "(1985,Tajikistan)",
          "(1985,Tanzania)",
          "(1985,Thailand)",
          "(1985,Timor-Leste)",
          "(1985,Togo)",
          "(1985,Tonga)",
          "(1985,Trinidad and Tobago)",
          "(1985,Tunisia)",
          "(1985,Turkey)",
          "(1985,Turkmenistan)",
          "(1985,U.S. Virgin Islands)",
          "(1985,Uganda)",
          "(1985,Ukraine)",
          "(1985,United Arab Emirates)",
          "(1985,United Kingdom)",
          "(1985,United States)",
          "(1985,Uruguay)",
          "(1985,Uzbekistan)",
          "(1985,Vanuatu)",
          "(1985,Venezuela)",
          "(1985,Vietnam)",
          "(1985,Western Sahara)",
          "(1985,Yemen)",
          "(1985,Zambia)",
          "(1985,Zimbabwe)",
          "(1990,Afghanistan)",
          "(1990,Albania)",
          "(1990,Algeria)",
          "(1990,Angola)",
          "(1990,Antigua and Barbuda)",
          "(1990,Argentina)",
          "(1990,Armenia)",
          "(1990,Aruba)",
          "(1990,Australia)",
          "(1990,Austria)",
          "(1990,Azerbaijan)",
          "(1990,Bahamas)",
          "(1990,Bahrain)",
          "(1990,Bangladesh)",
          "(1990,Barbados)",
          "(1990,Belarus)",
          "(1990,Belgium)",
          "(1990,Belize)",
          "(1990,Benin)",
          "(1990,Bhutan)",
          "(1990,Bolivia)",
          "(1990,Bosnia and Herzegovina)",
          "(1990,Botswana)",
          "(1990,Brazil)",
          "(1990,Brunei )",
          "(1990,Bulgaria)",
          "(1990,Burkina Faso)",
          "(1990,Burundi)",
          "(1990,Cabo Verde)",
          "(1990,Cambodia)",
          "(1990,Cameroon)",
          "(1990,Canada)",
          "(1990,Central African Republic)",
          "(1990,Chad)",
          "(1990,Chile)",
          "(1990,China)",
          "(1990,Colombia)",
          "(1990,Comoros)",
          "(1990,Congo)",
          "(1990,Costa Rica)",
          "(1990,Croatia)",
          "(1990,Cuba)",
          "(1990,Curaçao)",
          "(1990,Cyprus)",
          "(1990,Czech Republic (Czechia))",
          "(1990,Côte d'Ivoire)",
          "(1990,DR Congo)",
          "(1990,Denmark)",
          "(1990,Djibouti)",
          "(1990,Dominican Republic)",
          "(1990,Ecuador)",
          "(1990,Egypt)",
          "(1990,El Salvador)",
          "(1990,Equatorial Guinea)",
          "(1990,Eritrea)",
          "(1990,Estonia)",
          "(1990,Eswatini)",
          "(1990,Ethiopia)",
          "(1990,Fiji)",
          "(1990,Finland)",
          "(1990,France)",
          "(1990,French Guiana)",
          "(1990,French Polynesia)",
          "(1990,Gabon)",
          "(1990,Gambia)",
          "(1990,Georgia)",
          "(1990,Germany)",
          "(1990,Ghana)",
          "(1990,Greece)",
          "(1990,Grenada)",
          "(1990,Guadeloupe)",
          "(1990,Guam)",
          "(1990,Guatemala)",
          "(1990,Guinea)",
          "(1990,Guinea-Bissau)",
          "(1990,Guyana)",
          "(1990,Haiti)",
          "(1990,Honduras)",
          "(1990,Hong Kong)",
          "(1990,Hungary)",
          "(1990,Iceland)",
          "(1990,India)",
          "(1990,Indonesia)",
          "(1990,Iran)",
          "(1990,Iraq)",
          "(1990,Ireland)",
          "(1990,Israel)",
          "(1990,Italy)",
          "(1990,Jamaica)",
          "(1990,Japan)",
          "(1990,Jordan)",
          "(1990,Kazakhstan)",
          "(1990,Kenya)",
          "(1990,Kiribati)",
          "(1990,Kuwait)",
          "(1990,Kyrgyzstan)",
          "(1990,Laos)",
          "(1990,Latvia)",
          "(1990,Lebanon)",
          "(1990,Lesotho)",
          "(1990,Liberia)",
          "(1990,Libya)",
          "(1990,Lithuania)",
          "(1990,Luxembourg)",
          "(1990,Macao)",
          "(1990,Madagascar)",
          "(1990,Malawi)",
          "(1990,Malaysia)",
          "(1990,Maldives)",
          "(1990,Mali)",
          "(1990,Malta)",
          "(1990,Martinique)",
          "(1990,Mauritania)",
          "(1990,Mauritius)",
          "(1990,Mayotte)",
          "(1990,Mexico)",
          "(1990,Moldova)",
          "(1990,Mongolia)",
          "(1990,Montenegro)",
          "(1990,Morocco)",
          "(1990,Mozambique)",
          "(1990,Myanmar)",
          "(1990,Namibia)",
          "(1990,Nepal)",
          "(1990,Netherlands)",
          "(1990,New Caledonia)",
          "(1990,New Zealand)",
          "(1990,Nicaragua)",
          "(1990,Niger)",
          "(1990,Nigeria)",
          "(1990,North Korea)",
          "(1990,North Macedonia)",
          "(1990,Norway)",
          "(1990,Oman)",
          "(1990,Pakistan)",
          "(1990,Panama)",
          "(1990,Papua New Guinea)",
          "(1990,Paraguay)",
          "(1990,Peru)",
          "(1990,Philippines)",
          "(1990,Poland)",
          "(1990,Portugal)",
          "(1990,Puerto Rico)",
          "(1990,Qatar)",
          "(1990,Romania)",
          "(1990,Russia)",
          "(1990,Rwanda)",
          "(1990,Réunion)",
          "(1990,Saint Lucia)",
          "(1990,Samoa)",
          "(1990,Sao Tome & Principe)",
          "(1990,Saudi Arabia)",
          "(1990,Senegal)",
          "(1990,Serbia)",
          "(1990,Seychelles)",
          "(1990,Sierra Leone)",
          "(1990,Singapore)",
          "(1990,Slovakia)",
          "(1990,Slovenia)",
          "(1990,Solomon Islands)",
          "(1990,Somalia)",
          "(1990,South Africa)",
          "(1990,South Korea)",
          "(1990,South Sudan)",
          "(1990,Spain)",
          "(1990,Sri Lanka)",
          "(1990,St. Vincent & Grenadines)",
          "(1990,State of Palestine)",
          "(1990,Sudan)",
          "(1990,Suriname)",
          "(1990,Sweden)",
          "(1990,Switzerland)",
          "(1990,Syria)",
          "(1990,Taiwan)",
          "(1990,Tajikistan)",
          "(1990,Tanzania)",
          "(1990,Thailand)",
          "(1990,Timor-Leste)",
          "(1990,Togo)",
          "(1990,Tonga)",
          "(1990,Trinidad and Tobago)",
          "(1990,Tunisia)",
          "(1990,Turkey)",
          "(1990,Turkmenistan)",
          "(1990,U.S. Virgin Islands)",
          "(1990,Uganda)",
          "(1990,Ukraine)",
          "(1990,United Arab Emirates)",
          "(1990,United Kingdom)",
          "(1990,United States)",
          "(1990,Uruguay)",
          "(1990,Uzbekistan)",
          "(1990,Vanuatu)",
          "(1990,Venezuela)",
          "(1990,Vietnam)",
          "(1990,Western Sahara)",
          "(1990,Yemen)",
          "(1990,Zambia)",
          "(1990,Zimbabwe)",
          "(1995,Afghanistan)",
          "(1995,Albania)",
          "(1995,Algeria)",
          "(1995,Angola)",
          "(1995,Antigua and Barbuda)",
          "(1995,Argentina)",
          "(1995,Armenia)",
          "(1995,Aruba)",
          "(1995,Australia)",
          "(1995,Austria)",
          "(1995,Azerbaijan)",
          "(1995,Bahamas)",
          "(1995,Bahrain)",
          "(1995,Bangladesh)",
          "(1995,Barbados)",
          "(1995,Belarus)",
          "(1995,Belgium)",
          "(1995,Belize)",
          "(1995,Benin)",
          "(1995,Bhutan)",
          "(1995,Bolivia)",
          "(1995,Bosnia and Herzegovina)",
          "(1995,Botswana)",
          "(1995,Brazil)",
          "(1995,Brunei )",
          "(1995,Bulgaria)",
          "(1995,Burkina Faso)",
          "(1995,Burundi)",
          "(1995,Cabo Verde)",
          "(1995,Cambodia)",
          "(1995,Cameroon)",
          "(1995,Canada)",
          "(1995,Central African Republic)",
          "(1995,Chad)",
          "(1995,Chile)",
          "(1995,China)",
          "(1995,Colombia)",
          "(1995,Comoros)",
          "(1995,Congo)",
          "(1995,Costa Rica)",
          "(1995,Croatia)",
          "(1995,Cuba)",
          "(1995,Curaçao)",
          "(1995,Cyprus)",
          "(1995,Czech Republic (Czechia))",
          "(1995,Côte d'Ivoire)",
          "(1995,DR Congo)",
          "(1995,Denmark)",
          "(1995,Djibouti)",
          "(1995,Dominican Republic)",
          "(1995,Ecuador)",
          "(1995,Egypt)",
          "(1995,El Salvador)",
          "(1995,Equatorial Guinea)",
          "(1995,Eritrea)",
          "(1995,Estonia)",
          "(1995,Eswatini)",
          "(1995,Ethiopia)",
          "(1995,Fiji)",
          "(1995,Finland)",
          "(1995,France)",
          "(1995,French Guiana)",
          "(1995,French Polynesia)",
          "(1995,Gabon)",
          "(1995,Gambia)",
          "(1995,Georgia)",
          "(1995,Germany)",
          "(1995,Ghana)",
          "(1995,Greece)",
          "(1995,Grenada)",
          "(1995,Guadeloupe)",
          "(1995,Guam)",
          "(1995,Guatemala)",
          "(1995,Guinea)",
          "(1995,Guinea-Bissau)",
          "(1995,Guyana)",
          "(1995,Haiti)",
          "(1995,Honduras)",
          "(1995,Hong Kong)",
          "(1995,Hungary)",
          "(1995,Iceland)",
          "(1995,India)",
          "(1995,Indonesia)",
          "(1995,Iran)",
          "(1995,Iraq)",
          "(1995,Ireland)",
          "(1995,Israel)",
          "(1995,Italy)",
          "(1995,Jamaica)",
          "(1995,Japan)",
          "(1995,Jordan)",
          "(1995,Kazakhstan)",
          "(1995,Kenya)",
          "(1995,Kiribati)",
          "(1995,Kuwait)",
          "(1995,Kyrgyzstan)",
          "(1995,Laos)",
          "(1995,Latvia)",
          "(1995,Lebanon)",
          "(1995,Lesotho)",
          "(1995,Liberia)",
          "(1995,Libya)",
          "(1995,Lithuania)",
          "(1995,Luxembourg)",
          "(1995,Macao)",
          "(1995,Madagascar)",
          "(1995,Malawi)",
          "(1995,Malaysia)",
          "(1995,Maldives)",
          "(1995,Mali)",
          "(1995,Malta)",
          "(1995,Martinique)",
          "(1995,Mauritania)",
          "(1995,Mauritius)",
          "(1995,Mayotte)",
          "(1995,Mexico)",
          "(1995,Moldova)",
          "(1995,Mongolia)",
          "(1995,Montenegro)",
          "(1995,Morocco)",
          "(1995,Mozambique)",
          "(1995,Myanmar)",
          "(1995,Namibia)",
          "(1995,Nepal)",
          "(1995,Netherlands)",
          "(1995,New Caledonia)",
          "(1995,New Zealand)",
          "(1995,Nicaragua)",
          "(1995,Niger)",
          "(1995,Nigeria)",
          "(1995,North Korea)",
          "(1995,North Macedonia)",
          "(1995,Norway)",
          "(1995,Oman)",
          "(1995,Pakistan)",
          "(1995,Panama)",
          "(1995,Papua New Guinea)",
          "(1995,Paraguay)",
          "(1995,Peru)",
          "(1995,Philippines)",
          "(1995,Poland)",
          "(1995,Portugal)",
          "(1995,Puerto Rico)",
          "(1995,Qatar)",
          "(1995,Romania)",
          "(1995,Russia)",
          "(1995,Rwanda)",
          "(1995,Réunion)",
          "(1995,Saint Lucia)",
          "(1995,Samoa)",
          "(1995,Sao Tome & Principe)",
          "(1995,Saudi Arabia)",
          "(1995,Senegal)",
          "(1995,Serbia)",
          "(1995,Seychelles)",
          "(1995,Sierra Leone)",
          "(1995,Singapore)",
          "(1995,Slovakia)",
          "(1995,Slovenia)",
          "(1995,Solomon Islands)",
          "(1995,Somalia)",
          "(1995,South Africa)",
          "(1995,South Korea)",
          "(1995,South Sudan)",
          "(1995,Spain)",
          "(1995,Sri Lanka)",
          "(1995,St. Vincent & Grenadines)",
          "(1995,State of Palestine)",
          "(1995,Sudan)",
          "(1995,Suriname)",
          "(1995,Sweden)",
          "(1995,Switzerland)",
          "(1995,Syria)",
          "(1995,Taiwan)",
          "(1995,Tajikistan)",
          "(1995,Tanzania)",
          "(1995,Thailand)",
          "(1995,Timor-Leste)",
          "(1995,Togo)",
          "(1995,Tonga)",
          "(1995,Trinidad and Tobago)",
          "(1995,Tunisia)",
          "(1995,Turkey)",
          "(1995,Turkmenistan)",
          "(1995,U.S. Virgin Islands)",
          "(1995,Uganda)",
          "(1995,Ukraine)",
          "(1995,United Arab Emirates)",
          "(1995,United Kingdom)",
          "(1995,United States)",
          "(1995,Uruguay)",
          "(1995,Uzbekistan)",
          "(1995,Vanuatu)",
          "(1995,Venezuela)",
          "(1995,Vietnam)",
          "(1995,Western Sahara)",
          "(1995,Yemen)",
          "(1995,Zambia)",
          "(1995,Zimbabwe)",
          "(2000,Afghanistan)",
          "(2000,Albania)",
          "(2000,Algeria)",
          "(2000,Angola)",
          "(2000,Antigua and Barbuda)",
          "(2000,Argentina)",
          "(2000,Armenia)",
          "(2000,Aruba)",
          "(2000,Australia)",
          "(2000,Austria)",
          "(2000,Azerbaijan)",
          "(2000,Bahamas)",
          "(2000,Bahrain)",
          "(2000,Bangladesh)",
          "(2000,Barbados)",
          "(2000,Belarus)",
          "(2000,Belgium)",
          "(2000,Belize)",
          "(2000,Benin)",
          "(2000,Bhutan)",
          "(2000,Bolivia)",
          "(2000,Bosnia and Herzegovina)",
          "(2000,Botswana)",
          "(2000,Brazil)",
          "(2000,Brunei )",
          "(2000,Bulgaria)",
          "(2000,Burkina Faso)",
          "(2000,Burundi)",
          "(2000,Cabo Verde)",
          "(2000,Cambodia)",
          "(2000,Cameroon)",
          "(2000,Canada)",
          "(2000,Central African Republic)",
          "(2000,Chad)",
          "(2000,Chile)",
          "(2000,China)",
          "(2000,Colombia)",
          "(2000,Comoros)",
          "(2000,Congo)",
          "(2000,Costa Rica)",
          "(2000,Croatia)",
          "(2000,Cuba)",
          "(2000,Curaçao)",
          "(2000,Cyprus)",
          "(2000,Czech Republic (Czechia))",
          "(2000,Côte d'Ivoire)",
          "(2000,DR Congo)",
          "(2000,Denmark)",
          "(2000,Djibouti)",
          "(2000,Dominican Republic)",
          "(2000,Ecuador)",
          "(2000,Egypt)",
          "(2000,El Salvador)",
          "(2000,Equatorial Guinea)",
          "(2000,Eritrea)",
          "(2000,Estonia)",
          "(2000,Eswatini)",
          "(2000,Ethiopia)",
          "(2000,Fiji)",
          "(2000,Finland)",
          "(2000,France)",
          "(2000,French Guiana)",
          "(2000,French Polynesia)",
          "(2000,Gabon)",
          "(2000,Gambia)",
          "(2000,Georgia)",
          "(2000,Germany)",
          "(2000,Ghana)",
          "(2000,Greece)",
          "(2000,Grenada)",
          "(2000,Guadeloupe)",
          "(2000,Guam)",
          "(2000,Guatemala)",
          "(2000,Guinea)",
          "(2000,Guinea-Bissau)",
          "(2000,Guyana)",
          "(2000,Haiti)",
          "(2000,Honduras)",
          "(2000,Hong Kong)",
          "(2000,Hungary)",
          "(2000,Iceland)",
          "(2000,India)",
          "(2000,Indonesia)",
          "(2000,Iran)",
          "(2000,Iraq)",
          "(2000,Ireland)",
          "(2000,Israel)",
          "(2000,Italy)",
          "(2000,Jamaica)",
          "(2000,Japan)",
          "(2000,Jordan)",
          "(2000,Kazakhstan)",
          "(2000,Kenya)",
          "(2000,Kiribati)",
          "(2000,Kuwait)",
          "(2000,Kyrgyzstan)",
          "(2000,Laos)",
          "(2000,Latvia)",
          "(2000,Lebanon)",
          "(2000,Lesotho)",
          "(2000,Liberia)",
          "(2000,Libya)",
          "(2000,Lithuania)",
          "(2000,Luxembourg)",
          "(2000,Macao)",
          "(2000,Madagascar)",
          "(2000,Malawi)",
          "(2000,Malaysia)",
          "(2000,Maldives)",
          "(2000,Mali)",
          "(2000,Malta)",
          "(2000,Martinique)",
          "(2000,Mauritania)",
          "(2000,Mauritius)",
          "(2000,Mayotte)",
          "(2000,Mexico)",
          "(2000,Moldova)",
          "(2000,Mongolia)",
          "(2000,Montenegro)",
          "(2000,Morocco)",
          "(2000,Mozambique)",
          "(2000,Myanmar)",
          "(2000,Namibia)",
          "(2000,Nepal)",
          "(2000,Netherlands)",
          "(2000,New Caledonia)",
          "(2000,New Zealand)",
          "(2000,Nicaragua)",
          "(2000,Niger)",
          "(2000,Nigeria)",
          "(2000,North Korea)",
          "(2000,North Macedonia)",
          "(2000,Norway)",
          "(2000,Oman)",
          "(2000,Pakistan)",
          "(2000,Panama)",
          "(2000,Papua New Guinea)",
          "(2000,Paraguay)",
          "(2000,Peru)",
          "(2000,Philippines)",
          "(2000,Poland)",
          "(2000,Portugal)",
          "(2000,Puerto Rico)",
          "(2000,Qatar)",
          "(2000,Romania)",
          "(2000,Russia)",
          "(2000,Rwanda)",
          "(2000,Réunion)",
          "(2000,Saint Lucia)",
          "(2000,Samoa)",
          "(2000,Sao Tome & Principe)",
          "(2000,Saudi Arabia)",
          "(2000,Senegal)",
          "(2000,Serbia)",
          "(2000,Seychelles)",
          "(2000,Sierra Leone)",
          "(2000,Singapore)",
          "(2000,Slovakia)",
          "(2000,Slovenia)",
          "(2000,Solomon Islands)",
          "(2000,Somalia)",
          "(2000,South Africa)",
          "(2000,South Korea)",
          "(2000,South Sudan)",
          "(2000,Spain)",
          "(2000,Sri Lanka)",
          "(2000,St. Vincent & Grenadines)",
          "(2000,State of Palestine)",
          "(2000,Sudan)",
          "(2000,Suriname)",
          "(2000,Sweden)",
          "(2000,Switzerland)",
          "(2000,Syria)",
          "(2000,Taiwan)",
          "(2000,Tajikistan)",
          "(2000,Tanzania)",
          "(2000,Thailand)",
          "(2000,Timor-Leste)",
          "(2000,Togo)",
          "(2000,Tonga)",
          "(2000,Trinidad and Tobago)",
          "(2000,Tunisia)",
          "(2000,Turkey)",
          "(2000,Turkmenistan)",
          "(2000,U.S. Virgin Islands)",
          "(2000,Uganda)",
          "(2000,Ukraine)",
          "(2000,United Arab Emirates)",
          "(2000,United Kingdom)",
          "(2000,United States)",
          "(2000,Uruguay)",
          "(2000,Uzbekistan)",
          "(2000,Vanuatu)",
          "(2000,Venezuela)",
          "(2000,Vietnam)",
          "(2000,Western Sahara)",
          "(2000,Yemen)",
          "(2000,Zambia)",
          "(2000,Zimbabwe)",
          "(2005,Afghanistan)",
          "(2005,Albania)",
          "(2005,Algeria)",
          "(2005,Angola)",
          "(2005,Antigua and Barbuda)",
          "(2005,Argentina)",
          "(2005,Armenia)",
          "(2005,Aruba)",
          "(2005,Australia)",
          "(2005,Austria)",
          "(2005,Azerbaijan)",
          "(2005,Bahamas)",
          "(2005,Bahrain)",
          "(2005,Bangladesh)",
          "(2005,Barbados)",
          "(2005,Belarus)",
          "(2005,Belgium)",
          "(2005,Belize)",
          "(2005,Benin)",
          "(2005,Bhutan)",
          "(2005,Bolivia)",
          "(2005,Bosnia and Herzegovina)",
          "(2005,Botswana)",
          "(2005,Brazil)",
          "(2005,Brunei )",
          "(2005,Bulgaria)",
          "(2005,Burkina Faso)",
          "(2005,Burundi)",
          "(2005,Cabo Verde)",
          "(2005,Cambodia)",
          "(2005,Cameroon)",
          "(2005,Canada)",
          "(2005,Central African Republic)",
          "(2005,Chad)",
          "(2005,Chile)",
          "(2005,China)",
          "(2005,Colombia)",
          "(2005,Comoros)",
          "(2005,Congo)",
          "(2005,Costa Rica)",
          "(2005,Croatia)",
          "(2005,Cuba)",
          "(2005,Curaçao)",
          "(2005,Cyprus)",
          "(2005,Czech Republic (Czechia))",
          "(2005,Côte d'Ivoire)",
          "(2005,DR Congo)",
          "(2005,Denmark)",
          "(2005,Djibouti)",
          "(2005,Dominican Republic)",
          "(2005,Ecuador)",
          "(2005,Egypt)",
          "(2005,El Salvador)",
          "(2005,Equatorial Guinea)",
          "(2005,Eritrea)",
          "(2005,Estonia)",
          "(2005,Eswatini)",
          "(2005,Ethiopia)",
          "(2005,Fiji)",
          "(2005,Finland)",
          "(2005,France)",
          "(2005,French Guiana)",
          "(2005,French Polynesia)",
          "(2005,Gabon)",
          "(2005,Gambia)",
          "(2005,Georgia)",
          "(2005,Germany)",
          "(2005,Ghana)",
          "(2005,Greece)",
          "(2005,Grenada)",
          "(2005,Guadeloupe)",
          "(2005,Guam)",
          "(2005,Guatemala)",
          "(2005,Guinea)",
          "(2005,Guinea-Bissau)",
          "(2005,Guyana)",
          "(2005,Haiti)",
          "(2005,Honduras)",
          "(2005,Hong Kong)",
          "(2005,Hungary)",
          "(2005,Iceland)",
          "(2005,India)",
          "(2005,Indonesia)",
          "(2005,Iran)",
          "(2005,Iraq)",
          "(2005,Ireland)",
          "(2005,Israel)",
          "(2005,Italy)",
          "(2005,Jamaica)",
          "(2005,Japan)",
          "(2005,Jordan)",
          "(2005,Kazakhstan)",
          "(2005,Kenya)",
          "(2005,Kiribati)",
          "(2005,Kuwait)",
          "(2005,Kyrgyzstan)",
          "(2005,Laos)",
          "(2005,Latvia)",
          "(2005,Lebanon)",
          "(2005,Lesotho)",
          "(2005,Liberia)",
          "(2005,Libya)",
          "(2005,Lithuania)",
          "(2005,Luxembourg)",
          "(2005,Macao)",
          "(2005,Madagascar)",
          "(2005,Malawi)",
          "(2005,Malaysia)",
          "(2005,Maldives)",
          "(2005,Mali)",
          "(2005,Malta)",
          "(2005,Martinique)",
          "(2005,Mauritania)",
          "(2005,Mauritius)",
          "(2005,Mayotte)",
          "(2005,Mexico)",
          "(2005,Moldova)",
          "(2005,Mongolia)",
          "(2005,Montenegro)",
          "(2005,Morocco)",
          "(2005,Mozambique)",
          "(2005,Myanmar)",
          "(2005,Namibia)",
          "(2005,Nepal)",
          "(2005,Netherlands)",
          "(2005,New Caledonia)",
          "(2005,New Zealand)",
          "(2005,Nicaragua)",
          "(2005,Niger)",
          "(2005,Nigeria)",
          "(2005,North Korea)",
          "(2005,North Macedonia)",
          "(2005,Norway)",
          "(2005,Oman)",
          "(2005,Pakistan)",
          "(2005,Panama)",
          "(2005,Papua New Guinea)",
          "(2005,Paraguay)",
          "(2005,Peru)",
          "(2005,Philippines)",
          "(2005,Poland)",
          "(2005,Portugal)",
          "(2005,Puerto Rico)",
          "(2005,Qatar)",
          "(2005,Romania)",
          "(2005,Russia)",
          "(2005,Rwanda)",
          "(2005,Réunion)",
          "(2005,Saint Lucia)",
          "(2005,Samoa)",
          "(2005,Sao Tome & Principe)",
          "(2005,Saudi Arabia)",
          "(2005,Senegal)",
          "(2005,Serbia)",
          "(2005,Seychelles)",
          "(2005,Sierra Leone)",
          "(2005,Singapore)",
          "(2005,Slovakia)",
          "(2005,Slovenia)",
          "(2005,Solomon Islands)",
          "(2005,Somalia)",
          "(2005,South Africa)",
          "(2005,South Korea)",
          "(2005,South Sudan)",
          "(2005,Spain)",
          "(2005,Sri Lanka)",
          "(2005,St. Vincent & Grenadines)",
          "(2005,State of Palestine)",
          "(2005,Sudan)",
          "(2005,Suriname)",
          "(2005,Sweden)",
          "(2005,Switzerland)",
          "(2005,Syria)",
          "(2005,Taiwan)",
          "(2005,Tajikistan)",
          "(2005,Tanzania)",
          "(2005,Thailand)",
          "(2005,Timor-Leste)",
          "(2005,Togo)",
          "(2005,Tonga)",
          "(2005,Trinidad and Tobago)",
          "(2005,Tunisia)",
          "(2005,Turkey)",
          "(2005,Turkmenistan)",
          "(2005,U.S. Virgin Islands)",
          "(2005,Uganda)",
          "(2005,Ukraine)",
          "(2005,United Arab Emirates)",
          "(2005,United Kingdom)",
          "(2005,United States)",
          "(2005,Uruguay)",
          "(2005,Uzbekistan)",
          "(2005,Vanuatu)",
          "(2005,Venezuela)",
          "(2005,Vietnam)",
          "(2005,Western Sahara)",
          "(2005,Yemen)",
          "(2005,Zambia)",
          "(2005,Zimbabwe)",
          "(2010,Afghanistan)",
          "(2010,Albania)",
          "(2010,Algeria)",
          "(2010,Angola)",
          "(2010,Antigua and Barbuda)",
          "(2010,Argentina)",
          "(2010,Armenia)",
          "(2010,Aruba)",
          "(2010,Australia)",
          "(2010,Austria)",
          "(2010,Azerbaijan)",
          "(2010,Bahamas)",
          "(2010,Bahrain)",
          "(2010,Bangladesh)",
          "(2010,Barbados)",
          "(2010,Belarus)",
          "(2010,Belgium)",
          "(2010,Belize)",
          "(2010,Benin)",
          "(2010,Bhutan)",
          "(2010,Bolivia)",
          "(2010,Bosnia and Herzegovina)",
          "(2010,Botswana)",
          "(2010,Brazil)",
          "(2010,Brunei )",
          "(2010,Bulgaria)",
          "(2010,Burkina Faso)",
          "(2010,Burundi)",
          "(2010,Cabo Verde)",
          "(2010,Cambodia)",
          "(2010,Cameroon)",
          "(2010,Canada)",
          "(2010,Central African Republic)",
          "(2010,Chad)",
          "(2010,Chile)",
          "(2010,China)",
          "(2010,Colombia)",
          "(2010,Comoros)",
          "(2010,Congo)",
          "(2010,Costa Rica)",
          "(2010,Croatia)",
          "(2010,Cuba)",
          "(2010,Curaçao)",
          "(2010,Cyprus)",
          "(2010,Czech Republic (Czechia))",
          "(2010,Côte d'Ivoire)",
          "(2010,DR Congo)",
          "(2010,Denmark)",
          "(2010,Djibouti)",
          "(2010,Dominican Republic)",
          "(2010,Ecuador)",
          "(2010,Egypt)",
          "(2010,El Salvador)",
          "(2010,Equatorial Guinea)",
          "(2010,Eritrea)",
          "(2010,Estonia)",
          "(2010,Eswatini)",
          "(2010,Ethiopia)",
          "(2010,Fiji)",
          "(2010,Finland)",
          "(2010,France)",
          "(2010,French Guiana)",
          "(2010,French Polynesia)",
          "(2010,Gabon)",
          "(2010,Gambia)",
          "(2010,Georgia)",
          "(2010,Germany)",
          "(2010,Ghana)",
          "(2010,Greece)",
          "(2010,Grenada)",
          "(2010,Guadeloupe)",
          "(2010,Guam)",
          "(2010,Guatemala)",
          "(2010,Guinea)",
          "(2010,Guinea-Bissau)",
          "(2010,Guyana)",
          "(2010,Haiti)",
          "(2010,Honduras)",
          "(2010,Hong Kong)",
          "(2010,Hungary)",
          "(2010,Iceland)",
          "(2010,India)",
          "(2010,Indonesia)",
          "(2010,Iran)",
          "(2010,Iraq)",
          "(2010,Ireland)",
          "(2010,Israel)",
          "(2010,Italy)",
          "(2010,Jamaica)",
          "(2010,Japan)",
          "(2010,Jordan)",
          "(2010,Kazakhstan)",
          "(2010,Kenya)",
          "(2010,Kiribati)",
          "(2010,Kuwait)",
          "(2010,Kyrgyzstan)",
          "(2010,Laos)",
          "(2010,Latvia)",
          "(2010,Lebanon)",
          "(2010,Lesotho)",
          "(2010,Liberia)",
          "(2010,Libya)",
          "(2010,Lithuania)",
          "(2010,Luxembourg)",
          "(2010,Macao)",
          "(2010,Madagascar)",
          "(2010,Malawi)",
          "(2010,Malaysia)",
          "(2010,Maldives)",
          "(2010,Mali)",
          "(2010,Malta)",
          "(2010,Martinique)",
          "(2010,Mauritania)",
          "(2010,Mauritius)",
          "(2010,Mayotte)",
          "(2010,Mexico)",
          "(2010,Moldova)",
          "(2010,Mongolia)",
          "(2010,Montenegro)",
          "(2010,Morocco)",
          "(2010,Mozambique)",
          "(2010,Myanmar)",
          "(2010,Namibia)",
          "(2010,Nepal)",
          "(2010,Netherlands)",
          "(2010,New Caledonia)",
          "(2010,New Zealand)",
          "(2010,Nicaragua)",
          "(2010,Niger)",
          "(2010,Nigeria)",
          "(2010,North Korea)",
          "(2010,North Macedonia)",
          "(2010,Norway)",
          "(2010,Oman)",
          "(2010,Pakistan)",
          "(2010,Panama)",
          "(2010,Papua New Guinea)",
          "(2010,Paraguay)",
          "(2010,Peru)",
          "(2010,Philippines)",
          "(2010,Poland)",
          "(2010,Portugal)",
          "(2010,Puerto Rico)",
          "(2010,Qatar)",
          "(2010,Romania)",
          "(2010,Russia)",
          "(2010,Rwanda)",
          "(2010,Réunion)",
          "(2010,Saint Lucia)",
          "(2010,Samoa)",
          "(2010,Sao Tome & Principe)",
          "(2010,Saudi Arabia)",
          "(2010,Senegal)",
          "(2010,Serbia)",
          "(2010,Seychelles)",
          "(2010,Sierra Leone)",
          "(2010,Singapore)",
          "(2010,Slovakia)",
          "(2010,Slovenia)",
          "(2010,Solomon Islands)",
          "(2010,Somalia)",
          "(2010,South Africa)",
          "(2010,South Korea)",
          "(2010,South Sudan)",
          "(2010,Spain)",
          "(2010,Sri Lanka)",
          "(2010,St. Vincent & Grenadines)",
          "(2010,State of Palestine)",
          "(2010,Sudan)",
          "(2010,Suriname)",
          "(2010,Sweden)",
          "(2010,Switzerland)",
          "(2010,Syria)",
          "(2010,Taiwan)",
          "(2010,Tajikistan)",
          "(2010,Tanzania)",
          "(2010,Thailand)",
          "(2010,Timor-Leste)",
          "(2010,Togo)",
          "(2010,Tonga)",
          "(2010,Trinidad and Tobago)",
          "(2010,Tunisia)",
          "(2010,Turkey)",
          "(2010,Turkmenistan)",
          "(2010,U.S. Virgin Islands)",
          "(2010,Uganda)",
          "(2010,Ukraine)",
          "(2010,United Arab Emirates)",
          "(2010,United Kingdom)",
          "(2010,United States)",
          "(2010,Uruguay)",
          "(2010,Uzbekistan)",
          "(2010,Vanuatu)",
          "(2010,Venezuela)",
          "(2010,Vietnam)",
          "(2010,Western Sahara)",
          "(2010,Yemen)",
          "(2010,Zambia)",
          "(2010,Zimbabwe)",
          "(2015,Afghanistan)",
          "(2015,Albania)",
          "(2015,Algeria)",
          "(2015,Angola)",
          "(2015,Antigua and Barbuda)",
          "(2015,Argentina)",
          "(2015,Armenia)",
          "(2015,Aruba)",
          "(2015,Australia)",
          "(2015,Austria)",
          "(2015,Azerbaijan)",
          "(2015,Bahamas)",
          "(2015,Bahrain)",
          "(2015,Bangladesh)",
          "(2015,Barbados)",
          "(2015,Belarus)",
          "(2015,Belgium)",
          "(2015,Belize)",
          "(2015,Benin)",
          "(2015,Bhutan)",
          "(2015,Bolivia)",
          "(2015,Bosnia and Herzegovina)",
          "(2015,Botswana)",
          "(2015,Brazil)",
          "(2015,Brunei )",
          "(2015,Bulgaria)",
          "(2015,Burkina Faso)",
          "(2015,Burundi)",
          "(2015,Cabo Verde)",
          "(2015,Cambodia)",
          "(2015,Cameroon)",
          "(2015,Canada)",
          "(2015,Central African Republic)",
          "(2015,Chad)",
          "(2015,Chile)",
          "(2015,China)",
          "(2015,Colombia)",
          "(2015,Comoros)",
          "(2015,Congo)",
          "(2015,Costa Rica)",
          "(2015,Croatia)",
          "(2015,Cuba)",
          "(2015,Curaçao)",
          "(2015,Cyprus)",
          "(2015,Czech Republic (Czechia))",
          "(2015,Côte d'Ivoire)",
          "(2015,DR Congo)",
          "(2015,Denmark)",
          "(2015,Djibouti)",
          "(2015,Dominican Republic)",
          "(2015,Ecuador)",
          "(2015,Egypt)",
          "(2015,El Salvador)",
          "(2015,Equatorial Guinea)",
          "(2015,Eritrea)",
          "(2015,Estonia)",
          "(2015,Eswatini)",
          "(2015,Ethiopia)",
          "(2015,Fiji)",
          "(2015,Finland)",
          "(2015,France)",
          "(2015,French Guiana)",
          "(2015,French Polynesia)",
          "(2015,Gabon)",
          "(2015,Gambia)",
          "(2015,Georgia)",
          "(2015,Germany)",
          "(2015,Ghana)",
          "(2015,Greece)",
          "(2015,Grenada)",
          "(2015,Guadeloupe)",
          "(2015,Guam)",
          "(2015,Guatemala)",
          "(2015,Guinea)",
          "(2015,Guinea-Bissau)",
          "(2015,Guyana)",
          "(2015,Haiti)",
          "(2015,Honduras)",
          "(2015,Hong Kong)",
          "(2015,Hungary)",
          "(2015,Iceland)",
          "(2015,India)",
          "(2015,Indonesia)",
          "(2015,Iran)",
          "(2015,Iraq)",
          "(2015,Ireland)",
          "(2015,Israel)",
          "(2015,Italy)",
          "(2015,Jamaica)",
          "(2015,Japan)",
          "(2015,Jordan)",
          "(2015,Kazakhstan)",
          "(2015,Kenya)",
          "(2015,Kiribati)",
          "(2015,Kuwait)",
          "(2015,Kyrgyzstan)",
          "(2015,Laos)",
          "(2015,Latvia)",
          "(2015,Lebanon)",
          "(2015,Lesotho)",
          "(2015,Liberia)",
          "(2015,Libya)",
          "(2015,Lithuania)",
          "(2015,Luxembourg)",
          "(2015,Macao)",
          "(2015,Madagascar)",
          "(2015,Malawi)",
          "(2015,Malaysia)",
          "(2015,Maldives)",
          "(2015,Mali)",
          "(2015,Malta)",
          "(2015,Martinique)",
          "(2015,Mauritania)",
          "(2015,Mauritius)",
          "(2015,Mayotte)",
          "(2015,Mexico)",
          "(2015,Moldova)",
          "(2015,Mongolia)",
          "(2015,Montenegro)",
          "(2015,Morocco)",
          "(2015,Mozambique)",
          "(2015,Myanmar)",
          "(2015,Namibia)",
          "(2015,Nepal)",
          "(2015,Netherlands)",
          "(2015,New Caledonia)",
          "(2015,New Zealand)",
          "(2015,Nicaragua)",
          "(2015,Niger)",
          "(2015,Nigeria)",
          "(2015,North Korea)",
          "(2015,North Macedonia)",
          "(2015,Norway)",
          "(2015,Oman)",
          "(2015,Pakistan)",
          "(2015,Panama)",
          "(2015,Papua New Guinea)",
          "(2015,Paraguay)",
          "(2015,Peru)",
          "(2015,Philippines)",
          "(2015,Poland)",
          "(2015,Portugal)",
          "(2015,Puerto Rico)",
          "(2015,Qatar)",
          "(2015,Romania)",
          "(2015,Russia)",
          "(2015,Rwanda)",
          "(2015,Réunion)",
          "(2015,Saint Lucia)",
          "(2015,Samoa)",
          "(2015,Sao Tome & Principe)",
          "(2015,Saudi Arabia)",
          "(2015,Senegal)",
          "(2015,Serbia)",
          "(2015,Seychelles)",
          "(2015,Sierra Leone)",
          "(2015,Singapore)",
          "(2015,Slovakia)",
          "(2015,Slovenia)",
          "(2015,Solomon Islands)",
          "(2015,Somalia)",
          "(2015,South Africa)",
          "(2015,South Korea)",
          "(2015,South Sudan)",
          "(2015,Spain)",
          "(2015,Sri Lanka)",
          "(2015,St. Vincent & Grenadines)",
          "(2015,State of Palestine)",
          "(2015,Sudan)",
          "(2015,Suriname)",
          "(2015,Sweden)",
          "(2015,Switzerland)",
          "(2015,Syria)",
          "(2015,Taiwan)",
          "(2015,Tajikistan)",
          "(2015,Tanzania)",
          "(2015,Thailand)",
          "(2015,Timor-Leste)",
          "(2015,Togo)",
          "(2015,Tonga)",
          "(2015,Trinidad and Tobago)",
          "(2015,Tunisia)",
          "(2015,Turkey)",
          "(2015,Turkmenistan)",
          "(2015,U.S. Virgin Islands)",
          "(2015,Uganda)",
          "(2015,Ukraine)",
          "(2015,United Arab Emirates)",
          "(2015,United Kingdom)",
          "(2015,United States)",
          "(2015,Uruguay)",
          "(2015,Uzbekistan)",
          "(2015,Vanuatu)",
          "(2015,Venezuela)",
          "(2015,Vietnam)",
          "(2015,Western Sahara)",
          "(2015,Yemen)",
          "(2015,Zambia)",
          "(2015,Zimbabwe)",
          "(2020,Afghanistan)",
          "(2020,Albania)",
          "(2020,Algeria)",
          "(2020,Angola)",
          "(2020,Antigua and Barbuda)",
          "(2020,Argentina)",
          "(2020,Armenia)",
          "(2020,Aruba)",
          "(2020,Australia)",
          "(2020,Austria)",
          "(2020,Azerbaijan)",
          "(2020,Bahamas)",
          "(2020,Bahrain)",
          "(2020,Bangladesh)",
          "(2020,Barbados)",
          "(2020,Belarus)",
          "(2020,Belgium)",
          "(2020,Belize)",
          "(2020,Benin)",
          "(2020,Bhutan)",
          "(2020,Bolivia)",
          "(2020,Bosnia and Herzegovina)",
          "(2020,Botswana)",
          "(2020,Brazil)",
          "(2020,Brunei )",
          "(2020,Bulgaria)",
          "(2020,Burkina Faso)",
          "(2020,Burundi)",
          "(2020,Cabo Verde)",
          "(2020,Cambodia)",
          "(2020,Cameroon)",
          "(2020,Canada)",
          "(2020,Central African Republic)",
          "(2020,Chad)",
          "(2020,Chile)",
          "(2020,China)",
          "(2020,Colombia)",
          "(2020,Comoros)",
          "(2020,Congo)",
          "(2020,Costa Rica)",
          "(2020,Croatia)",
          "(2020,Cuba)",
          "(2020,Curaçao)",
          "(2020,Cyprus)",
          "(2020,Czech Republic (Czechia))",
          "(2020,Côte d'Ivoire)",
          "(2020,DR Congo)",
          "(2020,Denmark)",
          "(2020,Djibouti)",
          "(2020,Dominican Republic)",
          "(2020,Ecuador)",
          "(2020,Egypt)",
          "(2020,El Salvador)",
          "(2020,Equatorial Guinea)",
          "(2020,Eritrea)",
          "(2020,Estonia)",
          "(2020,Eswatini)",
          "(2020,Ethiopia)",
          "(2020,Fiji)",
          "(2020,Finland)",
          "(2020,France)",
          "(2020,French Guiana)",
          "(2020,French Polynesia)",
          "(2020,Gabon)",
          "(2020,Gambia)",
          "(2020,Georgia)",
          "(2020,Germany)",
          "(2020,Ghana)",
          "(2020,Greece)",
          "(2020,Grenada)",
          "(2020,Guadeloupe)",
          "(2020,Guam)",
          "(2020,Guatemala)",
          "(2020,Guinea)",
          "(2020,Guinea-Bissau)",
          "(2020,Guyana)",
          "(2020,Haiti)",
          "(2020,Honduras)",
          "(2020,Hong Kong)",
          "(2020,Hungary)",
          "(2020,Iceland)",
          "(2020,India)",
          "(2020,Indonesia)",
          "(2020,Iran)",
          "(2020,Iraq)",
          "(2020,Ireland)",
          "(2020,Israel)",
          "(2020,Italy)",
          "(2020,Jamaica)",
          "(2020,Japan)",
          "(2020,Jordan)",
          "(2020,Kazakhstan)",
          "(2020,Kenya)",
          "(2020,Kiribati)",
          "(2020,Kuwait)",
          "(2020,Kyrgyzstan)",
          "(2020,Laos)",
          "(2020,Latvia)",
          "(2020,Lebanon)",
          "(2020,Lesotho)",
          "(2020,Liberia)",
          "(2020,Libya)",
          "(2020,Lithuania)",
          "(2020,Luxembourg)",
          "(2020,Macao)",
          "(2020,Madagascar)",
          "(2020,Malawi)",
          "(2020,Malaysia)",
          "(2020,Maldives)",
          "(2020,Mali)",
          "(2020,Malta)",
          "(2020,Martinique)",
          "(2020,Mauritania)",
          "(2020,Mauritius)",
          "(2020,Mayotte)",
          "(2020,Mexico)",
          "(2020,Moldova)",
          "(2020,Mongolia)",
          "(2020,Montenegro)",
          "(2020,Morocco)",
          "(2020,Mozambique)",
          "(2020,Myanmar)",
          "(2020,Namibia)",
          "(2020,Nepal)",
          "(2020,Netherlands)",
          "(2020,New Caledonia)",
          "(2020,New Zealand)",
          "(2020,Nicaragua)",
          "(2020,Niger)",
          "(2020,Nigeria)",
          "(2020,North Korea)",
          "(2020,North Macedonia)",
          "(2020,Norway)",
          "(2020,Oman)",
          "(2020,Pakistan)",
          "(2020,Panama)",
          "(2020,Papua New Guinea)",
          "(2020,Paraguay)",
          "(2020,Peru)",
          "(2020,Philippines)",
          "(2020,Poland)",
          "(2020,Portugal)",
          "(2020,Puerto Rico)",
          "(2020,Qatar)",
          "(2020,Romania)",
          "(2020,Russia)",
          "(2020,Rwanda)",
          "(2020,Réunion)",
          "(2020,Saint Lucia)",
          "(2020,Samoa)",
          "(2020,Sao Tome & Principe)",
          "(2020,Saudi Arabia)",
          "(2020,Senegal)",
          "(2020,Serbia)",
          "(2020,Seychelles)",
          "(2020,Sierra Leone)",
          "(2020,Singapore)",
          "(2020,Slovakia)",
          "(2020,Slovenia)",
          "(2020,Solomon Islands)",
          "(2020,Somalia)",
          "(2020,South Africa)",
          "(2020,South Korea)",
          "(2020,South Sudan)",
          "(2020,Spain)",
          "(2020,Sri Lanka)",
          "(2020,St. Vincent & Grenadines)",
          "(2020,State of Palestine)",
          "(2020,Sudan)",
          "(2020,Suriname)",
          "(2020,Sweden)",
          "(2020,Switzerland)",
          "(2020,Syria)",
          "(2020,Taiwan)",
          "(2020,Tajikistan)",
          "(2020,Tanzania)",
          "(2020,Thailand)",
          "(2020,Timor-Leste)",
          "(2020,Togo)",
          "(2020,Tonga)",
          "(2020,Trinidad and Tobago)",
          "(2020,Tunisia)",
          "(2020,Turkey)",
          "(2020,Turkmenistan)",
          "(2020,U.S. Virgin Islands)",
          "(2020,Uganda)",
          "(2020,Ukraine)",
          "(2020,United Arab Emirates)",
          "(2020,United Kingdom)",
          "(2020,United States)",
          "(2020,Uruguay)",
          "(2020,Uzbekistan)",
          "(2020,Vanuatu)",
          "(2020,Venezuela)",
          "(2020,Vietnam)",
          "(2020,Western Sahara)",
          "(2020,Yemen)",
          "(2020,Zambia)",
          "(2020,Zimbabwe)",
          "(2022,Afghanistan)",
          "(2022,Albania)",
          "(2022,Algeria)",
          "(2022,Angola)",
          "(2022,Antigua and Barbuda)",
          "(2022,Argentina)",
          "(2022,Armenia)",
          "(2022,Aruba)",
          "(2022,Australia)",
          "(2022,Austria)",
          "(2022,Azerbaijan)",
          "(2022,Bahamas)",
          "(2022,Bahrain)",
          "(2022,Bangladesh)",
          "(2022,Barbados)",
          "(2022,Belarus)",
          "(2022,Belgium)",
          "(2022,Belize)",
          "(2022,Benin)",
          "(2022,Bhutan)",
          "(2022,Bolivia)",
          "(2022,Bosnia and Herzegovina)",
          "(2022,Botswana)",
          "(2022,Brazil)",
          "(2022,Brunei )",
          "(2022,Bulgaria)",
          "(2022,Burkina Faso)",
          "(2022,Burundi)",
          "(2022,Cabo Verde)",
          "(2022,Cambodia)",
          "(2022,Cameroon)",
          "(2022,Canada)",
          "(2022,Central African Republic)",
          "(2022,Chad)",
          "(2022,Chile)",
          "(2022,China)",
          "(2022,Colombia)",
          "(2022,Comoros)",
          "(2022,Congo)",
          "(2022,Costa Rica)",
          "(2022,Croatia)",
          "(2022,Cuba)",
          "(2022,Curaçao)",
          "(2022,Cyprus)",
          "(2022,Czech Republic (Czechia))",
          "(2022,Côte d'Ivoire)",
          "(2022,DR Congo)",
          "(2022,Denmark)",
          "(2022,Djibouti)",
          "(2022,Dominican Republic)",
          "(2022,Ecuador)",
          "(2022,Egypt)",
          "(2022,El Salvador)",
          "(2022,Equatorial Guinea)",
          "(2022,Eritrea)",
          "(2022,Estonia)",
          "(2022,Eswatini)",
          "(2022,Ethiopia)",
          "(2022,Fiji)",
          "(2022,Finland)",
          "(2022,France)",
          "(2022,French Guiana)",
          "(2022,French Polynesia)",
          "(2022,Gabon)",
          "(2022,Gambia)",
          "(2022,Georgia)",
          "(2022,Germany)",
          "(2022,Ghana)",
          "(2022,Greece)",
          "(2022,Grenada)",
          "(2022,Guadeloupe)",
          "(2022,Guam)",
          "(2022,Guatemala)",
          "(2022,Guinea)",
          "(2022,Guinea-Bissau)",
          "(2022,Guyana)",
          "(2022,Haiti)",
          "(2022,Honduras)",
          "(2022,Hong Kong)",
          "(2022,Hungary)",
          "(2022,Iceland)",
          "(2022,India)",
          "(2022,Indonesia)",
          "(2022,Iran)",
          "(2022,Iraq)",
          "(2022,Ireland)",
          "(2022,Israel)",
          "(2022,Italy)",
          "(2022,Jamaica)",
          "(2022,Japan)",
          "(2022,Jordan)",
          "(2022,Kazakhstan)",
          "(2022,Kenya)",
          "(2022,Kiribati)",
          "(2022,Kuwait)",
          "(2022,Kyrgyzstan)",
          "(2022,Laos)",
          "(2022,Latvia)",
          "(2022,Lebanon)",
          "(2022,Lesotho)",
          "(2022,Liberia)",
          "(2022,Libya)",
          "(2022,Lithuania)",
          "(2022,Luxembourg)",
          "(2022,Macao)",
          "(2022,Madagascar)",
          "(2022,Malawi)",
          "(2022,Malaysia)",
          "(2022,Maldives)",
          "(2022,Mali)",
          "(2022,Malta)",
          "(2022,Martinique)",
          "(2022,Mauritania)",
          "(2022,Mauritius)",
          "(2022,Mayotte)",
          "(2022,Mexico)",
          "(2022,Moldova)",
          "(2022,Mongolia)",
          "(2022,Montenegro)",
          "(2022,Morocco)",
          "(2022,Mozambique)",
          "(2022,Myanmar)",
          "(2022,Namibia)",
          "(2022,Nepal)",
          "(2022,Netherlands)",
          "(2022,New Caledonia)",
          "(2022,New Zealand)",
          "(2022,Nicaragua)",
          "(2022,Niger)",
          "(2022,Nigeria)",
          "(2022,North Korea)",
          "(2022,North Macedonia)",
          "(2022,Norway)",
          "(2022,Oman)",
          "(2022,Pakistan)",
          "(2022,Panama)",
          "(2022,Papua New Guinea)",
          "(2022,Paraguay)",
          "(2022,Peru)",
          "(2022,Philippines)",
          "(2022,Poland)",
          "(2022,Portugal)",
          "(2022,Puerto Rico)",
          "(2022,Qatar)",
          "(2022,Romania)",
          "(2022,Russia)",
          "(2022,Rwanda)",
          "(2022,Réunion)",
          "(2022,Saint Lucia)",
          "(2022,Samoa)",
          "(2022,Sao Tome & Principe)",
          "(2022,Saudi Arabia)",
          "(2022,Senegal)",
          "(2022,Serbia)",
          "(2022,Seychelles)",
          "(2022,Sierra Leone)",
          "(2022,Singapore)",
          "(2022,Slovakia)",
          "(2022,Slovenia)",
          "(2022,Solomon Islands)",
          "(2022,Somalia)",
          "(2022,South Africa)",
          "(2022,South Korea)",
          "(2022,South Sudan)",
          "(2022,Spain)",
          "(2022,Sri Lanka)",
          "(2022,St. Vincent & Grenadines)",
          "(2022,State of Palestine)",
          "(2022,Sudan)",
          "(2022,Suriname)",
          "(2022,Sweden)",
          "(2022,Switzerland)",
          "(2022,Syria)",
          "(2022,Taiwan)",
          "(2022,Tajikistan)",
          "(2022,Tanzania)",
          "(2022,Thailand)",
          "(2022,Timor-Leste)",
          "(2022,Togo)",
          "(2022,Tonga)",
          "(2022,Trinidad and Tobago)",
          "(2022,Tunisia)",
          "(2022,Turkey)",
          "(2022,Turkmenistan)",
          "(2022,U.S. Virgin Islands)",
          "(2022,Uganda)",
          "(2022,Ukraine)",
          "(2022,United Arab Emirates)",
          "(2022,United Kingdom)",
          "(2022,United States)",
          "(2022,Uruguay)",
          "(2022,Uzbekistan)",
          "(2022,Vanuatu)",
          "(2022,Venezuela)",
          "(2022,Vietnam)",
          "(2022,Western Sahara)",
          "(2022,Yemen)",
          "(2022,Zambia)",
          "(2022,Zimbabwe)",
          "(2023,Afghanistan)",
          "(2023,Albania)",
          "(2023,Algeria)",
          "(2023,Angola)",
          "(2023,Antigua and Barbuda)",
          "(2023,Argentina)",
          "(2023,Armenia)",
          "(2023,Aruba)",
          "(2023,Australia)",
          "(2023,Austria)",
          "(2023,Azerbaijan)",
          "(2023,Bahamas)",
          "(2023,Bahrain)",
          "(2023,Bangladesh)",
          "(2023,Barbados)",
          "(2023,Belarus)",
          "(2023,Belgium)",
          "(2023,Belize)",
          "(2023,Benin)",
          "(2023,Bhutan)",
          "(2023,Bolivia)",
          "(2023,Bosnia and Herzegovina)",
          "(2023,Botswana)",
          "(2023,Brazil)",
          "(2023,Brunei )",
          "(2023,Bulgaria)",
          "(2023,Burkina Faso)",
          "(2023,Burundi)",
          "(2023,Cabo Verde)",
          "(2023,Cambodia)",
          "(2023,Cameroon)",
          "(2023,Canada)",
          "(2023,Central African Republic)",
          "(2023,Chad)",
          "(2023,Chile)",
          "(2023,China)",
          "(2023,Colombia)",
          "(2023,Comoros)",
          "(2023,Congo)",
          "(2023,Costa Rica)",
          "(2023,Croatia)",
          "(2023,Cuba)",
          "(2023,Curaçao)",
          "(2023,Cyprus)",
          "(2023,Czech Republic (Czechia))",
          "(2023,Côte d'Ivoire)",
          "(2023,DR Congo)",
          "(2023,Denmark)",
          "(2023,Djibouti)",
          "(2023,Dominican Republic)",
          "(2023,Ecuador)",
          "(2023,Egypt)",
          "(2023,El Salvador)",
          "(2023,Equatorial Guinea)",
          "(2023,Eritrea)",
          "(2023,Estonia)",
          "(2023,Eswatini)",
          "(2023,Ethiopia)",
          "(2023,Fiji)",
          "(2023,Finland)",
          "(2023,France)",
          "(2023,French Guiana)",
          "(2023,French Polynesia)",
          "(2023,Gabon)",
          "(2023,Gambia)",
          "(2023,Georgia)",
          "(2023,Germany)",
          "(2023,Ghana)",
          "(2023,Greece)",
          "(2023,Grenada)",
          "(2023,Guadeloupe)",
          "(2023,Guam)",
          "(2023,Guatemala)",
          "(2023,Guinea)",
          "(2023,Guinea-Bissau)",
          "(2023,Guyana)",
          "(2023,Haiti)",
          "(2023,Honduras)",
          "(2023,Hong Kong)",
          "(2023,Hungary)",
          "(2023,Iceland)",
          "(2023,India)",
          "(2023,Indonesia)",
          "(2023,Iran)",
          "(2023,Iraq)",
          "(2023,Ireland)",
          "(2023,Israel)",
          "(2023,Italy)",
          "(2023,Jamaica)",
          "(2023,Japan)",
          "(2023,Jordan)",
          "(2023,Kazakhstan)",
          "(2023,Kenya)",
          "(2023,Kiribati)",
          "(2023,Kuwait)",
          "(2023,Kyrgyzstan)",
          "(2023,Laos)",
          "(2023,Latvia)",
          "(2023,Lebanon)",
          "(2023,Lesotho)",
          "(2023,Liberia)",
          "(2023,Libya)",
          "(2023,Lithuania)",
          "(2023,Luxembourg)",
          "(2023,Macao)",
          "(2023,Madagascar)",
          "(2023,Malawi)",
          "(2023,Malaysia)",
          "(2023,Maldives)",
          "(2023,Mali)",
          "(2023,Malta)",
          "(2023,Martinique)",
          "(2023,Mauritania)",
          "(2023,Mauritius)",
          "(2023,Mayotte)",
          "(2023,Mexico)",
          "(2023,Moldova)",
          "(2023,Mongolia)",
          "(2023,Montenegro)",
          "(2023,Morocco)",
          "(2023,Mozambique)",
          "(2023,Myanmar)",
          "(2023,Namibia)",
          "(2023,Nepal)",
          "(2023,Netherlands)",
          "(2023,New Caledonia)",
          "(2023,New Zealand)",
          "(2023,Nicaragua)",
          "(2023,Niger)",
          "(2023,Nigeria)",
          "(2023,North Korea)",
          "(2023,North Macedonia)",
          "(2023,Norway)",
          "(2023,Oman)",
          "(2023,Pakistan)",
          "(2023,Panama)",
          "(2023,Papua New Guinea)",
          "(2023,Paraguay)",
          "(2023,Peru)",
          "(2023,Philippines)",
          "(2023,Poland)",
          "(2023,Portugal)",
          "(2023,Puerto Rico)",
          "(2023,Qatar)",
          "(2023,Romania)",
          "(2023,Russia)",
          "(2023,Rwanda)",
          "(2023,Réunion)",
          "(2023,Saint Lucia)",
          "(2023,Samoa)",
          "(2023,Sao Tome & Principe)",
          "(2023,Saudi Arabia)",
          "(2023,Senegal)",
          "(2023,Serbia)",
          "(2023,Seychelles)",
          "(2023,Sierra Leone)",
          "(2023,Singapore)",
          "(2023,Slovakia)",
          "(2023,Slovenia)",
          "(2023,Solomon Islands)",
          "(2023,Somalia)",
          "(2023,South Africa)",
          "(2023,South Korea)",
          "(2023,South Sudan)",
          "(2023,Spain)",
          "(2023,Sri Lanka)",
          "(2023,St. Vincent & Grenadines)",
          "(2023,State of Palestine)",
          "(2023,Sudan)",
          "(2023,Suriname)",
          "(2023,Sweden)",
          "(2023,Switzerland)",
          "(2023,Syria)",
          "(2023,Taiwan)",
          "(2023,Tajikistan)",
          "(2023,Tanzania)",
          "(2023,Thailand)",
          "(2023,Timor-Leste)",
          "(2023,Togo)",
          "(2023,Tonga)",
          "(2023,Trinidad and Tobago)",
          "(2023,Tunisia)",
          "(2023,Turkey)",
          "(2023,Turkmenistan)",
          "(2023,U.S. Virgin Islands)",
          "(2023,Uganda)",
          "(2023,Ukraine)",
          "(2023,United Arab Emirates)",
          "(2023,United Kingdom)",
          "(2023,United States)",
          "(2023,Uruguay)",
          "(2023,Uzbekistan)",
          "(2023,Vanuatu)",
          "(2023,Venezuela)",
          "(2023,Vietnam)",
          "(2023,Western Sahara)",
          "(2023,Yemen)",
          "(2023,Zambia)",
          "(2023,Zimbabwe)"
         ],
         "y": [
          "7,971,931",
          "1,453,730",
          "10,242,288",
          "4,938,118",
          "50,264",
          "18,700,686",
          "1,604,376",
          "46,464",
          "9,209,844",
          "6,946,260",
          "3,550,017",
          "92,444",
          "134,865",
          "44,315,548",
          "227,320",
          "7,976,356",
          "8,834,526",
          "79,986",
          "2,360,081",
          "196,014",
          "3,357,923",
          "2,958,430",
          "461,880",
          "62,701,031",
          "64,267",
          "7,517,922",
          "4,472,824",
          "2,495,193",
          "195,389",
          "4,931,224",
          "4,670,538",
          "15,733,923",
          "1,545,898",
          "2,756,169",
          "7,323,194",
          "603,320,147",
          "13,512,612",
          "177,885",
          "933,418",
          "1,123,982",
          "4,049,659",
          "6,559,586",
          "114,659",
          "534,125",
          "9,288,972",
          "3,154,282",
          "13,638,427",
          "4,426,508",
          "72,997",
          "2,791,108",
          "4,022,378",
          "23,841,701",
          "2,448,633",
          "245,800",
          "895,009",
          "1,168,276",
          "307,078",
          "19,703,738",
          "343,693",
          "4,235,413",
          "43,593,851",
          "25,456",
          "74,475",
          "489,459",
          "349,374",
          "3,738,231",
          "71,222,628",
          "5,887,163",
          "8,146,022",
          "82,656",
          "242,576",
          "65,977",
          "3,560,239",
          "3,234,056",
          "563,713",
          "483,316",
          "3,545,999",
          "1,796,527",
          "2,490,487",
          "9,823,331",
          "157,735",
          "398,577,992",
          "77,741,502",
          "18,873,864",
          "6,405,686",
          "2,886,368",
          "1,564,960",
          "48,130,728",
          "1,552,883",
          "90,090,281",
          "622,010",
          "7,858,733",
          "6,558,870",
          "42,008",
          "183,458",
          "1,944,992",
          "1,893,389",
          "2,032,505",
          "1,556,327",
          "641,361",
          "1,013,790",
          "1,225,687",
          "2,699,051",
          "305,514",
          "195,757",
          "4,467,590",
          "3,240,318",
          "6,786,077",
          "81,823",
          "5,014,680",
          "323,596",
          "262,164",
          "738,577",
          "596,866",
          "22,942",
          "31,452,141",
          "2,714,714",
          "844,997",
          "441,379",
          "10,242,168",
          "6,318,904",
          "19,522,788",
          "547,430",
          "9,284,895",
          "10,767,906",
          "69,989",
          "2,140,976",
          "1,539,551",
          "3,018,555",
          "40,839,223",
          "10,360,269",
          "1,379,140",
          "3,429,090",
          "492,416",
          "41,023,128",
          "980,004",
          "1,734,921",
          "1,685,747",
          "8,825,897",
          "23,027,910",
          "27,099,199",
          "8,665,451",
          "2,309,782",
          "28,668",
          "17,455,291",
          "110,971,852",
          "2,537,919",
          "301,358",
          "88,463",
          "98,037",
          "65,300",
          "3,581,910",
          "2,847,262",
          "6,348,547",
          "39,788",
          "2,135,644",
          "1,267,611",
          "3,796,626",
          "1,521,772",
          "117,314",
          "2,529,910",
          "14,594,129",
          "22,075,008",
          "2,695,349",
          "29,095,374",
          "8,749,627",
          "71,822",
          "997,117",
          "7,193,065",
          "227,145",
          "7,264,351",
          "5,002,410",
          "3,989,101",
          "9,229,462",
          "1,805,209",
          "8,725,576",
          "23,173,970",
          "437,426",
          "1,518,825",
          "58,024",
          "742,576",
          "3,975,544",
          "23,821,353",
          "1,363,507",
          "29,303",
          "6,601,785",
          "39,836,510",
          "101,803",
          "51,193,266",
          "161,136,449",
          "2,366,209",
          "7,141,923",
          "56,770",
          "6,752,139",
          "28,263,031",
          "20,690",
          "5,091,603",
          "2,677,209",
          "3,263,625",
          "8,622,466",
          "1,711,189",
          "11,394,307",
          "5,357,195",
          "55,342",
          "20,349,744",
          "1,904,148",
          "54,608",
          "10,286,647",
          "7,046,553",
          "4,131,484",
          "114,500",
          "160,691",
          "50,396,429",
          "232,550",
          "8,389,183",
          "9,108,724",
          "91,403",
          "2,512,284",
          "221,266",
          "3,707,515",
          "3,262,539",
          "512,865",
          "73,092,515",
          "85,346",
          "7,891,756",
          "4,783,259",
          "2,746,628",
          "209,849",
          "5,541,676",
          "5,117,608",
          "17,909,356",
          "1,679,728",
          "3,028,688",
          "8,141,820",
          "654,170,692",
          "15,687,688",
          "194,852",
          "1,055,693",
          "1,346,302",
          "4,215,324",
          "7,267,395",
          "131,274",
          "585,725",
          "9,539,362",
          "3,708,661",
          "15,276,558",
          "4,581,727",
          "85,940",
          "3,298,021",
          "4,618,158",
          "27,034,499",
          "2,779,327",
          "267,351",
          "993,568",
          "1,218,064",
          "345,065",
          "21,739,710",
          "401,841",
          "4,430,173",
          "45,659,575",
          "31,125",
          "84,851",
          "513,340",
          "399,649",
          "4,051,492",
          "73,063,695",
          "6,911,510",
          "8,495,415",
          "93,772",
          "276,976",
          "72,374",
          "4,098,352",
          "3,516,814",
          "577,933",
          "571,990",
          "3,901,139",
          "2,078,617",
          "3,114,671",
          "9,982,610",
          "175,566",
          "445,954,579",
          "88,382,881",
          "21,388,806",
          "7,084,678",
          "2,811,067",
          "1,902,247",
          "49,517,707",
          "1,642,331",
          "94,464,839",
          "847,936",
          "9,319,283",
          "7,751,435",
          "47,093",
          "305,415",
          "2,216,530",
          "2,122,532",
          "2,154,251",
          "1,798,092",
          "737,838",
          "1,137,026",
          "1,426,986",
          "2,875,684",
          "314,168",
          "177,014",
          "5,073,342",
          "3,621,081",
          "7,833,782",
          "91,650",
          "5,346,792",
          "337,628",
          "290,092",
          "838,478",
          "676,683",
          "26,165",
          "36,268,055",
          "3,133,267",
          "977,903",
          "473,046",
          "11,769,774",
          "6,788,375",
          "21,720,697",
          "590,181",
          "10,167,941",
          "11,493,117",
          "81,236",
          "2,381,189",
          "1,789,684",
          "3,497,431",
          "44,928,342",
          "11,655,666",
          "1,462,368",
          "3,581,520",
          "536,553",
          "45,954,226",
          "1,126,989",
          "1,985,666",
          "1,894,829",
          "10,172,207",
          "28,486,871",
          "29,509,903",
          "8,882,469",
          "2,365,072",
          "36,385",
          "18,458,008",
          "119,735,095",
          "2,966,162",
          "365,994",
          "91,614",
          "113,335",
          "68,038",
          "4,165,563",
          "3,273,177",
          "6,579,989",
          "43,167",
          "2,301,310",
          "1,601,079",
          "4,124,239",
          "1,599,571",
          "133,440",
          "2,870,732",
          "16,520,441",
          "25,817,529",
          "2,907,724",
          "30,415,591",
          "9,783,871",
          "84,141",
          "1,073,842",
          "8,326,462",
          "268,396",
          "7,492,895",
          "5,328,273",
          "4,610,712",
          "10,983,147",
          "2,131,992",
          "10,042,458",
          "26,596,584",
          "468,573",
          "1,651,367",
          "67,428",
          "847,063",
          "4,195,467",
          "27,510,980",
          "1,602,052",
          "32,861",
          "7,617,746",
          "42,767,251",
          "133,426",
          "52,543,017",
          "176,188,578",
          "2,529,021",
          "8,372,311",
          "64,608",
          "8,156,937",
          "32,718,461",
          "33,023",
          "5,542,459",
          "3,119,430",
          "3,806,310",
          "9,565,147",
          "2,009,789",
          "12,381,256",
          "5,736,582",
          "59,644",
          "22,053,661",
          "2,234,051",
          "58,782",
          "11,359,442",
          "7,269,888",
          "4,837,811",
          "144,849",
          "193,012",
          "58,500,159",
          "237,694",
          "8,854,528",
          "9,412,087",
          "104,838",
          "2,735,843",
          "255,010",
          "4,115,511",
          "3,565,517",
          "570,975",
          "84,623,747",
          "107,686",
          "8,245,072",
          "5,157,929",
          "3,118,134",
          "244,156",
          "6,170,727",
          "5,690,086",
          "19,688,805",
          "1,849,171",
          "3,336,338",
          "8,994,936",
          "723,846,349",
          "18,275,814",
          "214,939",
          "1,207,412",
          "1,602,736",
          "4,371,381",
          "8,067,651",
          "141,049",
          "617,345",
          "9,702,730",
          "4,492,890",
          "17,438,254",
          "4,756,337",
          "108,772",
          "3,868,712",
          "5,337,351",
          "30,818,469",
          "3,179,506",
          "295,010",
          "1,121,739",
          "1,292,004",
          "388,317",
          "24,727,506",
          "469,010",
          "4,564,583",
          "48,168,804",
          "38,946",
          "98,674",
          "547,535",
          "458,908",
          "4,418,592",
          "76,037,469",
          "7,827,726",
          "8,526,254",
          "98,226",
          "303,438",
          "80,255",
          "4,744,461",
          "3,845,074",
          "577,638",
          "650,207",
          "4,274,348",
          "2,403,465",
          "3,602,029",
          "10,140,853",
          "192,309",
          "500,114,346",
          "101,157,868",
          "24,667,026",
          "8,270,544",
          "2,852,401",
          "2,361,088",
          "51,452,854",
          "1,746,977",
          "99,468,746",
          "1,093,474",
          "10,897,644",
          "9,417,207",
          "53,444",
          "513,840",
          "2,615,167",
          "2,379,456",
          "2,287,805",
          "2,087,445",
          "860,220",
          "1,287,315",
          "1,700,072",
          "3,052,979",
          "329,794",
          "209,278",
          "5,780,453",
          "4,089,097",
          "9,091,016",
          "104,566",
          "5,726,382",
          "326,401",
          "313,791",
          "965,621",
          "758,628",
          "30,165",
          "42,737,991",
          "3,476,796",
          "1,134,072",
          "503,188",
          "13,381,880",
          "7,524,154",
          "24,286,878",
          "657,887",
          "11,232,951",
          "12,275,791",
          "94,803",
          "2,638,316",
          "2,084,097",
          "4,053,524",
          "49,925,799",
          "13,105,946",
          "1,547,982",
          "3,723,510",
          "593,808",
          "51,841,626",
          "1,310,556",
          "2,222,178",
          "2,143,153",
          "11,781,581",
          "32,805,538",
          "31,224,081",
          "8,899,092",
          "2,564,270",
          "64,843",
          "19,117,072",
          "126,400,607",
          "3,348,631",
          "427,612",
          "97,024",
          "129,789",
          "71,730",
          "4,978,922",
          "3,770,874",
          "6,902,989",
          "48,123",
          "2,520,576",
          "1,860,651",
          "4,363,511",
          "1,669,453",
          "151,495",
          "3,267,593",
          "19,187,194",
          "29,179,407",
          "3,143,622",
          "32,112,015",
          "11,035,224",
          "91,495",
          "1,148,517",
          "9,712,785",
          "321,069",
          "7,755,752",
          "5,857,047",
          "5,368,451",
          "13,070,708",
          "2,538,295",
          "11,630,603",
          "30,940,270",
          "507,477",
          "1,820,396",
          "77,686",
          "928,462",
          "4,457,282",
          "31,374,536",
          "1,897,095",
          "46,283",
          "8,829,056",
          "45,387,091",
          "173,797",
          "54,229,565",
          "189,703,283",
          "2,680,427",
          "10,130,096",
          "74,677",
          "9,688,138",
          "37,466,077",
          "51,206",
          "6,097,298",
          "3,658,024",
          "4,447,149",
          "10,752,971",
          "2,324,731",
          "13,795,915",
          "6,029,700",
          "64,517",
          "23,842,803",
          "2,534,377",
          "59,106",
          "12,595,034",
          "7,465,301",
          "5,425,317",
          "179,129",
          "222,555",
          "67,541,860",
          "241,397",
          "9,170,786",
          "9,629,376",
          "120,905",
          "3,023,443",
          "298,894",
          "4,585,693",
          "3,815,561",
          "592,244",
          "96,369,875",
          "133,343",
          "8,582,950",
          "5,611,666",
          "3,497,834",
          "287,262",
          "6,708,525",
          "6,452,787",
          "21,434,577",
          "2,067,356",
          "3,667,394",
          "9,820,481",
          "822,534,450",
          "20,905,254",
          "242,351",
          "1,396,989",
          "1,855,697",
          "4,492,638",
          "8,869,636",
          "150,385",
          "640,804",
          "9,795,744",
          "5,477,086",
          "20,151,733",
          "4,922,963",
          "144,379",
          "4,475,871",
          "6,172,215",
          "34,781,986",
          "3,619,090",
          "316,955",
          "1,272,748",
          "1,361,999",
          "442,865",
          "28,308,246",
          "527,634",
          "4,606,621",
          "50,523,586",
          "46,484",
          "117,891",
          "597,192",
          "528,731",
          "4,800,426",
          "78,294,583",
          "8,861,895",
          "8,544,873",
          "98,794",
          "318,310",
          "88,300",
          "5,453,208",
          "4,222,374",
          "591,663",
          "705,261",
          "4,680,812",
          "2,782,753",
          "3,955,072",
          "10,315,366",
          "204,468",
          "557,501,301",
          "115,228,394",
          "28,449,705",
          "9,811,347",
          "2,937,637",
          "2,907,307",
          "53,324,036",
          "1,859,091",
          "105,416,839",
          "1,557,374",
          "12,265,305",
          "11,473,087",
          "57,437",
          "802,786",
          "3,016,384",
          "2,675,283",
          "2,397,414",
          "2,381,791",
          "1,023,481",
          "1,463,563",
          "1,909,177",
          "3,210,147",
          "339,342",
          "247,284",
          "6,639,751",
          "4,625,141",
          "10,306,508",
          "123,243",
          "6,153,587",
          "315,414",
          "326,428",
          "1,122,198",
          "830,115",
          "35,383",
          "50,289,306",
          "3,711,140",
          "1,293,880",
          "530,268",
          "15,274,351",
          "8,411,676",
          "27,284,112",
          "754,467",
          "12,501,285",
          "13,037,686",
          "110,982",
          "2,824,061",
          "2,444,767",
          "4,669,708",
          "55,569,264",
          "14,996,879",
          "1,656,783",
          "3,875,546",
          "670,693",
          "59,290,872",
          "1,516,188",
          "2,489,059",
          "2,408,787",
          "13,562,371",
          "37,435,586",
          "32,482,943",
          "8,683,631",
          "2,737,619",
          "118,007",
          "19,922,618",
          "130,093,010",
          "3,896,367",
          "473,925",
          "103,090",
          "142,771",
          "77,583",
          "6,106,191",
          "4,367,744",
          "7,193,533",
          "54,379",
          "2,778,557",
          "2,061,831",
          "4,522,867",
          "1,741,286",
          "172,833",
          "3,720,977",
          "22,368,306",
          "32,601,143",
          "3,342,410",
          "33,792,617",
          "12,388,769",
          "98,459",
          "1,118,241",
          "11,305,206",
          "379,918",
          "8,027,702",
          "6,181,227",
          "6,319,199",
          "14,957,870",
          "2,993,019",
          "13,618,192",
          "35,791,728",
          "554,021",
          "2,197,383",
          "86,484",
          "988,890",
          "5,047,404",
          "35,540,990",
          "2,201,432",
          "63,446",
          "10,317,212",
          "47,279,086",
          "298,084",
          "55,650,166",
          "200,328,340",
          "2,790,265",
          "12,011,361",
          "87,019",
          "11,355,475",
          "41,928,849",
          "76,371",
          "6,843,607",
          "4,281,671",
          "5,202,918",
          "12,157,386",
          "2,650,122",
          "15,724,692",
          "7,032,713",
          "64,035",
          "25,875,558",
          "2,830,798",
          "60,715",
          "13,886,854",
          "7,576,926",
          "5,925,012",
          "201,881",
          "285,116",
          "74,700,345",
          "247,090",
          "9,500,738",
          "9,763,430",
          "130,801",
          "3,378,703",
          "352,269",
          "5,127,776",
          "4,022,090",
          "727,930",
          "108,700,515",
          "159,653",
          "8,860,971",
          "6,138,444",
          "3,749,232",
          "304,375",
          "6,727,922",
          "7,397,417",
          "23,136,252",
          "2,283,927",
          "4,084,110",
          "10,639,531",
          "915,124,661",
          "23,403,731",
          "280,036",
          "1,624,935",
          "2,111,850",
          "4,579,428",
          "9,514,305",
          "155,151",
          "644,982",
          "10,025,715",
          "6,853,981",
          "23,052,715",
          "5,058,203",
          "208,582",
          "5,106,453",
          "7,105,786",
          "38,775,584",
          "4,076,751",
          "283,262",
          "1,450,867",
          "1,424,044",
          "509,535",
          "32,252,783",
          "575,804",
          "4,711,368",
          "52,450,030",
          "54,347",
          "139,833",
          "663,340",
          "612,909",
          "4,970,320",
          "78,513,511",
          "10,209,848",
          "8,805,415",
          "97,165",
          "324,878",
          "99,478",
          "6,201,734",
          "4,588,006",
          "659,635",
          "745,590",
          "5,124,560",
          "3,231,631",
          "4,451,220",
          "10,520,237",
          "218,070",
          "623,524,219",
          "131,213,215",
          "32,856,976",
          "11,617,622",
          "3,157,919",
          "3,388,086",
          "55,093,989",
          "2,003,094",
          "112,411,640",
          "1,886,636",
          "13,158,942",
          "13,651,908",
          "60,675",
          "1,095,998",
          "3,353,850",
          "3,012,720",
          "2,492,528",
          "2,691,586",
          "1,216,180",
          "1,671,632",
          "2,291,841",
          "3,368,287",
          "353,666",
          "246,919",
          "7,720,859",
          "5,280,965",
          "11,617,947",
          "143,126",
          "6,687,293",
          "319,619",
          "328,795",
          "1,302,436",
          "888,292",
          "42,097",
          "58,691,882",
          "3,913,586",
          "1,485,691",
          "559,279",
          "17,325,325",
          "9,703,732",
          "30,344,276",
          "876,572",
          "13,925,541",
          "13,663,969",
          "136,601",
          "3,095,428",
          "2,857,461",
          "5,339,497",
          "62,851,312",
          "16,723,252",
          "1,774,013",
          "4,007,466",
          "787,194",
          "68,126,999",
          "1,734,876",
          "2,794,462",
          "2,714,664",
          "15,441,497",
          "42,394,433",
          "33,899,770",
          "9,202,709",
          "2,972,267",
          "195,043",
          "21,167,265",
          "133,841,842",
          "4,515,756",
          "515,586",
          "111,497",
          "155,263",
          "86,037",
          "7,897,544",
          "5,047,922",
          "7,479,833",
          "60,943",
          "3,055,916",
          "2,232,425",
          "4,737,059",
          "1,817,044",
          "197,853",
          "4,228,289",
          "25,777,964",
          "35,930,694",
          "3,718,279",
          "35,760,431",
          "13,662,873",
          "103,879",
          "1,263,706",
          "13,497,543",
          "392,137",
          "8,224,408",
          "6,338,267",
          "7,497,126",
          "16,551,774",
          "3,482,125",
          "16,243,826",
          "40,908,471",
          "600,126",
          "2,509,713",
          "93,477",
          "1,054,017",
          "5,769,074",
          "39,673,590",
          "2,525,760",
          "81,368",
          "11,730,959",
          "48,892,187",
          "543,394",
          "56,266,842",
          "211,274,535",
          "2,871,947",
          "13,894,347",
          "102,010",
          "13,176,387",
          "46,969,616",
          "66,865",
          "7,855,657",
          "4,931,249",
          "6,097,083",
          "12,486,631",
          "2,941,651",
          "18,739,378",
          "8,330,047",
          "64,889",
          "28,024,803",
          "3,135,123",
          "62,267",
          "14,706,322",
          "7,547,561",
          "6,383,060",
          "223,752",
          "362,595",
          "83,929,765",
          "253,575",
          "9,817,257",
          "9,828,986",
          "145,133",
          "3,833,939",
          "415,257",
          "5,736,088",
          "4,199,820",
          "938,578",
          "122,288,383",
          "187,921",
          "8,980,606",
          "6,932,967",
          "4,312,834",
          "317,234",
          "6,198,959",
          "8,519,891",
          "24,511,510",
          "2,415,276",
          "4,408,230",
          "11,469,828",
          "982,372,466",
          "26,176,195",
          "328,328",
          "1,829,256",
          "2,414,303",
          "4,680,144",
          "9,809,107",
          "156,851",
          "679,327",
          "10,270,060",
          "8,303,810",
          "26,708,686",
          "5,125,392",
          "324,121",
          "5,755,800",
          "8,135,845",
          "43,748,556",
          "4,508,992",
          "282,509",
          "1,657,982",
          "1,476,983",
          "598,564",
          "34,945,469",
          "644,582",
          "4,779,418",
          "53,713,830",
          "66,825",
          "163,591",
          "749,078",
          "718,586",
          "5,145,843",
          "77,786,703",
          "11,865,246",
          "9,307,148",
          "94,838",
          "334,234",
          "110,286",
          "6,987,767",
          "4,972,609",
          "831,462",
          "778,176",
          "5,646,676",
          "3,777,990",
          "4,978,544",
          "10,698,679",
          "228,263",
          "696,828,385",
          "148,177,096",
          "38,520,664",
          "13,653,369",
          "3,391,387",
          "3,744,608",
          "56,329,482",
          "2,135,546",
          "117,624,196",
          "2,216,903",
          "14,172,710",
          "16,187,124",
          "60,813",
          "1,493,870",
          "3,691,209",
          "3,297,519",
          "2,572,037",
          "2,963,702",
          "1,407,672",
          "1,932,169",
          "2,962,720",
          "3,521,206",
          "363,741",
          "245,332",
          "8,948,162",
          "6,267,369",
          "13,215,707",
          "164,887",
          "7,372,581",
          "333,587",
          "333,786",
          "1,506,694",
          "954,865",
          "52,233",
          "67,705,186",
          "4,103,240",
          "1,697,780",
          "589,324",
          "19,678,444",
          "11,413,587",
          "33,465,781",
          "975,994",
          "15,600,442",
          "14,130,387",
          "148,599",
          "3,147,168",
          "3,303,309",
          "6,173,177",
          "72,951,439",
          "17,973,650",
          "1,907,023",
          "4,085,776",
          "1,017,462",
          "80,624,057",
          "1,956,987",
          "3,104,788",
          "3,078,912",
          "17,492,406",
          "48,419,546",
          "35,521,429",
          "9,785,252",
          "3,214,568",
          "277,450",
          "22,125,224",
          "138,257,420",
          "5,247,532",
          "551,674",
          "121,633",
          "164,905",
          "97,210",
          "10,171,710",
          "5,703,869",
          "7,777,010",
          "65,290",
          "3,367,477",
          "2,400,729",
          "4,973,883",
          "1,901,570",
          "233,668",
          "5,892,224",
          "29,463,549",
          "38,170,501",
          "4,192,012",
          "37,491,666",
          "14,943,645",
          "107,480",
          "1,453,620",
          "16,673,586",
          "375,112",
          "8,311,763",
          "6,319,113",
          "8,898,954",
          "18,100,281",
          "4,045,965",
          "19,297,659",
          "45,737,753",
          "642,224",
          "2,838,110",
          "96,708",
          "1,127,852",
          "6,578,156",
          "44,089,069",
          "2,862,903",
          "96,640",
          "13,284,026",
          "49,973,920",
          "1,014,048",
          "56,326,328",
          "223,140,018",
          "2,953,750",
          "15,947,129",
          "118,156",
          "15,210,443",
          "52,968,270",
          "116,775",
          "9,204,938",
          "5,720,438",
          "7,049,926",
          "10,512,221",
          "3,171,725",
          "22,132,905",
          "9,970,621",
          "65,048",
          "30,287,112",
          "3,300,896",
          "64,478",
          "15,785,682",
          "7,562,114",
          "6,891,140",
          "245,935",
          "434,375",
          "95,959,099",
          "257,911",
          "10,133,211",
          "9,880,534",
          "163,436",
          "4,419,552",
          "484,528",
          "6,385,630",
          "4,383,306",
          "1,138,704",
          "136,783,180",
          "222,119",
          "8,917,076",
          "7,979,185",
          "4,948,024",
          "339,874",
          "7,376,090",
          "9,804,254",
          "25,843,922",
          "2,553,075",
          "4,967,590",
          "12,326,396",
          "1,060,239,979",
          "29,326,260",
          "375,650",
          "2,062,555",
          "2,771,463",
          "4,803,325",
          "10,149,044",
          "156,639",
          "731,664",
          "10,302,326",
          "9,964,075",
          "30,800,051",
          "5,119,452",
          "400,709",
          "6,417,798",
          "9,254,311",
          "50,035,843",
          "4,876,757",
          "378,379",
          "1,899,243",
          "1,525,782",
          "702,400",
          "40,285,965",
          "727,461",
          "4,902,175",
          "55,108,106",
          "86,931",
          "187,578",
          "856,482",
          "855,958",
          "5,338,867",
          "77,638,808",
          "13,651,443",
          "9,840,141",
          "100,576",
          "357,844",
          "124,675",
          "7,932,185",
          "5,531,661",
          "900,088",
          "772,671",
          "6,245,539",
          "4,387,693",
          "5,411,680",
          "10,542,754",
          "241,577",
          "780,242,084",
          "165,791,694",
          "47,266,160",
          "15,753,856",
          "3,505,769",
          "4,182,681",
          "56,636,465",
          "2,292,030",
          "121,119,031",
          "2,751,492",
          "15,413,315",
          "19,452,161",
          "66,708",
          "1,888,975",
          "4,064,852",
          "3,741,604",
          "2,655,104",
          "3,226,750",
          "1,616,697",
          "2,239,724",
          "3,684,313",
          "3,672,852",
          "366,466",
          "287,700",
          "10,297,746",
          "7,625,078",
          "15,108,135",
          "190,383",
          "8,187,651",
          "349,118",
          "348,728",
          "1,746,265",
          "1,025,769",
          "68,287",
          "74,872,006",
          "4,300,695",
          "1,919,744",
          "604,622",
          "22,335,077",
          "12,680,065",
          "36,881,020",
          "1,093,311",
          "17,540,571",
          "14,515,704",
          "159,702",
          "3,268,356",
          "3,763,034",
          "7,187,618",
          "83,585,251",
          "19,325,487",
          "2,001,504",
          "4,152,637",
          "1,353,289",
          "97,121,552",
          "2,197,065",
          "3,447,579",
          "3,535,498",
          "19,746,610",
          "54,812,660",
          "37,179,160",
          "9,996,896",
          "3,406,279",
          "365,868",
          "22,525,363",
          "142,896,392",
          "6,266,752",
          "599,299",
          "132,751",
          "166,517",
          "106,607",
          "12,890,245",
          "6,520,705",
          "7,912,069",
          "67,833",
          "3,749,419",
          "2,685,994",
          "5,146,571",
          "1,952,518",
          "277,158",
          "6,630,637",
          "33,752,964",
          "41,232,709",
          "4,706,975",
          "38,471,920",
          "16,092,338",
          "110,906",
          "1,731,085",
          "19,517,196",
          "387,171",
          "8,389,913",
          "6,469,824",
          "10,540,926",
          "19,511,876",
          "4,660,598",
          "22,569,625",
          "50,594,940",
          "682,109",
          "3,336,508",
          "97,055",
          "1,199,785",
          "7,476,092",
          "49,175,673",
          "3,246,887",
          "101,912",
          "15,038,915",
          "50,917,399",
          "1,379,536",
          "56,643,045",
          "235,146,182",
          "3,024,218",
          "18,063,201",
          "133,119",
          "17,402,304",
          "59,811,313",
          "150,190",
          "11,036,918",
          "6,686,449",
          "8,690,515",
          "10,694,796",
          "3,295,066",
          "25,518,074",
          "11,828,638",
          "63,328",
          "32,637,657",
          "3,556,539",
          "65,712",
          "17,048,003",
          "7,678,729",
          "7,427,836",
          "270,679",
          "517,418",
          "107,147,651",
          "258,868",
          "10,428,525",
          "9,959,560",
          "182,589",
          "5,133,419",
          "558,442",
          "7,096,194",
          "4,494,310",
          "1,341,474",
          "150,706,446",
          "261,928",
          "8,767,778",
          "9,131,361",
          "5,483,793",
          "364,563",
          "8,910,808",
          "11,430,520",
          "27,657,204",
          "2,809,221",
          "5,827,069",
          "13,342,868",
          "1,153,704,252",
          "32,601,393",
          "431,119",
          "2,385,435",
          "3,158,253",
          "4,873,707",
          "10,626,680",
          "155,446",
          "788,500",
          "10,301,192",
          "11,910,540",
          "35,987,541",
          "5,144,623",
          "577,173",
          "7,129,004",
          "10,449,837",
          "57,214,630",
          "5,367,179",
          "465,549",
          "2,149,960",
          "1,570,674",
          "854,011",
          "47,878,073",
          "780,430",
          "4,986,545",
          "56,412,897",
          "113,931",
          "211,089",
          "983,028",
          "1,040,616",
          "5,391,636",
          "79,370,196",
          "15,446,982",
          "10,302,255",
          "99,047",
          "391,951",
          "138,263",
          "9,084,780",
          "6,354,145",
          "973,551",
          "747,116",
          "6,925,331",
          "5,053,234",
          "5,838,574",
          "10,375,989",
          "255,019",
          "870,452,165",
          "182,159,874",
          "55,793,629",
          "17,658,381",
          "3,485,374",
          "4,803,254",
          "56,756,561",
          "2,392,030",
          "123,686,321",
          "3,480,587",
          "16,866,563",
          "23,162,269",
          "75,124",
          "1,674,938",
          "4,394,734",
          "4,314,443",
          "2,689,391",
          "3,593,700",
          "1,798,997",
          "2,209,731",
          "4,236,983",
          "3,785,847",
          "381,267",
          "350,227",
          "11,882,762",
          "9,539,665",
          "17,517,054",
          "224,957",
          "8,945,026",
          "365,392",
          "374,271",
          "2,006,027",
          "1,090,290",
          "92,659",
          "81,720,428",
          "4,480,199",
          "2,161,433",
          "621,442",
          "24,570,814",
          "13,303,459",
          "40,099,553",
          "1,369,011",
          "19,616,530",
          "14,944,548",
          "177,264",
          "3,397,389",
          "4,227,820",
          "8,370,648",
          "95,214,257",
          "20,799,523",
          "2,044,174",
          "4,241,636",
          "1,804,524",
          "115,414,069",
          "2,449,968",
          "3,864,972",
          "4,059,195",
          "22,109,099",
          "61,558,898",
          "38,064,255",
          "10,007,346",
          "3,543,776",
          "441,675",
          "22,836,234",
          "148,005,704",
          "7,319,962",
          "658,992",
          "142,301",
          "168,186",
          "120,343",
          "16,004,763",
          "7,536,001",
          "7,987,529",
          "71,057",
          "4,325,388",
          "3,022,209",
          "5,261,305",
          "1,986,024",
          "324,171",
          "6,999,096",
          "39,877,570",
          "44,120,039",
          "4,750,817",
          "38,889,889",
          "17,204,094",
          "112,487",
          "2,124,609",
          "21,090,886",
          "412,756",
          "8,548,406",
          "6,711,693",
          "12,408,996",
          "20,586,174",
          "5,417,860",
          "26,206,012",
          "55,228,410",
          "758,106",
          "3,875,947",
          "98,727",
          "1,266,518",
          "8,440,023",
          "54,324,142",
          "3,720,278",
          "100,685",
          "17,586,630",
          "51,589,817",
          "1,900,151",
          "57,210,442",
          "248,083,732",
          "3,117,012",
          "20,579,100",
          "150,882",
          "19,750,579",
          "66,912,613",
          "178,529",
          "13,375,121",
          "7,686,401",
          "10,113,893",
          "16,418,912",
          "3,284,364",
          "28,478,022",
          "13,912,253",
          "68,398",
          "34,946,110",
          "3,322,782",
          "77,050",
          "18,002,999",
          "7,947,296",
          "7,889,330",
          "299,554",
          "612,934",
          "117,793,338",
          "262,303",
          "10,461,696",
          "10,095,198",
          "203,556",
          "6,046,511",
          "527,536",
          "7,841,471",
          "3,750,527",
          "1,543,634",
          "163,515,328",
          "299,097",
          "8,477,579",
          "10,353,263",
          "5,932,783",
          "411,382",
          "10,919,528",
          "13,211,647",
          "29,289,423",
          "3,276,706",
          "6,888,856",
          "14,416,796",
          "1,218,144,426",
          "35,970,101",
          "483,760",
          "2,742,309",
          "3,572,856",
          "4,807,100",
          "10,926,703",
          "150,592",
          "862,418",
          "10,311,702",
          "14,299,727",
          "43,285,791",
          "5,235,197",
          "629,619",
          "7,869,753",
          "11,561,683",
          "64,166,908",
          "5,748,195",
          "560,740",
          "2,157,220",
          "1,452,775",
          "953,573",
          "57,476,536",
          "792,246",
          "5,107,943",
          "57,420,354",
          "137,183",
          "231,446",
          "1,121,964",
          "1,242,155",
          "4,877,676",
          "81,123,262",
          "17,438,874",
          "10,727,927",
          "104,060",
          "413,935",
          "150,094",
          "10,363,090",
          "7,468,347",
          "1,117,222",
          "751,689",
          "7,627,316",
          "5,812,832",
          "6,243,859",
          "10,327,169",
          "267,681",
          "964,279,129",
          "198,140,162",
          "60,794,809",
          "20,948,858",
          "3,579,482",
          "5,478,734",
          "56,885,126",
          "2,509,372",
          "125,433,969",
          "4,458,195",
          "16,434,324",
          "26,878,347",
          "81,481",
          "1,655,222",
          "4,596,456",
          "4,927,432",
          "2,570,151",
          "3,959,640",
          "1,934,079",
          "2,142,422",
          "4,733,063",
          "3,747,267",
          "407,635",
          "396,641",
          "13,869,138",
          "10,112,816",
          "20,136,888",
          "258,208",
          "9,921,094",
          "381,849",
          "409,942",
          "2,380,341",
          "1,160,207",
          "124,941",
          "89,969,572",
          "4,461,231",
          "2,330,334",
          "632,066",
          "26,599,048",
          "15,594,830",
          "42,880,186",
          "1,605,370",
          "22,305,571",
          "15,446,668",
          "199,701",
          "3,673,893",
          "4,721,929",
          "9,813,918",
          "108,187,610",
          "22,385,536",
          "1,983,964",
          "4,359,333",
          "2,172,672",
          "133,117,476",
          "2,716,067",
          "4,616,439",
          "4,603,917",
          "24,449,055",
          "69,250,468",
          "38,401,978",
          "10,051,248",
          "3,704,947",
          "515,133",
          "22,533,134",
          "148,557,451",
          "5,686,897",
          "725,978",
          "152,348",
          "174,902",
          "133,077",
          "18,888,857",
          "8,632,681",
          "7,982,462",
          "74,735",
          "4,324,149",
          "3,543,875",
          "5,349,997",
          "1,991,106",
          "375,189",
          "7,210,930",
          "43,986,084",
          "45,393,418",
          "5,302,042",
          "39,814,573",
          "18,177,572",
          "114,174",
          "2,623,144",
          "23,290,602",
          "434,490",
          "8,758,496",
          "7,038,297",
          "14,313,450",
          "21,455,813",
          "5,916,173",
          "30,560,071",
          "59,424,834",
          "819,226",
          "4,279,566",
          "99,977",
          "1,307,822",
          "9,294,102",
          "59,305,490",
          "4,226,623",
          "103,454",
          "20,680,831",
          "51,061,265",
          "2,433,988",
          "57,930,364",
          "265,660,556",
          "3,208,300",
          "23,026,206",
          "170,612",
          "22,107,286",
          "73,759,110",
          "208,381",
          "16,103,339",
          "8,684,135",
          "10,994,041",
          "19,542,982",
          "3,182,021",
          "30,774,621",
          "16,394,062",
          "75,055",
          "37,070,774",
          "3,168,523",
          "89,101",
          "19,017,963",
          "8,010,428",
          "8,190,337",
          "325,014",
          "711,442",
          "129,193,327",
          "264,657",
          "10,256,483",
          "10,264,343",
          "240,406",
          "6,998,023",
          "587,207",
          "8,592,656",
          "4,179,350",
          "1,726,985",
          "175,873,720",
          "333,926",
          "8,097,691",
          "11,882,888",
          "6,307,659",
          "458,251",
          "12,118,841",
          "15,091,594",
          "30,683,313",
          "3,759,170",
          "8,259,137",
          "15,351,799",
          "1,264,099,069",
          "39,215,135",
          "536,758",
          "3,134,030",
          "3,979,193",
          "4,548,434",
          "11,105,791",
          "141,424",
          "948,237",
          "10,234,710",
          "16,799,670",
          "48,616,317",
          "5,340,655",
          "742,033",
          "8,540,791",
          "12,626,507",
          "71,371,371",
          "5,958,482",
          "684,977",
          "2,392,880",
          "1,396,877",
          "1,030,496",
          "67,031,867",
          "832,509",
          "5,176,209",
          "58,665,453",
          "164,351",
          "250,927",
          "1,272,935",
          "1,437,539",
          "4,265,172",
          "81,551,677",
          "19,665,502",
          "11,038,109",
          "107,432",
          "424,067",
          "160,188",
          "11,735,894",
          "8,336,967",
          "1,230,849",
          "759,051",
          "8,360,225",
          "6,656,725",
          "6,731,195",
          "10,202,055",
          "281,462",
          "1,059,633,675",
          "214,072,421",
          "65,544,383",
          "24,628,858",
          "3,768,950",
          "6,116,958",
          "56,966,397",
          "2,612,205",
          "126,803,861",
          "5,056,174",
          "15,236,253",
          "30,851,606",
          "88,826",
          "1,934,901",
          "4,935,182",
          "5,430,853",
          "2,392,530",
          "4,320,642",
          "1,998,630",
          "2,895,224",
          "5,154,790",
          "3,599,637",
          "435,628",
          "431,896",
          "16,216,431",
          "11,229,387",
          "22,945,150",
          "282,507",
          "11,239,101",
          "399,212",
          "432,543",
          "2,695,003",
          "1,215,930",
          "159,215",
          "97,873,442",
          "4,251,573",
          "2,450,979",
          "633,324",
          "28,554,415",
          "17,768,505",
          "45,538,332",
          "1,819,141",
          "24,559,500",
          "15,899,135",
          "221,537",
          "3,855,266",
          "5,123,222",
          "11,622,665",
          "122,851,984",
          "23,367,059",
          "2,037,936",
          "4,491,202",
          "2,344,253",
          "154,369,924",
          "3,001,731",
          "5,508,297",
          "5,123,819",
          "26,654,439",
          "77,958,223",
          "38,504,431",
          "10,300,626",
          "3,827,108",
          "645,937",
          "21,919,876",
          "146,844,839",
          "8,109,989",
          "785,424",
          "159,500",
          "184,008",
          "143,714",
          "21,547,390",
          "9,704,287",
          "7,935,022",
          "80,060",
          "4,584,067",
          "4,053,602",
          "5,376,690",
          "1,984,339",
          "429,978",
          "8,721,465",
          "46,813,266",
          "46,788,591",
          "6,114,440",
          "40,741,651",
          "18,776,371",
          "113,813",
          "3,139,954",
          "26,298,773",
          "478,998",
          "8,871,043",
          "7,182,059",
          "16,307,654",
          "22,194,731",
          "6,272,998",
          "34,463,704",
          "63,066,603",
          "878,360",
          "5,008,035",
          "102,603",
          "1,332,203",
          "9,893,316",
          "64,113,547",
          "4,569,132",
          "108,185",
          "24,020,697",
          "48,879,755",
          "3,275,333",
          "58,850,043",
          "282,398,554",
          "3,292,224",
          "24,925,554",
          "192,074",
          "24,427,729",
          "79,001,142",
          "270,375",
          "18,628,700",
          "9,891,136",
          "11,834,676",
          "24,411,191",
          "3,032,634",
          "32,956,690",
          "19,450,959",
          "79,869",
          "39,070,501",
          "3,047,246",
          "94,483",
          "20,171,731",
          "8,227,034",
          "8,656,237",
          "347,804",
          "901,921",
          "140,912,590",
          "269,477",
          "9,935,163",
          "10,516,978",
          "280,375",
          "8,149,419",
          "663,323",
          "9,377,388",
          "4,094,297",
          "1,892,807",
          "186,797,334",
          "366,717",
          "7,815,221",
          "13,876,127",
          "7,388,874",
          "492,827",
          "13,246,583",
          "17,275,171",
          "32,215,916",
          "4,208,834",
          "10,005,012",
          "16,175,311",
          "1,304,887,562",
          "42,220,940",
          "592,683",
          "3,672,839",
          "4,315,887",
          "4,429,681",
          "11,246,114",
          "147,263",
          "1,037,062",
          "10,280,113",
          "18,970,215",
          "56,550,247",
          "5,436,313",
          "830,861",
          "9,164,768",
          "13,770,012",
          "79,075,310",
          "6,037,817",
          "864,726",
          "2,831,732",
          "1,354,662",
          "1,071,886",
          "77,469,940",
          "874,923",
          "5,246,071",
          "60,510,079",
          "201,259",
          "271,060",
          "1,458,353",
          "1,660,368",
          "3,961,182",
          "81,212,168",
          "22,496,951",
          "11,113,448",
          "110,254",
          "403,233",
          "164,430",
          "13,132,814",
          "9,140,114",
          "1,379,713",
          "759,709",
          "9,111,900",
          "7,564,613",
          "6,936,874",
          "10,073,525",
          "297,029",
          "1,154,638,713",
          "228,805,144",
          "70,182,594",
          "28,698,684",
          "4,121,216",
          "6,714,124",
          "58,199,876",
          "2,676,863",
          "127,798,373",
          "5,678,534",
          "15,656,248",
          "35,843,010",
          "98,164",
          "2,235,403",
          "5,193,114",
          "5,852,970",
          "2,233,157",
          "4,643,044",
          "1,977,424",
          "3,266,318",
          "5,837,986",
          "3,373,533",
          "464,860",
          "488,619",
          "18,792,171",
          "12,755,648",
          "25,923,536",
          "307,018",
          "13,180,551",
          "410,208",
          "400,370",
          "3,012,360",
          "1,258,048",
          "187,142",
          "105,442,402",
          "4,001,382",
          "2,559,255",
          "632,875",
          "30,431,902",
          "20,211,114",
          "47,724,471",
          "1,962,865",
          "26,285,110",
          "16,261,831",
          "242,141",
          "4,132,781",
          "5,454,678",
          "13,855,221",
          "140,490,722",
          "24,100,982",
          "2,078,662",
          "4,623,689",
          "2,515,192",
          "174,372,098",
          "3,305,868",
          "6,498,818",
          "5,476,878",
          "28,147,267",
          "86,261,250",
          "38,575,911",
          "10,523,315",
          "3,805,559",
          "848,710",
          "21,092,264",
          "143,800,049",
          "9,026,299",
          "833,656",
          "165,386",
          "188,626",
          "161,680",
          "24,397,644",
          "10,974,057",
          "7,830,944",
          "85,883",
          "5,683,334",
          "4,344,637",
          "5,376,242",
          "2,004,778",
          "482,486",
          "10,467,292",
          "49,017,147",
          "47,889,573",
          "7,662,654",
          "43,685,374",
          "19,673,866",
          "112,043",
          "3,541,193",
          "29,540,577",
          "516,220",
          "9,051,738",
          "7,428,435",
          "18,583,557",
          "22,796,306",
          "6,929,145",
          "39,439,505",
          "65,821,360",
          "969,313",
          "5,711,597",
          "105,633",
          "1,369,075",
          "10,388,344",
          "68,704,715",
          "4,885,775",
          "106,481",
          "27,946,588",
          "46,912,610",
          "4,280,993",
          "60,383,741",
          "296,842,670",
          "3,317,665",
          "26,573,423",
          "217,632",
          "26,668,785",
          "83,142,095",
          "339,187",
          "21,320,671",
          "11,564,870",
          "12,224,753",
          "28,189,672",
          "2,913,399",
          "35,856,344",
          "23,364,185",
          "85,695",
          "41,100,123",
          "2,946,293",
          "100,341",
          "22,019,168",
          "8,362,829",
          "9,237,202",
          "373,272",
          "1,213,645",
          "148,391,139",
          "274,711",
          "9,731,427",
          "10,877,947",
          "322,106",
          "9,445,710",
          "705,516",
          "10,223,270",
          "3,811,088",
          "2,091,664",
          "196,353,492",
          "396,053",
          "7,592,273",
          "16,116,845",
          "9,126,605",
          "521,212",
          "14,363,532",
          "19,878,036",
          "33,963,412",
          "4,660,067",
          "11,894,727",
          "17,004,162",
          "1,348,191,368",
          "44,816,108",
          "656,024",
          "4,437,884",
          "4,622,252",
          "4,368,682",
          "11,290,417",
          "159,380",
          "1,129,686",
          "10,464,749",
          "21,120,042",
          "66,391,257",
          "5,550,849",
          "919,199",
          "9,775,755",
          "14,989,585",
          "87,252,413",
          "6,114,034",
          "1,094,524",
          "3,147,727",
          "1,331,535",
          "1,099,920",
          "89,237,791",
          "905,169",
          "5,363,271",
          "62,444,567",
          "228,453",
          "283,788",
          "1,711,105",
          "1,937,275",
          "3,836,831",
          "81,325,090",
          "25,574,719",
          "11,033,783",
          "114,039",
          "403,072",
          "164,905",
          "14,543,121",
          "10,270,728",
          "1,567,220",
          "747,932",
          "9,842,880",
          "8,450,933",
          "7,132,438",
          "9,986,825",
          "318,333",
          "1,240,613,620",
          "244,016,173",
          "75,373,855",
          "31,264,875",
          "4,524,585",
          "7,328,445",
          "59,822,450",
          "2,733,896",
          "128,105,431",
          "6,931,258",
          "16,627,837",
          "41,517,895",
          "107,995",
          "2,943,356",
          "5,483,774",
          "6,323,418",
          "2,101,530",
          "4,995,800",
          "2,022,747",
          "4,019,956",
          "6,491,988",
          "3,139,019",
          "507,070",
          "557,297",
          "21,731,053",
          "14,718,422",
          "28,717,731",
          "361,575",
          "15,529,181",
          "418,755",
          "392,181",
          "3,419,461",
          "1,283,330",
          "211,786",
          "112,532,401",
          "3,678,186",
          "2,702,520",
          "631,044",
          "32,464,865",
          "23,073,723",
          "49,390,988",
          "2,099,271",
          "27,161,567",
          "16,617,117",
          "261,426",
          "4,346,338",
          "5,855,734",
          "16,647,543",
          "160,952,853",
          "24,686,435",
          "2,093,828",
          "4,889,741",
          "2,881,914",
          "194,454,498",
          "3,623,617",
          "7,583,269",
          "5,768,613",
          "29,229,572",
          "94,636,700",
          "38,597,353",
          "10,588,401",
          "3,717,922",
          "1,713,504",
          "20,335,211",
          "143,242,599",
          "10,309,031",
          "890,130",
          "170,935",
          "194,672",
          "182,138",
          "29,411,929",
          "12,530,121",
          "7,653,748",
          "92,409",
          "6,436,698",
          "5,163,590",
          "5,396,424",
          "2,057,287",
          "540,394",
          "12,026,649",
          "51,784,921",
          "48,813,042",
          "9,714,419",
          "46,572,772",
          "20,668,557",
          "109,308",
          "3,992,278",
          "33,739,933",
          "546,080",
          "9,381,729",
          "7,822,435",
          "22,337,563",
          "23,083,083",
          "7,621,779",
          "45,110,527",
          "68,270,489",
          "1,088,486",
          "6,571,855",
          "107,383",
          "1,410,296",
          "10,895,063",
          "73,195,345",
          "5,267,970",
          "106,142",
          "32,341,728",
          "45,683,020",
          "8,481,771",
          "62,760,039",
          "311,182,845",
          "3,352,651",
          "28,614,227",
          "245,453",
          "28,715,022",
          "87,411,012",
          "413,296",
          "24,743,946",
          "13,792,086",
          "12,839,771",
          "33,753,499",
          "2,882,481",
          "39,543,154",
          "28,127,721",
          "89,941",
          "43,257,065",
          "2,878,595",
          "104,257",
          "23,820,236",
          "8,642,421",
          "9,863,480",
          "392,697",
          "1,362,142",
          "157,830,000",
          "278,083",
          "9,700,609",
          "11,248,303",
          "359,871",
          "10,932,783",
          "743,274",
          "11,090,085",
          "3,524,324",
          "2,305,171",
          "205,188,205",
          "421,437",
          "7,309,253",
          "18,718,019",
          "10,727,148",
          "552,166",
          "15,417,523",
          "23,012,646",
          "35,732,126",
          "4,819,333",
          "14,140,274",
          "17,870,124",
          "1,393,715,448",
          "47,119,728",
          "730,216",
          "5,064,386",
          "4,895,242",
          "4,254,815",
          "11,339,894",
          "169,572",
          "1,187,280",
          "10,523,798",
          "23,596,741",
          "78,656,904",
          "5,677,796",
          "1,006,259",
          "10,405,832",
          "16,195,902",
          "97,723,799",
          "6,231,066",
          "1,346,973",
          "3,340,006",
          "1,314,657",
          "1,133,936",
          "102,471,895",
          "917,200",
          "5,479,461",
          "63,809,769",
          "257,026",
          "291,787",
          "2,028,517",
          "2,253,133",
          "3,771,132",
          "82,073,226",
          "28,870,939",
          "10,806,641",
          "118,980",
          "399,089",
          "167,978",
          "16,001,107",
          "11,625,998",
          "1,788,919",
          "755,031",
          "10,563,757",
          "9,294,505",
          "7,399,838",
          "9,844,246",
          "331,060",
          "1,322,866,505",
          "259,091,970",
          "81,790,841",
          "37,757,813",
          "4,665,760",
          "8,007,778",
          "60,232,906",
          "2,794,445",
          "127,250,933",
          "9,494,246",
          "17,835,909",
          "46,851,488",
          "116,707",
          "3,908,743",
          "5,914,980",
          "6,787,419",
          "1,991,955",
          "6,398,940",
          "2,118,521",
          "4,612,329",
          "6,192,235",
          "2,963,765",
          "569,408",
          "615,239",
          "24,850,912",
          "16,938,942",
          "31,068,833",
          "435,582",
          "18,112,907",
          "456,579",
          "383,515",
          "3,946,220",
          "1,293,153",
          "249,545",
          "120,149,897",
          "3,277,388",
          "2,964,749",
          "633,966",
          "34,680,458",
          "26,843,246",
          "51,483,949",
          "2,282,704",
          "27,610,325",
          "17,041,107",
          "283,032",
          "4,590,590",
          "6,298,598",
          "20,128,124",
          "183,995,785",
          "25,258,015",
          "2,107,962",
          "5,190,356",
          "4,191,776",
          "210,969,298",
          "3,957,099",
          "8,682,174",
          "6,177,950",
          "30,711,863",
          "103,031,365",
          "38,553,146",
          "10,365,435",
          "3,497,335",
          "2,414,573",
          "19,906,079",
          "144,668,389",
          "11,642,959",
          "922,495",
          "175,623",
          "203,571",
          "201,124",
          "32,749,848",
          "14,356,181",
          "7,519,496",
          "99,240",
          "7,314,773",
          "5,650,018",
          "5,424,444",
          "2,080,862",
          "612,660",
          "13,763,906",
          "55,876,504",
          "50,994,401",
          "11,194,299",
          "46,431,342",
          "21,336,697",
          "106,482",
          "4,484,614",
          "38,171,178",
          "575,475",
          "9,849,349",
          "8,281,732",
          "19,205,178",
          "23,512,136",
          "8,524,063",
          "52,542,823",
          "70,294,397",
          "1,205,813",
          "7,473,229",
          "106,122",
          "1,460,177",
          "11,557,779",
          "79,646,178",
          "5,766,431",
          "102,803",
          "37,477,356",
          "44,982,564",
          "8,916,899",
          "65,224,364",
          "324,607,776",
          "3,402,818",
          "30,949,417",
          "276,438",
          "30,529,716",
          "92,191,398",
          "491,824",
          "28,516,545",
          "16,248,230",
          "14,154,937",
          "38,972,230",
          "2,866,849",
          "43,451,666",
          "33,428,486",
          "92,664",
          "45,036,032",
          "2,805,608",
          "106,585",
          "25,670,051",
          "8,907,777",
          "10,284,951",
          "406,471",
          "1,477,469",
          "167,420,951",
          "280,693",
          "9,633,740",
          "11,561,717",
          "394,921",
          "12,643,123",
          "772,506",
          "11,936,162",
          "3,318,407",
          "2,546,402",
          "213,196,304",
          "441,725",
          "6,979,175",
          "21,522,626",
          "12,220,227",
          "582,640",
          "16,396,860",
          "26,491,087",
          "37,888,705",
          "5,343,020",
          "16,644,701",
          "19,300,315",
          "1,424,929,781",
          "50,930,662",
          "806,166",
          "5,702,174",
          "5,123,105",
          "4,096,869",
          "11,300,698",
          "189,288",
          "1,237,537",
          "10,530,953",
          "26,811,790",
          "92,853,164",
          "5,825,641",
          "1,090,156",
          "10,999,664",
          "17,588,595",
          "107,465,134",
          "6,292,731",
          "1,596,049",
          "3,555,868",
          "1,329,444",
          "1,180,655",
          "117,190,911",
          "920,422",
          "5,529,468",
          "64,480,053",
          "290,969",
          "301,920",
          "2,292,573",
          "2,573,995",
          "3,765,912",
          "83,328,988",
          "32,180,401",
          "10,512,232",
          "123,663",
          "395,642",
          "169,231",
          "17,362,718",
          "13,205,153",
          "2,015,828",
          "797,202",
          "11,306,801",
          "10,121,763",
          "7,500,958",
          "9,750,573",
          "366,669",
          "1,396,387,127",
          "271,857,970",
          "87,290,193",
          "42,556,984",
          "4,946,119",
          "8,757,489",
          "59,500,579",
          "2,820,436",
          "125,244,761",
          "10,928,721",
          "18,979,243",
          "51,985,780",
          "126,463",
          "4,360,444",
          "6,424,874",
          "7,319,399",
          "1,897,052",
          "5,662,923",
          "2,254,100",
          "5,087,584",
          "6,653,942",
          "2,820,267",
          "630,399",
          "676,283",
          "28,225,177",
          "19,377,061",
          "33,199,993",
          "514,438",
          "21,224,040",
          "515,358",
          "370,391",
          "4,498,604",
          "1,297,828",
          "305,587",
          "125,998,302",
          "3,084,847",
          "3,294,335",
          "629,048",
          "36,688,772",
          "31,178,239",
          "53,423,198",
          "2,489,098",
          "29,348,627",
          "17,434,557",
          "286,403",
          "5,061,133",
          "6,755,895",
          "24,333,639",
          "208,327,405",
          "25,867,467",
          "2,111,072",
          "5,379,839",
          "4,543,399",
          "227,196,741",
          "4,294,396",
          "9,749,640",
          "6,618,695",
          "33,304,756",
          "112,190,977",
          "38,428,366",
          "10,298,192",
          "3,271,564",
          "2,760,385",
          "19,442,038",
          "145,617,329",
          "13,146,362",
          "957,822",
          "179,237",
          "214,929",
          "218,641",
          "35,997,107",
          "16,436,120",
          "7,358,005",
          "105,530",
          "8,233,970",
          "5,909,869",
          "5,456,681",
          "2,117,641",
          "691,191",
          "16,537,016",
          "58,801,927",
          "51,844,690",
          "10,606,227",
          "47,363,807",
          "21,715,079",
          "104,632",
          "5,019,401",
          "44,440,486",
          "607,065",
          "10,368,969",
          "8,638,613",
          "20,772,595",
          "23,821,464",
          "9,543,207",
          "61,704,518",
          "71,475,664",
          "1,299,995",
          "8,442,580",
          "105,254",
          "1,518,147",
          "12,161,723",
          "84,135,428",
          "6,250,438",
          "100,442",
          "44,404,611",
          "43,909,666",
          "9,287,289",
          "67,059,474",
          "335,942,003",
          "3,429,086",
          "33,526,656",
          "311,685",
          "28,490,453",
          "96,648,685",
          "556,048",
          "32,284,046",
          "18,927,715",
          "15,669,666",
          "41,128,771",
          "2,842,321",
          "44,903,225",
          "35,588,987",
          "93,763",
          "45,510,318",
          "2,780,469",
          "106,445",
          "26,177,413",
          "8,939,617",
          "10,358,074",
          "409,984",
          "1,472,233",
          "171,186,372",
          "281,635",
          "9,534,954",
          "11,655,930",
          "405,272",
          "13,352,864",
          "782,455",
          "12,224,110",
          "3,233,526",
          "2,630,296",
          "215,313,498",
          "449,002",
          "6,781,953",
          "22,673,762",
          "12,889,576",
          "593,149",
          "16,767,842",
          "27,914,536",
          "38,454,327",
          "5,579,144",
          "17,723,315",
          "19,603,733",
          "1,425,887,337",
          "51,874,024",
          "836,774",
          "5,970,424",
          "5,180,829",
          "4,030,358",
          "11,212,191",
          "191,163",
          "1,251,488",
          "10,493,986",
          "28,160,542",
          "99,010,212",
          "5,882,261",
          "1,120,849",
          "11,228,821",
          "18,001,000",
          "110,990,103",
          "6,336,392",
          "1,674,908",
          "3,684,032",
          "1,326,062",
          "1,201,670",
          "123,379,924",
          "929,766",
          "5,540,745",
          "64,626,628",
          "304,557",
          "306,279",
          "2,388,992",
          "2,705,992",
          "3,744,385",
          "83,369,843",
          "33,475,870",
          "10,384,971",
          "125,438",
          "395,752",
          "171,774",
          "17,843,908",
          "13,859,341",
          "2,105,566",
          "808,726",
          "11,584,996",
          "10,432,860",
          "7,488,865",
          "9,967,308",
          "372,899",
          "1,417,173,173",
          "275,501,339",
          "88,550,570",
          "44,496,122",
          "5,023,109",
          "9,038,309",
          "59,037,474",
          "2,827,377",
          "123,951,692",
          "11,285,869",
          "19,397,998",
          "54,027,487",
          "131,232",
          "4,268,873",
          "6,630,623",
          "7,529,475",
          "1,850,651",
          "5,489,739",
          "2,305,825",
          "5,302,681",
          "6,812,341",
          "2,750,055",
          "647,599",
          "695,168",
          "29,611,714",
          "20,405,317",
          "33,938,221",
          "523,787",
          "22,593,590",
          "533,286",
          "367,507",
          "4,736,139",
          "1,299,469",
          "326,101",
          "127,504,125",
          "3,272,996",
          "3,398,366",
          "627,082",
          "37,457,971",
          "32,969,518",
          "54,179,306",
          "2,567,012",
          "30,547,580",
          "17,564,014",
          "289,950",
          "5,185,288",
          "6,948,392",
          "26,207,977",
          "218,541,212",
          "26,069,416",
          "2,093,599",
          "5,434,319",
          "4,576,298",
          "235,824,862",
          "4,408,581",
          "10,142,619",
          "6,780,744",
          "34,049,588",
          "115,559,009",
          "39,857,145",
          "10,270,865",
          "3,252,407",
          "2,695,122",
          "19,659,267",
          "144,713,314",
          "13,776,698",
          "974,052",
          "179,857",
          "222,382",
          "227,380",
          "36,408,820",
          "17,316,449",
          "7,221,365",
          "107,118",
          "8,605,718",
          "5,975,689",
          "5,643,453",
          "2,119,844",
          "724,273",
          "17,597,511",
          "59,893,885",
          "51,815,810",
          "10,913,164",
          "47,558,630",
          "21,832,143",
          "103,948",
          "5,250,072",
          "46,874,204",
          "618,040",
          "10,549,347",
          "8,740,472",
          "22,125,249",
          "23,893,394",
          "9,952,787",
          "65,497,748",
          "71,697,030",
          "1,341,296",
          "8,848,699",
          "106,858",
          "1,531,044",
          "12,356,117",
          "85,341,241",
          "6,430,770",
          "99,465",
          "47,249,585",
          "39,701,739",
          "9,441,129",
          "67,508,936",
          "338,289,857",
          "3,422,794",
          "34,627,652",
          "326,740",
          "28,301,696",
          "98,186,856",
          "575,986",
          "33,696,614",
          "20,017,675",
          "16,320,537",
          "42,239,854",
          "2,832,439",
          "45,606,480",
          "36,684,202",
          "94,298",
          "45,773,884",
          "2,777,970",
          "106,277",
          "26,439,111",
          "8,958,960",
          "10,412,651",
          "412,623",
          "1,485,509",
          "172,954,319",
          "281,995",
          "9,498,238",
          "11,686,140",
          "410,825",
          "13,712,828",
          "787,424",
          "12,388,571",
          "3,210,847",
          "2,675,352",
          "216,422,446",
          "452,524",
          "6,687,717",
          "23,251,485",
          "13,238,559",
          "598,682",
          "16,944,826",
          "28,647,293",
          "38,781,291",
          "5,742,315",
          "18,278,568",
          "19,629,590",
          "1,425,671,352",
          "52,085,168",
          "852,075",
          "6,106,869",
          "5,212,173",
          "4,008,617",
          "11,194,449",
          "192,077",
          "1,260,138",
          "10,495,295",
          "28,873,034",
          "102,262,808",
          "5,910,913",
          "1,136,455",
          "11,332,972",
          "18,190,484",
          "112,716,598",
          "6,364,943",
          "1,714,671",
          "3,748,901",
          "1,322,765",
          "1,210,822",
          "126,527,060",
          "936,375",
          "5,545,475",
          "64,756,584",
          "312,155",
          "308,872",
          "2,436,566",
          "2,773,168",
          "3,728,282",
          "83,294,633",
          "34,121,985",
          "10,341,277",
          "126,183",
          "395,839",
          "172,952",
          "18,092,026",
          "14,190,612",
          "2,150,842",
          "813,834",
          "11,724,763",
          "10,593,798",
          "7,491,609",
          "10,156,239",
          "375,318",
          "1,428,627,663",
          "277,534,122",
          "89,172,767",
          "45,504,560",
          "5,056,935",
          "9,174,520",
          "58,870,762",
          "2,825,544",
          "123,294,513",
          "11,337,052",
          "19,606,633",
          "55,100,586",
          "133,515",
          "4,310,108",
          "6,735,347",
          "7,633,779",
          "1,830,211",
          "5,353,930",
          "2,330,318",
          "5,418,377",
          "6,888,388",
          "2,718,352",
          "654,768",
          "704,149",
          "30,325,732",
          "20,931,751",
          "34,308,525",
          "521,021",
          "23,293,698",
          "535,064",
          "366,981",
          "4,862,989",
          "1,300,557",
          "335,995",
          "128,455,567",
          "3,435,931",
          "3,447,157",
          "626,485",
          "37,840,044",
          "33,897,354",
          "54,577,997",
          "2,604,172",
          "30,896,590",
          "17,618,299",
          "292,991",
          "5,228,100",
          "7,046,310",
          "27,202,843",
          "223,804,632",
          "26,160,821",
          "2,085,679",
          "5,474,360",
          "4,644,384",
          "240,485,658",
          "4,468,087",
          "10,329,931",
          "6,861,524",
          "34,352,719",
          "117,337,368",
          "41,026,067",
          "10,247,605",
          "3,260,314",
          "2,716,391",
          "19,892,812",
          "144,444,359",
          "14,094,683",
          "981,796",
          "180,251",
          "225,681",
          "231,856",
          "36,947,025",
          "17,763,163",
          "7,149,077",
          "107,660",
          "8,791,092",
          "6,014,723",
          "5,795,199",
          "2,119,675",
          "740,424",
          "18,143,378",
          "60,414,495",
          "51,784,059",
          "11,088,796",
          "47,519,628",
          "21,893,579",
          "103,698",
          "5,371,230",
          "48,109,006",
          "623,236",
          "10,612,086",
          "8,796,669",
          "23,227,014",
          "23,923,276",
          "10,143,543",
          "67,438,106",
          "71,801,279",
          "1,360,596",
          "9,053,799",
          "107,773",
          "1,534,937",
          "12,458,223",
          "85,816,199",
          "6,516,100",
          "98,750",
          "48,582,334",
          "36,744,634",
          "9,516,871",
          "67,736,802",
          "339,996,563",
          "3,423,108",
          "35,163,944",
          "334,506",
          "28,838,499",
          "98,858,950",
          "587,259",
          "34,449,825",
          "20,569,737",
          "16,665,409"
         ]
        }
       ],
       "layout": {
        "legend": {
         "bgcolor": "#FFFFFF",
         "font": {
          "color": "#4D5663"
         }
        },
        "paper_bgcolor": "#FFFFFF",
        "plot_bgcolor": "#FFFFFF",
        "template": {
         "data": {
          "bar": [
           {
            "error_x": {
             "color": "#2a3f5f"
            },
            "error_y": {
             "color": "#2a3f5f"
            },
            "marker": {
             "line": {
              "color": "#E5ECF6",
              "width": 0.5
             },
             "pattern": {
              "fillmode": "overlay",
              "size": 10,
              "solidity": 0.2
             }
            },
            "type": "bar"
           }
          ],
          "barpolar": [
           {
            "marker": {
             "line": {
              "color": "#E5ECF6",
              "width": 0.5
             },
             "pattern": {
              "fillmode": "overlay",
              "size": 10,
              "solidity": 0.2
             }
            },
            "type": "barpolar"
           }
          ],
          "carpet": [
           {
            "aaxis": {
             "endlinecolor": "#2a3f5f",
             "gridcolor": "white",
             "linecolor": "white",
             "minorgridcolor": "white",
             "startlinecolor": "#2a3f5f"
            },
            "baxis": {
             "endlinecolor": "#2a3f5f",
             "gridcolor": "white",
             "linecolor": "white",
             "minorgridcolor": "white",
             "startlinecolor": "#2a3f5f"
            },
            "type": "carpet"
           }
          ],
          "choropleth": [
           {
            "colorbar": {
             "outlinewidth": 0,
             "ticks": ""
            },
            "type": "choropleth"
           }
          ],
          "contour": [
           {
            "colorbar": {
             "outlinewidth": 0,
             "ticks": ""
            },
            "colorscale": [
             [
              0,
              "#0d0887"
             ],
             [
              0.1111111111111111,
              "#46039f"
             ],
             [
              0.2222222222222222,
              "#7201a8"
             ],
             [
              0.3333333333333333,
              "#9c179e"
             ],
             [
              0.4444444444444444,
              "#bd3786"
             ],
             [
              0.5555555555555556,
              "#d8576b"
             ],
             [
              0.6666666666666666,
              "#ed7953"
             ],
             [
              0.7777777777777778,
              "#fb9f3a"
             ],
             [
              0.8888888888888888,
              "#fdca26"
             ],
             [
              1,
              "#f0f921"
             ]
            ],
            "type": "contour"
           }
          ],
          "contourcarpet": [
           {
            "colorbar": {
             "outlinewidth": 0,
             "ticks": ""
            },
            "type": "contourcarpet"
           }
          ],
          "heatmap": [
           {
            "colorbar": {
             "outlinewidth": 0,
             "ticks": ""
            },
            "colorscale": [
             [
              0,
              "#0d0887"
             ],
             [
              0.1111111111111111,
              "#46039f"
             ],
             [
              0.2222222222222222,
              "#7201a8"
             ],
             [
              0.3333333333333333,
              "#9c179e"
             ],
             [
              0.4444444444444444,
              "#bd3786"
             ],
             [
              0.5555555555555556,
              "#d8576b"
             ],
             [
              0.6666666666666666,
              "#ed7953"
             ],
             [
              0.7777777777777778,
              "#fb9f3a"
             ],
             [
              0.8888888888888888,
              "#fdca26"
             ],
             [
              1,
              "#f0f921"
             ]
            ],
            "type": "heatmap"
           }
          ],
          "heatmapgl": [
           {
            "colorbar": {
             "outlinewidth": 0,
             "ticks": ""
            },
            "colorscale": [
             [
              0,
              "#0d0887"
             ],
             [
              0.1111111111111111,
              "#46039f"
             ],
             [
              0.2222222222222222,
              "#7201a8"
             ],
             [
              0.3333333333333333,
              "#9c179e"
             ],
             [
              0.4444444444444444,
              "#bd3786"
             ],
             [
              0.5555555555555556,
              "#d8576b"
             ],
             [
              0.6666666666666666,
              "#ed7953"
             ],
             [
              0.7777777777777778,
              "#fb9f3a"
             ],
             [
              0.8888888888888888,
              "#fdca26"
             ],
             [
              1,
              "#f0f921"
             ]
            ],
            "type": "heatmapgl"
           }
          ],
          "histogram": [
           {
            "marker": {
             "pattern": {
              "fillmode": "overlay",
              "size": 10,
              "solidity": 0.2
             }
            },
            "type": "histogram"
           }
          ],
          "histogram2d": [
           {
            "colorbar": {
             "outlinewidth": 0,
             "ticks": ""
            },
            "colorscale": [
             [
              0,
              "#0d0887"
             ],
             [
              0.1111111111111111,
              "#46039f"
             ],
             [
              0.2222222222222222,
              "#7201a8"
             ],
             [
              0.3333333333333333,
              "#9c179e"
             ],
             [
              0.4444444444444444,
              "#bd3786"
             ],
             [
              0.5555555555555556,
              "#d8576b"
             ],
             [
              0.6666666666666666,
              "#ed7953"
             ],
             [
              0.7777777777777778,
              "#fb9f3a"
             ],
             [
              0.8888888888888888,
              "#fdca26"
             ],
             [
              1,
              "#f0f921"
             ]
            ],
            "type": "histogram2d"
           }
          ],
          "histogram2dcontour": [
           {
            "colorbar": {
             "outlinewidth": 0,
             "ticks": ""
            },
            "colorscale": [
             [
              0,
              "#0d0887"
             ],
             [
              0.1111111111111111,
              "#46039f"
             ],
             [
              0.2222222222222222,
              "#7201a8"
             ],
             [
              0.3333333333333333,
              "#9c179e"
             ],
             [
              0.4444444444444444,
              "#bd3786"
             ],
             [
              0.5555555555555556,
              "#d8576b"
             ],
             [
              0.6666666666666666,
              "#ed7953"
             ],
             [
              0.7777777777777778,
              "#fb9f3a"
             ],
             [
              0.8888888888888888,
              "#fdca26"
             ],
             [
              1,
              "#f0f921"
             ]
            ],
            "type": "histogram2dcontour"
           }
          ],
          "mesh3d": [
           {
            "colorbar": {
             "outlinewidth": 0,
             "ticks": ""
            },
            "type": "mesh3d"
           }
          ],
          "parcoords": [
           {
            "line": {
             "colorbar": {
              "outlinewidth": 0,
              "ticks": ""
             }
            },
            "type": "parcoords"
           }
          ],
          "pie": [
           {
            "automargin": true,
            "type": "pie"
           }
          ],
          "scatter": [
           {
            "fillpattern": {
             "fillmode": "overlay",
             "size": 10,
             "solidity": 0.2
            },
            "type": "scatter"
           }
          ],
          "scatter3d": [
           {
            "line": {
             "colorbar": {
              "outlinewidth": 0,
              "ticks": ""
             }
            },
            "marker": {
             "colorbar": {
              "outlinewidth": 0,
              "ticks": ""
             }
            },
            "type": "scatter3d"
           }
          ],
          "scattercarpet": [
           {
            "marker": {
             "colorbar": {
              "outlinewidth": 0,
              "ticks": ""
             }
            },
            "type": "scattercarpet"
           }
          ],
          "scattergeo": [
           {
            "marker": {
             "colorbar": {
              "outlinewidth": 0,
              "ticks": ""
             }
            },
            "type": "scattergeo"
           }
          ],
          "scattergl": [
           {
            "marker": {
             "colorbar": {
              "outlinewidth": 0,
              "ticks": ""
             }
            },
            "type": "scattergl"
           }
          ],
          "scattermapbox": [
           {
            "marker": {
             "colorbar": {
              "outlinewidth": 0,
              "ticks": ""
             }
            },
            "type": "scattermapbox"
           }
          ],
          "scatterpolar": [
           {
            "marker": {
             "colorbar": {
              "outlinewidth": 0,
              "ticks": ""
             }
            },
            "type": "scatterpolar"
           }
          ],
          "scatterpolargl": [
           {
            "marker": {
             "colorbar": {
              "outlinewidth": 0,
              "ticks": ""
             }
            },
            "type": "scatterpolargl"
           }
          ],
          "scatterternary": [
           {
            "marker": {
             "colorbar": {
              "outlinewidth": 0,
              "ticks": ""
             }
            },
            "type": "scatterternary"
           }
          ],
          "surface": [
           {
            "colorbar": {
             "outlinewidth": 0,
             "ticks": ""
            },
            "colorscale": [
             [
              0,
              "#0d0887"
             ],
             [
              0.1111111111111111,
              "#46039f"
             ],
             [
              0.2222222222222222,
              "#7201a8"
             ],
             [
              0.3333333333333333,
              "#9c179e"
             ],
             [
              0.4444444444444444,
              "#bd3786"
             ],
             [
              0.5555555555555556,
              "#d8576b"
             ],
             [
              0.6666666666666666,
              "#ed7953"
             ],
             [
              0.7777777777777778,
              "#fb9f3a"
             ],
             [
              0.8888888888888888,
              "#fdca26"
             ],
             [
              1,
              "#f0f921"
             ]
            ],
            "type": "surface"
           }
          ],
          "table": [
           {
            "cells": {
             "fill": {
              "color": "#EBF0F8"
             },
             "line": {
              "color": "white"
             }
            },
            "header": {
             "fill": {
              "color": "#C8D4E3"
             },
             "line": {
              "color": "white"
             }
            },
            "type": "table"
           }
          ]
         },
         "layout": {
          "annotationdefaults": {
           "arrowcolor": "#2a3f5f",
           "arrowhead": 0,
           "arrowwidth": 1
          },
          "autotypenumbers": "strict",
          "coloraxis": {
           "colorbar": {
            "outlinewidth": 0,
            "ticks": ""
           }
          },
          "colorscale": {
           "diverging": [
            [
             0,
             "#8e0152"
            ],
            [
             0.1,
             "#c51b7d"
            ],
            [
             0.2,
             "#de77ae"
            ],
            [
             0.3,
             "#f1b6da"
            ],
            [
             0.4,
             "#fde0ef"
            ],
            [
             0.5,
             "#f7f7f7"
            ],
            [
             0.6,
             "#e6f5d0"
            ],
            [
             0.7,
             "#b8e186"
            ],
            [
             0.8,
             "#7fbc41"
            ],
            [
             0.9,
             "#4d9221"
            ],
            [
             1,
             "#276419"
            ]
           ],
           "sequential": [
            [
             0,
             "#0d0887"
            ],
            [
             0.1111111111111111,
             "#46039f"
            ],
            [
             0.2222222222222222,
             "#7201a8"
            ],
            [
             0.3333333333333333,
             "#9c179e"
            ],
            [
             0.4444444444444444,
             "#bd3786"
            ],
            [
             0.5555555555555556,
             "#d8576b"
            ],
            [
             0.6666666666666666,
             "#ed7953"
            ],
            [
             0.7777777777777778,
             "#fb9f3a"
            ],
            [
             0.8888888888888888,
             "#fdca26"
            ],
            [
             1,
             "#f0f921"
            ]
           ],
           "sequentialminus": [
            [
             0,
             "#0d0887"
            ],
            [
             0.1111111111111111,
             "#46039f"
            ],
            [
             0.2222222222222222,
             "#7201a8"
            ],
            [
             0.3333333333333333,
             "#9c179e"
            ],
            [
             0.4444444444444444,
             "#bd3786"
            ],
            [
             0.5555555555555556,
             "#d8576b"
            ],
            [
             0.6666666666666666,
             "#ed7953"
            ],
            [
             0.7777777777777778,
             "#fb9f3a"
            ],
            [
             0.8888888888888888,
             "#fdca26"
            ],
            [
             1,
             "#f0f921"
            ]
           ]
          },
          "colorway": [
           "#636efa",
           "#EF553B",
           "#00cc96",
           "#ab63fa",
           "#FFA15A",
           "#19d3f3",
           "#FF6692",
           "#B6E880",
           "#FF97FF",
           "#FECB52"
          ],
          "font": {
           "color": "#2a3f5f"
          },
          "geo": {
           "bgcolor": "white",
           "lakecolor": "white",
           "landcolor": "#E5ECF6",
           "showlakes": true,
           "showland": true,
           "subunitcolor": "white"
          },
          "hoverlabel": {
           "align": "left"
          },
          "hovermode": "closest",
          "mapbox": {
           "style": "light"
          },
          "paper_bgcolor": "white",
          "plot_bgcolor": "#E5ECF6",
          "polar": {
           "angularaxis": {
            "gridcolor": "white",
            "linecolor": "white",
            "ticks": ""
           },
           "bgcolor": "#E5ECF6",
           "radialaxis": {
            "gridcolor": "white",
            "linecolor": "white",
            "ticks": ""
           }
          },
          "scene": {
           "xaxis": {
            "backgroundcolor": "#E5ECF6",
            "gridcolor": "white",
            "gridwidth": 2,
            "linecolor": "white",
            "showbackground": true,
            "ticks": "",
            "zerolinecolor": "white"
           },
           "yaxis": {
            "backgroundcolor": "#E5ECF6",
            "gridcolor": "white",
            "gridwidth": 2,
            "linecolor": "white",
            "showbackground": true,
            "ticks": "",
            "zerolinecolor": "white"
           },
           "zaxis": {
            "backgroundcolor": "#E5ECF6",
            "gridcolor": "white",
            "gridwidth": 2,
            "linecolor": "white",
            "showbackground": true,
            "ticks": "",
            "zerolinecolor": "white"
           }
          },
          "shapedefaults": {
           "line": {
            "color": "#2a3f5f"
           }
          },
          "ternary": {
           "aaxis": {
            "gridcolor": "white",
            "linecolor": "white",
            "ticks": ""
           },
           "baxis": {
            "gridcolor": "white",
            "linecolor": "white",
            "ticks": ""
           },
           "bgcolor": "#E5ECF6",
           "caxis": {
            "gridcolor": "white",
            "linecolor": "white",
            "ticks": ""
           }
          },
          "title": {
           "x": 0.05
          },
          "xaxis": {
           "automargin": true,
           "gridcolor": "white",
           "linecolor": "white",
           "ticks": "",
           "title": {
            "standoff": 15
           },
           "zerolinecolor": "white",
           "zerolinewidth": 2
          },
          "yaxis": {
           "automargin": true,
           "gridcolor": "white",
           "linecolor": "white",
           "ticks": "",
           "title": {
            "standoff": 15
           },
           "zerolinecolor": "white",
           "zerolinewidth": 2
          }
         }
        },
        "title": {
         "font": {
          "color": "#4D5663"
         },
         "text": "Population (1955-2023)"
        },
        "xaxis": {
         "gridcolor": "#E1E5ED",
         "showgrid": true,
         "tickfont": {
          "color": "#4D5663"
         },
         "title": {
          "font": {
           "color": "#4D5663"
          },
          "text": "Years"
         },
         "zerolinecolor": "#E1E5ED"
        },
        "yaxis": {
         "gridcolor": "#E1E5ED",
         "showgrid": true,
         "tickfont": {
          "color": "#4D5663"
         },
         "title": {
          "font": {
           "color": "#4D5663"
          },
          "text": "Population"
         },
         "zerolinecolor": "#E1E5ED"
        }
       }
      },
      "text/html": [
       "<div>                            <div id=\"29a6add6-766d-4d24-bdb1-02229d82c869\" class=\"plotly-graph-div\" style=\"height:525px; width:100%;\"></div>            <script type=\"text/javascript\">                require([\"plotly\"], function(Plotly) {                    window.PLOTLYENV=window.PLOTLYENV || {};\n",
       "                    window.PLOTLYENV.BASE_URL='https://plot.ly';                                    if (document.getElementById(\"29a6add6-766d-4d24-bdb1-02229d82c869\")) {                    Plotly.newPlot(                        \"29a6add6-766d-4d24-bdb1-02229d82c869\",                        [{\"marker\":{\"color\":\"rgba(255, 153, 51, 0.6)\",\"line\":{\"color\":\"rgba(255, 153, 51, 1.0)\",\"width\":1}},\"name\":\"Population\",\"orientation\":\"v\",\"text\":\"\",\"x\":[\"(1955,Afghanistan)\",\"(1955,Albania)\",\"(1955,Algeria)\",\"(1955,Angola)\",\"(1955,Antigua and Barbuda)\",\"(1955,Argentina)\",\"(1955,Armenia)\",\"(1955,Aruba)\",\"(1955,Australia)\",\"(1955,Austria)\",\"(1955,Azerbaijan)\",\"(1955,Bahamas)\",\"(1955,Bahrain)\",\"(1955,Bangladesh)\",\"(1955,Barbados)\",\"(1955,Belarus)\",\"(1955,Belgium)\",\"(1955,Belize)\",\"(1955,Benin)\",\"(1955,Bhutan)\",\"(1955,Bolivia)\",\"(1955,Bosnia and Herzegovina)\",\"(1955,Botswana)\",\"(1955,Brazil)\",\"(1955,Brunei )\",\"(1955,Bulgaria)\",\"(1955,Burkina Faso)\",\"(1955,Burundi)\",\"(1955,Cabo Verde)\",\"(1955,Cambodia)\",\"(1955,Cameroon)\",\"(1955,Canada)\",\"(1955,Central African Republic)\",\"(1955,Chad)\",\"(1955,Chile)\",\"(1955,China)\",\"(1955,Colombia)\",\"(1955,Comoros)\",\"(1955,Congo)\",\"(1955,Costa Rica)\",\"(1955,Croatia)\",\"(1955,Cuba)\",\"(1955,Cura\\u00e7ao)\",\"(1955,Cyprus)\",\"(1955,Czech Republic (Czechia))\",\"(1955,C\\u00f4te d'Ivoire)\",\"(1955,DR Congo)\",\"(1955,Denmark)\",\"(1955,Djibouti)\",\"(1955,Dominican Republic)\",\"(1955,Ecuador)\",\"(1955,Egypt)\",\"(1955,El Salvador)\",\"(1955,Equatorial Guinea)\",\"(1955,Eritrea)\",\"(1955,Estonia)\",\"(1955,Eswatini)\",\"(1955,Ethiopia)\",\"(1955,Fiji)\",\"(1955,Finland)\",\"(1955,France)\",\"(1955,French Guiana)\",\"(1955,French Polynesia)\",\"(1955,Gabon)\",\"(1955,Gambia)\",\"(1955,Georgia)\",\"(1955,Germany)\",\"(1955,Ghana)\",\"(1955,Greece)\",\"(1955,Grenada)\",\"(1955,Guadeloupe)\",\"(1955,Guam)\",\"(1955,Guatemala)\",\"(1955,Guinea)\",\"(1955,Guinea-Bissau)\",\"(1955,Guyana)\",\"(1955,Haiti)\",\"(1955,Honduras)\",\"(1955,Hong Kong)\",\"(1955,Hungary)\",\"(1955,Iceland)\",\"(1955,India)\",\"(1955,Indonesia)\",\"(1955,Iran)\",\"(1955,Iraq)\",\"(1955,Ireland)\",\"(1955,Israel)\",\"(1955,Italy)\",\"(1955,Jamaica)\",\"(1955,Japan)\",\"(1955,Jordan)\",\"(1955,Kazakhstan)\",\"(1955,Kenya)\",\"(1955,Kiribati)\",\"(1955,Kuwait)\",\"(1955,Kyrgyzstan)\",\"(1955,Laos)\",\"(1955,Latvia)\",\"(1955,Lebanon)\",\"(1955,Lesotho)\",\"(1955,Liberia)\",\"(1955,Libya)\",\"(1955,Lithuania)\",\"(1955,Luxembourg)\",\"(1955,Macao)\",\"(1955,Madagascar)\",\"(1955,Malawi)\",\"(1955,Malaysia)\",\"(1955,Maldives)\",\"(1955,Mali)\",\"(1955,Malta)\",\"(1955,Martinique)\",\"(1955,Mauritania)\",\"(1955,Mauritius)\",\"(1955,Mayotte)\",\"(1955,Mexico)\",\"(1955,Moldova)\",\"(1955,Mongolia)\",\"(1955,Montenegro)\",\"(1955,Morocco)\",\"(1955,Mozambique)\",\"(1955,Myanmar)\",\"(1955,Namibia)\",\"(1955,Nepal)\",\"(1955,Netherlands)\",\"(1955,New Caledonia)\",\"(1955,New Zealand)\",\"(1955,Nicaragua)\",\"(1955,Niger)\",\"(1955,Nigeria)\",\"(1955,North Korea)\",\"(1955,North Macedonia)\",\"(1955,Norway)\",\"(1955,Oman)\",\"(1955,Pakistan)\",\"(1955,Panama)\",\"(1955,Papua New Guinea)\",\"(1955,Paraguay)\",\"(1955,Peru)\",\"(1955,Philippines)\",\"(1955,Poland)\",\"(1955,Portugal)\",\"(1955,Puerto Rico)\",\"(1955,Qatar)\",\"(1955,Romania)\",\"(1955,Russia)\",\"(1955,Rwanda)\",\"(1955,R\\u00e9union)\",\"(1955,Saint Lucia)\",\"(1955,Samoa)\",\"(1955,Sao Tome & Principe)\",\"(1955,Saudi Arabia)\",\"(1955,Senegal)\",\"(1955,Serbia)\",\"(1955,Seychelles)\",\"(1955,Sierra Leone)\",\"(1955,Singapore)\",\"(1955,Slovakia)\",\"(1955,Slovenia)\",\"(1955,Solomon Islands)\",\"(1955,Somalia)\",\"(1955,South Africa)\",\"(1955,South Korea)\",\"(1955,South Sudan)\",\"(1955,Spain)\",\"(1955,Sri Lanka)\",\"(1955,St. Vincent & Grenadines)\",\"(1955,State of Palestine)\",\"(1955,Sudan)\",\"(1955,Suriname)\",\"(1955,Sweden)\",\"(1955,Switzerland)\",\"(1955,Syria)\",\"(1955,Taiwan)\",\"(1955,Tajikistan)\",\"(1955,Tanzania)\",\"(1955,Thailand)\",\"(1955,Timor-Leste)\",\"(1955,Togo)\",\"(1955,Tonga)\",\"(1955,Trinidad and Tobago)\",\"(1955,Tunisia)\",\"(1955,Turkey)\",\"(1955,Turkmenistan)\",\"(1955,U.S. Virgin Islands)\",\"(1955,Uganda)\",\"(1955,Ukraine)\",\"(1955,United Arab Emirates)\",\"(1955,United Kingdom)\",\"(1955,United States)\",\"(1955,Uruguay)\",\"(1955,Uzbekistan)\",\"(1955,Vanuatu)\",\"(1955,Venezuela)\",\"(1955,Vietnam)\",\"(1955,Western Sahara)\",\"(1955,Yemen)\",\"(1955,Zambia)\",\"(1955,Zimbabwe)\",\"(1960,Afghanistan)\",\"(1960,Albania)\",\"(1960,Algeria)\",\"(1960,Angola)\",\"(1960,Antigua and Barbuda)\",\"(1960,Argentina)\",\"(1960,Armenia)\",\"(1960,Aruba)\",\"(1960,Australia)\",\"(1960,Austria)\",\"(1960,Azerbaijan)\",\"(1960,Bahamas)\",\"(1960,Bahrain)\",\"(1960,Bangladesh)\",\"(1960,Barbados)\",\"(1960,Belarus)\",\"(1960,Belgium)\",\"(1960,Belize)\",\"(1960,Benin)\",\"(1960,Bhutan)\",\"(1960,Bolivia)\",\"(1960,Bosnia and Herzegovina)\",\"(1960,Botswana)\",\"(1960,Brazil)\",\"(1960,Brunei )\",\"(1960,Bulgaria)\",\"(1960,Burkina Faso)\",\"(1960,Burundi)\",\"(1960,Cabo Verde)\",\"(1960,Cambodia)\",\"(1960,Cameroon)\",\"(1960,Canada)\",\"(1960,Central African Republic)\",\"(1960,Chad)\",\"(1960,Chile)\",\"(1960,China)\",\"(1960,Colombia)\",\"(1960,Comoros)\",\"(1960,Congo)\",\"(1960,Costa Rica)\",\"(1960,Croatia)\",\"(1960,Cuba)\",\"(1960,Cura\\u00e7ao)\",\"(1960,Cyprus)\",\"(1960,Czech Republic (Czechia))\",\"(1960,C\\u00f4te d'Ivoire)\",\"(1960,DR Congo)\",\"(1960,Denmark)\",\"(1960,Djibouti)\",\"(1960,Dominican Republic)\",\"(1960,Ecuador)\",\"(1960,Egypt)\",\"(1960,El Salvador)\",\"(1960,Equatorial Guinea)\",\"(1960,Eritrea)\",\"(1960,Estonia)\",\"(1960,Eswatini)\",\"(1960,Ethiopia)\",\"(1960,Fiji)\",\"(1960,Finland)\",\"(1960,France)\",\"(1960,French Guiana)\",\"(1960,French Polynesia)\",\"(1960,Gabon)\",\"(1960,Gambia)\",\"(1960,Georgia)\",\"(1960,Germany)\",\"(1960,Ghana)\",\"(1960,Greece)\",\"(1960,Grenada)\",\"(1960,Guadeloupe)\",\"(1960,Guam)\",\"(1960,Guatemala)\",\"(1960,Guinea)\",\"(1960,Guinea-Bissau)\",\"(1960,Guyana)\",\"(1960,Haiti)\",\"(1960,Honduras)\",\"(1960,Hong Kong)\",\"(1960,Hungary)\",\"(1960,Iceland)\",\"(1960,India)\",\"(1960,Indonesia)\",\"(1960,Iran)\",\"(1960,Iraq)\",\"(1960,Ireland)\",\"(1960,Israel)\",\"(1960,Italy)\",\"(1960,Jamaica)\",\"(1960,Japan)\",\"(1960,Jordan)\",\"(1960,Kazakhstan)\",\"(1960,Kenya)\",\"(1960,Kiribati)\",\"(1960,Kuwait)\",\"(1960,Kyrgyzstan)\",\"(1960,Laos)\",\"(1960,Latvia)\",\"(1960,Lebanon)\",\"(1960,Lesotho)\",\"(1960,Liberia)\",\"(1960,Libya)\",\"(1960,Lithuania)\",\"(1960,Luxembourg)\",\"(1960,Macao)\",\"(1960,Madagascar)\",\"(1960,Malawi)\",\"(1960,Malaysia)\",\"(1960,Maldives)\",\"(1960,Mali)\",\"(1960,Malta)\",\"(1960,Martinique)\",\"(1960,Mauritania)\",\"(1960,Mauritius)\",\"(1960,Mayotte)\",\"(1960,Mexico)\",\"(1960,Moldova)\",\"(1960,Mongolia)\",\"(1960,Montenegro)\",\"(1960,Morocco)\",\"(1960,Mozambique)\",\"(1960,Myanmar)\",\"(1960,Namibia)\",\"(1960,Nepal)\",\"(1960,Netherlands)\",\"(1960,New Caledonia)\",\"(1960,New Zealand)\",\"(1960,Nicaragua)\",\"(1960,Niger)\",\"(1960,Nigeria)\",\"(1960,North Korea)\",\"(1960,North Macedonia)\",\"(1960,Norway)\",\"(1960,Oman)\",\"(1960,Pakistan)\",\"(1960,Panama)\",\"(1960,Papua New Guinea)\",\"(1960,Paraguay)\",\"(1960,Peru)\",\"(1960,Philippines)\",\"(1960,Poland)\",\"(1960,Portugal)\",\"(1960,Puerto Rico)\",\"(1960,Qatar)\",\"(1960,Romania)\",\"(1960,Russia)\",\"(1960,Rwanda)\",\"(1960,R\\u00e9union)\",\"(1960,Saint Lucia)\",\"(1960,Samoa)\",\"(1960,Sao Tome & Principe)\",\"(1960,Saudi Arabia)\",\"(1960,Senegal)\",\"(1960,Serbia)\",\"(1960,Seychelles)\",\"(1960,Sierra Leone)\",\"(1960,Singapore)\",\"(1960,Slovakia)\",\"(1960,Slovenia)\",\"(1960,Solomon Islands)\",\"(1960,Somalia)\",\"(1960,South Africa)\",\"(1960,South Korea)\",\"(1960,South Sudan)\",\"(1960,Spain)\",\"(1960,Sri Lanka)\",\"(1960,St. Vincent & Grenadines)\",\"(1960,State of Palestine)\",\"(1960,Sudan)\",\"(1960,Suriname)\",\"(1960,Sweden)\",\"(1960,Switzerland)\",\"(1960,Syria)\",\"(1960,Taiwan)\",\"(1960,Tajikistan)\",\"(1960,Tanzania)\",\"(1960,Thailand)\",\"(1960,Timor-Leste)\",\"(1960,Togo)\",\"(1960,Tonga)\",\"(1960,Trinidad and Tobago)\",\"(1960,Tunisia)\",\"(1960,Turkey)\",\"(1960,Turkmenistan)\",\"(1960,U.S. Virgin Islands)\",\"(1960,Uganda)\",\"(1960,Ukraine)\",\"(1960,United Arab Emirates)\",\"(1960,United Kingdom)\",\"(1960,United States)\",\"(1960,Uruguay)\",\"(1960,Uzbekistan)\",\"(1960,Vanuatu)\",\"(1960,Venezuela)\",\"(1960,Vietnam)\",\"(1960,Western Sahara)\",\"(1960,Yemen)\",\"(1960,Zambia)\",\"(1960,Zimbabwe)\",\"(1965,Afghanistan)\",\"(1965,Albania)\",\"(1965,Algeria)\",\"(1965,Angola)\",\"(1965,Antigua and Barbuda)\",\"(1965,Argentina)\",\"(1965,Armenia)\",\"(1965,Aruba)\",\"(1965,Australia)\",\"(1965,Austria)\",\"(1965,Azerbaijan)\",\"(1965,Bahamas)\",\"(1965,Bahrain)\",\"(1965,Bangladesh)\",\"(1965,Barbados)\",\"(1965,Belarus)\",\"(1965,Belgium)\",\"(1965,Belize)\",\"(1965,Benin)\",\"(1965,Bhutan)\",\"(1965,Bolivia)\",\"(1965,Bosnia and Herzegovina)\",\"(1965,Botswana)\",\"(1965,Brazil)\",\"(1965,Brunei )\",\"(1965,Bulgaria)\",\"(1965,Burkina Faso)\",\"(1965,Burundi)\",\"(1965,Cabo Verde)\",\"(1965,Cambodia)\",\"(1965,Cameroon)\",\"(1965,Canada)\",\"(1965,Central African Republic)\",\"(1965,Chad)\",\"(1965,Chile)\",\"(1965,China)\",\"(1965,Colombia)\",\"(1965,Comoros)\",\"(1965,Congo)\",\"(1965,Costa Rica)\",\"(1965,Croatia)\",\"(1965,Cuba)\",\"(1965,Cura\\u00e7ao)\",\"(1965,Cyprus)\",\"(1965,Czech Republic (Czechia))\",\"(1965,C\\u00f4te d'Ivoire)\",\"(1965,DR Congo)\",\"(1965,Denmark)\",\"(1965,Djibouti)\",\"(1965,Dominican Republic)\",\"(1965,Ecuador)\",\"(1965,Egypt)\",\"(1965,El Salvador)\",\"(1965,Equatorial Guinea)\",\"(1965,Eritrea)\",\"(1965,Estonia)\",\"(1965,Eswatini)\",\"(1965,Ethiopia)\",\"(1965,Fiji)\",\"(1965,Finland)\",\"(1965,France)\",\"(1965,French Guiana)\",\"(1965,French Polynesia)\",\"(1965,Gabon)\",\"(1965,Gambia)\",\"(1965,Georgia)\",\"(1965,Germany)\",\"(1965,Ghana)\",\"(1965,Greece)\",\"(1965,Grenada)\",\"(1965,Guadeloupe)\",\"(1965,Guam)\",\"(1965,Guatemala)\",\"(1965,Guinea)\",\"(1965,Guinea-Bissau)\",\"(1965,Guyana)\",\"(1965,Haiti)\",\"(1965,Honduras)\",\"(1965,Hong Kong)\",\"(1965,Hungary)\",\"(1965,Iceland)\",\"(1965,India)\",\"(1965,Indonesia)\",\"(1965,Iran)\",\"(1965,Iraq)\",\"(1965,Ireland)\",\"(1965,Israel)\",\"(1965,Italy)\",\"(1965,Jamaica)\",\"(1965,Japan)\",\"(1965,Jordan)\",\"(1965,Kazakhstan)\",\"(1965,Kenya)\",\"(1965,Kiribati)\",\"(1965,Kuwait)\",\"(1965,Kyrgyzstan)\",\"(1965,Laos)\",\"(1965,Latvia)\",\"(1965,Lebanon)\",\"(1965,Lesotho)\",\"(1965,Liberia)\",\"(1965,Libya)\",\"(1965,Lithuania)\",\"(1965,Luxembourg)\",\"(1965,Macao)\",\"(1965,Madagascar)\",\"(1965,Malawi)\",\"(1965,Malaysia)\",\"(1965,Maldives)\",\"(1965,Mali)\",\"(1965,Malta)\",\"(1965,Martinique)\",\"(1965,Mauritania)\",\"(1965,Mauritius)\",\"(1965,Mayotte)\",\"(1965,Mexico)\",\"(1965,Moldova)\",\"(1965,Mongolia)\",\"(1965,Montenegro)\",\"(1965,Morocco)\",\"(1965,Mozambique)\",\"(1965,Myanmar)\",\"(1965,Namibia)\",\"(1965,Nepal)\",\"(1965,Netherlands)\",\"(1965,New Caledonia)\",\"(1965,New Zealand)\",\"(1965,Nicaragua)\",\"(1965,Niger)\",\"(1965,Nigeria)\",\"(1965,North Korea)\",\"(1965,North Macedonia)\",\"(1965,Norway)\",\"(1965,Oman)\",\"(1965,Pakistan)\",\"(1965,Panama)\",\"(1965,Papua New Guinea)\",\"(1965,Paraguay)\",\"(1965,Peru)\",\"(1965,Philippines)\",\"(1965,Poland)\",\"(1965,Portugal)\",\"(1965,Puerto Rico)\",\"(1965,Qatar)\",\"(1965,Romania)\",\"(1965,Russia)\",\"(1965,Rwanda)\",\"(1965,R\\u00e9union)\",\"(1965,Saint Lucia)\",\"(1965,Samoa)\",\"(1965,Sao Tome & Principe)\",\"(1965,Saudi Arabia)\",\"(1965,Senegal)\",\"(1965,Serbia)\",\"(1965,Seychelles)\",\"(1965,Sierra Leone)\",\"(1965,Singapore)\",\"(1965,Slovakia)\",\"(1965,Slovenia)\",\"(1965,Solomon Islands)\",\"(1965,Somalia)\",\"(1965,South Africa)\",\"(1965,South Korea)\",\"(1965,South Sudan)\",\"(1965,Spain)\",\"(1965,Sri Lanka)\",\"(1965,St. Vincent & Grenadines)\",\"(1965,State of Palestine)\",\"(1965,Sudan)\",\"(1965,Suriname)\",\"(1965,Sweden)\",\"(1965,Switzerland)\",\"(1965,Syria)\",\"(1965,Taiwan)\",\"(1965,Tajikistan)\",\"(1965,Tanzania)\",\"(1965,Thailand)\",\"(1965,Timor-Leste)\",\"(1965,Togo)\",\"(1965,Tonga)\",\"(1965,Trinidad and Tobago)\",\"(1965,Tunisia)\",\"(1965,Turkey)\",\"(1965,Turkmenistan)\",\"(1965,U.S. Virgin Islands)\",\"(1965,Uganda)\",\"(1965,Ukraine)\",\"(1965,United Arab Emirates)\",\"(1965,United Kingdom)\",\"(1965,United States)\",\"(1965,Uruguay)\",\"(1965,Uzbekistan)\",\"(1965,Vanuatu)\",\"(1965,Venezuela)\",\"(1965,Vietnam)\",\"(1965,Western Sahara)\",\"(1965,Yemen)\",\"(1965,Zambia)\",\"(1965,Zimbabwe)\",\"(1970,Afghanistan)\",\"(1970,Albania)\",\"(1970,Algeria)\",\"(1970,Angola)\",\"(1970,Antigua and Barbuda)\",\"(1970,Argentina)\",\"(1970,Armenia)\",\"(1970,Aruba)\",\"(1970,Australia)\",\"(1970,Austria)\",\"(1970,Azerbaijan)\",\"(1970,Bahamas)\",\"(1970,Bahrain)\",\"(1970,Bangladesh)\",\"(1970,Barbados)\",\"(1970,Belarus)\",\"(1970,Belgium)\",\"(1970,Belize)\",\"(1970,Benin)\",\"(1970,Bhutan)\",\"(1970,Bolivia)\",\"(1970,Bosnia and Herzegovina)\",\"(1970,Botswana)\",\"(1970,Brazil)\",\"(1970,Brunei )\",\"(1970,Bulgaria)\",\"(1970,Burkina Faso)\",\"(1970,Burundi)\",\"(1970,Cabo Verde)\",\"(1970,Cambodia)\",\"(1970,Cameroon)\",\"(1970,Canada)\",\"(1970,Central African Republic)\",\"(1970,Chad)\",\"(1970,Chile)\",\"(1970,China)\",\"(1970,Colombia)\",\"(1970,Comoros)\",\"(1970,Congo)\",\"(1970,Costa Rica)\",\"(1970,Croatia)\",\"(1970,Cuba)\",\"(1970,Cura\\u00e7ao)\",\"(1970,Cyprus)\",\"(1970,Czech Republic (Czechia))\",\"(1970,C\\u00f4te d'Ivoire)\",\"(1970,DR Congo)\",\"(1970,Denmark)\",\"(1970,Djibouti)\",\"(1970,Dominican Republic)\",\"(1970,Ecuador)\",\"(1970,Egypt)\",\"(1970,El Salvador)\",\"(1970,Equatorial Guinea)\",\"(1970,Eritrea)\",\"(1970,Estonia)\",\"(1970,Eswatini)\",\"(1970,Ethiopia)\",\"(1970,Fiji)\",\"(1970,Finland)\",\"(1970,France)\",\"(1970,French Guiana)\",\"(1970,French Polynesia)\",\"(1970,Gabon)\",\"(1970,Gambia)\",\"(1970,Georgia)\",\"(1970,Germany)\",\"(1970,Ghana)\",\"(1970,Greece)\",\"(1970,Grenada)\",\"(1970,Guadeloupe)\",\"(1970,Guam)\",\"(1970,Guatemala)\",\"(1970,Guinea)\",\"(1970,Guinea-Bissau)\",\"(1970,Guyana)\",\"(1970,Haiti)\",\"(1970,Honduras)\",\"(1970,Hong Kong)\",\"(1970,Hungary)\",\"(1970,Iceland)\",\"(1970,India)\",\"(1970,Indonesia)\",\"(1970,Iran)\",\"(1970,Iraq)\",\"(1970,Ireland)\",\"(1970,Israel)\",\"(1970,Italy)\",\"(1970,Jamaica)\",\"(1970,Japan)\",\"(1970,Jordan)\",\"(1970,Kazakhstan)\",\"(1970,Kenya)\",\"(1970,Kiribati)\",\"(1970,Kuwait)\",\"(1970,Kyrgyzstan)\",\"(1970,Laos)\",\"(1970,Latvia)\",\"(1970,Lebanon)\",\"(1970,Lesotho)\",\"(1970,Liberia)\",\"(1970,Libya)\",\"(1970,Lithuania)\",\"(1970,Luxembourg)\",\"(1970,Macao)\",\"(1970,Madagascar)\",\"(1970,Malawi)\",\"(1970,Malaysia)\",\"(1970,Maldives)\",\"(1970,Mali)\",\"(1970,Malta)\",\"(1970,Martinique)\",\"(1970,Mauritania)\",\"(1970,Mauritius)\",\"(1970,Mayotte)\",\"(1970,Mexico)\",\"(1970,Moldova)\",\"(1970,Mongolia)\",\"(1970,Montenegro)\",\"(1970,Morocco)\",\"(1970,Mozambique)\",\"(1970,Myanmar)\",\"(1970,Namibia)\",\"(1970,Nepal)\",\"(1970,Netherlands)\",\"(1970,New Caledonia)\",\"(1970,New Zealand)\",\"(1970,Nicaragua)\",\"(1970,Niger)\",\"(1970,Nigeria)\",\"(1970,North Korea)\",\"(1970,North Macedonia)\",\"(1970,Norway)\",\"(1970,Oman)\",\"(1970,Pakistan)\",\"(1970,Panama)\",\"(1970,Papua New Guinea)\",\"(1970,Paraguay)\",\"(1970,Peru)\",\"(1970,Philippines)\",\"(1970,Poland)\",\"(1970,Portugal)\",\"(1970,Puerto Rico)\",\"(1970,Qatar)\",\"(1970,Romania)\",\"(1970,Russia)\",\"(1970,Rwanda)\",\"(1970,R\\u00e9union)\",\"(1970,Saint Lucia)\",\"(1970,Samoa)\",\"(1970,Sao Tome & Principe)\",\"(1970,Saudi Arabia)\",\"(1970,Senegal)\",\"(1970,Serbia)\",\"(1970,Seychelles)\",\"(1970,Sierra Leone)\",\"(1970,Singapore)\",\"(1970,Slovakia)\",\"(1970,Slovenia)\",\"(1970,Solomon Islands)\",\"(1970,Somalia)\",\"(1970,South Africa)\",\"(1970,South Korea)\",\"(1970,South Sudan)\",\"(1970,Spain)\",\"(1970,Sri Lanka)\",\"(1970,St. Vincent & Grenadines)\",\"(1970,State of Palestine)\",\"(1970,Sudan)\",\"(1970,Suriname)\",\"(1970,Sweden)\",\"(1970,Switzerland)\",\"(1970,Syria)\",\"(1970,Taiwan)\",\"(1970,Tajikistan)\",\"(1970,Tanzania)\",\"(1970,Thailand)\",\"(1970,Timor-Leste)\",\"(1970,Togo)\",\"(1970,Tonga)\",\"(1970,Trinidad and Tobago)\",\"(1970,Tunisia)\",\"(1970,Turkey)\",\"(1970,Turkmenistan)\",\"(1970,U.S. Virgin Islands)\",\"(1970,Uganda)\",\"(1970,Ukraine)\",\"(1970,United Arab Emirates)\",\"(1970,United Kingdom)\",\"(1970,United States)\",\"(1970,Uruguay)\",\"(1970,Uzbekistan)\",\"(1970,Vanuatu)\",\"(1970,Venezuela)\",\"(1970,Vietnam)\",\"(1970,Western Sahara)\",\"(1970,Yemen)\",\"(1970,Zambia)\",\"(1970,Zimbabwe)\",\"(1975,Afghanistan)\",\"(1975,Albania)\",\"(1975,Algeria)\",\"(1975,Angola)\",\"(1975,Antigua and Barbuda)\",\"(1975,Argentina)\",\"(1975,Armenia)\",\"(1975,Aruba)\",\"(1975,Australia)\",\"(1975,Austria)\",\"(1975,Azerbaijan)\",\"(1975,Bahamas)\",\"(1975,Bahrain)\",\"(1975,Bangladesh)\",\"(1975,Barbados)\",\"(1975,Belarus)\",\"(1975,Belgium)\",\"(1975,Belize)\",\"(1975,Benin)\",\"(1975,Bhutan)\",\"(1975,Bolivia)\",\"(1975,Bosnia and Herzegovina)\",\"(1975,Botswana)\",\"(1975,Brazil)\",\"(1975,Brunei )\",\"(1975,Bulgaria)\",\"(1975,Burkina Faso)\",\"(1975,Burundi)\",\"(1975,Cabo Verde)\",\"(1975,Cambodia)\",\"(1975,Cameroon)\",\"(1975,Canada)\",\"(1975,Central African Republic)\",\"(1975,Chad)\",\"(1975,Chile)\",\"(1975,China)\",\"(1975,Colombia)\",\"(1975,Comoros)\",\"(1975,Congo)\",\"(1975,Costa Rica)\",\"(1975,Croatia)\",\"(1975,Cuba)\",\"(1975,Cura\\u00e7ao)\",\"(1975,Cyprus)\",\"(1975,Czech Republic (Czechia))\",\"(1975,C\\u00f4te d'Ivoire)\",\"(1975,DR Congo)\",\"(1975,Denmark)\",\"(1975,Djibouti)\",\"(1975,Dominican Republic)\",\"(1975,Ecuador)\",\"(1975,Egypt)\",\"(1975,El Salvador)\",\"(1975,Equatorial Guinea)\",\"(1975,Eritrea)\",\"(1975,Estonia)\",\"(1975,Eswatini)\",\"(1975,Ethiopia)\",\"(1975,Fiji)\",\"(1975,Finland)\",\"(1975,France)\",\"(1975,French Guiana)\",\"(1975,French Polynesia)\",\"(1975,Gabon)\",\"(1975,Gambia)\",\"(1975,Georgia)\",\"(1975,Germany)\",\"(1975,Ghana)\",\"(1975,Greece)\",\"(1975,Grenada)\",\"(1975,Guadeloupe)\",\"(1975,Guam)\",\"(1975,Guatemala)\",\"(1975,Guinea)\",\"(1975,Guinea-Bissau)\",\"(1975,Guyana)\",\"(1975,Haiti)\",\"(1975,Honduras)\",\"(1975,Hong Kong)\",\"(1975,Hungary)\",\"(1975,Iceland)\",\"(1975,India)\",\"(1975,Indonesia)\",\"(1975,Iran)\",\"(1975,Iraq)\",\"(1975,Ireland)\",\"(1975,Israel)\",\"(1975,Italy)\",\"(1975,Jamaica)\",\"(1975,Japan)\",\"(1975,Jordan)\",\"(1975,Kazakhstan)\",\"(1975,Kenya)\",\"(1975,Kiribati)\",\"(1975,Kuwait)\",\"(1975,Kyrgyzstan)\",\"(1975,Laos)\",\"(1975,Latvia)\",\"(1975,Lebanon)\",\"(1975,Lesotho)\",\"(1975,Liberia)\",\"(1975,Libya)\",\"(1975,Lithuania)\",\"(1975,Luxembourg)\",\"(1975,Macao)\",\"(1975,Madagascar)\",\"(1975,Malawi)\",\"(1975,Malaysia)\",\"(1975,Maldives)\",\"(1975,Mali)\",\"(1975,Malta)\",\"(1975,Martinique)\",\"(1975,Mauritania)\",\"(1975,Mauritius)\",\"(1975,Mayotte)\",\"(1975,Mexico)\",\"(1975,Moldova)\",\"(1975,Mongolia)\",\"(1975,Montenegro)\",\"(1975,Morocco)\",\"(1975,Mozambique)\",\"(1975,Myanmar)\",\"(1975,Namibia)\",\"(1975,Nepal)\",\"(1975,Netherlands)\",\"(1975,New Caledonia)\",\"(1975,New Zealand)\",\"(1975,Nicaragua)\",\"(1975,Niger)\",\"(1975,Nigeria)\",\"(1975,North Korea)\",\"(1975,North Macedonia)\",\"(1975,Norway)\",\"(1975,Oman)\",\"(1975,Pakistan)\",\"(1975,Panama)\",\"(1975,Papua New Guinea)\",\"(1975,Paraguay)\",\"(1975,Peru)\",\"(1975,Philippines)\",\"(1975,Poland)\",\"(1975,Portugal)\",\"(1975,Puerto Rico)\",\"(1975,Qatar)\",\"(1975,Romania)\",\"(1975,Russia)\",\"(1975,Rwanda)\",\"(1975,R\\u00e9union)\",\"(1975,Saint Lucia)\",\"(1975,Samoa)\",\"(1975,Sao Tome & Principe)\",\"(1975,Saudi Arabia)\",\"(1975,Senegal)\",\"(1975,Serbia)\",\"(1975,Seychelles)\",\"(1975,Sierra Leone)\",\"(1975,Singapore)\",\"(1975,Slovakia)\",\"(1975,Slovenia)\",\"(1975,Solomon Islands)\",\"(1975,Somalia)\",\"(1975,South Africa)\",\"(1975,South Korea)\",\"(1975,South Sudan)\",\"(1975,Spain)\",\"(1975,Sri Lanka)\",\"(1975,St. Vincent & Grenadines)\",\"(1975,State of Palestine)\",\"(1975,Sudan)\",\"(1975,Suriname)\",\"(1975,Sweden)\",\"(1975,Switzerland)\",\"(1975,Syria)\",\"(1975,Taiwan)\",\"(1975,Tajikistan)\",\"(1975,Tanzania)\",\"(1975,Thailand)\",\"(1975,Timor-Leste)\",\"(1975,Togo)\",\"(1975,Tonga)\",\"(1975,Trinidad and Tobago)\",\"(1975,Tunisia)\",\"(1975,Turkey)\",\"(1975,Turkmenistan)\",\"(1975,U.S. Virgin Islands)\",\"(1975,Uganda)\",\"(1975,Ukraine)\",\"(1975,United Arab Emirates)\",\"(1975,United Kingdom)\",\"(1975,United States)\",\"(1975,Uruguay)\",\"(1975,Uzbekistan)\",\"(1975,Vanuatu)\",\"(1975,Venezuela)\",\"(1975,Vietnam)\",\"(1975,Western Sahara)\",\"(1975,Yemen)\",\"(1975,Zambia)\",\"(1975,Zimbabwe)\",\"(1980,Afghanistan)\",\"(1980,Albania)\",\"(1980,Algeria)\",\"(1980,Angola)\",\"(1980,Antigua and Barbuda)\",\"(1980,Argentina)\",\"(1980,Armenia)\",\"(1980,Aruba)\",\"(1980,Australia)\",\"(1980,Austria)\",\"(1980,Azerbaijan)\",\"(1980,Bahamas)\",\"(1980,Bahrain)\",\"(1980,Bangladesh)\",\"(1980,Barbados)\",\"(1980,Belarus)\",\"(1980,Belgium)\",\"(1980,Belize)\",\"(1980,Benin)\",\"(1980,Bhutan)\",\"(1980,Bolivia)\",\"(1980,Bosnia and Herzegovina)\",\"(1980,Botswana)\",\"(1980,Brazil)\",\"(1980,Brunei )\",\"(1980,Bulgaria)\",\"(1980,Burkina Faso)\",\"(1980,Burundi)\",\"(1980,Cabo Verde)\",\"(1980,Cambodia)\",\"(1980,Cameroon)\",\"(1980,Canada)\",\"(1980,Central African Republic)\",\"(1980,Chad)\",\"(1980,Chile)\",\"(1980,China)\",\"(1980,Colombia)\",\"(1980,Comoros)\",\"(1980,Congo)\",\"(1980,Costa Rica)\",\"(1980,Croatia)\",\"(1980,Cuba)\",\"(1980,Cura\\u00e7ao)\",\"(1980,Cyprus)\",\"(1980,Czech Republic (Czechia))\",\"(1980,C\\u00f4te d'Ivoire)\",\"(1980,DR Congo)\",\"(1980,Denmark)\",\"(1980,Djibouti)\",\"(1980,Dominican Republic)\",\"(1980,Ecuador)\",\"(1980,Egypt)\",\"(1980,El Salvador)\",\"(1980,Equatorial Guinea)\",\"(1980,Eritrea)\",\"(1980,Estonia)\",\"(1980,Eswatini)\",\"(1980,Ethiopia)\",\"(1980,Fiji)\",\"(1980,Finland)\",\"(1980,France)\",\"(1980,French Guiana)\",\"(1980,French Polynesia)\",\"(1980,Gabon)\",\"(1980,Gambia)\",\"(1980,Georgia)\",\"(1980,Germany)\",\"(1980,Ghana)\",\"(1980,Greece)\",\"(1980,Grenada)\",\"(1980,Guadeloupe)\",\"(1980,Guam)\",\"(1980,Guatemala)\",\"(1980,Guinea)\",\"(1980,Guinea-Bissau)\",\"(1980,Guyana)\",\"(1980,Haiti)\",\"(1980,Honduras)\",\"(1980,Hong Kong)\",\"(1980,Hungary)\",\"(1980,Iceland)\",\"(1980,India)\",\"(1980,Indonesia)\",\"(1980,Iran)\",\"(1980,Iraq)\",\"(1980,Ireland)\",\"(1980,Israel)\",\"(1980,Italy)\",\"(1980,Jamaica)\",\"(1980,Japan)\",\"(1980,Jordan)\",\"(1980,Kazakhstan)\",\"(1980,Kenya)\",\"(1980,Kiribati)\",\"(1980,Kuwait)\",\"(1980,Kyrgyzstan)\",\"(1980,Laos)\",\"(1980,Latvia)\",\"(1980,Lebanon)\",\"(1980,Lesotho)\",\"(1980,Liberia)\",\"(1980,Libya)\",\"(1980,Lithuania)\",\"(1980,Luxembourg)\",\"(1980,Macao)\",\"(1980,Madagascar)\",\"(1980,Malawi)\",\"(1980,Malaysia)\",\"(1980,Maldives)\",\"(1980,Mali)\",\"(1980,Malta)\",\"(1980,Martinique)\",\"(1980,Mauritania)\",\"(1980,Mauritius)\",\"(1980,Mayotte)\",\"(1980,Mexico)\",\"(1980,Moldova)\",\"(1980,Mongolia)\",\"(1980,Montenegro)\",\"(1980,Morocco)\",\"(1980,Mozambique)\",\"(1980,Myanmar)\",\"(1980,Namibia)\",\"(1980,Nepal)\",\"(1980,Netherlands)\",\"(1980,New Caledonia)\",\"(1980,New Zealand)\",\"(1980,Nicaragua)\",\"(1980,Niger)\",\"(1980,Nigeria)\",\"(1980,North Korea)\",\"(1980,North Macedonia)\",\"(1980,Norway)\",\"(1980,Oman)\",\"(1980,Pakistan)\",\"(1980,Panama)\",\"(1980,Papua New Guinea)\",\"(1980,Paraguay)\",\"(1980,Peru)\",\"(1980,Philippines)\",\"(1980,Poland)\",\"(1980,Portugal)\",\"(1980,Puerto Rico)\",\"(1980,Qatar)\",\"(1980,Romania)\",\"(1980,Russia)\",\"(1980,Rwanda)\",\"(1980,R\\u00e9union)\",\"(1980,Saint Lucia)\",\"(1980,Samoa)\",\"(1980,Sao Tome & Principe)\",\"(1980,Saudi Arabia)\",\"(1980,Senegal)\",\"(1980,Serbia)\",\"(1980,Seychelles)\",\"(1980,Sierra Leone)\",\"(1980,Singapore)\",\"(1980,Slovakia)\",\"(1980,Slovenia)\",\"(1980,Solomon Islands)\",\"(1980,Somalia)\",\"(1980,South Africa)\",\"(1980,South Korea)\",\"(1980,South Sudan)\",\"(1980,Spain)\",\"(1980,Sri Lanka)\",\"(1980,St. Vincent & Grenadines)\",\"(1980,State of Palestine)\",\"(1980,Sudan)\",\"(1980,Suriname)\",\"(1980,Sweden)\",\"(1980,Switzerland)\",\"(1980,Syria)\",\"(1980,Taiwan)\",\"(1980,Tajikistan)\",\"(1980,Tanzania)\",\"(1980,Thailand)\",\"(1980,Timor-Leste)\",\"(1980,Togo)\",\"(1980,Tonga)\",\"(1980,Trinidad and Tobago)\",\"(1980,Tunisia)\",\"(1980,Turkey)\",\"(1980,Turkmenistan)\",\"(1980,U.S. Virgin Islands)\",\"(1980,Uganda)\",\"(1980,Ukraine)\",\"(1980,United Arab Emirates)\",\"(1980,United Kingdom)\",\"(1980,United States)\",\"(1980,Uruguay)\",\"(1980,Uzbekistan)\",\"(1980,Vanuatu)\",\"(1980,Venezuela)\",\"(1980,Vietnam)\",\"(1980,Western Sahara)\",\"(1980,Yemen)\",\"(1980,Zambia)\",\"(1980,Zimbabwe)\",\"(1985,Afghanistan)\",\"(1985,Albania)\",\"(1985,Algeria)\",\"(1985,Angola)\",\"(1985,Antigua and Barbuda)\",\"(1985,Argentina)\",\"(1985,Armenia)\",\"(1985,Aruba)\",\"(1985,Australia)\",\"(1985,Austria)\",\"(1985,Azerbaijan)\",\"(1985,Bahamas)\",\"(1985,Bahrain)\",\"(1985,Bangladesh)\",\"(1985,Barbados)\",\"(1985,Belarus)\",\"(1985,Belgium)\",\"(1985,Belize)\",\"(1985,Benin)\",\"(1985,Bhutan)\",\"(1985,Bolivia)\",\"(1985,Bosnia and Herzegovina)\",\"(1985,Botswana)\",\"(1985,Brazil)\",\"(1985,Brunei )\",\"(1985,Bulgaria)\",\"(1985,Burkina Faso)\",\"(1985,Burundi)\",\"(1985,Cabo Verde)\",\"(1985,Cambodia)\",\"(1985,Cameroon)\",\"(1985,Canada)\",\"(1985,Central African Republic)\",\"(1985,Chad)\",\"(1985,Chile)\",\"(1985,China)\",\"(1985,Colombia)\",\"(1985,Comoros)\",\"(1985,Congo)\",\"(1985,Costa Rica)\",\"(1985,Croatia)\",\"(1985,Cuba)\",\"(1985,Cura\\u00e7ao)\",\"(1985,Cyprus)\",\"(1985,Czech Republic (Czechia))\",\"(1985,C\\u00f4te d'Ivoire)\",\"(1985,DR Congo)\",\"(1985,Denmark)\",\"(1985,Djibouti)\",\"(1985,Dominican Republic)\",\"(1985,Ecuador)\",\"(1985,Egypt)\",\"(1985,El Salvador)\",\"(1985,Equatorial Guinea)\",\"(1985,Eritrea)\",\"(1985,Estonia)\",\"(1985,Eswatini)\",\"(1985,Ethiopia)\",\"(1985,Fiji)\",\"(1985,Finland)\",\"(1985,France)\",\"(1985,French Guiana)\",\"(1985,French Polynesia)\",\"(1985,Gabon)\",\"(1985,Gambia)\",\"(1985,Georgia)\",\"(1985,Germany)\",\"(1985,Ghana)\",\"(1985,Greece)\",\"(1985,Grenada)\",\"(1985,Guadeloupe)\",\"(1985,Guam)\",\"(1985,Guatemala)\",\"(1985,Guinea)\",\"(1985,Guinea-Bissau)\",\"(1985,Guyana)\",\"(1985,Haiti)\",\"(1985,Honduras)\",\"(1985,Hong Kong)\",\"(1985,Hungary)\",\"(1985,Iceland)\",\"(1985,India)\",\"(1985,Indonesia)\",\"(1985,Iran)\",\"(1985,Iraq)\",\"(1985,Ireland)\",\"(1985,Israel)\",\"(1985,Italy)\",\"(1985,Jamaica)\",\"(1985,Japan)\",\"(1985,Jordan)\",\"(1985,Kazakhstan)\",\"(1985,Kenya)\",\"(1985,Kiribati)\",\"(1985,Kuwait)\",\"(1985,Kyrgyzstan)\",\"(1985,Laos)\",\"(1985,Latvia)\",\"(1985,Lebanon)\",\"(1985,Lesotho)\",\"(1985,Liberia)\",\"(1985,Libya)\",\"(1985,Lithuania)\",\"(1985,Luxembourg)\",\"(1985,Macao)\",\"(1985,Madagascar)\",\"(1985,Malawi)\",\"(1985,Malaysia)\",\"(1985,Maldives)\",\"(1985,Mali)\",\"(1985,Malta)\",\"(1985,Martinique)\",\"(1985,Mauritania)\",\"(1985,Mauritius)\",\"(1985,Mayotte)\",\"(1985,Mexico)\",\"(1985,Moldova)\",\"(1985,Mongolia)\",\"(1985,Montenegro)\",\"(1985,Morocco)\",\"(1985,Mozambique)\",\"(1985,Myanmar)\",\"(1985,Namibia)\",\"(1985,Nepal)\",\"(1985,Netherlands)\",\"(1985,New Caledonia)\",\"(1985,New Zealand)\",\"(1985,Nicaragua)\",\"(1985,Niger)\",\"(1985,Nigeria)\",\"(1985,North Korea)\",\"(1985,North Macedonia)\",\"(1985,Norway)\",\"(1985,Oman)\",\"(1985,Pakistan)\",\"(1985,Panama)\",\"(1985,Papua New Guinea)\",\"(1985,Paraguay)\",\"(1985,Peru)\",\"(1985,Philippines)\",\"(1985,Poland)\",\"(1985,Portugal)\",\"(1985,Puerto Rico)\",\"(1985,Qatar)\",\"(1985,Romania)\",\"(1985,Russia)\",\"(1985,Rwanda)\",\"(1985,R\\u00e9union)\",\"(1985,Saint Lucia)\",\"(1985,Samoa)\",\"(1985,Sao Tome & Principe)\",\"(1985,Saudi Arabia)\",\"(1985,Senegal)\",\"(1985,Serbia)\",\"(1985,Seychelles)\",\"(1985,Sierra Leone)\",\"(1985,Singapore)\",\"(1985,Slovakia)\",\"(1985,Slovenia)\",\"(1985,Solomon Islands)\",\"(1985,Somalia)\",\"(1985,South Africa)\",\"(1985,South Korea)\",\"(1985,South Sudan)\",\"(1985,Spain)\",\"(1985,Sri Lanka)\",\"(1985,St. Vincent & Grenadines)\",\"(1985,State of Palestine)\",\"(1985,Sudan)\",\"(1985,Suriname)\",\"(1985,Sweden)\",\"(1985,Switzerland)\",\"(1985,Syria)\",\"(1985,Taiwan)\",\"(1985,Tajikistan)\",\"(1985,Tanzania)\",\"(1985,Thailand)\",\"(1985,Timor-Leste)\",\"(1985,Togo)\",\"(1985,Tonga)\",\"(1985,Trinidad and Tobago)\",\"(1985,Tunisia)\",\"(1985,Turkey)\",\"(1985,Turkmenistan)\",\"(1985,U.S. Virgin Islands)\",\"(1985,Uganda)\",\"(1985,Ukraine)\",\"(1985,United Arab Emirates)\",\"(1985,United Kingdom)\",\"(1985,United States)\",\"(1985,Uruguay)\",\"(1985,Uzbekistan)\",\"(1985,Vanuatu)\",\"(1985,Venezuela)\",\"(1985,Vietnam)\",\"(1985,Western Sahara)\",\"(1985,Yemen)\",\"(1985,Zambia)\",\"(1985,Zimbabwe)\",\"(1990,Afghanistan)\",\"(1990,Albania)\",\"(1990,Algeria)\",\"(1990,Angola)\",\"(1990,Antigua and Barbuda)\",\"(1990,Argentina)\",\"(1990,Armenia)\",\"(1990,Aruba)\",\"(1990,Australia)\",\"(1990,Austria)\",\"(1990,Azerbaijan)\",\"(1990,Bahamas)\",\"(1990,Bahrain)\",\"(1990,Bangladesh)\",\"(1990,Barbados)\",\"(1990,Belarus)\",\"(1990,Belgium)\",\"(1990,Belize)\",\"(1990,Benin)\",\"(1990,Bhutan)\",\"(1990,Bolivia)\",\"(1990,Bosnia and Herzegovina)\",\"(1990,Botswana)\",\"(1990,Brazil)\",\"(1990,Brunei )\",\"(1990,Bulgaria)\",\"(1990,Burkina Faso)\",\"(1990,Burundi)\",\"(1990,Cabo Verde)\",\"(1990,Cambodia)\",\"(1990,Cameroon)\",\"(1990,Canada)\",\"(1990,Central African Republic)\",\"(1990,Chad)\",\"(1990,Chile)\",\"(1990,China)\",\"(1990,Colombia)\",\"(1990,Comoros)\",\"(1990,Congo)\",\"(1990,Costa Rica)\",\"(1990,Croatia)\",\"(1990,Cuba)\",\"(1990,Cura\\u00e7ao)\",\"(1990,Cyprus)\",\"(1990,Czech Republic (Czechia))\",\"(1990,C\\u00f4te d'Ivoire)\",\"(1990,DR Congo)\",\"(1990,Denmark)\",\"(1990,Djibouti)\",\"(1990,Dominican Republic)\",\"(1990,Ecuador)\",\"(1990,Egypt)\",\"(1990,El Salvador)\",\"(1990,Equatorial Guinea)\",\"(1990,Eritrea)\",\"(1990,Estonia)\",\"(1990,Eswatini)\",\"(1990,Ethiopia)\",\"(1990,Fiji)\",\"(1990,Finland)\",\"(1990,France)\",\"(1990,French Guiana)\",\"(1990,French Polynesia)\",\"(1990,Gabon)\",\"(1990,Gambia)\",\"(1990,Georgia)\",\"(1990,Germany)\",\"(1990,Ghana)\",\"(1990,Greece)\",\"(1990,Grenada)\",\"(1990,Guadeloupe)\",\"(1990,Guam)\",\"(1990,Guatemala)\",\"(1990,Guinea)\",\"(1990,Guinea-Bissau)\",\"(1990,Guyana)\",\"(1990,Haiti)\",\"(1990,Honduras)\",\"(1990,Hong Kong)\",\"(1990,Hungary)\",\"(1990,Iceland)\",\"(1990,India)\",\"(1990,Indonesia)\",\"(1990,Iran)\",\"(1990,Iraq)\",\"(1990,Ireland)\",\"(1990,Israel)\",\"(1990,Italy)\",\"(1990,Jamaica)\",\"(1990,Japan)\",\"(1990,Jordan)\",\"(1990,Kazakhstan)\",\"(1990,Kenya)\",\"(1990,Kiribati)\",\"(1990,Kuwait)\",\"(1990,Kyrgyzstan)\",\"(1990,Laos)\",\"(1990,Latvia)\",\"(1990,Lebanon)\",\"(1990,Lesotho)\",\"(1990,Liberia)\",\"(1990,Libya)\",\"(1990,Lithuania)\",\"(1990,Luxembourg)\",\"(1990,Macao)\",\"(1990,Madagascar)\",\"(1990,Malawi)\",\"(1990,Malaysia)\",\"(1990,Maldives)\",\"(1990,Mali)\",\"(1990,Malta)\",\"(1990,Martinique)\",\"(1990,Mauritania)\",\"(1990,Mauritius)\",\"(1990,Mayotte)\",\"(1990,Mexico)\",\"(1990,Moldova)\",\"(1990,Mongolia)\",\"(1990,Montenegro)\",\"(1990,Morocco)\",\"(1990,Mozambique)\",\"(1990,Myanmar)\",\"(1990,Namibia)\",\"(1990,Nepal)\",\"(1990,Netherlands)\",\"(1990,New Caledonia)\",\"(1990,New Zealand)\",\"(1990,Nicaragua)\",\"(1990,Niger)\",\"(1990,Nigeria)\",\"(1990,North Korea)\",\"(1990,North Macedonia)\",\"(1990,Norway)\",\"(1990,Oman)\",\"(1990,Pakistan)\",\"(1990,Panama)\",\"(1990,Papua New Guinea)\",\"(1990,Paraguay)\",\"(1990,Peru)\",\"(1990,Philippines)\",\"(1990,Poland)\",\"(1990,Portugal)\",\"(1990,Puerto Rico)\",\"(1990,Qatar)\",\"(1990,Romania)\",\"(1990,Russia)\",\"(1990,Rwanda)\",\"(1990,R\\u00e9union)\",\"(1990,Saint Lucia)\",\"(1990,Samoa)\",\"(1990,Sao Tome & Principe)\",\"(1990,Saudi Arabia)\",\"(1990,Senegal)\",\"(1990,Serbia)\",\"(1990,Seychelles)\",\"(1990,Sierra Leone)\",\"(1990,Singapore)\",\"(1990,Slovakia)\",\"(1990,Slovenia)\",\"(1990,Solomon Islands)\",\"(1990,Somalia)\",\"(1990,South Africa)\",\"(1990,South Korea)\",\"(1990,South Sudan)\",\"(1990,Spain)\",\"(1990,Sri Lanka)\",\"(1990,St. Vincent & Grenadines)\",\"(1990,State of Palestine)\",\"(1990,Sudan)\",\"(1990,Suriname)\",\"(1990,Sweden)\",\"(1990,Switzerland)\",\"(1990,Syria)\",\"(1990,Taiwan)\",\"(1990,Tajikistan)\",\"(1990,Tanzania)\",\"(1990,Thailand)\",\"(1990,Timor-Leste)\",\"(1990,Togo)\",\"(1990,Tonga)\",\"(1990,Trinidad and Tobago)\",\"(1990,Tunisia)\",\"(1990,Turkey)\",\"(1990,Turkmenistan)\",\"(1990,U.S. Virgin Islands)\",\"(1990,Uganda)\",\"(1990,Ukraine)\",\"(1990,United Arab Emirates)\",\"(1990,United Kingdom)\",\"(1990,United States)\",\"(1990,Uruguay)\",\"(1990,Uzbekistan)\",\"(1990,Vanuatu)\",\"(1990,Venezuela)\",\"(1990,Vietnam)\",\"(1990,Western Sahara)\",\"(1990,Yemen)\",\"(1990,Zambia)\",\"(1990,Zimbabwe)\",\"(1995,Afghanistan)\",\"(1995,Albania)\",\"(1995,Algeria)\",\"(1995,Angola)\",\"(1995,Antigua and Barbuda)\",\"(1995,Argentina)\",\"(1995,Armenia)\",\"(1995,Aruba)\",\"(1995,Australia)\",\"(1995,Austria)\",\"(1995,Azerbaijan)\",\"(1995,Bahamas)\",\"(1995,Bahrain)\",\"(1995,Bangladesh)\",\"(1995,Barbados)\",\"(1995,Belarus)\",\"(1995,Belgium)\",\"(1995,Belize)\",\"(1995,Benin)\",\"(1995,Bhutan)\",\"(1995,Bolivia)\",\"(1995,Bosnia and Herzegovina)\",\"(1995,Botswana)\",\"(1995,Brazil)\",\"(1995,Brunei )\",\"(1995,Bulgaria)\",\"(1995,Burkina Faso)\",\"(1995,Burundi)\",\"(1995,Cabo Verde)\",\"(1995,Cambodia)\",\"(1995,Cameroon)\",\"(1995,Canada)\",\"(1995,Central African Republic)\",\"(1995,Chad)\",\"(1995,Chile)\",\"(1995,China)\",\"(1995,Colombia)\",\"(1995,Comoros)\",\"(1995,Congo)\",\"(1995,Costa Rica)\",\"(1995,Croatia)\",\"(1995,Cuba)\",\"(1995,Cura\\u00e7ao)\",\"(1995,Cyprus)\",\"(1995,Czech Republic (Czechia))\",\"(1995,C\\u00f4te d'Ivoire)\",\"(1995,DR Congo)\",\"(1995,Denmark)\",\"(1995,Djibouti)\",\"(1995,Dominican Republic)\",\"(1995,Ecuador)\",\"(1995,Egypt)\",\"(1995,El Salvador)\",\"(1995,Equatorial Guinea)\",\"(1995,Eritrea)\",\"(1995,Estonia)\",\"(1995,Eswatini)\",\"(1995,Ethiopia)\",\"(1995,Fiji)\",\"(1995,Finland)\",\"(1995,France)\",\"(1995,French Guiana)\",\"(1995,French Polynesia)\",\"(1995,Gabon)\",\"(1995,Gambia)\",\"(1995,Georgia)\",\"(1995,Germany)\",\"(1995,Ghana)\",\"(1995,Greece)\",\"(1995,Grenada)\",\"(1995,Guadeloupe)\",\"(1995,Guam)\",\"(1995,Guatemala)\",\"(1995,Guinea)\",\"(1995,Guinea-Bissau)\",\"(1995,Guyana)\",\"(1995,Haiti)\",\"(1995,Honduras)\",\"(1995,Hong Kong)\",\"(1995,Hungary)\",\"(1995,Iceland)\",\"(1995,India)\",\"(1995,Indonesia)\",\"(1995,Iran)\",\"(1995,Iraq)\",\"(1995,Ireland)\",\"(1995,Israel)\",\"(1995,Italy)\",\"(1995,Jamaica)\",\"(1995,Japan)\",\"(1995,Jordan)\",\"(1995,Kazakhstan)\",\"(1995,Kenya)\",\"(1995,Kiribati)\",\"(1995,Kuwait)\",\"(1995,Kyrgyzstan)\",\"(1995,Laos)\",\"(1995,Latvia)\",\"(1995,Lebanon)\",\"(1995,Lesotho)\",\"(1995,Liberia)\",\"(1995,Libya)\",\"(1995,Lithuania)\",\"(1995,Luxembourg)\",\"(1995,Macao)\",\"(1995,Madagascar)\",\"(1995,Malawi)\",\"(1995,Malaysia)\",\"(1995,Maldives)\",\"(1995,Mali)\",\"(1995,Malta)\",\"(1995,Martinique)\",\"(1995,Mauritania)\",\"(1995,Mauritius)\",\"(1995,Mayotte)\",\"(1995,Mexico)\",\"(1995,Moldova)\",\"(1995,Mongolia)\",\"(1995,Montenegro)\",\"(1995,Morocco)\",\"(1995,Mozambique)\",\"(1995,Myanmar)\",\"(1995,Namibia)\",\"(1995,Nepal)\",\"(1995,Netherlands)\",\"(1995,New Caledonia)\",\"(1995,New Zealand)\",\"(1995,Nicaragua)\",\"(1995,Niger)\",\"(1995,Nigeria)\",\"(1995,North Korea)\",\"(1995,North Macedonia)\",\"(1995,Norway)\",\"(1995,Oman)\",\"(1995,Pakistan)\",\"(1995,Panama)\",\"(1995,Papua New Guinea)\",\"(1995,Paraguay)\",\"(1995,Peru)\",\"(1995,Philippines)\",\"(1995,Poland)\",\"(1995,Portugal)\",\"(1995,Puerto Rico)\",\"(1995,Qatar)\",\"(1995,Romania)\",\"(1995,Russia)\",\"(1995,Rwanda)\",\"(1995,R\\u00e9union)\",\"(1995,Saint Lucia)\",\"(1995,Samoa)\",\"(1995,Sao Tome & Principe)\",\"(1995,Saudi Arabia)\",\"(1995,Senegal)\",\"(1995,Serbia)\",\"(1995,Seychelles)\",\"(1995,Sierra Leone)\",\"(1995,Singapore)\",\"(1995,Slovakia)\",\"(1995,Slovenia)\",\"(1995,Solomon Islands)\",\"(1995,Somalia)\",\"(1995,South Africa)\",\"(1995,South Korea)\",\"(1995,South Sudan)\",\"(1995,Spain)\",\"(1995,Sri Lanka)\",\"(1995,St. Vincent & Grenadines)\",\"(1995,State of Palestine)\",\"(1995,Sudan)\",\"(1995,Suriname)\",\"(1995,Sweden)\",\"(1995,Switzerland)\",\"(1995,Syria)\",\"(1995,Taiwan)\",\"(1995,Tajikistan)\",\"(1995,Tanzania)\",\"(1995,Thailand)\",\"(1995,Timor-Leste)\",\"(1995,Togo)\",\"(1995,Tonga)\",\"(1995,Trinidad and Tobago)\",\"(1995,Tunisia)\",\"(1995,Turkey)\",\"(1995,Turkmenistan)\",\"(1995,U.S. Virgin Islands)\",\"(1995,Uganda)\",\"(1995,Ukraine)\",\"(1995,United Arab Emirates)\",\"(1995,United Kingdom)\",\"(1995,United States)\",\"(1995,Uruguay)\",\"(1995,Uzbekistan)\",\"(1995,Vanuatu)\",\"(1995,Venezuela)\",\"(1995,Vietnam)\",\"(1995,Western Sahara)\",\"(1995,Yemen)\",\"(1995,Zambia)\",\"(1995,Zimbabwe)\",\"(2000,Afghanistan)\",\"(2000,Albania)\",\"(2000,Algeria)\",\"(2000,Angola)\",\"(2000,Antigua and Barbuda)\",\"(2000,Argentina)\",\"(2000,Armenia)\",\"(2000,Aruba)\",\"(2000,Australia)\",\"(2000,Austria)\",\"(2000,Azerbaijan)\",\"(2000,Bahamas)\",\"(2000,Bahrain)\",\"(2000,Bangladesh)\",\"(2000,Barbados)\",\"(2000,Belarus)\",\"(2000,Belgium)\",\"(2000,Belize)\",\"(2000,Benin)\",\"(2000,Bhutan)\",\"(2000,Bolivia)\",\"(2000,Bosnia and Herzegovina)\",\"(2000,Botswana)\",\"(2000,Brazil)\",\"(2000,Brunei )\",\"(2000,Bulgaria)\",\"(2000,Burkina Faso)\",\"(2000,Burundi)\",\"(2000,Cabo Verde)\",\"(2000,Cambodia)\",\"(2000,Cameroon)\",\"(2000,Canada)\",\"(2000,Central African Republic)\",\"(2000,Chad)\",\"(2000,Chile)\",\"(2000,China)\",\"(2000,Colombia)\",\"(2000,Comoros)\",\"(2000,Congo)\",\"(2000,Costa Rica)\",\"(2000,Croatia)\",\"(2000,Cuba)\",\"(2000,Cura\\u00e7ao)\",\"(2000,Cyprus)\",\"(2000,Czech Republic (Czechia))\",\"(2000,C\\u00f4te d'Ivoire)\",\"(2000,DR Congo)\",\"(2000,Denmark)\",\"(2000,Djibouti)\",\"(2000,Dominican Republic)\",\"(2000,Ecuador)\",\"(2000,Egypt)\",\"(2000,El Salvador)\",\"(2000,Equatorial Guinea)\",\"(2000,Eritrea)\",\"(2000,Estonia)\",\"(2000,Eswatini)\",\"(2000,Ethiopia)\",\"(2000,Fiji)\",\"(2000,Finland)\",\"(2000,France)\",\"(2000,French Guiana)\",\"(2000,French Polynesia)\",\"(2000,Gabon)\",\"(2000,Gambia)\",\"(2000,Georgia)\",\"(2000,Germany)\",\"(2000,Ghana)\",\"(2000,Greece)\",\"(2000,Grenada)\",\"(2000,Guadeloupe)\",\"(2000,Guam)\",\"(2000,Guatemala)\",\"(2000,Guinea)\",\"(2000,Guinea-Bissau)\",\"(2000,Guyana)\",\"(2000,Haiti)\",\"(2000,Honduras)\",\"(2000,Hong Kong)\",\"(2000,Hungary)\",\"(2000,Iceland)\",\"(2000,India)\",\"(2000,Indonesia)\",\"(2000,Iran)\",\"(2000,Iraq)\",\"(2000,Ireland)\",\"(2000,Israel)\",\"(2000,Italy)\",\"(2000,Jamaica)\",\"(2000,Japan)\",\"(2000,Jordan)\",\"(2000,Kazakhstan)\",\"(2000,Kenya)\",\"(2000,Kiribati)\",\"(2000,Kuwait)\",\"(2000,Kyrgyzstan)\",\"(2000,Laos)\",\"(2000,Latvia)\",\"(2000,Lebanon)\",\"(2000,Lesotho)\",\"(2000,Liberia)\",\"(2000,Libya)\",\"(2000,Lithuania)\",\"(2000,Luxembourg)\",\"(2000,Macao)\",\"(2000,Madagascar)\",\"(2000,Malawi)\",\"(2000,Malaysia)\",\"(2000,Maldives)\",\"(2000,Mali)\",\"(2000,Malta)\",\"(2000,Martinique)\",\"(2000,Mauritania)\",\"(2000,Mauritius)\",\"(2000,Mayotte)\",\"(2000,Mexico)\",\"(2000,Moldova)\",\"(2000,Mongolia)\",\"(2000,Montenegro)\",\"(2000,Morocco)\",\"(2000,Mozambique)\",\"(2000,Myanmar)\",\"(2000,Namibia)\",\"(2000,Nepal)\",\"(2000,Netherlands)\",\"(2000,New Caledonia)\",\"(2000,New Zealand)\",\"(2000,Nicaragua)\",\"(2000,Niger)\",\"(2000,Nigeria)\",\"(2000,North Korea)\",\"(2000,North Macedonia)\",\"(2000,Norway)\",\"(2000,Oman)\",\"(2000,Pakistan)\",\"(2000,Panama)\",\"(2000,Papua New Guinea)\",\"(2000,Paraguay)\",\"(2000,Peru)\",\"(2000,Philippines)\",\"(2000,Poland)\",\"(2000,Portugal)\",\"(2000,Puerto Rico)\",\"(2000,Qatar)\",\"(2000,Romania)\",\"(2000,Russia)\",\"(2000,Rwanda)\",\"(2000,R\\u00e9union)\",\"(2000,Saint Lucia)\",\"(2000,Samoa)\",\"(2000,Sao Tome & Principe)\",\"(2000,Saudi Arabia)\",\"(2000,Senegal)\",\"(2000,Serbia)\",\"(2000,Seychelles)\",\"(2000,Sierra Leone)\",\"(2000,Singapore)\",\"(2000,Slovakia)\",\"(2000,Slovenia)\",\"(2000,Solomon Islands)\",\"(2000,Somalia)\",\"(2000,South Africa)\",\"(2000,South Korea)\",\"(2000,South Sudan)\",\"(2000,Spain)\",\"(2000,Sri Lanka)\",\"(2000,St. Vincent & Grenadines)\",\"(2000,State of Palestine)\",\"(2000,Sudan)\",\"(2000,Suriname)\",\"(2000,Sweden)\",\"(2000,Switzerland)\",\"(2000,Syria)\",\"(2000,Taiwan)\",\"(2000,Tajikistan)\",\"(2000,Tanzania)\",\"(2000,Thailand)\",\"(2000,Timor-Leste)\",\"(2000,Togo)\",\"(2000,Tonga)\",\"(2000,Trinidad and Tobago)\",\"(2000,Tunisia)\",\"(2000,Turkey)\",\"(2000,Turkmenistan)\",\"(2000,U.S. Virgin Islands)\",\"(2000,Uganda)\",\"(2000,Ukraine)\",\"(2000,United Arab Emirates)\",\"(2000,United Kingdom)\",\"(2000,United States)\",\"(2000,Uruguay)\",\"(2000,Uzbekistan)\",\"(2000,Vanuatu)\",\"(2000,Venezuela)\",\"(2000,Vietnam)\",\"(2000,Western Sahara)\",\"(2000,Yemen)\",\"(2000,Zambia)\",\"(2000,Zimbabwe)\",\"(2005,Afghanistan)\",\"(2005,Albania)\",\"(2005,Algeria)\",\"(2005,Angola)\",\"(2005,Antigua and Barbuda)\",\"(2005,Argentina)\",\"(2005,Armenia)\",\"(2005,Aruba)\",\"(2005,Australia)\",\"(2005,Austria)\",\"(2005,Azerbaijan)\",\"(2005,Bahamas)\",\"(2005,Bahrain)\",\"(2005,Bangladesh)\",\"(2005,Barbados)\",\"(2005,Belarus)\",\"(2005,Belgium)\",\"(2005,Belize)\",\"(2005,Benin)\",\"(2005,Bhutan)\",\"(2005,Bolivia)\",\"(2005,Bosnia and Herzegovina)\",\"(2005,Botswana)\",\"(2005,Brazil)\",\"(2005,Brunei )\",\"(2005,Bulgaria)\",\"(2005,Burkina Faso)\",\"(2005,Burundi)\",\"(2005,Cabo Verde)\",\"(2005,Cambodia)\",\"(2005,Cameroon)\",\"(2005,Canada)\",\"(2005,Central African Republic)\",\"(2005,Chad)\",\"(2005,Chile)\",\"(2005,China)\",\"(2005,Colombia)\",\"(2005,Comoros)\",\"(2005,Congo)\",\"(2005,Costa Rica)\",\"(2005,Croatia)\",\"(2005,Cuba)\",\"(2005,Cura\\u00e7ao)\",\"(2005,Cyprus)\",\"(2005,Czech Republic (Czechia))\",\"(2005,C\\u00f4te d'Ivoire)\",\"(2005,DR Congo)\",\"(2005,Denmark)\",\"(2005,Djibouti)\",\"(2005,Dominican Republic)\",\"(2005,Ecuador)\",\"(2005,Egypt)\",\"(2005,El Salvador)\",\"(2005,Equatorial Guinea)\",\"(2005,Eritrea)\",\"(2005,Estonia)\",\"(2005,Eswatini)\",\"(2005,Ethiopia)\",\"(2005,Fiji)\",\"(2005,Finland)\",\"(2005,France)\",\"(2005,French Guiana)\",\"(2005,French Polynesia)\",\"(2005,Gabon)\",\"(2005,Gambia)\",\"(2005,Georgia)\",\"(2005,Germany)\",\"(2005,Ghana)\",\"(2005,Greece)\",\"(2005,Grenada)\",\"(2005,Guadeloupe)\",\"(2005,Guam)\",\"(2005,Guatemala)\",\"(2005,Guinea)\",\"(2005,Guinea-Bissau)\",\"(2005,Guyana)\",\"(2005,Haiti)\",\"(2005,Honduras)\",\"(2005,Hong Kong)\",\"(2005,Hungary)\",\"(2005,Iceland)\",\"(2005,India)\",\"(2005,Indonesia)\",\"(2005,Iran)\",\"(2005,Iraq)\",\"(2005,Ireland)\",\"(2005,Israel)\",\"(2005,Italy)\",\"(2005,Jamaica)\",\"(2005,Japan)\",\"(2005,Jordan)\",\"(2005,Kazakhstan)\",\"(2005,Kenya)\",\"(2005,Kiribati)\",\"(2005,Kuwait)\",\"(2005,Kyrgyzstan)\",\"(2005,Laos)\",\"(2005,Latvia)\",\"(2005,Lebanon)\",\"(2005,Lesotho)\",\"(2005,Liberia)\",\"(2005,Libya)\",\"(2005,Lithuania)\",\"(2005,Luxembourg)\",\"(2005,Macao)\",\"(2005,Madagascar)\",\"(2005,Malawi)\",\"(2005,Malaysia)\",\"(2005,Maldives)\",\"(2005,Mali)\",\"(2005,Malta)\",\"(2005,Martinique)\",\"(2005,Mauritania)\",\"(2005,Mauritius)\",\"(2005,Mayotte)\",\"(2005,Mexico)\",\"(2005,Moldova)\",\"(2005,Mongolia)\",\"(2005,Montenegro)\",\"(2005,Morocco)\",\"(2005,Mozambique)\",\"(2005,Myanmar)\",\"(2005,Namibia)\",\"(2005,Nepal)\",\"(2005,Netherlands)\",\"(2005,New Caledonia)\",\"(2005,New Zealand)\",\"(2005,Nicaragua)\",\"(2005,Niger)\",\"(2005,Nigeria)\",\"(2005,North Korea)\",\"(2005,North Macedonia)\",\"(2005,Norway)\",\"(2005,Oman)\",\"(2005,Pakistan)\",\"(2005,Panama)\",\"(2005,Papua New Guinea)\",\"(2005,Paraguay)\",\"(2005,Peru)\",\"(2005,Philippines)\",\"(2005,Poland)\",\"(2005,Portugal)\",\"(2005,Puerto Rico)\",\"(2005,Qatar)\",\"(2005,Romania)\",\"(2005,Russia)\",\"(2005,Rwanda)\",\"(2005,R\\u00e9union)\",\"(2005,Saint Lucia)\",\"(2005,Samoa)\",\"(2005,Sao Tome & Principe)\",\"(2005,Saudi Arabia)\",\"(2005,Senegal)\",\"(2005,Serbia)\",\"(2005,Seychelles)\",\"(2005,Sierra Leone)\",\"(2005,Singapore)\",\"(2005,Slovakia)\",\"(2005,Slovenia)\",\"(2005,Solomon Islands)\",\"(2005,Somalia)\",\"(2005,South Africa)\",\"(2005,South Korea)\",\"(2005,South Sudan)\",\"(2005,Spain)\",\"(2005,Sri Lanka)\",\"(2005,St. Vincent & Grenadines)\",\"(2005,State of Palestine)\",\"(2005,Sudan)\",\"(2005,Suriname)\",\"(2005,Sweden)\",\"(2005,Switzerland)\",\"(2005,Syria)\",\"(2005,Taiwan)\",\"(2005,Tajikistan)\",\"(2005,Tanzania)\",\"(2005,Thailand)\",\"(2005,Timor-Leste)\",\"(2005,Togo)\",\"(2005,Tonga)\",\"(2005,Trinidad and Tobago)\",\"(2005,Tunisia)\",\"(2005,Turkey)\",\"(2005,Turkmenistan)\",\"(2005,U.S. Virgin Islands)\",\"(2005,Uganda)\",\"(2005,Ukraine)\",\"(2005,United Arab Emirates)\",\"(2005,United Kingdom)\",\"(2005,United States)\",\"(2005,Uruguay)\",\"(2005,Uzbekistan)\",\"(2005,Vanuatu)\",\"(2005,Venezuela)\",\"(2005,Vietnam)\",\"(2005,Western Sahara)\",\"(2005,Yemen)\",\"(2005,Zambia)\",\"(2005,Zimbabwe)\",\"(2010,Afghanistan)\",\"(2010,Albania)\",\"(2010,Algeria)\",\"(2010,Angola)\",\"(2010,Antigua and Barbuda)\",\"(2010,Argentina)\",\"(2010,Armenia)\",\"(2010,Aruba)\",\"(2010,Australia)\",\"(2010,Austria)\",\"(2010,Azerbaijan)\",\"(2010,Bahamas)\",\"(2010,Bahrain)\",\"(2010,Bangladesh)\",\"(2010,Barbados)\",\"(2010,Belarus)\",\"(2010,Belgium)\",\"(2010,Belize)\",\"(2010,Benin)\",\"(2010,Bhutan)\",\"(2010,Bolivia)\",\"(2010,Bosnia and Herzegovina)\",\"(2010,Botswana)\",\"(2010,Brazil)\",\"(2010,Brunei )\",\"(2010,Bulgaria)\",\"(2010,Burkina Faso)\",\"(2010,Burundi)\",\"(2010,Cabo Verde)\",\"(2010,Cambodia)\",\"(2010,Cameroon)\",\"(2010,Canada)\",\"(2010,Central African Republic)\",\"(2010,Chad)\",\"(2010,Chile)\",\"(2010,China)\",\"(2010,Colombia)\",\"(2010,Comoros)\",\"(2010,Congo)\",\"(2010,Costa Rica)\",\"(2010,Croatia)\",\"(2010,Cuba)\",\"(2010,Cura\\u00e7ao)\",\"(2010,Cyprus)\",\"(2010,Czech Republic (Czechia))\",\"(2010,C\\u00f4te d'Ivoire)\",\"(2010,DR Congo)\",\"(2010,Denmark)\",\"(2010,Djibouti)\",\"(2010,Dominican Republic)\",\"(2010,Ecuador)\",\"(2010,Egypt)\",\"(2010,El Salvador)\",\"(2010,Equatorial Guinea)\",\"(2010,Eritrea)\",\"(2010,Estonia)\",\"(2010,Eswatini)\",\"(2010,Ethiopia)\",\"(2010,Fiji)\",\"(2010,Finland)\",\"(2010,France)\",\"(2010,French Guiana)\",\"(2010,French Polynesia)\",\"(2010,Gabon)\",\"(2010,Gambia)\",\"(2010,Georgia)\",\"(2010,Germany)\",\"(2010,Ghana)\",\"(2010,Greece)\",\"(2010,Grenada)\",\"(2010,Guadeloupe)\",\"(2010,Guam)\",\"(2010,Guatemala)\",\"(2010,Guinea)\",\"(2010,Guinea-Bissau)\",\"(2010,Guyana)\",\"(2010,Haiti)\",\"(2010,Honduras)\",\"(2010,Hong Kong)\",\"(2010,Hungary)\",\"(2010,Iceland)\",\"(2010,India)\",\"(2010,Indonesia)\",\"(2010,Iran)\",\"(2010,Iraq)\",\"(2010,Ireland)\",\"(2010,Israel)\",\"(2010,Italy)\",\"(2010,Jamaica)\",\"(2010,Japan)\",\"(2010,Jordan)\",\"(2010,Kazakhstan)\",\"(2010,Kenya)\",\"(2010,Kiribati)\",\"(2010,Kuwait)\",\"(2010,Kyrgyzstan)\",\"(2010,Laos)\",\"(2010,Latvia)\",\"(2010,Lebanon)\",\"(2010,Lesotho)\",\"(2010,Liberia)\",\"(2010,Libya)\",\"(2010,Lithuania)\",\"(2010,Luxembourg)\",\"(2010,Macao)\",\"(2010,Madagascar)\",\"(2010,Malawi)\",\"(2010,Malaysia)\",\"(2010,Maldives)\",\"(2010,Mali)\",\"(2010,Malta)\",\"(2010,Martinique)\",\"(2010,Mauritania)\",\"(2010,Mauritius)\",\"(2010,Mayotte)\",\"(2010,Mexico)\",\"(2010,Moldova)\",\"(2010,Mongolia)\",\"(2010,Montenegro)\",\"(2010,Morocco)\",\"(2010,Mozambique)\",\"(2010,Myanmar)\",\"(2010,Namibia)\",\"(2010,Nepal)\",\"(2010,Netherlands)\",\"(2010,New Caledonia)\",\"(2010,New Zealand)\",\"(2010,Nicaragua)\",\"(2010,Niger)\",\"(2010,Nigeria)\",\"(2010,North Korea)\",\"(2010,North Macedonia)\",\"(2010,Norway)\",\"(2010,Oman)\",\"(2010,Pakistan)\",\"(2010,Panama)\",\"(2010,Papua New Guinea)\",\"(2010,Paraguay)\",\"(2010,Peru)\",\"(2010,Philippines)\",\"(2010,Poland)\",\"(2010,Portugal)\",\"(2010,Puerto Rico)\",\"(2010,Qatar)\",\"(2010,Romania)\",\"(2010,Russia)\",\"(2010,Rwanda)\",\"(2010,R\\u00e9union)\",\"(2010,Saint Lucia)\",\"(2010,Samoa)\",\"(2010,Sao Tome & Principe)\",\"(2010,Saudi Arabia)\",\"(2010,Senegal)\",\"(2010,Serbia)\",\"(2010,Seychelles)\",\"(2010,Sierra Leone)\",\"(2010,Singapore)\",\"(2010,Slovakia)\",\"(2010,Slovenia)\",\"(2010,Solomon Islands)\",\"(2010,Somalia)\",\"(2010,South Africa)\",\"(2010,South Korea)\",\"(2010,South Sudan)\",\"(2010,Spain)\",\"(2010,Sri Lanka)\",\"(2010,St. Vincent & Grenadines)\",\"(2010,State of Palestine)\",\"(2010,Sudan)\",\"(2010,Suriname)\",\"(2010,Sweden)\",\"(2010,Switzerland)\",\"(2010,Syria)\",\"(2010,Taiwan)\",\"(2010,Tajikistan)\",\"(2010,Tanzania)\",\"(2010,Thailand)\",\"(2010,Timor-Leste)\",\"(2010,Togo)\",\"(2010,Tonga)\",\"(2010,Trinidad and Tobago)\",\"(2010,Tunisia)\",\"(2010,Turkey)\",\"(2010,Turkmenistan)\",\"(2010,U.S. Virgin Islands)\",\"(2010,Uganda)\",\"(2010,Ukraine)\",\"(2010,United Arab Emirates)\",\"(2010,United Kingdom)\",\"(2010,United States)\",\"(2010,Uruguay)\",\"(2010,Uzbekistan)\",\"(2010,Vanuatu)\",\"(2010,Venezuela)\",\"(2010,Vietnam)\",\"(2010,Western Sahara)\",\"(2010,Yemen)\",\"(2010,Zambia)\",\"(2010,Zimbabwe)\",\"(2015,Afghanistan)\",\"(2015,Albania)\",\"(2015,Algeria)\",\"(2015,Angola)\",\"(2015,Antigua and Barbuda)\",\"(2015,Argentina)\",\"(2015,Armenia)\",\"(2015,Aruba)\",\"(2015,Australia)\",\"(2015,Austria)\",\"(2015,Azerbaijan)\",\"(2015,Bahamas)\",\"(2015,Bahrain)\",\"(2015,Bangladesh)\",\"(2015,Barbados)\",\"(2015,Belarus)\",\"(2015,Belgium)\",\"(2015,Belize)\",\"(2015,Benin)\",\"(2015,Bhutan)\",\"(2015,Bolivia)\",\"(2015,Bosnia and Herzegovina)\",\"(2015,Botswana)\",\"(2015,Brazil)\",\"(2015,Brunei )\",\"(2015,Bulgaria)\",\"(2015,Burkina Faso)\",\"(2015,Burundi)\",\"(2015,Cabo Verde)\",\"(2015,Cambodia)\",\"(2015,Cameroon)\",\"(2015,Canada)\",\"(2015,Central African Republic)\",\"(2015,Chad)\",\"(2015,Chile)\",\"(2015,China)\",\"(2015,Colombia)\",\"(2015,Comoros)\",\"(2015,Congo)\",\"(2015,Costa Rica)\",\"(2015,Croatia)\",\"(2015,Cuba)\",\"(2015,Cura\\u00e7ao)\",\"(2015,Cyprus)\",\"(2015,Czech Republic (Czechia))\",\"(2015,C\\u00f4te d'Ivoire)\",\"(2015,DR Congo)\",\"(2015,Denmark)\",\"(2015,Djibouti)\",\"(2015,Dominican Republic)\",\"(2015,Ecuador)\",\"(2015,Egypt)\",\"(2015,El Salvador)\",\"(2015,Equatorial Guinea)\",\"(2015,Eritrea)\",\"(2015,Estonia)\",\"(2015,Eswatini)\",\"(2015,Ethiopia)\",\"(2015,Fiji)\",\"(2015,Finland)\",\"(2015,France)\",\"(2015,French Guiana)\",\"(2015,French Polynesia)\",\"(2015,Gabon)\",\"(2015,Gambia)\",\"(2015,Georgia)\",\"(2015,Germany)\",\"(2015,Ghana)\",\"(2015,Greece)\",\"(2015,Grenada)\",\"(2015,Guadeloupe)\",\"(2015,Guam)\",\"(2015,Guatemala)\",\"(2015,Guinea)\",\"(2015,Guinea-Bissau)\",\"(2015,Guyana)\",\"(2015,Haiti)\",\"(2015,Honduras)\",\"(2015,Hong Kong)\",\"(2015,Hungary)\",\"(2015,Iceland)\",\"(2015,India)\",\"(2015,Indonesia)\",\"(2015,Iran)\",\"(2015,Iraq)\",\"(2015,Ireland)\",\"(2015,Israel)\",\"(2015,Italy)\",\"(2015,Jamaica)\",\"(2015,Japan)\",\"(2015,Jordan)\",\"(2015,Kazakhstan)\",\"(2015,Kenya)\",\"(2015,Kiribati)\",\"(2015,Kuwait)\",\"(2015,Kyrgyzstan)\",\"(2015,Laos)\",\"(2015,Latvia)\",\"(2015,Lebanon)\",\"(2015,Lesotho)\",\"(2015,Liberia)\",\"(2015,Libya)\",\"(2015,Lithuania)\",\"(2015,Luxembourg)\",\"(2015,Macao)\",\"(2015,Madagascar)\",\"(2015,Malawi)\",\"(2015,Malaysia)\",\"(2015,Maldives)\",\"(2015,Mali)\",\"(2015,Malta)\",\"(2015,Martinique)\",\"(2015,Mauritania)\",\"(2015,Mauritius)\",\"(2015,Mayotte)\",\"(2015,Mexico)\",\"(2015,Moldova)\",\"(2015,Mongolia)\",\"(2015,Montenegro)\",\"(2015,Morocco)\",\"(2015,Mozambique)\",\"(2015,Myanmar)\",\"(2015,Namibia)\",\"(2015,Nepal)\",\"(2015,Netherlands)\",\"(2015,New Caledonia)\",\"(2015,New Zealand)\",\"(2015,Nicaragua)\",\"(2015,Niger)\",\"(2015,Nigeria)\",\"(2015,North Korea)\",\"(2015,North Macedonia)\",\"(2015,Norway)\",\"(2015,Oman)\",\"(2015,Pakistan)\",\"(2015,Panama)\",\"(2015,Papua New Guinea)\",\"(2015,Paraguay)\",\"(2015,Peru)\",\"(2015,Philippines)\",\"(2015,Poland)\",\"(2015,Portugal)\",\"(2015,Puerto Rico)\",\"(2015,Qatar)\",\"(2015,Romania)\",\"(2015,Russia)\",\"(2015,Rwanda)\",\"(2015,R\\u00e9union)\",\"(2015,Saint Lucia)\",\"(2015,Samoa)\",\"(2015,Sao Tome & Principe)\",\"(2015,Saudi Arabia)\",\"(2015,Senegal)\",\"(2015,Serbia)\",\"(2015,Seychelles)\",\"(2015,Sierra Leone)\",\"(2015,Singapore)\",\"(2015,Slovakia)\",\"(2015,Slovenia)\",\"(2015,Solomon Islands)\",\"(2015,Somalia)\",\"(2015,South Africa)\",\"(2015,South Korea)\",\"(2015,South Sudan)\",\"(2015,Spain)\",\"(2015,Sri Lanka)\",\"(2015,St. Vincent & Grenadines)\",\"(2015,State of Palestine)\",\"(2015,Sudan)\",\"(2015,Suriname)\",\"(2015,Sweden)\",\"(2015,Switzerland)\",\"(2015,Syria)\",\"(2015,Taiwan)\",\"(2015,Tajikistan)\",\"(2015,Tanzania)\",\"(2015,Thailand)\",\"(2015,Timor-Leste)\",\"(2015,Togo)\",\"(2015,Tonga)\",\"(2015,Trinidad and Tobago)\",\"(2015,Tunisia)\",\"(2015,Turkey)\",\"(2015,Turkmenistan)\",\"(2015,U.S. Virgin Islands)\",\"(2015,Uganda)\",\"(2015,Ukraine)\",\"(2015,United Arab Emirates)\",\"(2015,United Kingdom)\",\"(2015,United States)\",\"(2015,Uruguay)\",\"(2015,Uzbekistan)\",\"(2015,Vanuatu)\",\"(2015,Venezuela)\",\"(2015,Vietnam)\",\"(2015,Western Sahara)\",\"(2015,Yemen)\",\"(2015,Zambia)\",\"(2015,Zimbabwe)\",\"(2020,Afghanistan)\",\"(2020,Albania)\",\"(2020,Algeria)\",\"(2020,Angola)\",\"(2020,Antigua and Barbuda)\",\"(2020,Argentina)\",\"(2020,Armenia)\",\"(2020,Aruba)\",\"(2020,Australia)\",\"(2020,Austria)\",\"(2020,Azerbaijan)\",\"(2020,Bahamas)\",\"(2020,Bahrain)\",\"(2020,Bangladesh)\",\"(2020,Barbados)\",\"(2020,Belarus)\",\"(2020,Belgium)\",\"(2020,Belize)\",\"(2020,Benin)\",\"(2020,Bhutan)\",\"(2020,Bolivia)\",\"(2020,Bosnia and Herzegovina)\",\"(2020,Botswana)\",\"(2020,Brazil)\",\"(2020,Brunei )\",\"(2020,Bulgaria)\",\"(2020,Burkina Faso)\",\"(2020,Burundi)\",\"(2020,Cabo Verde)\",\"(2020,Cambodia)\",\"(2020,Cameroon)\",\"(2020,Canada)\",\"(2020,Central African Republic)\",\"(2020,Chad)\",\"(2020,Chile)\",\"(2020,China)\",\"(2020,Colombia)\",\"(2020,Comoros)\",\"(2020,Congo)\",\"(2020,Costa Rica)\",\"(2020,Croatia)\",\"(2020,Cuba)\",\"(2020,Cura\\u00e7ao)\",\"(2020,Cyprus)\",\"(2020,Czech Republic (Czechia))\",\"(2020,C\\u00f4te d'Ivoire)\",\"(2020,DR Congo)\",\"(2020,Denmark)\",\"(2020,Djibouti)\",\"(2020,Dominican Republic)\",\"(2020,Ecuador)\",\"(2020,Egypt)\",\"(2020,El Salvador)\",\"(2020,Equatorial Guinea)\",\"(2020,Eritrea)\",\"(2020,Estonia)\",\"(2020,Eswatini)\",\"(2020,Ethiopia)\",\"(2020,Fiji)\",\"(2020,Finland)\",\"(2020,France)\",\"(2020,French Guiana)\",\"(2020,French Polynesia)\",\"(2020,Gabon)\",\"(2020,Gambia)\",\"(2020,Georgia)\",\"(2020,Germany)\",\"(2020,Ghana)\",\"(2020,Greece)\",\"(2020,Grenada)\",\"(2020,Guadeloupe)\",\"(2020,Guam)\",\"(2020,Guatemala)\",\"(2020,Guinea)\",\"(2020,Guinea-Bissau)\",\"(2020,Guyana)\",\"(2020,Haiti)\",\"(2020,Honduras)\",\"(2020,Hong Kong)\",\"(2020,Hungary)\",\"(2020,Iceland)\",\"(2020,India)\",\"(2020,Indonesia)\",\"(2020,Iran)\",\"(2020,Iraq)\",\"(2020,Ireland)\",\"(2020,Israel)\",\"(2020,Italy)\",\"(2020,Jamaica)\",\"(2020,Japan)\",\"(2020,Jordan)\",\"(2020,Kazakhstan)\",\"(2020,Kenya)\",\"(2020,Kiribati)\",\"(2020,Kuwait)\",\"(2020,Kyrgyzstan)\",\"(2020,Laos)\",\"(2020,Latvia)\",\"(2020,Lebanon)\",\"(2020,Lesotho)\",\"(2020,Liberia)\",\"(2020,Libya)\",\"(2020,Lithuania)\",\"(2020,Luxembourg)\",\"(2020,Macao)\",\"(2020,Madagascar)\",\"(2020,Malawi)\",\"(2020,Malaysia)\",\"(2020,Maldives)\",\"(2020,Mali)\",\"(2020,Malta)\",\"(2020,Martinique)\",\"(2020,Mauritania)\",\"(2020,Mauritius)\",\"(2020,Mayotte)\",\"(2020,Mexico)\",\"(2020,Moldova)\",\"(2020,Mongolia)\",\"(2020,Montenegro)\",\"(2020,Morocco)\",\"(2020,Mozambique)\",\"(2020,Myanmar)\",\"(2020,Namibia)\",\"(2020,Nepal)\",\"(2020,Netherlands)\",\"(2020,New Caledonia)\",\"(2020,New Zealand)\",\"(2020,Nicaragua)\",\"(2020,Niger)\",\"(2020,Nigeria)\",\"(2020,North Korea)\",\"(2020,North Macedonia)\",\"(2020,Norway)\",\"(2020,Oman)\",\"(2020,Pakistan)\",\"(2020,Panama)\",\"(2020,Papua New Guinea)\",\"(2020,Paraguay)\",\"(2020,Peru)\",\"(2020,Philippines)\",\"(2020,Poland)\",\"(2020,Portugal)\",\"(2020,Puerto Rico)\",\"(2020,Qatar)\",\"(2020,Romania)\",\"(2020,Russia)\",\"(2020,Rwanda)\",\"(2020,R\\u00e9union)\",\"(2020,Saint Lucia)\",\"(2020,Samoa)\",\"(2020,Sao Tome & Principe)\",\"(2020,Saudi Arabia)\",\"(2020,Senegal)\",\"(2020,Serbia)\",\"(2020,Seychelles)\",\"(2020,Sierra Leone)\",\"(2020,Singapore)\",\"(2020,Slovakia)\",\"(2020,Slovenia)\",\"(2020,Solomon Islands)\",\"(2020,Somalia)\",\"(2020,South Africa)\",\"(2020,South Korea)\",\"(2020,South Sudan)\",\"(2020,Spain)\",\"(2020,Sri Lanka)\",\"(2020,St. Vincent & Grenadines)\",\"(2020,State of Palestine)\",\"(2020,Sudan)\",\"(2020,Suriname)\",\"(2020,Sweden)\",\"(2020,Switzerland)\",\"(2020,Syria)\",\"(2020,Taiwan)\",\"(2020,Tajikistan)\",\"(2020,Tanzania)\",\"(2020,Thailand)\",\"(2020,Timor-Leste)\",\"(2020,Togo)\",\"(2020,Tonga)\",\"(2020,Trinidad and Tobago)\",\"(2020,Tunisia)\",\"(2020,Turkey)\",\"(2020,Turkmenistan)\",\"(2020,U.S. Virgin Islands)\",\"(2020,Uganda)\",\"(2020,Ukraine)\",\"(2020,United Arab Emirates)\",\"(2020,United Kingdom)\",\"(2020,United States)\",\"(2020,Uruguay)\",\"(2020,Uzbekistan)\",\"(2020,Vanuatu)\",\"(2020,Venezuela)\",\"(2020,Vietnam)\",\"(2020,Western Sahara)\",\"(2020,Yemen)\",\"(2020,Zambia)\",\"(2020,Zimbabwe)\",\"(2022,Afghanistan)\",\"(2022,Albania)\",\"(2022,Algeria)\",\"(2022,Angola)\",\"(2022,Antigua and Barbuda)\",\"(2022,Argentina)\",\"(2022,Armenia)\",\"(2022,Aruba)\",\"(2022,Australia)\",\"(2022,Austria)\",\"(2022,Azerbaijan)\",\"(2022,Bahamas)\",\"(2022,Bahrain)\",\"(2022,Bangladesh)\",\"(2022,Barbados)\",\"(2022,Belarus)\",\"(2022,Belgium)\",\"(2022,Belize)\",\"(2022,Benin)\",\"(2022,Bhutan)\",\"(2022,Bolivia)\",\"(2022,Bosnia and Herzegovina)\",\"(2022,Botswana)\",\"(2022,Brazil)\",\"(2022,Brunei )\",\"(2022,Bulgaria)\",\"(2022,Burkina Faso)\",\"(2022,Burundi)\",\"(2022,Cabo Verde)\",\"(2022,Cambodia)\",\"(2022,Cameroon)\",\"(2022,Canada)\",\"(2022,Central African Republic)\",\"(2022,Chad)\",\"(2022,Chile)\",\"(2022,China)\",\"(2022,Colombia)\",\"(2022,Comoros)\",\"(2022,Congo)\",\"(2022,Costa Rica)\",\"(2022,Croatia)\",\"(2022,Cuba)\",\"(2022,Cura\\u00e7ao)\",\"(2022,Cyprus)\",\"(2022,Czech Republic (Czechia))\",\"(2022,C\\u00f4te d'Ivoire)\",\"(2022,DR Congo)\",\"(2022,Denmark)\",\"(2022,Djibouti)\",\"(2022,Dominican Republic)\",\"(2022,Ecuador)\",\"(2022,Egypt)\",\"(2022,El Salvador)\",\"(2022,Equatorial Guinea)\",\"(2022,Eritrea)\",\"(2022,Estonia)\",\"(2022,Eswatini)\",\"(2022,Ethiopia)\",\"(2022,Fiji)\",\"(2022,Finland)\",\"(2022,France)\",\"(2022,French Guiana)\",\"(2022,French Polynesia)\",\"(2022,Gabon)\",\"(2022,Gambia)\",\"(2022,Georgia)\",\"(2022,Germany)\",\"(2022,Ghana)\",\"(2022,Greece)\",\"(2022,Grenada)\",\"(2022,Guadeloupe)\",\"(2022,Guam)\",\"(2022,Guatemala)\",\"(2022,Guinea)\",\"(2022,Guinea-Bissau)\",\"(2022,Guyana)\",\"(2022,Haiti)\",\"(2022,Honduras)\",\"(2022,Hong Kong)\",\"(2022,Hungary)\",\"(2022,Iceland)\",\"(2022,India)\",\"(2022,Indonesia)\",\"(2022,Iran)\",\"(2022,Iraq)\",\"(2022,Ireland)\",\"(2022,Israel)\",\"(2022,Italy)\",\"(2022,Jamaica)\",\"(2022,Japan)\",\"(2022,Jordan)\",\"(2022,Kazakhstan)\",\"(2022,Kenya)\",\"(2022,Kiribati)\",\"(2022,Kuwait)\",\"(2022,Kyrgyzstan)\",\"(2022,Laos)\",\"(2022,Latvia)\",\"(2022,Lebanon)\",\"(2022,Lesotho)\",\"(2022,Liberia)\",\"(2022,Libya)\",\"(2022,Lithuania)\",\"(2022,Luxembourg)\",\"(2022,Macao)\",\"(2022,Madagascar)\",\"(2022,Malawi)\",\"(2022,Malaysia)\",\"(2022,Maldives)\",\"(2022,Mali)\",\"(2022,Malta)\",\"(2022,Martinique)\",\"(2022,Mauritania)\",\"(2022,Mauritius)\",\"(2022,Mayotte)\",\"(2022,Mexico)\",\"(2022,Moldova)\",\"(2022,Mongolia)\",\"(2022,Montenegro)\",\"(2022,Morocco)\",\"(2022,Mozambique)\",\"(2022,Myanmar)\",\"(2022,Namibia)\",\"(2022,Nepal)\",\"(2022,Netherlands)\",\"(2022,New Caledonia)\",\"(2022,New Zealand)\",\"(2022,Nicaragua)\",\"(2022,Niger)\",\"(2022,Nigeria)\",\"(2022,North Korea)\",\"(2022,North Macedonia)\",\"(2022,Norway)\",\"(2022,Oman)\",\"(2022,Pakistan)\",\"(2022,Panama)\",\"(2022,Papua New Guinea)\",\"(2022,Paraguay)\",\"(2022,Peru)\",\"(2022,Philippines)\",\"(2022,Poland)\",\"(2022,Portugal)\",\"(2022,Puerto Rico)\",\"(2022,Qatar)\",\"(2022,Romania)\",\"(2022,Russia)\",\"(2022,Rwanda)\",\"(2022,R\\u00e9union)\",\"(2022,Saint Lucia)\",\"(2022,Samoa)\",\"(2022,Sao Tome & Principe)\",\"(2022,Saudi Arabia)\",\"(2022,Senegal)\",\"(2022,Serbia)\",\"(2022,Seychelles)\",\"(2022,Sierra Leone)\",\"(2022,Singapore)\",\"(2022,Slovakia)\",\"(2022,Slovenia)\",\"(2022,Solomon Islands)\",\"(2022,Somalia)\",\"(2022,South Africa)\",\"(2022,South Korea)\",\"(2022,South Sudan)\",\"(2022,Spain)\",\"(2022,Sri Lanka)\",\"(2022,St. Vincent & Grenadines)\",\"(2022,State of Palestine)\",\"(2022,Sudan)\",\"(2022,Suriname)\",\"(2022,Sweden)\",\"(2022,Switzerland)\",\"(2022,Syria)\",\"(2022,Taiwan)\",\"(2022,Tajikistan)\",\"(2022,Tanzania)\",\"(2022,Thailand)\",\"(2022,Timor-Leste)\",\"(2022,Togo)\",\"(2022,Tonga)\",\"(2022,Trinidad and Tobago)\",\"(2022,Tunisia)\",\"(2022,Turkey)\",\"(2022,Turkmenistan)\",\"(2022,U.S. Virgin Islands)\",\"(2022,Uganda)\",\"(2022,Ukraine)\",\"(2022,United Arab Emirates)\",\"(2022,United Kingdom)\",\"(2022,United States)\",\"(2022,Uruguay)\",\"(2022,Uzbekistan)\",\"(2022,Vanuatu)\",\"(2022,Venezuela)\",\"(2022,Vietnam)\",\"(2022,Western Sahara)\",\"(2022,Yemen)\",\"(2022,Zambia)\",\"(2022,Zimbabwe)\",\"(2023,Afghanistan)\",\"(2023,Albania)\",\"(2023,Algeria)\",\"(2023,Angola)\",\"(2023,Antigua and Barbuda)\",\"(2023,Argentina)\",\"(2023,Armenia)\",\"(2023,Aruba)\",\"(2023,Australia)\",\"(2023,Austria)\",\"(2023,Azerbaijan)\",\"(2023,Bahamas)\",\"(2023,Bahrain)\",\"(2023,Bangladesh)\",\"(2023,Barbados)\",\"(2023,Belarus)\",\"(2023,Belgium)\",\"(2023,Belize)\",\"(2023,Benin)\",\"(2023,Bhutan)\",\"(2023,Bolivia)\",\"(2023,Bosnia and Herzegovina)\",\"(2023,Botswana)\",\"(2023,Brazil)\",\"(2023,Brunei )\",\"(2023,Bulgaria)\",\"(2023,Burkina Faso)\",\"(2023,Burundi)\",\"(2023,Cabo Verde)\",\"(2023,Cambodia)\",\"(2023,Cameroon)\",\"(2023,Canada)\",\"(2023,Central African Republic)\",\"(2023,Chad)\",\"(2023,Chile)\",\"(2023,China)\",\"(2023,Colombia)\",\"(2023,Comoros)\",\"(2023,Congo)\",\"(2023,Costa Rica)\",\"(2023,Croatia)\",\"(2023,Cuba)\",\"(2023,Cura\\u00e7ao)\",\"(2023,Cyprus)\",\"(2023,Czech Republic (Czechia))\",\"(2023,C\\u00f4te d'Ivoire)\",\"(2023,DR Congo)\",\"(2023,Denmark)\",\"(2023,Djibouti)\",\"(2023,Dominican Republic)\",\"(2023,Ecuador)\",\"(2023,Egypt)\",\"(2023,El Salvador)\",\"(2023,Equatorial Guinea)\",\"(2023,Eritrea)\",\"(2023,Estonia)\",\"(2023,Eswatini)\",\"(2023,Ethiopia)\",\"(2023,Fiji)\",\"(2023,Finland)\",\"(2023,France)\",\"(2023,French Guiana)\",\"(2023,French Polynesia)\",\"(2023,Gabon)\",\"(2023,Gambia)\",\"(2023,Georgia)\",\"(2023,Germany)\",\"(2023,Ghana)\",\"(2023,Greece)\",\"(2023,Grenada)\",\"(2023,Guadeloupe)\",\"(2023,Guam)\",\"(2023,Guatemala)\",\"(2023,Guinea)\",\"(2023,Guinea-Bissau)\",\"(2023,Guyana)\",\"(2023,Haiti)\",\"(2023,Honduras)\",\"(2023,Hong Kong)\",\"(2023,Hungary)\",\"(2023,Iceland)\",\"(2023,India)\",\"(2023,Indonesia)\",\"(2023,Iran)\",\"(2023,Iraq)\",\"(2023,Ireland)\",\"(2023,Israel)\",\"(2023,Italy)\",\"(2023,Jamaica)\",\"(2023,Japan)\",\"(2023,Jordan)\",\"(2023,Kazakhstan)\",\"(2023,Kenya)\",\"(2023,Kiribati)\",\"(2023,Kuwait)\",\"(2023,Kyrgyzstan)\",\"(2023,Laos)\",\"(2023,Latvia)\",\"(2023,Lebanon)\",\"(2023,Lesotho)\",\"(2023,Liberia)\",\"(2023,Libya)\",\"(2023,Lithuania)\",\"(2023,Luxembourg)\",\"(2023,Macao)\",\"(2023,Madagascar)\",\"(2023,Malawi)\",\"(2023,Malaysia)\",\"(2023,Maldives)\",\"(2023,Mali)\",\"(2023,Malta)\",\"(2023,Martinique)\",\"(2023,Mauritania)\",\"(2023,Mauritius)\",\"(2023,Mayotte)\",\"(2023,Mexico)\",\"(2023,Moldova)\",\"(2023,Mongolia)\",\"(2023,Montenegro)\",\"(2023,Morocco)\",\"(2023,Mozambique)\",\"(2023,Myanmar)\",\"(2023,Namibia)\",\"(2023,Nepal)\",\"(2023,Netherlands)\",\"(2023,New Caledonia)\",\"(2023,New Zealand)\",\"(2023,Nicaragua)\",\"(2023,Niger)\",\"(2023,Nigeria)\",\"(2023,North Korea)\",\"(2023,North Macedonia)\",\"(2023,Norway)\",\"(2023,Oman)\",\"(2023,Pakistan)\",\"(2023,Panama)\",\"(2023,Papua New Guinea)\",\"(2023,Paraguay)\",\"(2023,Peru)\",\"(2023,Philippines)\",\"(2023,Poland)\",\"(2023,Portugal)\",\"(2023,Puerto Rico)\",\"(2023,Qatar)\",\"(2023,Romania)\",\"(2023,Russia)\",\"(2023,Rwanda)\",\"(2023,R\\u00e9union)\",\"(2023,Saint Lucia)\",\"(2023,Samoa)\",\"(2023,Sao Tome & Principe)\",\"(2023,Saudi Arabia)\",\"(2023,Senegal)\",\"(2023,Serbia)\",\"(2023,Seychelles)\",\"(2023,Sierra Leone)\",\"(2023,Singapore)\",\"(2023,Slovakia)\",\"(2023,Slovenia)\",\"(2023,Solomon Islands)\",\"(2023,Somalia)\",\"(2023,South Africa)\",\"(2023,South Korea)\",\"(2023,South Sudan)\",\"(2023,Spain)\",\"(2023,Sri Lanka)\",\"(2023,St. Vincent & Grenadines)\",\"(2023,State of Palestine)\",\"(2023,Sudan)\",\"(2023,Suriname)\",\"(2023,Sweden)\",\"(2023,Switzerland)\",\"(2023,Syria)\",\"(2023,Taiwan)\",\"(2023,Tajikistan)\",\"(2023,Tanzania)\",\"(2023,Thailand)\",\"(2023,Timor-Leste)\",\"(2023,Togo)\",\"(2023,Tonga)\",\"(2023,Trinidad and Tobago)\",\"(2023,Tunisia)\",\"(2023,Turkey)\",\"(2023,Turkmenistan)\",\"(2023,U.S. Virgin Islands)\",\"(2023,Uganda)\",\"(2023,Ukraine)\",\"(2023,United Arab Emirates)\",\"(2023,United Kingdom)\",\"(2023,United States)\",\"(2023,Uruguay)\",\"(2023,Uzbekistan)\",\"(2023,Vanuatu)\",\"(2023,Venezuela)\",\"(2023,Vietnam)\",\"(2023,Western Sahara)\",\"(2023,Yemen)\",\"(2023,Zambia)\",\"(2023,Zimbabwe)\"],\"y\":[\"7,971,931\",\"1,453,730\",\"10,242,288\",\"4,938,118\",\"50,264\",\"18,700,686\",\"1,604,376\",\"46,464\",\"9,209,844\",\"6,946,260\",\"3,550,017\",\"92,444\",\"134,865\",\"44,315,548\",\"227,320\",\"7,976,356\",\"8,834,526\",\"79,986\",\"2,360,081\",\"196,014\",\"3,357,923\",\"2,958,430\",\"461,880\",\"62,701,031\",\"64,267\",\"7,517,922\",\"4,472,824\",\"2,495,193\",\"195,389\",\"4,931,224\",\"4,670,538\",\"15,733,923\",\"1,545,898\",\"2,756,169\",\"7,323,194\",\"603,320,147\",\"13,512,612\",\"177,885\",\"933,418\",\"1,123,982\",\"4,049,659\",\"6,559,586\",\"114,659\",\"534,125\",\"9,288,972\",\"3,154,282\",\"13,638,427\",\"4,426,508\",\"72,997\",\"2,791,108\",\"4,022,378\",\"23,841,701\",\"2,448,633\",\"245,800\",\"895,009\",\"1,168,276\",\"307,078\",\"19,703,738\",\"343,693\",\"4,235,413\",\"43,593,851\",\"25,456\",\"74,475\",\"489,459\",\"349,374\",\"3,738,231\",\"71,222,628\",\"5,887,163\",\"8,146,022\",\"82,656\",\"242,576\",\"65,977\",\"3,560,239\",\"3,234,056\",\"563,713\",\"483,316\",\"3,545,999\",\"1,796,527\",\"2,490,487\",\"9,823,331\",\"157,735\",\"398,577,992\",\"77,741,502\",\"18,873,864\",\"6,405,686\",\"2,886,368\",\"1,564,960\",\"48,130,728\",\"1,552,883\",\"90,090,281\",\"622,010\",\"7,858,733\",\"6,558,870\",\"42,008\",\"183,458\",\"1,944,992\",\"1,893,389\",\"2,032,505\",\"1,556,327\",\"641,361\",\"1,013,790\",\"1,225,687\",\"2,699,051\",\"305,514\",\"195,757\",\"4,467,590\",\"3,240,318\",\"6,786,077\",\"81,823\",\"5,014,680\",\"323,596\",\"262,164\",\"738,577\",\"596,866\",\"22,942\",\"31,452,141\",\"2,714,714\",\"844,997\",\"441,379\",\"10,242,168\",\"6,318,904\",\"19,522,788\",\"547,430\",\"9,284,895\",\"10,767,906\",\"69,989\",\"2,140,976\",\"1,539,551\",\"3,018,555\",\"40,839,223\",\"10,360,269\",\"1,379,140\",\"3,429,090\",\"492,416\",\"41,023,128\",\"980,004\",\"1,734,921\",\"1,685,747\",\"8,825,897\",\"23,027,910\",\"27,099,199\",\"8,665,451\",\"2,309,782\",\"28,668\",\"17,455,291\",\"110,971,852\",\"2,537,919\",\"301,358\",\"88,463\",\"98,037\",\"65,300\",\"3,581,910\",\"2,847,262\",\"6,348,547\",\"39,788\",\"2,135,644\",\"1,267,611\",\"3,796,626\",\"1,521,772\",\"117,314\",\"2,529,910\",\"14,594,129\",\"22,075,008\",\"2,695,349\",\"29,095,374\",\"8,749,627\",\"71,822\",\"997,117\",\"7,193,065\",\"227,145\",\"7,264,351\",\"5,002,410\",\"3,989,101\",\"9,229,462\",\"1,805,209\",\"8,725,576\",\"23,173,970\",\"437,426\",\"1,518,825\",\"58,024\",\"742,576\",\"3,975,544\",\"23,821,353\",\"1,363,507\",\"29,303\",\"6,601,785\",\"39,836,510\",\"101,803\",\"51,193,266\",\"161,136,449\",\"2,366,209\",\"7,141,923\",\"56,770\",\"6,752,139\",\"28,263,031\",\"20,690\",\"5,091,603\",\"2,677,209\",\"3,263,625\",\"8,622,466\",\"1,711,189\",\"11,394,307\",\"5,357,195\",\"55,342\",\"20,349,744\",\"1,904,148\",\"54,608\",\"10,286,647\",\"7,046,553\",\"4,131,484\",\"114,500\",\"160,691\",\"50,396,429\",\"232,550\",\"8,389,183\",\"9,108,724\",\"91,403\",\"2,512,284\",\"221,266\",\"3,707,515\",\"3,262,539\",\"512,865\",\"73,092,515\",\"85,346\",\"7,891,756\",\"4,783,259\",\"2,746,628\",\"209,849\",\"5,541,676\",\"5,117,608\",\"17,909,356\",\"1,679,728\",\"3,028,688\",\"8,141,820\",\"654,170,692\",\"15,687,688\",\"194,852\",\"1,055,693\",\"1,346,302\",\"4,215,324\",\"7,267,395\",\"131,274\",\"585,725\",\"9,539,362\",\"3,708,661\",\"15,276,558\",\"4,581,727\",\"85,940\",\"3,298,021\",\"4,618,158\",\"27,034,499\",\"2,779,327\",\"267,351\",\"993,568\",\"1,218,064\",\"345,065\",\"21,739,710\",\"401,841\",\"4,430,173\",\"45,659,575\",\"31,125\",\"84,851\",\"513,340\",\"399,649\",\"4,051,492\",\"73,063,695\",\"6,911,510\",\"8,495,415\",\"93,772\",\"276,976\",\"72,374\",\"4,098,352\",\"3,516,814\",\"577,933\",\"571,990\",\"3,901,139\",\"2,078,617\",\"3,114,671\",\"9,982,610\",\"175,566\",\"445,954,579\",\"88,382,881\",\"21,388,806\",\"7,084,678\",\"2,811,067\",\"1,902,247\",\"49,517,707\",\"1,642,331\",\"94,464,839\",\"847,936\",\"9,319,283\",\"7,751,435\",\"47,093\",\"305,415\",\"2,216,530\",\"2,122,532\",\"2,154,251\",\"1,798,092\",\"737,838\",\"1,137,026\",\"1,426,986\",\"2,875,684\",\"314,168\",\"177,014\",\"5,073,342\",\"3,621,081\",\"7,833,782\",\"91,650\",\"5,346,792\",\"337,628\",\"290,092\",\"838,478\",\"676,683\",\"26,165\",\"36,268,055\",\"3,133,267\",\"977,903\",\"473,046\",\"11,769,774\",\"6,788,375\",\"21,720,697\",\"590,181\",\"10,167,941\",\"11,493,117\",\"81,236\",\"2,381,189\",\"1,789,684\",\"3,497,431\",\"44,928,342\",\"11,655,666\",\"1,462,368\",\"3,581,520\",\"536,553\",\"45,954,226\",\"1,126,989\",\"1,985,666\",\"1,894,829\",\"10,172,207\",\"28,486,871\",\"29,509,903\",\"8,882,469\",\"2,365,072\",\"36,385\",\"18,458,008\",\"119,735,095\",\"2,966,162\",\"365,994\",\"91,614\",\"113,335\",\"68,038\",\"4,165,563\",\"3,273,177\",\"6,579,989\",\"43,167\",\"2,301,310\",\"1,601,079\",\"4,124,239\",\"1,599,571\",\"133,440\",\"2,870,732\",\"16,520,441\",\"25,817,529\",\"2,907,724\",\"30,415,591\",\"9,783,871\",\"84,141\",\"1,073,842\",\"8,326,462\",\"268,396\",\"7,492,895\",\"5,328,273\",\"4,610,712\",\"10,983,147\",\"2,131,992\",\"10,042,458\",\"26,596,584\",\"468,573\",\"1,651,367\",\"67,428\",\"847,063\",\"4,195,467\",\"27,510,980\",\"1,602,052\",\"32,861\",\"7,617,746\",\"42,767,251\",\"133,426\",\"52,543,017\",\"176,188,578\",\"2,529,021\",\"8,372,311\",\"64,608\",\"8,156,937\",\"32,718,461\",\"33,023\",\"5,542,459\",\"3,119,430\",\"3,806,310\",\"9,565,147\",\"2,009,789\",\"12,381,256\",\"5,736,582\",\"59,644\",\"22,053,661\",\"2,234,051\",\"58,782\",\"11,359,442\",\"7,269,888\",\"4,837,811\",\"144,849\",\"193,012\",\"58,500,159\",\"237,694\",\"8,854,528\",\"9,412,087\",\"104,838\",\"2,735,843\",\"255,010\",\"4,115,511\",\"3,565,517\",\"570,975\",\"84,623,747\",\"107,686\",\"8,245,072\",\"5,157,929\",\"3,118,134\",\"244,156\",\"6,170,727\",\"5,690,086\",\"19,688,805\",\"1,849,171\",\"3,336,338\",\"8,994,936\",\"723,846,349\",\"18,275,814\",\"214,939\",\"1,207,412\",\"1,602,736\",\"4,371,381\",\"8,067,651\",\"141,049\",\"617,345\",\"9,702,730\",\"4,492,890\",\"17,438,254\",\"4,756,337\",\"108,772\",\"3,868,712\",\"5,337,351\",\"30,818,469\",\"3,179,506\",\"295,010\",\"1,121,739\",\"1,292,004\",\"388,317\",\"24,727,506\",\"469,010\",\"4,564,583\",\"48,168,804\",\"38,946\",\"98,674\",\"547,535\",\"458,908\",\"4,418,592\",\"76,037,469\",\"7,827,726\",\"8,526,254\",\"98,226\",\"303,438\",\"80,255\",\"4,744,461\",\"3,845,074\",\"577,638\",\"650,207\",\"4,274,348\",\"2,403,465\",\"3,602,029\",\"10,140,853\",\"192,309\",\"500,114,346\",\"101,157,868\",\"24,667,026\",\"8,270,544\",\"2,852,401\",\"2,361,088\",\"51,452,854\",\"1,746,977\",\"99,468,746\",\"1,093,474\",\"10,897,644\",\"9,417,207\",\"53,444\",\"513,840\",\"2,615,167\",\"2,379,456\",\"2,287,805\",\"2,087,445\",\"860,220\",\"1,287,315\",\"1,700,072\",\"3,052,979\",\"329,794\",\"209,278\",\"5,780,453\",\"4,089,097\",\"9,091,016\",\"104,566\",\"5,726,382\",\"326,401\",\"313,791\",\"965,621\",\"758,628\",\"30,165\",\"42,737,991\",\"3,476,796\",\"1,134,072\",\"503,188\",\"13,381,880\",\"7,524,154\",\"24,286,878\",\"657,887\",\"11,232,951\",\"12,275,791\",\"94,803\",\"2,638,316\",\"2,084,097\",\"4,053,524\",\"49,925,799\",\"13,105,946\",\"1,547,982\",\"3,723,510\",\"593,808\",\"51,841,626\",\"1,310,556\",\"2,222,178\",\"2,143,153\",\"11,781,581\",\"32,805,538\",\"31,224,081\",\"8,899,092\",\"2,564,270\",\"64,843\",\"19,117,072\",\"126,400,607\",\"3,348,631\",\"427,612\",\"97,024\",\"129,789\",\"71,730\",\"4,978,922\",\"3,770,874\",\"6,902,989\",\"48,123\",\"2,520,576\",\"1,860,651\",\"4,363,511\",\"1,669,453\",\"151,495\",\"3,267,593\",\"19,187,194\",\"29,179,407\",\"3,143,622\",\"32,112,015\",\"11,035,224\",\"91,495\",\"1,148,517\",\"9,712,785\",\"321,069\",\"7,755,752\",\"5,857,047\",\"5,368,451\",\"13,070,708\",\"2,538,295\",\"11,630,603\",\"30,940,270\",\"507,477\",\"1,820,396\",\"77,686\",\"928,462\",\"4,457,282\",\"31,374,536\",\"1,897,095\",\"46,283\",\"8,829,056\",\"45,387,091\",\"173,797\",\"54,229,565\",\"189,703,283\",\"2,680,427\",\"10,130,096\",\"74,677\",\"9,688,138\",\"37,466,077\",\"51,206\",\"6,097,298\",\"3,658,024\",\"4,447,149\",\"10,752,971\",\"2,324,731\",\"13,795,915\",\"6,029,700\",\"64,517\",\"23,842,803\",\"2,534,377\",\"59,106\",\"12,595,034\",\"7,465,301\",\"5,425,317\",\"179,129\",\"222,555\",\"67,541,860\",\"241,397\",\"9,170,786\",\"9,629,376\",\"120,905\",\"3,023,443\",\"298,894\",\"4,585,693\",\"3,815,561\",\"592,244\",\"96,369,875\",\"133,343\",\"8,582,950\",\"5,611,666\",\"3,497,834\",\"287,262\",\"6,708,525\",\"6,452,787\",\"21,434,577\",\"2,067,356\",\"3,667,394\",\"9,820,481\",\"822,534,450\",\"20,905,254\",\"242,351\",\"1,396,989\",\"1,855,697\",\"4,492,638\",\"8,869,636\",\"150,385\",\"640,804\",\"9,795,744\",\"5,477,086\",\"20,151,733\",\"4,922,963\",\"144,379\",\"4,475,871\",\"6,172,215\",\"34,781,986\",\"3,619,090\",\"316,955\",\"1,272,748\",\"1,361,999\",\"442,865\",\"28,308,246\",\"527,634\",\"4,606,621\",\"50,523,586\",\"46,484\",\"117,891\",\"597,192\",\"528,731\",\"4,800,426\",\"78,294,583\",\"8,861,895\",\"8,544,873\",\"98,794\",\"318,310\",\"88,300\",\"5,453,208\",\"4,222,374\",\"591,663\",\"705,261\",\"4,680,812\",\"2,782,753\",\"3,955,072\",\"10,315,366\",\"204,468\",\"557,501,301\",\"115,228,394\",\"28,449,705\",\"9,811,347\",\"2,937,637\",\"2,907,307\",\"53,324,036\",\"1,859,091\",\"105,416,839\",\"1,557,374\",\"12,265,305\",\"11,473,087\",\"57,437\",\"802,786\",\"3,016,384\",\"2,675,283\",\"2,397,414\",\"2,381,791\",\"1,023,481\",\"1,463,563\",\"1,909,177\",\"3,210,147\",\"339,342\",\"247,284\",\"6,639,751\",\"4,625,141\",\"10,306,508\",\"123,243\",\"6,153,587\",\"315,414\",\"326,428\",\"1,122,198\",\"830,115\",\"35,383\",\"50,289,306\",\"3,711,140\",\"1,293,880\",\"530,268\",\"15,274,351\",\"8,411,676\",\"27,284,112\",\"754,467\",\"12,501,285\",\"13,037,686\",\"110,982\",\"2,824,061\",\"2,444,767\",\"4,669,708\",\"55,569,264\",\"14,996,879\",\"1,656,783\",\"3,875,546\",\"670,693\",\"59,290,872\",\"1,516,188\",\"2,489,059\",\"2,408,787\",\"13,562,371\",\"37,435,586\",\"32,482,943\",\"8,683,631\",\"2,737,619\",\"118,007\",\"19,922,618\",\"130,093,010\",\"3,896,367\",\"473,925\",\"103,090\",\"142,771\",\"77,583\",\"6,106,191\",\"4,367,744\",\"7,193,533\",\"54,379\",\"2,778,557\",\"2,061,831\",\"4,522,867\",\"1,741,286\",\"172,833\",\"3,720,977\",\"22,368,306\",\"32,601,143\",\"3,342,410\",\"33,792,617\",\"12,388,769\",\"98,459\",\"1,118,241\",\"11,305,206\",\"379,918\",\"8,027,702\",\"6,181,227\",\"6,319,199\",\"14,957,870\",\"2,993,019\",\"13,618,192\",\"35,791,728\",\"554,021\",\"2,197,383\",\"86,484\",\"988,890\",\"5,047,404\",\"35,540,990\",\"2,201,432\",\"63,446\",\"10,317,212\",\"47,279,086\",\"298,084\",\"55,650,166\",\"200,328,340\",\"2,790,265\",\"12,011,361\",\"87,019\",\"11,355,475\",\"41,928,849\",\"76,371\",\"6,843,607\",\"4,281,671\",\"5,202,918\",\"12,157,386\",\"2,650,122\",\"15,724,692\",\"7,032,713\",\"64,035\",\"25,875,558\",\"2,830,798\",\"60,715\",\"13,886,854\",\"7,576,926\",\"5,925,012\",\"201,881\",\"285,116\",\"74,700,345\",\"247,090\",\"9,500,738\",\"9,763,430\",\"130,801\",\"3,378,703\",\"352,269\",\"5,127,776\",\"4,022,090\",\"727,930\",\"108,700,515\",\"159,653\",\"8,860,971\",\"6,138,444\",\"3,749,232\",\"304,375\",\"6,727,922\",\"7,397,417\",\"23,136,252\",\"2,283,927\",\"4,084,110\",\"10,639,531\",\"915,124,661\",\"23,403,731\",\"280,036\",\"1,624,935\",\"2,111,850\",\"4,579,428\",\"9,514,305\",\"155,151\",\"644,982\",\"10,025,715\",\"6,853,981\",\"23,052,715\",\"5,058,203\",\"208,582\",\"5,106,453\",\"7,105,786\",\"38,775,584\",\"4,076,751\",\"283,262\",\"1,450,867\",\"1,424,044\",\"509,535\",\"32,252,783\",\"575,804\",\"4,711,368\",\"52,450,030\",\"54,347\",\"139,833\",\"663,340\",\"612,909\",\"4,970,320\",\"78,513,511\",\"10,209,848\",\"8,805,415\",\"97,165\",\"324,878\",\"99,478\",\"6,201,734\",\"4,588,006\",\"659,635\",\"745,590\",\"5,124,560\",\"3,231,631\",\"4,451,220\",\"10,520,237\",\"218,070\",\"623,524,219\",\"131,213,215\",\"32,856,976\",\"11,617,622\",\"3,157,919\",\"3,388,086\",\"55,093,989\",\"2,003,094\",\"112,411,640\",\"1,886,636\",\"13,158,942\",\"13,651,908\",\"60,675\",\"1,095,998\",\"3,353,850\",\"3,012,720\",\"2,492,528\",\"2,691,586\",\"1,216,180\",\"1,671,632\",\"2,291,841\",\"3,368,287\",\"353,666\",\"246,919\",\"7,720,859\",\"5,280,965\",\"11,617,947\",\"143,126\",\"6,687,293\",\"319,619\",\"328,795\",\"1,302,436\",\"888,292\",\"42,097\",\"58,691,882\",\"3,913,586\",\"1,485,691\",\"559,279\",\"17,325,325\",\"9,703,732\",\"30,344,276\",\"876,572\",\"13,925,541\",\"13,663,969\",\"136,601\",\"3,095,428\",\"2,857,461\",\"5,339,497\",\"62,851,312\",\"16,723,252\",\"1,774,013\",\"4,007,466\",\"787,194\",\"68,126,999\",\"1,734,876\",\"2,794,462\",\"2,714,664\",\"15,441,497\",\"42,394,433\",\"33,899,770\",\"9,202,709\",\"2,972,267\",\"195,043\",\"21,167,265\",\"133,841,842\",\"4,515,756\",\"515,586\",\"111,497\",\"155,263\",\"86,037\",\"7,897,544\",\"5,047,922\",\"7,479,833\",\"60,943\",\"3,055,916\",\"2,232,425\",\"4,737,059\",\"1,817,044\",\"197,853\",\"4,228,289\",\"25,777,964\",\"35,930,694\",\"3,718,279\",\"35,760,431\",\"13,662,873\",\"103,879\",\"1,263,706\",\"13,497,543\",\"392,137\",\"8,224,408\",\"6,338,267\",\"7,497,126\",\"16,551,774\",\"3,482,125\",\"16,243,826\",\"40,908,471\",\"600,126\",\"2,509,713\",\"93,477\",\"1,054,017\",\"5,769,074\",\"39,673,590\",\"2,525,760\",\"81,368\",\"11,730,959\",\"48,892,187\",\"543,394\",\"56,266,842\",\"211,274,535\",\"2,871,947\",\"13,894,347\",\"102,010\",\"13,176,387\",\"46,969,616\",\"66,865\",\"7,855,657\",\"4,931,249\",\"6,097,083\",\"12,486,631\",\"2,941,651\",\"18,739,378\",\"8,330,047\",\"64,889\",\"28,024,803\",\"3,135,123\",\"62,267\",\"14,706,322\",\"7,547,561\",\"6,383,060\",\"223,752\",\"362,595\",\"83,929,765\",\"253,575\",\"9,817,257\",\"9,828,986\",\"145,133\",\"3,833,939\",\"415,257\",\"5,736,088\",\"4,199,820\",\"938,578\",\"122,288,383\",\"187,921\",\"8,980,606\",\"6,932,967\",\"4,312,834\",\"317,234\",\"6,198,959\",\"8,519,891\",\"24,511,510\",\"2,415,276\",\"4,408,230\",\"11,469,828\",\"982,372,466\",\"26,176,195\",\"328,328\",\"1,829,256\",\"2,414,303\",\"4,680,144\",\"9,809,107\",\"156,851\",\"679,327\",\"10,270,060\",\"8,303,810\",\"26,708,686\",\"5,125,392\",\"324,121\",\"5,755,800\",\"8,135,845\",\"43,748,556\",\"4,508,992\",\"282,509\",\"1,657,982\",\"1,476,983\",\"598,564\",\"34,945,469\",\"644,582\",\"4,779,418\",\"53,713,830\",\"66,825\",\"163,591\",\"749,078\",\"718,586\",\"5,145,843\",\"77,786,703\",\"11,865,246\",\"9,307,148\",\"94,838\",\"334,234\",\"110,286\",\"6,987,767\",\"4,972,609\",\"831,462\",\"778,176\",\"5,646,676\",\"3,777,990\",\"4,978,544\",\"10,698,679\",\"228,263\",\"696,828,385\",\"148,177,096\",\"38,520,664\",\"13,653,369\",\"3,391,387\",\"3,744,608\",\"56,329,482\",\"2,135,546\",\"117,624,196\",\"2,216,903\",\"14,172,710\",\"16,187,124\",\"60,813\",\"1,493,870\",\"3,691,209\",\"3,297,519\",\"2,572,037\",\"2,963,702\",\"1,407,672\",\"1,932,169\",\"2,962,720\",\"3,521,206\",\"363,741\",\"245,332\",\"8,948,162\",\"6,267,369\",\"13,215,707\",\"164,887\",\"7,372,581\",\"333,587\",\"333,786\",\"1,506,694\",\"954,865\",\"52,233\",\"67,705,186\",\"4,103,240\",\"1,697,780\",\"589,324\",\"19,678,444\",\"11,413,587\",\"33,465,781\",\"975,994\",\"15,600,442\",\"14,130,387\",\"148,599\",\"3,147,168\",\"3,303,309\",\"6,173,177\",\"72,951,439\",\"17,973,650\",\"1,907,023\",\"4,085,776\",\"1,017,462\",\"80,624,057\",\"1,956,987\",\"3,104,788\",\"3,078,912\",\"17,492,406\",\"48,419,546\",\"35,521,429\",\"9,785,252\",\"3,214,568\",\"277,450\",\"22,125,224\",\"138,257,420\",\"5,247,532\",\"551,674\",\"121,633\",\"164,905\",\"97,210\",\"10,171,710\",\"5,703,869\",\"7,777,010\",\"65,290\",\"3,367,477\",\"2,400,729\",\"4,973,883\",\"1,901,570\",\"233,668\",\"5,892,224\",\"29,463,549\",\"38,170,501\",\"4,192,012\",\"37,491,666\",\"14,943,645\",\"107,480\",\"1,453,620\",\"16,673,586\",\"375,112\",\"8,311,763\",\"6,319,113\",\"8,898,954\",\"18,100,281\",\"4,045,965\",\"19,297,659\",\"45,737,753\",\"642,224\",\"2,838,110\",\"96,708\",\"1,127,852\",\"6,578,156\",\"44,089,069\",\"2,862,903\",\"96,640\",\"13,284,026\",\"49,973,920\",\"1,014,048\",\"56,326,328\",\"223,140,018\",\"2,953,750\",\"15,947,129\",\"118,156\",\"15,210,443\",\"52,968,270\",\"116,775\",\"9,204,938\",\"5,720,438\",\"7,049,926\",\"10,512,221\",\"3,171,725\",\"22,132,905\",\"9,970,621\",\"65,048\",\"30,287,112\",\"3,300,896\",\"64,478\",\"15,785,682\",\"7,562,114\",\"6,891,140\",\"245,935\",\"434,375\",\"95,959,099\",\"257,911\",\"10,133,211\",\"9,880,534\",\"163,436\",\"4,419,552\",\"484,528\",\"6,385,630\",\"4,383,306\",\"1,138,704\",\"136,783,180\",\"222,119\",\"8,917,076\",\"7,979,185\",\"4,948,024\",\"339,874\",\"7,376,090\",\"9,804,254\",\"25,843,922\",\"2,553,075\",\"4,967,590\",\"12,326,396\",\"1,060,239,979\",\"29,326,260\",\"375,650\",\"2,062,555\",\"2,771,463\",\"4,803,325\",\"10,149,044\",\"156,639\",\"731,664\",\"10,302,326\",\"9,964,075\",\"30,800,051\",\"5,119,452\",\"400,709\",\"6,417,798\",\"9,254,311\",\"50,035,843\",\"4,876,757\",\"378,379\",\"1,899,243\",\"1,525,782\",\"702,400\",\"40,285,965\",\"727,461\",\"4,902,175\",\"55,108,106\",\"86,931\",\"187,578\",\"856,482\",\"855,958\",\"5,338,867\",\"77,638,808\",\"13,651,443\",\"9,840,141\",\"100,576\",\"357,844\",\"124,675\",\"7,932,185\",\"5,531,661\",\"900,088\",\"772,671\",\"6,245,539\",\"4,387,693\",\"5,411,680\",\"10,542,754\",\"241,577\",\"780,242,084\",\"165,791,694\",\"47,266,160\",\"15,753,856\",\"3,505,769\",\"4,182,681\",\"56,636,465\",\"2,292,030\",\"121,119,031\",\"2,751,492\",\"15,413,315\",\"19,452,161\",\"66,708\",\"1,888,975\",\"4,064,852\",\"3,741,604\",\"2,655,104\",\"3,226,750\",\"1,616,697\",\"2,239,724\",\"3,684,313\",\"3,672,852\",\"366,466\",\"287,700\",\"10,297,746\",\"7,625,078\",\"15,108,135\",\"190,383\",\"8,187,651\",\"349,118\",\"348,728\",\"1,746,265\",\"1,025,769\",\"68,287\",\"74,872,006\",\"4,300,695\",\"1,919,744\",\"604,622\",\"22,335,077\",\"12,680,065\",\"36,881,020\",\"1,093,311\",\"17,540,571\",\"14,515,704\",\"159,702\",\"3,268,356\",\"3,763,034\",\"7,187,618\",\"83,585,251\",\"19,325,487\",\"2,001,504\",\"4,152,637\",\"1,353,289\",\"97,121,552\",\"2,197,065\",\"3,447,579\",\"3,535,498\",\"19,746,610\",\"54,812,660\",\"37,179,160\",\"9,996,896\",\"3,406,279\",\"365,868\",\"22,525,363\",\"142,896,392\",\"6,266,752\",\"599,299\",\"132,751\",\"166,517\",\"106,607\",\"12,890,245\",\"6,520,705\",\"7,912,069\",\"67,833\",\"3,749,419\",\"2,685,994\",\"5,146,571\",\"1,952,518\",\"277,158\",\"6,630,637\",\"33,752,964\",\"41,232,709\",\"4,706,975\",\"38,471,920\",\"16,092,338\",\"110,906\",\"1,731,085\",\"19,517,196\",\"387,171\",\"8,389,913\",\"6,469,824\",\"10,540,926\",\"19,511,876\",\"4,660,598\",\"22,569,625\",\"50,594,940\",\"682,109\",\"3,336,508\",\"97,055\",\"1,199,785\",\"7,476,092\",\"49,175,673\",\"3,246,887\",\"101,912\",\"15,038,915\",\"50,917,399\",\"1,379,536\",\"56,643,045\",\"235,146,182\",\"3,024,218\",\"18,063,201\",\"133,119\",\"17,402,304\",\"59,811,313\",\"150,190\",\"11,036,918\",\"6,686,449\",\"8,690,515\",\"10,694,796\",\"3,295,066\",\"25,518,074\",\"11,828,638\",\"63,328\",\"32,637,657\",\"3,556,539\",\"65,712\",\"17,048,003\",\"7,678,729\",\"7,427,836\",\"270,679\",\"517,418\",\"107,147,651\",\"258,868\",\"10,428,525\",\"9,959,560\",\"182,589\",\"5,133,419\",\"558,442\",\"7,096,194\",\"4,494,310\",\"1,341,474\",\"150,706,446\",\"261,928\",\"8,767,778\",\"9,131,361\",\"5,483,793\",\"364,563\",\"8,910,808\",\"11,430,520\",\"27,657,204\",\"2,809,221\",\"5,827,069\",\"13,342,868\",\"1,153,704,252\",\"32,601,393\",\"431,119\",\"2,385,435\",\"3,158,253\",\"4,873,707\",\"10,626,680\",\"155,446\",\"788,500\",\"10,301,192\",\"11,910,540\",\"35,987,541\",\"5,144,623\",\"577,173\",\"7,129,004\",\"10,449,837\",\"57,214,630\",\"5,367,179\",\"465,549\",\"2,149,960\",\"1,570,674\",\"854,011\",\"47,878,073\",\"780,430\",\"4,986,545\",\"56,412,897\",\"113,931\",\"211,089\",\"983,028\",\"1,040,616\",\"5,391,636\",\"79,370,196\",\"15,446,982\",\"10,302,255\",\"99,047\",\"391,951\",\"138,263\",\"9,084,780\",\"6,354,145\",\"973,551\",\"747,116\",\"6,925,331\",\"5,053,234\",\"5,838,574\",\"10,375,989\",\"255,019\",\"870,452,165\",\"182,159,874\",\"55,793,629\",\"17,658,381\",\"3,485,374\",\"4,803,254\",\"56,756,561\",\"2,392,030\",\"123,686,321\",\"3,480,587\",\"16,866,563\",\"23,162,269\",\"75,124\",\"1,674,938\",\"4,394,734\",\"4,314,443\",\"2,689,391\",\"3,593,700\",\"1,798,997\",\"2,209,731\",\"4,236,983\",\"3,785,847\",\"381,267\",\"350,227\",\"11,882,762\",\"9,539,665\",\"17,517,054\",\"224,957\",\"8,945,026\",\"365,392\",\"374,271\",\"2,006,027\",\"1,090,290\",\"92,659\",\"81,720,428\",\"4,480,199\",\"2,161,433\",\"621,442\",\"24,570,814\",\"13,303,459\",\"40,099,553\",\"1,369,011\",\"19,616,530\",\"14,944,548\",\"177,264\",\"3,397,389\",\"4,227,820\",\"8,370,648\",\"95,214,257\",\"20,799,523\",\"2,044,174\",\"4,241,636\",\"1,804,524\",\"115,414,069\",\"2,449,968\",\"3,864,972\",\"4,059,195\",\"22,109,099\",\"61,558,898\",\"38,064,255\",\"10,007,346\",\"3,543,776\",\"441,675\",\"22,836,234\",\"148,005,704\",\"7,319,962\",\"658,992\",\"142,301\",\"168,186\",\"120,343\",\"16,004,763\",\"7,536,001\",\"7,987,529\",\"71,057\",\"4,325,388\",\"3,022,209\",\"5,261,305\",\"1,986,024\",\"324,171\",\"6,999,096\",\"39,877,570\",\"44,120,039\",\"4,750,817\",\"38,889,889\",\"17,204,094\",\"112,487\",\"2,124,609\",\"21,090,886\",\"412,756\",\"8,548,406\",\"6,711,693\",\"12,408,996\",\"20,586,174\",\"5,417,860\",\"26,206,012\",\"55,228,410\",\"758,106\",\"3,875,947\",\"98,727\",\"1,266,518\",\"8,440,023\",\"54,324,142\",\"3,720,278\",\"100,685\",\"17,586,630\",\"51,589,817\",\"1,900,151\",\"57,210,442\",\"248,083,732\",\"3,117,012\",\"20,579,100\",\"150,882\",\"19,750,579\",\"66,912,613\",\"178,529\",\"13,375,121\",\"7,686,401\",\"10,113,893\",\"16,418,912\",\"3,284,364\",\"28,478,022\",\"13,912,253\",\"68,398\",\"34,946,110\",\"3,322,782\",\"77,050\",\"18,002,999\",\"7,947,296\",\"7,889,330\",\"299,554\",\"612,934\",\"117,793,338\",\"262,303\",\"10,461,696\",\"10,095,198\",\"203,556\",\"6,046,511\",\"527,536\",\"7,841,471\",\"3,750,527\",\"1,543,634\",\"163,515,328\",\"299,097\",\"8,477,579\",\"10,353,263\",\"5,932,783\",\"411,382\",\"10,919,528\",\"13,211,647\",\"29,289,423\",\"3,276,706\",\"6,888,856\",\"14,416,796\",\"1,218,144,426\",\"35,970,101\",\"483,760\",\"2,742,309\",\"3,572,856\",\"4,807,100\",\"10,926,703\",\"150,592\",\"862,418\",\"10,311,702\",\"14,299,727\",\"43,285,791\",\"5,235,197\",\"629,619\",\"7,869,753\",\"11,561,683\",\"64,166,908\",\"5,748,195\",\"560,740\",\"2,157,220\",\"1,452,775\",\"953,573\",\"57,476,536\",\"792,246\",\"5,107,943\",\"57,420,354\",\"137,183\",\"231,446\",\"1,121,964\",\"1,242,155\",\"4,877,676\",\"81,123,262\",\"17,438,874\",\"10,727,927\",\"104,060\",\"413,935\",\"150,094\",\"10,363,090\",\"7,468,347\",\"1,117,222\",\"751,689\",\"7,627,316\",\"5,812,832\",\"6,243,859\",\"10,327,169\",\"267,681\",\"964,279,129\",\"198,140,162\",\"60,794,809\",\"20,948,858\",\"3,579,482\",\"5,478,734\",\"56,885,126\",\"2,509,372\",\"125,433,969\",\"4,458,195\",\"16,434,324\",\"26,878,347\",\"81,481\",\"1,655,222\",\"4,596,456\",\"4,927,432\",\"2,570,151\",\"3,959,640\",\"1,934,079\",\"2,142,422\",\"4,733,063\",\"3,747,267\",\"407,635\",\"396,641\",\"13,869,138\",\"10,112,816\",\"20,136,888\",\"258,208\",\"9,921,094\",\"381,849\",\"409,942\",\"2,380,341\",\"1,160,207\",\"124,941\",\"89,969,572\",\"4,461,231\",\"2,330,334\",\"632,066\",\"26,599,048\",\"15,594,830\",\"42,880,186\",\"1,605,370\",\"22,305,571\",\"15,446,668\",\"199,701\",\"3,673,893\",\"4,721,929\",\"9,813,918\",\"108,187,610\",\"22,385,536\",\"1,983,964\",\"4,359,333\",\"2,172,672\",\"133,117,476\",\"2,716,067\",\"4,616,439\",\"4,603,917\",\"24,449,055\",\"69,250,468\",\"38,401,978\",\"10,051,248\",\"3,704,947\",\"515,133\",\"22,533,134\",\"148,557,451\",\"5,686,897\",\"725,978\",\"152,348\",\"174,902\",\"133,077\",\"18,888,857\",\"8,632,681\",\"7,982,462\",\"74,735\",\"4,324,149\",\"3,543,875\",\"5,349,997\",\"1,991,106\",\"375,189\",\"7,210,930\",\"43,986,084\",\"45,393,418\",\"5,302,042\",\"39,814,573\",\"18,177,572\",\"114,174\",\"2,623,144\",\"23,290,602\",\"434,490\",\"8,758,496\",\"7,038,297\",\"14,313,450\",\"21,455,813\",\"5,916,173\",\"30,560,071\",\"59,424,834\",\"819,226\",\"4,279,566\",\"99,977\",\"1,307,822\",\"9,294,102\",\"59,305,490\",\"4,226,623\",\"103,454\",\"20,680,831\",\"51,061,265\",\"2,433,988\",\"57,930,364\",\"265,660,556\",\"3,208,300\",\"23,026,206\",\"170,612\",\"22,107,286\",\"73,759,110\",\"208,381\",\"16,103,339\",\"8,684,135\",\"10,994,041\",\"19,542,982\",\"3,182,021\",\"30,774,621\",\"16,394,062\",\"75,055\",\"37,070,774\",\"3,168,523\",\"89,101\",\"19,017,963\",\"8,010,428\",\"8,190,337\",\"325,014\",\"711,442\",\"129,193,327\",\"264,657\",\"10,256,483\",\"10,264,343\",\"240,406\",\"6,998,023\",\"587,207\",\"8,592,656\",\"4,179,350\",\"1,726,985\",\"175,873,720\",\"333,926\",\"8,097,691\",\"11,882,888\",\"6,307,659\",\"458,251\",\"12,118,841\",\"15,091,594\",\"30,683,313\",\"3,759,170\",\"8,259,137\",\"15,351,799\",\"1,264,099,069\",\"39,215,135\",\"536,758\",\"3,134,030\",\"3,979,193\",\"4,548,434\",\"11,105,791\",\"141,424\",\"948,237\",\"10,234,710\",\"16,799,670\",\"48,616,317\",\"5,340,655\",\"742,033\",\"8,540,791\",\"12,626,507\",\"71,371,371\",\"5,958,482\",\"684,977\",\"2,392,880\",\"1,396,877\",\"1,030,496\",\"67,031,867\",\"832,509\",\"5,176,209\",\"58,665,453\",\"164,351\",\"250,927\",\"1,272,935\",\"1,437,539\",\"4,265,172\",\"81,551,677\",\"19,665,502\",\"11,038,109\",\"107,432\",\"424,067\",\"160,188\",\"11,735,894\",\"8,336,967\",\"1,230,849\",\"759,051\",\"8,360,225\",\"6,656,725\",\"6,731,195\",\"10,202,055\",\"281,462\",\"1,059,633,675\",\"214,072,421\",\"65,544,383\",\"24,628,858\",\"3,768,950\",\"6,116,958\",\"56,966,397\",\"2,612,205\",\"126,803,861\",\"5,056,174\",\"15,236,253\",\"30,851,606\",\"88,826\",\"1,934,901\",\"4,935,182\",\"5,430,853\",\"2,392,530\",\"4,320,642\",\"1,998,630\",\"2,895,224\",\"5,154,790\",\"3,599,637\",\"435,628\",\"431,896\",\"16,216,431\",\"11,229,387\",\"22,945,150\",\"282,507\",\"11,239,101\",\"399,212\",\"432,543\",\"2,695,003\",\"1,215,930\",\"159,215\",\"97,873,442\",\"4,251,573\",\"2,450,979\",\"633,324\",\"28,554,415\",\"17,768,505\",\"45,538,332\",\"1,819,141\",\"24,559,500\",\"15,899,135\",\"221,537\",\"3,855,266\",\"5,123,222\",\"11,622,665\",\"122,851,984\",\"23,367,059\",\"2,037,936\",\"4,491,202\",\"2,344,253\",\"154,369,924\",\"3,001,731\",\"5,508,297\",\"5,123,819\",\"26,654,439\",\"77,958,223\",\"38,504,431\",\"10,300,626\",\"3,827,108\",\"645,937\",\"21,919,876\",\"146,844,839\",\"8,109,989\",\"785,424\",\"159,500\",\"184,008\",\"143,714\",\"21,547,390\",\"9,704,287\",\"7,935,022\",\"80,060\",\"4,584,067\",\"4,053,602\",\"5,376,690\",\"1,984,339\",\"429,978\",\"8,721,465\",\"46,813,266\",\"46,788,591\",\"6,114,440\",\"40,741,651\",\"18,776,371\",\"113,813\",\"3,139,954\",\"26,298,773\",\"478,998\",\"8,871,043\",\"7,182,059\",\"16,307,654\",\"22,194,731\",\"6,272,998\",\"34,463,704\",\"63,066,603\",\"878,360\",\"5,008,035\",\"102,603\",\"1,332,203\",\"9,893,316\",\"64,113,547\",\"4,569,132\",\"108,185\",\"24,020,697\",\"48,879,755\",\"3,275,333\",\"58,850,043\",\"282,398,554\",\"3,292,224\",\"24,925,554\",\"192,074\",\"24,427,729\",\"79,001,142\",\"270,375\",\"18,628,700\",\"9,891,136\",\"11,834,676\",\"24,411,191\",\"3,032,634\",\"32,956,690\",\"19,450,959\",\"79,869\",\"39,070,501\",\"3,047,246\",\"94,483\",\"20,171,731\",\"8,227,034\",\"8,656,237\",\"347,804\",\"901,921\",\"140,912,590\",\"269,477\",\"9,935,163\",\"10,516,978\",\"280,375\",\"8,149,419\",\"663,323\",\"9,377,388\",\"4,094,297\",\"1,892,807\",\"186,797,334\",\"366,717\",\"7,815,221\",\"13,876,127\",\"7,388,874\",\"492,827\",\"13,246,583\",\"17,275,171\",\"32,215,916\",\"4,208,834\",\"10,005,012\",\"16,175,311\",\"1,304,887,562\",\"42,220,940\",\"592,683\",\"3,672,839\",\"4,315,887\",\"4,429,681\",\"11,246,114\",\"147,263\",\"1,037,062\",\"10,280,113\",\"18,970,215\",\"56,550,247\",\"5,436,313\",\"830,861\",\"9,164,768\",\"13,770,012\",\"79,075,310\",\"6,037,817\",\"864,726\",\"2,831,732\",\"1,354,662\",\"1,071,886\",\"77,469,940\",\"874,923\",\"5,246,071\",\"60,510,079\",\"201,259\",\"271,060\",\"1,458,353\",\"1,660,368\",\"3,961,182\",\"81,212,168\",\"22,496,951\",\"11,113,448\",\"110,254\",\"403,233\",\"164,430\",\"13,132,814\",\"9,140,114\",\"1,379,713\",\"759,709\",\"9,111,900\",\"7,564,613\",\"6,936,874\",\"10,073,525\",\"297,029\",\"1,154,638,713\",\"228,805,144\",\"70,182,594\",\"28,698,684\",\"4,121,216\",\"6,714,124\",\"58,199,876\",\"2,676,863\",\"127,798,373\",\"5,678,534\",\"15,656,248\",\"35,843,010\",\"98,164\",\"2,235,403\",\"5,193,114\",\"5,852,970\",\"2,233,157\",\"4,643,044\",\"1,977,424\",\"3,266,318\",\"5,837,986\",\"3,373,533\",\"464,860\",\"488,619\",\"18,792,171\",\"12,755,648\",\"25,923,536\",\"307,018\",\"13,180,551\",\"410,208\",\"400,370\",\"3,012,360\",\"1,258,048\",\"187,142\",\"105,442,402\",\"4,001,382\",\"2,559,255\",\"632,875\",\"30,431,902\",\"20,211,114\",\"47,724,471\",\"1,962,865\",\"26,285,110\",\"16,261,831\",\"242,141\",\"4,132,781\",\"5,454,678\",\"13,855,221\",\"140,490,722\",\"24,100,982\",\"2,078,662\",\"4,623,689\",\"2,515,192\",\"174,372,098\",\"3,305,868\",\"6,498,818\",\"5,476,878\",\"28,147,267\",\"86,261,250\",\"38,575,911\",\"10,523,315\",\"3,805,559\",\"848,710\",\"21,092,264\",\"143,800,049\",\"9,026,299\",\"833,656\",\"165,386\",\"188,626\",\"161,680\",\"24,397,644\",\"10,974,057\",\"7,830,944\",\"85,883\",\"5,683,334\",\"4,344,637\",\"5,376,242\",\"2,004,778\",\"482,486\",\"10,467,292\",\"49,017,147\",\"47,889,573\",\"7,662,654\",\"43,685,374\",\"19,673,866\",\"112,043\",\"3,541,193\",\"29,540,577\",\"516,220\",\"9,051,738\",\"7,428,435\",\"18,583,557\",\"22,796,306\",\"6,929,145\",\"39,439,505\",\"65,821,360\",\"969,313\",\"5,711,597\",\"105,633\",\"1,369,075\",\"10,388,344\",\"68,704,715\",\"4,885,775\",\"106,481\",\"27,946,588\",\"46,912,610\",\"4,280,993\",\"60,383,741\",\"296,842,670\",\"3,317,665\",\"26,573,423\",\"217,632\",\"26,668,785\",\"83,142,095\",\"339,187\",\"21,320,671\",\"11,564,870\",\"12,224,753\",\"28,189,672\",\"2,913,399\",\"35,856,344\",\"23,364,185\",\"85,695\",\"41,100,123\",\"2,946,293\",\"100,341\",\"22,019,168\",\"8,362,829\",\"9,237,202\",\"373,272\",\"1,213,645\",\"148,391,139\",\"274,711\",\"9,731,427\",\"10,877,947\",\"322,106\",\"9,445,710\",\"705,516\",\"10,223,270\",\"3,811,088\",\"2,091,664\",\"196,353,492\",\"396,053\",\"7,592,273\",\"16,116,845\",\"9,126,605\",\"521,212\",\"14,363,532\",\"19,878,036\",\"33,963,412\",\"4,660,067\",\"11,894,727\",\"17,004,162\",\"1,348,191,368\",\"44,816,108\",\"656,024\",\"4,437,884\",\"4,622,252\",\"4,368,682\",\"11,290,417\",\"159,380\",\"1,129,686\",\"10,464,749\",\"21,120,042\",\"66,391,257\",\"5,550,849\",\"919,199\",\"9,775,755\",\"14,989,585\",\"87,252,413\",\"6,114,034\",\"1,094,524\",\"3,147,727\",\"1,331,535\",\"1,099,920\",\"89,237,791\",\"905,169\",\"5,363,271\",\"62,444,567\",\"228,453\",\"283,788\",\"1,711,105\",\"1,937,275\",\"3,836,831\",\"81,325,090\",\"25,574,719\",\"11,033,783\",\"114,039\",\"403,072\",\"164,905\",\"14,543,121\",\"10,270,728\",\"1,567,220\",\"747,932\",\"9,842,880\",\"8,450,933\",\"7,132,438\",\"9,986,825\",\"318,333\",\"1,240,613,620\",\"244,016,173\",\"75,373,855\",\"31,264,875\",\"4,524,585\",\"7,328,445\",\"59,822,450\",\"2,733,896\",\"128,105,431\",\"6,931,258\",\"16,627,837\",\"41,517,895\",\"107,995\",\"2,943,356\",\"5,483,774\",\"6,323,418\",\"2,101,530\",\"4,995,800\",\"2,022,747\",\"4,019,956\",\"6,491,988\",\"3,139,019\",\"507,070\",\"557,297\",\"21,731,053\",\"14,718,422\",\"28,717,731\",\"361,575\",\"15,529,181\",\"418,755\",\"392,181\",\"3,419,461\",\"1,283,330\",\"211,786\",\"112,532,401\",\"3,678,186\",\"2,702,520\",\"631,044\",\"32,464,865\",\"23,073,723\",\"49,390,988\",\"2,099,271\",\"27,161,567\",\"16,617,117\",\"261,426\",\"4,346,338\",\"5,855,734\",\"16,647,543\",\"160,952,853\",\"24,686,435\",\"2,093,828\",\"4,889,741\",\"2,881,914\",\"194,454,498\",\"3,623,617\",\"7,583,269\",\"5,768,613\",\"29,229,572\",\"94,636,700\",\"38,597,353\",\"10,588,401\",\"3,717,922\",\"1,713,504\",\"20,335,211\",\"143,242,599\",\"10,309,031\",\"890,130\",\"170,935\",\"194,672\",\"182,138\",\"29,411,929\",\"12,530,121\",\"7,653,748\",\"92,409\",\"6,436,698\",\"5,163,590\",\"5,396,424\",\"2,057,287\",\"540,394\",\"12,026,649\",\"51,784,921\",\"48,813,042\",\"9,714,419\",\"46,572,772\",\"20,668,557\",\"109,308\",\"3,992,278\",\"33,739,933\",\"546,080\",\"9,381,729\",\"7,822,435\",\"22,337,563\",\"23,083,083\",\"7,621,779\",\"45,110,527\",\"68,270,489\",\"1,088,486\",\"6,571,855\",\"107,383\",\"1,410,296\",\"10,895,063\",\"73,195,345\",\"5,267,970\",\"106,142\",\"32,341,728\",\"45,683,020\",\"8,481,771\",\"62,760,039\",\"311,182,845\",\"3,352,651\",\"28,614,227\",\"245,453\",\"28,715,022\",\"87,411,012\",\"413,296\",\"24,743,946\",\"13,792,086\",\"12,839,771\",\"33,753,499\",\"2,882,481\",\"39,543,154\",\"28,127,721\",\"89,941\",\"43,257,065\",\"2,878,595\",\"104,257\",\"23,820,236\",\"8,642,421\",\"9,863,480\",\"392,697\",\"1,362,142\",\"157,830,000\",\"278,083\",\"9,700,609\",\"11,248,303\",\"359,871\",\"10,932,783\",\"743,274\",\"11,090,085\",\"3,524,324\",\"2,305,171\",\"205,188,205\",\"421,437\",\"7,309,253\",\"18,718,019\",\"10,727,148\",\"552,166\",\"15,417,523\",\"23,012,646\",\"35,732,126\",\"4,819,333\",\"14,140,274\",\"17,870,124\",\"1,393,715,448\",\"47,119,728\",\"730,216\",\"5,064,386\",\"4,895,242\",\"4,254,815\",\"11,339,894\",\"169,572\",\"1,187,280\",\"10,523,798\",\"23,596,741\",\"78,656,904\",\"5,677,796\",\"1,006,259\",\"10,405,832\",\"16,195,902\",\"97,723,799\",\"6,231,066\",\"1,346,973\",\"3,340,006\",\"1,314,657\",\"1,133,936\",\"102,471,895\",\"917,200\",\"5,479,461\",\"63,809,769\",\"257,026\",\"291,787\",\"2,028,517\",\"2,253,133\",\"3,771,132\",\"82,073,226\",\"28,870,939\",\"10,806,641\",\"118,980\",\"399,089\",\"167,978\",\"16,001,107\",\"11,625,998\",\"1,788,919\",\"755,031\",\"10,563,757\",\"9,294,505\",\"7,399,838\",\"9,844,246\",\"331,060\",\"1,322,866,505\",\"259,091,970\",\"81,790,841\",\"37,757,813\",\"4,665,760\",\"8,007,778\",\"60,232,906\",\"2,794,445\",\"127,250,933\",\"9,494,246\",\"17,835,909\",\"46,851,488\",\"116,707\",\"3,908,743\",\"5,914,980\",\"6,787,419\",\"1,991,955\",\"6,398,940\",\"2,118,521\",\"4,612,329\",\"6,192,235\",\"2,963,765\",\"569,408\",\"615,239\",\"24,850,912\",\"16,938,942\",\"31,068,833\",\"435,582\",\"18,112,907\",\"456,579\",\"383,515\",\"3,946,220\",\"1,293,153\",\"249,545\",\"120,149,897\",\"3,277,388\",\"2,964,749\",\"633,966\",\"34,680,458\",\"26,843,246\",\"51,483,949\",\"2,282,704\",\"27,610,325\",\"17,041,107\",\"283,032\",\"4,590,590\",\"6,298,598\",\"20,128,124\",\"183,995,785\",\"25,258,015\",\"2,107,962\",\"5,190,356\",\"4,191,776\",\"210,969,298\",\"3,957,099\",\"8,682,174\",\"6,177,950\",\"30,711,863\",\"103,031,365\",\"38,553,146\",\"10,365,435\",\"3,497,335\",\"2,414,573\",\"19,906,079\",\"144,668,389\",\"11,642,959\",\"922,495\",\"175,623\",\"203,571\",\"201,124\",\"32,749,848\",\"14,356,181\",\"7,519,496\",\"99,240\",\"7,314,773\",\"5,650,018\",\"5,424,444\",\"2,080,862\",\"612,660\",\"13,763,906\",\"55,876,504\",\"50,994,401\",\"11,194,299\",\"46,431,342\",\"21,336,697\",\"106,482\",\"4,484,614\",\"38,171,178\",\"575,475\",\"9,849,349\",\"8,281,732\",\"19,205,178\",\"23,512,136\",\"8,524,063\",\"52,542,823\",\"70,294,397\",\"1,205,813\",\"7,473,229\",\"106,122\",\"1,460,177\",\"11,557,779\",\"79,646,178\",\"5,766,431\",\"102,803\",\"37,477,356\",\"44,982,564\",\"8,916,899\",\"65,224,364\",\"324,607,776\",\"3,402,818\",\"30,949,417\",\"276,438\",\"30,529,716\",\"92,191,398\",\"491,824\",\"28,516,545\",\"16,248,230\",\"14,154,937\",\"38,972,230\",\"2,866,849\",\"43,451,666\",\"33,428,486\",\"92,664\",\"45,036,032\",\"2,805,608\",\"106,585\",\"25,670,051\",\"8,907,777\",\"10,284,951\",\"406,471\",\"1,477,469\",\"167,420,951\",\"280,693\",\"9,633,740\",\"11,561,717\",\"394,921\",\"12,643,123\",\"772,506\",\"11,936,162\",\"3,318,407\",\"2,546,402\",\"213,196,304\",\"441,725\",\"6,979,175\",\"21,522,626\",\"12,220,227\",\"582,640\",\"16,396,860\",\"26,491,087\",\"37,888,705\",\"5,343,020\",\"16,644,701\",\"19,300,315\",\"1,424,929,781\",\"50,930,662\",\"806,166\",\"5,702,174\",\"5,123,105\",\"4,096,869\",\"11,300,698\",\"189,288\",\"1,237,537\",\"10,530,953\",\"26,811,790\",\"92,853,164\",\"5,825,641\",\"1,090,156\",\"10,999,664\",\"17,588,595\",\"107,465,134\",\"6,292,731\",\"1,596,049\",\"3,555,868\",\"1,329,444\",\"1,180,655\",\"117,190,911\",\"920,422\",\"5,529,468\",\"64,480,053\",\"290,969\",\"301,920\",\"2,292,573\",\"2,573,995\",\"3,765,912\",\"83,328,988\",\"32,180,401\",\"10,512,232\",\"123,663\",\"395,642\",\"169,231\",\"17,362,718\",\"13,205,153\",\"2,015,828\",\"797,202\",\"11,306,801\",\"10,121,763\",\"7,500,958\",\"9,750,573\",\"366,669\",\"1,396,387,127\",\"271,857,970\",\"87,290,193\",\"42,556,984\",\"4,946,119\",\"8,757,489\",\"59,500,579\",\"2,820,436\",\"125,244,761\",\"10,928,721\",\"18,979,243\",\"51,985,780\",\"126,463\",\"4,360,444\",\"6,424,874\",\"7,319,399\",\"1,897,052\",\"5,662,923\",\"2,254,100\",\"5,087,584\",\"6,653,942\",\"2,820,267\",\"630,399\",\"676,283\",\"28,225,177\",\"19,377,061\",\"33,199,993\",\"514,438\",\"21,224,040\",\"515,358\",\"370,391\",\"4,498,604\",\"1,297,828\",\"305,587\",\"125,998,302\",\"3,084,847\",\"3,294,335\",\"629,048\",\"36,688,772\",\"31,178,239\",\"53,423,198\",\"2,489,098\",\"29,348,627\",\"17,434,557\",\"286,403\",\"5,061,133\",\"6,755,895\",\"24,333,639\",\"208,327,405\",\"25,867,467\",\"2,111,072\",\"5,379,839\",\"4,543,399\",\"227,196,741\",\"4,294,396\",\"9,749,640\",\"6,618,695\",\"33,304,756\",\"112,190,977\",\"38,428,366\",\"10,298,192\",\"3,271,564\",\"2,760,385\",\"19,442,038\",\"145,617,329\",\"13,146,362\",\"957,822\",\"179,237\",\"214,929\",\"218,641\",\"35,997,107\",\"16,436,120\",\"7,358,005\",\"105,530\",\"8,233,970\",\"5,909,869\",\"5,456,681\",\"2,117,641\",\"691,191\",\"16,537,016\",\"58,801,927\",\"51,844,690\",\"10,606,227\",\"47,363,807\",\"21,715,079\",\"104,632\",\"5,019,401\",\"44,440,486\",\"607,065\",\"10,368,969\",\"8,638,613\",\"20,772,595\",\"23,821,464\",\"9,543,207\",\"61,704,518\",\"71,475,664\",\"1,299,995\",\"8,442,580\",\"105,254\",\"1,518,147\",\"12,161,723\",\"84,135,428\",\"6,250,438\",\"100,442\",\"44,404,611\",\"43,909,666\",\"9,287,289\",\"67,059,474\",\"335,942,003\",\"3,429,086\",\"33,526,656\",\"311,685\",\"28,490,453\",\"96,648,685\",\"556,048\",\"32,284,046\",\"18,927,715\",\"15,669,666\",\"41,128,771\",\"2,842,321\",\"44,903,225\",\"35,588,987\",\"93,763\",\"45,510,318\",\"2,780,469\",\"106,445\",\"26,177,413\",\"8,939,617\",\"10,358,074\",\"409,984\",\"1,472,233\",\"171,186,372\",\"281,635\",\"9,534,954\",\"11,655,930\",\"405,272\",\"13,352,864\",\"782,455\",\"12,224,110\",\"3,233,526\",\"2,630,296\",\"215,313,498\",\"449,002\",\"6,781,953\",\"22,673,762\",\"12,889,576\",\"593,149\",\"16,767,842\",\"27,914,536\",\"38,454,327\",\"5,579,144\",\"17,723,315\",\"19,603,733\",\"1,425,887,337\",\"51,874,024\",\"836,774\",\"5,970,424\",\"5,180,829\",\"4,030,358\",\"11,212,191\",\"191,163\",\"1,251,488\",\"10,493,986\",\"28,160,542\",\"99,010,212\",\"5,882,261\",\"1,120,849\",\"11,228,821\",\"18,001,000\",\"110,990,103\",\"6,336,392\",\"1,674,908\",\"3,684,032\",\"1,326,062\",\"1,201,670\",\"123,379,924\",\"929,766\",\"5,540,745\",\"64,626,628\",\"304,557\",\"306,279\",\"2,388,992\",\"2,705,992\",\"3,744,385\",\"83,369,843\",\"33,475,870\",\"10,384,971\",\"125,438\",\"395,752\",\"171,774\",\"17,843,908\",\"13,859,341\",\"2,105,566\",\"808,726\",\"11,584,996\",\"10,432,860\",\"7,488,865\",\"9,967,308\",\"372,899\",\"1,417,173,173\",\"275,501,339\",\"88,550,570\",\"44,496,122\",\"5,023,109\",\"9,038,309\",\"59,037,474\",\"2,827,377\",\"123,951,692\",\"11,285,869\",\"19,397,998\",\"54,027,487\",\"131,232\",\"4,268,873\",\"6,630,623\",\"7,529,475\",\"1,850,651\",\"5,489,739\",\"2,305,825\",\"5,302,681\",\"6,812,341\",\"2,750,055\",\"647,599\",\"695,168\",\"29,611,714\",\"20,405,317\",\"33,938,221\",\"523,787\",\"22,593,590\",\"533,286\",\"367,507\",\"4,736,139\",\"1,299,469\",\"326,101\",\"127,504,125\",\"3,272,996\",\"3,398,366\",\"627,082\",\"37,457,971\",\"32,969,518\",\"54,179,306\",\"2,567,012\",\"30,547,580\",\"17,564,014\",\"289,950\",\"5,185,288\",\"6,948,392\",\"26,207,977\",\"218,541,212\",\"26,069,416\",\"2,093,599\",\"5,434,319\",\"4,576,298\",\"235,824,862\",\"4,408,581\",\"10,142,619\",\"6,780,744\",\"34,049,588\",\"115,559,009\",\"39,857,145\",\"10,270,865\",\"3,252,407\",\"2,695,122\",\"19,659,267\",\"144,713,314\",\"13,776,698\",\"974,052\",\"179,857\",\"222,382\",\"227,380\",\"36,408,820\",\"17,316,449\",\"7,221,365\",\"107,118\",\"8,605,718\",\"5,975,689\",\"5,643,453\",\"2,119,844\",\"724,273\",\"17,597,511\",\"59,893,885\",\"51,815,810\",\"10,913,164\",\"47,558,630\",\"21,832,143\",\"103,948\",\"5,250,072\",\"46,874,204\",\"618,040\",\"10,549,347\",\"8,740,472\",\"22,125,249\",\"23,893,394\",\"9,952,787\",\"65,497,748\",\"71,697,030\",\"1,341,296\",\"8,848,699\",\"106,858\",\"1,531,044\",\"12,356,117\",\"85,341,241\",\"6,430,770\",\"99,465\",\"47,249,585\",\"39,701,739\",\"9,441,129\",\"67,508,936\",\"338,289,857\",\"3,422,794\",\"34,627,652\",\"326,740\",\"28,301,696\",\"98,186,856\",\"575,986\",\"33,696,614\",\"20,017,675\",\"16,320,537\",\"42,239,854\",\"2,832,439\",\"45,606,480\",\"36,684,202\",\"94,298\",\"45,773,884\",\"2,777,970\",\"106,277\",\"26,439,111\",\"8,958,960\",\"10,412,651\",\"412,623\",\"1,485,509\",\"172,954,319\",\"281,995\",\"9,498,238\",\"11,686,140\",\"410,825\",\"13,712,828\",\"787,424\",\"12,388,571\",\"3,210,847\",\"2,675,352\",\"216,422,446\",\"452,524\",\"6,687,717\",\"23,251,485\",\"13,238,559\",\"598,682\",\"16,944,826\",\"28,647,293\",\"38,781,291\",\"5,742,315\",\"18,278,568\",\"19,629,590\",\"1,425,671,352\",\"52,085,168\",\"852,075\",\"6,106,869\",\"5,212,173\",\"4,008,617\",\"11,194,449\",\"192,077\",\"1,260,138\",\"10,495,295\",\"28,873,034\",\"102,262,808\",\"5,910,913\",\"1,136,455\",\"11,332,972\",\"18,190,484\",\"112,716,598\",\"6,364,943\",\"1,714,671\",\"3,748,901\",\"1,322,765\",\"1,210,822\",\"126,527,060\",\"936,375\",\"5,545,475\",\"64,756,584\",\"312,155\",\"308,872\",\"2,436,566\",\"2,773,168\",\"3,728,282\",\"83,294,633\",\"34,121,985\",\"10,341,277\",\"126,183\",\"395,839\",\"172,952\",\"18,092,026\",\"14,190,612\",\"2,150,842\",\"813,834\",\"11,724,763\",\"10,593,798\",\"7,491,609\",\"10,156,239\",\"375,318\",\"1,428,627,663\",\"277,534,122\",\"89,172,767\",\"45,504,560\",\"5,056,935\",\"9,174,520\",\"58,870,762\",\"2,825,544\",\"123,294,513\",\"11,337,052\",\"19,606,633\",\"55,100,586\",\"133,515\",\"4,310,108\",\"6,735,347\",\"7,633,779\",\"1,830,211\",\"5,353,930\",\"2,330,318\",\"5,418,377\",\"6,888,388\",\"2,718,352\",\"654,768\",\"704,149\",\"30,325,732\",\"20,931,751\",\"34,308,525\",\"521,021\",\"23,293,698\",\"535,064\",\"366,981\",\"4,862,989\",\"1,300,557\",\"335,995\",\"128,455,567\",\"3,435,931\",\"3,447,157\",\"626,485\",\"37,840,044\",\"33,897,354\",\"54,577,997\",\"2,604,172\",\"30,896,590\",\"17,618,299\",\"292,991\",\"5,228,100\",\"7,046,310\",\"27,202,843\",\"223,804,632\",\"26,160,821\",\"2,085,679\",\"5,474,360\",\"4,644,384\",\"240,485,658\",\"4,468,087\",\"10,329,931\",\"6,861,524\",\"34,352,719\",\"117,337,368\",\"41,026,067\",\"10,247,605\",\"3,260,314\",\"2,716,391\",\"19,892,812\",\"144,444,359\",\"14,094,683\",\"981,796\",\"180,251\",\"225,681\",\"231,856\",\"36,947,025\",\"17,763,163\",\"7,149,077\",\"107,660\",\"8,791,092\",\"6,014,723\",\"5,795,199\",\"2,119,675\",\"740,424\",\"18,143,378\",\"60,414,495\",\"51,784,059\",\"11,088,796\",\"47,519,628\",\"21,893,579\",\"103,698\",\"5,371,230\",\"48,109,006\",\"623,236\",\"10,612,086\",\"8,796,669\",\"23,227,014\",\"23,923,276\",\"10,143,543\",\"67,438,106\",\"71,801,279\",\"1,360,596\",\"9,053,799\",\"107,773\",\"1,534,937\",\"12,458,223\",\"85,816,199\",\"6,516,100\",\"98,750\",\"48,582,334\",\"36,744,634\",\"9,516,871\",\"67,736,802\",\"339,996,563\",\"3,423,108\",\"35,163,944\",\"334,506\",\"28,838,499\",\"98,858,950\",\"587,259\",\"34,449,825\",\"20,569,737\",\"16,665,409\"],\"type\":\"bar\"}],                        {\"legend\":{\"bgcolor\":\"#FFFFFF\",\"font\":{\"color\":\"#4D5663\"}},\"paper_bgcolor\":\"#FFFFFF\",\"plot_bgcolor\":\"#FFFFFF\",\"template\":{\"data\":{\"barpolar\":[{\"marker\":{\"line\":{\"color\":\"#E5ECF6\",\"width\":0.5},\"pattern\":{\"fillmode\":\"overlay\",\"size\":10,\"solidity\":0.2}},\"type\":\"barpolar\"}],\"bar\":[{\"error_x\":{\"color\":\"#2a3f5f\"},\"error_y\":{\"color\":\"#2a3f5f\"},\"marker\":{\"line\":{\"color\":\"#E5ECF6\",\"width\":0.5},\"pattern\":{\"fillmode\":\"overlay\",\"size\":10,\"solidity\":0.2}},\"type\":\"bar\"}],\"carpet\":[{\"aaxis\":{\"endlinecolor\":\"#2a3f5f\",\"gridcolor\":\"white\",\"linecolor\":\"white\",\"minorgridcolor\":\"white\",\"startlinecolor\":\"#2a3f5f\"},\"baxis\":{\"endlinecolor\":\"#2a3f5f\",\"gridcolor\":\"white\",\"linecolor\":\"white\",\"minorgridcolor\":\"white\",\"startlinecolor\":\"#2a3f5f\"},\"type\":\"carpet\"}],\"choropleth\":[{\"colorbar\":{\"outlinewidth\":0,\"ticks\":\"\"},\"type\":\"choropleth\"}],\"contourcarpet\":[{\"colorbar\":{\"outlinewidth\":0,\"ticks\":\"\"},\"type\":\"contourcarpet\"}],\"contour\":[{\"colorbar\":{\"outlinewidth\":0,\"ticks\":\"\"},\"colorscale\":[[0.0,\"#0d0887\"],[0.1111111111111111,\"#46039f\"],[0.2222222222222222,\"#7201a8\"],[0.3333333333333333,\"#9c179e\"],[0.4444444444444444,\"#bd3786\"],[0.5555555555555556,\"#d8576b\"],[0.6666666666666666,\"#ed7953\"],[0.7777777777777778,\"#fb9f3a\"],[0.8888888888888888,\"#fdca26\"],[1.0,\"#f0f921\"]],\"type\":\"contour\"}],\"heatmapgl\":[{\"colorbar\":{\"outlinewidth\":0,\"ticks\":\"\"},\"colorscale\":[[0.0,\"#0d0887\"],[0.1111111111111111,\"#46039f\"],[0.2222222222222222,\"#7201a8\"],[0.3333333333333333,\"#9c179e\"],[0.4444444444444444,\"#bd3786\"],[0.5555555555555556,\"#d8576b\"],[0.6666666666666666,\"#ed7953\"],[0.7777777777777778,\"#fb9f3a\"],[0.8888888888888888,\"#fdca26\"],[1.0,\"#f0f921\"]],\"type\":\"heatmapgl\"}],\"heatmap\":[{\"colorbar\":{\"outlinewidth\":0,\"ticks\":\"\"},\"colorscale\":[[0.0,\"#0d0887\"],[0.1111111111111111,\"#46039f\"],[0.2222222222222222,\"#7201a8\"],[0.3333333333333333,\"#9c179e\"],[0.4444444444444444,\"#bd3786\"],[0.5555555555555556,\"#d8576b\"],[0.6666666666666666,\"#ed7953\"],[0.7777777777777778,\"#fb9f3a\"],[0.8888888888888888,\"#fdca26\"],[1.0,\"#f0f921\"]],\"type\":\"heatmap\"}],\"histogram2dcontour\":[{\"colorbar\":{\"outlinewidth\":0,\"ticks\":\"\"},\"colorscale\":[[0.0,\"#0d0887\"],[0.1111111111111111,\"#46039f\"],[0.2222222222222222,\"#7201a8\"],[0.3333333333333333,\"#9c179e\"],[0.4444444444444444,\"#bd3786\"],[0.5555555555555556,\"#d8576b\"],[0.6666666666666666,\"#ed7953\"],[0.7777777777777778,\"#fb9f3a\"],[0.8888888888888888,\"#fdca26\"],[1.0,\"#f0f921\"]],\"type\":\"histogram2dcontour\"}],\"histogram2d\":[{\"colorbar\":{\"outlinewidth\":0,\"ticks\":\"\"},\"colorscale\":[[0.0,\"#0d0887\"],[0.1111111111111111,\"#46039f\"],[0.2222222222222222,\"#7201a8\"],[0.3333333333333333,\"#9c179e\"],[0.4444444444444444,\"#bd3786\"],[0.5555555555555556,\"#d8576b\"],[0.6666666666666666,\"#ed7953\"],[0.7777777777777778,\"#fb9f3a\"],[0.8888888888888888,\"#fdca26\"],[1.0,\"#f0f921\"]],\"type\":\"histogram2d\"}],\"histogram\":[{\"marker\":{\"pattern\":{\"fillmode\":\"overlay\",\"size\":10,\"solidity\":0.2}},\"type\":\"histogram\"}],\"mesh3d\":[{\"colorbar\":{\"outlinewidth\":0,\"ticks\":\"\"},\"type\":\"mesh3d\"}],\"parcoords\":[{\"line\":{\"colorbar\":{\"outlinewidth\":0,\"ticks\":\"\"}},\"type\":\"parcoords\"}],\"pie\":[{\"automargin\":true,\"type\":\"pie\"}],\"scatter3d\":[{\"line\":{\"colorbar\":{\"outlinewidth\":0,\"ticks\":\"\"}},\"marker\":{\"colorbar\":{\"outlinewidth\":0,\"ticks\":\"\"}},\"type\":\"scatter3d\"}],\"scattercarpet\":[{\"marker\":{\"colorbar\":{\"outlinewidth\":0,\"ticks\":\"\"}},\"type\":\"scattercarpet\"}],\"scattergeo\":[{\"marker\":{\"colorbar\":{\"outlinewidth\":0,\"ticks\":\"\"}},\"type\":\"scattergeo\"}],\"scattergl\":[{\"marker\":{\"colorbar\":{\"outlinewidth\":0,\"ticks\":\"\"}},\"type\":\"scattergl\"}],\"scattermapbox\":[{\"marker\":{\"colorbar\":{\"outlinewidth\":0,\"ticks\":\"\"}},\"type\":\"scattermapbox\"}],\"scatterpolargl\":[{\"marker\":{\"colorbar\":{\"outlinewidth\":0,\"ticks\":\"\"}},\"type\":\"scatterpolargl\"}],\"scatterpolar\":[{\"marker\":{\"colorbar\":{\"outlinewidth\":0,\"ticks\":\"\"}},\"type\":\"scatterpolar\"}],\"scatter\":[{\"fillpattern\":{\"fillmode\":\"overlay\",\"size\":10,\"solidity\":0.2},\"type\":\"scatter\"}],\"scatterternary\":[{\"marker\":{\"colorbar\":{\"outlinewidth\":0,\"ticks\":\"\"}},\"type\":\"scatterternary\"}],\"surface\":[{\"colorbar\":{\"outlinewidth\":0,\"ticks\":\"\"},\"colorscale\":[[0.0,\"#0d0887\"],[0.1111111111111111,\"#46039f\"],[0.2222222222222222,\"#7201a8\"],[0.3333333333333333,\"#9c179e\"],[0.4444444444444444,\"#bd3786\"],[0.5555555555555556,\"#d8576b\"],[0.6666666666666666,\"#ed7953\"],[0.7777777777777778,\"#fb9f3a\"],[0.8888888888888888,\"#fdca26\"],[1.0,\"#f0f921\"]],\"type\":\"surface\"}],\"table\":[{\"cells\":{\"fill\":{\"color\":\"#EBF0F8\"},\"line\":{\"color\":\"white\"}},\"header\":{\"fill\":{\"color\":\"#C8D4E3\"},\"line\":{\"color\":\"white\"}},\"type\":\"table\"}]},\"layout\":{\"annotationdefaults\":{\"arrowcolor\":\"#2a3f5f\",\"arrowhead\":0,\"arrowwidth\":1},\"autotypenumbers\":\"strict\",\"coloraxis\":{\"colorbar\":{\"outlinewidth\":0,\"ticks\":\"\"}},\"colorscale\":{\"diverging\":[[0,\"#8e0152\"],[0.1,\"#c51b7d\"],[0.2,\"#de77ae\"],[0.3,\"#f1b6da\"],[0.4,\"#fde0ef\"],[0.5,\"#f7f7f7\"],[0.6,\"#e6f5d0\"],[0.7,\"#b8e186\"],[0.8,\"#7fbc41\"],[0.9,\"#4d9221\"],[1,\"#276419\"]],\"sequential\":[[0.0,\"#0d0887\"],[0.1111111111111111,\"#46039f\"],[0.2222222222222222,\"#7201a8\"],[0.3333333333333333,\"#9c179e\"],[0.4444444444444444,\"#bd3786\"],[0.5555555555555556,\"#d8576b\"],[0.6666666666666666,\"#ed7953\"],[0.7777777777777778,\"#fb9f3a\"],[0.8888888888888888,\"#fdca26\"],[1.0,\"#f0f921\"]],\"sequentialminus\":[[0.0,\"#0d0887\"],[0.1111111111111111,\"#46039f\"],[0.2222222222222222,\"#7201a8\"],[0.3333333333333333,\"#9c179e\"],[0.4444444444444444,\"#bd3786\"],[0.5555555555555556,\"#d8576b\"],[0.6666666666666666,\"#ed7953\"],[0.7777777777777778,\"#fb9f3a\"],[0.8888888888888888,\"#fdca26\"],[1.0,\"#f0f921\"]]},\"colorway\":[\"#636efa\",\"#EF553B\",\"#00cc96\",\"#ab63fa\",\"#FFA15A\",\"#19d3f3\",\"#FF6692\",\"#B6E880\",\"#FF97FF\",\"#FECB52\"],\"font\":{\"color\":\"#2a3f5f\"},\"geo\":{\"bgcolor\":\"white\",\"lakecolor\":\"white\",\"landcolor\":\"#E5ECF6\",\"showlakes\":true,\"showland\":true,\"subunitcolor\":\"white\"},\"hoverlabel\":{\"align\":\"left\"},\"hovermode\":\"closest\",\"mapbox\":{\"style\":\"light\"},\"paper_bgcolor\":\"white\",\"plot_bgcolor\":\"#E5ECF6\",\"polar\":{\"angularaxis\":{\"gridcolor\":\"white\",\"linecolor\":\"white\",\"ticks\":\"\"},\"bgcolor\":\"#E5ECF6\",\"radialaxis\":{\"gridcolor\":\"white\",\"linecolor\":\"white\",\"ticks\":\"\"}},\"scene\":{\"xaxis\":{\"backgroundcolor\":\"#E5ECF6\",\"gridcolor\":\"white\",\"gridwidth\":2,\"linecolor\":\"white\",\"showbackground\":true,\"ticks\":\"\",\"zerolinecolor\":\"white\"},\"yaxis\":{\"backgroundcolor\":\"#E5ECF6\",\"gridcolor\":\"white\",\"gridwidth\":2,\"linecolor\":\"white\",\"showbackground\":true,\"ticks\":\"\",\"zerolinecolor\":\"white\"},\"zaxis\":{\"backgroundcolor\":\"#E5ECF6\",\"gridcolor\":\"white\",\"gridwidth\":2,\"linecolor\":\"white\",\"showbackground\":true,\"ticks\":\"\",\"zerolinecolor\":\"white\"}},\"shapedefaults\":{\"line\":{\"color\":\"#2a3f5f\"}},\"ternary\":{\"aaxis\":{\"gridcolor\":\"white\",\"linecolor\":\"white\",\"ticks\":\"\"},\"baxis\":{\"gridcolor\":\"white\",\"linecolor\":\"white\",\"ticks\":\"\"},\"bgcolor\":\"#E5ECF6\",\"caxis\":{\"gridcolor\":\"white\",\"linecolor\":\"white\",\"ticks\":\"\"}},\"title\":{\"x\":0.05},\"xaxis\":{\"automargin\":true,\"gridcolor\":\"white\",\"linecolor\":\"white\",\"ticks\":\"\",\"title\":{\"standoff\":15},\"zerolinecolor\":\"white\",\"zerolinewidth\":2},\"yaxis\":{\"automargin\":true,\"gridcolor\":\"white\",\"linecolor\":\"white\",\"ticks\":\"\",\"title\":{\"standoff\":15},\"zerolinecolor\":\"white\",\"zerolinewidth\":2}}},\"title\":{\"font\":{\"color\":\"#4D5663\"},\"text\":\"Population (1955-2023)\"},\"xaxis\":{\"gridcolor\":\"#E1E5ED\",\"showgrid\":true,\"tickfont\":{\"color\":\"#4D5663\"},\"title\":{\"font\":{\"color\":\"#4D5663\"},\"text\":\"Years\"},\"zerolinecolor\":\"#E1E5ED\"},\"yaxis\":{\"gridcolor\":\"#E1E5ED\",\"showgrid\":true,\"tickfont\":{\"color\":\"#4D5663\"},\"title\":{\"font\":{\"color\":\"#4D5663\"},\"text\":\"Population\"},\"zerolinecolor\":\"#E1E5ED\"}},                        {\"showLink\": true, \"linkText\": \"Export to plot.ly\", \"plotlyServerURL\": \"https://plot.ly\", \"responsive\": true}                    ).then(function(){\n",
       "                            \n",
       "var gd = document.getElementById('29a6add6-766d-4d24-bdb1-02229d82c869');\n",
       "var x = new MutationObserver(function (mutations, observer) {{\n",
       "        var display = window.getComputedStyle(gd).display;\n",
       "        if (!display || display === 'none') {{\n",
       "            console.log([gd, 'removed!']);\n",
       "            Plotly.purge(gd);\n",
       "            observer.disconnect();\n",
       "        }}\n",
       "}});\n",
       "\n",
       "// Listen for the removal of the full notebook cells\n",
       "var notebookContainer = gd.closest('#notebook-container');\n",
       "if (notebookContainer) {{\n",
       "    x.observe(notebookContainer, {childList: true});\n",
       "}}\n",
       "\n",
       "// Listen for the clearing of the current output cell\n",
       "var outputEl = gd.closest('.output');\n",
       "if (outputEl) {{\n",
       "    x.observe(outputEl, {childList: true});\n",
       "}}\n",
       "\n",
       "                        })                };                });            </script>        </div>"
      ]
     },
     "metadata": {},
     "output_type": "display_data"
    }
   ],
   "source": [
    "#bar chart shows the population's continuous trend of different countries over 1955 to 2023\n",
    "df3['Population'].iplot(kind='bar',theme='white',xTitle='Years',yTitle='Population',title='Population (1955-2023)')"
   ]
  },
  {
   "cell_type": "code",
   "execution_count": 14,
   "id": "e177de05",
   "metadata": {},
   "outputs": [
    {
     "data": {
      "text/html": [
       "<div>\n",
       "<style scoped>\n",
       "    .dataframe tbody tr th:only-of-type {\n",
       "        vertical-align: middle;\n",
       "    }\n",
       "\n",
       "    .dataframe tbody tr th {\n",
       "        vertical-align: top;\n",
       "    }\n",
       "\n",
       "    .dataframe thead th {\n",
       "        text-align: right;\n",
       "    }\n",
       "</style>\n",
       "<table border=\"1\" class=\"dataframe\">\n",
       "  <thead>\n",
       "    <tr style=\"text-align: right;\">\n",
       "      <th></th>\n",
       "      <th></th>\n",
       "      <th>Population</th>\n",
       "      <th>world pop</th>\n",
       "    </tr>\n",
       "    <tr>\n",
       "      <th>Year</th>\n",
       "      <th>name</th>\n",
       "      <th></th>\n",
       "      <th></th>\n",
       "    </tr>\n",
       "  </thead>\n",
       "  <tbody>\n",
       "    <tr>\n",
       "      <th rowspan=\"20\" valign=\"top\">2023</th>\n",
       "      <th>Tonga</th>\n",
       "      <td>107,773</td>\n",
       "      <td>8,045,311,447</td>\n",
       "    </tr>\n",
       "    <tr>\n",
       "      <th>Trinidad and Tobago</th>\n",
       "      <td>1,534,937</td>\n",
       "      <td>8,045,311,447</td>\n",
       "    </tr>\n",
       "    <tr>\n",
       "      <th>Tunisia</th>\n",
       "      <td>12,458,223</td>\n",
       "      <td>8,045,311,447</td>\n",
       "    </tr>\n",
       "    <tr>\n",
       "      <th>Turkey</th>\n",
       "      <td>85,816,199</td>\n",
       "      <td>8,045,311,447</td>\n",
       "    </tr>\n",
       "    <tr>\n",
       "      <th>Turkmenistan</th>\n",
       "      <td>6,516,100</td>\n",
       "      <td>8,045,311,447</td>\n",
       "    </tr>\n",
       "    <tr>\n",
       "      <th>U.S. Virgin Islands</th>\n",
       "      <td>98,750</td>\n",
       "      <td>8,045,311,447</td>\n",
       "    </tr>\n",
       "    <tr>\n",
       "      <th>Uganda</th>\n",
       "      <td>48,582,334</td>\n",
       "      <td>8,045,311,447</td>\n",
       "    </tr>\n",
       "    <tr>\n",
       "      <th>Ukraine</th>\n",
       "      <td>36,744,634</td>\n",
       "      <td>8,045,311,447</td>\n",
       "    </tr>\n",
       "    <tr>\n",
       "      <th>United Arab Emirates</th>\n",
       "      <td>9,516,871</td>\n",
       "      <td>8,045,311,447</td>\n",
       "    </tr>\n",
       "    <tr>\n",
       "      <th>United Kingdom</th>\n",
       "      <td>67,736,802</td>\n",
       "      <td>8,045,311,447</td>\n",
       "    </tr>\n",
       "    <tr>\n",
       "      <th>United States</th>\n",
       "      <td>339,996,563</td>\n",
       "      <td>8,045,311,447</td>\n",
       "    </tr>\n",
       "    <tr>\n",
       "      <th>Uruguay</th>\n",
       "      <td>3,423,108</td>\n",
       "      <td>8,045,311,447</td>\n",
       "    </tr>\n",
       "    <tr>\n",
       "      <th>Uzbekistan</th>\n",
       "      <td>35,163,944</td>\n",
       "      <td>8,045,311,447</td>\n",
       "    </tr>\n",
       "    <tr>\n",
       "      <th>Vanuatu</th>\n",
       "      <td>334,506</td>\n",
       "      <td>8,045,311,447</td>\n",
       "    </tr>\n",
       "    <tr>\n",
       "      <th>Venezuela</th>\n",
       "      <td>28,838,499</td>\n",
       "      <td>8,045,311,447</td>\n",
       "    </tr>\n",
       "    <tr>\n",
       "      <th>Vietnam</th>\n",
       "      <td>98,858,950</td>\n",
       "      <td>8,045,311,447</td>\n",
       "    </tr>\n",
       "    <tr>\n",
       "      <th>Western Sahara</th>\n",
       "      <td>587,259</td>\n",
       "      <td>8,045,311,447</td>\n",
       "    </tr>\n",
       "    <tr>\n",
       "      <th>Yemen</th>\n",
       "      <td>34,449,825</td>\n",
       "      <td>8,045,311,447</td>\n",
       "    </tr>\n",
       "    <tr>\n",
       "      <th>Zambia</th>\n",
       "      <td>20,569,737</td>\n",
       "      <td>8,045,311,447</td>\n",
       "    </tr>\n",
       "    <tr>\n",
       "      <th>Zimbabwe</th>\n",
       "      <td>16,665,409</td>\n",
       "      <td>8,045,311,447</td>\n",
       "    </tr>\n",
       "  </tbody>\n",
       "</table>\n",
       "</div>"
      ],
      "text/plain": [
       "                            Population      world pop\n",
       "Year name                                            \n",
       "2023 Tonga                     107,773  8,045,311,447\n",
       "     Trinidad and Tobago     1,534,937  8,045,311,447\n",
       "     Tunisia                12,458,223  8,045,311,447\n",
       "     Turkey                 85,816,199  8,045,311,447\n",
       "     Turkmenistan            6,516,100  8,045,311,447\n",
       "     U.S. Virgin Islands        98,750  8,045,311,447\n",
       "     Uganda                 48,582,334  8,045,311,447\n",
       "     Ukraine                36,744,634  8,045,311,447\n",
       "     United Arab Emirates    9,516,871  8,045,311,447\n",
       "     United Kingdom         67,736,802  8,045,311,447\n",
       "     United States         339,996,563  8,045,311,447\n",
       "     Uruguay                 3,423,108  8,045,311,447\n",
       "     Uzbekistan             35,163,944  8,045,311,447\n",
       "     Vanuatu                   334,506  8,045,311,447\n",
       "     Venezuela              28,838,499  8,045,311,447\n",
       "     Vietnam                98,858,950  8,045,311,447\n",
       "     Western Sahara            587,259  8,045,311,447\n",
       "     Yemen                  34,449,825  8,045,311,447\n",
       "     Zambia                 20,569,737  8,045,311,447\n",
       "     Zimbabwe               16,665,409  8,045,311,447"
      ]
     },
     "execution_count": 14,
     "metadata": {},
     "output_type": "execute_result"
    }
   ],
   "source": [
    "# population of 2023 in 20 countries\n",
    "n = df3.tail(20)\n",
    "n"
   ]
  },
  {
   "cell_type": "code",
   "execution_count": 15,
   "id": "febdc380",
   "metadata": {},
   "outputs": [
    {
     "data": {
      "application/vnd.plotly.v1+json": {
       "config": {
        "linkText": "Export to plot.ly",
        "plotlyServerURL": "https://plot.ly",
        "showLink": true
       },
       "data": [
        {
         "marker": {
          "color": "rgba(255, 153, 51, 0.6)",
          "line": {
           "color": "rgba(255, 153, 51, 1.0)",
           "width": 1
          }
         },
         "name": "Population",
         "orientation": "v",
         "text": "",
         "type": "bar",
         "x": [
          "(2023,Tonga)",
          "(2023,Trinidad and Tobago)",
          "(2023,Tunisia)",
          "(2023,Turkey)",
          "(2023,Turkmenistan)",
          "(2023,U.S. Virgin Islands)",
          "(2023,Uganda)",
          "(2023,Ukraine)",
          "(2023,United Arab Emirates)",
          "(2023,United Kingdom)",
          "(2023,United States)",
          "(2023,Uruguay)",
          "(2023,Uzbekistan)",
          "(2023,Vanuatu)",
          "(2023,Venezuela)",
          "(2023,Vietnam)",
          "(2023,Western Sahara)",
          "(2023,Yemen)",
          "(2023,Zambia)",
          "(2023,Zimbabwe)"
         ],
         "y": [
          "107,773",
          "1,534,937",
          "12,458,223",
          "85,816,199",
          "6,516,100",
          "98,750",
          "48,582,334",
          "36,744,634",
          "9,516,871",
          "67,736,802",
          "339,996,563",
          "3,423,108",
          "35,163,944",
          "334,506",
          "28,838,499",
          "98,858,950",
          "587,259",
          "34,449,825",
          "20,569,737",
          "16,665,409"
         ]
        }
       ],
       "layout": {
        "legend": {
         "bgcolor": "#FFFFFF",
         "font": {
          "color": "#4D5663"
         }
        },
        "paper_bgcolor": "#FFFFFF",
        "plot_bgcolor": "#FFFFFF",
        "template": {
         "data": {
          "bar": [
           {
            "error_x": {
             "color": "#2a3f5f"
            },
            "error_y": {
             "color": "#2a3f5f"
            },
            "marker": {
             "line": {
              "color": "#E5ECF6",
              "width": 0.5
             },
             "pattern": {
              "fillmode": "overlay",
              "size": 10,
              "solidity": 0.2
             }
            },
            "type": "bar"
           }
          ],
          "barpolar": [
           {
            "marker": {
             "line": {
              "color": "#E5ECF6",
              "width": 0.5
             },
             "pattern": {
              "fillmode": "overlay",
              "size": 10,
              "solidity": 0.2
             }
            },
            "type": "barpolar"
           }
          ],
          "carpet": [
           {
            "aaxis": {
             "endlinecolor": "#2a3f5f",
             "gridcolor": "white",
             "linecolor": "white",
             "minorgridcolor": "white",
             "startlinecolor": "#2a3f5f"
            },
            "baxis": {
             "endlinecolor": "#2a3f5f",
             "gridcolor": "white",
             "linecolor": "white",
             "minorgridcolor": "white",
             "startlinecolor": "#2a3f5f"
            },
            "type": "carpet"
           }
          ],
          "choropleth": [
           {
            "colorbar": {
             "outlinewidth": 0,
             "ticks": ""
            },
            "type": "choropleth"
           }
          ],
          "contour": [
           {
            "colorbar": {
             "outlinewidth": 0,
             "ticks": ""
            },
            "colorscale": [
             [
              0,
              "#0d0887"
             ],
             [
              0.1111111111111111,
              "#46039f"
             ],
             [
              0.2222222222222222,
              "#7201a8"
             ],
             [
              0.3333333333333333,
              "#9c179e"
             ],
             [
              0.4444444444444444,
              "#bd3786"
             ],
             [
              0.5555555555555556,
              "#d8576b"
             ],
             [
              0.6666666666666666,
              "#ed7953"
             ],
             [
              0.7777777777777778,
              "#fb9f3a"
             ],
             [
              0.8888888888888888,
              "#fdca26"
             ],
             [
              1,
              "#f0f921"
             ]
            ],
            "type": "contour"
           }
          ],
          "contourcarpet": [
           {
            "colorbar": {
             "outlinewidth": 0,
             "ticks": ""
            },
            "type": "contourcarpet"
           }
          ],
          "heatmap": [
           {
            "colorbar": {
             "outlinewidth": 0,
             "ticks": ""
            },
            "colorscale": [
             [
              0,
              "#0d0887"
             ],
             [
              0.1111111111111111,
              "#46039f"
             ],
             [
              0.2222222222222222,
              "#7201a8"
             ],
             [
              0.3333333333333333,
              "#9c179e"
             ],
             [
              0.4444444444444444,
              "#bd3786"
             ],
             [
              0.5555555555555556,
              "#d8576b"
             ],
             [
              0.6666666666666666,
              "#ed7953"
             ],
             [
              0.7777777777777778,
              "#fb9f3a"
             ],
             [
              0.8888888888888888,
              "#fdca26"
             ],
             [
              1,
              "#f0f921"
             ]
            ],
            "type": "heatmap"
           }
          ],
          "heatmapgl": [
           {
            "colorbar": {
             "outlinewidth": 0,
             "ticks": ""
            },
            "colorscale": [
             [
              0,
              "#0d0887"
             ],
             [
              0.1111111111111111,
              "#46039f"
             ],
             [
              0.2222222222222222,
              "#7201a8"
             ],
             [
              0.3333333333333333,
              "#9c179e"
             ],
             [
              0.4444444444444444,
              "#bd3786"
             ],
             [
              0.5555555555555556,
              "#d8576b"
             ],
             [
              0.6666666666666666,
              "#ed7953"
             ],
             [
              0.7777777777777778,
              "#fb9f3a"
             ],
             [
              0.8888888888888888,
              "#fdca26"
             ],
             [
              1,
              "#f0f921"
             ]
            ],
            "type": "heatmapgl"
           }
          ],
          "histogram": [
           {
            "marker": {
             "pattern": {
              "fillmode": "overlay",
              "size": 10,
              "solidity": 0.2
             }
            },
            "type": "histogram"
           }
          ],
          "histogram2d": [
           {
            "colorbar": {
             "outlinewidth": 0,
             "ticks": ""
            },
            "colorscale": [
             [
              0,
              "#0d0887"
             ],
             [
              0.1111111111111111,
              "#46039f"
             ],
             [
              0.2222222222222222,
              "#7201a8"
             ],
             [
              0.3333333333333333,
              "#9c179e"
             ],
             [
              0.4444444444444444,
              "#bd3786"
             ],
             [
              0.5555555555555556,
              "#d8576b"
             ],
             [
              0.6666666666666666,
              "#ed7953"
             ],
             [
              0.7777777777777778,
              "#fb9f3a"
             ],
             [
              0.8888888888888888,
              "#fdca26"
             ],
             [
              1,
              "#f0f921"
             ]
            ],
            "type": "histogram2d"
           }
          ],
          "histogram2dcontour": [
           {
            "colorbar": {
             "outlinewidth": 0,
             "ticks": ""
            },
            "colorscale": [
             [
              0,
              "#0d0887"
             ],
             [
              0.1111111111111111,
              "#46039f"
             ],
             [
              0.2222222222222222,
              "#7201a8"
             ],
             [
              0.3333333333333333,
              "#9c179e"
             ],
             [
              0.4444444444444444,
              "#bd3786"
             ],
             [
              0.5555555555555556,
              "#d8576b"
             ],
             [
              0.6666666666666666,
              "#ed7953"
             ],
             [
              0.7777777777777778,
              "#fb9f3a"
             ],
             [
              0.8888888888888888,
              "#fdca26"
             ],
             [
              1,
              "#f0f921"
             ]
            ],
            "type": "histogram2dcontour"
           }
          ],
          "mesh3d": [
           {
            "colorbar": {
             "outlinewidth": 0,
             "ticks": ""
            },
            "type": "mesh3d"
           }
          ],
          "parcoords": [
           {
            "line": {
             "colorbar": {
              "outlinewidth": 0,
              "ticks": ""
             }
            },
            "type": "parcoords"
           }
          ],
          "pie": [
           {
            "automargin": true,
            "type": "pie"
           }
          ],
          "scatter": [
           {
            "fillpattern": {
             "fillmode": "overlay",
             "size": 10,
             "solidity": 0.2
            },
            "type": "scatter"
           }
          ],
          "scatter3d": [
           {
            "line": {
             "colorbar": {
              "outlinewidth": 0,
              "ticks": ""
             }
            },
            "marker": {
             "colorbar": {
              "outlinewidth": 0,
              "ticks": ""
             }
            },
            "type": "scatter3d"
           }
          ],
          "scattercarpet": [
           {
            "marker": {
             "colorbar": {
              "outlinewidth": 0,
              "ticks": ""
             }
            },
            "type": "scattercarpet"
           }
          ],
          "scattergeo": [
           {
            "marker": {
             "colorbar": {
              "outlinewidth": 0,
              "ticks": ""
             }
            },
            "type": "scattergeo"
           }
          ],
          "scattergl": [
           {
            "marker": {
             "colorbar": {
              "outlinewidth": 0,
              "ticks": ""
             }
            },
            "type": "scattergl"
           }
          ],
          "scattermapbox": [
           {
            "marker": {
             "colorbar": {
              "outlinewidth": 0,
              "ticks": ""
             }
            },
            "type": "scattermapbox"
           }
          ],
          "scatterpolar": [
           {
            "marker": {
             "colorbar": {
              "outlinewidth": 0,
              "ticks": ""
             }
            },
            "type": "scatterpolar"
           }
          ],
          "scatterpolargl": [
           {
            "marker": {
             "colorbar": {
              "outlinewidth": 0,
              "ticks": ""
             }
            },
            "type": "scatterpolargl"
           }
          ],
          "scatterternary": [
           {
            "marker": {
             "colorbar": {
              "outlinewidth": 0,
              "ticks": ""
             }
            },
            "type": "scatterternary"
           }
          ],
          "surface": [
           {
            "colorbar": {
             "outlinewidth": 0,
             "ticks": ""
            },
            "colorscale": [
             [
              0,
              "#0d0887"
             ],
             [
              0.1111111111111111,
              "#46039f"
             ],
             [
              0.2222222222222222,
              "#7201a8"
             ],
             [
              0.3333333333333333,
              "#9c179e"
             ],
             [
              0.4444444444444444,
              "#bd3786"
             ],
             [
              0.5555555555555556,
              "#d8576b"
             ],
             [
              0.6666666666666666,
              "#ed7953"
             ],
             [
              0.7777777777777778,
              "#fb9f3a"
             ],
             [
              0.8888888888888888,
              "#fdca26"
             ],
             [
              1,
              "#f0f921"
             ]
            ],
            "type": "surface"
           }
          ],
          "table": [
           {
            "cells": {
             "fill": {
              "color": "#EBF0F8"
             },
             "line": {
              "color": "white"
             }
            },
            "header": {
             "fill": {
              "color": "#C8D4E3"
             },
             "line": {
              "color": "white"
             }
            },
            "type": "table"
           }
          ]
         },
         "layout": {
          "annotationdefaults": {
           "arrowcolor": "#2a3f5f",
           "arrowhead": 0,
           "arrowwidth": 1
          },
          "autotypenumbers": "strict",
          "coloraxis": {
           "colorbar": {
            "outlinewidth": 0,
            "ticks": ""
           }
          },
          "colorscale": {
           "diverging": [
            [
             0,
             "#8e0152"
            ],
            [
             0.1,
             "#c51b7d"
            ],
            [
             0.2,
             "#de77ae"
            ],
            [
             0.3,
             "#f1b6da"
            ],
            [
             0.4,
             "#fde0ef"
            ],
            [
             0.5,
             "#f7f7f7"
            ],
            [
             0.6,
             "#e6f5d0"
            ],
            [
             0.7,
             "#b8e186"
            ],
            [
             0.8,
             "#7fbc41"
            ],
            [
             0.9,
             "#4d9221"
            ],
            [
             1,
             "#276419"
            ]
           ],
           "sequential": [
            [
             0,
             "#0d0887"
            ],
            [
             0.1111111111111111,
             "#46039f"
            ],
            [
             0.2222222222222222,
             "#7201a8"
            ],
            [
             0.3333333333333333,
             "#9c179e"
            ],
            [
             0.4444444444444444,
             "#bd3786"
            ],
            [
             0.5555555555555556,
             "#d8576b"
            ],
            [
             0.6666666666666666,
             "#ed7953"
            ],
            [
             0.7777777777777778,
             "#fb9f3a"
            ],
            [
             0.8888888888888888,
             "#fdca26"
            ],
            [
             1,
             "#f0f921"
            ]
           ],
           "sequentialminus": [
            [
             0,
             "#0d0887"
            ],
            [
             0.1111111111111111,
             "#46039f"
            ],
            [
             0.2222222222222222,
             "#7201a8"
            ],
            [
             0.3333333333333333,
             "#9c179e"
            ],
            [
             0.4444444444444444,
             "#bd3786"
            ],
            [
             0.5555555555555556,
             "#d8576b"
            ],
            [
             0.6666666666666666,
             "#ed7953"
            ],
            [
             0.7777777777777778,
             "#fb9f3a"
            ],
            [
             0.8888888888888888,
             "#fdca26"
            ],
            [
             1,
             "#f0f921"
            ]
           ]
          },
          "colorway": [
           "#636efa",
           "#EF553B",
           "#00cc96",
           "#ab63fa",
           "#FFA15A",
           "#19d3f3",
           "#FF6692",
           "#B6E880",
           "#FF97FF",
           "#FECB52"
          ],
          "font": {
           "color": "#2a3f5f"
          },
          "geo": {
           "bgcolor": "white",
           "lakecolor": "white",
           "landcolor": "#E5ECF6",
           "showlakes": true,
           "showland": true,
           "subunitcolor": "white"
          },
          "hoverlabel": {
           "align": "left"
          },
          "hovermode": "closest",
          "mapbox": {
           "style": "light"
          },
          "paper_bgcolor": "white",
          "plot_bgcolor": "#E5ECF6",
          "polar": {
           "angularaxis": {
            "gridcolor": "white",
            "linecolor": "white",
            "ticks": ""
           },
           "bgcolor": "#E5ECF6",
           "radialaxis": {
            "gridcolor": "white",
            "linecolor": "white",
            "ticks": ""
           }
          },
          "scene": {
           "xaxis": {
            "backgroundcolor": "#E5ECF6",
            "gridcolor": "white",
            "gridwidth": 2,
            "linecolor": "white",
            "showbackground": true,
            "ticks": "",
            "zerolinecolor": "white"
           },
           "yaxis": {
            "backgroundcolor": "#E5ECF6",
            "gridcolor": "white",
            "gridwidth": 2,
            "linecolor": "white",
            "showbackground": true,
            "ticks": "",
            "zerolinecolor": "white"
           },
           "zaxis": {
            "backgroundcolor": "#E5ECF6",
            "gridcolor": "white",
            "gridwidth": 2,
            "linecolor": "white",
            "showbackground": true,
            "ticks": "",
            "zerolinecolor": "white"
           }
          },
          "shapedefaults": {
           "line": {
            "color": "#2a3f5f"
           }
          },
          "ternary": {
           "aaxis": {
            "gridcolor": "white",
            "linecolor": "white",
            "ticks": ""
           },
           "baxis": {
            "gridcolor": "white",
            "linecolor": "white",
            "ticks": ""
           },
           "bgcolor": "#E5ECF6",
           "caxis": {
            "gridcolor": "white",
            "linecolor": "white",
            "ticks": ""
           }
          },
          "title": {
           "x": 0.05
          },
          "xaxis": {
           "automargin": true,
           "gridcolor": "white",
           "linecolor": "white",
           "ticks": "",
           "title": {
            "standoff": 15
           },
           "zerolinecolor": "white",
           "zerolinewidth": 2
          },
          "yaxis": {
           "automargin": true,
           "gridcolor": "white",
           "linecolor": "white",
           "ticks": "",
           "title": {
            "standoff": 15
           },
           "zerolinecolor": "white",
           "zerolinewidth": 2
          }
         }
        },
        "title": {
         "font": {
          "color": "#4D5663"
         },
         "text": "23 Country's Population (2023)"
        },
        "xaxis": {
         "gridcolor": "#E1E5ED",
         "showgrid": true,
         "tickfont": {
          "color": "#4D5663"
         },
         "title": {
          "font": {
           "color": "#4D5663"
          },
          "text": "Years"
         },
         "zerolinecolor": "#E1E5ED"
        },
        "yaxis": {
         "gridcolor": "#E1E5ED",
         "showgrid": true,
         "tickfont": {
          "color": "#4D5663"
         },
         "title": {
          "font": {
           "color": "#4D5663"
          },
          "text": "Population"
         },
         "zerolinecolor": "#E1E5ED"
        }
       }
      },
      "text/html": [
       "<div>                            <div id=\"1cf77096-777e-41fc-ab73-021df325c07b\" class=\"plotly-graph-div\" style=\"height:525px; width:100%;\"></div>            <script type=\"text/javascript\">                require([\"plotly\"], function(Plotly) {                    window.PLOTLYENV=window.PLOTLYENV || {};\n",
       "                    window.PLOTLYENV.BASE_URL='https://plot.ly';                                    if (document.getElementById(\"1cf77096-777e-41fc-ab73-021df325c07b\")) {                    Plotly.newPlot(                        \"1cf77096-777e-41fc-ab73-021df325c07b\",                        [{\"marker\":{\"color\":\"rgba(255, 153, 51, 0.6)\",\"line\":{\"color\":\"rgba(255, 153, 51, 1.0)\",\"width\":1}},\"name\":\"Population\",\"orientation\":\"v\",\"text\":\"\",\"x\":[\"(2023,Tonga)\",\"(2023,Trinidad and Tobago)\",\"(2023,Tunisia)\",\"(2023,Turkey)\",\"(2023,Turkmenistan)\",\"(2023,U.S. Virgin Islands)\",\"(2023,Uganda)\",\"(2023,Ukraine)\",\"(2023,United Arab Emirates)\",\"(2023,United Kingdom)\",\"(2023,United States)\",\"(2023,Uruguay)\",\"(2023,Uzbekistan)\",\"(2023,Vanuatu)\",\"(2023,Venezuela)\",\"(2023,Vietnam)\",\"(2023,Western Sahara)\",\"(2023,Yemen)\",\"(2023,Zambia)\",\"(2023,Zimbabwe)\"],\"y\":[\"107,773\",\"1,534,937\",\"12,458,223\",\"85,816,199\",\"6,516,100\",\"98,750\",\"48,582,334\",\"36,744,634\",\"9,516,871\",\"67,736,802\",\"339,996,563\",\"3,423,108\",\"35,163,944\",\"334,506\",\"28,838,499\",\"98,858,950\",\"587,259\",\"34,449,825\",\"20,569,737\",\"16,665,409\"],\"type\":\"bar\"}],                        {\"legend\":{\"bgcolor\":\"#FFFFFF\",\"font\":{\"color\":\"#4D5663\"}},\"paper_bgcolor\":\"#FFFFFF\",\"plot_bgcolor\":\"#FFFFFF\",\"template\":{\"data\":{\"barpolar\":[{\"marker\":{\"line\":{\"color\":\"#E5ECF6\",\"width\":0.5},\"pattern\":{\"fillmode\":\"overlay\",\"size\":10,\"solidity\":0.2}},\"type\":\"barpolar\"}],\"bar\":[{\"error_x\":{\"color\":\"#2a3f5f\"},\"error_y\":{\"color\":\"#2a3f5f\"},\"marker\":{\"line\":{\"color\":\"#E5ECF6\",\"width\":0.5},\"pattern\":{\"fillmode\":\"overlay\",\"size\":10,\"solidity\":0.2}},\"type\":\"bar\"}],\"carpet\":[{\"aaxis\":{\"endlinecolor\":\"#2a3f5f\",\"gridcolor\":\"white\",\"linecolor\":\"white\",\"minorgridcolor\":\"white\",\"startlinecolor\":\"#2a3f5f\"},\"baxis\":{\"endlinecolor\":\"#2a3f5f\",\"gridcolor\":\"white\",\"linecolor\":\"white\",\"minorgridcolor\":\"white\",\"startlinecolor\":\"#2a3f5f\"},\"type\":\"carpet\"}],\"choropleth\":[{\"colorbar\":{\"outlinewidth\":0,\"ticks\":\"\"},\"type\":\"choropleth\"}],\"contourcarpet\":[{\"colorbar\":{\"outlinewidth\":0,\"ticks\":\"\"},\"type\":\"contourcarpet\"}],\"contour\":[{\"colorbar\":{\"outlinewidth\":0,\"ticks\":\"\"},\"colorscale\":[[0.0,\"#0d0887\"],[0.1111111111111111,\"#46039f\"],[0.2222222222222222,\"#7201a8\"],[0.3333333333333333,\"#9c179e\"],[0.4444444444444444,\"#bd3786\"],[0.5555555555555556,\"#d8576b\"],[0.6666666666666666,\"#ed7953\"],[0.7777777777777778,\"#fb9f3a\"],[0.8888888888888888,\"#fdca26\"],[1.0,\"#f0f921\"]],\"type\":\"contour\"}],\"heatmapgl\":[{\"colorbar\":{\"outlinewidth\":0,\"ticks\":\"\"},\"colorscale\":[[0.0,\"#0d0887\"],[0.1111111111111111,\"#46039f\"],[0.2222222222222222,\"#7201a8\"],[0.3333333333333333,\"#9c179e\"],[0.4444444444444444,\"#bd3786\"],[0.5555555555555556,\"#d8576b\"],[0.6666666666666666,\"#ed7953\"],[0.7777777777777778,\"#fb9f3a\"],[0.8888888888888888,\"#fdca26\"],[1.0,\"#f0f921\"]],\"type\":\"heatmapgl\"}],\"heatmap\":[{\"colorbar\":{\"outlinewidth\":0,\"ticks\":\"\"},\"colorscale\":[[0.0,\"#0d0887\"],[0.1111111111111111,\"#46039f\"],[0.2222222222222222,\"#7201a8\"],[0.3333333333333333,\"#9c179e\"],[0.4444444444444444,\"#bd3786\"],[0.5555555555555556,\"#d8576b\"],[0.6666666666666666,\"#ed7953\"],[0.7777777777777778,\"#fb9f3a\"],[0.8888888888888888,\"#fdca26\"],[1.0,\"#f0f921\"]],\"type\":\"heatmap\"}],\"histogram2dcontour\":[{\"colorbar\":{\"outlinewidth\":0,\"ticks\":\"\"},\"colorscale\":[[0.0,\"#0d0887\"],[0.1111111111111111,\"#46039f\"],[0.2222222222222222,\"#7201a8\"],[0.3333333333333333,\"#9c179e\"],[0.4444444444444444,\"#bd3786\"],[0.5555555555555556,\"#d8576b\"],[0.6666666666666666,\"#ed7953\"],[0.7777777777777778,\"#fb9f3a\"],[0.8888888888888888,\"#fdca26\"],[1.0,\"#f0f921\"]],\"type\":\"histogram2dcontour\"}],\"histogram2d\":[{\"colorbar\":{\"outlinewidth\":0,\"ticks\":\"\"},\"colorscale\":[[0.0,\"#0d0887\"],[0.1111111111111111,\"#46039f\"],[0.2222222222222222,\"#7201a8\"],[0.3333333333333333,\"#9c179e\"],[0.4444444444444444,\"#bd3786\"],[0.5555555555555556,\"#d8576b\"],[0.6666666666666666,\"#ed7953\"],[0.7777777777777778,\"#fb9f3a\"],[0.8888888888888888,\"#fdca26\"],[1.0,\"#f0f921\"]],\"type\":\"histogram2d\"}],\"histogram\":[{\"marker\":{\"pattern\":{\"fillmode\":\"overlay\",\"size\":10,\"solidity\":0.2}},\"type\":\"histogram\"}],\"mesh3d\":[{\"colorbar\":{\"outlinewidth\":0,\"ticks\":\"\"},\"type\":\"mesh3d\"}],\"parcoords\":[{\"line\":{\"colorbar\":{\"outlinewidth\":0,\"ticks\":\"\"}},\"type\":\"parcoords\"}],\"pie\":[{\"automargin\":true,\"type\":\"pie\"}],\"scatter3d\":[{\"line\":{\"colorbar\":{\"outlinewidth\":0,\"ticks\":\"\"}},\"marker\":{\"colorbar\":{\"outlinewidth\":0,\"ticks\":\"\"}},\"type\":\"scatter3d\"}],\"scattercarpet\":[{\"marker\":{\"colorbar\":{\"outlinewidth\":0,\"ticks\":\"\"}},\"type\":\"scattercarpet\"}],\"scattergeo\":[{\"marker\":{\"colorbar\":{\"outlinewidth\":0,\"ticks\":\"\"}},\"type\":\"scattergeo\"}],\"scattergl\":[{\"marker\":{\"colorbar\":{\"outlinewidth\":0,\"ticks\":\"\"}},\"type\":\"scattergl\"}],\"scattermapbox\":[{\"marker\":{\"colorbar\":{\"outlinewidth\":0,\"ticks\":\"\"}},\"type\":\"scattermapbox\"}],\"scatterpolargl\":[{\"marker\":{\"colorbar\":{\"outlinewidth\":0,\"ticks\":\"\"}},\"type\":\"scatterpolargl\"}],\"scatterpolar\":[{\"marker\":{\"colorbar\":{\"outlinewidth\":0,\"ticks\":\"\"}},\"type\":\"scatterpolar\"}],\"scatter\":[{\"fillpattern\":{\"fillmode\":\"overlay\",\"size\":10,\"solidity\":0.2},\"type\":\"scatter\"}],\"scatterternary\":[{\"marker\":{\"colorbar\":{\"outlinewidth\":0,\"ticks\":\"\"}},\"type\":\"scatterternary\"}],\"surface\":[{\"colorbar\":{\"outlinewidth\":0,\"ticks\":\"\"},\"colorscale\":[[0.0,\"#0d0887\"],[0.1111111111111111,\"#46039f\"],[0.2222222222222222,\"#7201a8\"],[0.3333333333333333,\"#9c179e\"],[0.4444444444444444,\"#bd3786\"],[0.5555555555555556,\"#d8576b\"],[0.6666666666666666,\"#ed7953\"],[0.7777777777777778,\"#fb9f3a\"],[0.8888888888888888,\"#fdca26\"],[1.0,\"#f0f921\"]],\"type\":\"surface\"}],\"table\":[{\"cells\":{\"fill\":{\"color\":\"#EBF0F8\"},\"line\":{\"color\":\"white\"}},\"header\":{\"fill\":{\"color\":\"#C8D4E3\"},\"line\":{\"color\":\"white\"}},\"type\":\"table\"}]},\"layout\":{\"annotationdefaults\":{\"arrowcolor\":\"#2a3f5f\",\"arrowhead\":0,\"arrowwidth\":1},\"autotypenumbers\":\"strict\",\"coloraxis\":{\"colorbar\":{\"outlinewidth\":0,\"ticks\":\"\"}},\"colorscale\":{\"diverging\":[[0,\"#8e0152\"],[0.1,\"#c51b7d\"],[0.2,\"#de77ae\"],[0.3,\"#f1b6da\"],[0.4,\"#fde0ef\"],[0.5,\"#f7f7f7\"],[0.6,\"#e6f5d0\"],[0.7,\"#b8e186\"],[0.8,\"#7fbc41\"],[0.9,\"#4d9221\"],[1,\"#276419\"]],\"sequential\":[[0.0,\"#0d0887\"],[0.1111111111111111,\"#46039f\"],[0.2222222222222222,\"#7201a8\"],[0.3333333333333333,\"#9c179e\"],[0.4444444444444444,\"#bd3786\"],[0.5555555555555556,\"#d8576b\"],[0.6666666666666666,\"#ed7953\"],[0.7777777777777778,\"#fb9f3a\"],[0.8888888888888888,\"#fdca26\"],[1.0,\"#f0f921\"]],\"sequentialminus\":[[0.0,\"#0d0887\"],[0.1111111111111111,\"#46039f\"],[0.2222222222222222,\"#7201a8\"],[0.3333333333333333,\"#9c179e\"],[0.4444444444444444,\"#bd3786\"],[0.5555555555555556,\"#d8576b\"],[0.6666666666666666,\"#ed7953\"],[0.7777777777777778,\"#fb9f3a\"],[0.8888888888888888,\"#fdca26\"],[1.0,\"#f0f921\"]]},\"colorway\":[\"#636efa\",\"#EF553B\",\"#00cc96\",\"#ab63fa\",\"#FFA15A\",\"#19d3f3\",\"#FF6692\",\"#B6E880\",\"#FF97FF\",\"#FECB52\"],\"font\":{\"color\":\"#2a3f5f\"},\"geo\":{\"bgcolor\":\"white\",\"lakecolor\":\"white\",\"landcolor\":\"#E5ECF6\",\"showlakes\":true,\"showland\":true,\"subunitcolor\":\"white\"},\"hoverlabel\":{\"align\":\"left\"},\"hovermode\":\"closest\",\"mapbox\":{\"style\":\"light\"},\"paper_bgcolor\":\"white\",\"plot_bgcolor\":\"#E5ECF6\",\"polar\":{\"angularaxis\":{\"gridcolor\":\"white\",\"linecolor\":\"white\",\"ticks\":\"\"},\"bgcolor\":\"#E5ECF6\",\"radialaxis\":{\"gridcolor\":\"white\",\"linecolor\":\"white\",\"ticks\":\"\"}},\"scene\":{\"xaxis\":{\"backgroundcolor\":\"#E5ECF6\",\"gridcolor\":\"white\",\"gridwidth\":2,\"linecolor\":\"white\",\"showbackground\":true,\"ticks\":\"\",\"zerolinecolor\":\"white\"},\"yaxis\":{\"backgroundcolor\":\"#E5ECF6\",\"gridcolor\":\"white\",\"gridwidth\":2,\"linecolor\":\"white\",\"showbackground\":true,\"ticks\":\"\",\"zerolinecolor\":\"white\"},\"zaxis\":{\"backgroundcolor\":\"#E5ECF6\",\"gridcolor\":\"white\",\"gridwidth\":2,\"linecolor\":\"white\",\"showbackground\":true,\"ticks\":\"\",\"zerolinecolor\":\"white\"}},\"shapedefaults\":{\"line\":{\"color\":\"#2a3f5f\"}},\"ternary\":{\"aaxis\":{\"gridcolor\":\"white\",\"linecolor\":\"white\",\"ticks\":\"\"},\"baxis\":{\"gridcolor\":\"white\",\"linecolor\":\"white\",\"ticks\":\"\"},\"bgcolor\":\"#E5ECF6\",\"caxis\":{\"gridcolor\":\"white\",\"linecolor\":\"white\",\"ticks\":\"\"}},\"title\":{\"x\":0.05},\"xaxis\":{\"automargin\":true,\"gridcolor\":\"white\",\"linecolor\":\"white\",\"ticks\":\"\",\"title\":{\"standoff\":15},\"zerolinecolor\":\"white\",\"zerolinewidth\":2},\"yaxis\":{\"automargin\":true,\"gridcolor\":\"white\",\"linecolor\":\"white\",\"ticks\":\"\",\"title\":{\"standoff\":15},\"zerolinecolor\":\"white\",\"zerolinewidth\":2}}},\"title\":{\"font\":{\"color\":\"#4D5663\"},\"text\":\"23 Country's Population (2023)\"},\"xaxis\":{\"gridcolor\":\"#E1E5ED\",\"showgrid\":true,\"tickfont\":{\"color\":\"#4D5663\"},\"title\":{\"font\":{\"color\":\"#4D5663\"},\"text\":\"Years\"},\"zerolinecolor\":\"#E1E5ED\"},\"yaxis\":{\"gridcolor\":\"#E1E5ED\",\"showgrid\":true,\"tickfont\":{\"color\":\"#4D5663\"},\"title\":{\"font\":{\"color\":\"#4D5663\"},\"text\":\"Population\"},\"zerolinecolor\":\"#E1E5ED\"}},                        {\"showLink\": true, \"linkText\": \"Export to plot.ly\", \"plotlyServerURL\": \"https://plot.ly\", \"responsive\": true}                    ).then(function(){\n",
       "                            \n",
       "var gd = document.getElementById('1cf77096-777e-41fc-ab73-021df325c07b');\n",
       "var x = new MutationObserver(function (mutations, observer) {{\n",
       "        var display = window.getComputedStyle(gd).display;\n",
       "        if (!display || display === 'none') {{\n",
       "            console.log([gd, 'removed!']);\n",
       "            Plotly.purge(gd);\n",
       "            observer.disconnect();\n",
       "        }}\n",
       "}});\n",
       "\n",
       "// Listen for the removal of the full notebook cells\n",
       "var notebookContainer = gd.closest('#notebook-container');\n",
       "if (notebookContainer) {{\n",
       "    x.observe(notebookContainer, {childList: true});\n",
       "}}\n",
       "\n",
       "// Listen for the clearing of the current output cell\n",
       "var outputEl = gd.closest('.output');\n",
       "if (outputEl) {{\n",
       "    x.observe(outputEl, {childList: true});\n",
       "}}\n",
       "\n",
       "                        })                };                });            </script>        </div>"
      ]
     },
     "metadata": {},
     "output_type": "display_data"
    }
   ],
   "source": [
    "#bar plot of 20 countries population comparison over 2023\n",
    "n['Population'].iplot(kind='bar',theme='white',xTitle='Years',yTitle='Population',title=\"23 Country's Population (2023)\")"
   ]
  },
  {
   "cell_type": "code",
   "execution_count": 16,
   "id": "c862ac93",
   "metadata": {},
   "outputs": [
    {
     "data": {
      "text/html": [
       "<div>\n",
       "<style scoped>\n",
       "    .dataframe tbody tr th:only-of-type {\n",
       "        vertical-align: middle;\n",
       "    }\n",
       "\n",
       "    .dataframe tbody tr th {\n",
       "        vertical-align: top;\n",
       "    }\n",
       "\n",
       "    .dataframe thead th {\n",
       "        text-align: right;\n",
       "    }\n",
       "</style>\n",
       "<table border=\"1\" class=\"dataframe\">\n",
       "  <thead>\n",
       "    <tr style=\"text-align: right;\">\n",
       "      <th></th>\n",
       "      <th>Population</th>\n",
       "      <th>world pop</th>\n",
       "    </tr>\n",
       "    <tr>\n",
       "      <th>Year</th>\n",
       "      <th></th>\n",
       "      <th></th>\n",
       "    </tr>\n",
       "  </thead>\n",
       "  <tbody>\n",
       "    <tr>\n",
       "      <th>1955</th>\n",
       "      <td>7,971,931</td>\n",
       "      <td>2,746,072,141</td>\n",
       "    </tr>\n",
       "    <tr>\n",
       "      <th>1960</th>\n",
       "      <td>8,622,466</td>\n",
       "      <td>3,019,233,434</td>\n",
       "    </tr>\n",
       "    <tr>\n",
       "      <th>1965</th>\n",
       "      <td>9,565,147</td>\n",
       "      <td>3,337,111,983</td>\n",
       "    </tr>\n",
       "    <tr>\n",
       "      <th>1970</th>\n",
       "      <td>10,752,971</td>\n",
       "      <td>3,695,390,336</td>\n",
       "    </tr>\n",
       "    <tr>\n",
       "      <th>1975</th>\n",
       "      <td>12,157,386</td>\n",
       "      <td>4,069,437,231</td>\n",
       "    </tr>\n",
       "    <tr>\n",
       "      <th>1980</th>\n",
       "      <td>12,486,631</td>\n",
       "      <td>4,444,007,706</td>\n",
       "    </tr>\n",
       "    <tr>\n",
       "      <th>1985</th>\n",
       "      <td>10,512,221</td>\n",
       "      <td>4,861,730,613</td>\n",
       "    </tr>\n",
       "    <tr>\n",
       "      <th>1990</th>\n",
       "      <td>10,694,796</td>\n",
       "      <td>5,316,175,862</td>\n",
       "    </tr>\n",
       "    <tr>\n",
       "      <th>1995</th>\n",
       "      <td>16,418,912</td>\n",
       "      <td>5,743,219,454</td>\n",
       "    </tr>\n",
       "    <tr>\n",
       "      <th>2000</th>\n",
       "      <td>19,542,982</td>\n",
       "      <td>6,148,898,975</td>\n",
       "    </tr>\n",
       "    <tr>\n",
       "      <th>2005</th>\n",
       "      <td>24,411,191</td>\n",
       "      <td>6,558,176,119</td>\n",
       "    </tr>\n",
       "    <tr>\n",
       "      <th>2010</th>\n",
       "      <td>28,189,672</td>\n",
       "      <td>6,985,603,105</td>\n",
       "    </tr>\n",
       "    <tr>\n",
       "      <th>2015</th>\n",
       "      <td>33,753,499</td>\n",
       "      <td>7,426,597,537</td>\n",
       "    </tr>\n",
       "    <tr>\n",
       "      <th>2020</th>\n",
       "      <td>38,972,230</td>\n",
       "      <td>7,840,952,880</td>\n",
       "    </tr>\n",
       "    <tr>\n",
       "      <th>2022</th>\n",
       "      <td>41,128,771</td>\n",
       "      <td>7,975,105,156</td>\n",
       "    </tr>\n",
       "    <tr>\n",
       "      <th>2023</th>\n",
       "      <td>42,239,854</td>\n",
       "      <td>8,045,311,447</td>\n",
       "    </tr>\n",
       "  </tbody>\n",
       "</table>\n",
       "</div>"
      ],
      "text/plain": [
       "      Population      world pop\n",
       "Year                           \n",
       "1955   7,971,931  2,746,072,141\n",
       "1960   8,622,466  3,019,233,434\n",
       "1965   9,565,147  3,337,111,983\n",
       "1970  10,752,971  3,695,390,336\n",
       "1975  12,157,386  4,069,437,231\n",
       "1980  12,486,631  4,444,007,706\n",
       "1985  10,512,221  4,861,730,613\n",
       "1990  10,694,796  5,316,175,862\n",
       "1995  16,418,912  5,743,219,454\n",
       "2000  19,542,982  6,148,898,975\n",
       "2005  24,411,191  6,558,176,119\n",
       "2010  28,189,672  6,985,603,105\n",
       "2015  33,753,499  7,426,597,537\n",
       "2020  38,972,230  7,840,952,880\n",
       "2022  41,128,771  7,975,105,156\n",
       "2023  42,239,854  8,045,311,447"
      ]
     },
     "execution_count": 16,
     "metadata": {},
     "output_type": "execute_result"
    }
   ],
   "source": [
    "#grouping data\n",
    "new = df3.groupby(['Year']).first()\n",
    "new"
   ]
  },
  {
   "cell_type": "code",
   "execution_count": 17,
   "id": "591e3f0a",
   "metadata": {},
   "outputs": [
    {
     "data": {
      "application/vnd.plotly.v1+json": {
       "config": {
        "linkText": "Export to plot.ly",
        "plotlyServerURL": "https://plot.ly",
        "showLink": true
       },
       "data": [
        {
         "line": {
          "color": "rgba(0, 128, 240, 1.0)",
          "dash": "solid",
          "shape": "linear",
          "width": 1.3
         },
         "mode": "lines",
         "name": "Population",
         "text": "",
         "type": "scatter",
         "x": [
          1955,
          1960,
          1965,
          1970,
          1975,
          1980,
          1985,
          1990,
          1995,
          2000,
          2005,
          2010,
          2015,
          2020,
          2022,
          2023
         ],
         "y": [
          "7,971,931",
          "8,622,466",
          "9,565,147",
          "10,752,971",
          "12,157,386",
          "12,486,631",
          "10,512,221",
          "10,694,796",
          "16,418,912",
          "19,542,982",
          "24,411,191",
          "28,189,672",
          "33,753,499",
          "38,972,230",
          "41,128,771",
          "42,239,854"
         ]
        },
        {
         "line": {
          "color": "rgba(238, 118, 0, 1.0)",
          "dash": "solid",
          "shape": "linear",
          "width": 1.3
         },
         "mode": "lines",
         "name": "world pop",
         "text": "",
         "type": "scatter",
         "x": [
          1955,
          1960,
          1965,
          1970,
          1975,
          1980,
          1985,
          1990,
          1995,
          2000,
          2005,
          2010,
          2015,
          2020,
          2022,
          2023
         ],
         "y": [
          "2,746,072,141",
          "3,019,233,434",
          "3,337,111,983",
          "3,695,390,336",
          "4,069,437,231",
          "4,444,007,706",
          "4,861,730,613",
          "5,316,175,862",
          "5,743,219,454",
          "6,148,898,975",
          "6,558,176,119",
          "6,985,603,105",
          "7,426,597,537",
          "7,840,952,880",
          "7,975,105,156",
          "8,045,311,447"
         ]
        }
       ],
       "layout": {
        "legend": {
         "bgcolor": "#F2F3F7",
         "font": {
          "color": "#505050"
         }
        },
        "paper_bgcolor": "#F2F3F7",
        "plot_bgcolor": "#F2F3F7",
        "template": {
         "data": {
          "bar": [
           {
            "error_x": {
             "color": "#2a3f5f"
            },
            "error_y": {
             "color": "#2a3f5f"
            },
            "marker": {
             "line": {
              "color": "#E5ECF6",
              "width": 0.5
             },
             "pattern": {
              "fillmode": "overlay",
              "size": 10,
              "solidity": 0.2
             }
            },
            "type": "bar"
           }
          ],
          "barpolar": [
           {
            "marker": {
             "line": {
              "color": "#E5ECF6",
              "width": 0.5
             },
             "pattern": {
              "fillmode": "overlay",
              "size": 10,
              "solidity": 0.2
             }
            },
            "type": "barpolar"
           }
          ],
          "carpet": [
           {
            "aaxis": {
             "endlinecolor": "#2a3f5f",
             "gridcolor": "white",
             "linecolor": "white",
             "minorgridcolor": "white",
             "startlinecolor": "#2a3f5f"
            },
            "baxis": {
             "endlinecolor": "#2a3f5f",
             "gridcolor": "white",
             "linecolor": "white",
             "minorgridcolor": "white",
             "startlinecolor": "#2a3f5f"
            },
            "type": "carpet"
           }
          ],
          "choropleth": [
           {
            "colorbar": {
             "outlinewidth": 0,
             "ticks": ""
            },
            "type": "choropleth"
           }
          ],
          "contour": [
           {
            "colorbar": {
             "outlinewidth": 0,
             "ticks": ""
            },
            "colorscale": [
             [
              0,
              "#0d0887"
             ],
             [
              0.1111111111111111,
              "#46039f"
             ],
             [
              0.2222222222222222,
              "#7201a8"
             ],
             [
              0.3333333333333333,
              "#9c179e"
             ],
             [
              0.4444444444444444,
              "#bd3786"
             ],
             [
              0.5555555555555556,
              "#d8576b"
             ],
             [
              0.6666666666666666,
              "#ed7953"
             ],
             [
              0.7777777777777778,
              "#fb9f3a"
             ],
             [
              0.8888888888888888,
              "#fdca26"
             ],
             [
              1,
              "#f0f921"
             ]
            ],
            "type": "contour"
           }
          ],
          "contourcarpet": [
           {
            "colorbar": {
             "outlinewidth": 0,
             "ticks": ""
            },
            "type": "contourcarpet"
           }
          ],
          "heatmap": [
           {
            "colorbar": {
             "outlinewidth": 0,
             "ticks": ""
            },
            "colorscale": [
             [
              0,
              "#0d0887"
             ],
             [
              0.1111111111111111,
              "#46039f"
             ],
             [
              0.2222222222222222,
              "#7201a8"
             ],
             [
              0.3333333333333333,
              "#9c179e"
             ],
             [
              0.4444444444444444,
              "#bd3786"
             ],
             [
              0.5555555555555556,
              "#d8576b"
             ],
             [
              0.6666666666666666,
              "#ed7953"
             ],
             [
              0.7777777777777778,
              "#fb9f3a"
             ],
             [
              0.8888888888888888,
              "#fdca26"
             ],
             [
              1,
              "#f0f921"
             ]
            ],
            "type": "heatmap"
           }
          ],
          "heatmapgl": [
           {
            "colorbar": {
             "outlinewidth": 0,
             "ticks": ""
            },
            "colorscale": [
             [
              0,
              "#0d0887"
             ],
             [
              0.1111111111111111,
              "#46039f"
             ],
             [
              0.2222222222222222,
              "#7201a8"
             ],
             [
              0.3333333333333333,
              "#9c179e"
             ],
             [
              0.4444444444444444,
              "#bd3786"
             ],
             [
              0.5555555555555556,
              "#d8576b"
             ],
             [
              0.6666666666666666,
              "#ed7953"
             ],
             [
              0.7777777777777778,
              "#fb9f3a"
             ],
             [
              0.8888888888888888,
              "#fdca26"
             ],
             [
              1,
              "#f0f921"
             ]
            ],
            "type": "heatmapgl"
           }
          ],
          "histogram": [
           {
            "marker": {
             "pattern": {
              "fillmode": "overlay",
              "size": 10,
              "solidity": 0.2
             }
            },
            "type": "histogram"
           }
          ],
          "histogram2d": [
           {
            "colorbar": {
             "outlinewidth": 0,
             "ticks": ""
            },
            "colorscale": [
             [
              0,
              "#0d0887"
             ],
             [
              0.1111111111111111,
              "#46039f"
             ],
             [
              0.2222222222222222,
              "#7201a8"
             ],
             [
              0.3333333333333333,
              "#9c179e"
             ],
             [
              0.4444444444444444,
              "#bd3786"
             ],
             [
              0.5555555555555556,
              "#d8576b"
             ],
             [
              0.6666666666666666,
              "#ed7953"
             ],
             [
              0.7777777777777778,
              "#fb9f3a"
             ],
             [
              0.8888888888888888,
              "#fdca26"
             ],
             [
              1,
              "#f0f921"
             ]
            ],
            "type": "histogram2d"
           }
          ],
          "histogram2dcontour": [
           {
            "colorbar": {
             "outlinewidth": 0,
             "ticks": ""
            },
            "colorscale": [
             [
              0,
              "#0d0887"
             ],
             [
              0.1111111111111111,
              "#46039f"
             ],
             [
              0.2222222222222222,
              "#7201a8"
             ],
             [
              0.3333333333333333,
              "#9c179e"
             ],
             [
              0.4444444444444444,
              "#bd3786"
             ],
             [
              0.5555555555555556,
              "#d8576b"
             ],
             [
              0.6666666666666666,
              "#ed7953"
             ],
             [
              0.7777777777777778,
              "#fb9f3a"
             ],
             [
              0.8888888888888888,
              "#fdca26"
             ],
             [
              1,
              "#f0f921"
             ]
            ],
            "type": "histogram2dcontour"
           }
          ],
          "mesh3d": [
           {
            "colorbar": {
             "outlinewidth": 0,
             "ticks": ""
            },
            "type": "mesh3d"
           }
          ],
          "parcoords": [
           {
            "line": {
             "colorbar": {
              "outlinewidth": 0,
              "ticks": ""
             }
            },
            "type": "parcoords"
           }
          ],
          "pie": [
           {
            "automargin": true,
            "type": "pie"
           }
          ],
          "scatter": [
           {
            "fillpattern": {
             "fillmode": "overlay",
             "size": 10,
             "solidity": 0.2
            },
            "type": "scatter"
           }
          ],
          "scatter3d": [
           {
            "line": {
             "colorbar": {
              "outlinewidth": 0,
              "ticks": ""
             }
            },
            "marker": {
             "colorbar": {
              "outlinewidth": 0,
              "ticks": ""
             }
            },
            "type": "scatter3d"
           }
          ],
          "scattercarpet": [
           {
            "marker": {
             "colorbar": {
              "outlinewidth": 0,
              "ticks": ""
             }
            },
            "type": "scattercarpet"
           }
          ],
          "scattergeo": [
           {
            "marker": {
             "colorbar": {
              "outlinewidth": 0,
              "ticks": ""
             }
            },
            "type": "scattergeo"
           }
          ],
          "scattergl": [
           {
            "marker": {
             "colorbar": {
              "outlinewidth": 0,
              "ticks": ""
             }
            },
            "type": "scattergl"
           }
          ],
          "scattermapbox": [
           {
            "marker": {
             "colorbar": {
              "outlinewidth": 0,
              "ticks": ""
             }
            },
            "type": "scattermapbox"
           }
          ],
          "scatterpolar": [
           {
            "marker": {
             "colorbar": {
              "outlinewidth": 0,
              "ticks": ""
             }
            },
            "type": "scatterpolar"
           }
          ],
          "scatterpolargl": [
           {
            "marker": {
             "colorbar": {
              "outlinewidth": 0,
              "ticks": ""
             }
            },
            "type": "scatterpolargl"
           }
          ],
          "scatterternary": [
           {
            "marker": {
             "colorbar": {
              "outlinewidth": 0,
              "ticks": ""
             }
            },
            "type": "scatterternary"
           }
          ],
          "surface": [
           {
            "colorbar": {
             "outlinewidth": 0,
             "ticks": ""
            },
            "colorscale": [
             [
              0,
              "#0d0887"
             ],
             [
              0.1111111111111111,
              "#46039f"
             ],
             [
              0.2222222222222222,
              "#7201a8"
             ],
             [
              0.3333333333333333,
              "#9c179e"
             ],
             [
              0.4444444444444444,
              "#bd3786"
             ],
             [
              0.5555555555555556,
              "#d8576b"
             ],
             [
              0.6666666666666666,
              "#ed7953"
             ],
             [
              0.7777777777777778,
              "#fb9f3a"
             ],
             [
              0.8888888888888888,
              "#fdca26"
             ],
             [
              1,
              "#f0f921"
             ]
            ],
            "type": "surface"
           }
          ],
          "table": [
           {
            "cells": {
             "fill": {
              "color": "#EBF0F8"
             },
             "line": {
              "color": "white"
             }
            },
            "header": {
             "fill": {
              "color": "#C8D4E3"
             },
             "line": {
              "color": "white"
             }
            },
            "type": "table"
           }
          ]
         },
         "layout": {
          "annotationdefaults": {
           "arrowcolor": "#2a3f5f",
           "arrowhead": 0,
           "arrowwidth": 1
          },
          "autotypenumbers": "strict",
          "coloraxis": {
           "colorbar": {
            "outlinewidth": 0,
            "ticks": ""
           }
          },
          "colorscale": {
           "diverging": [
            [
             0,
             "#8e0152"
            ],
            [
             0.1,
             "#c51b7d"
            ],
            [
             0.2,
             "#de77ae"
            ],
            [
             0.3,
             "#f1b6da"
            ],
            [
             0.4,
             "#fde0ef"
            ],
            [
             0.5,
             "#f7f7f7"
            ],
            [
             0.6,
             "#e6f5d0"
            ],
            [
             0.7,
             "#b8e186"
            ],
            [
             0.8,
             "#7fbc41"
            ],
            [
             0.9,
             "#4d9221"
            ],
            [
             1,
             "#276419"
            ]
           ],
           "sequential": [
            [
             0,
             "#0d0887"
            ],
            [
             0.1111111111111111,
             "#46039f"
            ],
            [
             0.2222222222222222,
             "#7201a8"
            ],
            [
             0.3333333333333333,
             "#9c179e"
            ],
            [
             0.4444444444444444,
             "#bd3786"
            ],
            [
             0.5555555555555556,
             "#d8576b"
            ],
            [
             0.6666666666666666,
             "#ed7953"
            ],
            [
             0.7777777777777778,
             "#fb9f3a"
            ],
            [
             0.8888888888888888,
             "#fdca26"
            ],
            [
             1,
             "#f0f921"
            ]
           ],
           "sequentialminus": [
            [
             0,
             "#0d0887"
            ],
            [
             0.1111111111111111,
             "#46039f"
            ],
            [
             0.2222222222222222,
             "#7201a8"
            ],
            [
             0.3333333333333333,
             "#9c179e"
            ],
            [
             0.4444444444444444,
             "#bd3786"
            ],
            [
             0.5555555555555556,
             "#d8576b"
            ],
            [
             0.6666666666666666,
             "#ed7953"
            ],
            [
             0.7777777777777778,
             "#fb9f3a"
            ],
            [
             0.8888888888888888,
             "#fdca26"
            ],
            [
             1,
             "#f0f921"
            ]
           ]
          },
          "colorway": [
           "#636efa",
           "#EF553B",
           "#00cc96",
           "#ab63fa",
           "#FFA15A",
           "#19d3f3",
           "#FF6692",
           "#B6E880",
           "#FF97FF",
           "#FECB52"
          ],
          "font": {
           "color": "#2a3f5f"
          },
          "geo": {
           "bgcolor": "white",
           "lakecolor": "white",
           "landcolor": "#E5ECF6",
           "showlakes": true,
           "showland": true,
           "subunitcolor": "white"
          },
          "hoverlabel": {
           "align": "left"
          },
          "hovermode": "closest",
          "mapbox": {
           "style": "light"
          },
          "paper_bgcolor": "white",
          "plot_bgcolor": "#E5ECF6",
          "polar": {
           "angularaxis": {
            "gridcolor": "white",
            "linecolor": "white",
            "ticks": ""
           },
           "bgcolor": "#E5ECF6",
           "radialaxis": {
            "gridcolor": "white",
            "linecolor": "white",
            "ticks": ""
           }
          },
          "scene": {
           "xaxis": {
            "backgroundcolor": "#E5ECF6",
            "gridcolor": "white",
            "gridwidth": 2,
            "linecolor": "white",
            "showbackground": true,
            "ticks": "",
            "zerolinecolor": "white"
           },
           "yaxis": {
            "backgroundcolor": "#E5ECF6",
            "gridcolor": "white",
            "gridwidth": 2,
            "linecolor": "white",
            "showbackground": true,
            "ticks": "",
            "zerolinecolor": "white"
           },
           "zaxis": {
            "backgroundcolor": "#E5ECF6",
            "gridcolor": "white",
            "gridwidth": 2,
            "linecolor": "white",
            "showbackground": true,
            "ticks": "",
            "zerolinecolor": "white"
           }
          },
          "shapedefaults": {
           "line": {
            "color": "#2a3f5f"
           }
          },
          "ternary": {
           "aaxis": {
            "gridcolor": "white",
            "linecolor": "white",
            "ticks": ""
           },
           "baxis": {
            "gridcolor": "white",
            "linecolor": "white",
            "ticks": ""
           },
           "bgcolor": "#E5ECF6",
           "caxis": {
            "gridcolor": "white",
            "linecolor": "white",
            "ticks": ""
           }
          },
          "title": {
           "x": 0.05
          },
          "xaxis": {
           "automargin": true,
           "gridcolor": "white",
           "linecolor": "white",
           "ticks": "",
           "title": {
            "standoff": 15
           },
           "zerolinecolor": "white",
           "zerolinewidth": 2
          },
          "yaxis": {
           "automargin": true,
           "gridcolor": "white",
           "linecolor": "white",
           "ticks": "",
           "title": {
            "standoff": 15
           },
           "zerolinecolor": "white",
           "zerolinewidth": 2
          }
         }
        },
        "title": {
         "font": {
          "color": "#484848"
         },
         "text": "World and country population growth (1995-2020)"
        },
        "xaxis": {
         "gridcolor": "#E1E5ED",
         "showgrid": true,
         "tickfont": {
          "color": "#505050"
         },
         "title": {
          "font": {
           "color": "#505050"
          },
          "text": "Years"
         },
         "zerolinecolor": "#E1E5ED"
        },
        "yaxis": {
         "gridcolor": "#E1E5ED",
         "showgrid": true,
         "tickfont": {
          "color": "#505050"
         },
         "title": {
          "font": {
           "color": "#505050"
          },
          "text": "Population"
         },
         "zerolinecolor": "#E1E5ED"
        }
       }
      },
      "text/html": [
       "<div>                            <div id=\"fdc17efa-f0e3-42d5-b0f8-b93a4031f570\" class=\"plotly-graph-div\" style=\"height:525px; width:100%;\"></div>            <script type=\"text/javascript\">                require([\"plotly\"], function(Plotly) {                    window.PLOTLYENV=window.PLOTLYENV || {};\n",
       "                    window.PLOTLYENV.BASE_URL='https://plot.ly';                                    if (document.getElementById(\"fdc17efa-f0e3-42d5-b0f8-b93a4031f570\")) {                    Plotly.newPlot(                        \"fdc17efa-f0e3-42d5-b0f8-b93a4031f570\",                        [{\"line\":{\"color\":\"rgba(0, 128, 240, 1.0)\",\"dash\":\"solid\",\"shape\":\"linear\",\"width\":1.3},\"mode\":\"lines\",\"name\":\"Population\",\"text\":\"\",\"x\":[1955,1960,1965,1970,1975,1980,1985,1990,1995,2000,2005,2010,2015,2020,2022,2023],\"y\":[\"7,971,931\",\"8,622,466\",\"9,565,147\",\"10,752,971\",\"12,157,386\",\"12,486,631\",\"10,512,221\",\"10,694,796\",\"16,418,912\",\"19,542,982\",\"24,411,191\",\"28,189,672\",\"33,753,499\",\"38,972,230\",\"41,128,771\",\"42,239,854\"],\"type\":\"scatter\"},{\"line\":{\"color\":\"rgba(238, 118, 0, 1.0)\",\"dash\":\"solid\",\"shape\":\"linear\",\"width\":1.3},\"mode\":\"lines\",\"name\":\"world pop\",\"text\":\"\",\"x\":[1955,1960,1965,1970,1975,1980,1985,1990,1995,2000,2005,2010,2015,2020,2022,2023],\"y\":[\"2,746,072,141\",\"3,019,233,434\",\"3,337,111,983\",\"3,695,390,336\",\"4,069,437,231\",\"4,444,007,706\",\"4,861,730,613\",\"5,316,175,862\",\"5,743,219,454\",\"6,148,898,975\",\"6,558,176,119\",\"6,985,603,105\",\"7,426,597,537\",\"7,840,952,880\",\"7,975,105,156\",\"8,045,311,447\"],\"type\":\"scatter\"}],                        {\"legend\":{\"bgcolor\":\"#F2F3F7\",\"font\":{\"color\":\"#505050\"}},\"paper_bgcolor\":\"#F2F3F7\",\"plot_bgcolor\":\"#F2F3F7\",\"template\":{\"data\":{\"barpolar\":[{\"marker\":{\"line\":{\"color\":\"#E5ECF6\",\"width\":0.5},\"pattern\":{\"fillmode\":\"overlay\",\"size\":10,\"solidity\":0.2}},\"type\":\"barpolar\"}],\"bar\":[{\"error_x\":{\"color\":\"#2a3f5f\"},\"error_y\":{\"color\":\"#2a3f5f\"},\"marker\":{\"line\":{\"color\":\"#E5ECF6\",\"width\":0.5},\"pattern\":{\"fillmode\":\"overlay\",\"size\":10,\"solidity\":0.2}},\"type\":\"bar\"}],\"carpet\":[{\"aaxis\":{\"endlinecolor\":\"#2a3f5f\",\"gridcolor\":\"white\",\"linecolor\":\"white\",\"minorgridcolor\":\"white\",\"startlinecolor\":\"#2a3f5f\"},\"baxis\":{\"endlinecolor\":\"#2a3f5f\",\"gridcolor\":\"white\",\"linecolor\":\"white\",\"minorgridcolor\":\"white\",\"startlinecolor\":\"#2a3f5f\"},\"type\":\"carpet\"}],\"choropleth\":[{\"colorbar\":{\"outlinewidth\":0,\"ticks\":\"\"},\"type\":\"choropleth\"}],\"contourcarpet\":[{\"colorbar\":{\"outlinewidth\":0,\"ticks\":\"\"},\"type\":\"contourcarpet\"}],\"contour\":[{\"colorbar\":{\"outlinewidth\":0,\"ticks\":\"\"},\"colorscale\":[[0.0,\"#0d0887\"],[0.1111111111111111,\"#46039f\"],[0.2222222222222222,\"#7201a8\"],[0.3333333333333333,\"#9c179e\"],[0.4444444444444444,\"#bd3786\"],[0.5555555555555556,\"#d8576b\"],[0.6666666666666666,\"#ed7953\"],[0.7777777777777778,\"#fb9f3a\"],[0.8888888888888888,\"#fdca26\"],[1.0,\"#f0f921\"]],\"type\":\"contour\"}],\"heatmapgl\":[{\"colorbar\":{\"outlinewidth\":0,\"ticks\":\"\"},\"colorscale\":[[0.0,\"#0d0887\"],[0.1111111111111111,\"#46039f\"],[0.2222222222222222,\"#7201a8\"],[0.3333333333333333,\"#9c179e\"],[0.4444444444444444,\"#bd3786\"],[0.5555555555555556,\"#d8576b\"],[0.6666666666666666,\"#ed7953\"],[0.7777777777777778,\"#fb9f3a\"],[0.8888888888888888,\"#fdca26\"],[1.0,\"#f0f921\"]],\"type\":\"heatmapgl\"}],\"heatmap\":[{\"colorbar\":{\"outlinewidth\":0,\"ticks\":\"\"},\"colorscale\":[[0.0,\"#0d0887\"],[0.1111111111111111,\"#46039f\"],[0.2222222222222222,\"#7201a8\"],[0.3333333333333333,\"#9c179e\"],[0.4444444444444444,\"#bd3786\"],[0.5555555555555556,\"#d8576b\"],[0.6666666666666666,\"#ed7953\"],[0.7777777777777778,\"#fb9f3a\"],[0.8888888888888888,\"#fdca26\"],[1.0,\"#f0f921\"]],\"type\":\"heatmap\"}],\"histogram2dcontour\":[{\"colorbar\":{\"outlinewidth\":0,\"ticks\":\"\"},\"colorscale\":[[0.0,\"#0d0887\"],[0.1111111111111111,\"#46039f\"],[0.2222222222222222,\"#7201a8\"],[0.3333333333333333,\"#9c179e\"],[0.4444444444444444,\"#bd3786\"],[0.5555555555555556,\"#d8576b\"],[0.6666666666666666,\"#ed7953\"],[0.7777777777777778,\"#fb9f3a\"],[0.8888888888888888,\"#fdca26\"],[1.0,\"#f0f921\"]],\"type\":\"histogram2dcontour\"}],\"histogram2d\":[{\"colorbar\":{\"outlinewidth\":0,\"ticks\":\"\"},\"colorscale\":[[0.0,\"#0d0887\"],[0.1111111111111111,\"#46039f\"],[0.2222222222222222,\"#7201a8\"],[0.3333333333333333,\"#9c179e\"],[0.4444444444444444,\"#bd3786\"],[0.5555555555555556,\"#d8576b\"],[0.6666666666666666,\"#ed7953\"],[0.7777777777777778,\"#fb9f3a\"],[0.8888888888888888,\"#fdca26\"],[1.0,\"#f0f921\"]],\"type\":\"histogram2d\"}],\"histogram\":[{\"marker\":{\"pattern\":{\"fillmode\":\"overlay\",\"size\":10,\"solidity\":0.2}},\"type\":\"histogram\"}],\"mesh3d\":[{\"colorbar\":{\"outlinewidth\":0,\"ticks\":\"\"},\"type\":\"mesh3d\"}],\"parcoords\":[{\"line\":{\"colorbar\":{\"outlinewidth\":0,\"ticks\":\"\"}},\"type\":\"parcoords\"}],\"pie\":[{\"automargin\":true,\"type\":\"pie\"}],\"scatter3d\":[{\"line\":{\"colorbar\":{\"outlinewidth\":0,\"ticks\":\"\"}},\"marker\":{\"colorbar\":{\"outlinewidth\":0,\"ticks\":\"\"}},\"type\":\"scatter3d\"}],\"scattercarpet\":[{\"marker\":{\"colorbar\":{\"outlinewidth\":0,\"ticks\":\"\"}},\"type\":\"scattercarpet\"}],\"scattergeo\":[{\"marker\":{\"colorbar\":{\"outlinewidth\":0,\"ticks\":\"\"}},\"type\":\"scattergeo\"}],\"scattergl\":[{\"marker\":{\"colorbar\":{\"outlinewidth\":0,\"ticks\":\"\"}},\"type\":\"scattergl\"}],\"scattermapbox\":[{\"marker\":{\"colorbar\":{\"outlinewidth\":0,\"ticks\":\"\"}},\"type\":\"scattermapbox\"}],\"scatterpolargl\":[{\"marker\":{\"colorbar\":{\"outlinewidth\":0,\"ticks\":\"\"}},\"type\":\"scatterpolargl\"}],\"scatterpolar\":[{\"marker\":{\"colorbar\":{\"outlinewidth\":0,\"ticks\":\"\"}},\"type\":\"scatterpolar\"}],\"scatter\":[{\"fillpattern\":{\"fillmode\":\"overlay\",\"size\":10,\"solidity\":0.2},\"type\":\"scatter\"}],\"scatterternary\":[{\"marker\":{\"colorbar\":{\"outlinewidth\":0,\"ticks\":\"\"}},\"type\":\"scatterternary\"}],\"surface\":[{\"colorbar\":{\"outlinewidth\":0,\"ticks\":\"\"},\"colorscale\":[[0.0,\"#0d0887\"],[0.1111111111111111,\"#46039f\"],[0.2222222222222222,\"#7201a8\"],[0.3333333333333333,\"#9c179e\"],[0.4444444444444444,\"#bd3786\"],[0.5555555555555556,\"#d8576b\"],[0.6666666666666666,\"#ed7953\"],[0.7777777777777778,\"#fb9f3a\"],[0.8888888888888888,\"#fdca26\"],[1.0,\"#f0f921\"]],\"type\":\"surface\"}],\"table\":[{\"cells\":{\"fill\":{\"color\":\"#EBF0F8\"},\"line\":{\"color\":\"white\"}},\"header\":{\"fill\":{\"color\":\"#C8D4E3\"},\"line\":{\"color\":\"white\"}},\"type\":\"table\"}]},\"layout\":{\"annotationdefaults\":{\"arrowcolor\":\"#2a3f5f\",\"arrowhead\":0,\"arrowwidth\":1},\"autotypenumbers\":\"strict\",\"coloraxis\":{\"colorbar\":{\"outlinewidth\":0,\"ticks\":\"\"}},\"colorscale\":{\"diverging\":[[0,\"#8e0152\"],[0.1,\"#c51b7d\"],[0.2,\"#de77ae\"],[0.3,\"#f1b6da\"],[0.4,\"#fde0ef\"],[0.5,\"#f7f7f7\"],[0.6,\"#e6f5d0\"],[0.7,\"#b8e186\"],[0.8,\"#7fbc41\"],[0.9,\"#4d9221\"],[1,\"#276419\"]],\"sequential\":[[0.0,\"#0d0887\"],[0.1111111111111111,\"#46039f\"],[0.2222222222222222,\"#7201a8\"],[0.3333333333333333,\"#9c179e\"],[0.4444444444444444,\"#bd3786\"],[0.5555555555555556,\"#d8576b\"],[0.6666666666666666,\"#ed7953\"],[0.7777777777777778,\"#fb9f3a\"],[0.8888888888888888,\"#fdca26\"],[1.0,\"#f0f921\"]],\"sequentialminus\":[[0.0,\"#0d0887\"],[0.1111111111111111,\"#46039f\"],[0.2222222222222222,\"#7201a8\"],[0.3333333333333333,\"#9c179e\"],[0.4444444444444444,\"#bd3786\"],[0.5555555555555556,\"#d8576b\"],[0.6666666666666666,\"#ed7953\"],[0.7777777777777778,\"#fb9f3a\"],[0.8888888888888888,\"#fdca26\"],[1.0,\"#f0f921\"]]},\"colorway\":[\"#636efa\",\"#EF553B\",\"#00cc96\",\"#ab63fa\",\"#FFA15A\",\"#19d3f3\",\"#FF6692\",\"#B6E880\",\"#FF97FF\",\"#FECB52\"],\"font\":{\"color\":\"#2a3f5f\"},\"geo\":{\"bgcolor\":\"white\",\"lakecolor\":\"white\",\"landcolor\":\"#E5ECF6\",\"showlakes\":true,\"showland\":true,\"subunitcolor\":\"white\"},\"hoverlabel\":{\"align\":\"left\"},\"hovermode\":\"closest\",\"mapbox\":{\"style\":\"light\"},\"paper_bgcolor\":\"white\",\"plot_bgcolor\":\"#E5ECF6\",\"polar\":{\"angularaxis\":{\"gridcolor\":\"white\",\"linecolor\":\"white\",\"ticks\":\"\"},\"bgcolor\":\"#E5ECF6\",\"radialaxis\":{\"gridcolor\":\"white\",\"linecolor\":\"white\",\"ticks\":\"\"}},\"scene\":{\"xaxis\":{\"backgroundcolor\":\"#E5ECF6\",\"gridcolor\":\"white\",\"gridwidth\":2,\"linecolor\":\"white\",\"showbackground\":true,\"ticks\":\"\",\"zerolinecolor\":\"white\"},\"yaxis\":{\"backgroundcolor\":\"#E5ECF6\",\"gridcolor\":\"white\",\"gridwidth\":2,\"linecolor\":\"white\",\"showbackground\":true,\"ticks\":\"\",\"zerolinecolor\":\"white\"},\"zaxis\":{\"backgroundcolor\":\"#E5ECF6\",\"gridcolor\":\"white\",\"gridwidth\":2,\"linecolor\":\"white\",\"showbackground\":true,\"ticks\":\"\",\"zerolinecolor\":\"white\"}},\"shapedefaults\":{\"line\":{\"color\":\"#2a3f5f\"}},\"ternary\":{\"aaxis\":{\"gridcolor\":\"white\",\"linecolor\":\"white\",\"ticks\":\"\"},\"baxis\":{\"gridcolor\":\"white\",\"linecolor\":\"white\",\"ticks\":\"\"},\"bgcolor\":\"#E5ECF6\",\"caxis\":{\"gridcolor\":\"white\",\"linecolor\":\"white\",\"ticks\":\"\"}},\"title\":{\"x\":0.05},\"xaxis\":{\"automargin\":true,\"gridcolor\":\"white\",\"linecolor\":\"white\",\"ticks\":\"\",\"title\":{\"standoff\":15},\"zerolinecolor\":\"white\",\"zerolinewidth\":2},\"yaxis\":{\"automargin\":true,\"gridcolor\":\"white\",\"linecolor\":\"white\",\"ticks\":\"\",\"title\":{\"standoff\":15},\"zerolinecolor\":\"white\",\"zerolinewidth\":2}}},\"title\":{\"font\":{\"color\":\"#484848\"},\"text\":\"World and country population growth (1995-2020)\"},\"xaxis\":{\"gridcolor\":\"#E1E5ED\",\"showgrid\":true,\"tickfont\":{\"color\":\"#505050\"},\"title\":{\"font\":{\"color\":\"#505050\"},\"text\":\"Years\"},\"zerolinecolor\":\"#E1E5ED\"},\"yaxis\":{\"gridcolor\":\"#E1E5ED\",\"showgrid\":true,\"tickfont\":{\"color\":\"#505050\"},\"title\":{\"font\":{\"color\":\"#505050\"},\"text\":\"Population\"},\"zerolinecolor\":\"#E1E5ED\"}},                        {\"showLink\": true, \"linkText\": \"Export to plot.ly\", \"plotlyServerURL\": \"https://plot.ly\", \"responsive\": true}                    ).then(function(){\n",
       "                            \n",
       "var gd = document.getElementById('fdc17efa-f0e3-42d5-b0f8-b93a4031f570');\n",
       "var x = new MutationObserver(function (mutations, observer) {{\n",
       "        var display = window.getComputedStyle(gd).display;\n",
       "        if (!display || display === 'none') {{\n",
       "            console.log([gd, 'removed!']);\n",
       "            Plotly.purge(gd);\n",
       "            observer.disconnect();\n",
       "        }}\n",
       "}});\n",
       "\n",
       "// Listen for the removal of the full notebook cells\n",
       "var notebookContainer = gd.closest('#notebook-container');\n",
       "if (notebookContainer) {{\n",
       "    x.observe(notebookContainer, {childList: true});\n",
       "}}\n",
       "\n",
       "// Listen for the clearing of the current output cell\n",
       "var outputEl = gd.closest('.output');\n",
       "if (outputEl) {{\n",
       "    x.observe(outputEl, {childList: true});\n",
       "}}\n",
       "\n",
       "                        })                };                });            </script>        </div>"
      ]
     },
     "metadata": {},
     "output_type": "display_data"
    }
   ],
   "source": [
    "#World and country population growth trend over time\n",
    "new.iplot(kind='line',theme='polar',xTitle='Years',yTitle='Population',title='World and country population growth (1995-2020)')"
   ]
  },
  {
   "cell_type": "code",
   "execution_count": null,
   "id": "ab36237e",
   "metadata": {},
   "outputs": [],
   "source": []
  }
 ],
 "metadata": {
  "kernelspec": {
   "display_name": "Python 3 (ipykernel)",
   "language": "python",
   "name": "python3"
  },
  "language_info": {
   "codemirror_mode": {
    "name": "ipython",
    "version": 3
   },
   "file_extension": ".py",
   "mimetype": "text/x-python",
   "name": "python",
   "nbconvert_exporter": "python",
   "pygments_lexer": "ipython3",
   "version": "3.11.4"
  }
 },
 "nbformat": 4,
 "nbformat_minor": 5
}
