{
  "cells": [
    {
      "cell_type": "markdown",
      "metadata": {
        "id": "O5Uf_UTcyAyN"
      },
      "source": [
        "# Q1. Web Data Extraction and CSV Handling\n"
      ]
    },
    {
      "cell_type": "code",
      "execution_count": null,
      "metadata": {
        "id": "DPH2QwLiyNRj"
      },
      "outputs": [],
      "source": [
        "#import the necessary library\n",
        "from bs4 import BeautifulSoup\n",
        "import pandas as pd\n",
        "import requests"
      ]
    },
    {
      "cell_type": "code",
      "execution_count": null,
      "metadata": {
        "id": "5zJPmdGQOSWT"
      },
      "outputs": [],
      "source": [
        "#list for all item\n",
        "Book_name = []\n",
        "Author = []\n",
        "Price = []\n",
        "Language = []\n",
        "Release_date = []"
      ]
    },
    {
      "cell_type": "code",
      "execution_count": null,
      "metadata": {
        "id": "jsZ1tWLgN7Da"
      },
      "outputs": [],
      "source": [
        "# loop for iterating all the pages\n",
        "for page_number in range(1,6):\n",
        "    #accessing the url\n",
        "    URL = requests.get(f\"https://www.audible.co.uk/adblbestsellers?page={page_number}&ref=a_adblbests_c5_pageNum_1&pf_rd_p=936af2d3-3c4b-4217-a77c-041f7ca03d0d&pf_rd_r=JRAMJP3YVHQJWPD8XKZF&pageLoadId=xAYvs7LdI5IImGqD&creativeId=fbe07a73-2419-424c-95a9-e8bddfb7bff6\")\n",
        "    #Accessing the html text\n",
        "    soup= BeautifulSoup(URL.text,\"lxml\")\n",
        "\n",
        "    books = soup.find_all('li',class_='bc-list-item productListItem')# fetching all the books each page\n",
        "\n",
        "    # loop for iterating all books and extracting the info\n",
        "    for book in books:\n",
        "        BN = book.find('li',class_='bc-list-item').text\n",
        "        Book_name.append(BN)\n",
        "\n",
        "        AN = book.find('li',class_='bc-list-item authorLabel')\n",
        "        At = AN.find('a',class_='bc-link bc-color-link').text #fetching author name\n",
        "        Author.append(At)\n",
        "\n",
        "        RD = book.find('li',class_='bc-list-item releaseDateLabel').text #fetching release date\n",
        "        rd_sp = str(RD).split(':')\n",
        "        Release_date.append(rd_sp[1].strip())\n",
        "\n",
        "        Lan = book.find('li',class_='bc-list-item languageLabel').text #fetching writting language\n",
        "        Lan_sp = str(Lan).split(':')\n",
        "        Language.append(Lan_sp[1].strip())\n",
        "\n",
        "        pr = book.find('p',class_='bc-text buybox-regular-price bc-spacing-none bc-spacing-top-none').text #fetching price\n",
        "        pr_sp = str(pr).strip()\n",
        "        pri = pr_sp.split(' ')\n",
        "        Price.append(pri[14])\n",
        "\n",
        "\n"
      ]
    },
    {
      "cell_type": "code",
      "execution_count": null,
      "metadata": {
        "colab": {
          "base_uri": "https://localhost:8080/",
          "height": 424
        },
        "id": "_fJYcUa_N7Gz",
        "outputId": "1c8650a0-9a6c-47cb-e61d-8fab02f3c2af"
      },
      "outputs": [
        {
          "data": {
            "text/html": [
              "\n",
              "  <div id=\"df-8608fbf1-c0da-4d08-9bb3-f9e7870773b8\" class=\"colab-df-container\">\n",
              "    <div>\n",
              "<style scoped>\n",
              "    .dataframe tbody tr th:only-of-type {\n",
              "        vertical-align: middle;\n",
              "    }\n",
              "\n",
              "    .dataframe tbody tr th {\n",
              "        vertical-align: top;\n",
              "    }\n",
              "\n",
              "    .dataframe thead th {\n",
              "        text-align: right;\n",
              "    }\n",
              "</style>\n",
              "<table border=\"1\" class=\"dataframe\">\n",
              "  <thead>\n",
              "    <tr style=\"text-align: right;\">\n",
              "      <th></th>\n",
              "      <th>Book name</th>\n",
              "      <th>Author</th>\n",
              "      <th>Price</th>\n",
              "      <th>Language</th>\n",
              "      <th>Release date</th>\n",
              "    </tr>\n",
              "  </thead>\n",
              "  <tbody>\n",
              "    <tr>\n",
              "      <th>0</th>\n",
              "      <td>\\nNone of This Is True\\n</td>\n",
              "      <td>Lisa Jewell</td>\n",
              "      <td>£31.99\\n</td>\n",
              "      <td>English</td>\n",
              "      <td>20-07-23</td>\n",
              "    </tr>\n",
              "    <tr>\n",
              "      <th>1</th>\n",
              "      <td>\\nAtomic Habits\\n</td>\n",
              "      <td>James Clear</td>\n",
              "      <td>£10.99\\n</td>\n",
              "      <td>English</td>\n",
              "      <td>18-10-18</td>\n",
              "    </tr>\n",
              "    <tr>\n",
              "      <th>2</th>\n",
              "      <td>\\nHarry Potter and the Philosopher's Stone, Bo...</td>\n",
              "      <td>J.K. Rowling</td>\n",
              "      <td>£17.99\\n</td>\n",
              "      <td>English</td>\n",
              "      <td>20-11-15</td>\n",
              "    </tr>\n",
              "    <tr>\n",
              "      <th>3</th>\n",
              "      <td>\\n$100M Leads\\n</td>\n",
              "      <td>Alex Hormozi</td>\n",
              "      <td>£18.29\\n</td>\n",
              "      <td>English</td>\n",
              "      <td>20-08-23</td>\n",
              "    </tr>\n",
              "    <tr>\n",
              "      <th>4</th>\n",
              "      <td>\\nMythos\\n</td>\n",
              "      <td>Stephen Fry</td>\n",
              "      <td>£16.99\\n</td>\n",
              "      <td>English</td>\n",
              "      <td>02-11-17</td>\n",
              "    </tr>\n",
              "    <tr>\n",
              "      <th>...</th>\n",
              "      <td>...</td>\n",
              "      <td>...</td>\n",
              "      <td>...</td>\n",
              "      <td>...</td>\n",
              "      <td>...</td>\n",
              "    </tr>\n",
              "    <tr>\n",
              "      <th>95</th>\n",
              "      <td>\\nNever Split the Difference\\n</td>\n",
              "      <td>Chris Voss</td>\n",
              "      <td>£13.99\\n</td>\n",
              "      <td>English</td>\n",
              "      <td>20-06-19</td>\n",
              "    </tr>\n",
              "    <tr>\n",
              "      <th>96</th>\n",
              "      <td>\\nThe Primal Hunter 6\\n</td>\n",
              "      <td>Zogarth</td>\n",
              "      <td>£27.49\\n</td>\n",
              "      <td>English</td>\n",
              "      <td>15-08-23</td>\n",
              "    </tr>\n",
              "    <tr>\n",
              "      <th>97</th>\n",
              "      <td>\\nBreaking the Habit of Being Yourself\\n</td>\n",
              "      <td>Joe Dispenza</td>\n",
              "      <td>£22.89\\n</td>\n",
              "      <td>English</td>\n",
              "      <td>26-03-20</td>\n",
              "    </tr>\n",
              "    <tr>\n",
              "      <th>98</th>\n",
              "      <td>\\nRed, White &amp; Royal Blue\\n</td>\n",
              "      <td>Casey McQuiston</td>\n",
              "      <td>£12.99\\n</td>\n",
              "      <td>English</td>\n",
              "      <td>17-02-22</td>\n",
              "    </tr>\n",
              "    <tr>\n",
              "      <th>99</th>\n",
              "      <td>\\nWhere the Crawdads Sing\\n</td>\n",
              "      <td>Delia Owens</td>\n",
              "      <td>£24.99\\n</td>\n",
              "      <td>English</td>\n",
              "      <td>08-11-18</td>\n",
              "    </tr>\n",
              "  </tbody>\n",
              "</table>\n",
              "<p>100 rows × 5 columns</p>\n",
              "</div>\n",
              "    <div class=\"colab-df-buttons\">\n",
              "\n",
              "  <div class=\"colab-df-container\">\n",
              "    <button class=\"colab-df-convert\" onclick=\"convertToInteractive('df-8608fbf1-c0da-4d08-9bb3-f9e7870773b8')\"\n",
              "            title=\"Convert this dataframe to an interactive table.\"\n",
              "            style=\"display:none;\">\n",
              "\n",
              "  <svg xmlns=\"http://www.w3.org/2000/svg\" height=\"24px\" viewBox=\"0 -960 960 960\">\n",
              "    <path d=\"M120-120v-720h720v720H120Zm60-500h600v-160H180v160Zm220 220h160v-160H400v160Zm0 220h160v-160H400v160ZM180-400h160v-160H180v160Zm440 0h160v-160H620v160ZM180-180h160v-160H180v160Zm440 0h160v-160H620v160Z\"/>\n",
              "  </svg>\n",
              "    </button>\n",
              "\n",
              "  <style>\n",
              "    .colab-df-container {\n",
              "      display:flex;\n",
              "      gap: 12px;\n",
              "    }\n",
              "\n",
              "    .colab-df-convert {\n",
              "      background-color: #E8F0FE;\n",
              "      border: none;\n",
              "      border-radius: 50%;\n",
              "      cursor: pointer;\n",
              "      display: none;\n",
              "      fill: #1967D2;\n",
              "      height: 32px;\n",
              "      padding: 0 0 0 0;\n",
              "      width: 32px;\n",
              "    }\n",
              "\n",
              "    .colab-df-convert:hover {\n",
              "      background-color: #E2EBFA;\n",
              "      box-shadow: 0px 1px 2px rgba(60, 64, 67, 0.3), 0px 1px 3px 1px rgba(60, 64, 67, 0.15);\n",
              "      fill: #174EA6;\n",
              "    }\n",
              "\n",
              "    .colab-df-buttons div {\n",
              "      margin-bottom: 4px;\n",
              "    }\n",
              "\n",
              "    [theme=dark] .colab-df-convert {\n",
              "      background-color: #3B4455;\n",
              "      fill: #D2E3FC;\n",
              "    }\n",
              "\n",
              "    [theme=dark] .colab-df-convert:hover {\n",
              "      background-color: #434B5C;\n",
              "      box-shadow: 0px 1px 3px 1px rgba(0, 0, 0, 0.15);\n",
              "      filter: drop-shadow(0px 1px 2px rgba(0, 0, 0, 0.3));\n",
              "      fill: #FFFFFF;\n",
              "    }\n",
              "  </style>\n",
              "\n",
              "    <script>\n",
              "      const buttonEl =\n",
              "        document.querySelector('#df-8608fbf1-c0da-4d08-9bb3-f9e7870773b8 button.colab-df-convert');\n",
              "      buttonEl.style.display =\n",
              "        google.colab.kernel.accessAllowed ? 'block' : 'none';\n",
              "\n",
              "      async function convertToInteractive(key) {\n",
              "        const element = document.querySelector('#df-8608fbf1-c0da-4d08-9bb3-f9e7870773b8');\n",
              "        const dataTable =\n",
              "          await google.colab.kernel.invokeFunction('convertToInteractive',\n",
              "                                                    [key], {});\n",
              "        if (!dataTable) return;\n",
              "\n",
              "        const docLinkHtml = 'Like what you see? Visit the ' +\n",
              "          '<a target=\"_blank\" href=https://colab.research.google.com/notebooks/data_table.ipynb>data table notebook</a>'\n",
              "          + ' to learn more about interactive tables.';\n",
              "        element.innerHTML = '';\n",
              "        dataTable['output_type'] = 'display_data';\n",
              "        await google.colab.output.renderOutput(dataTable, element);\n",
              "        const docLink = document.createElement('div');\n",
              "        docLink.innerHTML = docLinkHtml;\n",
              "        element.appendChild(docLink);\n",
              "      }\n",
              "    </script>\n",
              "  </div>\n",
              "\n",
              "\n",
              "<div id=\"df-5d0055c0-0f8c-4438-bbc1-44eb889cd4d5\">\n",
              "  <button class=\"colab-df-quickchart\" onclick=\"quickchart('df-5d0055c0-0f8c-4438-bbc1-44eb889cd4d5')\"\n",
              "            title=\"Suggest charts.\"\n",
              "            style=\"display:none;\">\n",
              "\n",
              "<svg xmlns=\"http://www.w3.org/2000/svg\" height=\"24px\"viewBox=\"0 0 24 24\"\n",
              "     width=\"24px\">\n",
              "    <g>\n",
              "        <path d=\"M19 3H5c-1.1 0-2 .9-2 2v14c0 1.1.9 2 2 2h14c1.1 0 2-.9 2-2V5c0-1.1-.9-2-2-2zM9 17H7v-7h2v7zm4 0h-2V7h2v10zm4 0h-2v-4h2v4z\"/>\n",
              "    </g>\n",
              "</svg>\n",
              "  </button>\n",
              "\n",
              "<style>\n",
              "  .colab-df-quickchart {\n",
              "    background-color: #E8F0FE;\n",
              "    border: none;\n",
              "    border-radius: 50%;\n",
              "    cursor: pointer;\n",
              "    display: none;\n",
              "    fill: #1967D2;\n",
              "    height: 32px;\n",
              "    padding: 0 0 0 0;\n",
              "    width: 32px;\n",
              "  }\n",
              "\n",
              "  .colab-df-quickchart:hover {\n",
              "    background-color: #E2EBFA;\n",
              "    box-shadow: 0px 1px 2px rgba(60, 64, 67, 0.3), 0px 1px 3px 1px rgba(60, 64, 67, 0.15);\n",
              "    fill: #174EA6;\n",
              "  }\n",
              "\n",
              "  [theme=dark] .colab-df-quickchart {\n",
              "    background-color: #3B4455;\n",
              "    fill: #D2E3FC;\n",
              "  }\n",
              "\n",
              "  [theme=dark] .colab-df-quickchart:hover {\n",
              "    background-color: #434B5C;\n",
              "    box-shadow: 0px 1px 3px 1px rgba(0, 0, 0, 0.15);\n",
              "    filter: drop-shadow(0px 1px 2px rgba(0, 0, 0, 0.3));\n",
              "    fill: #FFFFFF;\n",
              "  }\n",
              "</style>\n",
              "\n",
              "  <script>\n",
              "    async function quickchart(key) {\n",
              "      const charts = await google.colab.kernel.invokeFunction(\n",
              "          'suggestCharts', [key], {});\n",
              "    }\n",
              "    (() => {\n",
              "      let quickchartButtonEl =\n",
              "        document.querySelector('#df-5d0055c0-0f8c-4438-bbc1-44eb889cd4d5 button');\n",
              "      quickchartButtonEl.style.display =\n",
              "        google.colab.kernel.accessAllowed ? 'block' : 'none';\n",
              "    })();\n",
              "  </script>\n",
              "</div>\n",
              "    </div>\n",
              "  </div>\n"
            ],
            "text/plain": [
              "                                            Book name           Author  \\\n",
              "0                            \\nNone of This Is True\\n      Lisa Jewell   \n",
              "1                                   \\nAtomic Habits\\n      James Clear   \n",
              "2   \\nHarry Potter and the Philosopher's Stone, Bo...     J.K. Rowling   \n",
              "3                                     \\n$100M Leads\\n     Alex Hormozi   \n",
              "4                                          \\nMythos\\n      Stephen Fry   \n",
              "..                                                ...              ...   \n",
              "95                     \\nNever Split the Difference\\n       Chris Voss   \n",
              "96                            \\nThe Primal Hunter 6\\n          Zogarth   \n",
              "97           \\nBreaking the Habit of Being Yourself\\n     Joe Dispenza   \n",
              "98                        \\nRed, White & Royal Blue\\n  Casey McQuiston   \n",
              "99                        \\nWhere the Crawdads Sing\\n      Delia Owens   \n",
              "\n",
              "       Price Language Release date  \n",
              "0   £31.99\\n  English     20-07-23  \n",
              "1   £10.99\\n  English     18-10-18  \n",
              "2   £17.99\\n  English     20-11-15  \n",
              "3   £18.29\\n  English     20-08-23  \n",
              "4   £16.99\\n  English     02-11-17  \n",
              "..       ...      ...          ...  \n",
              "95  £13.99\\n  English     20-06-19  \n",
              "96  £27.49\\n  English     15-08-23  \n",
              "97  £22.89\\n  English     26-03-20  \n",
              "98  £12.99\\n  English     17-02-22  \n",
              "99  £24.99\\n  English     08-11-18  \n",
              "\n",
              "[100 rows x 5 columns]"
            ]
          },
          "execution_count": 4,
          "metadata": {},
          "output_type": "execute_result"
        }
      ],
      "source": [
        "df=pd.DataFrame({'Book name':Book_name,'Author':Author,'Price':Price,'Language':Language,'Release date':Release_date}) #data put into the dataframe\n",
        "df"
      ]
    },
    {
      "cell_type": "code",
      "execution_count": null,
      "metadata": {
        "id": "8Pk-zYMl9TTC"
      },
      "outputs": [],
      "source": [
        "#remove the extra character \\n\n",
        "Book_Name = []\n",
        "for i in Book_name:\n",
        "   rep = i.replace('\\n','')\n",
        "   Book_Name.append(rep)\n",
        "\n",
        "Prices = []\n",
        "for i in Price:\n",
        "  rep = i.replace('\\n','')\n",
        "  Prices.append(rep)"
      ]
    },
    {
      "cell_type": "code",
      "execution_count": null,
      "metadata": {
        "colab": {
          "base_uri": "https://localhost:8080/",
          "height": 424
        },
        "id": "aPGaliEVBpJw",
        "outputId": "91d99f84-b70a-4856-ddc5-1f264de968de"
      },
      "outputs": [
        {
          "data": {
            "text/html": [
              "\n",
              "  <div id=\"df-c7353aea-5f81-4cff-b5b6-f303e60b79c9\" class=\"colab-df-container\">\n",
              "    <div>\n",
              "<style scoped>\n",
              "    .dataframe tbody tr th:only-of-type {\n",
              "        vertical-align: middle;\n",
              "    }\n",
              "\n",
              "    .dataframe tbody tr th {\n",
              "        vertical-align: top;\n",
              "    }\n",
              "\n",
              "    .dataframe thead th {\n",
              "        text-align: right;\n",
              "    }\n",
              "</style>\n",
              "<table border=\"1\" class=\"dataframe\">\n",
              "  <thead>\n",
              "    <tr style=\"text-align: right;\">\n",
              "      <th></th>\n",
              "      <th>Book name</th>\n",
              "      <th>Author</th>\n",
              "      <th>Price</th>\n",
              "      <th>Language</th>\n",
              "      <th>Release date</th>\n",
              "    </tr>\n",
              "  </thead>\n",
              "  <tbody>\n",
              "    <tr>\n",
              "      <th>0</th>\n",
              "      <td>None of This Is True</td>\n",
              "      <td>Lisa Jewell</td>\n",
              "      <td>£31.99</td>\n",
              "      <td>English</td>\n",
              "      <td>20-07-23</td>\n",
              "    </tr>\n",
              "    <tr>\n",
              "      <th>1</th>\n",
              "      <td>Atomic Habits</td>\n",
              "      <td>James Clear</td>\n",
              "      <td>£10.99</td>\n",
              "      <td>English</td>\n",
              "      <td>18-10-18</td>\n",
              "    </tr>\n",
              "    <tr>\n",
              "      <th>2</th>\n",
              "      <td>Harry Potter and the Philosopher's Stone, Book 1</td>\n",
              "      <td>J.K. Rowling</td>\n",
              "      <td>£17.99</td>\n",
              "      <td>English</td>\n",
              "      <td>20-11-15</td>\n",
              "    </tr>\n",
              "    <tr>\n",
              "      <th>3</th>\n",
              "      <td>$100M Leads</td>\n",
              "      <td>Alex Hormozi</td>\n",
              "      <td>£18.29</td>\n",
              "      <td>English</td>\n",
              "      <td>20-08-23</td>\n",
              "    </tr>\n",
              "    <tr>\n",
              "      <th>4</th>\n",
              "      <td>Mythos</td>\n",
              "      <td>Stephen Fry</td>\n",
              "      <td>£16.99</td>\n",
              "      <td>English</td>\n",
              "      <td>02-11-17</td>\n",
              "    </tr>\n",
              "    <tr>\n",
              "      <th>...</th>\n",
              "      <td>...</td>\n",
              "      <td>...</td>\n",
              "      <td>...</td>\n",
              "      <td>...</td>\n",
              "      <td>...</td>\n",
              "    </tr>\n",
              "    <tr>\n",
              "      <th>95</th>\n",
              "      <td>Never Split the Difference</td>\n",
              "      <td>Chris Voss</td>\n",
              "      <td>£13.99</td>\n",
              "      <td>English</td>\n",
              "      <td>20-06-19</td>\n",
              "    </tr>\n",
              "    <tr>\n",
              "      <th>96</th>\n",
              "      <td>The Primal Hunter 6</td>\n",
              "      <td>Zogarth</td>\n",
              "      <td>£27.49</td>\n",
              "      <td>English</td>\n",
              "      <td>15-08-23</td>\n",
              "    </tr>\n",
              "    <tr>\n",
              "      <th>97</th>\n",
              "      <td>Breaking the Habit of Being Yourself</td>\n",
              "      <td>Joe Dispenza</td>\n",
              "      <td>£22.89</td>\n",
              "      <td>English</td>\n",
              "      <td>26-03-20</td>\n",
              "    </tr>\n",
              "    <tr>\n",
              "      <th>98</th>\n",
              "      <td>Red, White &amp; Royal Blue</td>\n",
              "      <td>Casey McQuiston</td>\n",
              "      <td>£12.99</td>\n",
              "      <td>English</td>\n",
              "      <td>17-02-22</td>\n",
              "    </tr>\n",
              "    <tr>\n",
              "      <th>99</th>\n",
              "      <td>Where the Crawdads Sing</td>\n",
              "      <td>Delia Owens</td>\n",
              "      <td>£24.99</td>\n",
              "      <td>English</td>\n",
              "      <td>08-11-18</td>\n",
              "    </tr>\n",
              "  </tbody>\n",
              "</table>\n",
              "<p>100 rows × 5 columns</p>\n",
              "</div>\n",
              "    <div class=\"colab-df-buttons\">\n",
              "\n",
              "  <div class=\"colab-df-container\">\n",
              "    <button class=\"colab-df-convert\" onclick=\"convertToInteractive('df-c7353aea-5f81-4cff-b5b6-f303e60b79c9')\"\n",
              "            title=\"Convert this dataframe to an interactive table.\"\n",
              "            style=\"display:none;\">\n",
              "\n",
              "  <svg xmlns=\"http://www.w3.org/2000/svg\" height=\"24px\" viewBox=\"0 -960 960 960\">\n",
              "    <path d=\"M120-120v-720h720v720H120Zm60-500h600v-160H180v160Zm220 220h160v-160H400v160Zm0 220h160v-160H400v160ZM180-400h160v-160H180v160Zm440 0h160v-160H620v160ZM180-180h160v-160H180v160Zm440 0h160v-160H620v160Z\"/>\n",
              "  </svg>\n",
              "    </button>\n",
              "\n",
              "  <style>\n",
              "    .colab-df-container {\n",
              "      display:flex;\n",
              "      gap: 12px;\n",
              "    }\n",
              "\n",
              "    .colab-df-convert {\n",
              "      background-color: #E8F0FE;\n",
              "      border: none;\n",
              "      border-radius: 50%;\n",
              "      cursor: pointer;\n",
              "      display: none;\n",
              "      fill: #1967D2;\n",
              "      height: 32px;\n",
              "      padding: 0 0 0 0;\n",
              "      width: 32px;\n",
              "    }\n",
              "\n",
              "    .colab-df-convert:hover {\n",
              "      background-color: #E2EBFA;\n",
              "      box-shadow: 0px 1px 2px rgba(60, 64, 67, 0.3), 0px 1px 3px 1px rgba(60, 64, 67, 0.15);\n",
              "      fill: #174EA6;\n",
              "    }\n",
              "\n",
              "    .colab-df-buttons div {\n",
              "      margin-bottom: 4px;\n",
              "    }\n",
              "\n",
              "    [theme=dark] .colab-df-convert {\n",
              "      background-color: #3B4455;\n",
              "      fill: #D2E3FC;\n",
              "    }\n",
              "\n",
              "    [theme=dark] .colab-df-convert:hover {\n",
              "      background-color: #434B5C;\n",
              "      box-shadow: 0px 1px 3px 1px rgba(0, 0, 0, 0.15);\n",
              "      filter: drop-shadow(0px 1px 2px rgba(0, 0, 0, 0.3));\n",
              "      fill: #FFFFFF;\n",
              "    }\n",
              "  </style>\n",
              "\n",
              "    <script>\n",
              "      const buttonEl =\n",
              "        document.querySelector('#df-c7353aea-5f81-4cff-b5b6-f303e60b79c9 button.colab-df-convert');\n",
              "      buttonEl.style.display =\n",
              "        google.colab.kernel.accessAllowed ? 'block' : 'none';\n",
              "\n",
              "      async function convertToInteractive(key) {\n",
              "        const element = document.querySelector('#df-c7353aea-5f81-4cff-b5b6-f303e60b79c9');\n",
              "        const dataTable =\n",
              "          await google.colab.kernel.invokeFunction('convertToInteractive',\n",
              "                                                    [key], {});\n",
              "        if (!dataTable) return;\n",
              "\n",
              "        const docLinkHtml = 'Like what you see? Visit the ' +\n",
              "          '<a target=\"_blank\" href=https://colab.research.google.com/notebooks/data_table.ipynb>data table notebook</a>'\n",
              "          + ' to learn more about interactive tables.';\n",
              "        element.innerHTML = '';\n",
              "        dataTable['output_type'] = 'display_data';\n",
              "        await google.colab.output.renderOutput(dataTable, element);\n",
              "        const docLink = document.createElement('div');\n",
              "        docLink.innerHTML = docLinkHtml;\n",
              "        element.appendChild(docLink);\n",
              "      }\n",
              "    </script>\n",
              "  </div>\n",
              "\n",
              "\n",
              "<div id=\"df-d9a83812-91e4-4537-b578-1d771b28eab5\">\n",
              "  <button class=\"colab-df-quickchart\" onclick=\"quickchart('df-d9a83812-91e4-4537-b578-1d771b28eab5')\"\n",
              "            title=\"Suggest charts.\"\n",
              "            style=\"display:none;\">\n",
              "\n",
              "<svg xmlns=\"http://www.w3.org/2000/svg\" height=\"24px\"viewBox=\"0 0 24 24\"\n",
              "     width=\"24px\">\n",
              "    <g>\n",
              "        <path d=\"M19 3H5c-1.1 0-2 .9-2 2v14c0 1.1.9 2 2 2h14c1.1 0 2-.9 2-2V5c0-1.1-.9-2-2-2zM9 17H7v-7h2v7zm4 0h-2V7h2v10zm4 0h-2v-4h2v4z\"/>\n",
              "    </g>\n",
              "</svg>\n",
              "  </button>\n",
              "\n",
              "<style>\n",
              "  .colab-df-quickchart {\n",
              "    background-color: #E8F0FE;\n",
              "    border: none;\n",
              "    border-radius: 50%;\n",
              "    cursor: pointer;\n",
              "    display: none;\n",
              "    fill: #1967D2;\n",
              "    height: 32px;\n",
              "    padding: 0 0 0 0;\n",
              "    width: 32px;\n",
              "  }\n",
              "\n",
              "  .colab-df-quickchart:hover {\n",
              "    background-color: #E2EBFA;\n",
              "    box-shadow: 0px 1px 2px rgba(60, 64, 67, 0.3), 0px 1px 3px 1px rgba(60, 64, 67, 0.15);\n",
              "    fill: #174EA6;\n",
              "  }\n",
              "\n",
              "  [theme=dark] .colab-df-quickchart {\n",
              "    background-color: #3B4455;\n",
              "    fill: #D2E3FC;\n",
              "  }\n",
              "\n",
              "  [theme=dark] .colab-df-quickchart:hover {\n",
              "    background-color: #434B5C;\n",
              "    box-shadow: 0px 1px 3px 1px rgba(0, 0, 0, 0.15);\n",
              "    filter: drop-shadow(0px 1px 2px rgba(0, 0, 0, 0.3));\n",
              "    fill: #FFFFFF;\n",
              "  }\n",
              "</style>\n",
              "\n",
              "  <script>\n",
              "    async function quickchart(key) {\n",
              "      const charts = await google.colab.kernel.invokeFunction(\n",
              "          'suggestCharts', [key], {});\n",
              "    }\n",
              "    (() => {\n",
              "      let quickchartButtonEl =\n",
              "        document.querySelector('#df-d9a83812-91e4-4537-b578-1d771b28eab5 button');\n",
              "      quickchartButtonEl.style.display =\n",
              "        google.colab.kernel.accessAllowed ? 'block' : 'none';\n",
              "    })();\n",
              "  </script>\n",
              "</div>\n",
              "    </div>\n",
              "  </div>\n"
            ],
            "text/plain": [
              "                                           Book name           Author   Price  \\\n",
              "0                               None of This Is True      Lisa Jewell  £31.99   \n",
              "1                                      Atomic Habits      James Clear  £10.99   \n",
              "2   Harry Potter and the Philosopher's Stone, Book 1     J.K. Rowling  £17.99   \n",
              "3                                        $100M Leads     Alex Hormozi  £18.29   \n",
              "4                                             Mythos      Stephen Fry  £16.99   \n",
              "..                                               ...              ...     ...   \n",
              "95                        Never Split the Difference       Chris Voss  £13.99   \n",
              "96                               The Primal Hunter 6          Zogarth  £27.49   \n",
              "97              Breaking the Habit of Being Yourself     Joe Dispenza  £22.89   \n",
              "98                           Red, White & Royal Blue  Casey McQuiston  £12.99   \n",
              "99                           Where the Crawdads Sing      Delia Owens  £24.99   \n",
              "\n",
              "   Language Release date  \n",
              "0   English     20-07-23  \n",
              "1   English     18-10-18  \n",
              "2   English     20-11-15  \n",
              "3   English     20-08-23  \n",
              "4   English     02-11-17  \n",
              "..      ...          ...  \n",
              "95  English     20-06-19  \n",
              "96  English     15-08-23  \n",
              "97  English     26-03-20  \n",
              "98  English     17-02-22  \n",
              "99  English     08-11-18  \n",
              "\n",
              "[100 rows x 5 columns]"
            ]
          },
          "execution_count": 6,
          "metadata": {},
          "output_type": "execute_result"
        }
      ],
      "source": [
        "df['Book name'] = Book_Name\n",
        "df['Price'] = Prices\n",
        "df"
      ]
    },
    {
      "cell_type": "code",
      "execution_count": null,
      "metadata": {
        "colab": {
          "base_uri": "https://localhost:8080/"
        },
        "id": "t3x7xKUD61lV",
        "outputId": "0af3dbf8-0e90-45ba-fc22-c8dc7ce7e96f"
      },
      "outputs": [
        {
          "name": "stdout",
          "output_type": "stream",
          "text": [
            "<class 'pandas.core.frame.DataFrame'>\n",
            "RangeIndex: 100 entries, 0 to 99\n",
            "Data columns (total 5 columns):\n",
            " #   Column        Non-Null Count  Dtype \n",
            "---  ------        --------------  ----- \n",
            " 0   Book name     100 non-null    object\n",
            " 1   Author        100 non-null    object\n",
            " 2   Price         100 non-null    object\n",
            " 3   Language      100 non-null    object\n",
            " 4   Release date  100 non-null    object\n",
            "dtypes: object(5)\n",
            "memory usage: 4.0+ KB\n"
          ]
        }
      ],
      "source": [
        "df.info()"
      ]
    },
    {
      "cell_type": "code",
      "execution_count": null,
      "metadata": {
        "id": "BSxFjly0EkOX"
      },
      "outputs": [],
      "source": [
        "df.to_csv('Web_Data_Extraction.csv',index=False)"
      ]
    },
    {
      "cell_type": "markdown",
      "metadata": {
        "id": "ySPKQMjy7lxu"
      },
      "source": [
        "# Q2. Data Manipulation, Analysis and Visualization"
      ]
    },
    {
      "cell_type": "code",
      "execution_count": null,
      "metadata": {
        "id": "yFVSV_Ga7fh8"
      },
      "outputs": [],
      "source": [
        "import pandas as pd\n",
        "import numpy as np"
      ]
    },
    {
      "cell_type": "code",
      "execution_count": null,
      "metadata": {
        "colab": {
          "base_uri": "https://localhost:8080/"
        },
        "id": "K9mQ2_ghG3vC",
        "outputId": "47be02ed-f580-4c5e-9617-7c5869be90b4"
      },
      "outputs": [
        {
          "output_type": "stream",
          "name": "stdout",
          "text": [
            "Drive already mounted at /content/drive; to attempt to forcibly remount, call drive.mount(\"/content/drive\", force_remount=True).\n"
          ]
        }
      ],
      "source": [
        "from google.colab import drive\n",
        "drive.mount('/content/drive')"
      ]
    },
    {
      "cell_type": "code",
      "execution_count": null,
      "metadata": {
        "colab": {
          "base_uri": "https://localhost:8080/"
        },
        "id": "-pVKX4xYG3xf",
        "outputId": "8971c904-7989-4a9d-fc4f-0fe7ab1d9a7e"
      },
      "outputs": [
        {
          "output_type": "stream",
          "name": "stdout",
          "text": [
            " ai4bharat-IndicNER.ipynb\t     'Copy of Welcome to Colaboratory (1)'\n",
            " Annotated_corpus-B-NER.ipynb\t      csvtojson.ipynb\n",
            " Annotated_corpus.ipynb\t\t     'Customer segmentation anlysis.ipynb'\n",
            "'annotated dataset full.csv'\t     'dataset statistics.ipynb'\n",
            "'annotated dataset full new.csv'      eda_cleaning.ipynb\n",
            "'Assessment Data - Sheet2.csv'\t      fastai1.ipynb\n",
            " Assessment.ipynb\t\t      indic-transformers-bn-bert.ipynb\n",
            " bert-base-multilingual-cased.ipynb   Kowsher-bangla-bert.ipynb\n",
            " BERT-BILSTM-CRF-gcelikmasat.ipynb    Mall_Customers.csv\n",
            "'Bi-LSTM with CRF for NER.ipynb'      monsoon-nlp-bangla-electra.ipynb\n",
            " BLNERC_BNER_dataset.json\t      ner_all_tokens_vocab.txt\n",
            "'BLNERC dataset.json'\t\t      Ner_Bert1.ipynb\n",
            " BLNERC_dataset.json\t\t      ner_dataset_sample.json\n",
            "'BLNERC dataset new.json'\t      ner_token_id_name.pkl\n",
            "'Buet bangal bert.ipynb'\t     'NER using Random Forest and CRF.ipynb'\n",
            "'Buet bb dataset.json'\t\t      sagorbert.ipynb\n",
            " cache\t\t\t\t      sagorsarker-bangla-bert-base.ipynb\n",
            "'Copy of Assessment (1).ipynb'\t      Untitled0.ipynb\n",
            "'Copy of Assessment.ipynb'\t      Untitled2.ipynb\n",
            "'Copy of Welcome to Colaboratory'\n"
          ]
        }
      ],
      "source": [
        "!ls '/content/drive/My Drive/Colab Notebooks'"
      ]
    },
    {
      "cell_type": "code",
      "execution_count": null,
      "metadata": {
        "id": "CE_Qhw6pIuUX"
      },
      "outputs": [],
      "source": [
        "import os\n",
        "os.chdir('/content/drive/My Drive/Colab Notebooks')"
      ]
    },
    {
      "cell_type": "code",
      "execution_count": null,
      "metadata": {
        "colab": {
          "base_uri": "https://localhost:8080/",
          "height": 990
        },
        "id": "OxeEEKCiIuWe",
        "outputId": "313759ac-7b23-4a6d-87ab-38e988c51a95"
      },
      "outputs": [
        {
          "output_type": "execute_result",
          "data": {
            "text/plain": [
              "          Date    Product  Quantity   Price Customer Name\n",
              "0   2023-01-05  Product A         10  10.75    Customer 1\n",
              "1   2023-01-06  Product D         41  22.50    Customer 2\n",
              "2   2023-01-07  Product C         40  12.25    Customer 3\n",
              "3   2023-01-08  Product C         34  10.75    Customer 4\n",
              "4   2023-01-09  Product D          4  22.50    Customer 5\n",
              "5   2023-01-10  Product B         43  17.00    Customer 6\n",
              "6   2023-01-11  Product D         15  10.00    Customer 7\n",
              "7   2023-01-12  Product C         12  22.00    Customer 8\n",
              "8   2023-01-13  Product D         15  22.00    Customer 9\n",
              "9   2023-01-14  Product B         12  22.00    Customer 1\n",
              "10  2023-01-15  Product C         12  10.00   Customer 11\n",
              "11  2023-01-16  Product D         33  10.00   Customer 12\n",
              "12  2023-01-17  Product M         23  12.25   Customer 13\n",
              "13  2023-01-18  Product B         19  22.00   Customer 14\n",
              "14  2023-01-19  Product D          4  22.50   Customer 15\n",
              "15  2023-01-20  Product D         50  17.00   Customer 16\n",
              "16  2023-01-21  Product A         22  17.00   Customer 17\n",
              "17  2023-01-22  Product C         32  17.00   Customer 18\n",
              "18  2023-01-23  Product A         32  22.00   Customer 19\n",
              "19  2023-01-24  Product C         34  10.75   Customer 20\n",
              "20  2023-01-25  Product B         29  17.00   Customer 21\n",
              "21  2023-01-26  Product D         12  22.00   Customer 22\n",
              "22  2023-01-27  Product B         11  22.00   Customer 23\n",
              "23  2023-01-28  Product C         33  12.25   Customer 24\n",
              "24  2023-01-29  Product D         22  17.00   Customer 25\n",
              "25  2023-01-30  Product B         19  12.25   Customer 26\n",
              "26  2023-01-31  Product C          9  22.50   Customer 27\n",
              "27  2023-02-01  Product A         21  12.25   Customer 28\n",
              "28  2023-02-02  Product D         21  22.00    Customer 9\n",
              "29  2023-02-03  Product C         12  10.75   Customer 30"
            ],
            "text/html": [
              "\n",
              "  <div id=\"df-31ba9df5-4028-4ff8-96ad-d532f469f331\" class=\"colab-df-container\">\n",
              "    <div>\n",
              "<style scoped>\n",
              "    .dataframe tbody tr th:only-of-type {\n",
              "        vertical-align: middle;\n",
              "    }\n",
              "\n",
              "    .dataframe tbody tr th {\n",
              "        vertical-align: top;\n",
              "    }\n",
              "\n",
              "    .dataframe thead th {\n",
              "        text-align: right;\n",
              "    }\n",
              "</style>\n",
              "<table border=\"1\" class=\"dataframe\">\n",
              "  <thead>\n",
              "    <tr style=\"text-align: right;\">\n",
              "      <th></th>\n",
              "      <th>Date</th>\n",
              "      <th>Product</th>\n",
              "      <th>Quantity</th>\n",
              "      <th>Price</th>\n",
              "      <th>Customer Name</th>\n",
              "    </tr>\n",
              "  </thead>\n",
              "  <tbody>\n",
              "    <tr>\n",
              "      <th>0</th>\n",
              "      <td>2023-01-05</td>\n",
              "      <td>Product A</td>\n",
              "      <td>10</td>\n",
              "      <td>10.75</td>\n",
              "      <td>Customer 1</td>\n",
              "    </tr>\n",
              "    <tr>\n",
              "      <th>1</th>\n",
              "      <td>2023-01-06</td>\n",
              "      <td>Product D</td>\n",
              "      <td>41</td>\n",
              "      <td>22.50</td>\n",
              "      <td>Customer 2</td>\n",
              "    </tr>\n",
              "    <tr>\n",
              "      <th>2</th>\n",
              "      <td>2023-01-07</td>\n",
              "      <td>Product C</td>\n",
              "      <td>40</td>\n",
              "      <td>12.25</td>\n",
              "      <td>Customer 3</td>\n",
              "    </tr>\n",
              "    <tr>\n",
              "      <th>3</th>\n",
              "      <td>2023-01-08</td>\n",
              "      <td>Product C</td>\n",
              "      <td>34</td>\n",
              "      <td>10.75</td>\n",
              "      <td>Customer 4</td>\n",
              "    </tr>\n",
              "    <tr>\n",
              "      <th>4</th>\n",
              "      <td>2023-01-09</td>\n",
              "      <td>Product D</td>\n",
              "      <td>4</td>\n",
              "      <td>22.50</td>\n",
              "      <td>Customer 5</td>\n",
              "    </tr>\n",
              "    <tr>\n",
              "      <th>5</th>\n",
              "      <td>2023-01-10</td>\n",
              "      <td>Product B</td>\n",
              "      <td>43</td>\n",
              "      <td>17.00</td>\n",
              "      <td>Customer 6</td>\n",
              "    </tr>\n",
              "    <tr>\n",
              "      <th>6</th>\n",
              "      <td>2023-01-11</td>\n",
              "      <td>Product D</td>\n",
              "      <td>15</td>\n",
              "      <td>10.00</td>\n",
              "      <td>Customer 7</td>\n",
              "    </tr>\n",
              "    <tr>\n",
              "      <th>7</th>\n",
              "      <td>2023-01-12</td>\n",
              "      <td>Product C</td>\n",
              "      <td>12</td>\n",
              "      <td>22.00</td>\n",
              "      <td>Customer 8</td>\n",
              "    </tr>\n",
              "    <tr>\n",
              "      <th>8</th>\n",
              "      <td>2023-01-13</td>\n",
              "      <td>Product D</td>\n",
              "      <td>15</td>\n",
              "      <td>22.00</td>\n",
              "      <td>Customer 9</td>\n",
              "    </tr>\n",
              "    <tr>\n",
              "      <th>9</th>\n",
              "      <td>2023-01-14</td>\n",
              "      <td>Product B</td>\n",
              "      <td>12</td>\n",
              "      <td>22.00</td>\n",
              "      <td>Customer 1</td>\n",
              "    </tr>\n",
              "    <tr>\n",
              "      <th>10</th>\n",
              "      <td>2023-01-15</td>\n",
              "      <td>Product C</td>\n",
              "      <td>12</td>\n",
              "      <td>10.00</td>\n",
              "      <td>Customer 11</td>\n",
              "    </tr>\n",
              "    <tr>\n",
              "      <th>11</th>\n",
              "      <td>2023-01-16</td>\n",
              "      <td>Product D</td>\n",
              "      <td>33</td>\n",
              "      <td>10.00</td>\n",
              "      <td>Customer 12</td>\n",
              "    </tr>\n",
              "    <tr>\n",
              "      <th>12</th>\n",
              "      <td>2023-01-17</td>\n",
              "      <td>Product M</td>\n",
              "      <td>23</td>\n",
              "      <td>12.25</td>\n",
              "      <td>Customer 13</td>\n",
              "    </tr>\n",
              "    <tr>\n",
              "      <th>13</th>\n",
              "      <td>2023-01-18</td>\n",
              "      <td>Product B</td>\n",
              "      <td>19</td>\n",
              "      <td>22.00</td>\n",
              "      <td>Customer 14</td>\n",
              "    </tr>\n",
              "    <tr>\n",
              "      <th>14</th>\n",
              "      <td>2023-01-19</td>\n",
              "      <td>Product D</td>\n",
              "      <td>4</td>\n",
              "      <td>22.50</td>\n",
              "      <td>Customer 15</td>\n",
              "    </tr>\n",
              "    <tr>\n",
              "      <th>15</th>\n",
              "      <td>2023-01-20</td>\n",
              "      <td>Product D</td>\n",
              "      <td>50</td>\n",
              "      <td>17.00</td>\n",
              "      <td>Customer 16</td>\n",
              "    </tr>\n",
              "    <tr>\n",
              "      <th>16</th>\n",
              "      <td>2023-01-21</td>\n",
              "      <td>Product A</td>\n",
              "      <td>22</td>\n",
              "      <td>17.00</td>\n",
              "      <td>Customer 17</td>\n",
              "    </tr>\n",
              "    <tr>\n",
              "      <th>17</th>\n",
              "      <td>2023-01-22</td>\n",
              "      <td>Product C</td>\n",
              "      <td>32</td>\n",
              "      <td>17.00</td>\n",
              "      <td>Customer 18</td>\n",
              "    </tr>\n",
              "    <tr>\n",
              "      <th>18</th>\n",
              "      <td>2023-01-23</td>\n",
              "      <td>Product A</td>\n",
              "      <td>32</td>\n",
              "      <td>22.00</td>\n",
              "      <td>Customer 19</td>\n",
              "    </tr>\n",
              "    <tr>\n",
              "      <th>19</th>\n",
              "      <td>2023-01-24</td>\n",
              "      <td>Product C</td>\n",
              "      <td>34</td>\n",
              "      <td>10.75</td>\n",
              "      <td>Customer 20</td>\n",
              "    </tr>\n",
              "    <tr>\n",
              "      <th>20</th>\n",
              "      <td>2023-01-25</td>\n",
              "      <td>Product B</td>\n",
              "      <td>29</td>\n",
              "      <td>17.00</td>\n",
              "      <td>Customer 21</td>\n",
              "    </tr>\n",
              "    <tr>\n",
              "      <th>21</th>\n",
              "      <td>2023-01-26</td>\n",
              "      <td>Product D</td>\n",
              "      <td>12</td>\n",
              "      <td>22.00</td>\n",
              "      <td>Customer 22</td>\n",
              "    </tr>\n",
              "    <tr>\n",
              "      <th>22</th>\n",
              "      <td>2023-01-27</td>\n",
              "      <td>Product B</td>\n",
              "      <td>11</td>\n",
              "      <td>22.00</td>\n",
              "      <td>Customer 23</td>\n",
              "    </tr>\n",
              "    <tr>\n",
              "      <th>23</th>\n",
              "      <td>2023-01-28</td>\n",
              "      <td>Product C</td>\n",
              "      <td>33</td>\n",
              "      <td>12.25</td>\n",
              "      <td>Customer 24</td>\n",
              "    </tr>\n",
              "    <tr>\n",
              "      <th>24</th>\n",
              "      <td>2023-01-29</td>\n",
              "      <td>Product D</td>\n",
              "      <td>22</td>\n",
              "      <td>17.00</td>\n",
              "      <td>Customer 25</td>\n",
              "    </tr>\n",
              "    <tr>\n",
              "      <th>25</th>\n",
              "      <td>2023-01-30</td>\n",
              "      <td>Product B</td>\n",
              "      <td>19</td>\n",
              "      <td>12.25</td>\n",
              "      <td>Customer 26</td>\n",
              "    </tr>\n",
              "    <tr>\n",
              "      <th>26</th>\n",
              "      <td>2023-01-31</td>\n",
              "      <td>Product C</td>\n",
              "      <td>9</td>\n",
              "      <td>22.50</td>\n",
              "      <td>Customer 27</td>\n",
              "    </tr>\n",
              "    <tr>\n",
              "      <th>27</th>\n",
              "      <td>2023-02-01</td>\n",
              "      <td>Product A</td>\n",
              "      <td>21</td>\n",
              "      <td>12.25</td>\n",
              "      <td>Customer 28</td>\n",
              "    </tr>\n",
              "    <tr>\n",
              "      <th>28</th>\n",
              "      <td>2023-02-02</td>\n",
              "      <td>Product D</td>\n",
              "      <td>21</td>\n",
              "      <td>22.00</td>\n",
              "      <td>Customer 9</td>\n",
              "    </tr>\n",
              "    <tr>\n",
              "      <th>29</th>\n",
              "      <td>2023-02-03</td>\n",
              "      <td>Product C</td>\n",
              "      <td>12</td>\n",
              "      <td>10.75</td>\n",
              "      <td>Customer 30</td>\n",
              "    </tr>\n",
              "  </tbody>\n",
              "</table>\n",
              "</div>\n",
              "    <div class=\"colab-df-buttons\">\n",
              "\n",
              "  <div class=\"colab-df-container\">\n",
              "    <button class=\"colab-df-convert\" onclick=\"convertToInteractive('df-31ba9df5-4028-4ff8-96ad-d532f469f331')\"\n",
              "            title=\"Convert this dataframe to an interactive table.\"\n",
              "            style=\"display:none;\">\n",
              "\n",
              "  <svg xmlns=\"http://www.w3.org/2000/svg\" height=\"24px\" viewBox=\"0 -960 960 960\">\n",
              "    <path d=\"M120-120v-720h720v720H120Zm60-500h600v-160H180v160Zm220 220h160v-160H400v160Zm0 220h160v-160H400v160ZM180-400h160v-160H180v160Zm440 0h160v-160H620v160ZM180-180h160v-160H180v160Zm440 0h160v-160H620v160Z\"/>\n",
              "  </svg>\n",
              "    </button>\n",
              "\n",
              "  <style>\n",
              "    .colab-df-container {\n",
              "      display:flex;\n",
              "      gap: 12px;\n",
              "    }\n",
              "\n",
              "    .colab-df-convert {\n",
              "      background-color: #E8F0FE;\n",
              "      border: none;\n",
              "      border-radius: 50%;\n",
              "      cursor: pointer;\n",
              "      display: none;\n",
              "      fill: #1967D2;\n",
              "      height: 32px;\n",
              "      padding: 0 0 0 0;\n",
              "      width: 32px;\n",
              "    }\n",
              "\n",
              "    .colab-df-convert:hover {\n",
              "      background-color: #E2EBFA;\n",
              "      box-shadow: 0px 1px 2px rgba(60, 64, 67, 0.3), 0px 1px 3px 1px rgba(60, 64, 67, 0.15);\n",
              "      fill: #174EA6;\n",
              "    }\n",
              "\n",
              "    .colab-df-buttons div {\n",
              "      margin-bottom: 4px;\n",
              "    }\n",
              "\n",
              "    [theme=dark] .colab-df-convert {\n",
              "      background-color: #3B4455;\n",
              "      fill: #D2E3FC;\n",
              "    }\n",
              "\n",
              "    [theme=dark] .colab-df-convert:hover {\n",
              "      background-color: #434B5C;\n",
              "      box-shadow: 0px 1px 3px 1px rgba(0, 0, 0, 0.15);\n",
              "      filter: drop-shadow(0px 1px 2px rgba(0, 0, 0, 0.3));\n",
              "      fill: #FFFFFF;\n",
              "    }\n",
              "  </style>\n",
              "\n",
              "    <script>\n",
              "      const buttonEl =\n",
              "        document.querySelector('#df-31ba9df5-4028-4ff8-96ad-d532f469f331 button.colab-df-convert');\n",
              "      buttonEl.style.display =\n",
              "        google.colab.kernel.accessAllowed ? 'block' : 'none';\n",
              "\n",
              "      async function convertToInteractive(key) {\n",
              "        const element = document.querySelector('#df-31ba9df5-4028-4ff8-96ad-d532f469f331');\n",
              "        const dataTable =\n",
              "          await google.colab.kernel.invokeFunction('convertToInteractive',\n",
              "                                                    [key], {});\n",
              "        if (!dataTable) return;\n",
              "\n",
              "        const docLinkHtml = 'Like what you see? Visit the ' +\n",
              "          '<a target=\"_blank\" href=https://colab.research.google.com/notebooks/data_table.ipynb>data table notebook</a>'\n",
              "          + ' to learn more about interactive tables.';\n",
              "        element.innerHTML = '';\n",
              "        dataTable['output_type'] = 'display_data';\n",
              "        await google.colab.output.renderOutput(dataTable, element);\n",
              "        const docLink = document.createElement('div');\n",
              "        docLink.innerHTML = docLinkHtml;\n",
              "        element.appendChild(docLink);\n",
              "      }\n",
              "    </script>\n",
              "  </div>\n",
              "\n",
              "\n",
              "<div id=\"df-ba963944-d2ef-466c-aecc-4aed13da2a03\">\n",
              "  <button class=\"colab-df-quickchart\" onclick=\"quickchart('df-ba963944-d2ef-466c-aecc-4aed13da2a03')\"\n",
              "            title=\"Suggest charts.\"\n",
              "            style=\"display:none;\">\n",
              "\n",
              "<svg xmlns=\"http://www.w3.org/2000/svg\" height=\"24px\"viewBox=\"0 0 24 24\"\n",
              "     width=\"24px\">\n",
              "    <g>\n",
              "        <path d=\"M19 3H5c-1.1 0-2 .9-2 2v14c0 1.1.9 2 2 2h14c1.1 0 2-.9 2-2V5c0-1.1-.9-2-2-2zM9 17H7v-7h2v7zm4 0h-2V7h2v10zm4 0h-2v-4h2v4z\"/>\n",
              "    </g>\n",
              "</svg>\n",
              "  </button>\n",
              "\n",
              "<style>\n",
              "  .colab-df-quickchart {\n",
              "    background-color: #E8F0FE;\n",
              "    border: none;\n",
              "    border-radius: 50%;\n",
              "    cursor: pointer;\n",
              "    display: none;\n",
              "    fill: #1967D2;\n",
              "    height: 32px;\n",
              "    padding: 0 0 0 0;\n",
              "    width: 32px;\n",
              "  }\n",
              "\n",
              "  .colab-df-quickchart:hover {\n",
              "    background-color: #E2EBFA;\n",
              "    box-shadow: 0px 1px 2px rgba(60, 64, 67, 0.3), 0px 1px 3px 1px rgba(60, 64, 67, 0.15);\n",
              "    fill: #174EA6;\n",
              "  }\n",
              "\n",
              "  [theme=dark] .colab-df-quickchart {\n",
              "    background-color: #3B4455;\n",
              "    fill: #D2E3FC;\n",
              "  }\n",
              "\n",
              "  [theme=dark] .colab-df-quickchart:hover {\n",
              "    background-color: #434B5C;\n",
              "    box-shadow: 0px 1px 3px 1px rgba(0, 0, 0, 0.15);\n",
              "    filter: drop-shadow(0px 1px 2px rgba(0, 0, 0, 0.3));\n",
              "    fill: #FFFFFF;\n",
              "  }\n",
              "</style>\n",
              "\n",
              "  <script>\n",
              "    async function quickchart(key) {\n",
              "      const charts = await google.colab.kernel.invokeFunction(\n",
              "          'suggestCharts', [key], {});\n",
              "    }\n",
              "    (() => {\n",
              "      let quickchartButtonEl =\n",
              "        document.querySelector('#df-ba963944-d2ef-466c-aecc-4aed13da2a03 button');\n",
              "      quickchartButtonEl.style.display =\n",
              "        google.colab.kernel.accessAllowed ? 'block' : 'none';\n",
              "    })();\n",
              "  </script>\n",
              "</div>\n",
              "    </div>\n",
              "  </div>\n"
            ]
          },
          "metadata": {},
          "execution_count": 62
        }
      ],
      "source": [
        "data = pd.read_csv(\"Assessment Data - Sheet2.csv\")\n",
        "data"
      ]
    },
    {
      "cell_type": "code",
      "execution_count": null,
      "metadata": {
        "colab": {
          "base_uri": "https://localhost:8080/"
        },
        "id": "e4DwiCCMIuZR",
        "outputId": "97b8afb3-5f48-4867-ca98-bd1d9cf8cfaf"
      },
      "outputs": [
        {
          "output_type": "stream",
          "name": "stdout",
          "text": [
            "The average price per unit for all products combined:  16.74\n"
          ]
        }
      ],
      "source": [
        "average_price = sum(data[\"Price\"]/len(data['Price']))\n",
        "print('The average price per unit for all products combined: ',round(average_price,2))"
      ]
    },
    {
      "cell_type": "code",
      "execution_count": null,
      "metadata": {
        "colab": {
          "base_uri": "https://localhost:8080/"
        },
        "id": "pKSm67z6Iubd",
        "outputId": "94c056e2-a741-43e5-a513-cb033665e107"
      },
      "outputs": [
        {
          "output_type": "stream",
          "name": "stdout",
          "text": [
            "The total revenue generated from these transactions:  502.25\n"
          ]
        }
      ],
      "source": [
        "Total_revenue = sum(data['Price'])\n",
        "print('The total revenue generated from these transactions: ',Total_revenue)"
      ]
    },
    {
      "cell_type": "code",
      "execution_count": null,
      "metadata": {
        "colab": {
          "base_uri": "https://localhost:8080/"
        },
        "id": "0ikM93JOhVnf",
        "outputId": "7e972942-01a5-4702-b2e0-066988b869c0"
      },
      "outputs": [
        {
          "output_type": "stream",
          "name": "stdout",
          "text": [
            "<class 'pandas.core.frame.DataFrame'>\n",
            "RangeIndex: 30 entries, 0 to 29\n",
            "Data columns (total 5 columns):\n",
            " #   Column         Non-Null Count  Dtype  \n",
            "---  ------         --------------  -----  \n",
            " 0   Date           30 non-null     object \n",
            " 1   Product        30 non-null     object \n",
            " 2   Quantity       30 non-null     int64  \n",
            " 3   Price          30 non-null     float64\n",
            " 4   Customer Name  30 non-null     object \n",
            "dtypes: float64(1), int64(1), object(3)\n",
            "memory usage: 1.3+ KB\n"
          ]
        }
      ],
      "source": [
        "data.info()"
      ]
    },
    {
      "cell_type": "code",
      "execution_count": null,
      "metadata": {
        "colab": {
          "base_uri": "https://localhost:8080/"
        },
        "id": "6YoTRP1a2Ndw",
        "outputId": "2857dfa2-93c3-48e8-aa40-8fd020233e82"
      },
      "outputs": [
        {
          "output_type": "stream",
          "name": "stdout",
          "text": [
            "   Customer Name  Quantity \n",
            "0    Customer 16         50\n",
            "1     Customer 6         43\n",
            "2     Customer 2         41\n",
            "3     Customer 3         40\n",
            "4     Customer 9         36\n",
            "5     Customer 4         34\n",
            "6    Customer 20         34\n",
            "7    Customer 24         33\n",
            "8    Customer 12         33\n",
            "9    Customer 18         32\n",
            "10   Customer 19         32\n",
            "11   Customer 21         29\n",
            "12   Customer 13         23\n",
            "13   Customer 25         22\n",
            "14    Customer 1         22\n",
            "15   Customer 17         22\n",
            "16   Customer 28         21\n",
            "17   Customer 26         19\n",
            "18   Customer 14         19\n",
            "19    Customer 7         15\n",
            "20   Customer 11         12\n",
            "21   Customer 22         12\n",
            "22   Customer 30         12\n",
            "23    Customer 8         12\n",
            "24   Customer 23         11\n",
            "25   Customer 27          9\n",
            "26   Customer 15          4\n",
            "27    Customer 5          4\n"
          ]
        }
      ],
      "source": [
        "grouped = data.groupby('Customer Name')['Quantity '].sum().sort_values(ascending=False)\n",
        "grouped_to_df = pd.DataFrame(grouped).reset_index()\n",
        "print(grouped_to_df)"
      ]
    },
    {
      "cell_type": "code",
      "execution_count": null,
      "metadata": {
        "colab": {
          "base_uri": "https://localhost:8080/"
        },
        "id": "R-DYL-JtBETT",
        "outputId": "94d21373-e281-470d-d3d8-6c2c62c68c96"
      },
      "outputs": [
        {
          "output_type": "stream",
          "name": "stdout",
          "text": [
            "The customer who made the highest quantity purchase is:  Customer 16  and the Quantity is:  50\n"
          ]
        }
      ],
      "source": [
        "max_quan = max(grouped_to_df['Quantity '])\n",
        "for i in range (len(grouped_to_df)):\n",
        "     if grouped_to_df['Quantity '][i] == max_quan:\n",
        "         print('The customer who made the highest quantity purchase is: ',grouped_to_df['Customer Name'][i],' and the Quantity is: ',grouped_to_df['Quantity '][i])"
      ]
    },
    {
      "cell_type": "code",
      "execution_count": null,
      "metadata": {
        "id": "RrGcYAAkBEVr"
      },
      "outputs": [],
      "source": [
        "rev_max = data['Price'].max()"
      ]
    },
    {
      "cell_type": "code",
      "execution_count": null,
      "metadata": {
        "colab": {
          "base_uri": "https://localhost:8080/"
        },
        "id": "4Kjru6s_MbHR",
        "outputId": "948b18a2-588b-4944-d31e-833c3f6a3d3f"
      },
      "outputs": [
        {
          "output_type": "stream",
          "name": "stdout",
          "text": [
            "The date when the company made the highest revenue\n",
            "2023-01-06\n",
            "2023-01-09\n",
            "2023-01-19\n",
            "2023-01-31\n"
          ]
        }
      ],
      "source": [
        "print(\"The date when the company made the highest revenue\")\n",
        "for i in range(len(data)):\n",
        "  if data['Price'][i]==rev_max:\n",
        "    print(data['Date'][i])"
      ]
    },
    {
      "cell_type": "code",
      "source": [
        "print(\"The total revenue for each product\")\n",
        "grouped_product = data.groupby('Product')['Price'].sum().sort_values(ascending=False)\n",
        "grouped_product_df = pd.DataFrame(grouped_product).reset_index()\n",
        "print(grouped_product_df)"
      ],
      "metadata": {
        "colab": {
          "base_uri": "https://localhost:8080/"
        },
        "id": "LAdWhddq-20P",
        "outputId": "097a712c-3cdd-47e5-ee7a-04b2e72cfc31"
      },
      "execution_count": null,
      "outputs": [
        {
          "output_type": "stream",
          "name": "stdout",
          "text": [
            "The total revenue for each product\n",
            "     Product   Price\n",
            "0  Product D  187.50\n",
            "1  Product C  128.25\n",
            "2  Product B  112.25\n",
            "3  Product A   62.00\n",
            "4  Product M   12.25\n"
          ]
        }
      ]
    },
    {
      "cell_type": "code",
      "source": [
        "import matplotlib.pyplot as plt\n",
        "\n",
        "fig = plt.figure(figsize = (5, 3))\n",
        "\n",
        "# creating the bar plot\n",
        "plt.bar(data['Product'], data['Quantity '], color ='maroon', width = 0.4)\n",
        "plt.xlabel(\"Product\")\n",
        "plt.ylabel(\"Sales per quantity\")\n",
        "plt.title(\"The total sales quantity for each product\")\n",
        "plt.show()"
      ],
      "metadata": {
        "colab": {
          "base_uri": "https://localhost:8080/",
          "height": 333
        },
        "id": "vLNIutuF-3AO",
        "outputId": "c9d24562-455f-4ce9-94bd-a60aa9076d4e"
      },
      "execution_count": null,
      "outputs": [
        {
          "output_type": "display_data",
          "data": {
            "text/plain": [
              "<Figure size 500x300 with 1 Axes>"
            ],
            "image/png": "[encoded data removed]"
          },
          "metadata": {}
        }
      ]
    },
    {
      "cell_type": "code",
      "source": [
        "fig = plt.figure(figsize = (5, 3))\n",
        "plt.plot(data['Date'], data['Price'])\n",
        "plt.xlabel('Time')\n",
        "plt.ylabel('revenue')\n",
        "plt.title('The trend of revenue over time')\n",
        "plt.xticks([data['Date'][0],data['Date'][29]])\n",
        "plt.show"
      ],
      "metadata": {
        "colab": {
          "base_uri": "https://localhost:8080/",
          "height": 350
        },
        "id": "RiQdGG7-CKpW",
        "outputId": "730b4a0d-3cc2-4024-c038-af65a7828c28"
      },
      "execution_count": null,
      "outputs": [
        {
          "output_type": "execute_result",
          "data": {
            "text/plain": [
              "<function matplotlib.pyplot.show(close=None, block=None)>"
            ]
          },
          "metadata": {},
          "execution_count": 39
        },
        {
          "output_type": "display_data",
          "data": {
            "text/plain": [
              "<Figure size 500x300 with 1 Axes>"
            ],
            "image/png": "[encoded data removed]"
          },
          "metadata": {}
        }
      ]
    },
    {
      "cell_type": "code",
      "source": [
        "import seaborn as sns\n",
        "sns.scatterplot(data=data,x='Quantity ',y='Price',hue='Product',palette='tab10')\n",
        "plt.rcParams.update({'figure.figsize':(10,8), 'figure.dpi':100})\n",
        "plt.title('The relationship between quantity sold and price per unit')\n",
        "plt.xlabel('Quantity')\n",
        "plt.ylabel('Price per unit')\n",
        "plt.show()"
      ],
      "metadata": {
        "colab": {
          "base_uri": "https://localhost:8080/",
          "height": 718
        },
        "id": "0BFIdrhoCKro",
        "outputId": "86fca034-32c6-4a1b-995f-438819e40eb2"
      },
      "execution_count": null,
      "outputs": [
        {
          "output_type": "display_data",
          "data": {
            "text/plain": [
              "<Figure size 1000x800 with 1 Axes>"
            ],
            "image/png": "[encoded data removed]"
          },
          "metadata": {}
        }
      ]
    },
    {
      "cell_type": "markdown",
      "source": [
        "# Q3. Basic Python Programming"
      ],
      "metadata": {
        "id": "iAT2pDRyHpHk"
      }
    },
    {
      "cell_type": "code",
      "source": [
        "def max_profit(prices):\n",
        "  prices.reverse()\n",
        "  profit = []\n",
        "  for i in range(len(prices)):\n",
        "    for j in range(i+1,len(prices)):\n",
        "      pro = prices[i]-prices[j]\n",
        "      if pro>0:\n",
        "        profit.append(pro)\n",
        "  if len(profit)==0:\n",
        "    return 0\n",
        "  else:\n",
        "    Maximum_profit = max(profit)\n",
        "    return Maximum_profit\n"
      ],
      "metadata": {
        "id": "hy6IhHtdHzQT"
      },
      "execution_count": null,
      "outputs": []
    },
    {
      "cell_type": "code",
      "source": [
        "#Test case 1\n",
        "prices1 = [7, 1, 5, 3, 6, 4]\n",
        "print(max_profit(prices1))"
      ],
      "metadata": {
        "colab": {
          "base_uri": "https://localhost:8080/"
        },
        "id": "gqdkerbyHzSj",
        "outputId": "3efc909a-6d79-49d3-f6b5-fe0914040918"
      },
      "execution_count": null,
      "outputs": [
        {
          "output_type": "stream",
          "name": "stdout",
          "text": [
            "5\n"
          ]
        }
      ]
    },
    {
      "cell_type": "code",
      "source": [
        "#Test case 2\n",
        "prices2 = [7, 6, 4, 3, 1]\n",
        "print(max_profit(prices2))"
      ],
      "metadata": {
        "colab": {
          "base_uri": "https://localhost:8080/"
        },
        "id": "LJ35MnBzHzU6",
        "outputId": "c7a84e35-eb20-4e16-e944-016f6dc27b5e"
      },
      "execution_count": null,
      "outputs": [
        {
          "output_type": "stream",
          "name": "stdout",
          "text": [
            "0\n"
          ]
        }
      ]
    }
  ],
  "metadata": {
    "colab": {
      "provenance": []
    },
    "kernelspec": {
      "display_name": "Python 3",
      "name": "python3"
    },
    "language_info": {
      "name": "python"
    }
  },
  "nbformat": 4,
  "nbformat_minor": 0
}